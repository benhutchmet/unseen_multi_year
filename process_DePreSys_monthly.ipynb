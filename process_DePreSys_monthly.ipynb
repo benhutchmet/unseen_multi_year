{
 "cells": [
  {
   "cell_type": "markdown",
   "metadata": {},
   "source": [
    "### Processing monthly DePreSys ###\n",
    "\n",
    "For the first lead time winter (DJF), we want to collate all of the monthly means and perform the standard fidelity testing method, as in Thompson et al. (2017, doi: 10.1038/s41467-017-00275-3).\n",
    "\n",
    "For both:\n",
    "\n",
    "* 2m temperature (with a linear detrend/pivot applied)\n",
    "* 10m winds or 850hPa winds\n",
    "\n",
    "First we want to fidelity test the meteorological variables:\n",
    "\n",
    "* 2m temp (UK land mask)\n",
    "* 10m wind speed (UK wind grid box)\n",
    "* 850hPa winds (UK wind grid box)\n",
    "\n",
    "Then we want to quantify the regression relationships between:\n",
    "\n",
    "1) monthly mean temperature and weather dependent electricity demand.\n",
    "2) monthly mean wind speed (10m and 850hPa) and total wind generation\n",
    "\n",
    "Then use these relationships to translate the model met variables into energy variables.\n",
    "\n",
    "So we can explore the relationship between winter mean conditions and the likelihood of bad seasons in terms of both the mean state and also the likelihood of seeing extremes."
   ]
  }
 ],
 "metadata": {
  "language_info": {
   "name": "python"
  }
 },
 "nbformat": 4,
 "nbformat_minor": 2
}
