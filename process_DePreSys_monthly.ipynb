{
 "cells": [
  {
   "cell_type": "markdown",
   "metadata": {},
   "source": [
    "### Processing monthly DePreSys ###\n",
    "\n",
    "For the first lead time winter (DJF), we want to collate all of the monthly means and perform the standard fidelity testing method, as in Thompson et al. (2017, doi: 10.1038/s41467-017-00275-3).\n",
    "\n",
    "For both:\n",
    "\n",
    "* 2m temperature (with a linear detrend/pivot applied)\n",
    "* 10m winds or 850hPa winds\n",
    "\n",
    "First we want to fidelity test the meteorological variables:\n",
    "\n",
    "* 2m temp (UK land mask)\n",
    "* 10m wind speed (UK wind grid box)\n",
    "* 850hPa winds (UK wind grid box)\n",
    "\n",
    "Then we want to quantify the regression relationships between:\n",
    "\n",
    "1) monthly mean temperature and weather dependent electricity demand.\n",
    "2) monthly mean wind speed (10m and 850hPa) and total wind generation\n",
    "\n",
    "Then use these relationships to translate the model met variables into energy variables.\n",
    "\n",
    "So we can explore the relationship between winter mean conditions and the likelihood of bad seasons in terms of both the mean state and also the likelihood of seeing extremes."
   ]
  },
  {
   "cell_type": "code",
   "execution_count": 1,
   "metadata": {},
   "outputs": [
    {
     "name": "stderr",
     "output_type": "stream",
     "text": [
      "/home/users/benhutch/.conda/envs/bens-conda-env2/lib/python3.11/site-packages/pyproj/network.py:59: UserWarning: pyproj unable to set PROJ database path.\n",
      "  _set_context_ca_bundle_path(ca_bundle_path)\n"
     ]
    }
   ],
   "source": [
    "# Local imports\n",
    "import os\n",
    "import sys\n",
    "import time\n",
    "import argparse\n",
    "import calendar\n",
    "\n",
    "# Third-party imports\n",
    "import numpy as np\n",
    "import xarray as xr\n",
    "import matplotlib.pyplot as plt\n",
    "import pandas as pd\n",
    "import shapely.geometry\n",
    "import cartopy.crs as ccrs\n",
    "import cartopy.io.shapereader as shpreader\n",
    "import iris\n",
    "\n",
    "# Specific imports\n",
    "from tqdm import tqdm\n",
    "from datetime import datetime, timedelta"
   ]
  },
  {
   "cell_type": "code",
   "execution_count": 2,
   "metadata": {},
   "outputs": [],
   "source": [
    "sys.path.append(\"/home/users/benhutch/unseen_functions/\")\n",
    "from functions import plot_distributions_fidelity"
   ]
  },
  {
   "cell_type": "code",
   "execution_count": 3,
   "metadata": {},
   "outputs": [],
   "source": [
    "djf_file_path = '/gws/nopw/j04/canari/users/benhutch/unseen/saved_dfs/HadGEM3-GC31-MM_tas_United Kingdom_DJF_1960_2018_dcppA-hindcast_Amon.csv'\n",
    "\n",
    "# check the winters available in this\n",
    "df = pd.read_csv(djf_file_path)"
   ]
  },
  {
   "cell_type": "code",
   "execution_count": 4,
   "metadata": {},
   "outputs": [
    {
     "data": {
      "text/html": [
       "<div>\n",
       "<style scoped>\n",
       "    .dataframe tbody tr th:only-of-type {\n",
       "        vertical-align: middle;\n",
       "    }\n",
       "\n",
       "    .dataframe tbody tr th {\n",
       "        vertical-align: top;\n",
       "    }\n",
       "\n",
       "    .dataframe thead th {\n",
       "        text-align: right;\n",
       "    }\n",
       "</style>\n",
       "<table border=\"1\" class=\"dataframe\">\n",
       "  <thead>\n",
       "    <tr style=\"text-align: right;\">\n",
       "      <th></th>\n",
       "      <th>init_year</th>\n",
       "      <th>member</th>\n",
       "      <th>lead</th>\n",
       "      <th>data</th>\n",
       "    </tr>\n",
       "  </thead>\n",
       "  <tbody>\n",
       "    <tr>\n",
       "      <th>73745</th>\n",
       "      <td>2018</td>\n",
       "      <td>9</td>\n",
       "      <td>121</td>\n",
       "      <td>279.425814</td>\n",
       "    </tr>\n",
       "    <tr>\n",
       "      <th>73746</th>\n",
       "      <td>2018</td>\n",
       "      <td>9</td>\n",
       "      <td>122</td>\n",
       "      <td>275.692171</td>\n",
       "    </tr>\n",
       "    <tr>\n",
       "      <th>73747</th>\n",
       "      <td>2018</td>\n",
       "      <td>9</td>\n",
       "      <td>123</td>\n",
       "      <td>275.730993</td>\n",
       "    </tr>\n",
       "    <tr>\n",
       "      <th>73748</th>\n",
       "      <td>2018</td>\n",
       "      <td>9</td>\n",
       "      <td>124</td>\n",
       "      <td>278.457006</td>\n",
       "    </tr>\n",
       "    <tr>\n",
       "      <th>73749</th>\n",
       "      <td>2018</td>\n",
       "      <td>9</td>\n",
       "      <td>125</td>\n",
       "      <td>277.875223</td>\n",
       "    </tr>\n",
       "  </tbody>\n",
       "</table>\n",
       "</div>"
      ],
      "text/plain": [
       "       init_year  member  lead        data\n",
       "73745       2018       9   121  279.425814\n",
       "73746       2018       9   122  275.692171\n",
       "73747       2018       9   123  275.730993\n",
       "73748       2018       9   124  278.457006\n",
       "73749       2018       9   125  277.875223"
      ]
     },
     "execution_count": 4,
     "metadata": {},
     "output_type": "execute_result"
    }
   ],
   "source": [
    "df.tail()"
   ]
  },
  {
   "cell_type": "code",
   "execution_count": 5,
   "metadata": {},
   "outputs": [
    {
     "name": "stderr",
     "output_type": "stream",
     "text": [
      "/home/users/benhutch/.conda/envs/bens-conda-env2/lib/python3.11/site-packages/iris/fileformats/cf.py:880: IrisCfMissingVarWarning: Missing CF-netCDF measure variable 'areacella', referenced by netCDF variable 'tas'\n",
      "  warnings.warn(\n"
     ]
    }
   ],
   "source": [
    "# import the test file\n",
    "test_file_path = \"/gws/nopw/j04/canari/users/benhutch/dcppA-hindcast/data/tas/HadGEM3-GC31-MM/merged_files/tas_Amon_HadGEM3-GC31-MM_dcppA-hindcast_s1961-r10i1p1f2_gn_196111-197203.nc\"\n",
    "\n",
    "test_cube = iris.load_cube(test_file_path)"
   ]
  },
  {
   "cell_type": "code",
   "execution_count": 6,
   "metadata": {},
   "outputs": [
    {
     "data": {
      "text/plain": [
       "(125, 324, 432)"
      ]
     },
     "execution_count": 6,
     "metadata": {},
     "output_type": "execute_result"
    }
   ],
   "source": [
    "test_cube.shape"
   ]
  },
  {
   "cell_type": "code",
   "execution_count": 7,
   "metadata": {},
   "outputs": [
    {
     "name": "stdout",
     "output_type": "stream",
     "text": [
      "1961-11-16 00:00:00\n",
      "1961-12-16 00:00:00\n",
      "1962-01-16 00:00:00\n",
      "1962-02-16 00:00:00\n",
      "1962-03-16 00:00:00\n",
      "1962-04-16 00:00:00\n",
      "1962-05-16 00:00:00\n",
      "1962-06-16 00:00:00\n",
      "1962-07-16 00:00:00\n",
      "1962-08-16 00:00:00\n",
      "1962-09-16 00:00:00\n",
      "1962-10-16 00:00:00\n",
      "1962-11-16 00:00:00\n",
      "1962-12-16 00:00:00\n",
      "1963-01-16 00:00:00\n",
      "1963-02-16 00:00:00\n",
      "1963-03-16 00:00:00\n",
      "1963-04-16 00:00:00\n",
      "1963-05-16 00:00:00\n",
      "1963-06-16 00:00:00\n",
      "1963-07-16 00:00:00\n",
      "1963-08-16 00:00:00\n",
      "1963-09-16 00:00:00\n",
      "1963-10-16 00:00:00\n",
      "1963-11-16 00:00:00\n",
      "1963-12-16 00:00:00\n",
      "1964-01-16 00:00:00\n",
      "1964-02-16 00:00:00\n",
      "1964-03-16 00:00:00\n",
      "1964-04-16 00:00:00\n",
      "1964-05-16 00:00:00\n",
      "1964-06-16 00:00:00\n",
      "1964-07-16 00:00:00\n",
      "1964-08-16 00:00:00\n",
      "1964-09-16 00:00:00\n",
      "1964-10-16 00:00:00\n",
      "1964-11-16 00:00:00\n",
      "1964-12-16 00:00:00\n",
      "1965-01-16 00:00:00\n",
      "1965-02-16 00:00:00\n",
      "1965-03-16 00:00:00\n",
      "1965-04-16 00:00:00\n",
      "1965-05-16 00:00:00\n",
      "1965-06-16 00:00:00\n",
      "1965-07-16 00:00:00\n",
      "1965-08-16 00:00:00\n",
      "1965-09-16 00:00:00\n",
      "1965-10-16 00:00:00\n",
      "1965-11-16 00:00:00\n",
      "1965-12-16 00:00:00\n",
      "1966-01-16 00:00:00\n",
      "1966-02-16 00:00:00\n",
      "1966-03-16 00:00:00\n",
      "1966-04-16 00:00:00\n",
      "1966-05-16 00:00:00\n",
      "1966-06-16 00:00:00\n",
      "1966-07-16 00:00:00\n",
      "1966-08-16 00:00:00\n",
      "1966-09-16 00:00:00\n",
      "1966-10-16 00:00:00\n",
      "1966-11-16 00:00:00\n",
      "1966-12-16 00:00:00\n",
      "1967-01-16 00:00:00\n",
      "1967-02-16 00:00:00\n",
      "1967-03-16 00:00:00\n",
      "1967-04-16 00:00:00\n",
      "1967-05-16 00:00:00\n",
      "1967-06-16 00:00:00\n",
      "1967-07-16 00:00:00\n",
      "1967-08-16 00:00:00\n",
      "1967-09-16 00:00:00\n",
      "1967-10-16 00:00:00\n",
      "1967-11-16 00:00:00\n",
      "1967-12-16 00:00:00\n",
      "1968-01-16 00:00:00\n",
      "1968-02-16 00:00:00\n",
      "1968-03-16 00:00:00\n",
      "1968-04-16 00:00:00\n",
      "1968-05-16 00:00:00\n",
      "1968-06-16 00:00:00\n",
      "1968-07-16 00:00:00\n",
      "1968-08-16 00:00:00\n",
      "1968-09-16 00:00:00\n",
      "1968-10-16 00:00:00\n",
      "1968-11-16 00:00:00\n",
      "1968-12-16 00:00:00\n",
      "1969-01-16 00:00:00\n",
      "1969-02-16 00:00:00\n",
      "1969-03-16 00:00:00\n",
      "1969-04-16 00:00:00\n",
      "1969-05-16 00:00:00\n",
      "1969-06-16 00:00:00\n",
      "1969-07-16 00:00:00\n",
      "1969-08-16 00:00:00\n",
      "1969-09-16 00:00:00\n",
      "1969-10-16 00:00:00\n",
      "1969-11-16 00:00:00\n",
      "1969-12-16 00:00:00\n",
      "1970-01-16 00:00:00\n",
      "1970-02-16 00:00:00\n",
      "1970-03-16 00:00:00\n",
      "1970-04-16 00:00:00\n",
      "1970-05-16 00:00:00\n",
      "1970-06-16 00:00:00\n",
      "1970-07-16 00:00:00\n",
      "1970-08-16 00:00:00\n",
      "1970-09-16 00:00:00\n",
      "1970-10-16 00:00:00\n",
      "1970-11-16 00:00:00\n",
      "1970-12-16 00:00:00\n",
      "1971-01-16 00:00:00\n",
      "1971-02-16 00:00:00\n",
      "1971-03-16 00:00:00\n",
      "1971-04-16 00:00:00\n",
      "1971-05-16 00:00:00\n",
      "1971-06-16 00:00:00\n",
      "1971-07-16 00:00:00\n",
      "1971-08-16 00:00:00\n",
      "1971-09-16 00:00:00\n",
      "1971-10-16 00:00:00\n",
      "1971-11-16 00:00:00\n",
      "1971-12-16 00:00:00\n",
      "1972-01-16 00:00:00\n",
      "1972-02-16 00:00:00\n",
      "1972-03-16 00:00:00\n"
     ]
    }
   ],
   "source": [
    "# Extract the time coordinate\n",
    "time_coord = test_cube.coord('time')\n",
    "\n",
    "# Convert the time points to a human-readable format\n",
    "time_points = time_coord.units.num2date(time_coord.points)\n",
    "\n",
    "# Print the time values\n",
    "for time_point in time_points:\n",
    "    print(time_point)"
   ]
  },
  {
   "cell_type": "markdown",
   "metadata": {},
   "source": [
    "Load in the CANARI data for seasonal testing"
   ]
  },
  {
   "cell_type": "code",
   "execution_count": 8,
   "metadata": {},
   "outputs": [],
   "source": [
    "# set up canari_years\n",
    "canari_years = np.arange(1950, 2014 + 1)\n",
    "canari_period = \"HIST2\"\n",
    "\n",
    "# Set up the output directory for the dfs\n",
    "output_dir_dfs = \"/gws/nopw/j04/canari/users/benhutch/unseen/saved_dfs\""
   ]
  },
  {
   "cell_type": "code",
   "execution_count": 9,
   "metadata": {},
   "outputs": [
    {
     "name": "stderr",
     "output_type": "stream",
     "text": [
      "100%|██████████| 65/65 [00:00<00:00, 132.53it/s]\n"
     ]
    }
   ],
   "source": [
    "# set up the empty dataframe\n",
    "model_df_full_canari = pd.DataFrame()\n",
    "\n",
    "# Check that there are csv files for all of the years\n",
    "# loop ovber the years\n",
    "for year in tqdm(canari_years):\n",
    "    # create the fpath\n",
    "    fpath = os.path.join(output_dir_dfs, f\"canari-le-tas-United_Kingdom-{year}-{canari_period}.csv\")\n",
    "    # check if the file exists\n",
    "    if not os.path.exists(fpath):\n",
    "        print(f\"Missing file for {year}\")\n",
    "        sys.exit()\n",
    "\n",
    "    # Load the dataframe\n",
    "    model_df_this = pd.read_csv(fpath)\n",
    "\n",
    "    # concatenate the dataframes\n",
    "    model_df_full_canari = pd.concat([model_df_full_canari, model_df_this], ignore_index=True)"
   ]
  },
  {
   "cell_type": "code",
   "execution_count": 10,
   "metadata": {},
   "outputs": [],
   "source": [
    "# remove the hh:mm:ss from the time\n",
    "# time is a str\n",
    "model_df_full_canari['time'] = model_df_full_canari['time'].str.split(\" \").str[0]\n",
    "\n",
    "# subset the canari model data to D, J, F\n",
    "# where time is a string\n",
    "# in the format YYYY-MM-DD\n",
    "model_df_full_canari_djf = model_df_full_canari[model_df_full_canari['time'].str.split(\"-\").str[1].isin([\"12\", \"01\", \"02\"])]"
   ]
  },
  {
   "cell_type": "code",
   "execution_count": 11,
   "metadata": {},
   "outputs": [
    {
     "data": {
      "text/html": [
       "<div>\n",
       "<style scoped>\n",
       "    .dataframe tbody tr th:only-of-type {\n",
       "        vertical-align: middle;\n",
       "    }\n",
       "\n",
       "    .dataframe tbody tr th {\n",
       "        vertical-align: top;\n",
       "    }\n",
       "\n",
       "    .dataframe thead th {\n",
       "        text-align: right;\n",
       "    }\n",
       "</style>\n",
       "<table border=\"1\" class=\"dataframe\">\n",
       "  <thead>\n",
       "    <tr style=\"text-align: right;\">\n",
       "      <th></th>\n",
       "      <th>member</th>\n",
       "      <th>time</th>\n",
       "      <th>tas</th>\n",
       "    </tr>\n",
       "  </thead>\n",
       "  <tbody>\n",
       "    <tr>\n",
       "      <th>935995</th>\n",
       "      <td>40</td>\n",
       "      <td>2014-12-26</td>\n",
       "      <td>276.647215</td>\n",
       "    </tr>\n",
       "    <tr>\n",
       "      <th>935996</th>\n",
       "      <td>40</td>\n",
       "      <td>2014-12-27</td>\n",
       "      <td>274.838709</td>\n",
       "    </tr>\n",
       "    <tr>\n",
       "      <th>935997</th>\n",
       "      <td>40</td>\n",
       "      <td>2014-12-28</td>\n",
       "      <td>275.233602</td>\n",
       "    </tr>\n",
       "    <tr>\n",
       "      <th>935998</th>\n",
       "      <td>40</td>\n",
       "      <td>2014-12-29</td>\n",
       "      <td>275.932057</td>\n",
       "    </tr>\n",
       "    <tr>\n",
       "      <th>935999</th>\n",
       "      <td>40</td>\n",
       "      <td>2014-12-30</td>\n",
       "      <td>275.815959</td>\n",
       "    </tr>\n",
       "  </tbody>\n",
       "</table>\n",
       "</div>"
      ],
      "text/plain": [
       "        member        time         tas\n",
       "935995      40  2014-12-26  276.647215\n",
       "935996      40  2014-12-27  274.838709\n",
       "935997      40  2014-12-28  275.233602\n",
       "935998      40  2014-12-29  275.932057\n",
       "935999      40  2014-12-30  275.815959"
      ]
     },
     "execution_count": 11,
     "metadata": {},
     "output_type": "execute_result"
    }
   ],
   "source": [
    "model_df_full_canari_djf.tail()"
   ]
  },
  {
   "cell_type": "code",
   "execution_count": 12,
   "metadata": {},
   "outputs": [
    {
     "name": "stderr",
     "output_type": "stream",
     "text": [
      "/tmp/ipykernel_1423814/1244228867.py:13: SettingWithCopyWarning: \n",
      "A value is trying to be set on a copy of a slice from a DataFrame.\n",
      "Try using .loc[row_indexer,col_indexer] = value instead\n",
      "\n",
      "See the caveats in the documentation: https://pandas.pydata.org/pandas-docs/stable/user_guide/indexing.html#returning-a-view-versus-a-copy\n",
      "  model_df_full_canari_djf[\"effective_dec_year\"] = model_df_full_canari_djf.apply(determine_effective_dec_year, axis=1)\n"
     ]
    }
   ],
   "source": [
    "# determine the effective dec year for canari\n",
    "# Define the custom function to determine the effective_dec_year\n",
    "def determine_effective_dec_year(row):\n",
    "    year = int(row[\"time\"].split(\"-\")[0])\n",
    "    month = row[\"time\"].split(\"-\")[1]\n",
    "    if month in [\"01\", \"02\", \"03\"]:\n",
    "        return year - 1\n",
    "    elif month in [\"10\", \"11\", \"12\"]:\n",
    "        return year\n",
    "    else:\n",
    "        return None  # or some default value if needed\n",
    "\n",
    "model_df_full_canari_djf[\"effective_dec_year\"] = model_df_full_canari_djf.apply(determine_effective_dec_year, axis=1)"
   ]
  },
  {
   "cell_type": "markdown",
   "metadata": {},
   "source": [
    "First DJF winter is lead months 2, 3, and 4. "
   ]
  },
  {
   "cell_type": "code",
   "execution_count": 13,
   "metadata": {},
   "outputs": [],
   "source": [
    "# # Subset the dataframe to leads 2, 3, and 4\n",
    "df_subset = df[df['lead'].isin([2, 3, 4])]"
   ]
  },
  {
   "cell_type": "code",
   "execution_count": 14,
   "metadata": {},
   "outputs": [
    {
     "data": {
      "text/plain": [
       "array([2, 3, 4])"
      ]
     },
     "execution_count": 14,
     "metadata": {},
     "output_type": "execute_result"
    }
   ],
   "source": [
    "df_subset['lead'].unique()"
   ]
  },
  {
   "cell_type": "code",
   "execution_count": 15,
   "metadata": {},
   "outputs": [],
   "source": [
    "# # Set up a winter years\n",
    "# winter_years = np.arange(1, 11 + 1)\n",
    "\n",
    "# # Set up an empty dataframe to store the results\n",
    "# df_winters = pd.DataFrame()\n",
    "\n",
    "# # Loop over the winter years\n",
    "# for i, wyear in enumerate(winter_years):\n",
    "#     leads_this = np.arange((i * 12) + 2, (i * 12) + 5)\n",
    "\n",
    "#     # Subset the df to the winter year\n",
    "#     df_subset = df[df['lead'].isin(leads_this)]\n",
    "\n",
    "#     # Add a new column for the winter year\n",
    "#     df_subset['winter_year'] = wyear\n",
    "\n",
    "#     # concatenate the results\n",
    "#     df_winters = pd.concat([df_winters, df_subset])"
   ]
  },
  {
   "cell_type": "code",
   "execution_count": 16,
   "metadata": {},
   "outputs": [],
   "source": [
    "# limit to init years 1960 to 2017\n",
    "df_subset = df_subset[df_subset['init_year'].isin(range(1960, 2018))]"
   ]
  },
  {
   "cell_type": "code",
   "execution_count": 17,
   "metadata": {},
   "outputs": [],
   "source": [
    "# set up effective dec year for df_subset\n",
    "df_subset['effective_dec_year'] = df_subset['init_year'] + 1"
   ]
  },
  {
   "cell_type": "code",
   "execution_count": 18,
   "metadata": {},
   "outputs": [
    {
     "data": {
      "text/html": [
       "<div>\n",
       "<style scoped>\n",
       "    .dataframe tbody tr th:only-of-type {\n",
       "        vertical-align: middle;\n",
       "    }\n",
       "\n",
       "    .dataframe tbody tr th {\n",
       "        vertical-align: top;\n",
       "    }\n",
       "\n",
       "    .dataframe thead th {\n",
       "        text-align: right;\n",
       "    }\n",
       "</style>\n",
       "<table border=\"1\" class=\"dataframe\">\n",
       "  <thead>\n",
       "    <tr style=\"text-align: right;\">\n",
       "      <th></th>\n",
       "      <th>init_year</th>\n",
       "      <th>member</th>\n",
       "      <th>lead</th>\n",
       "      <th>data</th>\n",
       "      <th>effective_dec_year</th>\n",
       "    </tr>\n",
       "  </thead>\n",
       "  <tbody>\n",
       "    <tr>\n",
       "      <th>72252</th>\n",
       "      <td>2017</td>\n",
       "      <td>8</td>\n",
       "      <td>3</td>\n",
       "      <td>279.219407</td>\n",
       "      <td>2018</td>\n",
       "    </tr>\n",
       "    <tr>\n",
       "      <th>72253</th>\n",
       "      <td>2017</td>\n",
       "      <td>8</td>\n",
       "      <td>4</td>\n",
       "      <td>280.187978</td>\n",
       "      <td>2018</td>\n",
       "    </tr>\n",
       "    <tr>\n",
       "      <th>72376</th>\n",
       "      <td>2017</td>\n",
       "      <td>9</td>\n",
       "      <td>2</td>\n",
       "      <td>279.175587</td>\n",
       "      <td>2018</td>\n",
       "    </tr>\n",
       "    <tr>\n",
       "      <th>72377</th>\n",
       "      <td>2017</td>\n",
       "      <td>9</td>\n",
       "      <td>3</td>\n",
       "      <td>280.192167</td>\n",
       "      <td>2018</td>\n",
       "    </tr>\n",
       "    <tr>\n",
       "      <th>72378</th>\n",
       "      <td>2017</td>\n",
       "      <td>9</td>\n",
       "      <td>4</td>\n",
       "      <td>279.058393</td>\n",
       "      <td>2018</td>\n",
       "    </tr>\n",
       "  </tbody>\n",
       "</table>\n",
       "</div>"
      ],
      "text/plain": [
       "       init_year  member  lead        data  effective_dec_year\n",
       "72252       2017       8     3  279.219407                2018\n",
       "72253       2017       8     4  280.187978                2018\n",
       "72376       2017       9     2  279.175587                2018\n",
       "72377       2017       9     3  280.192167                2018\n",
       "72378       2017       9     4  279.058393                2018"
      ]
     },
     "execution_count": 18,
     "metadata": {},
     "output_type": "execute_result"
    }
   ],
   "source": [
    "df_subset.tail()"
   ]
  },
  {
   "cell_type": "code",
   "execution_count": 19,
   "metadata": {},
   "outputs": [
    {
     "data": {
      "text/plain": [
       "array([2, 3, 4])"
      ]
     },
     "execution_count": 19,
     "metadata": {},
     "output_type": "execute_result"
    }
   ],
   "source": [
    "df_subset[\"lead\"].unique()"
   ]
  },
  {
   "cell_type": "code",
   "execution_count": 20,
   "metadata": {},
   "outputs": [],
   "source": [
    "# # limit the df winters to init years between 1960 and 2017\n",
    "# df_winters = df_winters[df_winters['init_year'].isin(df_subset[\"effective_dec_year\"].unique())]"
   ]
  },
  {
   "cell_type": "code",
   "execution_count": 21,
   "metadata": {},
   "outputs": [
    {
     "name": "stderr",
     "output_type": "stream",
     "text": [
      "100%|██████████| 59/59 [00:01<00:00, 51.40it/s]\n"
     ]
    }
   ],
   "source": [
    "# load all of the haduk obs data\n",
    "# Set up the years\n",
    "years = np.arange(1960, 2018 + 1)\n",
    "\n",
    "# Set up the base path\n",
    "base_path = \"/gws/nopw/j04/canari/users/benhutch/unseen/saved_dfs/HadUK-Grid/\"\n",
    "\n",
    "# Set up the empty dataframe\n",
    "obs_df_full_haduk = pd.DataFrame()\n",
    "\n",
    "# Loop over the years\n",
    "for year in tqdm(years):\n",
    "    # Load the dataframe\n",
    "    obs_df_this = pd.read_csv(os.path.join(base_path, f\"HadUK-Grid_60km_tas_{year}_UK_landmask.csv\"))\n",
    "\n",
    "    # Concatenate the dataframes\n",
    "    obs_df_full_haduk = pd.concat([obs_df_full_haduk, obs_df_this], ignore_index=True)"
   ]
  },
  {
   "cell_type": "code",
   "execution_count": 23,
   "metadata": {},
   "outputs": [
    {
     "data": {
      "text/html": [
       "<div>\n",
       "<style scoped>\n",
       "    .dataframe tbody tr th:only-of-type {\n",
       "        vertical-align: middle;\n",
       "    }\n",
       "\n",
       "    .dataframe tbody tr th {\n",
       "        vertical-align: top;\n",
       "    }\n",
       "\n",
       "    .dataframe thead th {\n",
       "        text-align: right;\n",
       "    }\n",
       "</style>\n",
       "<table border=\"1\" class=\"dataframe\">\n",
       "  <thead>\n",
       "    <tr style=\"text-align: right;\">\n",
       "      <th></th>\n",
       "      <th>time</th>\n",
       "      <th>tas</th>\n",
       "    </tr>\n",
       "  </thead>\n",
       "  <tbody>\n",
       "    <tr>\n",
       "      <th>703</th>\n",
       "      <td>2018-08</td>\n",
       "      <td>15.354742</td>\n",
       "    </tr>\n",
       "    <tr>\n",
       "      <th>704</th>\n",
       "      <td>2018-09</td>\n",
       "      <td>12.471297</td>\n",
       "    </tr>\n",
       "    <tr>\n",
       "      <th>705</th>\n",
       "      <td>2018-10</td>\n",
       "      <td>9.563692</td>\n",
       "    </tr>\n",
       "    <tr>\n",
       "      <th>706</th>\n",
       "      <td>2018-11</td>\n",
       "      <td>7.225369</td>\n",
       "    </tr>\n",
       "    <tr>\n",
       "      <th>707</th>\n",
       "      <td>2018-12</td>\n",
       "      <td>5.722332</td>\n",
       "    </tr>\n",
       "  </tbody>\n",
       "</table>\n",
       "</div>"
      ],
      "text/plain": [
       "        time        tas\n",
       "703  2018-08  15.354742\n",
       "704  2018-09  12.471297\n",
       "705  2018-10   9.563692\n",
       "706  2018-11   7.225369\n",
       "707  2018-12   5.722332"
      ]
     },
     "execution_count": 23,
     "metadata": {},
     "output_type": "execute_result"
    }
   ],
   "source": [
    "obs_df_full_haduk.tail()"
   ]
  },
  {
   "cell_type": "code",
   "execution_count": 24,
   "metadata": {},
   "outputs": [],
   "source": [
    "# import the obs\n",
    "obs_path = \"/gws/nopw/j04/canari/users/benhutch/unseen/saved_dfs/ERA5_obs_tas_United Kingdom_DJF_1960_2018.csv\"\n",
    "\n",
    "obs_df = pd.read_csv(obs_path)"
   ]
  },
  {
   "cell_type": "code",
   "execution_count": 25,
   "metadata": {},
   "outputs": [
    {
     "data": {
      "text/html": [
       "<div>\n",
       "<style scoped>\n",
       "    .dataframe tbody tr th:only-of-type {\n",
       "        vertical-align: middle;\n",
       "    }\n",
       "\n",
       "    .dataframe tbody tr th {\n",
       "        vertical-align: top;\n",
       "    }\n",
       "\n",
       "    .dataframe thead th {\n",
       "        text-align: right;\n",
       "    }\n",
       "</style>\n",
       "<table border=\"1\" class=\"dataframe\">\n",
       "  <thead>\n",
       "    <tr style=\"text-align: right;\">\n",
       "      <th></th>\n",
       "      <th>time</th>\n",
       "      <th>obs</th>\n",
       "    </tr>\n",
       "  </thead>\n",
       "  <tbody>\n",
       "    <tr>\n",
       "      <th>0</th>\n",
       "      <td>1960-12-01</td>\n",
       "      <td>276.477476</td>\n",
       "    </tr>\n",
       "    <tr>\n",
       "      <th>1</th>\n",
       "      <td>1961-01-01</td>\n",
       "      <td>275.904981</td>\n",
       "    </tr>\n",
       "    <tr>\n",
       "      <th>2</th>\n",
       "      <td>1961-02-01</td>\n",
       "      <td>279.151625</td>\n",
       "    </tr>\n",
       "    <tr>\n",
       "      <th>3</th>\n",
       "      <td>1961-03-01</td>\n",
       "      <td>280.353685</td>\n",
       "    </tr>\n",
       "    <tr>\n",
       "      <th>4</th>\n",
       "      <td>1961-04-01</td>\n",
       "      <td>281.654381</td>\n",
       "    </tr>\n",
       "  </tbody>\n",
       "</table>\n",
       "</div>"
      ],
      "text/plain": [
       "         time         obs\n",
       "0  1960-12-01  276.477476\n",
       "1  1961-01-01  275.904981\n",
       "2  1961-02-01  279.151625\n",
       "3  1961-03-01  280.353685\n",
       "4  1961-04-01  281.654381"
      ]
     },
     "execution_count": 25,
     "metadata": {},
     "output_type": "execute_result"
    }
   ],
   "source": [
    "obs_df.head()"
   ]
  },
  {
   "cell_type": "code",
   "execution_count": 26,
   "metadata": {},
   "outputs": [],
   "source": [
    "# limit obs df between 1960-11-31 and 2018-03-01\n",
    "obs_df = obs_df[(obs_df['time'] >= '1961-09-30') & (obs_df['time'] <= '2018-04-01')]"
   ]
  },
  {
   "cell_type": "code",
   "execution_count": 27,
   "metadata": {},
   "outputs": [],
   "source": [
    "# Limit the obs df haduk to the same period\n",
    "obs_df_full_haduk = obs_df_full_haduk[(obs_df_full_haduk['time'] >= '1961-09-30') & (obs_df_full_haduk['time'] <= '2018-04-01')]"
   ]
  },
  {
   "cell_type": "code",
   "execution_count": 28,
   "metadata": {},
   "outputs": [],
   "source": [
    "# Subset to only include months 12, 1, and 2\n",
    "obs_df['month'] = pd.DatetimeIndex(obs_df['time']).month\n",
    "\n",
    "obs_df = obs_df[obs_df['month'].isin([12, 1, 2])]"
   ]
  },
  {
   "cell_type": "code",
   "execution_count": 29,
   "metadata": {},
   "outputs": [],
   "source": [
    "# do the same for the haduk obs\n",
    "obs_df_full_haduk['month'] = pd.DatetimeIndex(obs_df_full_haduk['time']).month\n",
    "\n",
    "obs_df_full_haduk = obs_df_full_haduk[obs_df_full_haduk['month'].isin([12, 1, 2])]"
   ]
  },
  {
   "cell_type": "code",
   "execution_count": 30,
   "metadata": {},
   "outputs": [],
   "source": [
    "# ensure that time is a valid datetime\n",
    "obs_df['time'] = pd.to_datetime(obs_df['time'])"
   ]
  },
  {
   "cell_type": "code",
   "execution_count": 31,
   "metadata": {},
   "outputs": [],
   "source": [
    "# same for haduk obs\n",
    "obs_df_full_haduk['time'] = pd.to_datetime(obs_df_full_haduk['time'])"
   ]
  },
  {
   "cell_type": "code",
   "execution_count": 32,
   "metadata": {},
   "outputs": [],
   "source": [
    "def determine_effective_dec_year(row):\n",
    "    year = row[\"time\"].year\n",
    "    month = row[\"time\"].month\n",
    "    if month in [1, 2, 3]:\n",
    "        return year - 1\n",
    "    elif month in [10, 11, 12]:\n",
    "        return year\n",
    "    else:\n",
    "        return None\n",
    "    \n",
    "obs_df['effective_dec_year'] = obs_df.apply(determine_effective_dec_year, axis=1)\n",
    "obs_df_full_haduk['effective_dec_year'] = obs_df_full_haduk.apply(determine_effective_dec_year, axis=1)"
   ]
  },
  {
   "cell_type": "code",
   "execution_count": 33,
   "metadata": {},
   "outputs": [
    {
     "data": {
      "text/plain": [
       "array([1961, 1962, 1963, 1964, 1965, 1966, 1967, 1968, 1969, 1970, 1971,\n",
       "       1972, 1973, 1974, 1975, 1976, 1977, 1978, 1979, 1980, 1981, 1982,\n",
       "       1983, 1984, 1985, 1986, 1987, 1988, 1989, 1990, 1991, 1992, 1993,\n",
       "       1994, 1995, 1996, 1997, 1998, 1999, 2000, 2001, 2002, 2003, 2004,\n",
       "       2005, 2006, 2007, 2008, 2009, 2010, 2011, 2012, 2013, 2014, 2015,\n",
       "       2016, 2017])"
      ]
     },
     "execution_count": 33,
     "metadata": {},
     "output_type": "execute_result"
    }
   ],
   "source": [
    "# print the effective dec years in the obs df\n",
    "obs_df['effective_dec_year'].unique()"
   ]
  },
  {
   "cell_type": "code",
   "execution_count": 34,
   "metadata": {},
   "outputs": [
    {
     "data": {
      "text/plain": [
       "array([1961, 1962, 1963, 1964, 1965, 1966, 1967, 1968, 1969, 1970, 1971,\n",
       "       1972, 1973, 1974, 1975, 1976, 1977, 1978, 1979, 1980, 1981, 1982,\n",
       "       1983, 1984, 1985, 1986, 1987, 1988, 1989, 1990, 1991, 1992, 1993,\n",
       "       1994, 1995, 1996, 1997, 1998, 1999, 2000, 2001, 2002, 2003, 2004,\n",
       "       2005, 2006, 2007, 2008, 2009, 2010, 2011, 2012, 2013, 2014, 2015,\n",
       "       2016, 2017])"
      ]
     },
     "execution_count": 34,
     "metadata": {},
     "output_type": "execute_result"
    }
   ],
   "source": [
    "obs_df_full_haduk['effective_dec_year'].unique()"
   ]
  },
  {
   "cell_type": "code",
   "execution_count": 35,
   "metadata": {},
   "outputs": [
    {
     "data": {
      "text/plain": [
       "array([1949, 1950, 1951, 1952, 1953, 1954, 1955, 1956, 1957, 1958, 1959,\n",
       "       1960, 1961, 1962, 1963, 1964, 1965, 1966, 1967, 1968, 1969, 1970,\n",
       "       1971, 1972, 1973, 1974, 1975, 1976, 1977, 1978, 1979, 1980, 1981,\n",
       "       1982, 1983, 1984, 1985, 1986, 1987, 1988, 1989, 1990, 1991, 1992,\n",
       "       1993, 1994, 1995, 1996, 1997, 1998, 1999, 2000, 2001, 2002, 2003,\n",
       "       2004, 2005, 2006, 2007, 2008, 2009, 2010, 2011, 2012, 2013, 2014])"
      ]
     },
     "execution_count": 35,
     "metadata": {},
     "output_type": "execute_result"
    }
   ],
   "source": [
    "model_df_full_canari_djf[\"effective_dec_year\"].unique()"
   ]
  },
  {
   "cell_type": "code",
   "execution_count": 36,
   "metadata": {},
   "outputs": [],
   "source": [
    "# limit df_subset to the effective dec years in the obs df\n",
    "df_subset = df_subset[df_subset['effective_dec_year'].isin(obs_df['effective_dec_year'].unique())]"
   ]
  },
  {
   "cell_type": "code",
   "execution_count": 37,
   "metadata": {},
   "outputs": [
    {
     "data": {
      "text/plain": [
       "array([1961, 1962, 1963, 1964, 1965, 1966, 1967, 1968, 1969, 1970, 1971,\n",
       "       1972, 1973, 1974, 1975, 1976, 1977, 1978, 1979, 1980, 1981, 1982,\n",
       "       1983, 1984, 1985, 1986, 1987, 1988, 1989, 1990, 1991, 1992, 1993,\n",
       "       1994, 1995, 1996, 1997, 1998, 1999, 2000, 2001, 2002, 2003, 2004,\n",
       "       2005, 2006, 2007, 2008, 2009, 2010, 2011, 2012, 2013, 2014, 2015,\n",
       "       2016, 2017])"
      ]
     },
     "execution_count": 37,
     "metadata": {},
     "output_type": "execute_result"
    }
   ],
   "source": [
    "df_subset['effective_dec_year'].unique()"
   ]
  },
  {
   "cell_type": "code",
   "execution_count": 45,
   "metadata": {},
   "outputs": [],
   "source": [
    "# set up the overlapping years\n",
    "overlapping_years = np.arange(1961, 2014 + 1)\n",
    "\n",
    "# apply this to the obs\n",
    "obs_df_canari = obs_df[obs_df['effective_dec_year'].isin(overlapping_years)]"
   ]
  },
  {
   "cell_type": "code",
   "execution_count": 46,
   "metadata": {},
   "outputs": [],
   "source": [
    "# apply this to the canari dataset\n",
    "model_df_full_canari_djf = model_df_full_canari_djf[model_df_full_canari_djf['effective_dec_year'].isin(overlapping_years)]"
   ]
  },
  {
   "cell_type": "code",
   "execution_count": 47,
   "metadata": {},
   "outputs": [
    {
     "data": {
      "text/html": [
       "<div>\n",
       "<style scoped>\n",
       "    .dataframe tbody tr th:only-of-type {\n",
       "        vertical-align: middle;\n",
       "    }\n",
       "\n",
       "    .dataframe tbody tr th {\n",
       "        vertical-align: top;\n",
       "    }\n",
       "\n",
       "    .dataframe thead th {\n",
       "        text-align: right;\n",
       "    }\n",
       "</style>\n",
       "<table border=\"1\" class=\"dataframe\">\n",
       "  <thead>\n",
       "    <tr style=\"text-align: right;\">\n",
       "      <th></th>\n",
       "      <th>time</th>\n",
       "      <th>obs</th>\n",
       "      <th>month</th>\n",
       "      <th>effective_dec_year</th>\n",
       "      <th>tas_c</th>\n",
       "    </tr>\n",
       "  </thead>\n",
       "  <tbody>\n",
       "    <tr>\n",
       "      <th>12</th>\n",
       "      <td>1961-12-01</td>\n",
       "      <td>275.360698</td>\n",
       "      <td>12</td>\n",
       "      <td>1961</td>\n",
       "      <td>2.210698</td>\n",
       "    </tr>\n",
       "    <tr>\n",
       "      <th>13</th>\n",
       "      <td>1962-01-01</td>\n",
       "      <td>276.763399</td>\n",
       "      <td>1</td>\n",
       "      <td>1961</td>\n",
       "      <td>3.613399</td>\n",
       "    </tr>\n",
       "    <tr>\n",
       "      <th>14</th>\n",
       "      <td>1962-02-01</td>\n",
       "      <td>276.684808</td>\n",
       "      <td>2</td>\n",
       "      <td>1961</td>\n",
       "      <td>3.534808</td>\n",
       "    </tr>\n",
       "    <tr>\n",
       "      <th>24</th>\n",
       "      <td>1962-12-01</td>\n",
       "      <td>275.352374</td>\n",
       "      <td>12</td>\n",
       "      <td>1962</td>\n",
       "      <td>2.202374</td>\n",
       "    </tr>\n",
       "    <tr>\n",
       "      <th>25</th>\n",
       "      <td>1963-01-01</td>\n",
       "      <td>270.720713</td>\n",
       "      <td>1</td>\n",
       "      <td>1962</td>\n",
       "      <td>-2.429287</td>\n",
       "    </tr>\n",
       "  </tbody>\n",
       "</table>\n",
       "</div>"
      ],
      "text/plain": [
       "         time         obs  month  effective_dec_year     tas_c\n",
       "12 1961-12-01  275.360698     12                1961  2.210698\n",
       "13 1962-01-01  276.763399      1                1961  3.613399\n",
       "14 1962-02-01  276.684808      2                1961  3.534808\n",
       "24 1962-12-01  275.352374     12                1962  2.202374\n",
       "25 1963-01-01  270.720713      1                1962 -2.429287"
      ]
     },
     "execution_count": 47,
     "metadata": {},
     "output_type": "execute_result"
    }
   ],
   "source": [
    "obs_df_canari.head()"
   ]
  },
  {
   "cell_type": "code",
   "execution_count": 51,
   "metadata": {},
   "outputs": [],
   "source": [
    "# Set up time as a datetime in the canari df\n",
    "# Set up a new column for month in the canari df\n",
    "def month_col_canari(row):\n",
    "    return int(row['time'].split(\"-\")[1])\n",
    "\n",
    "def year_col_canari(row):\n",
    "    return int(row['time'].split(\"-\")[0])\n",
    "\n",
    "model_df_full_canari_djf['month'] = model_df_full_canari_djf.apply(month_col_canari, axis=1)\n",
    "model_df_full_canari_djf['year'] = model_df_full_canari_djf.apply(year_col_canari, axis=1)"
   ]
  },
  {
   "cell_type": "code",
   "execution_count": 52,
   "metadata": {},
   "outputs": [
    {
     "data": {
      "text/html": [
       "<div>\n",
       "<style scoped>\n",
       "    .dataframe tbody tr th:only-of-type {\n",
       "        vertical-align: middle;\n",
       "    }\n",
       "\n",
       "    .dataframe tbody tr th {\n",
       "        vertical-align: top;\n",
       "    }\n",
       "\n",
       "    .dataframe thead th {\n",
       "        text-align: right;\n",
       "    }\n",
       "</style>\n",
       "<table border=\"1\" class=\"dataframe\">\n",
       "  <thead>\n",
       "    <tr style=\"text-align: right;\">\n",
       "      <th></th>\n",
       "      <th>member</th>\n",
       "      <th>time</th>\n",
       "      <th>tas</th>\n",
       "      <th>effective_dec_year</th>\n",
       "      <th>month</th>\n",
       "      <th>year</th>\n",
       "    </tr>\n",
       "  </thead>\n",
       "  <tbody>\n",
       "    <tr>\n",
       "      <th>158730</th>\n",
       "      <td>1</td>\n",
       "      <td>1961-12-01</td>\n",
       "      <td>276.098101</td>\n",
       "      <td>1961</td>\n",
       "      <td>12</td>\n",
       "      <td>1961</td>\n",
       "    </tr>\n",
       "    <tr>\n",
       "      <th>158731</th>\n",
       "      <td>1</td>\n",
       "      <td>1961-12-02</td>\n",
       "      <td>275.519401</td>\n",
       "      <td>1961</td>\n",
       "      <td>12</td>\n",
       "      <td>1961</td>\n",
       "    </tr>\n",
       "    <tr>\n",
       "      <th>158732</th>\n",
       "      <td>1</td>\n",
       "      <td>1961-12-03</td>\n",
       "      <td>276.424315</td>\n",
       "      <td>1961</td>\n",
       "      <td>12</td>\n",
       "      <td>1961</td>\n",
       "    </tr>\n",
       "    <tr>\n",
       "      <th>158733</th>\n",
       "      <td>1</td>\n",
       "      <td>1961-12-04</td>\n",
       "      <td>276.265367</td>\n",
       "      <td>1961</td>\n",
       "      <td>12</td>\n",
       "      <td>1961</td>\n",
       "    </tr>\n",
       "    <tr>\n",
       "      <th>158734</th>\n",
       "      <td>1</td>\n",
       "      <td>1961-12-05</td>\n",
       "      <td>275.347797</td>\n",
       "      <td>1961</td>\n",
       "      <td>12</td>\n",
       "      <td>1961</td>\n",
       "    </tr>\n",
       "  </tbody>\n",
       "</table>\n",
       "</div>"
      ],
      "text/plain": [
       "        member        time         tas  effective_dec_year  month  year\n",
       "158730       1  1961-12-01  276.098101                1961     12  1961\n",
       "158731       1  1961-12-02  275.519401                1961     12  1961\n",
       "158732       1  1961-12-03  276.424315                1961     12  1961\n",
       "158733       1  1961-12-04  276.265367                1961     12  1961\n",
       "158734       1  1961-12-05  275.347797                1961     12  1961"
      ]
     },
     "execution_count": 52,
     "metadata": {},
     "output_type": "execute_result"
    }
   ],
   "source": [
    "model_df_full_canari_djf.head()"
   ]
  },
  {
   "cell_type": "code",
   "execution_count": 75,
   "metadata": {},
   "outputs": [],
   "source": [
    "canari_month_averages = pd.DataFrame()\n",
    "\n",
    "# loop over the unique years in the canari df\n",
    "for member in model_df_full_canari_djf['member'].unique():\n",
    "    # subset the df to the member\n",
    "    model_df_full_canari_djf_this = model_df_full_canari_djf[model_df_full_canari_djf['member'] == member]\n",
    "    for year in model_df_full_canari_djf['year'].unique():\n",
    "        # subset the df to the year\n",
    "        df_this = model_df_full_canari_djf_this[model_df_full_canari_djf_this['year'] == year]\n",
    "\n",
    "        # loop over the unique months\n",
    "        for month in df_this['month'].unique():\n",
    "            # subset the df to the month\n",
    "            df_this_month = df_this[df_this['month'] == month]\n",
    "\n",
    "            # calculate the mean\n",
    "            mean = df_this_month['tas'].mean()\n",
    "\n",
    "            # append to the dataframe\n",
    "            # Assuming this is inside a loop where year, month, and mean are defined\n",
    "            # Append to the dataframe\n",
    "            df_this_month = pd.DataFrame(\n",
    "                {\n",
    "                    \"year\": [year],\n",
    "                    \"effective_dec_year\": [df_this_month['effective_dec_year'].values[0]],\n",
    "                    \"month\": [month],\n",
    "                    \"member\": [member],\n",
    "                    \"tas\": [mean]\n",
    "                }\n",
    "            )\n",
    "\n",
    "            # concat the dataframes\n",
    "            canari_month_averages = pd.concat([canari_month_averages, df_this_month])\n",
    "        "
   ]
  },
  {
   "cell_type": "code",
   "execution_count": 76,
   "metadata": {},
   "outputs": [
    {
     "data": {
      "text/html": [
       "<div>\n",
       "<style scoped>\n",
       "    .dataframe tbody tr th:only-of-type {\n",
       "        vertical-align: middle;\n",
       "    }\n",
       "\n",
       "    .dataframe tbody tr th {\n",
       "        vertical-align: top;\n",
       "    }\n",
       "\n",
       "    .dataframe thead th {\n",
       "        text-align: right;\n",
       "    }\n",
       "</style>\n",
       "<table border=\"1\" class=\"dataframe\">\n",
       "  <thead>\n",
       "    <tr style=\"text-align: right;\">\n",
       "      <th></th>\n",
       "      <th>year</th>\n",
       "      <th>effective_dec_year</th>\n",
       "      <th>month</th>\n",
       "      <th>member</th>\n",
       "      <th>tas</th>\n",
       "    </tr>\n",
       "  </thead>\n",
       "  <tbody>\n",
       "    <tr>\n",
       "      <th>0</th>\n",
       "      <td>2013</td>\n",
       "      <td>2012</td>\n",
       "      <td>2</td>\n",
       "      <td>40</td>\n",
       "      <td>274.671354</td>\n",
       "    </tr>\n",
       "    <tr>\n",
       "      <th>0</th>\n",
       "      <td>2013</td>\n",
       "      <td>2013</td>\n",
       "      <td>12</td>\n",
       "      <td>40</td>\n",
       "      <td>278.298275</td>\n",
       "    </tr>\n",
       "    <tr>\n",
       "      <th>0</th>\n",
       "      <td>2014</td>\n",
       "      <td>2013</td>\n",
       "      <td>1</td>\n",
       "      <td>40</td>\n",
       "      <td>278.057856</td>\n",
       "    </tr>\n",
       "    <tr>\n",
       "      <th>0</th>\n",
       "      <td>2014</td>\n",
       "      <td>2013</td>\n",
       "      <td>2</td>\n",
       "      <td>40</td>\n",
       "      <td>274.686830</td>\n",
       "    </tr>\n",
       "    <tr>\n",
       "      <th>0</th>\n",
       "      <td>2014</td>\n",
       "      <td>2014</td>\n",
       "      <td>12</td>\n",
       "      <td>40</td>\n",
       "      <td>277.664408</td>\n",
       "    </tr>\n",
       "  </tbody>\n",
       "</table>\n",
       "</div>"
      ],
      "text/plain": [
       "   year  effective_dec_year  month  member         tas\n",
       "0  2013                2012      2      40  274.671354\n",
       "0  2013                2013     12      40  278.298275\n",
       "0  2014                2013      1      40  278.057856\n",
       "0  2014                2013      2      40  274.686830\n",
       "0  2014                2014     12      40  277.664408"
      ]
     },
     "execution_count": 76,
     "metadata": {},
     "output_type": "execute_result"
    }
   ],
   "source": [
    "canari_month_averages.tail()"
   ]
  },
  {
   "cell_type": "code",
   "execution_count": 77,
   "metadata": {},
   "outputs": [],
   "source": [
    "# remove effective dec year 2014\n",
    "canari_month_averages = canari_month_averages[canari_month_averages['effective_dec_year'] != 2014]"
   ]
  },
  {
   "cell_type": "code",
   "execution_count": 78,
   "metadata": {},
   "outputs": [],
   "source": [
    "# limit obs_df_canari to the unique effective dec years of the canari dataset\n",
    "obs_df_canari = obs_df_canari[obs_df_canari['effective_dec_year'].isin(canari_month_averages['effective_dec_year'].unique())]"
   ]
  },
  {
   "cell_type": "code",
   "execution_count": 79,
   "metadata": {},
   "outputs": [
    {
     "data": {
      "text/html": [
       "<div>\n",
       "<style scoped>\n",
       "    .dataframe tbody tr th:only-of-type {\n",
       "        vertical-align: middle;\n",
       "    }\n",
       "\n",
       "    .dataframe tbody tr th {\n",
       "        vertical-align: top;\n",
       "    }\n",
       "\n",
       "    .dataframe thead th {\n",
       "        text-align: right;\n",
       "    }\n",
       "</style>\n",
       "<table border=\"1\" class=\"dataframe\">\n",
       "  <thead>\n",
       "    <tr style=\"text-align: right;\">\n",
       "      <th></th>\n",
       "      <th>time</th>\n",
       "      <th>obs</th>\n",
       "      <th>month</th>\n",
       "      <th>effective_dec_year</th>\n",
       "      <th>tas_c</th>\n",
       "    </tr>\n",
       "  </thead>\n",
       "  <tbody>\n",
       "    <tr>\n",
       "      <th>625</th>\n",
       "      <td>2013-01-01</td>\n",
       "      <td>277.000213</td>\n",
       "      <td>1</td>\n",
       "      <td>2012</td>\n",
       "      <td>3.850213</td>\n",
       "    </tr>\n",
       "    <tr>\n",
       "      <th>626</th>\n",
       "      <td>2013-02-01</td>\n",
       "      <td>276.159893</td>\n",
       "      <td>2</td>\n",
       "      <td>2012</td>\n",
       "      <td>3.009893</td>\n",
       "    </tr>\n",
       "    <tr>\n",
       "      <th>636</th>\n",
       "      <td>2013-12-01</td>\n",
       "      <td>279.512407</td>\n",
       "      <td>12</td>\n",
       "      <td>2013</td>\n",
       "      <td>6.362407</td>\n",
       "    </tr>\n",
       "    <tr>\n",
       "      <th>637</th>\n",
       "      <td>2014-01-01</td>\n",
       "      <td>278.424539</td>\n",
       "      <td>1</td>\n",
       "      <td>2013</td>\n",
       "      <td>5.274539</td>\n",
       "    </tr>\n",
       "    <tr>\n",
       "      <th>638</th>\n",
       "      <td>2014-02-01</td>\n",
       "      <td>278.699935</td>\n",
       "      <td>2</td>\n",
       "      <td>2013</td>\n",
       "      <td>5.549935</td>\n",
       "    </tr>\n",
       "  </tbody>\n",
       "</table>\n",
       "</div>"
      ],
      "text/plain": [
       "          time         obs  month  effective_dec_year     tas_c\n",
       "625 2013-01-01  277.000213      1                2012  3.850213\n",
       "626 2013-02-01  276.159893      2                2012  3.009893\n",
       "636 2013-12-01  279.512407     12                2013  6.362407\n",
       "637 2014-01-01  278.424539      1                2013  5.274539\n",
       "638 2014-02-01  278.699935      2                2013  5.549935"
      ]
     },
     "execution_count": 79,
     "metadata": {},
     "output_type": "execute_result"
    }
   ],
   "source": [
    "obs_df_canari.tail()"
   ]
  },
  {
   "cell_type": "code",
   "execution_count": 38,
   "metadata": {},
   "outputs": [
    {
     "data": {
      "text/html": [
       "<div>\n",
       "<style scoped>\n",
       "    .dataframe tbody tr th:only-of-type {\n",
       "        vertical-align: middle;\n",
       "    }\n",
       "\n",
       "    .dataframe tbody tr th {\n",
       "        vertical-align: top;\n",
       "    }\n",
       "\n",
       "    .dataframe thead th {\n",
       "        text-align: right;\n",
       "    }\n",
       "</style>\n",
       "<table border=\"1\" class=\"dataframe\">\n",
       "  <thead>\n",
       "    <tr style=\"text-align: right;\">\n",
       "      <th></th>\n",
       "      <th>time</th>\n",
       "      <th>tas</th>\n",
       "      <th>month</th>\n",
       "      <th>effective_dec_year</th>\n",
       "    </tr>\n",
       "  </thead>\n",
       "  <tbody>\n",
       "    <tr>\n",
       "      <th>23</th>\n",
       "      <td>1961-12-01</td>\n",
       "      <td>1.458100</td>\n",
       "      <td>12</td>\n",
       "      <td>1961</td>\n",
       "    </tr>\n",
       "    <tr>\n",
       "      <th>24</th>\n",
       "      <td>1962-01-01</td>\n",
       "      <td>3.441628</td>\n",
       "      <td>1</td>\n",
       "      <td>1961</td>\n",
       "    </tr>\n",
       "    <tr>\n",
       "      <th>25</th>\n",
       "      <td>1962-02-01</td>\n",
       "      <td>3.603724</td>\n",
       "      <td>2</td>\n",
       "      <td>1961</td>\n",
       "    </tr>\n",
       "    <tr>\n",
       "      <th>35</th>\n",
       "      <td>1962-12-01</td>\n",
       "      <td>1.739680</td>\n",
       "      <td>12</td>\n",
       "      <td>1962</td>\n",
       "    </tr>\n",
       "    <tr>\n",
       "      <th>36</th>\n",
       "      <td>1963-01-01</td>\n",
       "      <td>-2.158718</td>\n",
       "      <td>1</td>\n",
       "      <td>1962</td>\n",
       "    </tr>\n",
       "    <tr>\n",
       "      <th>...</th>\n",
       "      <td>...</td>\n",
       "      <td>...</td>\n",
       "      <td>...</td>\n",
       "      <td>...</td>\n",
       "    </tr>\n",
       "    <tr>\n",
       "      <th>684</th>\n",
       "      <td>2017-01-01</td>\n",
       "      <td>3.636710</td>\n",
       "      <td>1</td>\n",
       "      <td>2016</td>\n",
       "    </tr>\n",
       "    <tr>\n",
       "      <th>685</th>\n",
       "      <td>2017-02-01</td>\n",
       "      <td>5.199740</td>\n",
       "      <td>2</td>\n",
       "      <td>2016</td>\n",
       "    </tr>\n",
       "    <tr>\n",
       "      <th>695</th>\n",
       "      <td>2017-12-01</td>\n",
       "      <td>4.012511</td>\n",
       "      <td>12</td>\n",
       "      <td>2017</td>\n",
       "    </tr>\n",
       "    <tr>\n",
       "      <th>696</th>\n",
       "      <td>2018-01-01</td>\n",
       "      <td>4.017824</td>\n",
       "      <td>1</td>\n",
       "      <td>2017</td>\n",
       "    </tr>\n",
       "    <tr>\n",
       "      <th>697</th>\n",
       "      <td>2018-02-01</td>\n",
       "      <td>2.214864</td>\n",
       "      <td>2</td>\n",
       "      <td>2017</td>\n",
       "    </tr>\n",
       "  </tbody>\n",
       "</table>\n",
       "<p>171 rows × 4 columns</p>\n",
       "</div>"
      ],
      "text/plain": [
       "          time       tas  month  effective_dec_year\n",
       "23  1961-12-01  1.458100     12                1961\n",
       "24  1962-01-01  3.441628      1                1961\n",
       "25  1962-02-01  3.603724      2                1961\n",
       "35  1962-12-01  1.739680     12                1962\n",
       "36  1963-01-01 -2.158718      1                1962\n",
       "..         ...       ...    ...                 ...\n",
       "684 2017-01-01  3.636710      1                2016\n",
       "685 2017-02-01  5.199740      2                2016\n",
       "695 2017-12-01  4.012511     12                2017\n",
       "696 2018-01-01  4.017824      1                2017\n",
       "697 2018-02-01  2.214864      2                2017\n",
       "\n",
       "[171 rows x 4 columns]"
      ]
     },
     "execution_count": 38,
     "metadata": {},
     "output_type": "execute_result"
    }
   ],
   "source": [
    "obs_df_full_haduk_"
   ]
  },
  {
   "cell_type": "code",
   "execution_count": null,
   "metadata": {},
   "outputs": [],
   "source": []
  },
  {
   "cell_type": "code",
   "execution_count": 41,
   "metadata": {},
   "outputs": [],
   "source": [
    "# convert values from K to c\n",
    "obs_df['tas_c'] = obs_df['obs'] - 273.15\n",
    "obs_df_full_haduk['tas_c'] = obs_df_full_haduk['tas'] - 273.15\n",
    "df[\"tas_c\"] = df[\"data\"] - 273.15\n",
    "df_subset[\"tas_c\"] = df_subset[\"data\"] - 273.15\n",
    "# canari_month_averages[\"tas_c\"] = canari_month_averages[\"tas\"] - 273.15\n",
    "# df_winters[\"tas_c\"] = df_winters[\"data\"] - 273.15"
   ]
  },
  {
   "cell_type": "markdown",
   "metadata": {},
   "source": [
    "#### Fidelity testing ####\n",
    "\n",
    "Our winter is a 3 month block (DJF).\n",
    "\n",
    "The observed time series consists of 58 winters * 3 months worth of data.\n",
    "\n",
    "For the fidelity testing we want to select 58 random winters each times.\n",
    "\n",
    "Choosing a random year.\n",
    "\n",
    "And a random ensemble member."
   ]
  },
  {
   "cell_type": "code",
   "execution_count": 81,
   "metadata": {},
   "outputs": [],
   "source": [
    "# # subset the obs df to only decembers\n",
    "# obs_df_dec = obs_df[obs_df['month'] == 2]\n",
    "\n",
    "# # Subset the model to only decembers\n",
    "# df_dec = df[df['lead'] == 4]"
   ]
  },
  {
   "cell_type": "code",
   "execution_count": 82,
   "metadata": {},
   "outputs": [],
   "source": [
    "# # process into seasonal DJF means\n",
    "# obs_df_seasonal = obs_df.groupby(['effective_dec_year']).mean().reset_index()"
   ]
  },
  {
   "cell_type": "code",
   "execution_count": 83,
   "metadata": {},
   "outputs": [],
   "source": [
    "# # Set up a new dataframe for the model seasonal means\n",
    "# df_seasonal = pd.DataFrame()\n",
    "\n",
    "# # Loop over the unique init years\n",
    "# for init_year in df['init_year'].unique():\n",
    "#     for member in df['member'].unique():\n",
    "#         df_subset = df[(df['init_year'] == init_year) & (df['member'] == member)]\n",
    "#         # select leads 2, 3, and 4\n",
    "#         df_subset = df_subset[df_subset['lead'].isin([2, 3, 4])]\n",
    "\n",
    "#         # calculate the mean\n",
    "#         mean = df_subset['tas_c'].mean()\n",
    "\n",
    "#         # create a new df\n",
    "#         df_new = pd.DataFrame(\n",
    "#             {\n",
    "#                 'init_year': [init_year],\n",
    "#                 'member': [member],\n",
    "#                 'tas_c': [mean]\n",
    "#             }\n",
    "#         )\n",
    "\n",
    "#         # concatenate the results\n",
    "#         df_seasonal = pd.concat([df_seasonal, df_new])"
   ]
  },
  {
   "cell_type": "code",
   "execution_count": 84,
   "metadata": {},
   "outputs": [],
   "source": [
    "# # limit the df_seasonal to init years between 1960 and 2017\n",
    "# df_seasonal = df_seasonal[df_seasonal['init_year'].isin(range(1960, 2018))]"
   ]
  },
  {
   "cell_type": "code",
   "execution_count": 42,
   "metadata": {},
   "outputs": [
    {
     "data": {
      "text/plain": [
       "array([2, 3, 4])"
      ]
     },
     "execution_count": 42,
     "metadata": {},
     "output_type": "execute_result"
    }
   ],
   "source": [
    "df_subset[\"lead\"].unique()"
   ]
  },
  {
   "cell_type": "code",
   "execution_count": 44,
   "metadata": {},
   "outputs": [
    {
     "data": {
      "text/plain": [
       "array([1961, 1962, 1963, 1964, 1965, 1966, 1967, 1968, 1969, 1970, 1971,\n",
       "       1972, 1973, 1974, 1975, 1976, 1977, 1978, 1979, 1980, 1981, 1982,\n",
       "       1983, 1984, 1985, 1986, 1987, 1988, 1989, 1990, 1991, 1992, 1993,\n",
       "       1994, 1995, 1996, 1997, 1998, 1999, 2000, 2001, 2002, 2003, 2004,\n",
       "       2005, 2006, 2007, 2008, 2009, 2010, 2011, 2012, 2013, 2014, 2015,\n",
       "       2016, 2017])"
      ]
     },
     "execution_count": 44,
     "metadata": {},
     "output_type": "execute_result"
    }
   ],
   "source": [
    "df_subset[\"effective_dec_year\"].unique()"
   ]
  },
  {
   "cell_type": "code",
   "execution_count": 45,
   "metadata": {},
   "outputs": [
    {
     "data": {
      "text/plain": [
       "array([1961, 1962, 1963, 1964, 1965, 1966, 1967, 1968, 1969, 1970, 1971,\n",
       "       1972, 1973, 1974, 1975, 1976, 1977, 1978, 1979, 1980, 1981, 1982,\n",
       "       1983, 1984, 1985, 1986, 1987, 1988, 1989, 1990, 1991, 1992, 1993,\n",
       "       1994, 1995, 1996, 1997, 1998, 1999, 2000, 2001, 2002, 2003, 2004,\n",
       "       2005, 2006, 2007, 2008, 2009, 2010, 2011, 2012, 2013, 2014, 2015,\n",
       "       2016, 2017])"
      ]
     },
     "execution_count": 45,
     "metadata": {},
     "output_type": "execute_result"
    }
   ],
   "source": [
    "obs_df_full_haduk[\"effective_dec_year\"].unique()"
   ]
  },
  {
   "cell_type": "code",
   "execution_count": 43,
   "metadata": {},
   "outputs": [
    {
     "data": {
      "text/html": [
       "<div>\n",
       "<style scoped>\n",
       "    .dataframe tbody tr th:only-of-type {\n",
       "        vertical-align: middle;\n",
       "    }\n",
       "\n",
       "    .dataframe tbody tr th {\n",
       "        vertical-align: top;\n",
       "    }\n",
       "\n",
       "    .dataframe thead th {\n",
       "        text-align: right;\n",
       "    }\n",
       "</style>\n",
       "<table border=\"1\" class=\"dataframe\">\n",
       "  <thead>\n",
       "    <tr style=\"text-align: right;\">\n",
       "      <th></th>\n",
       "      <th>time</th>\n",
       "      <th>tas</th>\n",
       "      <th>month</th>\n",
       "      <th>effective_dec_year</th>\n",
       "      <th>tas_c</th>\n",
       "    </tr>\n",
       "  </thead>\n",
       "  <tbody>\n",
       "    <tr>\n",
       "      <th>23</th>\n",
       "      <td>1961-12-01</td>\n",
       "      <td>1.458100</td>\n",
       "      <td>12</td>\n",
       "      <td>1961</td>\n",
       "      <td>-271.691900</td>\n",
       "    </tr>\n",
       "    <tr>\n",
       "      <th>24</th>\n",
       "      <td>1962-01-01</td>\n",
       "      <td>3.441628</td>\n",
       "      <td>1</td>\n",
       "      <td>1961</td>\n",
       "      <td>-269.708372</td>\n",
       "    </tr>\n",
       "    <tr>\n",
       "      <th>25</th>\n",
       "      <td>1962-02-01</td>\n",
       "      <td>3.603724</td>\n",
       "      <td>2</td>\n",
       "      <td>1961</td>\n",
       "      <td>-269.546276</td>\n",
       "    </tr>\n",
       "    <tr>\n",
       "      <th>35</th>\n",
       "      <td>1962-12-01</td>\n",
       "      <td>1.739680</td>\n",
       "      <td>12</td>\n",
       "      <td>1962</td>\n",
       "      <td>-271.410320</td>\n",
       "    </tr>\n",
       "    <tr>\n",
       "      <th>36</th>\n",
       "      <td>1963-01-01</td>\n",
       "      <td>-2.158718</td>\n",
       "      <td>1</td>\n",
       "      <td>1962</td>\n",
       "      <td>-275.308718</td>\n",
       "    </tr>\n",
       "  </tbody>\n",
       "</table>\n",
       "</div>"
      ],
      "text/plain": [
       "         time       tas  month  effective_dec_year       tas_c\n",
       "23 1961-12-01  1.458100     12                1961 -271.691900\n",
       "24 1962-01-01  3.441628      1                1961 -269.708372\n",
       "25 1962-02-01  3.603724      2                1961 -269.546276\n",
       "35 1962-12-01  1.739680     12                1962 -271.410320\n",
       "36 1963-01-01 -2.158718      1                1962 -275.308718"
      ]
     },
     "execution_count": 43,
     "metadata": {},
     "output_type": "execute_result"
    }
   ],
   "source": [
    "obs_df_full_haduk.head()"
   ]
  },
  {
   "cell_type": "code",
   "execution_count": 48,
   "metadata": {},
   "outputs": [],
   "source": [
    "# calculate the winter means\n",
    "obs_df_full_haduk_winter = obs_df_full_haduk.groupby(['effective_dec_year']).mean().reset_index()"
   ]
  },
  {
   "cell_type": "code",
   "execution_count": 49,
   "metadata": {},
   "outputs": [
    {
     "data": {
      "text/html": [
       "<div>\n",
       "<style scoped>\n",
       "    .dataframe tbody tr th:only-of-type {\n",
       "        vertical-align: middle;\n",
       "    }\n",
       "\n",
       "    .dataframe tbody tr th {\n",
       "        vertical-align: top;\n",
       "    }\n",
       "\n",
       "    .dataframe thead th {\n",
       "        text-align: right;\n",
       "    }\n",
       "</style>\n",
       "<table border=\"1\" class=\"dataframe\">\n",
       "  <thead>\n",
       "    <tr style=\"text-align: right;\">\n",
       "      <th></th>\n",
       "      <th>effective_dec_year</th>\n",
       "      <th>time</th>\n",
       "      <th>tas</th>\n",
       "      <th>month</th>\n",
       "      <th>tas_c</th>\n",
       "    </tr>\n",
       "  </thead>\n",
       "  <tbody>\n",
       "    <tr>\n",
       "      <th>0</th>\n",
       "      <td>1961</td>\n",
       "      <td>1962-01-01</td>\n",
       "      <td>2.834484</td>\n",
       "      <td>5.0</td>\n",
       "      <td>-270.315516</td>\n",
       "    </tr>\n",
       "    <tr>\n",
       "      <th>1</th>\n",
       "      <td>1962</td>\n",
       "      <td>1963-01-01</td>\n",
       "      <td>-0.596804</td>\n",
       "      <td>5.0</td>\n",
       "      <td>-273.746804</td>\n",
       "    </tr>\n",
       "    <tr>\n",
       "      <th>2</th>\n",
       "      <td>1963</td>\n",
       "      <td>1964-01-01</td>\n",
       "      <td>2.869730</td>\n",
       "      <td>5.0</td>\n",
       "      <td>-270.280270</td>\n",
       "    </tr>\n",
       "    <tr>\n",
       "      <th>3</th>\n",
       "      <td>1964</td>\n",
       "      <td>1965-01-01</td>\n",
       "      <td>2.476212</td>\n",
       "      <td>5.0</td>\n",
       "      <td>-270.673788</td>\n",
       "    </tr>\n",
       "    <tr>\n",
       "      <th>4</th>\n",
       "      <td>1965</td>\n",
       "      <td>1966-01-01</td>\n",
       "      <td>3.065734</td>\n",
       "      <td>5.0</td>\n",
       "      <td>-270.084266</td>\n",
       "    </tr>\n",
       "  </tbody>\n",
       "</table>\n",
       "</div>"
      ],
      "text/plain": [
       "   effective_dec_year       time       tas  month       tas_c\n",
       "0                1961 1962-01-01  2.834484    5.0 -270.315516\n",
       "1                1962 1963-01-01 -0.596804    5.0 -273.746804\n",
       "2                1963 1964-01-01  2.869730    5.0 -270.280270\n",
       "3                1964 1965-01-01  2.476212    5.0 -270.673788\n",
       "4                1965 1966-01-01  3.065734    5.0 -270.084266"
      ]
     },
     "execution_count": 49,
     "metadata": {},
     "output_type": "execute_result"
    }
   ],
   "source": [
    "obs_df_full_haduk_winter.head()"
   ]
  },
  {
   "cell_type": "code",
   "execution_count": 50,
   "metadata": {},
   "outputs": [
    {
     "data": {
      "text/html": [
       "<div>\n",
       "<style scoped>\n",
       "    .dataframe tbody tr th:only-of-type {\n",
       "        vertical-align: middle;\n",
       "    }\n",
       "\n",
       "    .dataframe tbody tr th {\n",
       "        vertical-align: top;\n",
       "    }\n",
       "\n",
       "    .dataframe thead th {\n",
       "        text-align: right;\n",
       "    }\n",
       "</style>\n",
       "<table border=\"1\" class=\"dataframe\">\n",
       "  <thead>\n",
       "    <tr style=\"text-align: right;\">\n",
       "      <th></th>\n",
       "      <th>init_year</th>\n",
       "      <th>member</th>\n",
       "      <th>lead</th>\n",
       "      <th>data</th>\n",
       "      <th>effective_dec_year</th>\n",
       "      <th>tas_c</th>\n",
       "    </tr>\n",
       "  </thead>\n",
       "  <tbody>\n",
       "    <tr>\n",
       "      <th>1</th>\n",
       "      <td>1960</td>\n",
       "      <td>10</td>\n",
       "      <td>2</td>\n",
       "      <td>277.141181</td>\n",
       "      <td>1961</td>\n",
       "      <td>3.991181</td>\n",
       "    </tr>\n",
       "    <tr>\n",
       "      <th>2</th>\n",
       "      <td>1960</td>\n",
       "      <td>10</td>\n",
       "      <td>3</td>\n",
       "      <td>277.110962</td>\n",
       "      <td>1961</td>\n",
       "      <td>3.960962</td>\n",
       "    </tr>\n",
       "    <tr>\n",
       "      <th>3</th>\n",
       "      <td>1960</td>\n",
       "      <td>10</td>\n",
       "      <td>4</td>\n",
       "      <td>277.857627</td>\n",
       "      <td>1961</td>\n",
       "      <td>4.707627</td>\n",
       "    </tr>\n",
       "    <tr>\n",
       "      <th>126</th>\n",
       "      <td>1960</td>\n",
       "      <td>1</td>\n",
       "      <td>2</td>\n",
       "      <td>276.994205</td>\n",
       "      <td>1961</td>\n",
       "      <td>3.844205</td>\n",
       "    </tr>\n",
       "    <tr>\n",
       "      <th>127</th>\n",
       "      <td>1960</td>\n",
       "      <td>1</td>\n",
       "      <td>3</td>\n",
       "      <td>277.640137</td>\n",
       "      <td>1961</td>\n",
       "      <td>4.490137</td>\n",
       "    </tr>\n",
       "  </tbody>\n",
       "</table>\n",
       "</div>"
      ],
      "text/plain": [
       "     init_year  member  lead        data  effective_dec_year     tas_c\n",
       "1         1960      10     2  277.141181                1961  3.991181\n",
       "2         1960      10     3  277.110962                1961  3.960962\n",
       "3         1960      10     4  277.857627                1961  4.707627\n",
       "126       1960       1     2  276.994205                1961  3.844205\n",
       "127       1960       1     3  277.640137                1961  4.490137"
      ]
     },
     "execution_count": 50,
     "metadata": {},
     "output_type": "execute_result"
    }
   ],
   "source": [
    "df_subset.head()"
   ]
  },
  {
   "cell_type": "code",
   "execution_count": 51,
   "metadata": {},
   "outputs": [],
   "source": [
    "# calculate the winter means for the model data\n",
    "# loop over the unique init years\n",
    "df_subset_djf_winter = pd.DataFrame()\n",
    "\n",
    "# Loop over the unique init years\n",
    "for init_year in df_subset['effective_dec_year'].unique():\n",
    "    for member in df_subset['member'].unique():\n",
    "        df_subset_this = df_subset[(df_subset['effective_dec_year'] == init_year) & (df_subset['member'] == member)]\n",
    "        # select leads 2, 3, and 4\n",
    "        df_subset_this = df_subset_this[df_subset_this['lead'].isin([2, 3, 4])]\n",
    "\n",
    "        # calculate the mean\n",
    "        mean = df_subset_this['tas_c'].mean()\n",
    "\n",
    "        # create a new df\n",
    "        df_new = pd.DataFrame(\n",
    "            {\n",
    "                'effective_dec_year': [init_year],\n",
    "                'member': [member],\n",
    "                'tas_c': [mean]\n",
    "            }\n",
    "        )\n",
    "\n",
    "        # concatenate the results\n",
    "        df_subset_djf_winter = pd.concat([df_subset_djf_winter, df_new])"
   ]
  },
  {
   "cell_type": "code",
   "execution_count": 53,
   "metadata": {},
   "outputs": [
    {
     "data": {
      "text/html": [
       "<div>\n",
       "<style scoped>\n",
       "    .dataframe tbody tr th:only-of-type {\n",
       "        vertical-align: middle;\n",
       "    }\n",
       "\n",
       "    .dataframe tbody tr th {\n",
       "        vertical-align: top;\n",
       "    }\n",
       "\n",
       "    .dataframe thead th {\n",
       "        text-align: right;\n",
       "    }\n",
       "</style>\n",
       "<table border=\"1\" class=\"dataframe\">\n",
       "  <thead>\n",
       "    <tr style=\"text-align: right;\">\n",
       "      <th></th>\n",
       "      <th>effective_dec_year</th>\n",
       "      <th>member</th>\n",
       "      <th>tas_c</th>\n",
       "    </tr>\n",
       "  </thead>\n",
       "  <tbody>\n",
       "    <tr>\n",
       "      <th>0</th>\n",
       "      <td>2017</td>\n",
       "      <td>5</td>\n",
       "      <td>6.095820</td>\n",
       "    </tr>\n",
       "    <tr>\n",
       "      <th>0</th>\n",
       "      <td>2017</td>\n",
       "      <td>6</td>\n",
       "      <td>5.167768</td>\n",
       "    </tr>\n",
       "    <tr>\n",
       "      <th>0</th>\n",
       "      <td>2017</td>\n",
       "      <td>7</td>\n",
       "      <td>3.432642</td>\n",
       "    </tr>\n",
       "    <tr>\n",
       "      <th>0</th>\n",
       "      <td>2017</td>\n",
       "      <td>8</td>\n",
       "      <td>2.731732</td>\n",
       "    </tr>\n",
       "    <tr>\n",
       "      <th>0</th>\n",
       "      <td>2017</td>\n",
       "      <td>9</td>\n",
       "      <td>4.366586</td>\n",
       "    </tr>\n",
       "  </tbody>\n",
       "</table>\n",
       "</div>"
      ],
      "text/plain": [
       "   effective_dec_year  member     tas_c\n",
       "0                2017       5  6.095820\n",
       "0                2017       6  5.167768\n",
       "0                2017       7  3.432642\n",
       "0                2017       8  2.731732\n",
       "0                2017       9  4.366586"
      ]
     },
     "execution_count": 53,
     "metadata": {},
     "output_type": "execute_result"
    }
   ],
   "source": [
    "df_subset_djf_winter.tail()"
   ]
  },
  {
   "cell_type": "code",
   "execution_count": 54,
   "metadata": {},
   "outputs": [
    {
     "name": "stdout",
     "output_type": "stream",
     "text": [
      "the number of unique winters is:  57\n",
      "the unique times are:  [1961 1962 1963 1964 1965 1966 1967 1968 1969 1970 1971 1972 1973 1974\n",
      " 1975 1976 1977 1978 1979 1980 1981 1982 1983 1984 1985 1986 1987 1988\n",
      " 1989 1990 1991 1992 1993 1994 1995 1996 1997 1998 1999 2000 2001 2002\n",
      " 2003 2004 2005 2006 2007 2008 2009 2010 2011 2012 2013 2014 2015 2016\n",
      " 2017]\n",
      "Number of days in a model winter: 1\n",
      "Number of days to resample for: 57\n",
      "Unique model times [1961 1962 1963 1964 1965 1966 1967 1968 1969 1970 1971 1972 1973 1974\n",
      " 1975 1976 1977 1978 1979 1980 1981 1982 1983 1984 1985 1986 1987 1988\n",
      " 1989 1990 1991 1992 1993 1994 1995 1996 1997 1998 1999 2000 2001 2002\n",
      " 2003 2004 2005 2006 2007 2008 2009 2010 2011 2012 2013 2014 2015 2016\n",
      " 2017]\n"
     ]
    },
    {
     "name": "stderr",
     "output_type": "stream",
     "text": [
      "Calculating bootstrap statistics: 100%|██████████| 10000/10000 [01:18<00:00, 126.70it/s]\n"
     ]
    },
    {
     "name": "stdout",
     "output_type": "stream",
     "text": [
      "(10000,)\n",
      "shape of obs df obs_val_name:  (57,)\n"
     ]
    },
    {
     "data": {
      "image/png": "[encoded data removed]",
      "text/plain": [
       "<Figure size 1000x600 with 5 Axes>"
      ]
     },
     "metadata": {},
     "output_type": "display_data"
    }
   ],
   "source": [
    "# Plot the distributions and the fidelity\n",
    "plot_distributions_fidelity(\n",
    "    obs_df=obs_df_full_haduk_winter,\n",
    "    model_df=df_subset_djf_winter,\n",
    "    obs_val_name=\"tas\",\n",
    "    model_val_name=\"tas_c\",\n",
    "    obs_time_name=\"effective_dec_year\",\n",
    "    model_time_name=\"effective_dec_year\",\n",
    "    model_member_name=\"member\",\n",
    "    model_lead_name=None,\n",
    "    title=\"tas United Kingdom DJF mean 1961-2017, HadUK-Grid 60km vs. DePreSys\",\n",
    "    nboot=10000,\n",
    "    figsize=(10, 6),\n",
    "    nbins=40,\n",
    "    fname_prefix=\"tas_United_Kingdom_DJF_months_1960_2017_HadUK-Grid_60km_vs_DePreSys\",\n",
    ")"
   ]
  },
  {
   "cell_type": "markdown",
   "metadata": {},
   "source": [
    "Potential for multi-model approach here?"
   ]
  },
  {
   "cell_type": "code",
   "execution_count": 92,
   "metadata": {},
   "outputs": [],
   "source": [
    "test_mpi_path = \"/gws/nopw/j04/canari/users/benhutch/unseen/saved_dfs/MPI-ESM1-2-HR_tas_United Kingdom_ONDJFM_1960_2014_dcppA-hindcast_Amon.csv\"\n",
    "\n",
    "# load the df\n",
    "df_mpi = pd.read_csv(test_mpi_path)"
   ]
  },
  {
   "cell_type": "code",
   "execution_count": 99,
   "metadata": {},
   "outputs": [
    {
     "data": {
      "text/html": [
       "<div>\n",
       "<style scoped>\n",
       "    .dataframe tbody tr th:only-of-type {\n",
       "        vertical-align: middle;\n",
       "    }\n",
       "\n",
       "    .dataframe tbody tr th {\n",
       "        vertical-align: top;\n",
       "    }\n",
       "\n",
       "    .dataframe thead th {\n",
       "        text-align: right;\n",
       "    }\n",
       "</style>\n",
       "<table border=\"1\" class=\"dataframe\">\n",
       "  <thead>\n",
       "    <tr style=\"text-align: right;\">\n",
       "      <th></th>\n",
       "      <th>init_year</th>\n",
       "      <th>member</th>\n",
       "      <th>lead</th>\n",
       "      <th>data</th>\n",
       "    </tr>\n",
       "  </thead>\n",
       "  <tbody>\n",
       "    <tr>\n",
       "      <th>66858</th>\n",
       "      <td>2014</td>\n",
       "      <td>8</td>\n",
       "      <td>3</td>\n",
       "      <td>276.140122</td>\n",
       "    </tr>\n",
       "    <tr>\n",
       "      <th>66859</th>\n",
       "      <td>2014</td>\n",
       "      <td>8</td>\n",
       "      <td>4</td>\n",
       "      <td>277.386598</td>\n",
       "    </tr>\n",
       "    <tr>\n",
       "      <th>66979</th>\n",
       "      <td>2014</td>\n",
       "      <td>9</td>\n",
       "      <td>2</td>\n",
       "      <td>279.848348</td>\n",
       "    </tr>\n",
       "    <tr>\n",
       "      <th>66980</th>\n",
       "      <td>2014</td>\n",
       "      <td>9</td>\n",
       "      <td>3</td>\n",
       "      <td>275.184070</td>\n",
       "    </tr>\n",
       "    <tr>\n",
       "      <th>66981</th>\n",
       "      <td>2014</td>\n",
       "      <td>9</td>\n",
       "      <td>4</td>\n",
       "      <td>275.214489</td>\n",
       "    </tr>\n",
       "  </tbody>\n",
       "</table>\n",
       "</div>"
      ],
      "text/plain": [
       "       init_year  member  lead        data\n",
       "66858       2014       8     3  276.140122\n",
       "66859       2014       8     4  277.386598\n",
       "66979       2014       9     2  279.848348\n",
       "66980       2014       9     3  275.184070\n",
       "66981       2014       9     4  275.214489"
      ]
     },
     "execution_count": 99,
     "metadata": {},
     "output_type": "execute_result"
    }
   ],
   "source": [
    "df_mpi.tail()"
   ]
  },
  {
   "cell_type": "markdown",
   "metadata": {},
   "source": [
    "First DJF in this case is leads 2, 3, 4"
   ]
  },
  {
   "cell_type": "code",
   "execution_count": 95,
   "metadata": {},
   "outputs": [],
   "source": [
    "# limit to the first 4 leads\n",
    "df_mpi = df_mpi[df_mpi['lead'].isin([2, 3, 4])]"
   ]
  },
  {
   "cell_type": "code",
   "execution_count": 96,
   "metadata": {},
   "outputs": [
    {
     "data": {
      "text/plain": [
       "array([1960, 1961, 1962, 1963, 1964, 1965, 1966, 1967, 1968, 1969, 1970,\n",
       "       1971, 1972, 1973, 1974, 1975, 1976, 1977, 1978, 1979, 1980, 1981,\n",
       "       1982, 1983, 1984, 1985, 1986, 1987, 1988, 1989, 1990, 1991, 1992,\n",
       "       1993, 1994, 1995, 1996, 1997, 1998, 1999, 2000, 2001, 2002, 2003,\n",
       "       2004, 2005, 2006, 2007, 2008, 2009, 2010, 2011, 2012, 2013, 2014])"
      ]
     },
     "execution_count": 96,
     "metadata": {},
     "output_type": "execute_result"
    }
   ],
   "source": [
    "# print the unique init years\n",
    "df_mpi['init_year'].unique()"
   ]
  },
  {
   "cell_type": "code",
   "execution_count": 98,
   "metadata": {},
   "outputs": [
    {
     "data": {
      "text/plain": [
       "array([1961, 1962, 1963, 1964, 1965, 1966, 1967, 1968, 1969, 1970, 1971,\n",
       "       1972, 1973, 1974, 1975, 1976, 1977, 1978, 1979, 1980, 1981, 1982,\n",
       "       1983, 1984, 1985, 1986, 1987, 1988, 1989, 1990, 1991, 1992, 1993,\n",
       "       1994, 1995, 1996, 1997, 1998, 1999, 2000, 2001, 2002, 2003, 2004,\n",
       "       2005, 2006, 2007, 2008, 2009, 2010, 2011, 2012, 2013, 2014, 2015,\n",
       "       2016, 2017])"
      ]
     },
     "execution_count": 98,
     "metadata": {},
     "output_type": "execute_result"
    }
   ],
   "source": [
    "obs_df[\"effective_dec_year\"].unique()"
   ]
  },
  {
   "cell_type": "code",
   "execution_count": 100,
   "metadata": {},
   "outputs": [],
   "source": [
    "# Set up the common years\n",
    "common_years = np.arange(1961, 2014 + 1)\n",
    "\n",
    "# limit the df_mpi to the common years\n",
    "df_mpi = df_mpi[df_mpi['init_year'].isin(common_years)]\n",
    "\n",
    "# limit the obs_df to the common years\n",
    "obs_df_mpi = obs_df[obs_df['effective_dec_year'].isin(common_years)]"
   ]
  },
  {
   "cell_type": "code",
   "execution_count": 102,
   "metadata": {},
   "outputs": [],
   "source": [
    "# create a tas_c column in the dataframe\n",
    "df_mpi[\"tas_c\"] = df_mpi[\"data\"] - 273.15"
   ]
  },
  {
   "cell_type": "code",
   "execution_count": 103,
   "metadata": {},
   "outputs": [
    {
     "name": "stdout",
     "output_type": "stream",
     "text": [
      "the number of unique winters is:  54\n",
      "the unique times are:  [1961 1962 1963 1964 1965 1966 1967 1968 1969 1970 1971 1972 1973 1974\n",
      " 1975 1976 1977 1978 1979 1980 1981 1982 1983 1984 1985 1986 1987 1988\n",
      " 1989 1990 1991 1992 1993 1994 1995 1996 1997 1998 1999 2000 2001 2002\n",
      " 2003 2004 2005 2006 2007 2008 2009 2010 2011 2012 2013 2014]\n",
      "Number of days in a model winter: 3\n",
      "Number of days to resample for: 162\n",
      "Unique model times [1961 1962 1963 1964 1965 1966 1967 1968 1969 1970 1971 1972 1973 1974\n",
      " 1975 1976 1977 1978 1979 1980 1981 1982 1983 1984 1985 1986 1987 1988\n",
      " 1989 1990 1991 1992 1993 1994 1995 1996 1997 1998 1999 2000 2001 2002\n",
      " 2003 2004 2005 2006 2007 2008 2009 2010 2011 2012 2013 2014]\n"
     ]
    },
    {
     "name": "stderr",
     "output_type": "stream",
     "text": [
      "Calculating bootstrap statistics: 100%|██████████| 10000/10000 [02:01<00:00, 82.23it/s]\n"
     ]
    },
    {
     "name": "stdout",
     "output_type": "stream",
     "text": [
      "(10000,)\n",
      "shape of obs df obs_val_name:  (162,)\n"
     ]
    },
    {
     "data": {
      "image/png": "[encoded data removed]",
      "text/plain": [
       "<Figure size 1000x600 with 5 Axes>"
      ]
     },
     "metadata": {},
     "output_type": "display_data"
    }
   ],
   "source": [
    "# Plot the distributions and the fidelity\n",
    "plot_distributions_fidelity(\n",
    "    obs_df=obs_df_mpi,\n",
    "    model_df=df_mpi,\n",
    "    obs_val_name=\"tas_c\",\n",
    "    model_val_name=\"tas_c\",\n",
    "    obs_time_name=\"effective_dec_year\",\n",
    "    model_time_name=\"init_year\",\n",
    "    model_member_name=\"member\",\n",
    "    model_lead_name=None,\n",
    "    title=\"tas United Kingdom ONDJFM months 1961-2014, ERA5 vs. MPI-ESM1-2-HR\",\n",
    "    nboot=10000,\n",
    "    figsize=(10, 6),\n",
    "    nbins=40,\n",
    "    fname_prefix=\"tas_United_Kingdom_ONDJFM_months_1960_2017_ERA5_vs_CANARI\",\n",
    ")"
   ]
  },
  {
   "cell_type": "markdown",
   "metadata": {},
   "source": [
    "I guess this isn't regridded to quite the same resolution..."
   ]
  },
  {
   "cell_type": "markdown",
   "metadata": {},
   "source": [
    "Now try CMCC"
   ]
  },
  {
   "cell_type": "code",
   "execution_count": 104,
   "metadata": {},
   "outputs": [],
   "source": [
    "cmcc_df_path = '/gws/nopw/j04/canari/users/benhutch/unseen/saved_dfs/CMCC-CM2-SR5_tas_United Kingdom_ONDJFM_1961_2014_dcppA-hindcast_Amon.csv'\n",
    "\n",
    "# load the df\n",
    "df_cmcc = pd.read_csv(cmcc_df_path)"
   ]
  },
  {
   "cell_type": "code",
   "execution_count": 106,
   "metadata": {},
   "outputs": [
    {
     "data": {
      "text/html": [
       "<div>\n",
       "<style scoped>\n",
       "    .dataframe tbody tr th:only-of-type {\n",
       "        vertical-align: middle;\n",
       "    }\n",
       "\n",
       "    .dataframe tbody tr th {\n",
       "        vertical-align: top;\n",
       "    }\n",
       "\n",
       "    .dataframe thead th {\n",
       "        text-align: right;\n",
       "    }\n",
       "</style>\n",
       "<table border=\"1\" class=\"dataframe\">\n",
       "  <thead>\n",
       "    <tr style=\"text-align: right;\">\n",
       "      <th></th>\n",
       "      <th>init_year</th>\n",
       "      <th>member</th>\n",
       "      <th>lead</th>\n",
       "      <th>data</th>\n",
       "    </tr>\n",
       "  </thead>\n",
       "  <tbody>\n",
       "    <tr>\n",
       "      <th>0</th>\n",
       "      <td>1961</td>\n",
       "      <td>10</td>\n",
       "      <td>1</td>\n",
       "      <td>279.319733</td>\n",
       "    </tr>\n",
       "    <tr>\n",
       "      <th>1</th>\n",
       "      <td>1961</td>\n",
       "      <td>10</td>\n",
       "      <td>2</td>\n",
       "      <td>279.062789</td>\n",
       "    </tr>\n",
       "    <tr>\n",
       "      <th>2</th>\n",
       "      <td>1961</td>\n",
       "      <td>10</td>\n",
       "      <td>3</td>\n",
       "      <td>278.280338</td>\n",
       "    </tr>\n",
       "    <tr>\n",
       "      <th>3</th>\n",
       "      <td>1961</td>\n",
       "      <td>10</td>\n",
       "      <td>4</td>\n",
       "      <td>279.215125</td>\n",
       "    </tr>\n",
       "    <tr>\n",
       "      <th>4</th>\n",
       "      <td>1961</td>\n",
       "      <td>10</td>\n",
       "      <td>5</td>\n",
       "      <td>279.663555</td>\n",
       "    </tr>\n",
       "  </tbody>\n",
       "</table>\n",
       "</div>"
      ],
      "text/plain": [
       "   init_year  member  lead        data\n",
       "0       1961      10     1  279.319733\n",
       "1       1961      10     2  279.062789\n",
       "2       1961      10     3  278.280338\n",
       "3       1961      10     4  279.215125\n",
       "4       1961      10     5  279.663555"
      ]
     },
     "execution_count": 106,
     "metadata": {},
     "output_type": "execute_result"
    }
   ],
   "source": [
    "df_cmcc.head()"
   ]
  },
  {
   "cell_type": "code",
   "execution_count": 107,
   "metadata": {},
   "outputs": [],
   "source": [
    "# Exract leads 2, 3, and 4\n",
    "df_cmcc = df_cmcc[df_cmcc['lead'].isin([2, 3, 4])]"
   ]
  },
  {
   "cell_type": "code",
   "execution_count": 108,
   "metadata": {},
   "outputs": [
    {
     "data": {
      "text/plain": [
       "array([1961, 1962, 1963, 1964, 1965, 1966, 1967, 1968, 1969, 1970, 1971,\n",
       "       1972, 1973, 1974, 1975, 1976, 1977, 1978, 1979, 1980, 1981, 1982,\n",
       "       1983, 1984, 1985, 1986, 1987, 1988, 1989, 1990, 1991, 1992, 1993,\n",
       "       1994, 1995, 1996, 1997, 1998, 1999, 2000, 2001, 2002, 2003, 2004,\n",
       "       2005, 2006, 2007, 2008, 2009, 2010, 2011, 2012, 2013, 2014])"
      ]
     },
     "execution_count": 108,
     "metadata": {},
     "output_type": "execute_result"
    }
   ],
   "source": [
    "# print the unique init years\n",
    "df_cmcc['init_year'].unique()"
   ]
  },
  {
   "cell_type": "code",
   "execution_count": 110,
   "metadata": {},
   "outputs": [
    {
     "data": {
      "text/plain": [
       "array([1961, 1962, 1963, 1964, 1965, 1966, 1967, 1968, 1969, 1970, 1971,\n",
       "       1972, 1973, 1974, 1975, 1976, 1977, 1978, 1979, 1980, 1981, 1982,\n",
       "       1983, 1984, 1985, 1986, 1987, 1988, 1989, 1990, 1991, 1992, 1993,\n",
       "       1994, 1995, 1996, 1997, 1998, 1999, 2000, 2001, 2002, 2003, 2004,\n",
       "       2005, 2006, 2007, 2008, 2009, 2010, 2011, 2012, 2013, 2014])"
      ]
     },
     "execution_count": 110,
     "metadata": {},
     "output_type": "execute_result"
    }
   ],
   "source": [
    "# print the unique effective dec years in the obs\n",
    "obs_df_mpi[\"effective_dec_year\"].unique()"
   ]
  },
  {
   "cell_type": "code",
   "execution_count": 111,
   "metadata": {},
   "outputs": [],
   "source": [
    "# create a new column for tas c\n",
    "df_cmcc[\"tas_c\"] = df_cmcc[\"data\"] - 273.15"
   ]
  },
  {
   "cell_type": "code",
   "execution_count": 112,
   "metadata": {},
   "outputs": [
    {
     "name": "stdout",
     "output_type": "stream",
     "text": [
      "the number of unique winters is:  54\n",
      "the unique times are:  [1961 1962 1963 1964 1965 1966 1967 1968 1969 1970 1971 1972 1973 1974\n",
      " 1975 1976 1977 1978 1979 1980 1981 1982 1983 1984 1985 1986 1987 1988\n",
      " 1989 1990 1991 1992 1993 1994 1995 1996 1997 1998 1999 2000 2001 2002\n",
      " 2003 2004 2005 2006 2007 2008 2009 2010 2011 2012 2013 2014]\n",
      "Number of days in a model winter: 3\n",
      "Number of days to resample for: 162\n",
      "Unique model times [1961 1962 1963 1964 1965 1966 1967 1968 1969 1970 1971 1972 1973 1974\n",
      " 1975 1976 1977 1978 1979 1980 1981 1982 1983 1984 1985 1986 1987 1988\n",
      " 1989 1990 1991 1992 1993 1994 1995 1996 1997 1998 1999 2000 2001 2002\n",
      " 2003 2004 2005 2006 2007 2008 2009 2010 2011 2012 2013 2014]\n"
     ]
    },
    {
     "name": "stderr",
     "output_type": "stream",
     "text": [
      "Calculating bootstrap statistics: 100%|██████████| 10000/10000 [02:01<00:00, 82.36it/s]\n"
     ]
    },
    {
     "name": "stdout",
     "output_type": "stream",
     "text": [
      "(10000,)\n",
      "shape of obs df obs_val_name:  (162,)\n"
     ]
    },
    {
     "data": {
      "image/png": "[encoded data removed]",
      "text/plain": [
       "<Figure size 1000x600 with 5 Axes>"
      ]
     },
     "metadata": {},
     "output_type": "display_data"
    }
   ],
   "source": [
    "# Plot the distributions and the fidelity\n",
    "plot_distributions_fidelity(\n",
    "    obs_df=obs_df_mpi,\n",
    "    model_df=df_cmcc,\n",
    "    obs_val_name=\"tas_c\",\n",
    "    model_val_name=\"tas_c\",\n",
    "    obs_time_name=\"effective_dec_year\",\n",
    "    model_time_name=\"init_year\",\n",
    "    model_member_name=\"member\",\n",
    "    model_lead_name=None,\n",
    "    title=\"tas United Kingdom ONDJFM months 1961-2013, ERA5 vs. CMCC-CM2-SR5\",\n",
    "    nboot=10000,\n",
    "    figsize=(10, 6),\n",
    "    nbins=40,\n",
    "    fname_prefix=\"tas_United_Kingdom_ONDJFM_months_1960_2017_ERA5_vs_CMCC-CM2-SR5\",\n",
    ")"
   ]
  },
  {
   "cell_type": "code",
   "execution_count": 113,
   "metadata": {},
   "outputs": [],
   "source": [
    "canesm_path = \"/gws/nopw/j04/canari/users/benhutch/unseen/saved_dfs/CanESM5_tas_United Kingdom_ONDJFM_1960_2014_dcppA-hindcast_Amon.csv\"\n",
    "\n",
    "# load the df\n",
    "df_canesm = pd.read_csv(canesm_path)"
   ]
  },
  {
   "cell_type": "code",
   "execution_count": 117,
   "metadata": {},
   "outputs": [
    {
     "data": {
      "text/html": [
       "<div>\n",
       "<style scoped>\n",
       "    .dataframe tbody tr th:only-of-type {\n",
       "        vertical-align: middle;\n",
       "    }\n",
       "\n",
       "    .dataframe tbody tr th {\n",
       "        vertical-align: top;\n",
       "    }\n",
       "\n",
       "    .dataframe thead th {\n",
       "        text-align: right;\n",
       "    }\n",
       "</style>\n",
       "<table border=\"1\" class=\"dataframe\">\n",
       "  <thead>\n",
       "    <tr style=\"text-align: right;\">\n",
       "      <th></th>\n",
       "      <th>init_year</th>\n",
       "      <th>member</th>\n",
       "      <th>lead</th>\n",
       "      <th>data</th>\n",
       "      <th>effective_dec_year</th>\n",
       "    </tr>\n",
       "  </thead>\n",
       "  <tbody>\n",
       "    <tr>\n",
       "      <th>11</th>\n",
       "      <td>1960</td>\n",
       "      <td>10</td>\n",
       "      <td>12</td>\n",
       "      <td>280.743475</td>\n",
       "      <td>1961</td>\n",
       "    </tr>\n",
       "    <tr>\n",
       "      <th>12</th>\n",
       "      <td>1960</td>\n",
       "      <td>10</td>\n",
       "      <td>13</td>\n",
       "      <td>278.745654</td>\n",
       "      <td>1961</td>\n",
       "    </tr>\n",
       "    <tr>\n",
       "      <th>13</th>\n",
       "      <td>1960</td>\n",
       "      <td>10</td>\n",
       "      <td>14</td>\n",
       "      <td>277.846899</td>\n",
       "      <td>1961</td>\n",
       "    </tr>\n",
       "    <tr>\n",
       "      <th>131</th>\n",
       "      <td>1960</td>\n",
       "      <td>11</td>\n",
       "      <td>12</td>\n",
       "      <td>277.978290</td>\n",
       "      <td>1961</td>\n",
       "    </tr>\n",
       "    <tr>\n",
       "      <th>132</th>\n",
       "      <td>1960</td>\n",
       "      <td>11</td>\n",
       "      <td>13</td>\n",
       "      <td>277.417078</td>\n",
       "      <td>1961</td>\n",
       "    </tr>\n",
       "  </tbody>\n",
       "</table>\n",
       "</div>"
      ],
      "text/plain": [
       "     init_year  member  lead        data  effective_dec_year\n",
       "11        1960      10    12  280.743475                1961\n",
       "12        1960      10    13  278.745654                1961\n",
       "13        1960      10    14  277.846899                1961\n",
       "131       1960      11    12  277.978290                1961\n",
       "132       1960      11    13  277.417078                1961"
      ]
     },
     "execution_count": 117,
     "metadata": {},
     "output_type": "execute_result"
    }
   ],
   "source": [
    "df_canesm.head()"
   ]
  },
  {
   "cell_type": "code",
   "execution_count": 115,
   "metadata": {},
   "outputs": [],
   "source": [
    "# extract the specific leads\n",
    "df_canesm = df_canesm[df_canesm['lead'].isin([12, 13, 14])]"
   ]
  },
  {
   "cell_type": "code",
   "execution_count": 116,
   "metadata": {},
   "outputs": [],
   "source": [
    "# Set up the effective dec year\n",
    "df_canesm['effective_dec_year'] = df_canesm['init_year'] + 1"
   ]
  },
  {
   "cell_type": "code",
   "execution_count": 118,
   "metadata": {},
   "outputs": [],
   "source": [
    "# Set up tas c\n",
    "df_canesm[\"tas_c\"] = df_canesm[\"data\"] - 273.15"
   ]
  },
  {
   "cell_type": "code",
   "execution_count": 119,
   "metadata": {},
   "outputs": [
    {
     "data": {
      "text/plain": [
       "array([1961, 1962, 1963, 1964, 1965, 1966, 1967, 1968, 1969, 1970, 1971,\n",
       "       1972, 1973, 1974, 1975, 1976, 1977, 1978, 1979, 1980, 1981, 1982,\n",
       "       1983, 1984, 1985, 1986, 1987, 1988, 1989, 1990, 1991, 1992, 1993,\n",
       "       1994, 1995, 1996, 1997, 1998, 1999, 2000, 2001, 2002, 2003, 2004,\n",
       "       2005, 2006, 2007, 2008, 2009, 2010, 2011, 2012, 2013, 2014, 2015])"
      ]
     },
     "execution_count": 119,
     "metadata": {},
     "output_type": "execute_result"
    }
   ],
   "source": [
    "# print the unique effective dec years in the df_canesm\n",
    "df_canesm[\"effective_dec_year\"].unique()"
   ]
  },
  {
   "cell_type": "code",
   "execution_count": 124,
   "metadata": {},
   "outputs": [],
   "source": [
    "# limit the obs_df to the common years\n",
    "obs_df_canesm = obs_df[obs_df['effective_dec_year'].isin(df_canesm['effective_dec_year'].unique())]"
   ]
  },
  {
   "cell_type": "code",
   "execution_count": 125,
   "metadata": {},
   "outputs": [],
   "source": [
    "# # drop effective dec year 2010 from obs_df_canesm\n",
    "# obs_df_canesm = obs_df_canesm[obs_df_canesm['effective_dec_year'] != 2010]"
   ]
  },
  {
   "cell_type": "code",
   "execution_count": 126,
   "metadata": {},
   "outputs": [],
   "source": [
    "# remove the "
   ]
  },
  {
   "cell_type": "code",
   "execution_count": 127,
   "metadata": {},
   "outputs": [
    {
     "name": "stdout",
     "output_type": "stream",
     "text": [
      "the number of unique winters is:  55\n",
      "the unique times are:  [1961 1962 1963 1964 1965 1966 1967 1968 1969 1970 1971 1972 1973 1974\n",
      " 1975 1976 1977 1978 1979 1980 1981 1982 1983 1984 1985 1986 1987 1988\n",
      " 1989 1990 1991 1992 1993 1994 1995 1996 1997 1998 1999 2000 2001 2002\n",
      " 2003 2004 2005 2006 2007 2008 2009 2010 2011 2012 2013 2014 2015]\n",
      "Number of days in a model winter: 3\n",
      "Number of days to resample for: 165\n",
      "Unique model times [1961 1962 1963 1964 1965 1966 1967 1968 1969 1970 1971 1972 1973 1974\n",
      " 1975 1976 1977 1978 1979 1980 1981 1982 1983 1984 1985 1986 1987 1988\n",
      " 1989 1990 1991 1992 1993 1994 1995 1996 1997 1998 1999 2000 2001 2002\n",
      " 2003 2004 2005 2006 2007 2008 2009 2010 2011 2012 2013 2014 2015]\n"
     ]
    },
    {
     "name": "stderr",
     "output_type": "stream",
     "text": [
      "Calculating bootstrap statistics:   0%|          | 8/10000 [00:00<02:10, 76.86it/s]"
     ]
    },
    {
     "name": "stderr",
     "output_type": "stream",
     "text": [
      "Calculating bootstrap statistics: 100%|██████████| 10000/10000 [02:10<00:00, 76.45it/s]\n"
     ]
    },
    {
     "name": "stdout",
     "output_type": "stream",
     "text": [
      "(10000,)\n",
      "shape of obs df obs_val_name:  (165,)\n"
     ]
    },
    {
     "data": {
      "image/png": "[encoded data removed]",
      "text/plain": [
       "<Figure size 1000x600 with 5 Axes>"
      ]
     },
     "metadata": {},
     "output_type": "display_data"
    }
   ],
   "source": [
    "# Plot the distributions and the fidelity\n",
    "plot_distributions_fidelity(\n",
    "    obs_df=obs_df_canesm,\n",
    "    model_df=df_canesm,\n",
    "    obs_val_name=\"tas_c\",\n",
    "    model_val_name=\"tas_c\",\n",
    "    obs_time_name=\"effective_dec_year\",\n",
    "    model_time_name=\"effective_dec_year\",\n",
    "    model_member_name=\"member\",\n",
    "    model_lead_name=None,\n",
    "    title=\"tas United Kingdom ONDJFM months 1961-2013, ERA5 vs. CanESM5\",\n",
    "    nboot=10000,\n",
    "    figsize=(10, 6),\n",
    "    nbins=40,\n",
    "    fname_prefix=\"tas_United_Kingdom_ONDJFM_months_1960_2017_ERA5_vs_CanESM5\",\n",
    ")"
   ]
  },
  {
   "cell_type": "code",
   "execution_count": 129,
   "metadata": {},
   "outputs": [
    {
     "data": {
      "text/html": [
       "<div>\n",
       "<style scoped>\n",
       "    .dataframe tbody tr th:only-of-type {\n",
       "        vertical-align: middle;\n",
       "    }\n",
       "\n",
       "    .dataframe tbody tr th {\n",
       "        vertical-align: top;\n",
       "    }\n",
       "\n",
       "    .dataframe thead th {\n",
       "        text-align: right;\n",
       "    }\n",
       "</style>\n",
       "<table border=\"1\" class=\"dataframe\">\n",
       "  <thead>\n",
       "    <tr style=\"text-align: right;\">\n",
       "      <th></th>\n",
       "      <th>init_year</th>\n",
       "      <th>member</th>\n",
       "      <th>lead</th>\n",
       "      <th>data</th>\n",
       "    </tr>\n",
       "  </thead>\n",
       "  <tbody>\n",
       "    <tr>\n",
       "      <th>283035</th>\n",
       "      <td>2017</td>\n",
       "      <td>9</td>\n",
       "      <td>118</td>\n",
       "      <td>289.603774</td>\n",
       "    </tr>\n",
       "    <tr>\n",
       "      <th>283036</th>\n",
       "      <td>2017</td>\n",
       "      <td>9</td>\n",
       "      <td>119</td>\n",
       "      <td>285.810047</td>\n",
       "    </tr>\n",
       "    <tr>\n",
       "      <th>283037</th>\n",
       "      <td>2017</td>\n",
       "      <td>9</td>\n",
       "      <td>120</td>\n",
       "      <td>284.156283</td>\n",
       "    </tr>\n",
       "    <tr>\n",
       "      <th>283038</th>\n",
       "      <td>2017</td>\n",
       "      <td>9</td>\n",
       "      <td>121</td>\n",
       "      <td>281.203741</td>\n",
       "    </tr>\n",
       "    <tr>\n",
       "      <th>283039</th>\n",
       "      <td>2017</td>\n",
       "      <td>9</td>\n",
       "      <td>122</td>\n",
       "      <td>278.015042</td>\n",
       "    </tr>\n",
       "  </tbody>\n",
       "</table>\n",
       "</div>"
      ],
      "text/plain": [
       "        init_year  member  lead        data\n",
       "283035       2017       9   118  289.603774\n",
       "283036       2017       9   119  285.810047\n",
       "283037       2017       9   120  284.156283\n",
       "283038       2017       9   121  281.203741\n",
       "283039       2017       9   122  278.015042"
      ]
     },
     "execution_count": 129,
     "metadata": {},
     "output_type": "execute_result"
    }
   ],
   "source": [
    "cesm_path = \"/gws/nopw/j04/canari/users/benhutch/unseen/saved_dfs/CESM1-1-CAM5-CMIP5_tas_United Kingdom_ONDJFM_1960_2017_dcppA-hindcast_Amon.csv\"\n",
    "\n",
    "# load the df\n",
    "df_cesm = pd.read_csv(cesm_path)\n",
    "\n"
   ]
  },
  {
   "cell_type": "code",
   "execution_count": 130,
   "metadata": {},
   "outputs": [
    {
     "data": {
      "text/plain": [
       "array([10, 11, 12, 13, 14, 15, 16, 17, 18, 19,  1, 20, 21, 22, 23, 24, 25,\n",
       "       26, 27, 28, 29,  2, 30, 31, 32, 33, 34, 35, 36, 37, 38, 39,  3, 40,\n",
       "        4,  5,  6,  7,  8,  9])"
      ]
     },
     "execution_count": 130,
     "metadata": {},
     "output_type": "execute_result"
    }
   ],
   "source": [
    "df_cesm[\"member\"].unique()"
   ]
  },
  {
   "cell_type": "code",
   "execution_count": 131,
   "metadata": {},
   "outputs": [],
   "source": [
    "# subset to the first leads\n",
    "df_cesm = df_cesm[df_cesm['lead'].isin([2, 3, 4])]"
   ]
  },
  {
   "cell_type": "code",
   "execution_count": 132,
   "metadata": {},
   "outputs": [],
   "source": [
    "# process the tas_c\n",
    "df_cesm[\"tas_c\"] = df_cesm[\"data\"] - 273.15"
   ]
  },
  {
   "cell_type": "code",
   "execution_count": 133,
   "metadata": {},
   "outputs": [
    {
     "data": {
      "text/plain": [
       "array([1960, 1961, 1962, 1963, 1964, 1965, 1966, 1967, 1968, 1969, 1970,\n",
       "       1971, 1972, 1973, 1974, 1975, 1976, 1977, 1978, 1979, 1980, 1981,\n",
       "       1982, 1983, 1984, 1985, 1986, 1987, 1988, 1989, 1990, 1991, 1992,\n",
       "       1993, 1994, 1995, 1996, 1997, 1998, 1999, 2000, 2001, 2002, 2003,\n",
       "       2004, 2005, 2006, 2007, 2008, 2009, 2010, 2011, 2012, 2013, 2014,\n",
       "       2015, 2016, 2017])"
      ]
     },
     "execution_count": 133,
     "metadata": {},
     "output_type": "execute_result"
    }
   ],
   "source": [
    "# print the unique init years\n",
    "df_cesm['init_year'].unique()"
   ]
  },
  {
   "cell_type": "code",
   "execution_count": 134,
   "metadata": {},
   "outputs": [
    {
     "data": {
      "text/plain": [
       "array([1961, 1962, 1963, 1964, 1965, 1966, 1967, 1968, 1969, 1970, 1971,\n",
       "       1972, 1973, 1974, 1975, 1976, 1977, 1978, 1979, 1980, 1981, 1982,\n",
       "       1983, 1984, 1985, 1986, 1987, 1988, 1989, 1990, 1991, 1992, 1993,\n",
       "       1994, 1995, 1996, 1997, 1998, 1999, 2000, 2001, 2002, 2003, 2004,\n",
       "       2005, 2006, 2007, 2008, 2009, 2010, 2011, 2012, 2013, 2014, 2015,\n",
       "       2016, 2017])"
      ]
     },
     "execution_count": 134,
     "metadata": {},
     "output_type": "execute_result"
    }
   ],
   "source": [
    "obs_df[\"effective_dec_year\"].unique()"
   ]
  },
  {
   "cell_type": "code",
   "execution_count": 135,
   "metadata": {},
   "outputs": [],
   "source": [
    "# limit the df_cesm to the yars in the obs\n",
    "df_cesm = df_cesm[df_cesm['init_year'].isin(obs_df[\"effective_dec_year\"].unique())]"
   ]
  },
  {
   "cell_type": "code",
   "execution_count": 136,
   "metadata": {},
   "outputs": [
    {
     "name": "stdout",
     "output_type": "stream",
     "text": [
      "the number of unique winters is:  57\n",
      "the unique times are:  [1961 1962 1963 1964 1965 1966 1967 1968 1969 1970 1971 1972 1973 1974\n",
      " 1975 1976 1977 1978 1979 1980 1981 1982 1983 1984 1985 1986 1987 1988\n",
      " 1989 1990 1991 1992 1993 1994 1995 1996 1997 1998 1999 2000 2001 2002\n",
      " 2003 2004 2005 2006 2007 2008 2009 2010 2011 2012 2013 2014 2015 2016\n",
      " 2017]\n",
      "Number of days in a model winter: 3\n",
      "Number of days to resample for: 171\n",
      "Unique model times [1961 1962 1963 1964 1965 1966 1967 1968 1969 1970 1971 1972 1973 1974\n",
      " 1975 1976 1977 1978 1979 1980 1981 1982 1983 1984 1985 1986 1987 1988\n",
      " 1989 1990 1991 1992 1993 1994 1995 1996 1997 1998 1999 2000 2001 2002\n",
      " 2003 2004 2005 2006 2007 2008 2009 2010 2011 2012 2013 2014 2015 2016\n",
      " 2017]\n"
     ]
    },
    {
     "name": "stderr",
     "output_type": "stream",
     "text": [
      "Calculating bootstrap statistics: 100%|██████████| 10000/10000 [02:10<00:00, 76.90it/s]\n"
     ]
    },
    {
     "name": "stdout",
     "output_type": "stream",
     "text": [
      "(10000,)\n",
      "shape of obs df obs_val_name:  (171,)\n"
     ]
    },
    {
     "data": {
      "image/png": "[encoded data removed]",
      "text/plain": [
       "<Figure size 1000x600 with 5 Axes>"
      ]
     },
     "metadata": {},
     "output_type": "display_data"
    }
   ],
   "source": [
    "# Plot the distributions and the fidelity\n",
    "plot_distributions_fidelity(\n",
    "    obs_df=obs_df,\n",
    "    model_df=df_cesm,\n",
    "    obs_val_name=\"tas_c\",\n",
    "    model_val_name=\"tas_c\",\n",
    "    obs_time_name=\"effective_dec_year\",\n",
    "    model_time_name=\"init_year\",\n",
    "    model_member_name=\"member\",\n",
    "    model_lead_name=None,\n",
    "    title=\"tas United Kingdom ONDJFM months 1961-2017, ERA5 vs. CESM\",\n",
    "    nboot=10000,\n",
    "    figsize=(10, 6),\n",
    "    nbins=40,\n",
    "    fname_prefix=\"tas_United_Kingdom_ONDJFM_months_1960_2017_ERA5_vs_CESM\",\n",
    ")"
   ]
  },
  {
   "cell_type": "code",
   "execution_count": 137,
   "metadata": {},
   "outputs": [],
   "source": [
    "bcc_path = \"/gws/nopw/j04/canari/users/benhutch/unseen/saved_dfs/BCC-CSM2-MR_tas_United Kingdom_ONDJFM_1961_2014_dcppA-hindcast_Amon.csv\"\n",
    "\n",
    "# load the bcc data\n",
    "df_bcc = pd.read_csv(bcc_path)"
   ]
  },
  {
   "cell_type": "code",
   "execution_count": 138,
   "metadata": {},
   "outputs": [],
   "source": [
    "# select the first leads\n",
    "df_bcc = df_bcc[df_bcc['lead'].isin([2, 3, 4])]"
   ]
  },
  {
   "cell_type": "code",
   "execution_count": 139,
   "metadata": {},
   "outputs": [],
   "source": [
    "# create the tas column\n",
    "df_bcc[\"tas_c\"] = df_bcc[\"data\"] - 273.15"
   ]
  },
  {
   "cell_type": "code",
   "execution_count": 140,
   "metadata": {},
   "outputs": [
    {
     "data": {
      "text/plain": [
       "array([1961, 1962, 1963, 1964, 1965, 1966, 1967, 1968, 1969, 1970, 1971,\n",
       "       1972, 1973, 1974, 1975, 1976, 1977, 1978, 1979, 1980, 1981, 1982,\n",
       "       1983, 1984, 1985, 1986, 1987, 1988, 1989, 1990, 1991, 1992, 1993,\n",
       "       1994, 1995, 1996, 1997, 1998, 1999, 2000, 2001, 2002, 2003, 2004,\n",
       "       2005, 2006, 2007, 2008, 2009, 2010, 2011, 2012, 2013, 2014])"
      ]
     },
     "execution_count": 140,
     "metadata": {},
     "output_type": "execute_result"
    }
   ],
   "source": [
    "# print the unique init years\n",
    "df_bcc['init_year'].unique()"
   ]
  },
  {
   "cell_type": "code",
   "execution_count": 141,
   "metadata": {},
   "outputs": [
    {
     "data": {
      "text/plain": [
       "array([1961, 1962, 1963, 1964, 1965, 1966, 1967, 1968, 1969, 1970, 1971,\n",
       "       1972, 1973, 1974, 1975, 1976, 1977, 1978, 1979, 1980, 1981, 1982,\n",
       "       1983, 1984, 1985, 1986, 1987, 1988, 1989, 1990, 1991, 1992, 1993,\n",
       "       1994, 1995, 1996, 1997, 1998, 1999, 2000, 2001, 2002, 2003, 2004,\n",
       "       2005, 2006, 2007, 2008, 2009, 2010, 2011, 2012, 2013, 2014, 2015,\n",
       "       2016, 2017])"
      ]
     },
     "execution_count": 141,
     "metadata": {},
     "output_type": "execute_result"
    }
   ],
   "source": [
    "# print the unique effective dec years in the obs\n",
    "obs_df[\"effective_dec_year\"].unique()"
   ]
  },
  {
   "cell_type": "code",
   "execution_count": 142,
   "metadata": {},
   "outputs": [],
   "source": [
    "obs_df_bcc = obs_df[obs_df['effective_dec_year'].isin(df_bcc['init_year'].unique())]"
   ]
  },
  {
   "cell_type": "code",
   "execution_count": 143,
   "metadata": {},
   "outputs": [
    {
     "name": "stdout",
     "output_type": "stream",
     "text": [
      "the number of unique winters is:  54\n",
      "the unique times are:  [1961 1962 1963 1964 1965 1966 1967 1968 1969 1970 1971 1972 1973 1974\n",
      " 1975 1976 1977 1978 1979 1980 1981 1982 1983 1984 1985 1986 1987 1988\n",
      " 1989 1990 1991 1992 1993 1994 1995 1996 1997 1998 1999 2000 2001 2002\n",
      " 2003 2004 2005 2006 2007 2008 2009 2010 2011 2012 2013 2014]\n",
      "Number of days in a model winter: 3\n",
      "Number of days to resample for: 162\n",
      "Unique model times [1961 1962 1963 1964 1965 1966 1967 1968 1969 1970 1971 1972 1973 1974\n",
      " 1975 1976 1977 1978 1979 1980 1981 1982 1983 1984 1985 1986 1987 1988\n",
      " 1989 1990 1991 1992 1993 1994 1995 1996 1997 1998 1999 2000 2001 2002\n",
      " 2003 2004 2005 2006 2007 2008 2009 2010 2011 2012 2013 2014]\n"
     ]
    },
    {
     "name": "stderr",
     "output_type": "stream",
     "text": [
      "Calculating bootstrap statistics: 100%|██████████| 10000/10000 [02:01<00:00, 82.55it/s]\n"
     ]
    },
    {
     "name": "stdout",
     "output_type": "stream",
     "text": [
      "(10000,)\n",
      "shape of obs df obs_val_name:  (162,)\n"
     ]
    },
    {
     "data": {
      "image/png": "[encoded data removed]",
      "text/plain": [
       "<Figure size 1000x600 with 5 Axes>"
      ]
     },
     "metadata": {},
     "output_type": "display_data"
    }
   ],
   "source": [
    "# Plot the distributions and the fidelity\n",
    "plot_distributions_fidelity(\n",
    "    obs_df=obs_df_bcc,\n",
    "    model_df=df_bcc,\n",
    "    obs_val_name=\"tas_c\",\n",
    "    model_val_name=\"tas_c\",\n",
    "    obs_time_name=\"effective_dec_year\",\n",
    "    model_time_name=\"init_year\",\n",
    "    model_member_name=\"member\",\n",
    "    model_lead_name=None,\n",
    "    title=\"tas United Kingdom ONDJFM months 1961-2013, ERA5 vs. BCC-CSM2-MR\",\n",
    "    nboot=10000,\n",
    "    figsize=(10, 6),\n",
    "    nbins=40,\n",
    "    fname_prefix=\"tas_United_Kingdom_ONDJFM_months_1960_2017_ERA5_vs_BCC-CSM2-MR\",\n",
    ")"
   ]
  }
 ],
 "metadata": {
  "kernelspec": {
   "display_name": "bens-conda-env2",
   "language": "python",
   "name": "python3"
  },
  "language_info": {
   "codemirror_mode": {
    "name": "ipython",
    "version": 3
   },
   "file_extension": ".py",
   "mimetype": "text/x-python",
   "name": "python",
   "nbconvert_exporter": "python",
   "pygments_lexer": "ipython3",
   "version": "3.11.10"
  }
 },
 "nbformat": 4,
 "nbformat_minor": 2
}
