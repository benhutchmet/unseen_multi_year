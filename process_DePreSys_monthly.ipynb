{
 "cells": [
  {
   "cell_type": "markdown",
   "metadata": {},
   "source": [
    "### Processing monthly DePreSys ###\n",
    "\n",
    "For the first lead time winter (DJF), we want to collate all of the monthly means and perform the standard fidelity testing method, as in Thompson et al. (2017, doi: 10.1038/s41467-017-00275-3).\n",
    "\n",
    "For both:\n",
    "\n",
    "* 2m temperature (with a linear detrend/pivot applied)\n",
    "* 10m winds or 850hPa winds\n",
    "\n",
    "First we want to fidelity test the meteorological variables:\n",
    "\n",
    "* 2m temp (UK land mask)\n",
    "* 10m wind speed (UK wind grid box)\n",
    "* 850hPa winds (UK wind grid box)\n",
    "\n",
    "Then we want to quantify the regression relationships between:\n",
    "\n",
    "1) monthly mean temperature and weather dependent electricity demand.\n",
    "2) monthly mean wind speed (10m and 850hPa) and total wind generation\n",
    "\n",
    "Then use these relationships to translate the model met variables into energy variables.\n",
    "\n",
    "So we can explore the relationship between winter mean conditions and the likelihood of bad seasons in terms of both the mean state and also the likelihood of seeing extremes."
   ]
  },
  {
   "cell_type": "code",
   "execution_count": 1,
   "metadata": {},
   "outputs": [
    {
     "name": "stderr",
     "output_type": "stream",
     "text": [
      "/home/users/benhutch/.conda/envs/bens-conda-env2/lib/python3.11/site-packages/pyproj/network.py:59: UserWarning: pyproj unable to set PROJ database path.\n",
      "  _set_context_ca_bundle_path(ca_bundle_path)\n"
     ]
    }
   ],
   "source": [
    "# Local imports\n",
    "import os\n",
    "import sys\n",
    "import time\n",
    "import argparse\n",
    "import calendar\n",
    "\n",
    "# Third-party imports\n",
    "import numpy as np\n",
    "import xarray as xr\n",
    "import matplotlib.pyplot as plt\n",
    "import pandas as pd\n",
    "import shapely.geometry\n",
    "import cartopy.crs as ccrs\n",
    "import cartopy.io.shapereader as shpreader\n",
    "import iris\n",
    "\n",
    "# Specific imports\n",
    "from tqdm import tqdm\n",
    "from datetime import datetime, timedelta"
   ]
  },
  {
   "cell_type": "code",
   "execution_count": 2,
   "metadata": {},
   "outputs": [],
   "source": [
    "sys.path.append(\"/home/users/benhutch/unseen_functions/\")\n",
    "from functions import plot_distributions_fidelity"
   ]
  },
  {
   "cell_type": "code",
   "execution_count": 3,
   "metadata": {},
   "outputs": [],
   "source": [
    "djf_file_path = '/gws/nopw/j04/canari/users/benhutch/unseen/saved_dfs/HadGEM3-GC31-MM_tas_United Kingdom_DJF_1960_2018_dcppA-hindcast_Amon.csv'\n",
    "\n",
    "# check the winters available in this\n",
    "df = pd.read_csv(djf_file_path)"
   ]
  },
  {
   "cell_type": "code",
   "execution_count": 4,
   "metadata": {},
   "outputs": [
    {
     "data": {
      "text/html": [
       "<div>\n",
       "<style scoped>\n",
       "    .dataframe tbody tr th:only-of-type {\n",
       "        vertical-align: middle;\n",
       "    }\n",
       "\n",
       "    .dataframe tbody tr th {\n",
       "        vertical-align: top;\n",
       "    }\n",
       "\n",
       "    .dataframe thead th {\n",
       "        text-align: right;\n",
       "    }\n",
       "</style>\n",
       "<table border=\"1\" class=\"dataframe\">\n",
       "  <thead>\n",
       "    <tr style=\"text-align: right;\">\n",
       "      <th></th>\n",
       "      <th>init_year</th>\n",
       "      <th>member</th>\n",
       "      <th>lead</th>\n",
       "      <th>data</th>\n",
       "    </tr>\n",
       "  </thead>\n",
       "  <tbody>\n",
       "    <tr>\n",
       "      <th>73745</th>\n",
       "      <td>2018</td>\n",
       "      <td>9</td>\n",
       "      <td>121</td>\n",
       "      <td>279.425814</td>\n",
       "    </tr>\n",
       "    <tr>\n",
       "      <th>73746</th>\n",
       "      <td>2018</td>\n",
       "      <td>9</td>\n",
       "      <td>122</td>\n",
       "      <td>275.692171</td>\n",
       "    </tr>\n",
       "    <tr>\n",
       "      <th>73747</th>\n",
       "      <td>2018</td>\n",
       "      <td>9</td>\n",
       "      <td>123</td>\n",
       "      <td>275.730993</td>\n",
       "    </tr>\n",
       "    <tr>\n",
       "      <th>73748</th>\n",
       "      <td>2018</td>\n",
       "      <td>9</td>\n",
       "      <td>124</td>\n",
       "      <td>278.457006</td>\n",
       "    </tr>\n",
       "    <tr>\n",
       "      <th>73749</th>\n",
       "      <td>2018</td>\n",
       "      <td>9</td>\n",
       "      <td>125</td>\n",
       "      <td>277.875223</td>\n",
       "    </tr>\n",
       "  </tbody>\n",
       "</table>\n",
       "</div>"
      ],
      "text/plain": [
       "       init_year  member  lead        data\n",
       "73745       2018       9   121  279.425814\n",
       "73746       2018       9   122  275.692171\n",
       "73747       2018       9   123  275.730993\n",
       "73748       2018       9   124  278.457006\n",
       "73749       2018       9   125  277.875223"
      ]
     },
     "execution_count": 4,
     "metadata": {},
     "output_type": "execute_result"
    }
   ],
   "source": [
    "df.tail()"
   ]
  },
  {
   "cell_type": "code",
   "execution_count": 5,
   "metadata": {},
   "outputs": [
    {
     "name": "stderr",
     "output_type": "stream",
     "text": [
      "/home/users/benhutch/.conda/envs/bens-conda-env2/lib/python3.11/site-packages/iris/fileformats/cf.py:880: IrisCfMissingVarWarning: Missing CF-netCDF measure variable 'areacella', referenced by netCDF variable 'tas'\n",
      "  warnings.warn(\n"
     ]
    }
   ],
   "source": [
    "# import the test file\n",
    "test_file_path = \"/gws/nopw/j04/canari/users/benhutch/dcppA-hindcast/data/tas/HadGEM3-GC31-MM/merged_files/tas_Amon_HadGEM3-GC31-MM_dcppA-hindcast_s1961-r10i1p1f2_gn_196111-197203.nc\"\n",
    "\n",
    "test_cube = iris.load_cube(test_file_path)"
   ]
  },
  {
   "cell_type": "code",
   "execution_count": 6,
   "metadata": {},
   "outputs": [
    {
     "data": {
      "text/plain": [
       "(125, 324, 432)"
      ]
     },
     "execution_count": 6,
     "metadata": {},
     "output_type": "execute_result"
    }
   ],
   "source": [
    "test_cube.shape"
   ]
  },
  {
   "cell_type": "code",
   "execution_count": 7,
   "metadata": {},
   "outputs": [
    {
     "name": "stdout",
     "output_type": "stream",
     "text": [
      "1961-11-16 00:00:00\n",
      "1961-12-16 00:00:00\n",
      "1962-01-16 00:00:00\n",
      "1962-02-16 00:00:00\n",
      "1962-03-16 00:00:00\n",
      "1962-04-16 00:00:00\n",
      "1962-05-16 00:00:00\n",
      "1962-06-16 00:00:00\n",
      "1962-07-16 00:00:00\n",
      "1962-08-16 00:00:00\n",
      "1962-09-16 00:00:00\n",
      "1962-10-16 00:00:00\n",
      "1962-11-16 00:00:00\n",
      "1962-12-16 00:00:00\n",
      "1963-01-16 00:00:00\n",
      "1963-02-16 00:00:00\n",
      "1963-03-16 00:00:00\n",
      "1963-04-16 00:00:00\n",
      "1963-05-16 00:00:00\n",
      "1963-06-16 00:00:00\n",
      "1963-07-16 00:00:00\n",
      "1963-08-16 00:00:00\n",
      "1963-09-16 00:00:00\n",
      "1963-10-16 00:00:00\n",
      "1963-11-16 00:00:00\n",
      "1963-12-16 00:00:00\n",
      "1964-01-16 00:00:00\n",
      "1964-02-16 00:00:00\n",
      "1964-03-16 00:00:00\n",
      "1964-04-16 00:00:00\n",
      "1964-05-16 00:00:00\n",
      "1964-06-16 00:00:00\n",
      "1964-07-16 00:00:00\n",
      "1964-08-16 00:00:00\n",
      "1964-09-16 00:00:00\n",
      "1964-10-16 00:00:00\n",
      "1964-11-16 00:00:00\n",
      "1964-12-16 00:00:00\n",
      "1965-01-16 00:00:00\n",
      "1965-02-16 00:00:00\n",
      "1965-03-16 00:00:00\n",
      "1965-04-16 00:00:00\n",
      "1965-05-16 00:00:00\n",
      "1965-06-16 00:00:00\n",
      "1965-07-16 00:00:00\n",
      "1965-08-16 00:00:00\n",
      "1965-09-16 00:00:00\n",
      "1965-10-16 00:00:00\n",
      "1965-11-16 00:00:00\n",
      "1965-12-16 00:00:00\n",
      "1966-01-16 00:00:00\n",
      "1966-02-16 00:00:00\n",
      "1966-03-16 00:00:00\n",
      "1966-04-16 00:00:00\n",
      "1966-05-16 00:00:00\n",
      "1966-06-16 00:00:00\n",
      "1966-07-16 00:00:00\n",
      "1966-08-16 00:00:00\n",
      "1966-09-16 00:00:00\n",
      "1966-10-16 00:00:00\n",
      "1966-11-16 00:00:00\n",
      "1966-12-16 00:00:00\n",
      "1967-01-16 00:00:00\n",
      "1967-02-16 00:00:00\n",
      "1967-03-16 00:00:00\n",
      "1967-04-16 00:00:00\n",
      "1967-05-16 00:00:00\n",
      "1967-06-16 00:00:00\n",
      "1967-07-16 00:00:00\n",
      "1967-08-16 00:00:00\n",
      "1967-09-16 00:00:00\n",
      "1967-10-16 00:00:00\n",
      "1967-11-16 00:00:00\n",
      "1967-12-16 00:00:00\n",
      "1968-01-16 00:00:00\n",
      "1968-02-16 00:00:00\n",
      "1968-03-16 00:00:00\n",
      "1968-04-16 00:00:00\n",
      "1968-05-16 00:00:00\n",
      "1968-06-16 00:00:00\n",
      "1968-07-16 00:00:00\n",
      "1968-08-16 00:00:00\n",
      "1968-09-16 00:00:00\n",
      "1968-10-16 00:00:00\n",
      "1968-11-16 00:00:00\n",
      "1968-12-16 00:00:00\n",
      "1969-01-16 00:00:00\n",
      "1969-02-16 00:00:00\n",
      "1969-03-16 00:00:00\n",
      "1969-04-16 00:00:00\n",
      "1969-05-16 00:00:00\n",
      "1969-06-16 00:00:00\n",
      "1969-07-16 00:00:00\n",
      "1969-08-16 00:00:00\n",
      "1969-09-16 00:00:00\n",
      "1969-10-16 00:00:00\n",
      "1969-11-16 00:00:00\n",
      "1969-12-16 00:00:00\n",
      "1970-01-16 00:00:00\n",
      "1970-02-16 00:00:00\n",
      "1970-03-16 00:00:00\n",
      "1970-04-16 00:00:00\n",
      "1970-05-16 00:00:00\n",
      "1970-06-16 00:00:00\n",
      "1970-07-16 00:00:00\n",
      "1970-08-16 00:00:00\n",
      "1970-09-16 00:00:00\n",
      "1970-10-16 00:00:00\n",
      "1970-11-16 00:00:00\n",
      "1970-12-16 00:00:00\n",
      "1971-01-16 00:00:00\n",
      "1971-02-16 00:00:00\n",
      "1971-03-16 00:00:00\n",
      "1971-04-16 00:00:00\n",
      "1971-05-16 00:00:00\n",
      "1971-06-16 00:00:00\n",
      "1971-07-16 00:00:00\n",
      "1971-08-16 00:00:00\n",
      "1971-09-16 00:00:00\n",
      "1971-10-16 00:00:00\n",
      "1971-11-16 00:00:00\n",
      "1971-12-16 00:00:00\n",
      "1972-01-16 00:00:00\n",
      "1972-02-16 00:00:00\n",
      "1972-03-16 00:00:00\n"
     ]
    }
   ],
   "source": [
    "# Extract the time coordinate\n",
    "time_coord = test_cube.coord('time')\n",
    "\n",
    "# Convert the time points to a human-readable format\n",
    "time_points = time_coord.units.num2date(time_coord.points)\n",
    "\n",
    "# Print the time values\n",
    "for time_point in time_points:\n",
    "    print(time_point)"
   ]
  },
  {
   "cell_type": "markdown",
   "metadata": {},
   "source": [
    "First DJF winter is lead months 2, 3, and 4. "
   ]
  },
  {
   "cell_type": "code",
   "execution_count": 8,
   "metadata": {},
   "outputs": [],
   "source": [
    "# # Subset the dataframe to leads 2, 3, and 4\n",
    "df_subset = df[df['lead'].isin([12, 13, 14, 15, 16, 17])]"
   ]
  },
  {
   "cell_type": "code",
   "execution_count": 9,
   "metadata": {},
   "outputs": [
    {
     "data": {
      "text/plain": [
       "array([12, 13, 14, 15, 16, 17])"
      ]
     },
     "execution_count": 9,
     "metadata": {},
     "output_type": "execute_result"
    }
   ],
   "source": [
    "df_subset['lead'].unique()"
   ]
  },
  {
   "cell_type": "code",
   "execution_count": 10,
   "metadata": {},
   "outputs": [],
   "source": [
    "# # Set up a winter years\n",
    "# winter_years = np.arange(1, 11 + 1)\n",
    "\n",
    "# # Set up an empty dataframe to store the results\n",
    "# df_winters = pd.DataFrame()\n",
    "\n",
    "# # Loop over the winter years\n",
    "# for i, wyear in enumerate(winter_years):\n",
    "#     leads_this = np.arange((i * 12) + 2, (i * 12) + 5)\n",
    "\n",
    "#     # Subset the df to the winter year\n",
    "#     df_subset = df[df['lead'].isin(leads_this)]\n",
    "\n",
    "#     # Add a new column for the winter year\n",
    "#     df_subset['winter_year'] = wyear\n",
    "\n",
    "#     # concatenate the results\n",
    "#     df_winters = pd.concat([df_winters, df_subset])"
   ]
  },
  {
   "cell_type": "code",
   "execution_count": 12,
   "metadata": {},
   "outputs": [],
   "source": [
    "# limit to init years 1960 to 2017\n",
    "df_subset = df_subset[df_subset['init_year'].isin(range(1960, 2018))]"
   ]
  },
  {
   "cell_type": "code",
   "execution_count": 13,
   "metadata": {},
   "outputs": [],
   "source": [
    "# set up effective dec year for df_subset\n",
    "df_subset['effective_dec_year'] = df_subset['init_year'] + 1"
   ]
  },
  {
   "cell_type": "code",
   "execution_count": 14,
   "metadata": {},
   "outputs": [
    {
     "data": {
      "text/html": [
       "<div>\n",
       "<style scoped>\n",
       "    .dataframe tbody tr th:only-of-type {\n",
       "        vertical-align: middle;\n",
       "    }\n",
       "\n",
       "    .dataframe tbody tr th {\n",
       "        vertical-align: top;\n",
       "    }\n",
       "\n",
       "    .dataframe thead th {\n",
       "        text-align: right;\n",
       "    }\n",
       "</style>\n",
       "<table border=\"1\" class=\"dataframe\">\n",
       "  <thead>\n",
       "    <tr style=\"text-align: right;\">\n",
       "      <th></th>\n",
       "      <th>init_year</th>\n",
       "      <th>member</th>\n",
       "      <th>lead</th>\n",
       "      <th>data</th>\n",
       "      <th>effective_dec_year</th>\n",
       "    </tr>\n",
       "  </thead>\n",
       "  <tbody>\n",
       "    <tr>\n",
       "      <th>11</th>\n",
       "      <td>1960</td>\n",
       "      <td>10</td>\n",
       "      <td>12</td>\n",
       "      <td>283.084343</td>\n",
       "      <td>1961</td>\n",
       "    </tr>\n",
       "    <tr>\n",
       "      <th>12</th>\n",
       "      <td>1960</td>\n",
       "      <td>10</td>\n",
       "      <td>13</td>\n",
       "      <td>278.981183</td>\n",
       "      <td>1961</td>\n",
       "    </tr>\n",
       "    <tr>\n",
       "      <th>13</th>\n",
       "      <td>1960</td>\n",
       "      <td>10</td>\n",
       "      <td>14</td>\n",
       "      <td>275.849635</td>\n",
       "      <td>1961</td>\n",
       "    </tr>\n",
       "    <tr>\n",
       "      <th>14</th>\n",
       "      <td>1960</td>\n",
       "      <td>10</td>\n",
       "      <td>15</td>\n",
       "      <td>276.140779</td>\n",
       "      <td>1961</td>\n",
       "    </tr>\n",
       "    <tr>\n",
       "      <th>15</th>\n",
       "      <td>1960</td>\n",
       "      <td>10</td>\n",
       "      <td>16</td>\n",
       "      <td>276.147612</td>\n",
       "      <td>1961</td>\n",
       "    </tr>\n",
       "  </tbody>\n",
       "</table>\n",
       "</div>"
      ],
      "text/plain": [
       "    init_year  member  lead        data  effective_dec_year\n",
       "11       1960      10    12  283.084343                1961\n",
       "12       1960      10    13  278.981183                1961\n",
       "13       1960      10    14  275.849635                1961\n",
       "14       1960      10    15  276.140779                1961\n",
       "15       1960      10    16  276.147612                1961"
      ]
     },
     "execution_count": 14,
     "metadata": {},
     "output_type": "execute_result"
    }
   ],
   "source": [
    "df_subset.head()"
   ]
  },
  {
   "cell_type": "code",
   "execution_count": 15,
   "metadata": {},
   "outputs": [
    {
     "data": {
      "text/plain": [
       "array([12, 13, 14, 15, 16, 17])"
      ]
     },
     "execution_count": 15,
     "metadata": {},
     "output_type": "execute_result"
    }
   ],
   "source": [
    "df_subset[\"lead\"].unique()"
   ]
  },
  {
   "cell_type": "code",
   "execution_count": 15,
   "metadata": {},
   "outputs": [],
   "source": [
    "# # limit the df winters to init years between 1960 and 2017\n",
    "# df_winters = df_winters[df_winters['init_year'].isin(df_subset[\"effective_dec_year\"].unique())]"
   ]
  },
  {
   "cell_type": "code",
   "execution_count": 16,
   "metadata": {},
   "outputs": [],
   "source": [
    "# import the obs\n",
    "obs_path = \"/gws/nopw/j04/canari/users/benhutch/unseen/saved_dfs/ERA5_obs_tas_United Kingdom_DJF_1960_2018.csv\"\n",
    "\n",
    "obs_df = pd.read_csv(obs_path)"
   ]
  },
  {
   "cell_type": "code",
   "execution_count": 17,
   "metadata": {},
   "outputs": [
    {
     "data": {
      "text/html": [
       "<div>\n",
       "<style scoped>\n",
       "    .dataframe tbody tr th:only-of-type {\n",
       "        vertical-align: middle;\n",
       "    }\n",
       "\n",
       "    .dataframe tbody tr th {\n",
       "        vertical-align: top;\n",
       "    }\n",
       "\n",
       "    .dataframe thead th {\n",
       "        text-align: right;\n",
       "    }\n",
       "</style>\n",
       "<table border=\"1\" class=\"dataframe\">\n",
       "  <thead>\n",
       "    <tr style=\"text-align: right;\">\n",
       "      <th></th>\n",
       "      <th>time</th>\n",
       "      <th>obs</th>\n",
       "    </tr>\n",
       "  </thead>\n",
       "  <tbody>\n",
       "    <tr>\n",
       "      <th>0</th>\n",
       "      <td>1960-12-01</td>\n",
       "      <td>276.477476</td>\n",
       "    </tr>\n",
       "    <tr>\n",
       "      <th>1</th>\n",
       "      <td>1961-01-01</td>\n",
       "      <td>275.904981</td>\n",
       "    </tr>\n",
       "    <tr>\n",
       "      <th>2</th>\n",
       "      <td>1961-02-01</td>\n",
       "      <td>279.151625</td>\n",
       "    </tr>\n",
       "    <tr>\n",
       "      <th>3</th>\n",
       "      <td>1961-03-01</td>\n",
       "      <td>280.353685</td>\n",
       "    </tr>\n",
       "    <tr>\n",
       "      <th>4</th>\n",
       "      <td>1961-04-01</td>\n",
       "      <td>281.654381</td>\n",
       "    </tr>\n",
       "  </tbody>\n",
       "</table>\n",
       "</div>"
      ],
      "text/plain": [
       "         time         obs\n",
       "0  1960-12-01  276.477476\n",
       "1  1961-01-01  275.904981\n",
       "2  1961-02-01  279.151625\n",
       "3  1961-03-01  280.353685\n",
       "4  1961-04-01  281.654381"
      ]
     },
     "execution_count": 17,
     "metadata": {},
     "output_type": "execute_result"
    }
   ],
   "source": [
    "obs_df.head()"
   ]
  },
  {
   "cell_type": "code",
   "execution_count": 18,
   "metadata": {},
   "outputs": [],
   "source": [
    "# limit obs df between 1960-11-31 and 2018-03-01\n",
    "obs_df = obs_df[(obs_df['time'] >= '1961-09-30') & (obs_df['time'] <= '2018-04-01')]"
   ]
  },
  {
   "cell_type": "code",
   "execution_count": 19,
   "metadata": {},
   "outputs": [],
   "source": [
    "# Subset to only include months 12, 1, and 2\n",
    "obs_df['month'] = pd.DatetimeIndex(obs_df['time']).month\n",
    "\n",
    "obs_df = obs_df[obs_df['month'].isin([10, 11, 12, 1, 2, 3])]"
   ]
  },
  {
   "cell_type": "code",
   "execution_count": 20,
   "metadata": {},
   "outputs": [],
   "source": [
    "# ensure that time is a valid datetime\n",
    "obs_df['time'] = pd.to_datetime(obs_df['time'])"
   ]
  },
  {
   "cell_type": "code",
   "execution_count": 21,
   "metadata": {},
   "outputs": [],
   "source": [
    "def determine_effective_dec_year(row):\n",
    "    year = row[\"time\"].year\n",
    "    month = row[\"time\"].month\n",
    "    if month in [1, 2, 3]:\n",
    "        return year - 1\n",
    "    elif month in [10, 11, 12]:\n",
    "        return year\n",
    "    else:\n",
    "        return None\n",
    "    \n",
    "obs_df['effective_dec_year'] = obs_df.apply(determine_effective_dec_year, axis=1)"
   ]
  },
  {
   "cell_type": "code",
   "execution_count": 22,
   "metadata": {},
   "outputs": [
    {
     "data": {
      "text/plain": [
       "array([1961, 1962, 1963, 1964, 1965, 1966, 1967, 1968, 1969, 1970, 1971,\n",
       "       1972, 1973, 1974, 1975, 1976, 1977, 1978, 1979, 1980, 1981, 1982,\n",
       "       1983, 1984, 1985, 1986, 1987, 1988, 1989, 1990, 1991, 1992, 1993,\n",
       "       1994, 1995, 1996, 1997, 1998, 1999, 2000, 2001, 2002, 2003, 2004,\n",
       "       2005, 2006, 2007, 2008, 2009, 2010, 2011, 2012, 2013, 2014, 2015,\n",
       "       2016, 2017])"
      ]
     },
     "execution_count": 22,
     "metadata": {},
     "output_type": "execute_result"
    }
   ],
   "source": [
    "# print the effective dec years in the obs df\n",
    "obs_df['effective_dec_year'].unique()"
   ]
  },
  {
   "cell_type": "code",
   "execution_count": 23,
   "metadata": {},
   "outputs": [
    {
     "data": {
      "text/plain": [
       "array([1961, 1962, 1963, 1964, 1965, 1966, 1967, 1968, 1969, 1970, 1971,\n",
       "       1972, 1973, 1974, 1975, 1976, 1977, 1978, 1979, 1980, 1981, 1982,\n",
       "       1983, 1984, 1985, 1986, 1987, 1988, 1989, 1990, 1991, 1992, 1993,\n",
       "       1994, 1995, 1996, 1997, 1998, 1999, 2000, 2001, 2002, 2003, 2004,\n",
       "       2005, 2006, 2007, 2008, 2009, 2010, 2011, 2012, 2013, 2014, 2015,\n",
       "       2016, 2017, 2018])"
      ]
     },
     "execution_count": 23,
     "metadata": {},
     "output_type": "execute_result"
    }
   ],
   "source": [
    "df_subset[\"effective_dec_year\"].unique()"
   ]
  },
  {
   "cell_type": "code",
   "execution_count": 24,
   "metadata": {},
   "outputs": [],
   "source": [
    "# limit df_subset to the effective dec years in the obs df\n",
    "df_subset = df_subset[df_subset['effective_dec_year'].isin(obs_df['effective_dec_year'].unique())]"
   ]
  },
  {
   "cell_type": "code",
   "execution_count": 25,
   "metadata": {},
   "outputs": [
    {
     "data": {
      "text/html": [
       "<div>\n",
       "<style scoped>\n",
       "    .dataframe tbody tr th:only-of-type {\n",
       "        vertical-align: middle;\n",
       "    }\n",
       "\n",
       "    .dataframe tbody tr th {\n",
       "        vertical-align: top;\n",
       "    }\n",
       "\n",
       "    .dataframe thead th {\n",
       "        text-align: right;\n",
       "    }\n",
       "</style>\n",
       "<table border=\"1\" class=\"dataframe\">\n",
       "  <thead>\n",
       "    <tr style=\"text-align: right;\">\n",
       "      <th></th>\n",
       "      <th>time</th>\n",
       "      <th>obs</th>\n",
       "      <th>month</th>\n",
       "      <th>effective_dec_year</th>\n",
       "    </tr>\n",
       "  </thead>\n",
       "  <tbody>\n",
       "    <tr>\n",
       "      <th>683</th>\n",
       "      <td>2017-11-01</td>\n",
       "      <td>279.578423</td>\n",
       "      <td>11</td>\n",
       "      <td>2017</td>\n",
       "    </tr>\n",
       "    <tr>\n",
       "      <th>684</th>\n",
       "      <td>2017-12-01</td>\n",
       "      <td>277.995927</td>\n",
       "      <td>12</td>\n",
       "      <td>2017</td>\n",
       "    </tr>\n",
       "    <tr>\n",
       "      <th>685</th>\n",
       "      <td>2018-01-01</td>\n",
       "      <td>277.697739</td>\n",
       "      <td>1</td>\n",
       "      <td>2017</td>\n",
       "    </tr>\n",
       "    <tr>\n",
       "      <th>686</th>\n",
       "      <td>2018-02-01</td>\n",
       "      <td>275.885586</td>\n",
       "      <td>2</td>\n",
       "      <td>2017</td>\n",
       "    </tr>\n",
       "    <tr>\n",
       "      <th>687</th>\n",
       "      <td>2018-03-01</td>\n",
       "      <td>277.227535</td>\n",
       "      <td>3</td>\n",
       "      <td>2017</td>\n",
       "    </tr>\n",
       "  </tbody>\n",
       "</table>\n",
       "</div>"
      ],
      "text/plain": [
       "          time         obs  month  effective_dec_year\n",
       "683 2017-11-01  279.578423     11                2017\n",
       "684 2017-12-01  277.995927     12                2017\n",
       "685 2018-01-01  277.697739      1                2017\n",
       "686 2018-02-01  275.885586      2                2017\n",
       "687 2018-03-01  277.227535      3                2017"
      ]
     },
     "execution_count": 25,
     "metadata": {},
     "output_type": "execute_result"
    }
   ],
   "source": [
    "obs_df.tail()"
   ]
  },
  {
   "cell_type": "code",
   "execution_count": 26,
   "metadata": {},
   "outputs": [
    {
     "data": {
      "text/html": [
       "<div>\n",
       "<style scoped>\n",
       "    .dataframe tbody tr th:only-of-type {\n",
       "        vertical-align: middle;\n",
       "    }\n",
       "\n",
       "    .dataframe tbody tr th {\n",
       "        vertical-align: top;\n",
       "    }\n",
       "\n",
       "    .dataframe thead th {\n",
       "        text-align: right;\n",
       "    }\n",
       "</style>\n",
       "<table border=\"1\" class=\"dataframe\">\n",
       "  <thead>\n",
       "    <tr style=\"text-align: right;\">\n",
       "      <th></th>\n",
       "      <th>init_year</th>\n",
       "      <th>member</th>\n",
       "      <th>lead</th>\n",
       "      <th>data</th>\n",
       "    </tr>\n",
       "  </thead>\n",
       "  <tbody>\n",
       "    <tr>\n",
       "      <th>0</th>\n",
       "      <td>1960</td>\n",
       "      <td>10</td>\n",
       "      <td>1</td>\n",
       "      <td>279.934728</td>\n",
       "    </tr>\n",
       "    <tr>\n",
       "      <th>1</th>\n",
       "      <td>1960</td>\n",
       "      <td>10</td>\n",
       "      <td>2</td>\n",
       "      <td>277.141181</td>\n",
       "    </tr>\n",
       "    <tr>\n",
       "      <th>2</th>\n",
       "      <td>1960</td>\n",
       "      <td>10</td>\n",
       "      <td>3</td>\n",
       "      <td>277.110962</td>\n",
       "    </tr>\n",
       "    <tr>\n",
       "      <th>3</th>\n",
       "      <td>1960</td>\n",
       "      <td>10</td>\n",
       "      <td>4</td>\n",
       "      <td>277.857627</td>\n",
       "    </tr>\n",
       "    <tr>\n",
       "      <th>4</th>\n",
       "      <td>1960</td>\n",
       "      <td>10</td>\n",
       "      <td>5</td>\n",
       "      <td>277.698799</td>\n",
       "    </tr>\n",
       "  </tbody>\n",
       "</table>\n",
       "</div>"
      ],
      "text/plain": [
       "   init_year  member  lead        data\n",
       "0       1960      10     1  279.934728\n",
       "1       1960      10     2  277.141181\n",
       "2       1960      10     3  277.110962\n",
       "3       1960      10     4  277.857627\n",
       "4       1960      10     5  277.698799"
      ]
     },
     "execution_count": 26,
     "metadata": {},
     "output_type": "execute_result"
    }
   ],
   "source": [
    "df.head()"
   ]
  },
  {
   "cell_type": "code",
   "execution_count": 28,
   "metadata": {},
   "outputs": [],
   "source": [
    "# convert values from K to c\n",
    "obs_df['tas_c'] = obs_df['obs'] - 273.15\n",
    "df[\"tas_c\"] = df[\"data\"] - 273.15\n",
    "df_subset[\"tas_c\"] = df_subset[\"data\"] - 273.15\n",
    "# df_winters[\"tas_c\"] = df_winters[\"data\"] - 273.15"
   ]
  },
  {
   "cell_type": "markdown",
   "metadata": {},
   "source": [
    "#### Fidelity testing ####\n",
    "\n",
    "Our winter is a 3 month block (DJF).\n",
    "\n",
    "The observed time series consists of 58 winters * 3 months worth of data.\n",
    "\n",
    "For the fidelity testing we want to select 58 random winters each times.\n",
    "\n",
    "Choosing a random year.\n",
    "\n",
    "And a random ensemble member."
   ]
  },
  {
   "cell_type": "code",
   "execution_count": 23,
   "metadata": {},
   "outputs": [],
   "source": [
    "# # subset the obs df to only decembers\n",
    "# obs_df_dec = obs_df[obs_df['month'] == 2]\n",
    "\n",
    "# # Subset the model to only decembers\n",
    "# df_dec = df[df['lead'] == 4]"
   ]
  },
  {
   "cell_type": "code",
   "execution_count": 26,
   "metadata": {},
   "outputs": [],
   "source": [
    "# # process into seasonal DJF means\n",
    "# obs_df_seasonal = obs_df.groupby(['effective_dec_year']).mean().reset_index()"
   ]
  },
  {
   "cell_type": "code",
   "execution_count": 28,
   "metadata": {},
   "outputs": [],
   "source": [
    "# # Set up a new dataframe for the model seasonal means\n",
    "# df_seasonal = pd.DataFrame()\n",
    "\n",
    "# # Loop over the unique init years\n",
    "# for init_year in df['init_year'].unique():\n",
    "#     for member in df['member'].unique():\n",
    "#         df_subset = df[(df['init_year'] == init_year) & (df['member'] == member)]\n",
    "#         # select leads 2, 3, and 4\n",
    "#         df_subset = df_subset[df_subset['lead'].isin([2, 3, 4])]\n",
    "\n",
    "#         # calculate the mean\n",
    "#         mean = df_subset['tas_c'].mean()\n",
    "\n",
    "#         # create a new df\n",
    "#         df_new = pd.DataFrame(\n",
    "#             {\n",
    "#                 'init_year': [init_year],\n",
    "#                 'member': [member],\n",
    "#                 'tas_c': [mean]\n",
    "#             }\n",
    "#         )\n",
    "\n",
    "#         # concatenate the results\n",
    "#         df_seasonal = pd.concat([df_seasonal, df_new])"
   ]
  },
  {
   "cell_type": "code",
   "execution_count": 30,
   "metadata": {},
   "outputs": [],
   "source": [
    "# # limit the df_seasonal to init years between 1960 and 2017\n",
    "# df_seasonal = df_seasonal[df_seasonal['init_year'].isin(range(1960, 2018))]"
   ]
  },
  {
   "cell_type": "code",
   "execution_count": 29,
   "metadata": {},
   "outputs": [
    {
     "data": {
      "text/plain": [
       "array([10, 11, 12,  1,  2,  3], dtype=int32)"
      ]
     },
     "execution_count": 29,
     "metadata": {},
     "output_type": "execute_result"
    }
   ],
   "source": [
    "obs_df[\"month\"].unique()"
   ]
  },
  {
   "cell_type": "code",
   "execution_count": 30,
   "metadata": {},
   "outputs": [
    {
     "data": {
      "text/html": [
       "<div>\n",
       "<style scoped>\n",
       "    .dataframe tbody tr th:only-of-type {\n",
       "        vertical-align: middle;\n",
       "    }\n",
       "\n",
       "    .dataframe tbody tr th {\n",
       "        vertical-align: top;\n",
       "    }\n",
       "\n",
       "    .dataframe thead th {\n",
       "        text-align: right;\n",
       "    }\n",
       "</style>\n",
       "<table border=\"1\" class=\"dataframe\">\n",
       "  <thead>\n",
       "    <tr style=\"text-align: right;\">\n",
       "      <th></th>\n",
       "      <th>init_year</th>\n",
       "      <th>member</th>\n",
       "      <th>lead</th>\n",
       "      <th>data</th>\n",
       "      <th>effective_dec_year</th>\n",
       "      <th>tas_c</th>\n",
       "    </tr>\n",
       "  </thead>\n",
       "  <tbody>\n",
       "    <tr>\n",
       "      <th>11</th>\n",
       "      <td>1960</td>\n",
       "      <td>10</td>\n",
       "      <td>12</td>\n",
       "      <td>283.084343</td>\n",
       "      <td>1961</td>\n",
       "      <td>9.934343</td>\n",
       "    </tr>\n",
       "    <tr>\n",
       "      <th>12</th>\n",
       "      <td>1960</td>\n",
       "      <td>10</td>\n",
       "      <td>13</td>\n",
       "      <td>278.981183</td>\n",
       "      <td>1961</td>\n",
       "      <td>5.831183</td>\n",
       "    </tr>\n",
       "    <tr>\n",
       "      <th>13</th>\n",
       "      <td>1960</td>\n",
       "      <td>10</td>\n",
       "      <td>14</td>\n",
       "      <td>275.849635</td>\n",
       "      <td>1961</td>\n",
       "      <td>2.699635</td>\n",
       "    </tr>\n",
       "    <tr>\n",
       "      <th>14</th>\n",
       "      <td>1960</td>\n",
       "      <td>10</td>\n",
       "      <td>15</td>\n",
       "      <td>276.140779</td>\n",
       "      <td>1961</td>\n",
       "      <td>2.990779</td>\n",
       "    </tr>\n",
       "    <tr>\n",
       "      <th>15</th>\n",
       "      <td>1960</td>\n",
       "      <td>10</td>\n",
       "      <td>16</td>\n",
       "      <td>276.147612</td>\n",
       "      <td>1961</td>\n",
       "      <td>2.997612</td>\n",
       "    </tr>\n",
       "  </tbody>\n",
       "</table>\n",
       "</div>"
      ],
      "text/plain": [
       "    init_year  member  lead        data  effective_dec_year     tas_c\n",
       "11       1960      10    12  283.084343                1961  9.934343\n",
       "12       1960      10    13  278.981183                1961  5.831183\n",
       "13       1960      10    14  275.849635                1961  2.699635\n",
       "14       1960      10    15  276.140779                1961  2.990779\n",
       "15       1960      10    16  276.147612                1961  2.997612"
      ]
     },
     "execution_count": 30,
     "metadata": {},
     "output_type": "execute_result"
    }
   ],
   "source": [
    "df_subset.head()"
   ]
  },
  {
   "cell_type": "code",
   "execution_count": 31,
   "metadata": {},
   "outputs": [
    {
     "data": {
      "text/plain": [
       "array([12, 13, 14, 15, 16, 17])"
      ]
     },
     "execution_count": 31,
     "metadata": {},
     "output_type": "execute_result"
    }
   ],
   "source": [
    "df_subset[\"lead\"].unique()"
   ]
  },
  {
   "cell_type": "code",
   "execution_count": 33,
   "metadata": {},
   "outputs": [
    {
     "name": "stdout",
     "output_type": "stream",
     "text": [
      "the number of unique winters is:  57\n",
      "the unique times are:  [1961 1962 1963 1964 1965 1966 1967 1968 1969 1970 1971 1972 1973 1974\n",
      " 1975 1976 1977 1978 1979 1980 1981 1982 1983 1984 1985 1986 1987 1988\n",
      " 1989 1990 1991 1992 1993 1994 1995 1996 1997 1998 1999 2000 2001 2002\n",
      " 2003 2004 2005 2006 2007 2008 2009 2010 2011 2012 2013 2014 2015 2016\n",
      " 2017]\n",
      "Number of days in a model winter: 6\n",
      "Number of days to resample for: 342\n",
      "Unique model times [1960 1961 1962 1963 1964 1965 1966 1967 1968 1969 1970 1971 1972 1973\n",
      " 1974 1975 1976 1977 1978 1979 1980 1981 1982 1983 1984 1985 1986 1987\n",
      " 1988 1989 1990 1991 1992 1993 1994 1995 1996 1997 1998 1999 2000 2001\n",
      " 2002 2003 2004 2005 2006 2007 2008 2009 2010 2011 2012 2013 2014 2015\n",
      " 2016]\n"
     ]
    },
    {
     "name": "stderr",
     "output_type": "stream",
     "text": [
      "Calculating bootstrap statistics:   0%|          | 7/10000 [00:00<02:26, 68.40it/s]"
     ]
    },
    {
     "name": "stderr",
     "output_type": "stream",
     "text": [
      "Calculating bootstrap statistics: 100%|██████████| 10000/10000 [02:23<00:00, 69.62it/s]\n"
     ]
    },
    {
     "name": "stdout",
     "output_type": "stream",
     "text": [
      "(10000,)\n",
      "shape of obs df obs_val_name:  (342,)\n"
     ]
    },
    {
     "data": {
      "image/png": "[encoded data removed]",
      "text/plain": [
       "<Figure size 1000x600 with 5 Axes>"
      ]
     },
     "metadata": {},
     "output_type": "display_data"
    }
   ],
   "source": [
    "# Plot the distributions and the fidelity\n",
    "plot_distributions_fidelity(\n",
    "    obs_df=obs_df,\n",
    "    model_df=df_subset,\n",
    "    obs_val_name=\"tas_c\",\n",
    "    model_val_name=\"tas_c\",\n",
    "    obs_time_name=\"effective_dec_year\",\n",
    "    model_time_name=\"init_year\",\n",
    "    model_member_name=\"member\",\n",
    "    model_lead_name=None,\n",
    "    title=\"tas United Kingdom ONDJFM months 1961-2017\",\n",
    "    nboot=10000,\n",
    "    figsize=(10, 6),\n",
    "    nbins=40,\n",
    "    fname_prefix=\"tas_United_Kingdom_ONDJFM_months_1960_2017\",\n",
    ")"
   ]
  }
 ],
 "metadata": {
  "kernelspec": {
   "display_name": "bens-conda-env2",
   "language": "python",
   "name": "python3"
  },
  "language_info": {
   "codemirror_mode": {
    "name": "ipython",
    "version": 3
   },
   "file_extension": ".py",
   "mimetype": "text/x-python",
   "name": "python",
   "nbconvert_exporter": "python",
   "pygments_lexer": "ipython3",
   "version": "3.11.10"
  }
 },
 "nbformat": 4,
 "nbformat_minor": 2
}
