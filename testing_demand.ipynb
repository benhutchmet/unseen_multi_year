{
 "cells": [
  {
   "cell_type": "markdown",
   "metadata": {},
   "source": [
    "### Testing Temp -> Demand conversion ###\n",
    "\n",
    "Based on Hannah Bloomfield's S2S4E scripts, converting the NUTS0 aggregated temperature data into national demand (for ERA5 first).\n",
    "\n",
    "Before moving onto explore how we might go about doing this conversion for the decadal predictions at daily timescales (e.g HadGEM3-GC31-MM in the first instance)."
   ]
  },
  {
   "cell_type": "code",
   "execution_count": null,
   "metadata": {},
   "outputs": [],
   "source": [
    "# cell magic\n",
    "%load_ext autoreload\n",
    "%autoreload 2\n",
    "%matplotlib inline\n",
    "\n",
    "# Load local modules\n",
    "import os\n",
    "import sys\n",
    "import glob\n",
    "\n",
    "# Import external modules\n",
    "import numpy as np\n",
    "import pandas as pd\n",
    "import matplotlib.pyplot as plt"
   ]
  },
  {
   "cell_type": "code",
   "execution_count": null,
   "metadata": {},
   "outputs": [],
   "source": [
    "# Import the functions\n",
    "sys.path.append(\"/home/users/benhutch/unseen_functions\")\n",
    "\n",
    "import functions_demand as func_dm"
   ]
  },
  {
   "cell_type": "code",
   "execution_count": null,
   "metadata": {},
   "outputs": [],
   "source": [
    "# import dictionaries\n",
    "sys.path.append(\"/home/users/benhutch/unseen_functions\")\n",
    "\n",
    "import unseen_dictionaries as udicts"
   ]
  },
  {
   "cell_type": "code",
   "execution_count": null,
   "metadata": {},
   "outputs": [],
   "source": [
    "# Test the function for loading the clearheads data\n",
    "# fname = NUTS_0_t2m_detrended_timeseries_historical.nc \n",
    "df = func_dm.load_clearheads(\n",
    "    filename=\"NUTS_0_t2m_detrended_timeseries_historical.nc\",\n",
    "    trend_level=0.0, # no detrend\n",
    ")"
   ]
  },
  {
   "cell_type": "code",
   "execution_count": null,
   "metadata": {},
   "outputs": [],
   "source": [
    "df.head()"
   ]
  },
  {
   "cell_type": "code",
   "execution_count": null,
   "metadata": {},
   "outputs": [],
   "source": [
    "# test the new function for cdd and hdd\n",
    "df = func_dm.calc_hdd_cdd(\n",
    "    df=df,\n",
    ")"
   ]
  },
  {
   "cell_type": "code",
   "execution_count": null,
   "metadata": {},
   "outputs": [],
   "source": [
    "df.head()"
   ]
  },
  {
   "cell_type": "code",
   "execution_count": null,
   "metadata": {},
   "outputs": [],
   "source": [
    "# test the new function\n",
    "df = func_dm.calc_national_wd_demand(\n",
    "    df=df,\n",
    "    country_names=udicts.countries_nuts_id,\n",
    ")"
   ]
  },
  {
   "cell_type": "code",
   "execution_count": null,
   "metadata": {},
   "outputs": [],
   "source": [
    "df.tail()"
   ]
  },
  {
   "cell_type": "code",
   "execution_count": null,
   "metadata": {},
   "outputs": [],
   "source": [
    "# Save the data\n",
    "func_dm.save_df(\n",
    "    df=df,\n",
    "    fname=\"clearheads_daily_demand_1950_2020.csv\",\n",
    ")"
   ]
  }
 ],
 "metadata": {
  "kernelspec": {
   "display_name": "Python 3",
   "language": "python",
   "name": "python3"
  },
  "language_info": {
   "codemirror_mode": {
    "name": "ipython",
    "version": 3
   },
   "file_extension": ".py",
   "mimetype": "text/x-python",
   "name": "python",
   "nbconvert_exporter": "python",
   "pygments_lexer": "ipython3",
   "version": "3.10.5"
  }
 },
 "nbformat": 4,
 "nbformat_minor": 2
}
