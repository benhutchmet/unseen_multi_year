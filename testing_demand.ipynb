{
 "cells": [
  {
   "cell_type": "markdown",
   "metadata": {},
   "source": [
    "### Testing Temp -> Demand conversion ###\n",
    "\n",
    "Based on Hannah Bloomfield's S2S4E scripts, converting the NUTS0 aggregated temperature data into national demand (for ERA5 first).\n",
    "\n",
    "Before moving onto explore how we might go about doing this conversion for the decadal predictions at daily timescales (e.g HadGEM3-GC31-MM in the first instance)."
   ]
  },
  {
   "cell_type": "code",
   "execution_count": null,
   "metadata": {},
   "outputs": [],
   "source": [
    "# cell magic\n",
    "%load_ext autoreload\n",
    "%autoreload 2\n",
    "%matplotlib inline\n",
    "\n",
    "# Load local modules\n",
    "import os\n",
    "import sys\n",
    "import glob\n",
    "import importlib\n",
    "\n",
    "# Import external modules\n",
    "import numpy as np\n",
    "import pandas as pd\n",
    "import xarray as xr\n",
    "import matplotlib.pyplot as plt\n",
    "\n",
    "from tqdm import tqdm"
   ]
  },
  {
   "cell_type": "code",
   "execution_count": null,
   "metadata": {},
   "outputs": [],
   "source": [
    "! pip install regionmask"
   ]
  },
  {
   "cell_type": "code",
   "execution_count": null,
   "metadata": {},
   "outputs": [],
   "source": [
    "! pip install ncdata"
   ]
  },
  {
   "cell_type": "code",
   "execution_count": null,
   "metadata": {},
   "outputs": [],
   "source": [
    "# Import the functions\n",
    "sys.path.append(\"/home/users/benhutch/unseen_functions\")\n",
    "\n",
    "import functions_demand as func_dm\n",
    "\n",
    "import bias_functions as bias_func\n",
    "\n",
    "import load_wind_functions as lw_func"
   ]
  },
  {
   "cell_type": "code",
   "execution_count": null,
   "metadata": {},
   "outputs": [],
   "source": [
    "# import dictionaries\n",
    "sys.path.append(\"/home/users/benhutch/unseen_functions\")\n",
    "\n",
    "import unseen_dictionaries as udicts"
   ]
  },
  {
   "cell_type": "code",
   "execution_count": null,
   "metadata": {},
   "outputs": [],
   "source": [
    "# set up the global variables\n",
    "# set up for a single country\n",
    "first_year = 1960\n",
    "last_year = 1960\n",
    "first_month = 1\n",
    "last_month = 1\n",
    "init_years = np.arange(1960, 2018 + 1, 1)\n",
    "variable = \"tas\"\n",
    "lead_time = 1\n",
    "obs_variable = \"t2m\"\n",
    "country = \"United Kingdom\"\n",
    "country_name = \"United_Kingdom\"\n",
    "\n",
    "# set up the path to the observations (daily, temperature)\n",
    "obs_path = \"/home/users/benhutch/ERA5/ERA5_t2m_daily_1950_2020.nc\"\n",
    "\n",
    "# set up the path to the model data (daily, temperature)\n",
    "model_path = \"/work/scratch-nopw2/benhutch/test_nc/tas_bias_correction_HadGEM3-GC31-MM_lead1_month11_init1960-1960.nc\"\n",
    "\n",
    "# model path month 2\n",
    "model_path2 = \"/work/scratch-nopw2/benhutch/test_nc/tas_bias_correction_HadGEM3-GC31-MM_lead1_month12_init1960-1960.nc\"\n",
    "\n",
    "# Test ds\n",
    "test_file_path = \"/badc/cmip6/data/CMIP6/DCPP/MOHC/HadGEM3-GC31-MM/dcppA-hindcast/s1960-r1i1p1f2/day/tas/gn/files/d20200417/tas_day_HadGEM3-GC31-MM_dcppA-hindcast_s1960-r1i1p1f2_gn_19601101-19601230.nc\""
   ]
  },
  {
   "cell_type": "code",
   "execution_count": null,
   "metadata": {},
   "outputs": [],
   "source": [
    "# %%time\n",
    "\n",
    "# # Load the file\n",
    "# model_ds = xr.open_dataset(test_file_path)\n",
    "\n",
    "# # Load the observations\n",
    "# # But first regrid\n",
    "# obs = bias_func.load_and_rg_obs(\n",
    "#     model_ds=model_ds,\n",
    "#     obs_variable=obs_variable,\n",
    "#     obs_path=obs_path,\n",
    "#     init_years=init_years,\n",
    "#     lead_time=lead_time,\n",
    "#     rg_algo=\"bilinear\",\n",
    "#     grid_bounds=[-180.0, 180.0, -90.0, 90.0],\n",
    "#     periodic=True,\n",
    "#     parallel=False,\n",
    "# )\n",
    "\n",
    "# # Select the gridbox\n",
    "# obs = bias_func.select_gridbox(\n",
    "#     ds=obs,\n",
    "#     grid=udicts.eu_grid_constrained,\n",
    "#     calc_mean=False,\n",
    "# )"
   ]
  },
  {
   "cell_type": "code",
   "execution_count": null,
   "metadata": {},
   "outputs": [],
   "source": [
    "# # Check out the observations\n",
    "# obs"
   ]
  },
  {
   "cell_type": "code",
   "execution_count": null,
   "metadata": {},
   "outputs": [],
   "source": [
    "importlib.reload(lw_func)"
   ]
  },
  {
   "cell_type": "code",
   "execution_count": null,
   "metadata": {},
   "outputs": [],
   "source": [
    "# # Apply the country mask to the obs data\n",
    "# obs = lw_func.apply_country_mask(\n",
    "#     ds=obs,\n",
    "#     country=country,\n",
    "#     lon_name=\"lon\",\n",
    "#     lat_name=\"lat\",\n",
    "# )"
   ]
  },
  {
   "cell_type": "code",
   "execution_count": null,
   "metadata": {},
   "outputs": [],
   "source": [
    "importlib.reload(func_dm)"
   ]
  },
  {
   "cell_type": "code",
   "execution_count": null,
   "metadata": {},
   "outputs": [],
   "source": [
    "# # Calculate the mean for the country\n",
    "# obs = func_dm.calc_spatial_mean(\n",
    "#     ds=obs,\n",
    "#     country=country_name,\n",
    "#     variable=obs_variable,\n",
    "#     convert_kelv_to_cel=True,\n",
    "# )\n",
    "    "
   ]
  },
  {
   "cell_type": "code",
   "execution_count": null,
   "metadata": {},
   "outputs": [],
   "source": [
    "# # Calculate HDD and CDD\n",
    "# obs_df = func_dm.calc_hdd_cdd(\n",
    "#     df=obs,\n",
    "#     temp_suffix=obs_variable,\n",
    "# )"
   ]
  },
  {
   "cell_type": "code",
   "execution_count": null,
   "metadata": {},
   "outputs": [],
   "source": [
    "# # Calculate the national wd_demand\n",
    "# obs_df = func_dm.calc_national_wd_demand(\n",
    "#     df=obs_df,\n",
    "# )"
   ]
  },
  {
   "cell_type": "code",
   "execution_count": null,
   "metadata": {},
   "outputs": [],
   "source": [
    "# obs_df"
   ]
  },
  {
   "cell_type": "markdown",
   "metadata": {},
   "source": [
    "Observations successfully processed, can we do the same for the model data?"
   ]
  },
  {
   "cell_type": "code",
   "execution_count": null,
   "metadata": {},
   "outputs": [],
   "source": [
    "importlib.reload(lw_func)"
   ]
  },
  {
   "cell_type": "code",
   "execution_count": null,
   "metadata": {},
   "outputs": [],
   "source": [
    "# loop over the monhts\n",
    "months_list = [11, 12]\n",
    "\n",
    "# set up the base_dir\n",
    "base_dir = \"/work/scratch-nopw2/benhutch/test_nc/\"\n",
    "\n",
    "variable_saved = \"__xarray_dataarray_variable__\"\n",
    "\n",
    "# Set up an empty dataframe\n",
    "combined_df = pd.DataFrame()\n",
    "\n",
    "# loop over the months\n",
    "for month_idx in tqdm(months_list):\n",
    "    # Set up the fname\n",
    "    fname_month = f\"tas_bias_correction_HadGEM3-GC31-MM_lead1_month{month_idx}_init1960-1960.nc\"\n",
    "\n",
    "    # Set up the path\n",
    "    path_month = os.path.join(base_dir, fname_month)\n",
    "\n",
    "    # Apply the country mask\n",
    "    model_month = lw_func.apply_country_mask(\n",
    "        ds=xr.open_dataset(path_month),\n",
    "        country=country,\n",
    "        lon_name=\"lon\",\n",
    "        lat_name=\"lat\",\n",
    "    )\n",
    "\n",
    "    # Calculate the mean for the country\n",
    "    model_month = func_dm.calc_spatial_mean(\n",
    "        ds=model_month,\n",
    "        country=country_name,\n",
    "        variable=variable_saved,\n",
    "        variable_name=variable,\n",
    "        convert_kelv_to_cel=True,\n",
    "    )\n",
    "\n",
    "    # combine the dataframes\n",
    "    combined_df = pd.concat([combined_df, model_month], ignore_index=True)"
   ]
  },
  {
   "cell_type": "code",
   "execution_count": null,
   "metadata": {},
   "outputs": [],
   "source": [
    "combined_df"
   ]
  },
  {
   "cell_type": "code",
   "execution_count": null,
   "metadata": {},
   "outputs": [],
   "source": [
    "# Calculate the heating degree days and cooling degree days\n",
    "model_df = func_dm.calc_hdd_cdd(\n",
    "    df=combined_df,\n",
    "    country_name=country_name,\n",
    "    variable_name=variable,\n",
    ")"
   ]
  },
  {
   "cell_type": "code",
   "execution_count": null,
   "metadata": {},
   "outputs": [],
   "source": [
    "# Calculate the weather dependent demand\n",
    "model_df = func_dm.calc_national_wd_demand(\n",
    "    df=model_df,\n",
    "    country_name=country_name,\n",
    ")"
   ]
  },
  {
   "cell_type": "code",
   "execution_count": null,
   "metadata": {},
   "outputs": [],
   "source": [
    "model_df"
   ]
  },
  {
   "cell_type": "code",
   "execution_count": null,
   "metadata": {},
   "outputs": [],
   "source": [
    "# set up the fname for the fike\n",
    "fname = f\"wd_demand_{country_name}_month11-12_init1960-1960.csv\"\n",
    "\n",
    "# save the df\n",
    "func_dm.save_df(\n",
    "    df=model_df,\n",
    "    fname=fname,\n",
    ")"
   ]
  },
  {
   "cell_type": "code",
   "execution_count": null,
   "metadata": {},
   "outputs": [],
   "source": [
    "# Test loading the file\n",
    "dir = \"/gws/nopw/j04/canari/users/benhutch/met_to_energy_dfs\"\n",
    "\n",
    "fname = \"wd_demand_United_Kingdom_month11-12_init1960-1960.csv.csv\"\n",
    "\n",
    "# Load the file\n",
    "df = pd.read_csv(os.path.join(dir, fname))"
   ]
  },
  {
   "cell_type": "code",
   "execution_count": null,
   "metadata": {},
   "outputs": [],
   "source": [
    "df"
   ]
  },
  {
   "cell_type": "code",
   "execution_count": null,
   "metadata": {},
   "outputs": [],
   "source": [
    "# Apply the country mask to the model data\n",
    "model = lw_func.apply_country_mask(\n",
    "    ds=model,\n",
    "    country=country,\n",
    "    lon_name=\"lon\",\n",
    "    lat_name=\"lat\",\n",
    ")\n",
    "\n",
    "model_2 = lw_func.apply_country_mask(\n",
    "    ds=model_2,\n",
    "    country=country,\n",
    "    lon_name=\"lon\",\n",
    "    lat_name=\"lat\",\n",
    ")"
   ]
  },
  {
   "cell_type": "code",
   "execution_count": null,
   "metadata": {},
   "outputs": [],
   "source": [
    "importlib.reload(func_dm)"
   ]
  },
  {
   "cell_type": "code",
   "execution_count": null,
   "metadata": {},
   "outputs": [],
   "source": [
    "# Calculate the spatial mean for the country\n",
    "model_df = func_dm.calc_spatial_mean(\n",
    "    ds=model,\n",
    "    country=country_name,\n",
    "    variable=\"__xarray_dataarray_variable__\",\n",
    "    variable_name=variable,\n",
    "    convert_kelv_to_cel=True,\n",
    ")\n",
    "\n",
    "model_df_2 = func_dm.calc_spatial_mean(\n",
    "    ds=model_2,\n",
    "    country=country_name,\n",
    "    variable=\"__xarray_dataarray_variable__\",\n",
    "    variable_name=variable,\n",
    "    convert_kelv_to_cel=True,\n",
    ")"
   ]
  },
  {
   "cell_type": "code",
   "execution_count": null,
   "metadata": {},
   "outputs": [],
   "source": [
    "model_df"
   ]
  },
  {
   "cell_type": "code",
   "execution_count": null,
   "metadata": {},
   "outputs": [],
   "source": [
    "model_df_2"
   ]
  },
  {
   "cell_type": "code",
   "execution_count": null,
   "metadata": {},
   "outputs": [],
   "source": [
    "combined_model_df = pd.concat([model_df, model_df_2], ignore_index=True)"
   ]
  },
  {
   "cell_type": "code",
   "execution_count": null,
   "metadata": {},
   "outputs": [],
   "source": [
    "combined_model_df"
   ]
  },
  {
   "cell_type": "code",
   "execution_count": null,
   "metadata": {},
   "outputs": [],
   "source": [
    "# Calculate the heating degree days and cooling degree days\n",
    "model_df = func_dm.calc_hdd_cdd(\n",
    "    df=combined_model_df,\n",
    "    country_name=country_name,\n",
    "    variable_name=variable,\n",
    ")"
   ]
  },
  {
   "cell_type": "code",
   "execution_count": null,
   "metadata": {},
   "outputs": [],
   "source": [
    "model_df"
   ]
  },
  {
   "cell_type": "code",
   "execution_count": null,
   "metadata": {},
   "outputs": [],
   "source": [
    "importlib.reload(func_dm)"
   ]
  },
  {
   "cell_type": "code",
   "execution_count": null,
   "metadata": {},
   "outputs": [],
   "source": [
    "# Calculate the weather dependent demand\n",
    "model_df = func_dm.calc_national_wd_demand(\n",
    "    df=model_df,\n",
    "    country_name=country_name,\n",
    ")"
   ]
  },
  {
   "cell_type": "code",
   "execution_count": null,
   "metadata": {},
   "outputs": [],
   "source": [
    "model_df"
   ]
  },
  {
   "cell_type": "code",
   "execution_count": null,
   "metadata": {},
   "outputs": [],
   "source": [
    "# plot the UK demand\n",
    "# with lead on the x-axis\n",
    "# United_Kingdom_demand on the y-axis\n",
    "# and plot all of the members\n",
    "fig, ax = plt.subplots(figsize=(10, 5))\n",
    "\n",
    "# extract hthe unique members\n",
    "unique_members = model_df.member.unique()\n",
    "\n",
    "\n",
    "model_df_grouped = model_df.groupby(\"lead\")\n",
    "\n",
    "# include the 5-95% range\n",
    "ax.fill_between(\n",
    "    model_df_grouped.mean().index,\n",
    "    model_df_grouped.quantile(0.05).United_Kingdom_demand,\n",
    "    model_df_grouped.quantile(0.95).United_Kingdom_demand,\n",
    "    alpha=0.2,\n",
    "    color=\"red\",\n",
    ")\n",
    "\n",
    "\n",
    "for member in unique_members:\n",
    "    temp_df = model_df[model_df.member == member]\n",
    "    ax.plot(temp_df.lead, temp_df.United_Kingdom_demand, label=member)\n",
    "\n",
    "\n",
    "# include an ensemble mean\n",
    "ensemble_mean = model_df.groupby(\"lead\").mean()\n",
    "\n",
    "ax.plot(ensemble_mean.index, ensemble_mean.United_Kingdom_demand, label=\"Ensemble Mean\", color=\"red\", linestyle=\"--\")\n",
    "\n",
    "\n",
    "# # subset the obs to the month 11 and 12\n",
    "obs_df_month = obs_df[obs_df.index.month.isin([11, 12])]\n",
    "\n",
    "# set up a new axis for lead (the time axis as 1 to len of the obs_df_month)\n",
    "obs_df_month[\"lead\"] = np.arange(1, len(obs_df_month) + 1)\n",
    "\n",
    "# plot the obs\n",
    "ax.plot(obs_df_month.lead, obs_df_month.United_Kingdom_demand, label=\"Obs\", color=\"black\")\n",
    "\n",
    "# include a legend\n",
    "ax.legend()"
   ]
  }
 ],
 "metadata": {
  "kernelspec": {
   "display_name": "Python 3",
   "language": "python",
   "name": "python3"
  },
  "language_info": {
   "codemirror_mode": {
    "name": "ipython",
    "version": 3
   },
   "file_extension": ".py",
   "mimetype": "text/x-python",
   "name": "python",
   "nbconvert_exporter": "python",
   "pygments_lexer": "ipython3",
   "version": "3.10.5"
  }
 },
 "nbformat": 4,
 "nbformat_minor": 2
}
