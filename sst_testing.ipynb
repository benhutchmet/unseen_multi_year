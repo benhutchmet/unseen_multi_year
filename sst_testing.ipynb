{
 "cells": [
  {
   "cell_type": "markdown",
   "metadata": {},
   "source": [
    "## SST plotting ##\n",
    "\n",
    "Figuring out best way of plotting SST composites"
   ]
  },
  {
   "cell_type": "code",
   "execution_count": null,
   "metadata": {},
   "outputs": [],
   "source": [
    "import os\n",
    "import sys\n",
    "import glob\n",
    "\n",
    "import numpy as np\n",
    "import matplotlib.pyplot as plt\n",
    "import cartopy.crs as ccrs\n",
    "import cartopy.feature as cfeature\n",
    "import iris\n",
    "\n",
    "from tqdm import tqdm"
   ]
  },
  {
   "cell_type": "code",
   "execution_count": null,
   "metadata": {},
   "outputs": [],
   "source": [
    "# import the test file\n",
    "test_file_path = \"/gws/nopw/j04/canari/users/benhutch/saved_DePre/HadGEM3-GC31-MM/tos/Omon/ONDJFM/1960-1960/HadGEM3-GC31-MM_tos_ONDJFM_Omon_1960-1960.nc\"\n",
    "\n",
    "# load as a cube\n",
    "cube = iris.load_cube(test_file_path)"
   ]
  },
  {
   "cell_type": "code",
   "execution_count": null,
   "metadata": {},
   "outputs": [],
   "source": [
    "# Set up a new cube with the desired shape and metadata\n",
    "new_shape = (cube.shape[0], 10, cube.shape[2], cube.shape[3])\n",
    "new_data = np.zeros(new_shape, dtype=cube.data.dtype)\n",
    "\n",
    "# Create a new cube with the same metadata as the original cube\n",
    "new_cube = iris.cube.Cube(\n",
    "    new_data,\n",
    "    dim_coords_and_dims=[(cube.coord('time'), 0), (iris.coords.DimCoord(np.arange(1, 11), standard_name='lead', units='1'), 1), (cube.coord('latitude'), 2), (cube.coord('longitude'), 3)],\n",
    "    aux_coords_and_dims=[(coord, None) for coord in cube.aux_coords if coord.name() != 'lead']\n",
    ")\n",
    "\n",
    "# Loop over winter years\n",
    "for i, wyear in tqdm(enumerate(np.arange(1, 11))):\n",
    "    # Set up the lead values to extract\n",
    "    leads_values_this = np.arange(wyear * 12, (wyear * 12) + 6)\n",
    "\n",
    "    # Find the indices of the lead values\n",
    "    leads_indices_this = np.where(np.isin(cube.coord(\"lead\").points, leads_values_this))[0]\n",
    "\n",
    "    # Extract the data for the lead values\n",
    "    winter_mean = cube[leads_indices_this].collapsed(\"lead\", iris.analysis.MEAN)\n",
    "\n",
    "    # Assign this to the new cube\n",
    "    new_cube.data[:, i, :, :] = winter_mean.data\n",
    "\n",
    "# Print the new cube to verify\n",
    "print(new_cube)"
   ]
  }
 ],
 "metadata": {
  "kernelspec": {
   "display_name": "bens-conda-env2",
   "language": "python",
   "name": "python3"
  },
  "language_info": {
   "codemirror_mode": {
    "name": "ipython",
    "version": 3
   },
   "file_extension": ".py",
   "mimetype": "text/x-python",
   "name": "python",
   "nbconvert_exporter": "python",
   "pygments_lexer": "ipython3",
   "version": "3.11.10"
  }
 },
 "nbformat": 4,
 "nbformat_minor": 2
}
