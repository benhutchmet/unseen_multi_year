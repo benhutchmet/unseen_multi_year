{
 "cells": [
  {
   "cell_type": "markdown",
   "metadata": {},
   "source": [
    "## UNSEEN via seasonal mean relationships ##\n",
    "\n",
    "Trying something slightly different. On a seasonal (e.g. ONDJFM) mean timescale, there are likely to be fairly strong relationships between wind speed and wind power generation, temperature and demand, and irradiance and solar power generation. It therefore stands to reason that a combination of these variables, used with a multi linear regression, could project onto the seasonal mean demand net wind (or demand net renewables). Where we have an observed (hopefully linear) relationship between the surface variables and demand net wind (or demand net renewables), we can extrapolate this so that \"worse\" (i.e. lower wind speeds, colder temperatures, more dull conditions) conditions produced by DePreSys can map onto worse impacts for demand net wind (or demand net renewables). \n",
    "\n",
    "Steps for this:\n",
    "\n",
    "1. Load in the CLEARHEADS dataset and process into demand net wind (+ demand net renewables), along with the surface variables for the different countries (maybe just UK first).\n",
    "2. Create scatter plots of the relationship between seasonal mean variables (e.g. 10m wind speed/100m wind speed) and the energy system variable (e.g. wind power generation).\n",
    "3. Create scatter plots for how the individual seasonal mean variables map onto demand net wind/demand net renewables.\n",
    "4. Create a multi linear regression for mapping the combination of individual surface variables onto demand net wind/demand net renewables."
   ]
  },
  {
   "cell_type": "code",
   "execution_count": 1,
   "metadata": {},
   "outputs": [],
   "source": [
    "# Import local modules\n",
    "import os\n",
    "import sys\n",
    "import glob\n",
    "import time\n",
    "\n",
    "# Import third-party modules\n",
    "import numpy as np\n",
    "import pandas as pd\n",
    "import xarray as xr\n",
    "import matplotlib.pyplot as plt\n",
    "\n",
    "# Specific imports\n",
    "from tqdm import tqdm"
   ]
  },
  {
   "cell_type": "code",
   "execution_count": 2,
   "metadata": {},
   "outputs": [
    {
     "data": {
      "text/plain": [
       "['EEZ_zones_wp_historical.nc',\n",
       " 'NUTS_0_CDD_historical_pop_weighted.nc',\n",
       " 'NUTS_0_HDD_historical_pop_weighted.nc',\n",
       " 'NUTS_0_sp_historical.nc',\n",
       " 'NUTS_0_sp_historical_loc_weighted.nc',\n",
       " 'NUTS_0_speed100m_historical.nc',\n",
       " 'NUTS_0_speed10m_historical.nc',\n",
       " 'NUTS_0_speed10m_historical_pop_weighted.nc',\n",
       " 'NUTS_0_ssrd_historical.nc',\n",
       " 'NUTS_0_ssrd_historical_pop_weighted.nc',\n",
       " 'NUTS_0_t2m_detrended_timeseries_historical.nc',\n",
       " 'NUTS_0_t2m_detrended_timeseries_historical_pop_weighted.nc',\n",
       " 'NUTS_0_wp_ofs_sim_0_historical_loc_weighted.nc',\n",
       " 'NUTS_0_wp_ofs_sim_1_historical_loc_weighted.nc',\n",
       " 'NUTS_0_wp_ons_sim_0_historical_loc_weighted.nc',\n",
       " 'NUTS_0_wp_ons_sim_1_historical_loc_weighted.nc',\n",
       " 'NUTS_1_sp_historical.nc',\n",
       " 'NUTS_1_speed100m_historical.nc',\n",
       " 'NUTS_1_speed10m_historical.nc',\n",
       " 'NUTS_1_ssrd_historical.nc',\n",
       " 'NUTS_1_t2m_detrended_timeseries_historical.nc',\n",
       " 'NUTS_1_wp_historical.nc',\n",
       " 'NUTS_2_sp_historical.nc',\n",
       " 'NUTS_2_speed100m_historical.nc',\n",
       " 'NUTS_2_speed10m_historical.nc',\n",
       " 'NUTS_2_ssrd_historical.nc',\n",
       " 'NUTS_2_t2m_detrended_timeseries_historical.nc',\n",
       " 'NUTS_2_wp_historical.nc',\n",
       " 'README_ERA5.txt',\n",
       " 'Shipping_zones_Ireland_wp_ofs_historical.nc',\n",
       " 'Shipping_zones_Norway_wp_ofs_historical.nc',\n",
       " 'Shipping_zones_United_Kingdom_wp_ofs_historical.nc']"
      ]
     },
     "execution_count": 2,
     "metadata": {},
     "output_type": "execute_result"
    }
   ],
   "source": [
    "# Set up the directory where the clearhedas data are stored\n",
    "data_dir = '/home/users/benhutch/CLEARHEADS_EU_Power_Data'\n",
    "\n",
    "# List the clearheads data files\n",
    "files = os.listdir(data_dir)\n",
    "\n",
    "files"
   ]
  },
  {
   "cell_type": "code",
   "execution_count": 3,
   "metadata": {},
   "outputs": [],
   "source": [
    "# Create a list of the files to extract\n",
    "files_to_extract = [\n",
    "    \"NUTS_0_sp_historical.nc\",\n",
    "    \"NUTS_0_speed100m_historical.nc\",\n",
    "    \"NUTS_0_speed10m_historical.nc\",\n",
    "    \"NUTS_0_ssrd_historical.nc\",\n",
    "    \"NUTS_0_wp_ofs_sim_0_historical_loc_weighted.nc\",\n",
    "    \"NUTS_0_wp_ons_sim_0_historical_loc_weighted.nc\",\n",
    "]\n",
    "\n",
    "# Create a list with the names\n",
    "names = [\n",
    "    \"solar_power\",\n",
    "    \"100m_wind_speed\",\n",
    "    \"10m_wind_speed\",\n",
    "    \"solar_irradiance\",\n",
    "    \"ofs_cfs\",\n",
    "    \"ons_cfs\",\n",
    "]"
   ]
  },
  {
   "cell_type": "code",
   "execution_count": 4,
   "metadata": {},
   "outputs": [
    {
     "name": "stderr",
     "output_type": "stream",
     "text": [
      "0it [00:00, ?it/s]"
     ]
    },
    {
     "name": "stderr",
     "output_type": "stream",
     "text": [
      "1it [00:07,  7.10s/it]"
     ]
    },
    {
     "name": "stdout",
     "output_type": "stream",
     "text": [
      "                                   solar_power\n",
      "time_in_hours_from_first_jan_1950             \n",
      "1950-01-01 00:00:00                        0.0\n",
      "1950-01-01 01:00:00                        0.0\n",
      "1950-01-01 02:00:00                        0.0\n",
      "1950-01-01 03:00:00                        0.0\n",
      "1950-01-01 04:00:00                        0.0\n"
     ]
    },
    {
     "name": "stderr",
     "output_type": "stream",
     "text": [
      "2it [00:13,  6.90s/it]"
     ]
    },
    {
     "name": "stdout",
     "output_type": "stream",
     "text": [
      "                                   solar_power  100m_wind_speed\n",
      "time_in_hours_from_first_jan_1950                              \n",
      "1950-01-01 00:00:00                        0.0         6.148996\n",
      "1950-01-01 01:00:00                        0.0         6.156016\n",
      "1950-01-01 02:00:00                        0.0         6.138777\n",
      "1950-01-01 03:00:00                        0.0         6.390699\n",
      "1950-01-01 04:00:00                        0.0         6.461800\n"
     ]
    },
    {
     "name": "stderr",
     "output_type": "stream",
     "text": [
      "3it [00:20,  6.96s/it]"
     ]
    },
    {
     "name": "stdout",
     "output_type": "stream",
     "text": [
      "                                   solar_power  100m_wind_speed  \\\n",
      "time_in_hours_from_first_jan_1950                                 \n",
      "1950-01-01 00:00:00                        0.0         6.148996   \n",
      "1950-01-01 01:00:00                        0.0         6.156016   \n",
      "1950-01-01 02:00:00                        0.0         6.138777   \n",
      "1950-01-01 03:00:00                        0.0         6.390699   \n",
      "1950-01-01 04:00:00                        0.0         6.461800   \n",
      "\n",
      "                                   10m_wind_speed  \n",
      "time_in_hours_from_first_jan_1950                  \n",
      "1950-01-01 00:00:00                      3.976531  \n",
      "1950-01-01 01:00:00                      3.948778  \n",
      "1950-01-01 02:00:00                      3.957120  \n",
      "1950-01-01 03:00:00                      4.150732  \n",
      "1950-01-01 04:00:00                      4.243430  \n"
     ]
    },
    {
     "name": "stderr",
     "output_type": "stream",
     "text": [
      "4it [00:27,  7.02s/it]"
     ]
    },
    {
     "name": "stdout",
     "output_type": "stream",
     "text": [
      "                                   solar_power  100m_wind_speed  \\\n",
      "time_in_hours_from_first_jan_1950                                 \n",
      "1950-01-01 00:00:00                        0.0         6.148996   \n",
      "1950-01-01 01:00:00                        0.0         6.156016   \n",
      "1950-01-01 02:00:00                        0.0         6.138777   \n",
      "1950-01-01 03:00:00                        0.0         6.390699   \n",
      "1950-01-01 04:00:00                        0.0         6.461800   \n",
      "\n",
      "                                   10m_wind_speed  solar_irradiance  \n",
      "time_in_hours_from_first_jan_1950                                    \n",
      "1950-01-01 00:00:00                      3.976531               0.0  \n",
      "1950-01-01 01:00:00                      3.948778               0.0  \n",
      "1950-01-01 02:00:00                      3.957120               0.0  \n",
      "1950-01-01 03:00:00                      4.150732               0.0  \n",
      "1950-01-01 04:00:00                      4.243430               0.0  \n"
     ]
    },
    {
     "name": "stderr",
     "output_type": "stream",
     "text": [
      "5it [00:30,  5.54s/it]"
     ]
    },
    {
     "name": "stdout",
     "output_type": "stream",
     "text": [
      "                                   solar_power  100m_wind_speed  \\\n",
      "time_in_hours_from_first_jan_1950                                 \n",
      "1950-01-01 00:00:00                        0.0         6.148996   \n",
      "1950-01-01 01:00:00                        0.0         6.156016   \n",
      "1950-01-01 02:00:00                        0.0         6.138777   \n",
      "1950-01-01 03:00:00                        0.0         6.390699   \n",
      "1950-01-01 04:00:00                        0.0         6.461800   \n",
      "\n",
      "                                   10m_wind_speed  solar_irradiance   ofs_cfs  \n",
      "time_in_hours_from_first_jan_1950                                              \n",
      "1950-01-01 00:00:00                      3.976531               0.0  0.126081  \n",
      "1950-01-01 01:00:00                      3.948778               0.0  0.132902  \n",
      "1950-01-01 02:00:00                      3.957120               0.0  0.149275  \n",
      "1950-01-01 03:00:00                      4.150732               0.0  0.163094  \n",
      "1950-01-01 04:00:00                      4.243430               0.0  0.160107  \n"
     ]
    },
    {
     "name": "stderr",
     "output_type": "stream",
     "text": [
      "6it [00:33,  5.62s/it]"
     ]
    },
    {
     "name": "stdout",
     "output_type": "stream",
     "text": [
      "                                   solar_power  100m_wind_speed  \\\n",
      "time_in_hours_from_first_jan_1950                                 \n",
      "1950-01-01 00:00:00                        0.0         6.148996   \n",
      "1950-01-01 01:00:00                        0.0         6.156016   \n",
      "1950-01-01 02:00:00                        0.0         6.138777   \n",
      "1950-01-01 03:00:00                        0.0         6.390699   \n",
      "1950-01-01 04:00:00                        0.0         6.461800   \n",
      "\n",
      "                                   10m_wind_speed  solar_irradiance   ofs_cfs  \\\n",
      "time_in_hours_from_first_jan_1950                                               \n",
      "1950-01-01 00:00:00                      3.976531               0.0  0.126081   \n",
      "1950-01-01 01:00:00                      3.948778               0.0  0.132902   \n",
      "1950-01-01 02:00:00                      3.957120               0.0  0.149275   \n",
      "1950-01-01 03:00:00                      4.150732               0.0  0.163094   \n",
      "1950-01-01 04:00:00                      4.243430               0.0  0.160107   \n",
      "\n",
      "                                    ons_cfs  \n",
      "time_in_hours_from_first_jan_1950            \n",
      "1950-01-01 00:00:00                0.150885  \n",
      "1950-01-01 01:00:00                0.169805  \n",
      "1950-01-01 02:00:00                0.195890  \n",
      "1950-01-01 03:00:00                0.235261  \n",
      "1950-01-01 04:00:00                0.261474  \n"
     ]
    },
    {
     "name": "stderr",
     "output_type": "stream",
     "text": [
      "\n"
     ]
    }
   ],
   "source": [
    "# Set up an empty dataframe to store the data\n",
    "df_full = pd.DataFrame()\n",
    "\n",
    "# Loop over the files to extract\n",
    "for file, name in tqdm(zip(files_to_extract, names)):\n",
    "    # Load the data\n",
    "    file_path = os.path.join(data_dir, file)\n",
    "\n",
    "    # assert that the file exists\n",
    "    assert os.path.exists(file_path), f\"File {file_path} does not exist\"\n",
    "\n",
    "    # Load the data\n",
    "    ds = xr.open_dataset(file_path)\n",
    "\n",
    "    # # print ds.variables\n",
    "    # print(ds.variables)\n",
    "\n",
    "    # assert that NUTS_keys is in the variables\n",
    "    assert \"NUTS_keys\" in ds.variables, f\"Variable NUTS_keys not found in {file_path}\"\n",
    "\n",
    "    # extract the nuts keys\n",
    "    nuts_keys = ds[\"NUTS_keys\"].values\n",
    "\n",
    "    # turn the data into a dataframe\n",
    "    df = ds.to_dataframe()\n",
    "\n",
    "    # Pivot the dataframe\n",
    "    df_pivot = df.reset_index().pivot(\n",
    "        index=\"time_in_hours_from_first_jan_1950\",\n",
    "        columns=\"NUTS\",\n",
    "        values=\"timeseries_data\",\n",
    "    )\n",
    "\n",
    "    # set the columns as the nuts keys\n",
    "    df_pivot.columns = nuts_keys\n",
    "\n",
    "    # Convert 'time_in_hours_from_first_jan_1950' column to datetime\n",
    "    df_pivot.index = pd.to_datetime(df_pivot.index, unit=\"h\", origin=\"1950-01-01\")\n",
    "\n",
    "    # constrain to the \"UK\" column\n",
    "    df_pivot = df_pivot[\"UK\"]\n",
    "\n",
    "    # if this is the first iteration, set the index\n",
    "    if df_full.empty:\n",
    "        df_full = df_pivot.to_frame(name=name)\n",
    "    else:\n",
    "        df_full[name] = df_pivot\n",
    "\n",
    "    # print the head of the dataframe\n",
    "    print(df_full.head())\n",
    "\n",
    "    # sys.exit()"
   ]
  },
  {
   "cell_type": "code",
   "execution_count": 5,
   "metadata": {},
   "outputs": [
    {
     "data": {
      "text/html": [
       "<div>\n",
       "<style scoped>\n",
       "    .dataframe tbody tr th:only-of-type {\n",
       "        vertical-align: middle;\n",
       "    }\n",
       "\n",
       "    .dataframe tbody tr th {\n",
       "        vertical-align: top;\n",
       "    }\n",
       "\n",
       "    .dataframe thead th {\n",
       "        text-align: right;\n",
       "    }\n",
       "</style>\n",
       "<table border=\"1\" class=\"dataframe\">\n",
       "  <thead>\n",
       "    <tr style=\"text-align: right;\">\n",
       "      <th></th>\n",
       "      <th>solar_power</th>\n",
       "      <th>100m_wind_speed</th>\n",
       "      <th>10m_wind_speed</th>\n",
       "      <th>solar_irradiance</th>\n",
       "      <th>ofs_cfs</th>\n",
       "      <th>ons_cfs</th>\n",
       "    </tr>\n",
       "    <tr>\n",
       "      <th>time_in_hours_from_first_jan_1950</th>\n",
       "      <th></th>\n",
       "      <th></th>\n",
       "      <th></th>\n",
       "      <th></th>\n",
       "      <th></th>\n",
       "      <th></th>\n",
       "    </tr>\n",
       "  </thead>\n",
       "  <tbody>\n",
       "    <tr>\n",
       "      <th>1950-01-01 00:00:00</th>\n",
       "      <td>0.0</td>\n",
       "      <td>6.148996</td>\n",
       "      <td>3.976531</td>\n",
       "      <td>0.0</td>\n",
       "      <td>0.126081</td>\n",
       "      <td>0.150885</td>\n",
       "    </tr>\n",
       "    <tr>\n",
       "      <th>1950-01-01 01:00:00</th>\n",
       "      <td>0.0</td>\n",
       "      <td>6.156016</td>\n",
       "      <td>3.948778</td>\n",
       "      <td>0.0</td>\n",
       "      <td>0.132902</td>\n",
       "      <td>0.169805</td>\n",
       "    </tr>\n",
       "    <tr>\n",
       "      <th>1950-01-01 02:00:00</th>\n",
       "      <td>0.0</td>\n",
       "      <td>6.138777</td>\n",
       "      <td>3.957120</td>\n",
       "      <td>0.0</td>\n",
       "      <td>0.149275</td>\n",
       "      <td>0.195890</td>\n",
       "    </tr>\n",
       "    <tr>\n",
       "      <th>1950-01-01 03:00:00</th>\n",
       "      <td>0.0</td>\n",
       "      <td>6.390699</td>\n",
       "      <td>4.150732</td>\n",
       "      <td>0.0</td>\n",
       "      <td>0.163094</td>\n",
       "      <td>0.235261</td>\n",
       "    </tr>\n",
       "    <tr>\n",
       "      <th>1950-01-01 04:00:00</th>\n",
       "      <td>0.0</td>\n",
       "      <td>6.461800</td>\n",
       "      <td>4.243430</td>\n",
       "      <td>0.0</td>\n",
       "      <td>0.160107</td>\n",
       "      <td>0.261474</td>\n",
       "    </tr>\n",
       "  </tbody>\n",
       "</table>\n",
       "</div>"
      ],
      "text/plain": [
       "                                   solar_power  100m_wind_speed  \\\n",
       "time_in_hours_from_first_jan_1950                                 \n",
       "1950-01-01 00:00:00                        0.0         6.148996   \n",
       "1950-01-01 01:00:00                        0.0         6.156016   \n",
       "1950-01-01 02:00:00                        0.0         6.138777   \n",
       "1950-01-01 03:00:00                        0.0         6.390699   \n",
       "1950-01-01 04:00:00                        0.0         6.461800   \n",
       "\n",
       "                                   10m_wind_speed  solar_irradiance   ofs_cfs  \\\n",
       "time_in_hours_from_first_jan_1950                                               \n",
       "1950-01-01 00:00:00                      3.976531               0.0  0.126081   \n",
       "1950-01-01 01:00:00                      3.948778               0.0  0.132902   \n",
       "1950-01-01 02:00:00                      3.957120               0.0  0.149275   \n",
       "1950-01-01 03:00:00                      4.150732               0.0  0.163094   \n",
       "1950-01-01 04:00:00                      4.243430               0.0  0.160107   \n",
       "\n",
       "                                    ons_cfs  \n",
       "time_in_hours_from_first_jan_1950            \n",
       "1950-01-01 00:00:00                0.150885  \n",
       "1950-01-01 01:00:00                0.169805  \n",
       "1950-01-01 02:00:00                0.195890  \n",
       "1950-01-01 03:00:00                0.235261  \n",
       "1950-01-01 04:00:00                0.261474  "
      ]
     },
     "execution_count": 5,
     "metadata": {},
     "output_type": "execute_result"
    }
   ],
   "source": [
    "df_full.head()"
   ]
  },
  {
   "cell_type": "code",
   "execution_count": 6,
   "metadata": {},
   "outputs": [
    {
     "name": "stdout",
     "output_type": "stream",
     "text": [
      "<xarray.DataArray 'trend_levels' (trend: 5)>\n",
      "[5 values with dtype=float32]\n",
      "Dimensions without coordinates: trend\n",
      "4\n"
     ]
    }
   ],
   "source": [
    "# import the temperature data with different levels of detrending\n",
    "file_path = os.path.join(data_dir, \"NUTS_0_t2m_detrended_timeseries_historical.nc\")\n",
    "\n",
    "# assert that the file exists\n",
    "assert os.path.exists(file_path), f\"File {file_path} does not exist\"\n",
    "\n",
    "# Load the data\n",
    "ds = xr.open_dataset(file_path)\n",
    "\n",
    "# # print ds.variables\n",
    "# print(ds.variables)\n",
    "\n",
    "# assert that NUTS_keys is in the variables\n",
    "assert \"NUTS_keys\" in ds.variables, f\"Variable NUTS_keys not found in {file_path}\"\n",
    "\n",
    "# extract the nuts keys\n",
    "nuts_keys = ds[\"NUTS_keys\"].values\n",
    "\n",
    "# trend levle = [1950., 1980., 2010., 2020.,    0.]\n",
    "\n",
    "# Select the level of detrending\n",
    "# print the trend_levels variable\n",
    "print(ds[\"trend_levels\"])\n",
    "\n",
    "trend_level = 0\n",
    "\n",
    "# select 0 detrend\n",
    "# extract the trend levels\n",
    "trend_levels = ds.trend_levels.values\n",
    "\n",
    "# Find the index of the trend level\n",
    "idx = np.where(trend_levels == trend_level)[0][0]\n",
    "\n",
    "# print the index\n",
    "print(idx)\n",
    "\n",
    "# Extract the data\n",
    "ds = ds.isel(trend=idx)\n",
    "\n",
    "# turn the data into a dataframe\n",
    "df = ds.to_dataframe()\n",
    "\n",
    "# Pivot the dataframe\n",
    "df_pivot = df.reset_index().pivot(\n",
    "    index=\"time_in_hours_from_first_jan_1950\",\n",
    "    columns=\"NUTS\",\n",
    "    values=\"detrended_data\",\n",
    ")\n",
    "\n",
    "# set the columns as the nuts keys\n",
    "df_pivot.columns = nuts_keys\n",
    "\n",
    "# Convert 'time_in_hours_from_first_jan_1950' column to datetime\n",
    "df_pivot.index = pd.to_datetime(df_pivot.index, unit=\"h\", origin=\"1950-01-01\")\n",
    "\n",
    "# constrain to the \"UK\" column\n",
    "df_pivot = df_pivot[\"UK\"]\n",
    "\n",
    "# if this is the first iteration, set the index\n",
    "if df_full.empty:\n",
    "    df_full = df_pivot.to_frame(name=\"t2m_no_detrend\")\n",
    "else:\n",
    "    df_full[\"t2m_no_detrend\"] = df_pivot"
   ]
  },
  {
   "cell_type": "code",
   "execution_count": 7,
   "metadata": {},
   "outputs": [
    {
     "name": "stdout",
     "output_type": "stream",
     "text": [
      "<xarray.DataArray 'trend_levels' (trend: 5)>\n",
      "[5 values with dtype=float32]\n",
      "Dimensions without coordinates: trend\n",
      "3\n"
     ]
    }
   ],
   "source": [
    "# import the temperature data with different levels of detrending\n",
    "file_path = os.path.join(data_dir, \"NUTS_0_t2m_detrended_timeseries_historical.nc\")\n",
    "\n",
    "# assert that the file exists\n",
    "assert os.path.exists(file_path), f\"File {file_path} does not exist\"\n",
    "\n",
    "# Load the data\n",
    "ds = xr.open_dataset(file_path)\n",
    "\n",
    "# # print ds.variables\n",
    "# print(ds.variables)\n",
    "\n",
    "# assert that NUTS_keys is in the variables\n",
    "assert \"NUTS_keys\" in ds.variables, f\"Variable NUTS_keys not found in {file_path}\"\n",
    "\n",
    "# extract the nuts keys\n",
    "nuts_keys = ds[\"NUTS_keys\"].values\n",
    "\n",
    "# trend levle = [1950., 1980., 2010., 2020.,    0.]\n",
    "\n",
    "# Select the level of detrending\n",
    "# print the trend_levels variable\n",
    "print(ds[\"trend_levels\"])\n",
    "\n",
    "trend_level = 2020\n",
    "\n",
    "# select 0 detrend\n",
    "# extract the trend levels\n",
    "trend_levels = ds.trend_levels.values\n",
    "\n",
    "# Find the index of the trend level\n",
    "idx = np.where(trend_levels == trend_level)[0][0]\n",
    "\n",
    "# print the index\n",
    "print(idx)\n",
    "\n",
    "# Extract the data\n",
    "ds = ds.isel(trend=idx)\n",
    "\n",
    "# turn the data into a dataframe\n",
    "df = ds.to_dataframe()\n",
    "\n",
    "# Pivot the dataframe\n",
    "df_pivot = df.reset_index().pivot(\n",
    "    index=\"time_in_hours_from_first_jan_1950\",\n",
    "    columns=\"NUTS\",\n",
    "    values=\"detrended_data\",\n",
    ")\n",
    "\n",
    "# set the columns as the nuts keys\n",
    "df_pivot.columns = nuts_keys\n",
    "\n",
    "# Convert 'time_in_hours_from_first_jan_1950' column to datetime\n",
    "df_pivot.index = pd.to_datetime(df_pivot.index, unit=\"h\", origin=\"1950-01-01\")\n",
    "\n",
    "# constrain to the \"UK\" column\n",
    "df_pivot = df_pivot[\"UK\"]\n",
    "\n",
    "# if this is the first iteration, set the index\n",
    "if df_full.empty:\n",
    "    df_full = df_pivot.to_frame(name=\"t2m_2020_detrend\")\n",
    "else:\n",
    "    df_full[\"t2m_2020_detrend\"] = df_pivot"
   ]
  },
  {
   "cell_type": "code",
   "execution_count": 8,
   "metadata": {},
   "outputs": [
    {
     "data": {
      "text/html": [
       "<div>\n",
       "<style scoped>\n",
       "    .dataframe tbody tr th:only-of-type {\n",
       "        vertical-align: middle;\n",
       "    }\n",
       "\n",
       "    .dataframe tbody tr th {\n",
       "        vertical-align: top;\n",
       "    }\n",
       "\n",
       "    .dataframe thead th {\n",
       "        text-align: right;\n",
       "    }\n",
       "</style>\n",
       "<table border=\"1\" class=\"dataframe\">\n",
       "  <thead>\n",
       "    <tr style=\"text-align: right;\">\n",
       "      <th></th>\n",
       "      <th>solar_power</th>\n",
       "      <th>100m_wind_speed</th>\n",
       "      <th>10m_wind_speed</th>\n",
       "      <th>solar_irradiance</th>\n",
       "      <th>ofs_cfs</th>\n",
       "      <th>ons_cfs</th>\n",
       "      <th>t2m_no_detrend</th>\n",
       "      <th>t2m_2020_detrend</th>\n",
       "    </tr>\n",
       "    <tr>\n",
       "      <th>time_in_hours_from_first_jan_1950</th>\n",
       "      <th></th>\n",
       "      <th></th>\n",
       "      <th></th>\n",
       "      <th></th>\n",
       "      <th></th>\n",
       "      <th></th>\n",
       "      <th></th>\n",
       "      <th></th>\n",
       "    </tr>\n",
       "  </thead>\n",
       "  <tbody>\n",
       "    <tr>\n",
       "      <th>1950-01-01 00:00:00</th>\n",
       "      <td>0.0</td>\n",
       "      <td>6.148996</td>\n",
       "      <td>3.976531</td>\n",
       "      <td>0.0</td>\n",
       "      <td>0.126081</td>\n",
       "      <td>0.150885</td>\n",
       "      <td>4.428690</td>\n",
       "      <td>5.895898</td>\n",
       "    </tr>\n",
       "    <tr>\n",
       "      <th>1950-01-01 01:00:00</th>\n",
       "      <td>0.0</td>\n",
       "      <td>6.156016</td>\n",
       "      <td>3.948778</td>\n",
       "      <td>0.0</td>\n",
       "      <td>0.132902</td>\n",
       "      <td>0.169805</td>\n",
       "      <td>4.583863</td>\n",
       "      <td>6.051068</td>\n",
       "    </tr>\n",
       "    <tr>\n",
       "      <th>1950-01-01 02:00:00</th>\n",
       "      <td>0.0</td>\n",
       "      <td>6.138777</td>\n",
       "      <td>3.957120</td>\n",
       "      <td>0.0</td>\n",
       "      <td>0.149275</td>\n",
       "      <td>0.195890</td>\n",
       "      <td>4.598047</td>\n",
       "      <td>6.065250</td>\n",
       "    </tr>\n",
       "    <tr>\n",
       "      <th>1950-01-01 03:00:00</th>\n",
       "      <td>0.0</td>\n",
       "      <td>6.390699</td>\n",
       "      <td>4.150732</td>\n",
       "      <td>0.0</td>\n",
       "      <td>0.163094</td>\n",
       "      <td>0.235261</td>\n",
       "      <td>4.460886</td>\n",
       "      <td>5.928087</td>\n",
       "    </tr>\n",
       "    <tr>\n",
       "      <th>1950-01-01 04:00:00</th>\n",
       "      <td>0.0</td>\n",
       "      <td>6.461800</td>\n",
       "      <td>4.243430</td>\n",
       "      <td>0.0</td>\n",
       "      <td>0.160107</td>\n",
       "      <td>0.261474</td>\n",
       "      <td>4.640312</td>\n",
       "      <td>6.107510</td>\n",
       "    </tr>\n",
       "  </tbody>\n",
       "</table>\n",
       "</div>"
      ],
      "text/plain": [
       "                                   solar_power  100m_wind_speed  \\\n",
       "time_in_hours_from_first_jan_1950                                 \n",
       "1950-01-01 00:00:00                        0.0         6.148996   \n",
       "1950-01-01 01:00:00                        0.0         6.156016   \n",
       "1950-01-01 02:00:00                        0.0         6.138777   \n",
       "1950-01-01 03:00:00                        0.0         6.390699   \n",
       "1950-01-01 04:00:00                        0.0         6.461800   \n",
       "\n",
       "                                   10m_wind_speed  solar_irradiance   ofs_cfs  \\\n",
       "time_in_hours_from_first_jan_1950                                               \n",
       "1950-01-01 00:00:00                      3.976531               0.0  0.126081   \n",
       "1950-01-01 01:00:00                      3.948778               0.0  0.132902   \n",
       "1950-01-01 02:00:00                      3.957120               0.0  0.149275   \n",
       "1950-01-01 03:00:00                      4.150732               0.0  0.163094   \n",
       "1950-01-01 04:00:00                      4.243430               0.0  0.160107   \n",
       "\n",
       "                                    ons_cfs  t2m_no_detrend  t2m_2020_detrend  \n",
       "time_in_hours_from_first_jan_1950                                              \n",
       "1950-01-01 00:00:00                0.150885        4.428690          5.895898  \n",
       "1950-01-01 01:00:00                0.169805        4.583863          6.051068  \n",
       "1950-01-01 02:00:00                0.195890        4.598047          6.065250  \n",
       "1950-01-01 03:00:00                0.235261        4.460886          5.928087  \n",
       "1950-01-01 04:00:00                0.261474        4.640312          6.107510  "
      ]
     },
     "execution_count": 8,
     "metadata": {},
     "output_type": "execute_result"
    }
   ],
   "source": [
    "df_full.head()"
   ]
  },
  {
   "cell_type": "code",
   "execution_count": 9,
   "metadata": {},
   "outputs": [],
   "source": [
    "# path to demand data\n",
    "path=\"/home/users/benhutch/energy-sotcr-2023/data/ERA5_UK_1940_2024_daily_SP_WP_demand_wind.csv\"\n",
    "\n",
    "# impoet this df\n",
    "df_demand = pd.read_csv(path)"
   ]
  },
  {
   "cell_type": "code",
   "execution_count": 10,
   "metadata": {},
   "outputs": [
    {
     "data": {
      "text/html": [
       "<div>\n",
       "<style scoped>\n",
       "    .dataframe tbody tr th:only-of-type {\n",
       "        vertical-align: middle;\n",
       "    }\n",
       "\n",
       "    .dataframe tbody tr th {\n",
       "        vertical-align: top;\n",
       "    }\n",
       "\n",
       "    .dataframe thead th {\n",
       "        text-align: right;\n",
       "    }\n",
       "</style>\n",
       "<table border=\"1\" class=\"dataframe\">\n",
       "  <thead>\n",
       "    <tr style=\"text-align: right;\">\n",
       "      <th></th>\n",
       "      <th>date</th>\n",
       "      <th>United_Kingdom_solar_cf</th>\n",
       "      <th>United_Kingdom_wind_cf</th>\n",
       "      <th>United_Kingdom_demand</th>\n",
       "      <th>United_Kingdom_wd_demand</th>\n",
       "      <th>UK_wind_speed</th>\n",
       "      <th>UK_temp</th>\n",
       "      <th>United_Kingdom_wind_gen</th>\n",
       "      <th>demand_net_wind</th>\n",
       "      <th>wd_demand_net_wind</th>\n",
       "    </tr>\n",
       "  </thead>\n",
       "  <tbody>\n",
       "    <tr>\n",
       "      <th>0</th>\n",
       "      <td>1940-01-01</td>\n",
       "      <td>0.016125</td>\n",
       "      <td>0.344934</td>\n",
       "      <td>46.420023</td>\n",
       "      <td>47.228293</td>\n",
       "      <td>6.961509</td>\n",
       "      <td>-0.688529</td>\n",
       "      <td>10.217639</td>\n",
       "      <td>36.202385</td>\n",
       "      <td>37.010655</td>\n",
       "    </tr>\n",
       "    <tr>\n",
       "      <th>1</th>\n",
       "      <td>1940-01-02</td>\n",
       "      <td>0.013857</td>\n",
       "      <td>0.235733</td>\n",
       "      <td>47.953306</td>\n",
       "      <td>47.953306</td>\n",
       "      <td>5.675701</td>\n",
       "      <td>-1.658305</td>\n",
       "      <td>6.982887</td>\n",
       "      <td>40.970419</td>\n",
       "      <td>40.970419</td>\n",
       "    </tr>\n",
       "    <tr>\n",
       "      <th>2</th>\n",
       "      <td>1940-01-03</td>\n",
       "      <td>0.093672</td>\n",
       "      <td>0.386296</td>\n",
       "      <td>47.568234</td>\n",
       "      <td>47.568234</td>\n",
       "      <td>7.631405</td>\n",
       "      <td>-1.143233</td>\n",
       "      <td>11.442862</td>\n",
       "      <td>36.125371</td>\n",
       "      <td>36.125371</td>\n",
       "    </tr>\n",
       "    <tr>\n",
       "      <th>3</th>\n",
       "      <td>1940-01-04</td>\n",
       "      <td>0.094658</td>\n",
       "      <td>0.468219</td>\n",
       "      <td>46.787436</td>\n",
       "      <td>46.787436</td>\n",
       "      <td>8.341800</td>\n",
       "      <td>-0.098840</td>\n",
       "      <td>13.869574</td>\n",
       "      <td>32.917862</td>\n",
       "      <td>32.917862</td>\n",
       "    </tr>\n",
       "    <tr>\n",
       "      <th>4</th>\n",
       "      <td>1940-01-05</td>\n",
       "      <td>0.111828</td>\n",
       "      <td>0.168710</td>\n",
       "      <td>46.014368</td>\n",
       "      <td>46.914110</td>\n",
       "      <td>5.555250</td>\n",
       "      <td>-0.268279</td>\n",
       "      <td>4.997523</td>\n",
       "      <td>41.016845</td>\n",
       "      <td>41.916587</td>\n",
       "    </tr>\n",
       "  </tbody>\n",
       "</table>\n",
       "</div>"
      ],
      "text/plain": [
       "         date  United_Kingdom_solar_cf  United_Kingdom_wind_cf  \\\n",
       "0  1940-01-01                 0.016125                0.344934   \n",
       "1  1940-01-02                 0.013857                0.235733   \n",
       "2  1940-01-03                 0.093672                0.386296   \n",
       "3  1940-01-04                 0.094658                0.468219   \n",
       "4  1940-01-05                 0.111828                0.168710   \n",
       "\n",
       "   United_Kingdom_demand  United_Kingdom_wd_demand  UK_wind_speed   UK_temp  \\\n",
       "0              46.420023                 47.228293       6.961509 -0.688529   \n",
       "1              47.953306                 47.953306       5.675701 -1.658305   \n",
       "2              47.568234                 47.568234       7.631405 -1.143233   \n",
       "3              46.787436                 46.787436       8.341800 -0.098840   \n",
       "4              46.014368                 46.914110       5.555250 -0.268279   \n",
       "\n",
       "   United_Kingdom_wind_gen  demand_net_wind  wd_demand_net_wind  \n",
       "0                10.217639        36.202385           37.010655  \n",
       "1                 6.982887        40.970419           40.970419  \n",
       "2                11.442862        36.125371           36.125371  \n",
       "3                13.869574        32.917862           32.917862  \n",
       "4                 4.997523        41.016845           41.916587  "
      ]
     },
     "execution_count": 10,
     "metadata": {},
     "output_type": "execute_result"
    }
   ],
   "source": [
    "df_demand.head()"
   ]
  },
  {
   "cell_type": "code",
   "execution_count": 11,
   "metadata": {},
   "outputs": [],
   "source": [
    "# subset to United_Kingdom_demand and United_Kingdom_wd_demand\n",
    "df_demand_subset = df_demand[[\"date\", \"United_Kingdom_demand\", \"United_Kingdom_wd_demand\"]]"
   ]
  },
  {
   "cell_type": "code",
   "execution_count": 12,
   "metadata": {},
   "outputs": [
    {
     "data": {
      "text/html": [
       "<div>\n",
       "<style scoped>\n",
       "    .dataframe tbody tr th:only-of-type {\n",
       "        vertical-align: middle;\n",
       "    }\n",
       "\n",
       "    .dataframe tbody tr th {\n",
       "        vertical-align: top;\n",
       "    }\n",
       "\n",
       "    .dataframe thead th {\n",
       "        text-align: right;\n",
       "    }\n",
       "</style>\n",
       "<table border=\"1\" class=\"dataframe\">\n",
       "  <thead>\n",
       "    <tr style=\"text-align: right;\">\n",
       "      <th></th>\n",
       "      <th>date</th>\n",
       "      <th>United_Kingdom_demand</th>\n",
       "      <th>United_Kingdom_wd_demand</th>\n",
       "    </tr>\n",
       "  </thead>\n",
       "  <tbody>\n",
       "    <tr>\n",
       "      <th>0</th>\n",
       "      <td>1940-01-01</td>\n",
       "      <td>46.420023</td>\n",
       "      <td>47.228293</td>\n",
       "    </tr>\n",
       "    <tr>\n",
       "      <th>1</th>\n",
       "      <td>1940-01-02</td>\n",
       "      <td>47.953306</td>\n",
       "      <td>47.953306</td>\n",
       "    </tr>\n",
       "    <tr>\n",
       "      <th>2</th>\n",
       "      <td>1940-01-03</td>\n",
       "      <td>47.568234</td>\n",
       "      <td>47.568234</td>\n",
       "    </tr>\n",
       "    <tr>\n",
       "      <th>3</th>\n",
       "      <td>1940-01-04</td>\n",
       "      <td>46.787436</td>\n",
       "      <td>46.787436</td>\n",
       "    </tr>\n",
       "    <tr>\n",
       "      <th>4</th>\n",
       "      <td>1940-01-05</td>\n",
       "      <td>46.014368</td>\n",
       "      <td>46.914110</td>\n",
       "    </tr>\n",
       "  </tbody>\n",
       "</table>\n",
       "</div>"
      ],
      "text/plain": [
       "         date  United_Kingdom_demand  United_Kingdom_wd_demand\n",
       "0  1940-01-01              46.420023                 47.228293\n",
       "1  1940-01-02              47.953306                 47.953306\n",
       "2  1940-01-03              47.568234                 47.568234\n",
       "3  1940-01-04              46.787436                 46.787436\n",
       "4  1940-01-05              46.014368                 46.914110"
      ]
     },
     "execution_count": 12,
     "metadata": {},
     "output_type": "execute_result"
    }
   ],
   "source": [
    "df_demand_subset.head()"
   ]
  },
  {
   "cell_type": "code",
   "execution_count": 13,
   "metadata": {},
   "outputs": [
    {
     "name": "stderr",
     "output_type": "stream",
     "text": [
      "/tmp/ipykernel_25268/2338204410.py:2: SettingWithCopyWarning: \n",
      "A value is trying to be set on a copy of a slice from a DataFrame.\n",
      "Try using .loc[row_indexer,col_indexer] = value instead\n",
      "\n",
      "See the caveats in the documentation: https://pandas.pydata.org/pandas-docs/stable/user_guide/indexing.html#returning-a-view-versus-a-copy\n",
      "  df_demand_subset[\"date\"] = pd.to_datetime(df_demand_subset[\"date\"])\n"
     ]
    }
   ],
   "source": [
    "# set date as datetime\n",
    "df_demand_subset[\"date\"] = pd.to_datetime(df_demand_subset[\"date\"])\n",
    "\n",
    "# set date as index\n",
    "df_demand_subset.set_index(\"date\", inplace=True)"
   ]
  },
  {
   "cell_type": "code",
   "execution_count": 14,
   "metadata": {},
   "outputs": [],
   "source": [
    "# process df_full into daily data\n",
    "df_full_daily = df_full.resample(\"D\").mean()"
   ]
  },
  {
   "cell_type": "code",
   "execution_count": 15,
   "metadata": {},
   "outputs": [],
   "source": [
    "#get the min and max date of df_full_daily\n",
    "min_date = df_full_daily.index.min()\n",
    "max_date = df_full_daily.index.max()\n",
    "\n",
    "# subset the demand data to the same date range\n",
    "df_demand_subset = df_demand_subset.loc[min_date:max_date]\n",
    "\n",
    "# merge the two dataframes\n",
    "df_full_daily = pd.concat([df_full_daily, df_demand_subset], axis=1)"
   ]
  },
  {
   "cell_type": "code",
   "execution_count": 16,
   "metadata": {},
   "outputs": [
    {
     "data": {
      "text/html": [
       "<div>\n",
       "<style scoped>\n",
       "    .dataframe tbody tr th:only-of-type {\n",
       "        vertical-align: middle;\n",
       "    }\n",
       "\n",
       "    .dataframe tbody tr th {\n",
       "        vertical-align: top;\n",
       "    }\n",
       "\n",
       "    .dataframe thead th {\n",
       "        text-align: right;\n",
       "    }\n",
       "</style>\n",
       "<table border=\"1\" class=\"dataframe\">\n",
       "  <thead>\n",
       "    <tr style=\"text-align: right;\">\n",
       "      <th></th>\n",
       "      <th>solar_power</th>\n",
       "      <th>100m_wind_speed</th>\n",
       "      <th>10m_wind_speed</th>\n",
       "      <th>solar_irradiance</th>\n",
       "      <th>ofs_cfs</th>\n",
       "      <th>ons_cfs</th>\n",
       "      <th>t2m_no_detrend</th>\n",
       "      <th>t2m_2020_detrend</th>\n",
       "      <th>United_Kingdom_demand</th>\n",
       "      <th>United_Kingdom_wd_demand</th>\n",
       "    </tr>\n",
       "  </thead>\n",
       "  <tbody>\n",
       "    <tr>\n",
       "      <th>2020-12-27</th>\n",
       "      <td>0.023757</td>\n",
       "      <td>8.940444</td>\n",
       "      <td>5.979577</td>\n",
       "      <td>24.189680</td>\n",
       "      <td>0.615395</td>\n",
       "      <td>0.446767</td>\n",
       "      <td>3.649454</td>\n",
       "      <td>3.628710</td>\n",
       "      <td>39.387627</td>\n",
       "      <td>44.078443</td>\n",
       "    </tr>\n",
       "    <tr>\n",
       "      <th>2020-12-28</th>\n",
       "      <td>0.018903</td>\n",
       "      <td>5.019287</td>\n",
       "      <td>3.424141</td>\n",
       "      <td>19.100378</td>\n",
       "      <td>0.200217</td>\n",
       "      <td>0.086603</td>\n",
       "      <td>1.774313</td>\n",
       "      <td>1.753511</td>\n",
       "      <td>45.024194</td>\n",
       "      <td>45.832464</td>\n",
       "    </tr>\n",
       "    <tr>\n",
       "      <th>2020-12-29</th>\n",
       "      <td>0.020817</td>\n",
       "      <td>7.124440</td>\n",
       "      <td>4.698165</td>\n",
       "      <td>21.119453</td>\n",
       "      <td>0.311446</td>\n",
       "      <td>0.210541</td>\n",
       "      <td>2.592501</td>\n",
       "      <td>2.571643</td>\n",
       "      <td>45.236083</td>\n",
       "      <td>45.236083</td>\n",
       "    </tr>\n",
       "    <tr>\n",
       "      <th>2020-12-30</th>\n",
       "      <td>0.023254</td>\n",
       "      <td>5.399757</td>\n",
       "      <td>3.439529</td>\n",
       "      <td>23.473879</td>\n",
       "      <td>0.334843</td>\n",
       "      <td>0.130754</td>\n",
       "      <td>1.594081</td>\n",
       "      <td>1.573165</td>\n",
       "      <td>46.053290</td>\n",
       "      <td>46.053290</td>\n",
       "    </tr>\n",
       "    <tr>\n",
       "      <th>2020-12-31</th>\n",
       "      <td>0.023311</td>\n",
       "      <td>6.773319</td>\n",
       "      <td>4.563665</td>\n",
       "      <td>23.496550</td>\n",
       "      <td>0.205502</td>\n",
       "      <td>0.190531</td>\n",
       "      <td>1.811103</td>\n",
       "      <td>1.790130</td>\n",
       "      <td>46.040684</td>\n",
       "      <td>46.040684</td>\n",
       "    </tr>\n",
       "  </tbody>\n",
       "</table>\n",
       "</div>"
      ],
      "text/plain": [
       "            solar_power  100m_wind_speed  10m_wind_speed  solar_irradiance  \\\n",
       "2020-12-27     0.023757         8.940444        5.979577         24.189680   \n",
       "2020-12-28     0.018903         5.019287        3.424141         19.100378   \n",
       "2020-12-29     0.020817         7.124440        4.698165         21.119453   \n",
       "2020-12-30     0.023254         5.399757        3.439529         23.473879   \n",
       "2020-12-31     0.023311         6.773319        4.563665         23.496550   \n",
       "\n",
       "             ofs_cfs   ons_cfs  t2m_no_detrend  t2m_2020_detrend  \\\n",
       "2020-12-27  0.615395  0.446767        3.649454          3.628710   \n",
       "2020-12-28  0.200217  0.086603        1.774313          1.753511   \n",
       "2020-12-29  0.311446  0.210541        2.592501          2.571643   \n",
       "2020-12-30  0.334843  0.130754        1.594081          1.573165   \n",
       "2020-12-31  0.205502  0.190531        1.811103          1.790130   \n",
       "\n",
       "            United_Kingdom_demand  United_Kingdom_wd_demand  \n",
       "2020-12-27              39.387627                 44.078443  \n",
       "2020-12-28              45.024194                 45.832464  \n",
       "2020-12-29              45.236083                 45.236083  \n",
       "2020-12-30              46.053290                 46.053290  \n",
       "2020-12-31              46.040684                 46.040684  "
      ]
     },
     "execution_count": 16,
     "metadata": {},
     "output_type": "execute_result"
    }
   ],
   "source": [
    "df_full_daily.tail()"
   ]
  },
  {
   "cell_type": "code",
   "execution_count": 17,
   "metadata": {},
   "outputs": [
    {
     "name": "stderr",
     "output_type": "stream",
     "text": [
      "/tmp/ipykernel_25268/267130811.py:7: FutureWarning: 'M' is deprecated and will be removed in a future version, please use 'ME' instead.\n",
      "  df_full_daily_ONDJFM = df_full_daily_ONDJFM.shift(-3, freq=\"M\")\n",
      "/tmp/ipykernel_25268/267130811.py:10: FutureWarning: 'Y' is deprecated and will be removed in a future version, please use 'YE' instead.\n",
      "  df_full_daily_ONDJFM = df_full_daily_ONDJFM.resample(\"Y\").mean()\n"
     ]
    }
   ],
   "source": [
    "#subset to ONDJFM mean\n",
    "df_full_daily_ONDJFM = df_full_daily[\n",
    "    (df_full_daily.index.month >= 10) | (df_full_daily.index.month <= 3)\n",
    "]\n",
    "\n",
    "# shift the time back by 3 months and take the mean\n",
    "df_full_daily_ONDJFM = df_full_daily_ONDJFM.shift(-3, freq=\"M\")\n",
    "\n",
    "# take the annual mean\n",
    "df_full_daily_ONDJFM = df_full_daily_ONDJFM.resample(\"Y\").mean()\n",
    "\n",
    "# drop the first and last year\n",
    "df_full_daily_ONDJFM = df_full_daily_ONDJFM.iloc[1:-1]\n"
   ]
  },
  {
   "cell_type": "code",
   "execution_count": 18,
   "metadata": {},
   "outputs": [],
   "source": [
    "# set the index to the year\n",
    "df_full_daily_ONDJFM.index = df_full_daily_ONDJFM.index.year"
   ]
  },
  {
   "cell_type": "code",
   "execution_count": 19,
   "metadata": {},
   "outputs": [
    {
     "data": {
      "text/html": [
       "<div>\n",
       "<style scoped>\n",
       "    .dataframe tbody tr th:only-of-type {\n",
       "        vertical-align: middle;\n",
       "    }\n",
       "\n",
       "    .dataframe tbody tr th {\n",
       "        vertical-align: top;\n",
       "    }\n",
       "\n",
       "    .dataframe thead th {\n",
       "        text-align: right;\n",
       "    }\n",
       "</style>\n",
       "<table border=\"1\" class=\"dataframe\">\n",
       "  <thead>\n",
       "    <tr style=\"text-align: right;\">\n",
       "      <th></th>\n",
       "      <th>solar_power</th>\n",
       "      <th>100m_wind_speed</th>\n",
       "      <th>10m_wind_speed</th>\n",
       "      <th>solar_irradiance</th>\n",
       "      <th>ofs_cfs</th>\n",
       "      <th>ons_cfs</th>\n",
       "      <th>t2m_no_detrend</th>\n",
       "      <th>t2m_2020_detrend</th>\n",
       "      <th>United_Kingdom_demand</th>\n",
       "      <th>United_Kingdom_wd_demand</th>\n",
       "    </tr>\n",
       "  </thead>\n",
       "  <tbody>\n",
       "    <tr>\n",
       "      <th>2015</th>\n",
       "      <td>0.045989</td>\n",
       "      <td>8.546028</td>\n",
       "      <td>5.803546</td>\n",
       "      <td>65.247696</td>\n",
       "      <td>0.604229</td>\n",
       "      <td>0.381584</td>\n",
       "      <td>7.051015</td>\n",
       "      <td>7.134888</td>\n",
       "      <td>39.997589</td>\n",
       "      <td>41.452842</td>\n",
       "    </tr>\n",
       "    <tr>\n",
       "      <th>2016</th>\n",
       "      <td>0.047428</td>\n",
       "      <td>7.717142</td>\n",
       "      <td>5.185671</td>\n",
       "      <td>80.963707</td>\n",
       "      <td>0.510453</td>\n",
       "      <td>0.312648</td>\n",
       "      <td>6.824999</td>\n",
       "      <td>6.887897</td>\n",
       "      <td>40.287380</td>\n",
       "      <td>41.750628</td>\n",
       "    </tr>\n",
       "    <tr>\n",
       "      <th>2017</th>\n",
       "      <td>0.046698</td>\n",
       "      <td>8.437108</td>\n",
       "      <td>5.717490</td>\n",
       "      <td>90.249214</td>\n",
       "      <td>0.604882</td>\n",
       "      <td>0.372400</td>\n",
       "      <td>5.869819</td>\n",
       "      <td>5.911770</td>\n",
       "      <td>40.966321</td>\n",
       "      <td>42.429570</td>\n",
       "    </tr>\n",
       "    <tr>\n",
       "      <th>2018</th>\n",
       "      <td>0.046976</td>\n",
       "      <td>8.259077</td>\n",
       "      <td>5.535166</td>\n",
       "      <td>90.075439</td>\n",
       "      <td>0.563557</td>\n",
       "      <td>0.363519</td>\n",
       "      <td>7.054070</td>\n",
       "      <td>7.075075</td>\n",
       "      <td>40.049438</td>\n",
       "      <td>41.512686</td>\n",
       "    </tr>\n",
       "    <tr>\n",
       "      <th>2019</th>\n",
       "      <td>0.047315</td>\n",
       "      <td>8.718687</td>\n",
       "      <td>5.897901</td>\n",
       "      <td>100.707596</td>\n",
       "      <td>0.614796</td>\n",
       "      <td>0.402140</td>\n",
       "      <td>6.523098</td>\n",
       "      <td>6.523128</td>\n",
       "      <td>40.475453</td>\n",
       "      <td>41.930705</td>\n",
       "    </tr>\n",
       "  </tbody>\n",
       "</table>\n",
       "</div>"
      ],
      "text/plain": [
       "      solar_power  100m_wind_speed  10m_wind_speed  solar_irradiance  \\\n",
       "2015     0.045989         8.546028        5.803546         65.247696   \n",
       "2016     0.047428         7.717142        5.185671         80.963707   \n",
       "2017     0.046698         8.437108        5.717490         90.249214   \n",
       "2018     0.046976         8.259077        5.535166         90.075439   \n",
       "2019     0.047315         8.718687        5.897901        100.707596   \n",
       "\n",
       "       ofs_cfs   ons_cfs  t2m_no_detrend  t2m_2020_detrend  \\\n",
       "2015  0.604229  0.381584        7.051015          7.134888   \n",
       "2016  0.510453  0.312648        6.824999          6.887897   \n",
       "2017  0.604882  0.372400        5.869819          5.911770   \n",
       "2018  0.563557  0.363519        7.054070          7.075075   \n",
       "2019  0.614796  0.402140        6.523098          6.523128   \n",
       "\n",
       "      United_Kingdom_demand  United_Kingdom_wd_demand  \n",
       "2015              39.997589                 41.452842  \n",
       "2016              40.287380                 41.750628  \n",
       "2017              40.966321                 42.429570  \n",
       "2018              40.049438                 41.512686  \n",
       "2019              40.475453                 41.930705  "
      ]
     },
     "execution_count": 19,
     "metadata": {},
     "output_type": "execute_result"
    }
   ],
   "source": [
    "df_full_daily_ONDJFM.tail()"
   ]
  },
  {
   "cell_type": "code",
   "execution_count": 20,
   "metadata": {},
   "outputs": [
    {
     "data": {
      "image/png": "[encoded data removed]",
      "text/plain": [
       "<Figure size 432x288 with 1 Axes>"
      ]
     },
     "metadata": {
      "needs_background": "light"
     },
     "output_type": "display_data"
    }
   ],
   "source": [
    "# plot a scttaer between 100m wind speed and ofs_cfs\n",
    "plt.scatter(df_full_daily_ONDJFM[\"100m_wind_speed\"], df_full_daily_ONDJFM[\"ofs_cfs\"])\n",
    "\n",
    "plt.xlabel(\"100m wind speed\")\n",
    "plt.ylabel(\"Offshore wind CFs\")\n",
    "\n",
    "# include a line of best fit\n",
    "m, b = np.polyfit(\n",
    "    df_full_daily_ONDJFM[\"100m_wind_speed\"], df_full_daily_ONDJFM[\"ofs_cfs\"], 1\n",
    ")\n",
    "\n",
    "plt.plot(df_full_daily_ONDJFM[\"100m_wind_speed\"], m * df_full_daily_ONDJFM[\"100m_wind_speed\"] + b, color=\"k\")\n",
    "\n",
    "# calculate the r2 value\n",
    "r2 = np.corrcoef(df_full_daily_ONDJFM[\"100m_wind_speed\"], df_full_daily_ONDJFM[\"ofs_cfs\"])[0, 1] ** 2\n",
    "\n",
    "# text in the top left with r2\n",
    "plt.text(\n",
    "    0.05,\n",
    "    0.95,\n",
    "    f\"r2 = {r2:.2f}\",\n",
    "    horizontalalignment=\"left\",\n",
    "    verticalalignment=\"top\",\n",
    "    transform=plt.gca().transAxes,\n",
    "    bbox=dict(facecolor=\"white\", alpha=0.5),\n",
    ")\n",
    "\n",
    "# set the title\n",
    "plt.title(\"100m wind speed vs offshore wind CFs UK\")\n",
    "\n",
    "plt.show()"
   ]
  },
  {
   "cell_type": "code",
   "execution_count": 21,
   "metadata": {},
   "outputs": [],
   "source": [
    "def plot_scatter_with_fit(df, x_col, y_col, title, xlabel, ylabel):\n",
    "    # plot a scatter between x_col and y_col\n",
    "    plt.scatter(df[x_col], df[y_col])\n",
    "\n",
    "    plt.xlabel(xlabel)\n",
    "    plt.ylabel(ylabel)\n",
    "\n",
    "    # include a line of best fit\n",
    "    m, b = np.polyfit(df[x_col], df[y_col], 1)\n",
    "\n",
    "    plt.plot(df[x_col], m * df[x_col] + b, color=\"k\")\n",
    "\n",
    "    # calculate the r2 value\n",
    "    r2 = np.corrcoef(df[x_col], df[y_col])[0, 1] ** 2\n",
    "\n",
    "    # text in the top left with r2\n",
    "    plt.text(\n",
    "        0.05,\n",
    "        0.95,\n",
    "        f\"r2 = {r2:.2f}\",\n",
    "        horizontalalignment=\"left\",\n",
    "        verticalalignment=\"top\",\n",
    "        transform=plt.gca().transAxes,\n",
    "        bbox=dict(facecolor=\"white\", alpha=0.5),\n",
    "    )\n",
    "\n",
    "    # set the title\n",
    "    plt.title(title)\n",
    "\n",
    "    plt.show()"
   ]
  },
  {
   "cell_type": "code",
   "execution_count": 22,
   "metadata": {},
   "outputs": [
    {
     "data": {
      "image/png": "[encoded data removed]",
      "text/plain": [
       "<Figure size 432x288 with 1 Axes>"
      ]
     },
     "metadata": {
      "needs_background": "light"
     },
     "output_type": "display_data"
    }
   ],
   "source": [
    "plot_scatter_with_fit(\n",
    "    df=df_full_daily_ONDJFM,\n",
    "    x_col=\"10m_wind_speed\",\n",
    "    y_col=\"ofs_cfs\",\n",
    "    title=\"10m wind speed vs offshore wind CFs UK\",\n",
    "    xlabel=\"10m wind speed\",\n",
    "    ylabel=\"Offshore wind CFs\",\n",
    ")"
   ]
  },
  {
   "cell_type": "code",
   "execution_count": 23,
   "metadata": {},
   "outputs": [
    {
     "data": {
      "image/png": "[encoded data removed]",
      "text/plain": [
       "<Figure size 432x288 with 1 Axes>"
      ]
     },
     "metadata": {
      "needs_background": "light"
     },
     "output_type": "display_data"
    }
   ],
   "source": [
    "# 100m and onshore wind speed\n",
    "plot_scatter_with_fit(\n",
    "    df=df_full_daily_ONDJFM,\n",
    "    x_col=\"100m_wind_speed\",\n",
    "    y_col=\"ons_cfs\",\n",
    "    title=\"100m wind speed vs onshore wind CFs UK\",\n",
    "    xlabel=\"100m wind speed\",\n",
    "    ylabel=\"Onshore wind CFs\",\n",
    ")"
   ]
  },
  {
   "cell_type": "code",
   "execution_count": 24,
   "metadata": {},
   "outputs": [
    {
     "data": {
      "image/png": "[encoded data removed]",
      "text/plain": [
       "<Figure size 432x288 with 1 Axes>"
      ]
     },
     "metadata": {
      "needs_background": "light"
     },
     "output_type": "display_data"
    }
   ],
   "source": [
    "# 10m and onshore wind speed\n",
    "plot_scatter_with_fit(\n",
    "    df=df_full_daily_ONDJFM,\n",
    "    x_col=\"10m_wind_speed\",\n",
    "    y_col=\"ons_cfs\",\n",
    "    title=\"10m wind speed vs onshore wind CFs UK\",\n",
    "    xlabel=\"10m wind speed\",\n",
    "    ylabel=\"Onshore wind CFs\",\n",
    ")"
   ]
  },
  {
   "cell_type": "code",
   "execution_count": 25,
   "metadata": {},
   "outputs": [
    {
     "data": {
      "image/png": "[encoded data removed]",
      "text/plain": [
       "<Figure size 432x288 with 1 Axes>"
      ]
     },
     "metadata": {
      "needs_background": "light"
     },
     "output_type": "display_data"
    }
   ],
   "source": [
    "# solar irradiance and solar power cfs\n",
    "plot_scatter_with_fit(\n",
    "    df=df_full_daily_ONDJFM,\n",
    "    x_col=\"solar_irradiance\",\n",
    "    y_col=\"solar_power\",\n",
    "    title=\"Solar irradiance vs solar power UK\",\n",
    "    xlabel=\"Solar irradiance (W/m^2)\",\n",
    "    ylabel=\"Solar power CFs\",\n",
    ")"
   ]
  },
  {
   "cell_type": "code",
   "execution_count": 26,
   "metadata": {},
   "outputs": [
    {
     "data": {
      "image/png": "[encoded data removed]",
      "text/plain": [
       "<Figure size 432x288 with 1 Axes>"
      ]
     },
     "metadata": {
      "needs_background": "light"
     },
     "output_type": "display_data"
    }
   ],
   "source": [
    "# temperature and demand\n",
    "plot_scatter_with_fit(\n",
    "    df=df_full_daily_ONDJFM,\n",
    "    x_col=\"t2m_no_detrend\",\n",
    "    y_col=\"United_Kingdom_demand\",\n",
    "    title=\"Temperature vs demand UK\",\n",
    "    xlabel=\"Temperature (K)\",\n",
    "    ylabel=\"Demand (GW)\",\n",
    ")"
   ]
  },
  {
   "cell_type": "code",
   "execution_count": 27,
   "metadata": {},
   "outputs": [
    {
     "data": {
      "image/png": "[encoded data removed]",
      "text/plain": [
       "<Figure size 432x288 with 1 Axes>"
      ]
     },
     "metadata": {
      "needs_background": "light"
     },
     "output_type": "display_data"
    }
   ],
   "source": [
    "# temperature and weather dependent demand\n",
    "plot_scatter_with_fit(\n",
    "    df=df_full_daily_ONDJFM,\n",
    "    x_col=\"t2m_no_detrend\",\n",
    "    y_col=\"United_Kingdom_wd_demand\",\n",
    "    title=\"Temperature vs weather dependent demand UK\",\n",
    "    xlabel=\"Temperature (K)\",\n",
    "    ylabel=\"Weather dependent demand (GW)\",\n",
    ")"
   ]
  },
  {
   "cell_type": "code",
   "execution_count": 28,
   "metadata": {},
   "outputs": [],
   "source": [
    "# Make some assumptions about the power system\n",
    "# wind power capacity factors - includes both onshore and offshore?\n",
    "# also I guess power system is 2021 ish set up?\n",
    "# although won't have changed significantly since then\n",
    "# Not sure how accurate these are leached from:\n",
    "# https://windeurope.org/intelligence-platform/product/wind-energy-in-europe-2023-statistics-and-the-outlook-for-2024-2030/\n",
    "installed_ofs_2023 = 14.756  # GW\n",
    "installed_ons_2023 = 14.866  # GW"
   ]
  },
  {
   "cell_type": "code",
   "execution_count": 29,
   "metadata": {},
   "outputs": [],
   "source": [
    "# calculate the wind power generation\n",
    "df_full_daily_ONDJFM[\"wind_gen\"] = (\n",
    "    installed_ofs_2023 * df_full_daily_ONDJFM[\"ofs_cfs\"]\n",
    "    + installed_ons_2023 * df_full_daily_ONDJFM[\"ons_cfs\"]\n",
    ")"
   ]
  },
  {
   "cell_type": "code",
   "execution_count": 30,
   "metadata": {},
   "outputs": [],
   "source": [
    "# calculate the demand net wind\n",
    "df_full_daily_ONDJFM[\"demand_net_wind\"] = (\n",
    "    df_full_daily_ONDJFM[\"United_Kingdom_demand\"] - df_full_daily_ONDJFM[\"wind_gen\"]\n",
    ")\n",
    "\n",
    "# calculate the weather dependent demand\n",
    "df_full_daily_ONDJFM[\"wd_demand_net_wind\"] = (\n",
    "    df_full_daily_ONDJFM[\"United_Kingdom_wd_demand\"] - df_full_daily_ONDJFM[\"wind_gen\"]\n",
    ")"
   ]
  },
  {
   "cell_type": "code",
   "execution_count": 31,
   "metadata": {},
   "outputs": [
    {
     "data": {
      "image/png": "[encoded data removed]",
      "text/plain": [
       "<Figure size 432x288 with 1 Axes>"
      ]
     },
     "metadata": {
      "needs_background": "light"
     },
     "output_type": "display_data"
    }
   ],
   "source": [
    "# plot 10m wind speed vs wind generation\n",
    "plot_scatter_with_fit(\n",
    "    df=df_full_daily_ONDJFM,\n",
    "    x_col=\"10m_wind_speed\",\n",
    "    y_col=\"wind_gen\",\n",
    "    title=\"10m wind speed vs wind generation UK\",\n",
    "    xlabel=\"10m wind speed\",\n",
    "    ylabel=\"Wind generation (GW)\",\n",
    ")"
   ]
  },
  {
   "cell_type": "code",
   "execution_count": 32,
   "metadata": {},
   "outputs": [
    {
     "data": {
      "image/png": "[encoded data removed]",
      "text/plain": [
       "<Figure size 432x288 with 1 Axes>"
      ]
     },
     "metadata": {
      "needs_background": "light"
     },
     "output_type": "display_data"
    }
   ],
   "source": [
    "# plot the scatter of wind generation vs wd demand net wind\n",
    "plot_scatter_with_fit(\n",
    "    df=df_full_daily_ONDJFM,\n",
    "    x_col=\"wind_gen\",\n",
    "    y_col=\"wd_demand_net_wind\",\n",
    "    title=\"Wind generation vs wd demand net wind UK\",\n",
    "    xlabel=\"Wind generation (GW)\",\n",
    "    ylabel=\"wd demand net wind (GW)\",\n",
    ")"
   ]
  },
  {
   "cell_type": "code",
   "execution_count": 33,
   "metadata": {},
   "outputs": [
    {
     "data": {
      "image/png": "[encoded data removed]",
      "text/plain": [
       "<Figure size 432x288 with 1 Axes>"
      ]
     },
     "metadata": {
      "needs_background": "light"
     },
     "output_type": "display_data"
    }
   ],
   "source": [
    "# scatter of 100m wind speed vs demand net wind\n",
    "plot_scatter_with_fit(\n",
    "    df=df_full_daily_ONDJFM,\n",
    "    x_col=\"100m_wind_speed\",\n",
    "    y_col=\"wd_demand_net_wind\",\n",
    "    title=\"100m wind speed vs Wd demand net wind UK\",\n",
    "    xlabel=\"100m wind speed\",\n",
    "    ylabel=\"wd demand net wind (GW)\",\n",
    ")"
   ]
  },
  {
   "cell_type": "code",
   "execution_count": 34,
   "metadata": {},
   "outputs": [
    {
     "data": {
      "image/png": "[encoded data removed]",
      "text/plain": [
       "<Figure size 432x288 with 1 Axes>"
      ]
     },
     "metadata": {
      "needs_background": "light"
     },
     "output_type": "display_data"
    }
   ],
   "source": [
    "# 10m wind speed vs wd demand net wind\n",
    "plot_scatter_with_fit(\n",
    "    df=df_full_daily_ONDJFM,\n",
    "    x_col=\"10m_wind_speed\",\n",
    "    y_col=\"wd_demand_net_wind\",\n",
    "    title=\"10m wind speed vs Wd demand net wind UK\",\n",
    "    xlabel=\"10m wind speed\",\n",
    "    ylabel=\"wd demand net wind (GW)\",\n",
    ")"
   ]
  },
  {
   "cell_type": "code",
   "execution_count": 35,
   "metadata": {},
   "outputs": [
    {
     "data": {
      "image/png": "[encoded data removed]",
      "text/plain": [
       "<Figure size 432x288 with 1 Axes>"
      ]
     },
     "metadata": {
      "needs_background": "light"
     },
     "output_type": "display_data"
    }
   ],
   "source": [
    "# temperature vs wd demand net wind\n",
    "plot_scatter_with_fit(\n",
    "    df=df_full_daily_ONDJFM,\n",
    "    x_col=\"t2m_no_detrend\",\n",
    "    y_col=\"wd_demand_net_wind\",\n",
    "    title=\"Temperature vs Wd demand net wind UK\",\n",
    "    xlabel=\"Temperature (K)\",\n",
    "    ylabel=\"wd demand net wind (GW)\",\n",
    ")"
   ]
  },
  {
   "cell_type": "code",
   "execution_count": 36,
   "metadata": {},
   "outputs": [],
   "source": [
    "from mpl_toolkits.mplot3d import Axes3D\n",
    "from sklearn.linear_model import LinearRegression\n",
    "from sklearn.metrics import r2_score\n",
    "\n",
    "def plot_3d_scatter(df, x_col, y_col, z_col, title, xlabel, ylabel, zlabel):\n",
    "    fig = plt.figure(figsize=(10, 7))\n",
    "    ax = fig.add_subplot(111, projection='3d')\n",
    "\n",
    "    ax.scatter(df[x_col], df[y_col], df[z_col])\n",
    "\n",
    "    ax.set_xlabel(xlabel)\n",
    "    ax.set_ylabel(ylabel)\n",
    "    ax.set_zlabel(zlabel)\n",
    "    ax.set_title(title)\n",
    "\n",
    "    # Fit a multiple linear regression model\n",
    "    X = df[[x_col, y_col]]\n",
    "    y = df[z_col]\n",
    "    model = LinearRegression().fit(X, y)\n",
    "\n",
    "    # Calculate the R-squared value\n",
    "    r2 = model.score(X, y)\n",
    "\n",
    "    # Print the R-squared value\n",
    "    print(f'R-squared: {r2:.2f}')\n",
    "\n",
    "    # Plot the regression plane\n",
    "    x_range = np.linspace(X[x_col].min(), X[x_col].max(), num=10)\n",
    "    y_range = np.linspace(X[y_col].min(), X[y_col].max(), num=10)\n",
    "    x_range, y_range = np.meshgrid(x_range, y_range)\n",
    "    z_range = model.predict(np.array([x_range.flatten(), y_range.flatten()]).T).reshape(x_range.shape)\n",
    "    ax.plot_surface(x_range, y_range, z_range, alpha=0.5)\n",
    "\n",
    "    plt.show()"
   ]
  },
  {
   "cell_type": "code",
   "execution_count": 37,
   "metadata": {},
   "outputs": [
    {
     "name": "stdout",
     "output_type": "stream",
     "text": [
      "R-squared: 0.97\n"
     ]
    },
    {
     "name": "stderr",
     "output_type": "stream",
     "text": [
      "/apps/jasmin/jaspy/miniconda_envs/jaspy3.10/m3-4.9.2/envs/jaspy3.10-m3-4.9.2-r20220721/lib/python3.10/site-packages/sklearn/base.py:450: UserWarning: X does not have valid feature names, but LinearRegression was fitted with feature names\n",
      "  warnings.warn(\n"
     ]
    },
    {
     "data": {
      "image/png": "[encoded data removed]",
      "text/plain": [
       "<Figure size 720x504 with 1 Axes>"
      ]
     },
     "metadata": {
      "needs_background": "light"
     },
     "output_type": "display_data"
    }
   ],
   "source": [
    "# 3d scatter of 100m wind speed, temperature and wd demand net wind\n",
    "plot_3d_scatter(\n",
    "    df=df_full_daily_ONDJFM,\n",
    "    x_col=\"10m_wind_speed\",\n",
    "    y_col=\"t2m_no_detrend\",\n",
    "    z_col=\"wd_demand_net_wind\",\n",
    "    title=\"10m wind speed, temperature and wd demand net wind UK\",\n",
    "    xlabel=\"10m wind speed\",\n",
    "    ylabel=\"Temperature (K)\",\n",
    "    zlabel=\"wd demand net wind (GW)\",\n",
    ")"
   ]
  },
  {
   "cell_type": "markdown",
   "metadata": {},
   "source": [
    "Now we want to test the strength of this MLR fit by providing the model with 10m wind speeds and 2m temperatures over the UK for a given season and getting it to predict the weather-dependent demand net wind.\n",
    "\n",
    "We can then compare the results of this to our demand net wind variable and see how close they are."
   ]
  },
  {
   "cell_type": "code",
   "execution_count": 38,
   "metadata": {},
   "outputs": [
    {
     "name": "stdout",
     "output_type": "stream",
     "text": [
      "R-squared: 0.97\n",
      "(70,)\n"
     ]
    }
   ],
   "source": [
    "# Fit a multiple linear regression model\n",
    "# Fit a multiple linear regression model\n",
    "X = df_full_daily_ONDJFM[[\"10m_wind_speed\", \"t2m_no_detrend\"]]\n",
    "y = df_full_daily_ONDJFM[\"wd_demand_net_wind\"]\n",
    "model = LinearRegression().fit(X, y)\n",
    "\n",
    "# Calculate the R-squared value\n",
    "r2 = model.score(X, y)\n",
    "\n",
    "# Print the R-squared value\n",
    "print(f'R-squared: {r2:.2f}')\n",
    "\n",
    "# Predict the z values (i.e., wd_demand_net_wind) for the corresponding x and y values in each row\n",
    "z_predicted = model.predict(X)\n",
    "\n",
    "# Print the shape of the z_predicted\n",
    "print(np.shape(z_predicted))"
   ]
  },
  {
   "cell_type": "code",
   "execution_count": 39,
   "metadata": {},
   "outputs": [
    {
     "data": {
      "text/plain": [
       "<matplotlib.legend.Legend at 0x7fdb8c965c30>"
      ]
     },
     "execution_count": 39,
     "metadata": {},
     "output_type": "execute_result"
    },
    {
     "data": {
      "image/png": "[encoded data removed]",
      "text/plain": [
       "<Figure size 720x360 with 1 Axes>"
      ]
     },
     "metadata": {
      "needs_background": "light"
     },
     "output_type": "display_data"
    }
   ],
   "source": [
    "from scipy.stats import pearsonr\n",
    "\n",
    "# set up a figure\n",
    "fig = plt.figure(figsize=(10, 5))\n",
    "\n",
    "# plot the actual wd demand net wind values\n",
    "plt.scatter(df_full_daily_ONDJFM.index, df_full_daily_ONDJFM[\"wd_demand_net_wind\"], label=\"actual\", color=\"k\")\n",
    "\n",
    "# plot the predicted wd demand net wind values\n",
    "plt.plot(df_full_daily_ONDJFM.index, z_predicted, label=\"predicted\", color=\"r\")\n",
    "\n",
    "# set the title\n",
    "plt.title(\"Actual vs predicted wd demand net wind UK\")\n",
    "\n",
    "# calculate the correlation between the actual and predicted values\n",
    "r, p = pearsonr(df_full_daily_ONDJFM[\"wd_demand_net_wind\"], z_predicted)\n",
    "\n",
    "# text in the top left with r2\n",
    "plt.text(\n",
    "    0.05,\n",
    "    0.95,\n",
    "    f\"r = {r:.2f}\\np = {p:.2f}\",\n",
    "    horizontalalignment=\"left\",\n",
    "    verticalalignment=\"top\",\n",
    "    transform=plt.gca().transAxes,\n",
    "    bbox=dict(facecolor=\"white\", alpha=0.5),\n",
    ")\n",
    "\n",
    "# set the x label\n",
    "plt.xlabel(\"Year\")\n",
    "\n",
    "# set the y label\n",
    "plt.ylabel(\"wd demand net wind (GW)\")\n",
    "\n",
    "# show the legend\n",
    "plt.legend()"
   ]
  },
  {
   "cell_type": "markdown",
   "metadata": {},
   "source": [
    "Now import the temperature and wind speed data from DePreSys. It fails the fidelity tests for this test period (1960-1965) but that's kind of expected as we only have 5 observations and 50 model combinations.\n",
    "\n",
    "We assume, therefore, that it has passed the fidelity tests, and now we are trying to translate the wind speeds and temperatures into demand net wind via our observed relationship."
   ]
  },
  {
   "cell_type": "code",
   "execution_count": 40,
   "metadata": {},
   "outputs": [],
   "source": [
    "# Set up the path to the data\n",
    "csv_dir = \"/gws/nopw/j04/canari/users/benhutch/unseen/saved_dfs\"\n",
    "sfcwind_fname = \"HadGEM3-GC31-MM_sfcWind_United Kingdom_ONDJFM_1960_1965_dcppA-hindcast_Amon.csv\"\n",
    "t2m_fname = \"HadGEM3-GC31-MM_tas_United Kingdom_ONDJFM_1960_1965_dcppA-hindcast_Amon.csv\"\n",
    "\n",
    "# Load the data\n",
    "df_sfcwind = pd.read_csv(os.path.join(csv_dir, sfcwind_fname))\n",
    "\n",
    "# Load the data\n",
    "df_t2m = pd.read_csv(os.path.join(csv_dir, t2m_fname))"
   ]
  },
  {
   "cell_type": "code",
   "execution_count": 46,
   "metadata": {},
   "outputs": [
    {
     "data": {
      "text/html": [
       "<div>\n",
       "<style scoped>\n",
       "    .dataframe tbody tr th:only-of-type {\n",
       "        vertical-align: middle;\n",
       "    }\n",
       "\n",
       "    .dataframe tbody tr th {\n",
       "        vertical-align: top;\n",
       "    }\n",
       "\n",
       "    .dataframe thead th {\n",
       "        text-align: right;\n",
       "    }\n",
       "</style>\n",
       "<table border=\"1\" class=\"dataframe\">\n",
       "  <thead>\n",
       "    <tr style=\"text-align: right;\">\n",
       "      <th></th>\n",
       "      <th>init_year</th>\n",
       "      <th>member</th>\n",
       "      <th>lead</th>\n",
       "      <th>sfcWind</th>\n",
       "    </tr>\n",
       "  </thead>\n",
       "  <tbody>\n",
       "    <tr>\n",
       "      <th>7495</th>\n",
       "      <td>1965</td>\n",
       "      <td>9</td>\n",
       "      <td>121</td>\n",
       "      <td>12.318159</td>\n",
       "    </tr>\n",
       "    <tr>\n",
       "      <th>7496</th>\n",
       "      <td>1965</td>\n",
       "      <td>9</td>\n",
       "      <td>122</td>\n",
       "      <td>11.984090</td>\n",
       "    </tr>\n",
       "    <tr>\n",
       "      <th>7497</th>\n",
       "      <td>1965</td>\n",
       "      <td>9</td>\n",
       "      <td>123</td>\n",
       "      <td>10.053566</td>\n",
       "    </tr>\n",
       "    <tr>\n",
       "      <th>7498</th>\n",
       "      <td>1965</td>\n",
       "      <td>9</td>\n",
       "      <td>124</td>\n",
       "      <td>11.320417</td>\n",
       "    </tr>\n",
       "    <tr>\n",
       "      <th>7499</th>\n",
       "      <td>1965</td>\n",
       "      <td>9</td>\n",
       "      <td>125</td>\n",
       "      <td>9.731982</td>\n",
       "    </tr>\n",
       "  </tbody>\n",
       "</table>\n",
       "</div>"
      ],
      "text/plain": [
       "      init_year  member  lead    sfcWind\n",
       "7495       1965       9   121  12.318159\n",
       "7496       1965       9   122  11.984090\n",
       "7497       1965       9   123  10.053566\n",
       "7498       1965       9   124  11.320417\n",
       "7499       1965       9   125   9.731982"
      ]
     },
     "execution_count": 46,
     "metadata": {},
     "output_type": "execute_result"
    }
   ],
   "source": [
    "df_sfcwind.tail()"
   ]
  },
  {
   "cell_type": "code",
   "execution_count": 45,
   "metadata": {},
   "outputs": [],
   "source": [
    "# rename the data column for df_sfcwind\n",
    "df_sfcwind.rename(columns={\"data\": \"sfcWind\"}, inplace=True)\n",
    "\n",
    "# rename the data column for df_t2m\n",
    "df_t2m.rename(columns={\"data\": \"tas\"}, inplace=True)"
   ]
  },
  {
   "cell_type": "code",
   "execution_count": 47,
   "metadata": {},
   "outputs": [],
   "source": [
    "# merge the dataframes\n",
    "df = pd.merge(df_sfcwind, df_t2m, on=['init_year', 'member', 'lead'])"
   ]
  },
  {
   "cell_type": "code",
   "execution_count": 48,
   "metadata": {},
   "outputs": [
    {
     "data": {
      "text/html": [
       "<div>\n",
       "<style scoped>\n",
       "    .dataframe tbody tr th:only-of-type {\n",
       "        vertical-align: middle;\n",
       "    }\n",
       "\n",
       "    .dataframe tbody tr th {\n",
       "        vertical-align: top;\n",
       "    }\n",
       "\n",
       "    .dataframe thead th {\n",
       "        text-align: right;\n",
       "    }\n",
       "</style>\n",
       "<table border=\"1\" class=\"dataframe\">\n",
       "  <thead>\n",
       "    <tr style=\"text-align: right;\">\n",
       "      <th></th>\n",
       "      <th>init_year</th>\n",
       "      <th>member</th>\n",
       "      <th>lead</th>\n",
       "      <th>sfcWind</th>\n",
       "      <th>tas</th>\n",
       "    </tr>\n",
       "  </thead>\n",
       "  <tbody>\n",
       "    <tr>\n",
       "      <th>0</th>\n",
       "      <td>1960</td>\n",
       "      <td>10</td>\n",
       "      <td>1</td>\n",
       "      <td>11.151278</td>\n",
       "      <td>276.202881</td>\n",
       "    </tr>\n",
       "    <tr>\n",
       "      <th>1</th>\n",
       "      <td>1960</td>\n",
       "      <td>10</td>\n",
       "      <td>2</td>\n",
       "      <td>11.545246</td>\n",
       "      <td>274.277990</td>\n",
       "    </tr>\n",
       "    <tr>\n",
       "      <th>2</th>\n",
       "      <td>1960</td>\n",
       "      <td>10</td>\n",
       "      <td>3</td>\n",
       "      <td>10.791002</td>\n",
       "      <td>273.459889</td>\n",
       "    </tr>\n",
       "    <tr>\n",
       "      <th>3</th>\n",
       "      <td>1960</td>\n",
       "      <td>10</td>\n",
       "      <td>4</td>\n",
       "      <td>10.044464</td>\n",
       "      <td>274.358553</td>\n",
       "    </tr>\n",
       "    <tr>\n",
       "      <th>4</th>\n",
       "      <td>1960</td>\n",
       "      <td>10</td>\n",
       "      <td>5</td>\n",
       "      <td>11.279290</td>\n",
       "      <td>273.730867</td>\n",
       "    </tr>\n",
       "  </tbody>\n",
       "</table>\n",
       "</div>"
      ],
      "text/plain": [
       "   init_year  member  lead    sfcWind         tas\n",
       "0       1960      10     1  11.151278  276.202881\n",
       "1       1960      10     2  11.545246  274.277990\n",
       "2       1960      10     3  10.791002  273.459889\n",
       "3       1960      10     4  10.044464  274.358553\n",
       "4       1960      10     5  11.279290  273.730867"
      ]
     },
     "execution_count": 48,
     "metadata": {},
     "output_type": "execute_result"
    }
   ],
   "source": [
    "df.head()"
   ]
  },
  {
   "cell_type": "code",
   "execution_count": 49,
   "metadata": {},
   "outputs": [],
   "source": [
    "# convert tas from K to C\n",
    "df[\"tas\"] = df[\"tas\"] - 273.15"
   ]
  },
  {
   "cell_type": "code",
   "execution_count": 53,
   "metadata": {},
   "outputs": [],
   "source": [
    "# create a new cf to calculate the means over the ONDJFM\n",
    "df_new = pd.DataFrame()\n",
    "\n",
    "# loop over the unique init years and members in df\n",
    "for init_year in df['init_year'].unique():\n",
    "    for member in df['member'].unique():\n",
    "        # extract the model data\n",
    "        model_data = df[(df['init_year'] == init_year) & (df['member'] == member)]\n",
    "\n",
    "        # subset to lead values [12, 13, 14, 15, 16, 17] and take the mean\n",
    "        # first complete ONDJFM season\n",
    "        model_data = model_data[model_data['lead'].isin([12, 13, 14, 15, 16, 17])]\n",
    "\n",
    "        mean_tas = model_data['tas'].mean()\n",
    "        mean_sfcWind = model_data['sfcWind'].mean()\n",
    "\n",
    "        # create a dataframe this\n",
    "        model_data_this = pd.DataFrame(\n",
    "            {\n",
    "                'init_year': [init_year],\n",
    "                'member': [member],\n",
    "                'tas': [mean_tas],\n",
    "                'sfcWind': [mean_sfcWind]\n",
    "            }\n",
    "        )\n",
    "\n",
    "        df_new = pd.concat([df_new, model_data_this])\n"
   ]
  },
  {
   "cell_type": "code",
   "execution_count": 55,
   "metadata": {},
   "outputs": [
    {
     "data": {
      "text/html": [
       "<div>\n",
       "<style scoped>\n",
       "    .dataframe tbody tr th:only-of-type {\n",
       "        vertical-align: middle;\n",
       "    }\n",
       "\n",
       "    .dataframe tbody tr th {\n",
       "        vertical-align: top;\n",
       "    }\n",
       "\n",
       "    .dataframe thead th {\n",
       "        text-align: right;\n",
       "    }\n",
       "</style>\n",
       "<table border=\"1\" class=\"dataframe\">\n",
       "  <thead>\n",
       "    <tr style=\"text-align: right;\">\n",
       "      <th></th>\n",
       "      <th>init_year</th>\n",
       "      <th>member</th>\n",
       "      <th>tas</th>\n",
       "      <th>sfcWind</th>\n",
       "    </tr>\n",
       "  </thead>\n",
       "  <tbody>\n",
       "    <tr>\n",
       "      <th>0</th>\n",
       "      <td>1965</td>\n",
       "      <td>5</td>\n",
       "      <td>2.112552</td>\n",
       "      <td>10.577661</td>\n",
       "    </tr>\n",
       "    <tr>\n",
       "      <th>0</th>\n",
       "      <td>1965</td>\n",
       "      <td>6</td>\n",
       "      <td>1.540891</td>\n",
       "      <td>10.461658</td>\n",
       "    </tr>\n",
       "    <tr>\n",
       "      <th>0</th>\n",
       "      <td>1965</td>\n",
       "      <td>7</td>\n",
       "      <td>1.063251</td>\n",
       "      <td>10.056174</td>\n",
       "    </tr>\n",
       "    <tr>\n",
       "      <th>0</th>\n",
       "      <td>1965</td>\n",
       "      <td>8</td>\n",
       "      <td>1.695330</td>\n",
       "      <td>10.802726</td>\n",
       "    </tr>\n",
       "    <tr>\n",
       "      <th>0</th>\n",
       "      <td>1965</td>\n",
       "      <td>9</td>\n",
       "      <td>1.414509</td>\n",
       "      <td>10.719741</td>\n",
       "    </tr>\n",
       "  </tbody>\n",
       "</table>\n",
       "</div>"
      ],
      "text/plain": [
       "   init_year  member       tas    sfcWind\n",
       "0       1965       5  2.112552  10.577661\n",
       "0       1965       6  1.540891  10.461658\n",
       "0       1965       7  1.063251  10.056174\n",
       "0       1965       8  1.695330  10.802726\n",
       "0       1965       9  1.414509  10.719741"
      ]
     },
     "execution_count": 55,
     "metadata": {},
     "output_type": "execute_result"
    }
   ],
   "source": [
    "df_new.tail()"
   ]
  },
  {
   "cell_type": "code",
   "execution_count": 56,
   "metadata": {},
   "outputs": [
    {
     "name": "stderr",
     "output_type": "stream",
     "text": [
      "/apps/jasmin/jaspy/miniconda_envs/jaspy3.10/m3-4.9.2/envs/jaspy3.10-m3-4.9.2-r20220721/lib/python3.10/site-packages/sklearn/base.py:493: FutureWarning: The feature names should match those that were passed during fit. Starting version 1.2, an error will be raised.\n",
      "Feature names unseen at fit time:\n",
      "- sfcWind\n",
      "- tas\n",
      "Feature names seen at fit time, yet now missing:\n",
      "- 10m_wind_speed\n",
      "- t2m_no_detrend\n",
      "\n",
      "  warnings.warn(message, FutureWarning)\n"
     ]
    }
   ],
   "source": [
    "# set up the predictors\n",
    "X_model = df_new[[\"sfcWind\", \"tas\"]]\n",
    "\n",
    "# predict the wd demand net wind\n",
    "df_new[\"wd_demand_net_wind_pred\"] = model.predict(X_model)"
   ]
  },
  {
   "cell_type": "code",
   "execution_count": 58,
   "metadata": {},
   "outputs": [
    {
     "data": {
      "text/html": [
       "<div>\n",
       "<style scoped>\n",
       "    .dataframe tbody tr th:only-of-type {\n",
       "        vertical-align: middle;\n",
       "    }\n",
       "\n",
       "    .dataframe tbody tr th {\n",
       "        vertical-align: top;\n",
       "    }\n",
       "\n",
       "    .dataframe thead th {\n",
       "        text-align: right;\n",
       "    }\n",
       "</style>\n",
       "<table border=\"1\" class=\"dataframe\">\n",
       "  <thead>\n",
       "    <tr style=\"text-align: right;\">\n",
       "      <th></th>\n",
       "      <th>init_year</th>\n",
       "      <th>member</th>\n",
       "      <th>tas</th>\n",
       "      <th>sfcWind</th>\n",
       "      <th>wd_demand_net_wind_pred</th>\n",
       "    </tr>\n",
       "  </thead>\n",
       "  <tbody>\n",
       "    <tr>\n",
       "      <th>0</th>\n",
       "      <td>1965</td>\n",
       "      <td>5</td>\n",
       "      <td>2.112552</td>\n",
       "      <td>10.577661</td>\n",
       "      <td>13.329649</td>\n",
       "    </tr>\n",
       "    <tr>\n",
       "      <th>0</th>\n",
       "      <td>1965</td>\n",
       "      <td>6</td>\n",
       "      <td>1.540891</td>\n",
       "      <td>10.461658</td>\n",
       "      <td>14.143121</td>\n",
       "    </tr>\n",
       "    <tr>\n",
       "      <th>0</th>\n",
       "      <td>1965</td>\n",
       "      <td>7</td>\n",
       "      <td>1.063251</td>\n",
       "      <td>10.056174</td>\n",
       "      <td>15.930461</td>\n",
       "    </tr>\n",
       "    <tr>\n",
       "      <th>0</th>\n",
       "      <td>1965</td>\n",
       "      <td>8</td>\n",
       "      <td>1.695330</td>\n",
       "      <td>10.802726</td>\n",
       "      <td>12.811498</td>\n",
       "    </tr>\n",
       "    <tr>\n",
       "      <th>0</th>\n",
       "      <td>1965</td>\n",
       "      <td>9</td>\n",
       "      <td>1.414509</td>\n",
       "      <td>10.719741</td>\n",
       "      <td>13.304441</td>\n",
       "    </tr>\n",
       "  </tbody>\n",
       "</table>\n",
       "</div>"
      ],
      "text/plain": [
       "   init_year  member       tas    sfcWind  wd_demand_net_wind_pred\n",
       "0       1965       5  2.112552  10.577661                13.329649\n",
       "0       1965       6  1.540891  10.461658                14.143121\n",
       "0       1965       7  1.063251  10.056174                15.930461\n",
       "0       1965       8  1.695330  10.802726                12.811498\n",
       "0       1965       9  1.414509  10.719741                13.304441"
      ]
     },
     "execution_count": 58,
     "metadata": {},
     "output_type": "execute_result"
    }
   ],
   "source": [
    "df_new.tail()"
   ]
  },
  {
   "cell_type": "code",
   "execution_count": 59,
   "metadata": {},
   "outputs": [
    {
     "name": "stdout",
     "output_type": "stream",
     "text": [
      "12.321390576936885\n",
      "18.29980755598997\n"
     ]
    }
   ],
   "source": [
    "# print the min and max of the predicted wd demand net wind\n",
    "print(df_new[\"wd_demand_net_wind_pred\"].min())\n",
    "print(df_new[\"wd_demand_net_wind_pred\"].max())"
   ]
  },
  {
   "cell_type": "code",
   "execution_count": null,
   "metadata": {},
   "outputs": [],
   "source": [
    "Seems far too low. Perhaps a result of the mean biases in the model. The observed wind speeds are biased low (i.e. ERA5 winds are too still) so demand net wind will be higher as a result. While the observed temperatures are biased high, which will mean reduced winter demand? Winds are likely more of a dominant influence in the model though. Will have to do this with the full data."
   ]
  }
 ],
 "metadata": {
  "kernelspec": {
   "display_name": "Python 3",
   "language": "python",
   "name": "python3"
  },
  "language_info": {
   "codemirror_mode": {
    "name": "ipython",
    "version": 3
   },
   "file_extension": ".py",
   "mimetype": "text/x-python",
   "name": "python",
   "nbconvert_exporter": "python",
   "pygments_lexer": "ipython3",
   "version": "3.10.5"
  }
 },
 "nbformat": 4,
 "nbformat_minor": 2
}
