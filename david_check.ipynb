{
 "cells": [
  {
   "cell_type": "markdown",
   "metadata": {},
   "source": [
    "### Checking ERA5 winds ###"
   ]
  },
  {
   "cell_type": "code",
   "execution_count": 1,
   "metadata": {},
   "outputs": [],
   "source": [
    "# Local imports\n",
    "import os\n",
    "import sys\n",
    "import glob\n",
    "import time\n",
    "import argparse\n",
    "import warnings\n",
    "\n",
    "# Third-party imports\n",
    "import numpy as np\n",
    "import xarray as xr\n",
    "import matplotlib.pyplot as plt\n",
    "import pandas as pd\n",
    "import iris\n",
    "import cftime\n",
    "import seaborn as sns"
   ]
  },
  {
   "cell_type": "code",
   "execution_count": 2,
   "metadata": {},
   "outputs": [],
   "source": [
    "# Set up the hard codded paths\n",
    "base_path = \"/gws/nopw/j04/canari/users/benhutch/unseen/saved_dfs/\"\n",
    "\n",
    "# file paths\n",
    "previous_sfcWind_filename = \"ERA5_sfcWind_UK_wind_box_1960-2025_daily_2025-04-24.csv\"\n",
    "new_sfcWind_filename = \"ERA5_sfcWind_UK_wind_box_1960-2025_daily_2025-05-20.csv\"\n",
    "\n",
    "# Set up the filepaths\n",
    "previous_sfcWind_filepath = os.path.join(base_path, previous_sfcWind_filename)\n",
    "new_sfcWind_filepath = os.path.join(base_path, new_sfcWind_filename)\n",
    "\n",
    "# load the previous and new data\n",
    "previous_sfcWind_df = pd.read_csv(previous_sfcWind_filepath)\n",
    "new_sfcWind_df = pd.read_csv(new_sfcWind_filepath)"
   ]
  },
  {
   "cell_type": "code",
   "execution_count": 3,
   "metadata": {},
   "outputs": [
    {
     "data": {
      "text/html": [
       "<div>\n",
       "<style scoped>\n",
       "    .dataframe tbody tr th:only-of-type {\n",
       "        vertical-align: middle;\n",
       "    }\n",
       "\n",
       "    .dataframe tbody tr th {\n",
       "        vertical-align: top;\n",
       "    }\n",
       "\n",
       "    .dataframe thead th {\n",
       "        text-align: right;\n",
       "    }\n",
       "</style>\n",
       "<table border=\"1\" class=\"dataframe\">\n",
       "  <thead>\n",
       "    <tr style=\"text-align: right;\">\n",
       "      <th></th>\n",
       "      <th>time</th>\n",
       "      <th>data</th>\n",
       "    </tr>\n",
       "  </thead>\n",
       "  <tbody>\n",
       "    <tr>\n",
       "      <th>0</th>\n",
       "      <td>2922.0</td>\n",
       "      <td>7.615330</td>\n",
       "    </tr>\n",
       "    <tr>\n",
       "      <th>1</th>\n",
       "      <td>2923.0</td>\n",
       "      <td>4.919935</td>\n",
       "    </tr>\n",
       "    <tr>\n",
       "      <th>2</th>\n",
       "      <td>2924.0</td>\n",
       "      <td>6.225503</td>\n",
       "    </tr>\n",
       "    <tr>\n",
       "      <th>3</th>\n",
       "      <td>2925.0</td>\n",
       "      <td>7.469524</td>\n",
       "    </tr>\n",
       "    <tr>\n",
       "      <th>4</th>\n",
       "      <td>2926.0</td>\n",
       "      <td>7.928751</td>\n",
       "    </tr>\n",
       "  </tbody>\n",
       "</table>\n",
       "</div>"
      ],
      "text/plain": [
       "     time      data\n",
       "0  2922.0  7.615330\n",
       "1  2923.0  4.919935\n",
       "2  2924.0  6.225503\n",
       "3  2925.0  7.469524\n",
       "4  2926.0  7.928751"
      ]
     },
     "execution_count": 3,
     "metadata": {},
     "output_type": "execute_result"
    }
   ],
   "source": [
    "previous_sfcWind_df.head()"
   ]
  },
  {
   "cell_type": "code",
   "execution_count": 4,
   "metadata": {},
   "outputs": [
    {
     "data": {
      "text/html": [
       "<div>\n",
       "<style scoped>\n",
       "    .dataframe tbody tr th:only-of-type {\n",
       "        vertical-align: middle;\n",
       "    }\n",
       "\n",
       "    .dataframe tbody tr th {\n",
       "        vertical-align: top;\n",
       "    }\n",
       "\n",
       "    .dataframe thead th {\n",
       "        text-align: right;\n",
       "    }\n",
       "</style>\n",
       "<table border=\"1\" class=\"dataframe\">\n",
       "  <thead>\n",
       "    <tr style=\"text-align: right;\">\n",
       "      <th></th>\n",
       "      <th>obs_mean</th>\n",
       "    </tr>\n",
       "  </thead>\n",
       "  <tbody>\n",
       "    <tr>\n",
       "      <th>0</th>\n",
       "      <td>7.615330</td>\n",
       "    </tr>\n",
       "    <tr>\n",
       "      <th>1</th>\n",
       "      <td>4.919935</td>\n",
       "    </tr>\n",
       "    <tr>\n",
       "      <th>2</th>\n",
       "      <td>6.225503</td>\n",
       "    </tr>\n",
       "    <tr>\n",
       "      <th>3</th>\n",
       "      <td>7.469524</td>\n",
       "    </tr>\n",
       "    <tr>\n",
       "      <th>4</th>\n",
       "      <td>7.928751</td>\n",
       "    </tr>\n",
       "  </tbody>\n",
       "</table>\n",
       "</div>"
      ],
      "text/plain": [
       "   obs_mean\n",
       "0  7.615330\n",
       "1  4.919935\n",
       "2  6.225503\n",
       "3  7.469524\n",
       "4  7.928751"
      ]
     },
     "execution_count": 4,
     "metadata": {},
     "output_type": "execute_result"
    }
   ],
   "source": [
    "new_sfcWind_df.head()"
   ]
  },
  {
   "cell_type": "code",
   "execution_count": 5,
   "metadata": {},
   "outputs": [
    {
     "data": {
      "text/plain": [
       "(22701, 2)"
      ]
     },
     "execution_count": 5,
     "metadata": {},
     "output_type": "execute_result"
    }
   ],
   "source": [
    "previous_sfcWind_df.shape"
   ]
  },
  {
   "cell_type": "code",
   "execution_count": 7,
   "metadata": {},
   "outputs": [
    {
     "data": {
      "text/html": [
       "<div>\n",
       "<style scoped>\n",
       "    .dataframe tbody tr th:only-of-type {\n",
       "        vertical-align: middle;\n",
       "    }\n",
       "\n",
       "    .dataframe tbody tr th {\n",
       "        vertical-align: top;\n",
       "    }\n",
       "\n",
       "    .dataframe thead th {\n",
       "        text-align: right;\n",
       "    }\n",
       "</style>\n",
       "<table border=\"1\" class=\"dataframe\">\n",
       "  <thead>\n",
       "    <tr style=\"text-align: right;\">\n",
       "      <th></th>\n",
       "      <th>obs_mean</th>\n",
       "    </tr>\n",
       "  </thead>\n",
       "  <tbody>\n",
       "    <tr>\n",
       "      <th>0</th>\n",
       "      <td>7.615330</td>\n",
       "    </tr>\n",
       "    <tr>\n",
       "      <th>1</th>\n",
       "      <td>4.919935</td>\n",
       "    </tr>\n",
       "    <tr>\n",
       "      <th>2</th>\n",
       "      <td>6.225503</td>\n",
       "    </tr>\n",
       "    <tr>\n",
       "      <th>3</th>\n",
       "      <td>7.469524</td>\n",
       "    </tr>\n",
       "    <tr>\n",
       "      <th>4</th>\n",
       "      <td>7.928751</td>\n",
       "    </tr>\n",
       "  </tbody>\n",
       "</table>\n",
       "</div>"
      ],
      "text/plain": [
       "   obs_mean\n",
       "0  7.615330\n",
       "1  4.919935\n",
       "2  6.225503\n",
       "3  7.469524\n",
       "4  7.928751"
      ]
     },
     "execution_count": 7,
     "metadata": {},
     "output_type": "execute_result"
    }
   ],
   "source": [
    "new_sfcWind_df.head()"
   ]
  },
  {
   "cell_type": "code",
   "execution_count": 9,
   "metadata": {},
   "outputs": [],
   "source": [
    "# generate dates between 1960-01-01 and 2025-02-28\n",
    "start_date = pd.to_datetime(\"1960-01-01\")\n",
    "end_date = pd.to_datetime(\"2025-02-28\")\n",
    "\n",
    "# Create a date range\n",
    "date_range = pd.date_range(start=start_date, end=end_date, freq=\"D\")\n",
    "\n",
    "# add this as a new column\n",
    "new_sfcWind_df[\"date\"] = date_range"
   ]
  },
  {
   "cell_type": "code",
   "execution_count": 13,
   "metadata": {},
   "outputs": [
    {
     "data": {
      "text/html": [
       "<div>\n",
       "<style scoped>\n",
       "    .dataframe tbody tr th:only-of-type {\n",
       "        vertical-align: middle;\n",
       "    }\n",
       "\n",
       "    .dataframe tbody tr th {\n",
       "        vertical-align: top;\n",
       "    }\n",
       "\n",
       "    .dataframe thead th {\n",
       "        text-align: right;\n",
       "    }\n",
       "</style>\n",
       "<table border=\"1\" class=\"dataframe\">\n",
       "  <thead>\n",
       "    <tr style=\"text-align: right;\">\n",
       "      <th></th>\n",
       "      <th>obs_mean</th>\n",
       "      <th>date</th>\n",
       "      <th>month</th>\n",
       "    </tr>\n",
       "  </thead>\n",
       "  <tbody>\n",
       "    <tr>\n",
       "      <th>23796</th>\n",
       "      <td>9.066401</td>\n",
       "      <td>2025-02-24</td>\n",
       "      <td>2</td>\n",
       "    </tr>\n",
       "    <tr>\n",
       "      <th>23797</th>\n",
       "      <td>6.864718</td>\n",
       "      <td>2025-02-25</td>\n",
       "      <td>2</td>\n",
       "    </tr>\n",
       "    <tr>\n",
       "      <th>23798</th>\n",
       "      <td>5.654507</td>\n",
       "      <td>2025-02-26</td>\n",
       "      <td>2</td>\n",
       "    </tr>\n",
       "    <tr>\n",
       "      <th>23799</th>\n",
       "      <td>5.668609</td>\n",
       "      <td>2025-02-27</td>\n",
       "      <td>2</td>\n",
       "    </tr>\n",
       "    <tr>\n",
       "      <th>23800</th>\n",
       "      <td>4.484280</td>\n",
       "      <td>2025-02-28</td>\n",
       "      <td>2</td>\n",
       "    </tr>\n",
       "  </tbody>\n",
       "</table>\n",
       "</div>"
      ],
      "text/plain": [
       "       obs_mean       date  month\n",
       "23796  9.066401 2025-02-24      2\n",
       "23797  6.864718 2025-02-25      2\n",
       "23798  5.654507 2025-02-26      2\n",
       "23799  5.668609 2025-02-27      2\n",
       "23800  4.484280 2025-02-28      2"
      ]
     },
     "execution_count": 13,
     "metadata": {},
     "output_type": "execute_result"
    }
   ],
   "source": [
    "new_sfcWind_df.tail()"
   ]
  },
  {
   "cell_type": "code",
   "execution_count": 12,
   "metadata": {},
   "outputs": [],
   "source": [
    "# limit to months 12, 1, 2\n",
    "new_sfcWind_df[\"month\"] = new_sfcWind_df[\"date\"].dt.month\n",
    "# filter to months 12, 1, 2\n",
    "new_sfcWind_df = new_sfcWind_df[\n",
    "    (new_sfcWind_df[\"month\"] == 12)\n",
    "    | (new_sfcWind_df[\"month\"] == 1)\n",
    "    | (new_sfcWind_df[\"month\"] == 2)\n",
    "]"
   ]
  },
  {
   "cell_type": "code",
   "execution_count": 14,
   "metadata": {},
   "outputs": [],
   "source": [
    "# limit to between 2024-12-01 and 2025-02-28\n",
    "new_sfcWind_df_subset = new_sfcWind_df[\n",
    "    (new_sfcWind_df[\"date\"] >= \"2024-12-01\")\n",
    "    & (new_sfcWind_df[\"date\"] <= \"2025-02-28\")\n",
    "]"
   ]
  },
  {
   "cell_type": "code",
   "execution_count": 16,
   "metadata": {},
   "outputs": [
    {
     "name": "stdout",
     "output_type": "stream",
     "text": [
      "Min value: 2.4970012\n"
     ]
    },
    {
     "data": {
      "image/png": "[encoded data removed]",
      "text/plain": [
       "<Figure size 1000x500 with 1 Axes>"
      ]
     },
     "metadata": {},
     "output_type": "display_data"
    }
   ],
   "source": [
    "# plot the data\n",
    "plt.figure(figsize=(10, 5))\n",
    "\n",
    "plt.plot(\n",
    "    new_sfcWind_df_subset[\"date\"],\n",
    "    new_sfcWind_df_subset[\"obs_mean\"],\n",
    "    label=\"sfcWind\",\n",
    ")\n",
    "\n",
    "# Set the ylabel\n",
    "plt.ylabel(\"sfcWind (m/s)\")\n",
    "\n",
    "# Set the xlabel\n",
    "plt.xlabel(\"Date\")\n",
    "\n",
    "# print the min value\n",
    "min_value = new_sfcWind_df_subset[\"obs_mean\"].min()\n",
    "print(f\"Min value: {min_value}\")"
   ]
  },
  {
   "cell_type": "code",
   "execution_count": 2,
   "metadata": {},
   "outputs": [
    {
     "name": "stderr",
     "output_type": "stream",
     "text": [
      "/home/users/benhutch/.conda/envs/bens-conda-env2/lib/python3.11/site-packages/pyproj/network.py:59: UserWarning: pyproj unable to set PROJ database path.\n",
      "  _set_context_ca_bundle_path(ca_bundle_path)\n",
      "/home/users/benhutch/.conda/envs/bens-conda-env2/lib/python3.11/site-packages/iris/loading.py:582: IrisLoadWarning: Not all file objects were parsed correctly. See iris.loading.LOAD_PROBLEMS for details.\n",
      "  warnings.warn(message, category=IrisLoadWarning)\n",
      "/home/users/benhutch/.conda/envs/bens-conda-env2/lib/python3.11/site-packages/iris/fileformats/netcdf/loader.py:233: IrisLoadWarning: NetCDF variable `expver` is a variable length type of kind <class 'str'> thus the total data size cannot be known in advance. This may affect the lazy loading of the data.\n",
      "  warnings.warn(msg, category=iris.warnings.IrisLoadWarning)\n"
     ]
    },
    {
     "name": "stdout",
     "output_type": "stream",
     "text": [
      "CPU times: user 291 ms, sys: 101 ms, total: 391 ms\n",
      "Wall time: 837 ms\n"
     ]
    },
    {
     "name": "stderr",
     "output_type": "stream",
     "text": [
      "/home/users/benhutch/.conda/envs/bens-conda-env2/lib/python3.11/site-packages/iris/fileformats/cf.py:880: IrisCfMissingVarWarning: Missing CF-netCDF measure variable 'areacella', referenced by netCDF variable 'sfcWind'\n",
      "  warnings.warn(\n"
     ]
    }
   ],
   "source": [
    "%%time\n",
    "\n",
    "# Download two files to compare\n",
    "april_hourly_file = \"/gws/nopw/j04/canari/users/benhutch/ERA5/year_month/ERA5_EU_T_U10_V10_msl2025_01.nc\"\n",
    "may_hourly_file = \"/gws/nopw/j04/canari/users/benhutch/ERA5/year_month/check_files/ERA5_EU_T_U10_V10_msl2025_01.nc\"\n",
    "\n",
    "# Set up the test file path to regrid to \n",
    "test_file_wind = \"/badc/cmip6/data/CMIP6/DCPP/MOHC/HadGEM3-GC31-MM/dcppA-hindcast/s1961-r9i1p1f2/day/sfcWind/gn/files/d20200417/sfcWind_day_HadGEM3-GC31-MM_dcppA-hindcast_s1961-r9i1p1f2_gn_19720101-19720330.nc\"\n",
    "\n",
    "# Set up the grid box\n",
    "wind_gridbox = {\n",
    "    \"lat1\": 50,\n",
    "    \"lat2\": 59.5,\n",
    "    \"lon1\": -6,\n",
    "    \"lon2\": 2\n",
    "}\n",
    "\n",
    "\n",
    "# Load in the cubes\n",
    "april_cube_u10 = iris.load_cube(april_hourly_file, \"u10\")\n",
    "april_cube_v10 = iris.load_cube(april_hourly_file, \"v10\")\n",
    "may_cube_u10 = iris.load_cube(may_hourly_file, \"u10\")\n",
    "may_cube_v10 = iris.load_cube(may_hourly_file, \"v10\")\n",
    "\n",
    "# Load in the wind cube\n",
    "wind_cube = iris.load_cube(test_file_wind, \"sfcWind\")"
   ]
  },
  {
   "cell_type": "code",
   "execution_count": 3,
   "metadata": {},
   "outputs": [],
   "source": [
    "# First we calculate the hourly wind speeds from u and v components\n",
    "# before averaging into daily means\n",
    "windspeed_april_hourly = (april_cube_u10**2 + april_cube_v10.data**2) **0.5\n",
    "windspeed_may_hourly = (may_cube_u10**2 + may_cube_v10**2) **0.5"
   ]
  },
  {
   "cell_type": "code",
   "execution_count": 5,
   "metadata": {},
   "outputs": [],
   "source": [
    "# Rename the variables\n",
    "windspeed_april_hourly.rename(\"si10\")\n",
    "windspeed_may_hourly.rename(\"si10\")"
   ]
  },
  {
   "cell_type": "code",
   "execution_count": 6,
   "metadata": {},
   "outputs": [],
   "source": [
    "# Select the first member from the wind cube\n",
    "model_cube_first = wind_cube[0, :, :]\n",
    "\n",
    "# ensure this is in -180 to 180\n",
    "model_cube_first = model_cube_first.intersection(longitude=(-180, 180), latitude=(0, 90))"
   ]
  },
  {
   "cell_type": "code",
   "execution_count": 7,
   "metadata": {},
   "outputs": [],
   "source": [
    "# Make sure all cubes are for the same european region\n",
    "eu_grid = {\n",
    "        \"lon1\": -40,  # degrees east\n",
    "        \"lon2\": 30,\n",
    "        \"lat1\": 30,  # degrees north\n",
    "        \"lat2\": 80,\n",
    "    }\n",
    "\n",
    "# intersect the april cube\n",
    "windspeed_april_hourly = windspeed_april_hourly.intersection(\n",
    "    latitude=(eu_grid[\"lat1\"], eu_grid[\"lat2\"]),\n",
    "    longitude=(eu_grid[\"lon1\"], eu_grid[\"lon2\"]),\n",
    ")\n",
    "# intersect the may cube\n",
    "windspeed_may_hourly = windspeed_may_hourly.intersection(\n",
    "    latitude=(eu_grid[\"lat1\"], eu_grid[\"lat2\"]),\n",
    "    longitude=(eu_grid[\"lon1\"], eu_grid[\"lon2\"]),\n",
    ")\n",
    "\n",
    "# intersect the model cube\n",
    "model_cube_first = model_cube_first.intersection(\n",
    "    latitude=(eu_grid[\"lat1\"], eu_grid[\"lat2\"]),\n",
    "    longitude=(eu_grid[\"lon1\"], eu_grid[\"lon2\"]),\n",
    ")"
   ]
  },
  {
   "cell_type": "code",
   "execution_count": 8,
   "metadata": {},
   "outputs": [],
   "source": [
    "# Sort the coords\n",
    "model_cube_first.coord(\"latitude\").units = windspeed_april_hourly[0].coord(\"latitude\").units\n",
    "model_cube_first.coord(\"longitude\").units = windspeed_april_hourly[0].coord(\"longitude\").units\n",
    "\n",
    "# sort the attributes as well\n",
    "model_cube_first.coord(\"latitude\").attributes = windspeed_april_hourly[0].coord(\"latitude\").attributes\n",
    "model_cube_first.coord(\"longitude\").attributes = windspeed_april_hourly[0].coord(\"longitude\").attributes"
   ]
  },
  {
   "cell_type": "code",
   "execution_count": 9,
   "metadata": {},
   "outputs": [],
   "source": [
    "# regrid the windspeed cubes to the model cube\n",
    "april_wind_speed_regrid = windspeed_april_hourly.regrid(model_cube_first, iris.analysis.Linear())\n",
    "may_wind_speed_regrid = windspeed_may_hourly.regrid(model_cube_first, iris.analysis.Linear())"
   ]
  },
  {
   "cell_type": "code",
   "execution_count": 10,
   "metadata": {},
   "outputs": [],
   "source": [
    "# Subset both to the uk wind box\n",
    "uk_wind_speed_april = april_wind_speed_regrid.intersection(\n",
    "    latitude=(wind_gridbox[\"lat1\"], wind_gridbox[\"lat2\"]),\n",
    "    longitude=(wind_gridbox[\"lon1\"], wind_gridbox[\"lon2\"]),\n",
    ")\n",
    "uk_wind_speed_may = may_wind_speed_regrid.intersection(\n",
    "    latitude=(wind_gridbox[\"lat1\"], wind_gridbox[\"lat2\"]),\n",
    "    longitude=(wind_gridbox[\"lon1\"], wind_gridbox[\"lon2\"]),\n",
    ")"
   ]
  },
  {
   "cell_type": "code",
   "execution_count": 11,
   "metadata": {},
   "outputs": [
    {
     "name": "stderr",
     "output_type": "stream",
     "text": [
      "/home/users/benhutch/.conda/envs/bens-conda-env2/lib/python3.11/site-packages/iris/cube.py:4341: IrisUserWarning: Collapsing spatial coordinate 'latitude' without weighting\n",
      "  warnings.warn(\n",
      "/home/users/benhutch/.conda/envs/bens-conda-env2/lib/python3.11/site-packages/iris/cube.py:4341: IrisUserWarning: Collapsing spatial coordinate 'latitude' without weighting\n",
      "  warnings.warn(\n"
     ]
    }
   ],
   "source": [
    "# Take the spatial means of this\n",
    "uk_wind_speed_april_mean = uk_wind_speed_april.collapsed([\"latitude\", \"longitude\"], iris.analysis.MEAN)\n",
    "uk_wind_speed_may_mean = uk_wind_speed_may.collapsed([\"latitude\", \"longitude\"], iris.analysis.MEAN)"
   ]
  },
  {
   "cell_type": "code",
   "execution_count": 18,
   "metadata": {},
   "outputs": [
    {
     "name": "stdout",
     "output_type": "stream",
     "text": [
      "CPU times: user 4.2 s, sys: 1min 27s, total: 1min 31s\n",
      "Wall time: 1min 1s\n"
     ]
    }
   ],
   "source": [
    "%%time\n",
    "\n",
    "# extract the time coordinates\n",
    "april_time = april_cube_u10.coord(\"time\").points\n",
    "may_time = may_cube_u10.coord(\"time\").points\n",
    "\n",
    "april_values = uk_wind_speed_april_mean.data\n",
    "may_values = uk_wind_speed_may_mean.data"
   ]
  },
  {
   "cell_type": "code",
   "execution_count": 20,
   "metadata": {},
   "outputs": [],
   "source": [
    "# Set up a dframe to hold the data\n",
    "april_df = pd.DataFrame({\n",
    "    \"time\": april_time,\n",
    "    \"windspeed\": april_values,\n",
    "})\n",
    "\n",
    "may_df = pd.DataFrame({\n",
    "    \"time\": may_time,\n",
    "    \"windspeed\": may_values,\n",
    "})"
   ]
  },
  {
   "cell_type": "code",
   "execution_count": 33,
   "metadata": {},
   "outputs": [
    {
     "data": {
      "text/html": [
       "<div>\n",
       "<style scoped>\n",
       "    .dataframe tbody tr th:only-of-type {\n",
       "        vertical-align: middle;\n",
       "    }\n",
       "\n",
       "    .dataframe tbody tr th {\n",
       "        vertical-align: top;\n",
       "    }\n",
       "\n",
       "    .dataframe thead th {\n",
       "        text-align: right;\n",
       "    }\n",
       "</style>\n",
       "<table border=\"1\" class=\"dataframe\">\n",
       "  <thead>\n",
       "    <tr style=\"text-align: right;\">\n",
       "      <th></th>\n",
       "      <th>time</th>\n",
       "      <th>windspeed</th>\n",
       "      <th>time_cf</th>\n",
       "    </tr>\n",
       "    <tr>\n",
       "      <th>time_dt</th>\n",
       "      <th></th>\n",
       "      <th></th>\n",
       "      <th></th>\n",
       "    </tr>\n",
       "  </thead>\n",
       "  <tbody>\n",
       "    <tr>\n",
       "      <th>2025-01-01 00:00:00</th>\n",
       "      <td>1735689600</td>\n",
       "      <td>11.730506</td>\n",
       "      <td>2025-01-01 00:00:00</td>\n",
       "    </tr>\n",
       "    <tr>\n",
       "      <th>2025-01-01 01:00:00</th>\n",
       "      <td>1735693200</td>\n",
       "      <td>11.756482</td>\n",
       "      <td>2025-01-01 01:00:00</td>\n",
       "    </tr>\n",
       "    <tr>\n",
       "      <th>2025-01-01 02:00:00</th>\n",
       "      <td>1735696800</td>\n",
       "      <td>11.671277</td>\n",
       "      <td>2025-01-01 02:00:00</td>\n",
       "    </tr>\n",
       "    <tr>\n",
       "      <th>2025-01-01 03:00:00</th>\n",
       "      <td>1735700400</td>\n",
       "      <td>11.590769</td>\n",
       "      <td>2025-01-01 03:00:00</td>\n",
       "    </tr>\n",
       "    <tr>\n",
       "      <th>2025-01-01 04:00:00</th>\n",
       "      <td>1735704000</td>\n",
       "      <td>11.564186</td>\n",
       "      <td>2025-01-01 04:00:00</td>\n",
       "    </tr>\n",
       "    <tr>\n",
       "      <th>...</th>\n",
       "      <td>...</td>\n",
       "      <td>...</td>\n",
       "      <td>...</td>\n",
       "    </tr>\n",
       "    <tr>\n",
       "      <th>2025-01-31 19:00:00</th>\n",
       "      <td>1738350000</td>\n",
       "      <td>3.145008</td>\n",
       "      <td>2025-01-31 19:00:00</td>\n",
       "    </tr>\n",
       "    <tr>\n",
       "      <th>2025-01-31 20:00:00</th>\n",
       "      <td>1738353600</td>\n",
       "      <td>3.257284</td>\n",
       "      <td>2025-01-31 20:00:00</td>\n",
       "    </tr>\n",
       "    <tr>\n",
       "      <th>2025-01-31 21:00:00</th>\n",
       "      <td>1738357200</td>\n",
       "      <td>3.483497</td>\n",
       "      <td>2025-01-31 21:00:00</td>\n",
       "    </tr>\n",
       "    <tr>\n",
       "      <th>2025-01-31 22:00:00</th>\n",
       "      <td>1738360800</td>\n",
       "      <td>3.683989</td>\n",
       "      <td>2025-01-31 22:00:00</td>\n",
       "    </tr>\n",
       "    <tr>\n",
       "      <th>2025-01-31 23:00:00</th>\n",
       "      <td>1738364400</td>\n",
       "      <td>4.016079</td>\n",
       "      <td>2025-01-31 23:00:00</td>\n",
       "    </tr>\n",
       "  </tbody>\n",
       "</table>\n",
       "<p>744 rows × 3 columns</p>\n",
       "</div>"
      ],
      "text/plain": [
       "                           time  windspeed              time_cf\n",
       "time_dt                                                        \n",
       "2025-01-01 00:00:00  1735689600  11.730506  2025-01-01 00:00:00\n",
       "2025-01-01 01:00:00  1735693200  11.756482  2025-01-01 01:00:00\n",
       "2025-01-01 02:00:00  1735696800  11.671277  2025-01-01 02:00:00\n",
       "2025-01-01 03:00:00  1735700400  11.590769  2025-01-01 03:00:00\n",
       "2025-01-01 04:00:00  1735704000  11.564186  2025-01-01 04:00:00\n",
       "...                         ...        ...                  ...\n",
       "2025-01-31 19:00:00  1738350000   3.145008  2025-01-31 19:00:00\n",
       "2025-01-31 20:00:00  1738353600   3.257284  2025-01-31 20:00:00\n",
       "2025-01-31 21:00:00  1738357200   3.483497  2025-01-31 21:00:00\n",
       "2025-01-31 22:00:00  1738360800   3.683989  2025-01-31 22:00:00\n",
       "2025-01-31 23:00:00  1738364400   4.016079  2025-01-31 23:00:00\n",
       "\n",
       "[744 rows x 3 columns]"
      ]
     },
     "execution_count": 33,
     "metadata": {},
     "output_type": "execute_result"
    }
   ],
   "source": [
    "april_df"
   ]
  },
  {
   "cell_type": "code",
   "execution_count": 23,
   "metadata": {},
   "outputs": [],
   "source": [
    "times_cf_april = cftime.num2date(\n",
    "    april_df[\"time\"].values,\n",
    "    uk_wind_speed_april_mean.coord(\"time\").units.origin,\n",
    ")"
   ]
  },
  {
   "cell_type": "code",
   "execution_count": 29,
   "metadata": {},
   "outputs": [],
   "source": [
    "datetime_index_april = pd.to_datetime(april_df[\"time_cf\"].astype(str))"
   ]
  },
  {
   "cell_type": "code",
   "execution_count": 30,
   "metadata": {},
   "outputs": [
    {
     "data": {
      "text/plain": [
       "0     2025-01-01 00:00:00\n",
       "1     2025-01-01 01:00:00\n",
       "2     2025-01-01 02:00:00\n",
       "3     2025-01-01 03:00:00\n",
       "4     2025-01-01 04:00:00\n",
       "              ...        \n",
       "739   2025-01-31 19:00:00\n",
       "740   2025-01-31 20:00:00\n",
       "741   2025-01-31 21:00:00\n",
       "742   2025-01-31 22:00:00\n",
       "743   2025-01-31 23:00:00\n",
       "Name: time_cf, Length: 744, dtype: datetime64[ns]"
      ]
     },
     "execution_count": 30,
     "metadata": {},
     "output_type": "execute_result"
    }
   ],
   "source": [
    "datetime_index_april"
   ]
  },
  {
   "cell_type": "code",
   "execution_count": 31,
   "metadata": {},
   "outputs": [],
   "source": [
    "# add the datetime index to the dataframe\n",
    "april_df[\"time_dt\"] = datetime_index_april"
   ]
  },
  {
   "cell_type": "code",
   "execution_count": 32,
   "metadata": {},
   "outputs": [],
   "source": [
    "# set this as the index\n",
    "april_df.set_index(\"time_dt\", inplace=True)"
   ]
  },
  {
   "cell_type": "code",
   "execution_count": 34,
   "metadata": {},
   "outputs": [],
   "source": [
    "# drop the time and time_cf columns\n",
    "april_df.drop(columns=[\"time\", \"time_cf\"], inplace=True)"
   ]
  },
  {
   "cell_type": "code",
   "execution_count": 35,
   "metadata": {},
   "outputs": [
    {
     "data": {
      "text/html": [
       "<div>\n",
       "<style scoped>\n",
       "    .dataframe tbody tr th:only-of-type {\n",
       "        vertical-align: middle;\n",
       "    }\n",
       "\n",
       "    .dataframe tbody tr th {\n",
       "        vertical-align: top;\n",
       "    }\n",
       "\n",
       "    .dataframe thead th {\n",
       "        text-align: right;\n",
       "    }\n",
       "</style>\n",
       "<table border=\"1\" class=\"dataframe\">\n",
       "  <thead>\n",
       "    <tr style=\"text-align: right;\">\n",
       "      <th></th>\n",
       "      <th>windspeed</th>\n",
       "    </tr>\n",
       "    <tr>\n",
       "      <th>time_dt</th>\n",
       "      <th></th>\n",
       "    </tr>\n",
       "  </thead>\n",
       "  <tbody>\n",
       "    <tr>\n",
       "      <th>2025-01-01 00:00:00</th>\n",
       "      <td>11.730506</td>\n",
       "    </tr>\n",
       "    <tr>\n",
       "      <th>2025-01-01 01:00:00</th>\n",
       "      <td>11.756482</td>\n",
       "    </tr>\n",
       "    <tr>\n",
       "      <th>2025-01-01 02:00:00</th>\n",
       "      <td>11.671277</td>\n",
       "    </tr>\n",
       "    <tr>\n",
       "      <th>2025-01-01 03:00:00</th>\n",
       "      <td>11.590769</td>\n",
       "    </tr>\n",
       "    <tr>\n",
       "      <th>2025-01-01 04:00:00</th>\n",
       "      <td>11.564186</td>\n",
       "    </tr>\n",
       "  </tbody>\n",
       "</table>\n",
       "</div>"
      ],
      "text/plain": [
       "                     windspeed\n",
       "time_dt                       \n",
       "2025-01-01 00:00:00  11.730506\n",
       "2025-01-01 01:00:00  11.756482\n",
       "2025-01-01 02:00:00  11.671277\n",
       "2025-01-01 03:00:00  11.590769\n",
       "2025-01-01 04:00:00  11.564186"
      ]
     },
     "execution_count": 35,
     "metadata": {},
     "output_type": "execute_result"
    }
   ],
   "source": [
    "april_df.head()"
   ]
  },
  {
   "cell_type": "code",
   "execution_count": 36,
   "metadata": {},
   "outputs": [],
   "source": [
    "# calculate daily means\n",
    "april_df_daily = april_df.resample(\"D\").mean()"
   ]
  },
  {
   "cell_type": "code",
   "execution_count": 37,
   "metadata": {},
   "outputs": [
    {
     "name": "stdout",
     "output_type": "stream",
     "text": [
      "April daily mean windspeed min:  windspeed    2.497001\n",
      "dtype: float64\n",
      "April daily mean windspeed max:  windspeed    12.841044\n",
      "dtype: float64\n"
     ]
    }
   ],
   "source": [
    "# find the minimum and maximum values\n",
    "april_df_daily_min = april_df_daily.min()\n",
    "april_df_daily_max = april_df_daily.max()\n",
    "\n",
    "# print the results\n",
    "print(\"April daily mean windspeed min: \", april_df_daily_min)\n",
    "print(\"April daily mean windspeed max: \", april_df_daily_max)"
   ]
  },
  {
   "cell_type": "code",
   "execution_count": 25,
   "metadata": {},
   "outputs": [],
   "source": [
    "# add this as a new column\n",
    "april_df[\"time_cf\"] = times_cf_april"
   ]
  },
  {
   "cell_type": "code",
   "execution_count": 27,
   "metadata": {},
   "outputs": [
    {
     "ename": "TypeError",
     "evalue": "<class 'cftime._cftime.DatetimeGregorian'> is not convertible to datetime, at position 0",
     "output_type": "error",
     "traceback": [
      "\u001b[0;31m---------------------------------------------------------------------------\u001b[0m",
      "\u001b[0;31mTypeError\u001b[0m                                 Traceback (most recent call last)",
      "Cell \u001b[0;32mIn[27], line 2\u001b[0m\n\u001b[1;32m      1\u001b[0m \u001b[38;5;66;03m# convert this to a datetime\u001b[39;00m\n\u001b[0;32m----> 2\u001b[0m april_df[\u001b[38;5;124m\"\u001b[39m\u001b[38;5;124mtime_dt\u001b[39m\u001b[38;5;124m\"\u001b[39m] \u001b[38;5;241m=\u001b[39m \u001b[43mpd\u001b[49m\u001b[38;5;241;43m.\u001b[39;49m\u001b[43mto_datetime\u001b[49m\u001b[43m(\u001b[49m\u001b[43mapril_df\u001b[49m\u001b[43m[\u001b[49m\u001b[38;5;124;43m\"\u001b[39;49m\u001b[38;5;124;43mtime_cf\u001b[39;49m\u001b[38;5;124;43m\"\u001b[39;49m\u001b[43m]\u001b[49m\u001b[38;5;241;43m.\u001b[39;49m\u001b[43mvalues\u001b[49m\u001b[43m)\u001b[49m\n",
      "File \u001b[0;32m~/.conda/envs/bens-conda-env2/lib/python3.11/site-packages/pandas/core/tools/datetimes.py:1099\u001b[0m, in \u001b[0;36mto_datetime\u001b[0;34m(arg, errors, dayfirst, yearfirst, utc, format, exact, unit, infer_datetime_format, origin, cache)\u001b[0m\n\u001b[1;32m   1097\u001b[0m         result \u001b[38;5;241m=\u001b[39m _convert_and_box_cache(argc, cache_array)\n\u001b[1;32m   1098\u001b[0m     \u001b[38;5;28;01melse\u001b[39;00m:\n\u001b[0;32m-> 1099\u001b[0m         result \u001b[38;5;241m=\u001b[39m \u001b[43mconvert_listlike\u001b[49m\u001b[43m(\u001b[49m\u001b[43margc\u001b[49m\u001b[43m,\u001b[49m\u001b[43m \u001b[49m\u001b[38;5;28;43mformat\u001b[39;49m\u001b[43m)\u001b[49m\n\u001b[1;32m   1100\u001b[0m \u001b[38;5;28;01melse\u001b[39;00m:\n\u001b[1;32m   1101\u001b[0m     result \u001b[38;5;241m=\u001b[39m convert_listlike(np\u001b[38;5;241m.\u001b[39marray([arg]), \u001b[38;5;28mformat\u001b[39m)[\u001b[38;5;241m0\u001b[39m]\n",
      "File \u001b[0;32m~/.conda/envs/bens-conda-env2/lib/python3.11/site-packages/pandas/core/tools/datetimes.py:435\u001b[0m, in \u001b[0;36m_convert_listlike_datetimes\u001b[0;34m(arg, format, name, utc, unit, errors, dayfirst, yearfirst, exact)\u001b[0m\n\u001b[1;32m    432\u001b[0m \u001b[38;5;28;01mif\u001b[39;00m \u001b[38;5;28mformat\u001b[39m \u001b[38;5;129;01mis\u001b[39;00m \u001b[38;5;129;01mnot\u001b[39;00m \u001b[38;5;28;01mNone\u001b[39;00m \u001b[38;5;129;01mand\u001b[39;00m \u001b[38;5;28mformat\u001b[39m \u001b[38;5;241m!=\u001b[39m \u001b[38;5;124m\"\u001b[39m\u001b[38;5;124mmixed\u001b[39m\u001b[38;5;124m\"\u001b[39m:\n\u001b[1;32m    433\u001b[0m     \u001b[38;5;28;01mreturn\u001b[39;00m _array_strptime_with_fallback(arg, name, utc, \u001b[38;5;28mformat\u001b[39m, exact, errors)\n\u001b[0;32m--> 435\u001b[0m result, tz_parsed \u001b[38;5;241m=\u001b[39m \u001b[43mobjects_to_datetime64\u001b[49m\u001b[43m(\u001b[49m\n\u001b[1;32m    436\u001b[0m \u001b[43m    \u001b[49m\u001b[43marg\u001b[49m\u001b[43m,\u001b[49m\n\u001b[1;32m    437\u001b[0m \u001b[43m    \u001b[49m\u001b[43mdayfirst\u001b[49m\u001b[38;5;241;43m=\u001b[39;49m\u001b[43mdayfirst\u001b[49m\u001b[43m,\u001b[49m\n\u001b[1;32m    438\u001b[0m \u001b[43m    \u001b[49m\u001b[43myearfirst\u001b[49m\u001b[38;5;241;43m=\u001b[39;49m\u001b[43myearfirst\u001b[49m\u001b[43m,\u001b[49m\n\u001b[1;32m    439\u001b[0m \u001b[43m    \u001b[49m\u001b[43mutc\u001b[49m\u001b[38;5;241;43m=\u001b[39;49m\u001b[43mutc\u001b[49m\u001b[43m,\u001b[49m\n\u001b[1;32m    440\u001b[0m \u001b[43m    \u001b[49m\u001b[43merrors\u001b[49m\u001b[38;5;241;43m=\u001b[39;49m\u001b[43merrors\u001b[49m\u001b[43m,\u001b[49m\n\u001b[1;32m    441\u001b[0m \u001b[43m    \u001b[49m\u001b[43mallow_object\u001b[49m\u001b[38;5;241;43m=\u001b[39;49m\u001b[38;5;28;43;01mTrue\u001b[39;49;00m\u001b[43m,\u001b[49m\n\u001b[1;32m    442\u001b[0m \u001b[43m\u001b[49m\u001b[43m)\u001b[49m\n\u001b[1;32m    444\u001b[0m \u001b[38;5;28;01mif\u001b[39;00m tz_parsed \u001b[38;5;129;01mis\u001b[39;00m \u001b[38;5;129;01mnot\u001b[39;00m \u001b[38;5;28;01mNone\u001b[39;00m:\n\u001b[1;32m    445\u001b[0m     \u001b[38;5;66;03m# We can take a shortcut since the datetime64 numpy array\u001b[39;00m\n\u001b[1;32m    446\u001b[0m     \u001b[38;5;66;03m# is in UTC\u001b[39;00m\n\u001b[1;32m    447\u001b[0m     out_unit \u001b[38;5;241m=\u001b[39m np\u001b[38;5;241m.\u001b[39mdatetime_data(result\u001b[38;5;241m.\u001b[39mdtype)[\u001b[38;5;241m0\u001b[39m]\n",
      "File \u001b[0;32m~/.conda/envs/bens-conda-env2/lib/python3.11/site-packages/pandas/core/arrays/datetimes.py:2398\u001b[0m, in \u001b[0;36mobjects_to_datetime64\u001b[0;34m(data, dayfirst, yearfirst, utc, errors, allow_object, out_unit)\u001b[0m\n\u001b[1;32m   2395\u001b[0m \u001b[38;5;66;03m# if str-dtype, convert\u001b[39;00m\n\u001b[1;32m   2396\u001b[0m data \u001b[38;5;241m=\u001b[39m np\u001b[38;5;241m.\u001b[39masarray(data, dtype\u001b[38;5;241m=\u001b[39mnp\u001b[38;5;241m.\u001b[39mobject_)\n\u001b[0;32m-> 2398\u001b[0m result, tz_parsed \u001b[38;5;241m=\u001b[39m \u001b[43mtslib\u001b[49m\u001b[38;5;241;43m.\u001b[39;49m\u001b[43marray_to_datetime\u001b[49m\u001b[43m(\u001b[49m\n\u001b[1;32m   2399\u001b[0m \u001b[43m    \u001b[49m\u001b[43mdata\u001b[49m\u001b[43m,\u001b[49m\n\u001b[1;32m   2400\u001b[0m \u001b[43m    \u001b[49m\u001b[43merrors\u001b[49m\u001b[38;5;241;43m=\u001b[39;49m\u001b[43merrors\u001b[49m\u001b[43m,\u001b[49m\n\u001b[1;32m   2401\u001b[0m \u001b[43m    \u001b[49m\u001b[43mutc\u001b[49m\u001b[38;5;241;43m=\u001b[39;49m\u001b[43mutc\u001b[49m\u001b[43m,\u001b[49m\n\u001b[1;32m   2402\u001b[0m \u001b[43m    \u001b[49m\u001b[43mdayfirst\u001b[49m\u001b[38;5;241;43m=\u001b[39;49m\u001b[43mdayfirst\u001b[49m\u001b[43m,\u001b[49m\n\u001b[1;32m   2403\u001b[0m \u001b[43m    \u001b[49m\u001b[43myearfirst\u001b[49m\u001b[38;5;241;43m=\u001b[39;49m\u001b[43myearfirst\u001b[49m\u001b[43m,\u001b[49m\n\u001b[1;32m   2404\u001b[0m \u001b[43m    \u001b[49m\u001b[43mcreso\u001b[49m\u001b[38;5;241;43m=\u001b[39;49m\u001b[43mabbrev_to_npy_unit\u001b[49m\u001b[43m(\u001b[49m\u001b[43mout_unit\u001b[49m\u001b[43m)\u001b[49m\u001b[43m,\u001b[49m\n\u001b[1;32m   2405\u001b[0m \u001b[43m\u001b[49m\u001b[43m)\u001b[49m\n\u001b[1;32m   2407\u001b[0m \u001b[38;5;28;01mif\u001b[39;00m tz_parsed \u001b[38;5;129;01mis\u001b[39;00m \u001b[38;5;129;01mnot\u001b[39;00m \u001b[38;5;28;01mNone\u001b[39;00m:\n\u001b[1;32m   2408\u001b[0m     \u001b[38;5;66;03m# We can take a shortcut since the datetime64 numpy array\u001b[39;00m\n\u001b[1;32m   2409\u001b[0m     \u001b[38;5;66;03m#  is in UTC\u001b[39;00m\n\u001b[1;32m   2410\u001b[0m     \u001b[38;5;28;01mreturn\u001b[39;00m result, tz_parsed\n",
      "File \u001b[0;32mtslib.pyx:414\u001b[0m, in \u001b[0;36mpandas._libs.tslib.array_to_datetime\u001b[0;34m()\u001b[0m\n",
      "File \u001b[0;32mtslib.pyx:596\u001b[0m, in \u001b[0;36mpandas._libs.tslib.array_to_datetime\u001b[0;34m()\u001b[0m\n",
      "File \u001b[0;32mtslib.pyx:588\u001b[0m, in \u001b[0;36mpandas._libs.tslib.array_to_datetime\u001b[0;34m()\u001b[0m\n",
      "\u001b[0;31mTypeError\u001b[0m: <class 'cftime._cftime.DatetimeGregorian'> is not convertible to datetime, at position 0"
     ]
    }
   ],
   "source": [
    "# convert this to a datetime\n",
    "april_df[\"time_dt\"] = pd.to_datetime(april_df[\"time_cf\"].values)"
   ]
  },
  {
   "cell_type": "code",
   "execution_count": 22,
   "metadata": {},
   "outputs": [
    {
     "data": {
      "text/html": [
       "<div>\n",
       "<style scoped>\n",
       "    .dataframe tbody tr th:only-of-type {\n",
       "        vertical-align: middle;\n",
       "    }\n",
       "\n",
       "    .dataframe tbody tr th {\n",
       "        vertical-align: top;\n",
       "    }\n",
       "\n",
       "    .dataframe thead th {\n",
       "        text-align: right;\n",
       "    }\n",
       "</style>\n",
       "<table border=\"1\" class=\"dataframe\">\n",
       "  <thead>\n",
       "    <tr style=\"text-align: right;\">\n",
       "      <th></th>\n",
       "      <th>time</th>\n",
       "      <th>windspeed</th>\n",
       "    </tr>\n",
       "  </thead>\n",
       "  <tbody>\n",
       "    <tr>\n",
       "      <th>0</th>\n",
       "      <td>1735689600</td>\n",
       "      <td>11.730506</td>\n",
       "    </tr>\n",
       "    <tr>\n",
       "      <th>1</th>\n",
       "      <td>1735693200</td>\n",
       "      <td>11.756481</td>\n",
       "    </tr>\n",
       "    <tr>\n",
       "      <th>2</th>\n",
       "      <td>1735696800</td>\n",
       "      <td>11.671277</td>\n",
       "    </tr>\n",
       "    <tr>\n",
       "      <th>3</th>\n",
       "      <td>1735700400</td>\n",
       "      <td>11.590769</td>\n",
       "    </tr>\n",
       "    <tr>\n",
       "      <th>4</th>\n",
       "      <td>1735704000</td>\n",
       "      <td>11.564186</td>\n",
       "    </tr>\n",
       "    <tr>\n",
       "      <th>...</th>\n",
       "      <td>...</td>\n",
       "      <td>...</td>\n",
       "    </tr>\n",
       "    <tr>\n",
       "      <th>739</th>\n",
       "      <td>1738350000</td>\n",
       "      <td>3.145008</td>\n",
       "    </tr>\n",
       "    <tr>\n",
       "      <th>740</th>\n",
       "      <td>1738353600</td>\n",
       "      <td>3.257284</td>\n",
       "    </tr>\n",
       "    <tr>\n",
       "      <th>741</th>\n",
       "      <td>1738357200</td>\n",
       "      <td>3.483497</td>\n",
       "    </tr>\n",
       "    <tr>\n",
       "      <th>742</th>\n",
       "      <td>1738360800</td>\n",
       "      <td>3.683989</td>\n",
       "    </tr>\n",
       "    <tr>\n",
       "      <th>743</th>\n",
       "      <td>1738364400</td>\n",
       "      <td>4.016078</td>\n",
       "    </tr>\n",
       "  </tbody>\n",
       "</table>\n",
       "<p>744 rows × 2 columns</p>\n",
       "</div>"
      ],
      "text/plain": [
       "           time  windspeed\n",
       "0    1735689600  11.730506\n",
       "1    1735693200  11.756481\n",
       "2    1735696800  11.671277\n",
       "3    1735700400  11.590769\n",
       "4    1735704000  11.564186\n",
       "..          ...        ...\n",
       "739  1738350000   3.145008\n",
       "740  1738353600   3.257284\n",
       "741  1738357200   3.483497\n",
       "742  1738360800   3.683989\n",
       "743  1738364400   4.016078\n",
       "\n",
       "[744 rows x 2 columns]"
      ]
     },
     "execution_count": 22,
     "metadata": {},
     "output_type": "execute_result"
    }
   ],
   "source": [
    "may_df"
   ]
  },
  {
   "cell_type": "code",
   "execution_count": 17,
   "metadata": {},
   "outputs": [
    {
     "data": {
      "text/plain": [
       "(744, 153, 301)"
      ]
     },
     "execution_count": 17,
     "metadata": {},
     "output_type": "execute_result"
    }
   ],
   "source": [
    "april_values.shape"
   ]
  },
  {
   "cell_type": "code",
   "execution_count": 16,
   "metadata": {},
   "outputs": [
    {
     "data": {
      "text/plain": [
       "masked_array(\n",
       "  data=[[[  4.4493256 ,   4.731552  ,   4.8604584 , ...,   4.0772552 ,\n",
       "            4.240341  ,   4.3917084 ],\n",
       "         [  3.1807709 ,   3.4669037 ,   3.754013  , ...,   4.6680756 ,\n",
       "            4.821396  ,   4.974716  ],\n",
       "         [  1.9024506 ,   2.1407318 ,   2.385849  , ...,   5.65831   ,\n",
       "            5.691513  ,   5.7266693 ],\n",
       "         ...,\n",
       "         [ 14.281357  ,  13.879013  ,  13.3311615 , ...,  -0.93544006,\n",
       "           -1.2928619 ,  -1.8661041 ],\n",
       "         [ 15.816513  ,  15.668076  ,  15.329208  , ...,  -0.61317444,\n",
       "           -0.8534088 ,  -1.4676666 ],\n",
       "         [ 16.526474  ,  16.508896  ,  16.545029  , ...,  -0.5389557 ,\n",
       "           -0.72743225,  -1.1756744 ]],\n",
       "\n",
       "        [[  4.836151  ,   5.1115417 ,   5.21994   , ...,   3.724823  ,\n",
       "            3.8507996 ,   3.9220886 ],\n",
       "         [  3.6105652 ,   3.889862  ,   4.171112  , ...,   4.461151  ,\n",
       "            4.5343933 ,   4.606659  ],\n",
       "         [  2.3547058 ,   2.5959167 ,   2.8439636 , ...,   5.5763855 ,\n",
       "            5.559784  ,   5.557831  ],\n",
       "         ...,\n",
       "         [ 14.212128  ,  13.997284  ,  13.72287   , ...,  -0.08865356,\n",
       "           -0.6062317 ,  -1.3171692 ],\n",
       "         [ 15.409393  ,  15.4758    ,  15.456268  , ...,   0.18771362,\n",
       "           -0.07595825,  -0.8454895 ],\n",
       "         [ 16.050018  ,  16.143768  ,  16.175018  , ...,   0.14865112,\n",
       "            0.0295105 ,  -0.7175598 ]],\n",
       "\n",
       "        [[  5.0420685 ,   5.27742   ,   5.384842  , ...,   3.5332794 ,\n",
       "            3.6885529 ,   3.770584  ],\n",
       "         [  3.9766388 ,   4.21492   ,   4.4551544 , ...,   4.3340607 ,\n",
       "            4.4170685 ,   4.5000763 ],\n",
       "         [  2.676834  ,   2.9229279 ,   3.1778107 , ...,   5.529373  ,\n",
       "            5.507889  ,   5.5000763 ],\n",
       "         ...,\n",
       "         [ 14.434647  ,  14.238358  ,  14.02742   , ...,   0.07136536,\n",
       "            0.35261536,   0.22273254],\n",
       "         [ 15.699295  ,  15.491287  ,  15.347733  , ...,   0.565506  ,\n",
       "            0.8223419 ,   0.40827942],\n",
       "         [ 16.391678  ,  16.103592  ,  15.783279  , ...,   0.54304504,\n",
       "            0.8145294 ,   0.27449036]],\n",
       "\n",
       "        ...,\n",
       "\n",
       "        [[-17.055374  , -17.104202  , -17.19014   , ..., -13.037796  ,\n",
       "          -13.032913  , -13.09053   ],\n",
       "         [-16.620804  , -16.669632  , -16.71846   , ..., -12.925491  ,\n",
       "          -12.9831085 , -13.041702  ],\n",
       "         [-15.952835  , -16.026077  , -16.089554  , ..., -12.43721   ,\n",
       "          -12.536819  , -12.644241  ],\n",
       "         ...,\n",
       "         [  3.7942352 ,   3.8323212 ,   4.017868  , ...,   0.14091492,\n",
       "            0.774704  ,   1.1614227 ],\n",
       "         [  3.2913055 ,   3.6379852 ,   4.0149384 , ...,  -0.4889679 ,\n",
       "           -0.2467804 ,  -0.26826477],\n",
       "         [  3.12529   ,   3.6086884 ,   4.1155243 , ...,  -0.38545227,\n",
       "           -0.58369446,  -1.5924835 ]],\n",
       "\n",
       "        [[-14.027618  , -14.180939  , -14.267853  , ..., -12.715118  ,\n",
       "          -12.733673  , -12.782501  ],\n",
       "         [-13.556915  , -13.713165  , -13.869415  , ..., -12.54129   ,\n",
       "          -12.591095  , -12.6409    ],\n",
       "         [-13.3909    , -13.537384  , -13.679962  , ..., -11.915314  ,\n",
       "          -12.043243  , -12.198517  ],\n",
       "         ...,\n",
       "         [  4.5817566 ,   4.6286316 ,   4.7048035 , ...,   2.1852722 ,\n",
       "            2.6774597 ,   3.0885925 ],\n",
       "         [  3.8659363 ,   3.995819  ,   4.181366  , ...,   1.4704285 ,\n",
       "            1.6481628 ,   1.3747253 ],\n",
       "         [  3.2311707 ,   3.4606628 ,   3.8366394 , ...,   1.6100769 ,\n",
       "            1.3346863 ,  -0.18484497]],\n",
       "\n",
       "        [[-12.078644  , -12.259308  , -12.416534  , ..., -12.338409  ,\n",
       "          -12.376495  , -12.462433  ],\n",
       "         [-11.783722  , -11.967316  , -12.151886  , ..., -12.083527  ,\n",
       "          -12.170441  , -12.257355  ],\n",
       "         [-11.464386  , -11.652863  , -11.834503  , ..., -11.58255   ,\n",
       "          -11.688995  , -11.809113  ],\n",
       "         ...,\n",
       "         [  4.3070984 ,   4.3354187 ,   4.394989  , ...,   2.341278  ,\n",
       "            2.598114  ,   2.8822937 ],\n",
       "         [  3.6547546 ,   3.691864  ,   3.79245   , ...,   1.4506531 ,\n",
       "            1.3578796 ,   0.8774109 ],\n",
       "         [  2.9682312 ,   3.0541687 ,   3.2826843 , ...,   1.5063171 ,\n",
       "            0.941864  ,  -0.7866516 ]]],\n",
       "  mask=False,\n",
       "  fill_value=1e+20,\n",
       "  dtype=float32)"
      ]
     },
     "execution_count": 16,
     "metadata": {},
     "output_type": "execute_result"
    }
   ],
   "source": [
    "may_values"
   ]
  },
  {
   "cell_type": "code",
   "execution_count": 2,
   "metadata": {},
   "outputs": [],
   "source": [
    "# Set up the file\n",
    "# Set up the path to the obs data\n",
    "obs_wind_path = \"/gws/nopw/j04/canari/users/benhutch/unseen/saved_dfs/ERA5_sfcWind_UK_wind_box_1960-2025_daily_2025-04-24.csv\"\n",
    "\n",
    "# load the file\n",
    "obs_wind_df = pd.read_csv(obs_wind_path)\n",
    "\n",
    "obs_wind_df[\"time\"] = pd.to_datetime(\n",
    "        obs_wind_df[\"time\"], origin=\"1952-01-01\", unit=\"D\"\n",
    "    )\n",
    "\n",
    "# make sure the time is in the right format\n",
    "obs_wind_df[\"time\"] = pd.to_datetime(obs_wind_df[\"time\"])\n",
    "\n",
    "# Subset to months 12, 1, 2\n",
    "obs_wind_df = obs_wind_df[\n",
    "    (obs_wind_df[\"time\"].dt.month == 12)\n",
    "    | (obs_wind_df[\"time\"].dt.month == 1)\n",
    "    | (obs_wind_df[\"time\"].dt.month == 2)\n",
    "]"
   ]
  },
  {
   "cell_type": "code",
   "execution_count": 3,
   "metadata": {},
   "outputs": [
    {
     "name": "stdout",
     "output_type": "stream",
     "text": [
      "            time      data\n",
      "22696 2025-02-24  8.906073\n",
      "22697 2025-02-25  6.489247\n",
      "22698 2025-02-26  4.319633\n",
      "22699 2025-02-27  5.371262\n",
      "22700 2025-02-28  4.016561\n"
     ]
    }
   ],
   "source": [
    "# print the head of the dataframe\n",
    "print(obs_wind_df.tail())"
   ]
  },
  {
   "cell_type": "code",
   "execution_count": 4,
   "metadata": {},
   "outputs": [],
   "source": [
    "# limit time to between 2024-12-01 and 2025-03-01\n",
    "obs_wind_df_subset = obs_wind_df[\n",
    "    (obs_wind_df[\"time\"] >= \"2024-12-01\")\n",
    "    & (obs_wind_df[\"time\"] <= \"2025-03-01\")\n",
    "]"
   ]
  },
  {
   "cell_type": "code",
   "execution_count": 5,
   "metadata": {},
   "outputs": [
    {
     "name": "stdout",
     "output_type": "stream",
     "text": [
      "Mean wind speed is 6.760251048888889 m/s\n",
      "Minimum wind speed occurs on 2025-01-22 00:00:00\n",
      "Minimum wind speed is 1.7671347 m/s\n"
     ]
    },
    {
     "data": {
      "text/plain": [
       "Text(0.5, 1.0, 'ERA5 10m Wind Speed UK Box (Dec 2024 - Mar 2025)')"
      ]
     },
     "execution_count": 5,
     "metadata": {},
     "output_type": "execute_result"
    },
    {
     "data": {
      "image/png": "[encoded data removed]",
      "text/plain": [
       "<Figure size 1000x500 with 1 Axes>"
      ]
     },
     "metadata": {},
     "output_type": "display_data"
    }
   ],
   "source": [
    "# Set up a figure\n",
    "fig, ax = plt.subplots(figsize=(10, 5))\n",
    "\n",
    "# Plot the data\n",
    "ax.plot(\n",
    "    obs_wind_df_subset[\"time\"],\n",
    "    obs_wind_df_subset[\"data\"],\n",
    ")\n",
    "\n",
    "# |Set a horizontal line at the ,min\n",
    "ax.axhline(\n",
    "    y=obs_wind_df_subset[\"data\"].min(),\n",
    "    color=\"red\",\n",
    "    linestyle=\"--\",\n",
    "    label=\"Minimum Wind Speed\",\n",
    ")\n",
    "\n",
    "# include a blue horizontal line for the mean\n",
    "ax.axhline(\n",
    "    y=obs_wind_df_subset[\"data\"].mean(),\n",
    "    color=\"blue\",\n",
    "    linestyle=\"--\",\n",
    "    label=\"Mean Wind Speed\",\n",
    ")\n",
    "\n",
    "# print the mean wind speed\n",
    "mean_wind = obs_wind_df_subset[\"data\"].mean()\n",
    "\n",
    "print(f\"Mean wind speed is {mean_wind} m/s\")\n",
    "\n",
    "# print the date when the minimum wind speed occurs\n",
    "min_date = obs_wind_df_subset.loc[\n",
    "    obs_wind_df_subset[\"data\"].idxmin(), \"time\"\n",
    "]\n",
    "\n",
    "print(f\"Minimum wind speed occurs on {min_date}\")\n",
    "print(\n",
    "    f\"Minimum wind speed is {obs_wind_df_subset['data'].min()} m/s\"\n",
    ")\n",
    "\n",
    "# set the ylabel\n",
    "ax.set_ylabel(\"10m Wind Speed (m/s)\")\n",
    "\n",
    "# Set the title\n",
    "ax.set_title(\"ERA5 10m Wind Speed UK Box (Dec 2024 - Mar 2025)\")"
   ]
  },
  {
   "cell_type": "code",
   "execution_count": 6,
   "metadata": {},
   "outputs": [
    {
     "name": "stdout",
     "output_type": "stream",
     "text": [
      "Minimum wind speed occurs on 2006-02-02 00:00:00\n",
      "Minimum wind speed is 2.343783 m/s\n",
      "Mean wind speed is 6.950422091111111 m/s\n"
     ]
    },
    {
     "data": {
      "text/plain": [
       "Text(0.5, 1.0, 'ERA5 10m Wind Speed UK Box (Dec 2005 - Mar 2006)')"
      ]
     },
     "execution_count": 6,
     "metadata": {},
     "output_type": "execute_result"
    },
    {
     "data": {
      "image/png": "[encoded data removed]",
      "text/plain": [
       "<Figure size 1000x500 with 1 Axes>"
      ]
     },
     "metadata": {},
     "output_type": "display_data"
    }
   ],
   "source": [
    "# subset the data to between 2005-12-01 and 2006-03-01\n",
    "obs_wind_df_subset = obs_wind_df[\n",
    "    (obs_wind_df[\"time\"] >= \"2005-12-01\")\n",
    "    & (obs_wind_df[\"time\"] <= \"2006-03-01\")\n",
    "]\n",
    "\n",
    "# Set up a figure\n",
    "fig, ax = plt.subplots(figsize=(10, 5))\n",
    "\n",
    "# Plot the data\n",
    "ax.plot(\n",
    "    obs_wind_df_subset[\"time\"],\n",
    "    obs_wind_df_subset[\"data\"],\n",
    ")\n",
    "\n",
    "# |Set a horizontal line at the ,min\n",
    "ax.axhline(\n",
    "    y=obs_wind_df_subset[\"data\"].min(),\n",
    "    color=\"red\",\n",
    "    linestyle=\"--\",\n",
    "    label=\"Minimum Wind Speed\",\n",
    ")\n",
    "# print the date when the minimum wind speed occurs\n",
    "min_date = obs_wind_df_subset.loc[\n",
    "    obs_wind_df_subset[\"data\"].idxmin(), \"time\"\n",
    "]\n",
    "print(f\"Minimum wind speed occurs on {min_date}\")\n",
    "print(\n",
    "    f\"Minimum wind speed is {obs_wind_df_subset['data'].min()} m/s\"\n",
    ")\n",
    "\n",
    "# include a blue horizontal line for the mean\n",
    "ax.axhline(\n",
    "    y=obs_wind_df_subset[\"data\"].mean(),\n",
    "    color=\"blue\",\n",
    "    linestyle=\"--\",\n",
    "    label=\"Mean Wind Speed\",\n",
    ")\n",
    "\n",
    "# print the mean wind speed\n",
    "mean_wind = obs_wind_df_subset[\"data\"].mean()\n",
    "\n",
    "# print the mean wind speed\n",
    "print(f\"Mean wind speed is {mean_wind} m/s\")\n",
    "\n",
    "# set the ylabel\n",
    "ax.set_ylabel(\"10m Wind Speed (m/s)\")\n",
    "# Set the title\n",
    "ax.set_title(\"ERA5 10m Wind Speed UK Box (Dec 2005 - Mar 2006)\")"
   ]
  },
  {
   "cell_type": "code",
   "execution_count": 2,
   "metadata": {},
   "outputs": [
    {
     "name": "stderr",
     "output_type": "stream",
     "text": [
      "/home/users/benhutch/.conda/envs/bens-conda-env2/lib/python3.11/site-packages/pyproj/network.py:59: UserWarning: pyproj unable to set PROJ database path.\n",
      "  _set_context_ca_bundle_path(ca_bundle_path)\n"
     ]
    },
    {
     "name": "stdout",
     "output_type": "stream",
     "text": [
      "CPU times: user 209 ms, sys: 58.7 ms, total: 268 ms\n",
      "Wall time: 1.1 s\n"
     ]
    }
   ],
   "source": [
    "# %%time\n",
    "\n",
    "# # Load in the ERA5 data\n",
    "# era5_wind_fpath = \"/gws/nopw/j04/canari/users/benhutch/ERA5/ERA5_wind_daily_1952_2020.nc\"\n",
    "\n",
    "# # load this in with iris\n",
    "# wind_cube = iris.load_cube(era5_wind_fpath, 'si10')"
   ]
  },
  {
   "cell_type": "code",
   "execution_count": 3,
   "metadata": {},
   "outputs": [
    {
     "name": "stdout",
     "output_type": "stream",
     "text": [
      "Latitude: 29.929733276367188 to 89.78487396240234\n",
      "Longitude: -45.0 to 40.21900177001953\n"
     ]
    }
   ],
   "source": [
    "# # Extract the lats and lons\n",
    "# lats = wind_cube.coord('latitude').points\n",
    "# lons = wind_cube.coord('longitude').points\n",
    "\n",
    "# # print the min and max lat an dlon\n",
    "# print(f\"Latitude: {lats.min()} to {lats.max()}\")\n",
    "# print(f\"Longitude: {lons.min()} to {lons.max()}\")"
   ]
  },
  {
   "cell_type": "code",
   "execution_count": 23,
   "metadata": {},
   "outputs": [],
   "source": [
    "# # Set up our constraints\n",
    "# start_date = cftime.datetime(2000, 11, 1, 0, 0, 0)\n",
    "# end_date = cftime.datetime(2001, 2, 28, 23, 59, 59)\n",
    "\n",
    "# # create datetimes between 2000-11-01 and 2001-02-28\n",
    "# dates = pd.date_range(\"2000-11-01\", \"2001-02-28\", freq=\"D\")\n",
    "\n",
    "# # Set up the lat point\n",
    "# lat = 51.5\n",
    "# lon = 0.0\n",
    "\n",
    "# # Set up the constraint on time\n",
    "# time_constraint = iris.Constraint(time=lambda cell: start_date <= cell <= end_date)\n",
    "\n",
    "# # Find the nearest lat and lon points to the lat and lon we want\n",
    "# closest_lat_idx = np.abs(lats - lat).argmin()\n",
    "# closest_lon_idx = np.abs(lons - lon).argmin()\n",
    "\n",
    "# # Set up the constraint on lat and lon\n",
    "# lat_constraint = iris.Constraint(latitude=lats[closest_lat_idx])\n",
    "# lon_constraint = iris.Constraint(longitude=lons[closest_lon_idx])"
   ]
  },
  {
   "cell_type": "code",
   "execution_count": 5,
   "metadata": {},
   "outputs": [
    {
     "name": "stderr",
     "output_type": "stream",
     "text": [
      "/home/users/benhutch/.conda/envs/bens-conda-env2/lib/python3.11/site-packages/iris/common/mixin.py:203: FutureWarning: You are using legacy date precision for Iris units - max precision is seconds. In future, Iris will use microsecond precision - available since cf-units version 3.3 - which may affect core behaviour. To opt-in to the new behaviour, set `iris.FUTURE.date_microseconds = True`.\n",
      "  warnings.warn(message, category=FutureWarning)\n"
     ]
    }
   ],
   "source": [
    "# # apply the time constrain\n",
    "# wind_cube = wind_cube.extract(time_constraint)"
   ]
  },
  {
   "cell_type": "code",
   "execution_count": 10,
   "metadata": {},
   "outputs": [],
   "source": [
    "# # apply the lat and lon constrain\n",
    "# wind_cube_ts = wind_cube.extract(lat_constraint & lon_constraint)"
   ]
  },
  {
   "cell_type": "code",
   "execution_count": 11,
   "metadata": {},
   "outputs": [
    {
     "data": {
      "text/html": [
       "\n",
       "<style>\n",
       "  a.iris {\n",
       "      text-decoration: none !important;\n",
       "  }\n",
       "  table.iris {\n",
       "      white-space: pre;\n",
       "      border: 1px solid;\n",
       "      border-color: #9c9c9c;\n",
       "      font-family: monaco, monospace;\n",
       "  }\n",
       "  th.iris {\n",
       "      background: #303f3f;\n",
       "      color: #e0e0e0;\n",
       "      border-left: 1px solid;\n",
       "      border-color: #9c9c9c;\n",
       "      font-size: 1.05em;\n",
       "      min-width: 50px;\n",
       "      max-width: 125px;\n",
       "  }\n",
       "  tr.iris :first-child {\n",
       "      border-right: 1px solid #9c9c9c !important;\n",
       "  }\n",
       "  td.iris-title {\n",
       "      background: #d5dcdf;\n",
       "      border-top: 1px solid #9c9c9c;\n",
       "      font-weight: bold;\n",
       "  }\n",
       "  .iris-word-cell {\n",
       "      text-align: left !important;\n",
       "      white-space: pre;\n",
       "  }\n",
       "  .iris-subheading-cell {\n",
       "      padding-left: 2em !important;\n",
       "  }\n",
       "  .iris-inclusion-cell {\n",
       "      padding-right: 1em !important;\n",
       "  }\n",
       "  .iris-panel-body {\n",
       "      padding-top: 0px;\n",
       "  }\n",
       "  .iris-panel-title {\n",
       "      padding-left: 3em;\n",
       "  }\n",
       "  .iris-panel-title {\n",
       "      margin-top: 7px;\n",
       "  }\n",
       "</style>\n",
       "<table class=\"iris\" id=\"139850259331664\">\n",
       "    <tr class=\"iris\">\n",
       "<th class=\"iris iris-word-cell\">Si10 (unknown)</th>\n",
       "<th class=\"iris iris-word-cell\">time</th>\n",
       "</tr>\n",
       "    <tr class=\"iris\">\n",
       "<td class=\"iris-word-cell iris-subheading-cell\">Shape</td>\n",
       "<td class=\"iris iris-inclusion-cell\">120</td>\n",
       "</tr>\n",
       "    <tr class=\"iris\">\n",
       "    <td class=\"iris-title iris-word-cell\">Dimension coordinates</td>\n",
       "    <td class=\"iris-title\"></td>\n",
       "</tr>\n",
       "<tr class=\"iris\">\n",
       "    <td class=\"iris-word-cell iris-subheading-cell\">\ttime</td>\n",
       "    <td class=\"iris-inclusion-cell\">x</td>\n",
       "</tr>\n",
       "<tr class=\"iris\">\n",
       "    <td class=\"iris-title iris-word-cell\">Scalar coordinates</td>\n",
       "    <td class=\"iris-title\"></td>\n",
       "</tr>\n",
       "<tr class=\"iris\">\n",
       "    <td class=\"iris-word-cell iris-subheading-cell\">\tlatitude</td>\n",
       "    <td class=\"iris-word-cell\" colspan=\"1\">51.569065 degrees</td>\n",
       "</tr>\n",
       "<tr class=\"iris\">\n",
       "    <td class=\"iris-word-cell iris-subheading-cell\">\tlongitude</td>\n",
       "    <td class=\"iris-word-cell\" colspan=\"1\">0.0001320132 degrees</td>\n",
       "</tr>\n",
       "<tr class=\"iris\">\n",
       "    <td class=\"iris-title iris-word-cell\">Attributes</td>\n",
       "    <td class=\"iris-title\"></td>\n",
       "</tr>\n",
       "<tr class=\"iris\">\n",
       "    <td class=\"iris-word-cell iris-subheading-cell\">\tConventions</td>\n",
       "    <td class=\"iris-word-cell\" colspan=\"1\">&#x27;CF-1.6&#x27;</td>\n",
       "</tr>\n",
       "<tr class=\"iris\">\n",
       "    <td class=\"iris-word-cell iris-subheading-cell\">\thistory</td>\n",
       "    <td class=\"iris-word-cell\" colspan=\"1\">&#x27;2021-02-05 15:08:48 GMT by grib_to_netcdf-2.16.0: /opt/ecmwf/eccodes/bin/grib_to_netcdf ...&#x27;</td>\n",
       "</tr>\n",
       "</table>\n",
       "        "
      ],
      "text/plain": [
       "<iris 'Cube' of si10 / (unknown) (time: 120)>"
      ]
     },
     "execution_count": 11,
     "metadata": {},
     "output_type": "execute_result"
    }
   ],
   "source": [
    "# wind_cube_ts"
   ]
  },
  {
   "cell_type": "code",
   "execution_count": 27,
   "metadata": {},
   "outputs": [
    {
     "name": "stdout",
     "output_type": "stream",
     "text": [
      "[cftime.DatetimeProlepticGregorian(2000, 11, 1, 0, 0, 0, 0, has_year_zero=True)\n",
      " cftime.DatetimeProlepticGregorian(2000, 11, 2, 0, 0, 0, 0, has_year_zero=True)\n",
      " cftime.DatetimeProlepticGregorian(2000, 11, 3, 0, 0, 0, 0, has_year_zero=True)\n",
      " cftime.DatetimeProlepticGregorian(2000, 11, 4, 0, 0, 0, 0, has_year_zero=True)\n",
      " cftime.DatetimeProlepticGregorian(2000, 11, 5, 0, 0, 0, 0, has_year_zero=True)\n",
      " cftime.DatetimeProlepticGregorian(2000, 11, 6, 0, 0, 0, 0, has_year_zero=True)\n",
      " cftime.DatetimeProlepticGregorian(2000, 11, 7, 0, 0, 0, 0, has_year_zero=True)\n",
      " cftime.DatetimeProlepticGregorian(2000, 11, 8, 0, 0, 0, 0, has_year_zero=True)\n",
      " cftime.DatetimeProlepticGregorian(2000, 11, 9, 0, 0, 0, 0, has_year_zero=True)\n",
      " cftime.DatetimeProlepticGregorian(2000, 11, 10, 0, 0, 0, 0, has_year_zero=True)\n",
      " cftime.DatetimeProlepticGregorian(2000, 11, 11, 0, 0, 0, 0, has_year_zero=True)\n",
      " cftime.DatetimeProlepticGregorian(2000, 11, 12, 0, 0, 0, 0, has_year_zero=True)\n",
      " cftime.DatetimeProlepticGregorian(2000, 11, 13, 0, 0, 0, 0, has_year_zero=True)\n",
      " cftime.DatetimeProlepticGregorian(2000, 11, 14, 0, 0, 0, 0, has_year_zero=True)\n",
      " cftime.DatetimeProlepticGregorian(2000, 11, 15, 0, 0, 0, 0, has_year_zero=True)\n",
      " cftime.DatetimeProlepticGregorian(2000, 11, 16, 0, 0, 0, 0, has_year_zero=True)\n",
      " cftime.DatetimeProlepticGregorian(2000, 11, 17, 0, 0, 0, 0, has_year_zero=True)\n",
      " cftime.DatetimeProlepticGregorian(2000, 11, 18, 0, 0, 0, 0, has_year_zero=True)\n",
      " cftime.DatetimeProlepticGregorian(2000, 11, 19, 0, 0, 0, 0, has_year_zero=True)\n",
      " cftime.DatetimeProlepticGregorian(2000, 11, 20, 0, 0, 0, 0, has_year_zero=True)\n",
      " cftime.DatetimeProlepticGregorian(2000, 11, 21, 0, 0, 0, 0, has_year_zero=True)\n",
      " cftime.DatetimeProlepticGregorian(2000, 11, 22, 0, 0, 0, 0, has_year_zero=True)\n",
      " cftime.DatetimeProlepticGregorian(2000, 11, 23, 0, 0, 0, 0, has_year_zero=True)\n",
      " cftime.DatetimeProlepticGregorian(2000, 11, 24, 0, 0, 0, 0, has_year_zero=True)\n",
      " cftime.DatetimeProlepticGregorian(2000, 11, 25, 0, 0, 0, 0, has_year_zero=True)\n",
      " cftime.DatetimeProlepticGregorian(2000, 11, 26, 0, 0, 0, 0, has_year_zero=True)\n",
      " cftime.DatetimeProlepticGregorian(2000, 11, 27, 0, 0, 0, 0, has_year_zero=True)\n",
      " cftime.DatetimeProlepticGregorian(2000, 11, 28, 0, 0, 0, 0, has_year_zero=True)\n",
      " cftime.DatetimeProlepticGregorian(2000, 11, 29, 0, 0, 0, 0, has_year_zero=True)\n",
      " cftime.DatetimeProlepticGregorian(2000, 11, 30, 0, 0, 0, 0, has_year_zero=True)\n",
      " cftime.DatetimeProlepticGregorian(2000, 12, 1, 0, 0, 0, 0, has_year_zero=True)\n",
      " cftime.DatetimeProlepticGregorian(2000, 12, 2, 0, 0, 0, 0, has_year_zero=True)\n",
      " cftime.DatetimeProlepticGregorian(2000, 12, 3, 0, 0, 0, 0, has_year_zero=True)\n",
      " cftime.DatetimeProlepticGregorian(2000, 12, 4, 0, 0, 0, 0, has_year_zero=True)\n",
      " cftime.DatetimeProlepticGregorian(2000, 12, 5, 0, 0, 0, 0, has_year_zero=True)\n",
      " cftime.DatetimeProlepticGregorian(2000, 12, 6, 0, 0, 0, 0, has_year_zero=True)\n",
      " cftime.DatetimeProlepticGregorian(2000, 12, 7, 0, 0, 0, 0, has_year_zero=True)\n",
      " cftime.DatetimeProlepticGregorian(2000, 12, 8, 0, 0, 0, 0, has_year_zero=True)\n",
      " cftime.DatetimeProlepticGregorian(2000, 12, 9, 0, 0, 0, 0, has_year_zero=True)\n",
      " cftime.DatetimeProlepticGregorian(2000, 12, 10, 0, 0, 0, 0, has_year_zero=True)\n",
      " cftime.DatetimeProlepticGregorian(2000, 12, 11, 0, 0, 0, 0, has_year_zero=True)\n",
      " cftime.DatetimeProlepticGregorian(2000, 12, 12, 0, 0, 0, 0, has_year_zero=True)\n",
      " cftime.DatetimeProlepticGregorian(2000, 12, 13, 0, 0, 0, 0, has_year_zero=True)\n",
      " cftime.DatetimeProlepticGregorian(2000, 12, 14, 0, 0, 0, 0, has_year_zero=True)\n",
      " cftime.DatetimeProlepticGregorian(2000, 12, 15, 0, 0, 0, 0, has_year_zero=True)\n",
      " cftime.DatetimeProlepticGregorian(2000, 12, 16, 0, 0, 0, 0, has_year_zero=True)\n",
      " cftime.DatetimeProlepticGregorian(2000, 12, 17, 0, 0, 0, 0, has_year_zero=True)\n",
      " cftime.DatetimeProlepticGregorian(2000, 12, 18, 0, 0, 0, 0, has_year_zero=True)\n",
      " cftime.DatetimeProlepticGregorian(2000, 12, 19, 0, 0, 0, 0, has_year_zero=True)\n",
      " cftime.DatetimeProlepticGregorian(2000, 12, 20, 0, 0, 0, 0, has_year_zero=True)\n",
      " cftime.DatetimeProlepticGregorian(2000, 12, 21, 0, 0, 0, 0, has_year_zero=True)\n",
      " cftime.DatetimeProlepticGregorian(2000, 12, 22, 0, 0, 0, 0, has_year_zero=True)\n",
      " cftime.DatetimeProlepticGregorian(2000, 12, 23, 0, 0, 0, 0, has_year_zero=True)\n",
      " cftime.DatetimeProlepticGregorian(2000, 12, 24, 0, 0, 0, 0, has_year_zero=True)\n",
      " cftime.DatetimeProlepticGregorian(2000, 12, 25, 0, 0, 0, 0, has_year_zero=True)\n",
      " cftime.DatetimeProlepticGregorian(2000, 12, 26, 0, 0, 0, 0, has_year_zero=True)\n",
      " cftime.DatetimeProlepticGregorian(2000, 12, 27, 0, 0, 0, 0, has_year_zero=True)\n",
      " cftime.DatetimeProlepticGregorian(2000, 12, 28, 0, 0, 0, 0, has_year_zero=True)\n",
      " cftime.DatetimeProlepticGregorian(2000, 12, 29, 0, 0, 0, 0, has_year_zero=True)\n",
      " cftime.DatetimeProlepticGregorian(2000, 12, 30, 0, 0, 0, 0, has_year_zero=True)\n",
      " cftime.DatetimeProlepticGregorian(2000, 12, 31, 0, 0, 0, 0, has_year_zero=True)\n",
      " cftime.DatetimeProlepticGregorian(2001, 1, 1, 0, 0, 0, 0, has_year_zero=True)\n",
      " cftime.DatetimeProlepticGregorian(2001, 1, 2, 0, 0, 0, 0, has_year_zero=True)\n",
      " cftime.DatetimeProlepticGregorian(2001, 1, 3, 0, 0, 0, 0, has_year_zero=True)\n",
      " cftime.DatetimeProlepticGregorian(2001, 1, 4, 0, 0, 0, 0, has_year_zero=True)\n",
      " cftime.DatetimeProlepticGregorian(2001, 1, 5, 0, 0, 0, 0, has_year_zero=True)\n",
      " cftime.DatetimeProlepticGregorian(2001, 1, 6, 0, 0, 0, 0, has_year_zero=True)\n",
      " cftime.DatetimeProlepticGregorian(2001, 1, 7, 0, 0, 0, 0, has_year_zero=True)\n",
      " cftime.DatetimeProlepticGregorian(2001, 1, 8, 0, 0, 0, 0, has_year_zero=True)\n",
      " cftime.DatetimeProlepticGregorian(2001, 1, 9, 0, 0, 0, 0, has_year_zero=True)\n",
      " cftime.DatetimeProlepticGregorian(2001, 1, 10, 0, 0, 0, 0, has_year_zero=True)\n",
      " cftime.DatetimeProlepticGregorian(2001, 1, 11, 0, 0, 0, 0, has_year_zero=True)\n",
      " cftime.DatetimeProlepticGregorian(2001, 1, 12, 0, 0, 0, 0, has_year_zero=True)\n",
      " cftime.DatetimeProlepticGregorian(2001, 1, 13, 0, 0, 0, 0, has_year_zero=True)\n",
      " cftime.DatetimeProlepticGregorian(2001, 1, 14, 0, 0, 0, 0, has_year_zero=True)\n",
      " cftime.DatetimeProlepticGregorian(2001, 1, 15, 0, 0, 0, 0, has_year_zero=True)\n",
      " cftime.DatetimeProlepticGregorian(2001, 1, 16, 0, 0, 0, 0, has_year_zero=True)\n",
      " cftime.DatetimeProlepticGregorian(2001, 1, 17, 0, 0, 0, 0, has_year_zero=True)\n",
      " cftime.DatetimeProlepticGregorian(2001, 1, 18, 0, 0, 0, 0, has_year_zero=True)\n",
      " cftime.DatetimeProlepticGregorian(2001, 1, 19, 0, 0, 0, 0, has_year_zero=True)\n",
      " cftime.DatetimeProlepticGregorian(2001, 1, 20, 0, 0, 0, 0, has_year_zero=True)\n",
      " cftime.DatetimeProlepticGregorian(2001, 1, 21, 0, 0, 0, 0, has_year_zero=True)\n",
      " cftime.DatetimeProlepticGregorian(2001, 1, 22, 0, 0, 0, 0, has_year_zero=True)\n",
      " cftime.DatetimeProlepticGregorian(2001, 1, 23, 0, 0, 0, 0, has_year_zero=True)\n",
      " cftime.DatetimeProlepticGregorian(2001, 1, 24, 0, 0, 0, 0, has_year_zero=True)\n",
      " cftime.DatetimeProlepticGregorian(2001, 1, 25, 0, 0, 0, 0, has_year_zero=True)\n",
      " cftime.DatetimeProlepticGregorian(2001, 1, 26, 0, 0, 0, 0, has_year_zero=True)\n",
      " cftime.DatetimeProlepticGregorian(2001, 1, 27, 0, 0, 0, 0, has_year_zero=True)\n",
      " cftime.DatetimeProlepticGregorian(2001, 1, 28, 0, 0, 0, 0, has_year_zero=True)\n",
      " cftime.DatetimeProlepticGregorian(2001, 1, 29, 0, 0, 0, 0, has_year_zero=True)\n",
      " cftime.DatetimeProlepticGregorian(2001, 1, 30, 0, 0, 0, 0, has_year_zero=True)\n",
      " cftime.DatetimeProlepticGregorian(2001, 1, 31, 0, 0, 0, 0, has_year_zero=True)\n",
      " cftime.DatetimeProlepticGregorian(2001, 2, 1, 0, 0, 0, 0, has_year_zero=True)\n",
      " cftime.DatetimeProlepticGregorian(2001, 2, 2, 0, 0, 0, 0, has_year_zero=True)\n",
      " cftime.DatetimeProlepticGregorian(2001, 2, 3, 0, 0, 0, 0, has_year_zero=True)\n",
      " cftime.DatetimeProlepticGregorian(2001, 2, 4, 0, 0, 0, 0, has_year_zero=True)\n",
      " cftime.DatetimeProlepticGregorian(2001, 2, 5, 0, 0, 0, 0, has_year_zero=True)\n",
      " cftime.DatetimeProlepticGregorian(2001, 2, 6, 0, 0, 0, 0, has_year_zero=True)\n",
      " cftime.DatetimeProlepticGregorian(2001, 2, 7, 0, 0, 0, 0, has_year_zero=True)\n",
      " cftime.DatetimeProlepticGregorian(2001, 2, 8, 0, 0, 0, 0, has_year_zero=True)\n",
      " cftime.DatetimeProlepticGregorian(2001, 2, 9, 0, 0, 0, 0, has_year_zero=True)\n",
      " cftime.DatetimeProlepticGregorian(2001, 2, 10, 0, 0, 0, 0, has_year_zero=True)\n",
      " cftime.DatetimeProlepticGregorian(2001, 2, 11, 0, 0, 0, 0, has_year_zero=True)\n",
      " cftime.DatetimeProlepticGregorian(2001, 2, 12, 0, 0, 0, 0, has_year_zero=True)\n",
      " cftime.DatetimeProlepticGregorian(2001, 2, 13, 0, 0, 0, 0, has_year_zero=True)\n",
      " cftime.DatetimeProlepticGregorian(2001, 2, 14, 0, 0, 0, 0, has_year_zero=True)\n",
      " cftime.DatetimeProlepticGregorian(2001, 2, 15, 0, 0, 0, 0, has_year_zero=True)\n",
      " cftime.DatetimeProlepticGregorian(2001, 2, 16, 0, 0, 0, 0, has_year_zero=True)\n",
      " cftime.DatetimeProlepticGregorian(2001, 2, 17, 0, 0, 0, 0, has_year_zero=True)\n",
      " cftime.DatetimeProlepticGregorian(2001, 2, 18, 0, 0, 0, 0, has_year_zero=True)\n",
      " cftime.DatetimeProlepticGregorian(2001, 2, 19, 0, 0, 0, 0, has_year_zero=True)\n",
      " cftime.DatetimeProlepticGregorian(2001, 2, 20, 0, 0, 0, 0, has_year_zero=True)\n",
      " cftime.DatetimeProlepticGregorian(2001, 2, 21, 0, 0, 0, 0, has_year_zero=True)\n",
      " cftime.DatetimeProlepticGregorian(2001, 2, 22, 0, 0, 0, 0, has_year_zero=True)\n",
      " cftime.DatetimeProlepticGregorian(2001, 2, 23, 0, 0, 0, 0, has_year_zero=True)\n",
      " cftime.DatetimeProlepticGregorian(2001, 2, 24, 0, 0, 0, 0, has_year_zero=True)\n",
      " cftime.DatetimeProlepticGregorian(2001, 2, 25, 0, 0, 0, 0, has_year_zero=True)\n",
      " cftime.DatetimeProlepticGregorian(2001, 2, 26, 0, 0, 0, 0, has_year_zero=True)\n",
      " cftime.DatetimeProlepticGregorian(2001, 2, 27, 0, 0, 0, 0, has_year_zero=True)\n",
      " cftime.DatetimeProlepticGregorian(2001, 2, 28, 0, 0, 0, 0, has_year_zero=True)]\n"
     ]
    },
    {
     "data": {
      "text/plain": [
       "(array([11262., 11276., 11292., 11306., 11323., 11337., 11354., 11368.,\n",
       "        11382.]),\n",
       " [Text(11262.0, 0, '2000-11-01'),\n",
       "  Text(11276.0, 0, '2000-11-15'),\n",
       "  Text(11292.0, 0, '2000-12-01'),\n",
       "  Text(11306.0, 0, '2000-12-15'),\n",
       "  Text(11323.0, 0, '2001-01-01'),\n",
       "  Text(11337.0, 0, '2001-01-15'),\n",
       "  Text(11354.0, 0, '2001-02-01'),\n",
       "  Text(11368.0, 0, '2001-02-15'),\n",
       "  Text(11382.0, 0, '2001-03-01')])"
      ]
     },
     "execution_count": 27,
     "metadata": {},
     "output_type": "execute_result"
    },
    {
     "data": {
      "image/png": "[encoded data removed]",
      "text/plain": [
       "<Figure size 1000x500 with 1 Axes>"
      ]
     },
     "metadata": {},
     "output_type": "display_data"
    }
   ],
   "source": [
    "# # Plot the time series of this\n",
    "# fig, ax = plt.subplots(figsize=(10, 5))\n",
    "\n",
    "# # Include the lat and lon to 2dp in the title\n",
    "# ax.set_title(f\"10m wind speed at {lats[closest_lat_idx]:.2f}°N, {lons[closest_lon_idx]:.2f}°E\")\n",
    "\n",
    "# # time:long_name = \"time\" ;\n",
    "# # time:units = \"days since 1952-01-01 00:00:00\" ;\n",
    "# # time:calendar = \"proleptic_gregorian\" ;\n",
    "# times_dt = cftime.num2date(\n",
    "#         wind_cube_ts.coord('time').points,\n",
    "#         units=\"days since 1952-01-01 00:00:00\",\n",
    "#         calendar=\"proleptic_gregorian\"  # Adjust the calendar if needed\n",
    "#     )\n",
    "\n",
    "# # # convert to pandas datetime\n",
    "# # times_dt = pd.to_datetime(times_dt)\n",
    "\n",
    "# # print the times\n",
    "# print(times_dt)\n",
    "\n",
    "# # Plot the time series\n",
    "# ax.plot(dates, wind_cube_ts.data, label='Wind speed')\n",
    "# # ax.set_xlabel('Time')\n",
    "# ax.set_ylabel('Wind speed (m/s)')\n",
    "\n",
    "# # pivot the xlables 45 degrees\n",
    "# plt.xticks(rotation=45)"
   ]
  }
 ],
 "metadata": {
  "kernelspec": {
   "display_name": "bens-conda-env2",
   "language": "python",
   "name": "python3"
  },
  "language_info": {
   "codemirror_mode": {
    "name": "ipython",
    "version": 3
   },
   "file_extension": ".py",
   "mimetype": "text/x-python",
   "name": "python",
   "nbconvert_exporter": "python",
   "pygments_lexer": "ipython3",
   "version": "3.11.10"
  }
 },
 "nbformat": 4,
 "nbformat_minor": 2
}
