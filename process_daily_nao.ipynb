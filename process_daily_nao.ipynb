{
 "cells": [
  {
   "cell_type": "markdown",
   "metadata": {},
   "source": [
    "### Process daily NAO ###\n",
    "\n",
    "Load the daily observations and quantify the NAO index and delta P index and fold into a dataframe."
   ]
  },
  {
   "cell_type": "code",
   "execution_count": 1,
   "metadata": {},
   "outputs": [
    {
     "name": "stderr",
     "output_type": "stream",
     "text": [
      "/home/users/benhutch/.conda/envs/bens-conda-env2/lib/python3.11/site-packages/pyproj/network.py:59: UserWarning: pyproj unable to set PROJ database path.\n",
      "  _set_context_ca_bundle_path(ca_bundle_path)\n"
     ]
    }
   ],
   "source": [
    "# Local imports\n",
    "import os\n",
    "import sys\n",
    "import time\n",
    "import argparse\n",
    "\n",
    "# Third-party imports\n",
    "import numpy as np\n",
    "import xarray as xr\n",
    "import matplotlib.pyplot as plt\n",
    "import pandas as pd\n",
    "import shapely.geometry\n",
    "import cartopy.io.shapereader as shpreader\n",
    "import iris\n",
    "\n",
    "# Specific imports\n",
    "from tqdm import tqdm\n",
    "from datetime import datetime, timedelta"
   ]
  },
  {
   "cell_type": "code",
   "execution_count": 2,
   "metadata": {},
   "outputs": [],
   "source": [
    "# Set up the path to the psl data\n",
    "psl_data_path = \"/gws/nopw/j04/canari/users/benhutch/ERA5/ERA5_msl_daily_1960_2020_daymean.nc\""
   ]
  },
  {
   "cell_type": "code",
   "execution_count": 3,
   "metadata": {},
   "outputs": [
    {
     "name": "stdout",
     "output_type": "stream",
     "text": [
      "CPU times: user 1.62 s, sys: 1.76 s, total: 3.39 s\n",
      "Wall time: 32.9 s\n"
     ]
    }
   ],
   "source": [
    "%%time\n",
    "\n",
    "# load the data\n",
    "psl_cube = iris.load_cube(psl_data_path, \"msl\")"
   ]
  },
  {
   "cell_type": "code",
   "execution_count": 4,
   "metadata": {},
   "outputs": [
    {
     "data": {
      "text/html": [
       "\n",
       "<style>\n",
       "  a.iris {\n",
       "      text-decoration: none !important;\n",
       "  }\n",
       "  table.iris {\n",
       "      white-space: pre;\n",
       "      border: 1px solid;\n",
       "      border-color: #9c9c9c;\n",
       "      font-family: monaco, monospace;\n",
       "  }\n",
       "  th.iris {\n",
       "      background: #303f3f;\n",
       "      color: #e0e0e0;\n",
       "      border-left: 1px solid;\n",
       "      border-color: #9c9c9c;\n",
       "      font-size: 1.05em;\n",
       "      min-width: 50px;\n",
       "      max-width: 125px;\n",
       "  }\n",
       "  tr.iris :first-child {\n",
       "      border-right: 1px solid #9c9c9c !important;\n",
       "  }\n",
       "  td.iris-title {\n",
       "      background: #d5dcdf;\n",
       "      border-top: 1px solid #9c9c9c;\n",
       "      font-weight: bold;\n",
       "  }\n",
       "  .iris-word-cell {\n",
       "      text-align: left !important;\n",
       "      white-space: pre;\n",
       "  }\n",
       "  .iris-subheading-cell {\n",
       "      padding-left: 2em !important;\n",
       "  }\n",
       "  .iris-inclusion-cell {\n",
       "      padding-right: 1em !important;\n",
       "  }\n",
       "  .iris-panel-body {\n",
       "      padding-top: 0px;\n",
       "  }\n",
       "  .iris-panel-title {\n",
       "      padding-left: 3em;\n",
       "  }\n",
       "  .iris-panel-title {\n",
       "      margin-top: 7px;\n",
       "  }\n",
       "</style>\n",
       "<table class=\"iris\" id=\"140249703155088\">\n",
       "    <tr class=\"iris\">\n",
       "<th class=\"iris iris-word-cell\">Air Pressure At Mean Sea Level (Pa)</th>\n",
       "<th class=\"iris iris-word-cell\">time</th>\n",
       "<th class=\"iris iris-word-cell\">latitude</th>\n",
       "<th class=\"iris iris-word-cell\">longitude</th>\n",
       "</tr>\n",
       "    <tr class=\"iris\">\n",
       "<td class=\"iris-word-cell iris-subheading-cell\">Shape</td>\n",
       "<td class=\"iris iris-inclusion-cell\">22281</td>\n",
       "<td class=\"iris iris-inclusion-cell\">214</td>\n",
       "<td class=\"iris iris-inclusion-cell\">304</td>\n",
       "</tr>\n",
       "    <tr class=\"iris\">\n",
       "    <td class=\"iris-title iris-word-cell\">Dimension coordinates</td>\n",
       "    <td class=\"iris-title\"></td>\n",
       "    <td class=\"iris-title\"></td>\n",
       "    <td class=\"iris-title\"></td>\n",
       "</tr>\n",
       "<tr class=\"iris\">\n",
       "    <td class=\"iris-word-cell iris-subheading-cell\">\ttime</td>\n",
       "    <td class=\"iris-inclusion-cell\">x</td>\n",
       "    <td class=\"iris-inclusion-cell\">-</td>\n",
       "    <td class=\"iris-inclusion-cell\">-</td>\n",
       "</tr>\n",
       "<tr class=\"iris\">\n",
       "    <td class=\"iris-word-cell iris-subheading-cell\">\tlatitude</td>\n",
       "    <td class=\"iris-inclusion-cell\">-</td>\n",
       "    <td class=\"iris-inclusion-cell\">x</td>\n",
       "    <td class=\"iris-inclusion-cell\">-</td>\n",
       "</tr>\n",
       "<tr class=\"iris\">\n",
       "    <td class=\"iris-word-cell iris-subheading-cell\">\tlongitude</td>\n",
       "    <td class=\"iris-inclusion-cell\">-</td>\n",
       "    <td class=\"iris-inclusion-cell\">-</td>\n",
       "    <td class=\"iris-inclusion-cell\">x</td>\n",
       "</tr>\n",
       "<tr class=\"iris\">\n",
       "    <td class=\"iris-title iris-word-cell\">Cell methods</td>\n",
       "    <td class=\"iris-title\"></td>\n",
       "    <td class=\"iris-title\"></td>\n",
       "    <td class=\"iris-title\"></td>\n",
       "</tr>\n",
       "<tr class=\"iris\">\n",
       "    <td class=\"iris-word-cell iris-subheading-cell\">\t0</td>\n",
       "    <td class=\"iris-word-cell\" colspan=\"3\">time: mean</td>\n",
       "</tr>\n",
       "<tr class=\"iris\">\n",
       "    <td class=\"iris-title iris-word-cell\">Attributes</td>\n",
       "    <td class=\"iris-title\"></td>\n",
       "    <td class=\"iris-title\"></td>\n",
       "    <td class=\"iris-title\"></td>\n",
       "</tr>\n",
       "<tr class=\"iris\">\n",
       "    <td class=\"iris-word-cell iris-subheading-cell\">\tCDI</td>\n",
       "    <td class=\"iris-word-cell\" colspan=\"3\">&#x27;Climate Data Interface version 2.4.1 (https://mpimet.mpg.de/cdi)&#x27;</td>\n",
       "</tr>\n",
       "<tr class=\"iris\">\n",
       "    <td class=\"iris-word-cell iris-subheading-cell\">\tCDO</td>\n",
       "    <td class=\"iris-word-cell\" colspan=\"3\">&#x27;Climate Data Operators version 2.4.1 (https://mpimet.mpg.de/cdo)&#x27;</td>\n",
       "</tr>\n",
       "<tr class=\"iris\">\n",
       "    <td class=\"iris-word-cell iris-subheading-cell\">\tConventions</td>\n",
       "    <td class=\"iris-word-cell\" colspan=\"3\">&#x27;CF-1.6&#x27;</td>\n",
       "</tr>\n",
       "<tr class=\"iris\">\n",
       "    <td class=\"iris-word-cell iris-subheading-cell\">\tfrequency</td>\n",
       "    <td class=\"iris-word-cell\" colspan=\"3\">&#x27;day&#x27;</td>\n",
       "</tr>\n",
       "<tr class=\"iris\">\n",
       "    <td class=\"iris-word-cell iris-subheading-cell\">\thistory</td>\n",
       "    <td class=\"iris-word-cell\" colspan=\"3\">&#x27;Fri Aug 09 11:15:43 2024: cdo daymean ERA5_msl_daily_1960_2020.nc ERA5_msl_daily_1960_2020_daymean.nc\\n2021-02-05 ...&#x27;</td>\n",
       "</tr>\n",
       "</table>\n",
       "        "
      ],
      "text/plain": [
       "<iris 'Cube' of air_pressure_at_mean_sea_level / (Pa) (time: 22281; latitude: 214; longitude: 304)>"
      ]
     },
     "execution_count": 4,
     "metadata": {},
     "output_type": "execute_result"
    }
   ],
   "source": [
    "psl_cube"
   ]
  },
  {
   "cell_type": "code",
   "execution_count": 5,
   "metadata": {},
   "outputs": [],
   "source": [
    "# subset the data between 1975 and 2015\n",
    "psl_cube = psl_cube.extract(iris.Constraint(time=lambda cell: 1975 <= cell.point.year <= 2015))"
   ]
  },
  {
   "cell_type": "code",
   "execution_count": 6,
   "metadata": {},
   "outputs": [
    {
     "name": "stdout",
     "output_type": "stream",
     "text": [
      "CPU times: user 2.16 s, sys: 11.8 s, total: 13.9 s\n",
      "Wall time: 35.4 s\n"
     ]
    }
   ],
   "source": [
    "%%time\n",
    "\n",
    "# extract the times\n",
    "times = psl_cube.coord(\"time\").points\n",
    "\n",
    "# extract the lats and lons\n",
    "lats = psl_cube.coord(\"latitude\").points\n",
    "lons = psl_cube.coord(\"longitude\").points\n",
    "\n",
    "# extract the data\n",
    "data = psl_cube.data"
   ]
  },
  {
   "cell_type": "code",
   "execution_count": 7,
   "metadata": {},
   "outputs": [
    {
     "data": {
      "text/plain": [
       "(14975, 214, 304)"
      ]
     },
     "execution_count": 7,
     "metadata": {},
     "output_type": "execute_result"
    }
   ],
   "source": [
    "data.shape"
   ]
  },
  {
   "cell_type": "code",
   "execution_count": 8,
   "metadata": {},
   "outputs": [],
   "source": [
    "# Define the dimensions for the gridbox for the azores\n",
    "azores_grid_corrected = {\"lon1\": -28, \"lon2\": -20, \"lat1\": 36, \"lat2\": 40}\n",
    "\n",
    "# Define the dimensions for the gridbox for the azores\n",
    "iceland_grid_corrected = {\"lon1\": -25, \"lon2\": -16, \"lat1\": 63, \"lat2\": 70}\n",
    "\n",
    "# Define this but corrected\n",
    "uk_n_box_corrected = {\"lon1\": -27, \"lon2\": 21, \"lat1\": 57, \"lat2\": 70}\n",
    "\n",
    "# Define this but corrected\n",
    "uk_s_box_corrected = {\"lon1\": -27, \"lon2\": 21, \"lat1\": 38, \"lat2\": 51}\n",
    "\n",
    "# find the indices of the azores region\n",
    "azores_lat1_idx = np.argmin(np.abs(lats - azores_grid_corrected[\"lat1\"]))\n",
    "azores_lat2_idx = np.argmin(np.abs(lats - azores_grid_corrected[\"lat2\"]))\n",
    "azores_lon1_idx = np.argmin(np.abs(lons - azores_grid_corrected[\"lon1\"]))\n",
    "azores_lon2_idx = np.argmin(np.abs(lons - azores_grid_corrected[\"lon2\"]))\n",
    "\n",
    "# Find the indicies of the iceland region\n",
    "iceland_lat1_idx = np.argmin(np.abs(lats - iceland_grid_corrected[\"lat1\"]))\n",
    "iceland_lat2_idx = np.argmin(np.abs(lats - iceland_grid_corrected[\"lat2\"]))\n",
    "iceland_lon1_idx = np.argmin(np.abs(lons - iceland_grid_corrected[\"lon1\"]))\n",
    "iceland_lon2_idx = np.argmin(np.abs(lons - iceland_grid_corrected[\"lon2\"]))\n",
    "\n",
    "# Find the indices of the uk n box region\n",
    "uk_n_lat1_idx = np.argmin(np.abs(lats - uk_n_box_corrected[\"lat1\"]))\n",
    "uk_n_lat2_idx = np.argmin(np.abs(lats - uk_n_box_corrected[\"lat2\"]))\n",
    "uk_n_lon1_idx = np.argmin(np.abs(lons - uk_n_box_corrected[\"lon1\"]))\n",
    "uk_n_lon2_idx = np.argmin(np.abs(lons - uk_n_box_corrected[\"lon2\"]))\n",
    "\n",
    "# Find the indices of the uk s box region\n",
    "uk_s_lat1_idx = np.argmin(np.abs(lats - uk_s_box_corrected[\"lat1\"]))\n",
    "uk_s_lat2_idx = np.argmin(np.abs(lats - uk_s_box_corrected[\"lat2\"]))\n",
    "uk_s_lon1_idx = np.argmin(np.abs(lons - uk_s_box_corrected[\"lon1\"]))\n",
    "uk_s_lon2_idx = np.argmin(np.abs(lons - uk_s_box_corrected[\"lon2\"]))"
   ]
  },
  {
   "cell_type": "code",
   "execution_count": 9,
   "metadata": {},
   "outputs": [
    {
     "data": {
      "text/plain": [
       "array([-4.50000000e+01, -4.47187500e+01, -4.44375000e+01, -4.41562462e+01,\n",
       "       -4.38749962e+01, -4.35937462e+01, -4.33124962e+01, -4.30312424e+01,\n",
       "       -4.27499924e+01, -4.24687424e+01, -4.21874924e+01, -4.19062424e+01,\n",
       "       -4.16249886e+01, -4.13437386e+01, -4.10624886e+01, -4.07812386e+01,\n",
       "       -4.04999886e+01, -4.02187347e+01, -3.99374847e+01, -3.96562347e+01,\n",
       "       -3.93749847e+01, -3.90937309e+01, -3.88124809e+01, -3.85312309e+01,\n",
       "       -3.82499809e+01, -3.79687309e+01, -3.76874771e+01, -3.74062271e+01,\n",
       "       -3.71249771e+01, -3.68437271e+01, -3.65624771e+01, -3.62812233e+01,\n",
       "       -3.59999733e+01, -3.57187233e+01, -3.54374733e+01, -3.51562195e+01,\n",
       "       -3.48749695e+01, -3.45937195e+01, -3.43124695e+01, -3.40312195e+01,\n",
       "       -3.37499657e+01, -3.34687157e+01, -3.31874657e+01, -3.29062157e+01,\n",
       "       -3.26249619e+01, -3.23437119e+01, -3.20624619e+01, -3.17812119e+01,\n",
       "       -3.14999599e+01, -3.12187099e+01, -3.09374580e+01, -3.06562080e+01,\n",
       "       -3.03749580e+01, -3.00937061e+01, -2.98124561e+01, -2.95312042e+01,\n",
       "       -2.92499542e+01, -2.89687023e+01, -2.86874523e+01, -2.84062004e+01,\n",
       "       -2.81249504e+01, -2.78437004e+01, -2.75624485e+01, -2.72811985e+01,\n",
       "       -2.69999466e+01, -2.67186966e+01, -2.64374447e+01, -2.61561947e+01,\n",
       "       -2.58749447e+01, -2.55936928e+01, -2.53124428e+01, -2.50311909e+01,\n",
       "       -2.47499409e+01, -2.44686890e+01, -2.41874390e+01, -2.39061890e+01,\n",
       "       -2.36249371e+01, -2.33436871e+01, -2.30624352e+01, -2.27811852e+01,\n",
       "       -2.24999332e+01, -2.22186832e+01, -2.19374332e+01, -2.16561813e+01,\n",
       "       -2.13749313e+01, -2.10936794e+01, -2.08124294e+01, -2.05311775e+01,\n",
       "       -2.02499275e+01, -1.99686775e+01, -1.96874256e+01, -1.94061756e+01,\n",
       "       -1.91249237e+01, -1.88436737e+01, -1.85624218e+01, -1.82811718e+01,\n",
       "       -1.79999199e+01, -1.77186699e+01, -1.74374199e+01, -1.71561680e+01,\n",
       "       -1.68749180e+01, -1.65936661e+01, -1.63124161e+01, -1.60311642e+01,\n",
       "       -1.57499142e+01, -1.54686632e+01, -1.51874123e+01, -1.49061613e+01,\n",
       "       -1.46249113e+01, -1.43436604e+01, -1.40624094e+01, -1.37811584e+01,\n",
       "       -1.34999075e+01, -1.32186565e+01, -1.29374056e+01, -1.26561556e+01,\n",
       "       -1.23749046e+01, -1.20936537e+01, -1.18124027e+01, -1.15311518e+01,\n",
       "       -1.12499008e+01, -1.09686499e+01, -1.06873989e+01, -1.04061489e+01,\n",
       "       -1.01248980e+01, -9.84364700e+00, -9.56239605e+00, -9.28114510e+00,\n",
       "       -8.99989414e+00, -8.71864319e+00, -8.43739319e+00, -8.15614223e+00,\n",
       "       -7.87489128e+00, -7.59364033e+00, -7.31238937e+00, -7.03113842e+00,\n",
       "       -6.74988794e+00, -6.46863699e+00, -6.18738604e+00, -5.90613508e+00,\n",
       "       -5.62488461e+00, -5.34363365e+00, -5.06238270e+00, -4.78113222e+00,\n",
       "       -4.49988127e+00, -4.21863031e+00, -3.93737960e+00, -3.65612864e+00,\n",
       "       -3.37487793e+00, -3.09362698e+00, -2.81237626e+00, -2.53112531e+00,\n",
       "       -2.24987459e+00, -1.96862376e+00, -1.68737292e+00, -1.40612209e+00,\n",
       "       -1.12487125e+00, -8.43620479e-01, -5.62369645e-01, -2.81118810e-01,\n",
       "        1.32013200e-04,  2.81382829e-01,  5.62633634e-01,  8.43884468e-01,\n",
       "        1.12513530e+00,  1.40638614e+00,  1.68763697e+00,  1.96888781e+00,\n",
       "        2.25013852e+00,  2.53138947e+00,  2.81264019e+00,  3.09389114e+00,\n",
       "        3.37514186e+00,  3.65639281e+00,  3.93764353e+00,  4.21889448e+00,\n",
       "        4.50014544e+00,  4.78139591e+00,  5.06264687e+00,  5.34389782e+00,\n",
       "        5.62514830e+00,  5.90639925e+00,  6.18765020e+00,  6.46890116e+00,\n",
       "        6.75015163e+00,  7.03140259e+00,  7.31265354e+00,  7.59390450e+00,\n",
       "        7.87515497e+00,  8.15640640e+00,  8.43765640e+00,  8.71890736e+00,\n",
       "        9.00015831e+00,  9.28140926e+00,  9.56266022e+00,  9.84391117e+00,\n",
       "        1.01251621e+01,  1.04064121e+01,  1.06876631e+01,  1.09689140e+01,\n",
       "        1.12501650e+01,  1.15314159e+01,  1.18126669e+01,  1.20939178e+01,\n",
       "        1.23751678e+01,  1.26564188e+01,  1.29376698e+01,  1.32189207e+01,\n",
       "        1.35001717e+01,  1.37814226e+01,  1.40626736e+01,  1.43439245e+01,\n",
       "        1.46251745e+01,  1.49064255e+01,  1.51876764e+01,  1.54689274e+01,\n",
       "        1.57501783e+01,  1.60314293e+01,  1.63126793e+01,  1.65939312e+01,\n",
       "        1.68751812e+01,  1.71564331e+01,  1.74376831e+01,  1.77189331e+01,\n",
       "        1.80001850e+01,  1.82814350e+01,  1.85626869e+01,  1.88439369e+01,\n",
       "        1.91251888e+01,  1.94064388e+01,  1.96876888e+01,  1.99689407e+01,\n",
       "        2.02501907e+01,  2.05314426e+01,  2.08126926e+01,  2.10939445e+01,\n",
       "        2.13751945e+01,  2.16564465e+01,  2.19376965e+01,  2.22189465e+01,\n",
       "        2.25001984e+01,  2.27814484e+01,  2.30627003e+01,  2.33439503e+01,\n",
       "        2.36252022e+01,  2.39064522e+01,  2.41877022e+01,  2.44689541e+01,\n",
       "        2.47502041e+01,  2.50314560e+01,  2.53127060e+01,  2.55939579e+01,\n",
       "        2.58752079e+01,  2.61564579e+01,  2.64377098e+01,  2.67189598e+01,\n",
       "        2.70002117e+01,  2.72814617e+01,  2.75627136e+01,  2.78439636e+01,\n",
       "        2.81252136e+01,  2.84064655e+01,  2.86877155e+01,  2.89689674e+01,\n",
       "        2.92502174e+01,  2.95314693e+01,  2.98127193e+01,  3.00939693e+01,\n",
       "        3.03752213e+01,  3.06564713e+01,  3.09377232e+01,  3.12189732e+01,\n",
       "        3.15002251e+01,  3.17814751e+01,  3.20627251e+01,  3.23439751e+01,\n",
       "        3.26252289e+01,  3.29064789e+01,  3.31877289e+01,  3.34689789e+01,\n",
       "        3.37502327e+01,  3.40314827e+01,  3.43127327e+01,  3.45939827e+01,\n",
       "        3.48752327e+01,  3.51564865e+01,  3.54377365e+01,  3.57189865e+01,\n",
       "        3.60002365e+01,  3.62814903e+01,  3.65627403e+01,  3.68439903e+01,\n",
       "        3.71252403e+01,  3.74064903e+01,  3.76877441e+01,  3.79689941e+01,\n",
       "        3.82502441e+01,  3.85314941e+01,  3.88127441e+01,  3.90939980e+01,\n",
       "        3.93752480e+01,  3.96564980e+01,  3.99377480e+01,  4.02190018e+01],\n",
       "      dtype=float32)"
      ]
     },
     "execution_count": 9,
     "metadata": {},
     "output_type": "execute_result"
    }
   ],
   "source": [
    "lons"
   ]
  },
  {
   "cell_type": "code",
   "execution_count": 10,
   "metadata": {},
   "outputs": [],
   "source": [
    "azores_box = data[:, azores_lat2_idx:azores_lat1_idx, azores_lon1_idx:azores_lon2_idx].mean(axis=(1, 2))\n",
    "iceland_box = data[:, iceland_lat2_idx:iceland_lat1_idx, iceland_lon1_idx:iceland_lon2_idx].mean(axis=(1, 2))\n",
    "\n",
    "uk_n_box = data[:, uk_n_lat2_idx:uk_n_lat1_idx, uk_n_lon1_idx:uk_n_lon2_idx].mean(axis=(1, 2))\n",
    "uk_s_box = data[:, uk_s_lat2_idx:uk_s_lat1_idx, uk_s_lon1_idx:uk_s_lon2_idx].mean(axis=(1, 2))"
   ]
  },
  {
   "cell_type": "code",
   "execution_count": 21,
   "metadata": {},
   "outputs": [],
   "source": [
    "# Set up a dataframe\n",
    "indices_df = pd.DataFrame(\n",
    "    {\n",
    "        \"time\": times,\n",
    "        \"nao_index\": (azores_box - iceland_box) / 100,\n",
    "        \"delta_p_index\": (uk_n_box - uk_s_box) / 100,\n",
    "    }\n",
    ")"
   ]
  },
  {
   "cell_type": "code",
   "execution_count": 22,
   "metadata": {},
   "outputs": [
    {
     "data": {
      "text/html": [
       "<div>\n",
       "<style scoped>\n",
       "    .dataframe tbody tr th:only-of-type {\n",
       "        vertical-align: middle;\n",
       "    }\n",
       "\n",
       "    .dataframe tbody tr th {\n",
       "        vertical-align: top;\n",
       "    }\n",
       "\n",
       "    .dataframe thead th {\n",
       "        text-align: right;\n",
       "    }\n",
       "</style>\n",
       "<table border=\"1\" class=\"dataframe\">\n",
       "  <thead>\n",
       "    <tr style=\"text-align: right;\">\n",
       "      <th></th>\n",
       "      <th>time</th>\n",
       "      <th>nao_index</th>\n",
       "      <th>delta_p_index</th>\n",
       "    </tr>\n",
       "  </thead>\n",
       "  <tbody>\n",
       "    <tr>\n",
       "      <th>count</th>\n",
       "      <td>1.497500e+04</td>\n",
       "      <td>14975.000000</td>\n",
       "      <td>14975.000000</td>\n",
       "    </tr>\n",
       "    <tr>\n",
       "      <th>mean</th>\n",
       "      <td>8.371310e+05</td>\n",
       "      <td>13.410758</td>\n",
       "      <td>-8.586423</td>\n",
       "    </tr>\n",
       "    <tr>\n",
       "      <th>std</th>\n",
       "      <td>1.037533e+05</td>\n",
       "      <td>16.701416</td>\n",
       "      <td>12.193858</td>\n",
       "    </tr>\n",
       "    <tr>\n",
       "      <th>min</th>\n",
       "      <td>6.574430e+05</td>\n",
       "      <td>-48.421406</td>\n",
       "      <td>-52.878672</td>\n",
       "    </tr>\n",
       "    <tr>\n",
       "      <th>25%</th>\n",
       "      <td>7.472870e+05</td>\n",
       "      <td>2.902539</td>\n",
       "      <td>-15.756133</td>\n",
       "    </tr>\n",
       "    <tr>\n",
       "      <th>50%</th>\n",
       "      <td>8.371310e+05</td>\n",
       "      <td>12.781641</td>\n",
       "      <td>-7.522344</td>\n",
       "    </tr>\n",
       "    <tr>\n",
       "      <th>75%</th>\n",
       "      <td>9.269750e+05</td>\n",
       "      <td>23.729219</td>\n",
       "      <td>-0.211250</td>\n",
       "    </tr>\n",
       "    <tr>\n",
       "      <th>max</th>\n",
       "      <td>1.016819e+06</td>\n",
       "      <td>72.429766</td>\n",
       "      <td>30.282891</td>\n",
       "    </tr>\n",
       "  </tbody>\n",
       "</table>\n",
       "</div>"
      ],
      "text/plain": [
       "               time     nao_index  delta_p_index\n",
       "count  1.497500e+04  14975.000000   14975.000000\n",
       "mean   8.371310e+05     13.410758      -8.586423\n",
       "std    1.037533e+05     16.701416      12.193858\n",
       "min    6.574430e+05    -48.421406     -52.878672\n",
       "25%    7.472870e+05      2.902539     -15.756133\n",
       "50%    8.371310e+05     12.781641      -7.522344\n",
       "75%    9.269750e+05     23.729219      -0.211250\n",
       "max    1.016819e+06     72.429766      30.282891"
      ]
     },
     "execution_count": 22,
     "metadata": {},
     "output_type": "execute_result"
    }
   ],
   "source": [
    "indices_df.describe()"
   ]
  },
  {
   "cell_type": "code",
   "execution_count": 23,
   "metadata": {},
   "outputs": [
    {
     "data": {
      "text/html": [
       "<div>\n",
       "<style scoped>\n",
       "    .dataframe tbody tr th:only-of-type {\n",
       "        vertical-align: middle;\n",
       "    }\n",
       "\n",
       "    .dataframe tbody tr th {\n",
       "        vertical-align: top;\n",
       "    }\n",
       "\n",
       "    .dataframe thead th {\n",
       "        text-align: right;\n",
       "    }\n",
       "</style>\n",
       "<table border=\"1\" class=\"dataframe\">\n",
       "  <thead>\n",
       "    <tr style=\"text-align: right;\">\n",
       "      <th></th>\n",
       "      <th>time</th>\n",
       "      <th>nao_index</th>\n",
       "      <th>delta_p_index</th>\n",
       "    </tr>\n",
       "  </thead>\n",
       "  <tbody>\n",
       "    <tr>\n",
       "      <th>0</th>\n",
       "      <td>657443</td>\n",
       "      <td>49.856172</td>\n",
       "      <td>-32.213047</td>\n",
       "    </tr>\n",
       "    <tr>\n",
       "      <th>1</th>\n",
       "      <td>657467</td>\n",
       "      <td>56.215625</td>\n",
       "      <td>-36.983906</td>\n",
       "    </tr>\n",
       "    <tr>\n",
       "      <th>2</th>\n",
       "      <td>657491</td>\n",
       "      <td>43.575859</td>\n",
       "      <td>-35.995234</td>\n",
       "    </tr>\n",
       "    <tr>\n",
       "      <th>3</th>\n",
       "      <td>657515</td>\n",
       "      <td>27.980391</td>\n",
       "      <td>-32.392578</td>\n",
       "    </tr>\n",
       "    <tr>\n",
       "      <th>4</th>\n",
       "      <td>657539</td>\n",
       "      <td>28.766641</td>\n",
       "      <td>-39.533594</td>\n",
       "    </tr>\n",
       "  </tbody>\n",
       "</table>\n",
       "</div>"
      ],
      "text/plain": [
       "     time  nao_index  delta_p_index\n",
       "0  657443  49.856172     -32.213047\n",
       "1  657467  56.215625     -36.983906\n",
       "2  657491  43.575859     -35.995234\n",
       "3  657515  27.980391     -32.392578\n",
       "4  657539  28.766641     -39.533594"
      ]
     },
     "execution_count": 23,
     "metadata": {},
     "output_type": "execute_result"
    }
   ],
   "source": [
    "indices_df.head()"
   ]
  },
  {
   "cell_type": "code",
   "execution_count": 16,
   "metadata": {},
   "outputs": [],
   "source": [
    "import cftime\n",
    "\n",
    "# # convert time to a datetime object\n",
    "# # time:calendar = \"gregorian\" ;\n",
    "# # time:axis = \"T\" ;\n",
    "# # time:units = \"hours since 1900-01-01\" ;\n",
    "# indices_df[\"time\"] = cftime.num2date(indices_df[\"time\"], units=\"hours since 1900-01-01\", calendar=\"gregorian\")"
   ]
  },
  {
   "cell_type": "code",
   "execution_count": 24,
   "metadata": {},
   "outputs": [],
   "source": [
    "import pandas as pd\n",
    "\n",
    "# Assuming the time column is in hours since 1900-01-01\n",
    "indices_df[\"time\"] = pd.to_datetime(\"1900-01-01\") + pd.to_timedelta(indices_df[\"time\"], unit='h')"
   ]
  },
  {
   "cell_type": "code",
   "execution_count": 27,
   "metadata": {},
   "outputs": [
    {
     "data": {
      "text/html": [
       "<div>\n",
       "<style scoped>\n",
       "    .dataframe tbody tr th:only-of-type {\n",
       "        vertical-align: middle;\n",
       "    }\n",
       "\n",
       "    .dataframe tbody tr th {\n",
       "        vertical-align: top;\n",
       "    }\n",
       "\n",
       "    .dataframe thead th {\n",
       "        text-align: right;\n",
       "    }\n",
       "</style>\n",
       "<table border=\"1\" class=\"dataframe\">\n",
       "  <thead>\n",
       "    <tr style=\"text-align: right;\">\n",
       "      <th></th>\n",
       "      <th>time</th>\n",
       "      <th>nao_index</th>\n",
       "      <th>delta_p_index</th>\n",
       "    </tr>\n",
       "  </thead>\n",
       "  <tbody>\n",
       "    <tr>\n",
       "      <th>0</th>\n",
       "      <td>1975-01-01</td>\n",
       "      <td>49.856172</td>\n",
       "      <td>-32.213047</td>\n",
       "    </tr>\n",
       "    <tr>\n",
       "      <th>1</th>\n",
       "      <td>1975-01-02</td>\n",
       "      <td>56.215625</td>\n",
       "      <td>-36.983906</td>\n",
       "    </tr>\n",
       "    <tr>\n",
       "      <th>2</th>\n",
       "      <td>1975-01-03</td>\n",
       "      <td>43.575859</td>\n",
       "      <td>-35.995234</td>\n",
       "    </tr>\n",
       "    <tr>\n",
       "      <th>3</th>\n",
       "      <td>1975-01-04</td>\n",
       "      <td>27.980391</td>\n",
       "      <td>-32.392578</td>\n",
       "    </tr>\n",
       "    <tr>\n",
       "      <th>4</th>\n",
       "      <td>1975-01-05</td>\n",
       "      <td>28.766641</td>\n",
       "      <td>-39.533594</td>\n",
       "    </tr>\n",
       "  </tbody>\n",
       "</table>\n",
       "</div>"
      ],
      "text/plain": [
       "         time  nao_index  delta_p_index\n",
       "0  1975-01-01  49.856172     -32.213047\n",
       "1  1975-01-02  56.215625     -36.983906\n",
       "2  1975-01-03  43.575859     -35.995234\n",
       "3  1975-01-04  27.980391     -32.392578\n",
       "4  1975-01-05  28.766641     -39.533594"
      ]
     },
     "execution_count": 27,
     "metadata": {},
     "output_type": "execute_result"
    }
   ],
   "source": [
    "indices_df.head()"
   ]
  },
  {
   "cell_type": "code",
   "execution_count": 26,
   "metadata": {},
   "outputs": [],
   "source": [
    "# limit the time column to just the yyyy-mm-dd\n",
    "indices_df[\"time\"] = indices_df[\"time\"].dt.strftime(\"%Y-%m-%d\")"
   ]
  },
  {
   "cell_type": "code",
   "execution_count": 28,
   "metadata": {},
   "outputs": [],
   "source": [
    "# set up a fname\n",
    "fname = \"nao_delta_p_indices_1975_2015.csv\"\n",
    "\n",
    "# set up the directory to save to\n",
    "save_dir = \"/home/users/benhutch/unseen_multi_year/dfs\"\n",
    "\n",
    "# save the dataframe\n",
    "indices_df.to_csv(os.path.join(save_dir, fname), index=False)"
   ]
  }
 ],
 "metadata": {
  "kernelspec": {
   "display_name": "bens-conda-env2",
   "language": "python",
   "name": "python3"
  },
  "language_info": {
   "codemirror_mode": {
    "name": "ipython",
    "version": 3
   },
   "file_extension": ".py",
   "mimetype": "text/x-python",
   "name": "python",
   "nbconvert_exporter": "python",
   "pygments_lexer": "ipython3",
   "version": "3.11.10"
  }
 },
 "nbformat": 4,
 "nbformat_minor": 2
}
