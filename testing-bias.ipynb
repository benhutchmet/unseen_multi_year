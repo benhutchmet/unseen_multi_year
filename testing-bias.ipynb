{
 "cells": [
  {
   "cell_type": "markdown",
   "metadata": {},
   "source": [
    "#### Bias testing ####\n",
    "\n",
    "Testing the bias of the monthly DePreSys data relative to ERA5 for tas, sfcWind and rsds, over different lead times and different months."
   ]
  },
  {
   "cell_type": "code",
   "execution_count": null,
   "metadata": {},
   "outputs": [],
   "source": [
    "import os\n",
    "import sys\n",
    "import glob\n",
    "import importlib\n",
    "from tqdm import tqdm\n",
    "\n",
    "# Import relevant libraries\n",
    "import numpy as np\n",
    "import matplotlib.pyplot as plt\n",
    "import xarray as xr\n",
    "\n",
    "# Optional dask stuff\n",
    "import dask_gateway\n",
    "import pathlib"
   ]
  },
  {
   "cell_type": "code",
   "execution_count": null,
   "metadata": {},
   "outputs": [],
   "source": [
    "# Import the functsions\n",
    "sys.path.append(\"/home/users/benhutch/unseen_functions/\")\n",
    "\n",
    "# import the bias functions\n",
    "import bias_functions as bf"
   ]
  },
  {
   "cell_type": "code",
   "execution_count": null,
   "metadata": {},
   "outputs": [],
   "source": [
    "# import the dictionaries\n",
    "sys.path.append(\"/home/users/benhutch/unseen_functions/\")\n",
    "\n",
    "# import the dictionaries\n",
    "import unseen_dictionaries as udicts"
   ]
  },
  {
   "cell_type": "code",
   "execution_count": null,
   "metadata": {},
   "outputs": [],
   "source": [
    "# # Create a connection to dask-gateway.\n",
    "# gw = dask_gateway.Gateway(\"https://dask-gateway.jasmin.ac.uk\", auth=\"jupyterhub\")"
   ]
  },
  {
   "cell_type": "code",
   "execution_count": null,
   "metadata": {},
   "outputs": [],
   "source": [
    "# # Inspect and change the options if required before creating your cluster.\n",
    "# options = gw.cluster_options()\n",
    "# options.worker_cores = 2"
   ]
  },
  {
   "cell_type": "code",
   "execution_count": null,
   "metadata": {},
   "outputs": [],
   "source": [
    "# clusters = gw.list_clusters()\n",
    "# if not clusters:\n",
    "#     cluster = gw.new_cluster(options, shutdown_on_close=False)\n",
    "# else:\n",
    "#     cluster = gw.connect(clusters[0].name)\n",
    "    \n",
    "# cluster.adapt(minimum=1, maximum=3)\n",
    "\n",
    "# client = cluster.get_client()"
   ]
  },
  {
   "cell_type": "code",
   "execution_count": null,
   "metadata": {},
   "outputs": [],
   "source": [
    "# client.get_versions(check=True)"
   ]
  },
  {
   "cell_type": "code",
   "execution_count": null,
   "metadata": {},
   "outputs": [],
   "source": [
    "# client"
   ]
  },
  {
   "cell_type": "code",
   "execution_count": null,
   "metadata": {},
   "outputs": [],
   "source": [
    "# set up the hard coded variables\n",
    "model = \"HadGEM3-GC31-MM\"\n",
    "variable = \"tas\"\n",
    "obs_variable = \"t2m\"\n",
    "lead_time = 1\n",
    "# init_years = [1960]\n",
    "init_years = np.arange(1960, 1970 + 1)\n",
    "experiment = \"dcppA-hindcast\"\n",
    "frequency = \"Amon\"\n",
    "engine = \"netcdf4\"\n",
    "parallel = False\n",
    "\n",
    "test_file = \"/gws/nopw/j04/canari/users/benhutch/dcppA-hindcast/data/tas/HadGEM3-GC31-MM/merged_files/tas_Amon_HadGEM3-GC31-MM_dcppA-hindcast_s1960-r1i1p1f2_gn_196011-197103.nc\"\n",
    "\n",
    "obs_fpath = \"/home/users/benhutch/ERA5/adaptor.mars.internal-1691509121.3261805-29348-4-3a487c76-fc7b-421f-b5be-7436e2eb78d7.nc\""
   ]
  },
  {
   "cell_type": "code",
   "execution_count": null,
   "metadata": {},
   "outputs": [],
   "source": [
    "# %%time\n",
    "\n",
    "# # test the load data function\n",
    "# ds = bf.load_dcpp_data_lead(\n",
    "#     model=model,\n",
    "#     variable=variable,\n",
    "#     lead_time=lead_time,\n",
    "#     init_years=init_years,\n",
    "#     experiment=experiment,\n",
    "#     frequency=frequency,\n",
    "#     engine=engine,\n",
    "#     parallel=False,\n",
    "# )"
   ]
  },
  {
   "cell_type": "code",
   "execution_count": null,
   "metadata": {},
   "outputs": [],
   "source": [
    "# ds"
   ]
  },
  {
   "cell_type": "code",
   "execution_count": null,
   "metadata": {},
   "outputs": [],
   "source": [
    "# # reload the functions\n",
    "# importlib.reload(bf)"
   ]
  },
  {
   "cell_type": "code",
   "execution_count": null,
   "metadata": {},
   "outputs": [],
   "source": [
    "# %%time\n",
    "\n",
    "# # Regrid the data\n",
    "# ds = bf.regrid_ds(\n",
    "#     ds=ds,\n",
    "#     variable=variable,\n",
    "# )"
   ]
  },
  {
   "cell_type": "code",
   "execution_count": null,
   "metadata": {},
   "outputs": [],
   "source": [
    "# %%time\n",
    "\n",
    "# # select the gridbox\n",
    "# ds = bf.select_gridbox(\n",
    "#     ds=ds,\n",
    "#     grid=udicts.eu_grid_constrained,\n",
    "#     calc_mean=False,\n",
    "# )"
   ]
  },
  {
   "cell_type": "code",
   "execution_count": null,
   "metadata": {},
   "outputs": [],
   "source": [
    "# %%time\n",
    "\n",
    "# # Load the test ds\n",
    "# test_ds = xr.open_dataset(test_file)\n",
    "\n",
    "# # Test the load and regrid obs function\n",
    "# obs = bf.load_and_rg_obs(\n",
    "#     model_ds=test_ds,\n",
    "#     obs_variable=obs_variable,\n",
    "#     obs_path=obs_fpath,\n",
    "#     init_years=init_years,\n",
    "#     lead_time=lead_time,\n",
    "#     rg_algo=\"bilinear\",\n",
    "#     grid_bounds=[-180.0, 180.0, -90.0, 90.0],\n",
    "#     periodic=True,\n",
    "#     parallel=False,\n",
    "# )"
   ]
  },
  {
   "cell_type": "code",
   "execution_count": null,
   "metadata": {},
   "outputs": [],
   "source": [
    "# # Select the gridbox for the obs\n",
    "# obs = bf.select_gridbox(\n",
    "#     ds=obs,\n",
    "#     grid=udicts.eu_grid_constrained,\n",
    "#     calc_mean=False,\n",
    "# )"
   ]
  },
  {
   "cell_type": "code",
   "execution_count": null,
   "metadata": {},
   "outputs": [],
   "source": [
    "# # reload the functions using importlib\n",
    "# importlib.reload(bf)"
   ]
  },
  {
   "cell_type": "code",
   "execution_count": null,
   "metadata": {},
   "outputs": [],
   "source": [
    "# # test the save_data functiomn\n",
    "# bf.save_data(\n",
    "#     model_ds=ds,\n",
    "#     obs_ds=obs,\n",
    "#     model=\"HadGEM3-GC31-MM\",\n",
    "#     experiment=\"dcppA-hindcast\",\n",
    "#     frequency=\"Amon\",\n",
    "#     variable=\"tas\",\n",
    "#     init_years=init_years,\n",
    "#     lead_time=lead_time,\n",
    "# )"
   ]
  },
  {
   "cell_type": "code",
   "execution_count": null,
   "metadata": {},
   "outputs": [],
   "source": [
    "# set up the path\n",
    "path = \"/work/scratch-nopw2/benhutch/test_nc/\"\n",
    "\n",
    "# List the most recent files in the directory\n",
    "files = sorted(os.listdir(path))\n",
    "\n",
    "# print the files\n",
    "print(files)"
   ]
  },
  {
   "cell_type": "code",
   "execution_count": null,
   "metadata": {},
   "outputs": [],
   "source": [
    "# Set up the obs fname\n",
    "obs_fname = \"obs_rsds_s1960-2018_Amon_20240531T095531.nc\"\n",
    "\n",
    "# Set up the model fname\n",
    "model_fname = \"HadGEM3-GC31-MM_dcppA-hindcast_rsds_s1960-2018_lead3_Amon_20240531T095531.nc\"\n",
    "\n",
    "# # # assert that the number 20240530T211417 is the same in both files\n",
    "# assert obs_fname.split(\"_\")[-1] == model_fname.split(\"_\")[-1]\n",
    "\n",
    "# load in the .nc files\n",
    "obs_scratch = xr.open_dataset(os.path.join(path, obs_fname))\n",
    "model_scratch = xr.open_dataset(os.path.join(path, model_fname))"
   ]
  },
  {
   "cell_type": "code",
   "execution_count": null,
   "metadata": {},
   "outputs": [],
   "source": [
    "# reload the functions using importlib\n",
    "importlib.reload(bf)"
   ]
  },
  {
   "cell_type": "code",
   "execution_count": null,
   "metadata": {},
   "outputs": [],
   "source": [
    "# %%time\n",
    "\n",
    "# # calculate and plot the bias\n",
    "# bf.calc_and_plot_bias(\n",
    "#     model_ds=model_scratch[\"__xarray_dataarray_variable__\"],\n",
    "#     obs_ds=obs_scratch[\"__xarray_dataarray_variable__\"],\n",
    "#     month_idx=12,\n",
    "#     lead_time=lead_time,\n",
    "#     init_years=np.arange(1960, 2018 + 1),\n",
    "#     variable=variable,\n",
    "#     month_name=\"October\",\n",
    "#     figsize=(12, 6),\n",
    "#     save_dir=\"/gws/nopw/j04/canari/users/benhutch/plots/\",\n",
    "#     save=False,\n",
    "# )"
   ]
  },
  {
   "cell_type": "code",
   "execution_count": null,
   "metadata": {},
   "outputs": [],
   "source": [
    "# reload the functions using importlib\n",
    "importlib.reload(bf)"
   ]
  },
  {
   "cell_type": "code",
   "execution_count": null,
   "metadata": {},
   "outputs": [],
   "source": [
    "%%time\n",
    "\n",
    "# Test the function for calculating and plotting all of the biases\n",
    "bf.calc_and_plot_bias_all_months(\n",
    "    model_ds=model_scratch[\"__xarray_dataarray_variable__\"],\n",
    "    obs_ds=obs_scratch[\"__xarray_dataarray_variable__\"],\n",
    "    lead_time=3,\n",
    "    init_years=np.arange(1960, 2018 + 1),\n",
    "    variable=\"rsds\",\n",
    "    month_names=udicts.month_names_HadGEM3,\n",
    "    mean_or_std=\"std\",\n",
    "    figsize=(10, 10),\n",
    "    save_dir=\"/gws/nopw/j04/canari/users/benhutch/plots/\",\n",
    "    save=False,\n",
    "    vmin_set=-28,\n",
    "    vmax_set=28,\n",
    ")\n",
    "\n"
   ]
  }
 ],
 "metadata": {
  "kernelspec": {
   "display_name": "Python 3",
   "language": "python",
   "name": "python3"
  },
  "language_info": {
   "codemirror_mode": {
    "name": "ipython",
    "version": 3
   },
   "file_extension": ".py",
   "mimetype": "text/x-python",
   "name": "python",
   "nbconvert_exporter": "python",
   "pygments_lexer": "ipython3",
   "version": "3.10.5"
  }
 },
 "nbformat": 4,
 "nbformat_minor": 4
}
