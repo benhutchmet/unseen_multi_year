{
 "cells": [
  {
   "cell_type": "markdown",
   "metadata": {},
   "source": [
    "## Multi-year UNSEEN ##\n",
    "\n",
    "Test notebook for figuring out the methodology for exploring how to create a synthetic event set for multi-year wind droughts."
   ]
  },
  {
   "cell_type": "code",
   "execution_count": null,
   "metadata": {},
   "outputs": [],
   "source": [
    "# Import local modules\n",
    "import sys\n",
    "import os\n",
    "import glob\n",
    "\n",
    "# Import third-party modules\n",
    "import numpy as np\n",
    "import pandas as pd\n",
    "import matplotlib.pyplot as plt\n",
    "import cartopy.crs as ccrs\n",
    "import xarray as xr\n",
    "import iris\n",
    "from xarray import DataArray"
   ]
  },
  {
   "cell_type": "code",
   "execution_count": null,
   "metadata": {},
   "outputs": [],
   "source": [
    "# Import my modules\n",
    "import dictionaries as dic\n",
    "\n",
    "from functions import load_model_data"
   ]
  },
  {
   "cell_type": "markdown",
   "metadata": {},
   "source": [
    "### Exploring gridboxes ###\n",
    "\n",
    "Checking that the gridboxes are where we expect them to be"
   ]
  },
  {
   "cell_type": "code",
   "execution_count": null,
   "metadata": {},
   "outputs": [],
   "source": [
    "# First, we want to visualise th gridboxes which we might want to use\n",
    "# The UK grid box or the north sea grid box\n",
    "\n",
    "# Set up the projection\n",
    "projection = ccrs.PlateCarree(central_longitude=0)\n",
    "\n",
    "# Plot the differences between the two gridboxes\n",
    "# Set up the figure\n",
    "fig = plt.figure(figsize=(10, 5))\n",
    "ax = fig.add_subplot(1, 1, 1, projection=projection)\n",
    "\n",
    "# # Include the stock image and coastlines\n",
    "ax.stock_img()\n",
    "ax.coastlines()\n",
    "\n",
    "# Extract the lat and lon data for the UK box\n",
    "lon1_uk, lon2_uk = dic.uk_grid['lon1'], dic.uk_grid['lon2']\n",
    "lat1_uk, lat2_uk = dic.uk_grid['lat1'], dic.uk_grid['lat2']\n",
    "\n",
    "# Extract the lat and lon data for the North Sea box\n",
    "lon1_ns, lon2_ns = dic.north_sea_kay['lon1'], dic.north_sea_kay['lon2']\n",
    "lat1_ns, lat2_ns = dic.north_sea_kay['lat1'], dic.north_sea_kay['lat2']\n",
    "\n",
    "# Plot these boxes\n",
    "ax.plot([lon1_uk, lon2_uk, lon2_uk, lon1_uk, lon1_uk],\n",
    "        [lat1_uk, lat1_uk, lat2_uk, lat2_uk, lat1_uk],\n",
    "        color='green', linewidth=2, transform=projection, label=\"UK Clark\")\n",
    "\n",
    "# Plot these boxes\n",
    "ax.plot([lon1_ns, lon2_ns, lon2_ns, lon1_ns, lon1_ns],\n",
    "        [lat1_ns, lat1_ns, lat2_ns, lat2_ns, lat1_ns],\n",
    "        color='orange', linewidth=2, transform=projection, label=\"North Sea Kay\")\n",
    "\n",
    "# Zoom in on the region\n",
    "ax.set_extent([-50, 20, 40, 80], crs=projection)\n",
    "\n",
    "# Create a legend\n",
    "ax.legend(loc = 'upper left')\n",
    "\n",
    "# show the plot\n",
    "plt.show()"
   ]
  },
  {
   "cell_type": "markdown",
   "metadata": {},
   "source": [
    "### Choosing time windows ###\n",
    "\n",
    "We need to define the time period over which we are looking for wind droughts. Here are three we might consider:\n",
    "\n",
    "* 1 year (12 months Dec-Nov)\n",
    "* 3 years (36 months Dec-Nov)\n",
    "* 5 years (60 months Dec-Nov)\n",
    "\n",
    "In this first example of 1 year, for 1960 there will be 11 total 12 month time series (DJFMAMJJASON):\n",
    "\n",
    "* 1 will be the truth (from ERA5) - the weather which actually occurred.\n",
    "* 10 will be from the decadal prediction system (in this case DePreSys with 10 ensemble members).\n",
    "    * Here we are assuming November initialisation."
   ]
  },
  {
   "cell_type": "markdown",
   "metadata": {},
   "source": [
    "### Extracting the data ###\n",
    "\n",
    "Model data in this example from HadGEM3-GC31-MM.\n",
    "\n",
    "Obs data in this example from ERA5."
   ]
  },
  {
   "cell_type": "code",
   "execution_count": null,
   "metadata": {},
   "outputs": [],
   "source": [
    "# Set up the parameters for extraction\n",
    "model_var = \"sfcWind\"\n",
    "obs_var = \"si10\"\n",
    "test_model = \"BCC-CSM2-MR\"\n",
    "experiment = \"dcppA-hindcast\""
   ]
  },
  {
   "cell_type": "code",
   "execution_count": null,
   "metadata": {},
   "outputs": [],
   "source": [
    "import importlib\n",
    "\n",
    "importlib.reload(sys.modules['functions'])\n",
    "\n",
    "from functions import *"
   ]
  },
  {
   "cell_type": "code",
   "execution_count": null,
   "metadata": {
    "scrolled": true
   },
   "outputs": [],
   "source": [
    "# test the read_data function\n",
    "model_data = load_model_data(model_variable=model_var,\n",
    "                            model=test_model,\n",
    "                            experiment=experiment,\n",
    "                            start_year=1961,\n",
    "                            end_year=2014,\n",
    "                            avg_period=2,\n",
    "                            grid=dic.uk_grid)"
   ]
  },
  {
   "cell_type": "code",
   "execution_count": null,
   "metadata": {},
   "outputs": [],
   "source": [
    "print(model_data.shape)"
   ]
  },
  {
   "cell_type": "code",
   "execution_count": null,
   "metadata": {},
   "outputs": [],
   "source": [
    "# Take the mean of the model data over the months axis\n",
    "model_data_year = model_data.mean(axis=2)\n",
    "\n",
    "# # Print the new shape\n",
    "print(model_data_year.shape)\n",
    "\n",
    "# Winter 1 data\n",
    "winter1_data = model_data[:, :, 0:4].mean(axis=2)\n",
    "\n",
    "# summer data\n",
    "summer_data = model_data[:, :, 4:10].mean(axis=2)\n",
    "\n",
    "# winter 2 data\n",
    "winter2_data = model_data[:, :, 10:].mean(axis=2)\n",
    "\n",
    "# Print the shapes of the new data\n",
    "print(winter1_data.shape)\n",
    "\n",
    "# Print the shapes of the new data\n",
    "print(summer_data.shape)\n",
    "\n",
    "# Print the shapes of the new data\n",
    "print(winter2_data.shape)"
   ]
  },
  {
   "cell_type": "code",
   "execution_count": null,
   "metadata": {},
   "outputs": [],
   "source": [
    "# Get the data including the months, no mean\n",
    "winter1_data_months = model_data[:, :, 0:4]\n",
    "summer_data_months = model_data[:, :, 4:10]\n",
    "winter2_data_months = model_data[:, :, 10:]\n",
    "year_data_months = model_data"
   ]
  },
  {
   "cell_type": "code",
   "execution_count": null,
   "metadata": {},
   "outputs": [],
   "source": [
    "import importlib\n",
    "\n",
    "importlib.reload(sys.modules['functions'])\n",
    "\n",
    "from functions import load_model_data, model_stats_bs"
   ]
  },
  {
   "cell_type": "code",
   "execution_count": null,
   "metadata": {
    "scrolled": true
   },
   "outputs": [],
   "source": [
    "# test the bootstrapping function\n",
    "stats_dict_year = model_stats_bs(model=year_data_months.mean(axis=2),\n",
    "                            nboot=10000)"
   ]
  },
  {
   "cell_type": "code",
   "execution_count": null,
   "metadata": {},
   "outputs": [],
   "source": [
    "# test the bootstrapping function\n",
    "stats_dict_winter1 = model_stats_bs(model=winter1_data_months.mean(axis=2),\n",
    "                            nboot=10000)"
   ]
  },
  {
   "cell_type": "code",
   "execution_count": null,
   "metadata": {},
   "outputs": [],
   "source": [
    "# test the bootstrapping function\n",
    "stats_dict_summer = model_stats_bs(model=summer_data_months.mean(axis=2),\n",
    "                            nboot=10000)"
   ]
  },
  {
   "cell_type": "code",
   "execution_count": null,
   "metadata": {},
   "outputs": [],
   "source": [
    "# test the bootstrapping function\n",
    "stats_dict_winter2 = model_stats_bs(model=winter2_data_months.mean(axis=2),\n",
    "                            nboot=10000)"
   ]
  },
  {
   "cell_type": "code",
   "execution_count": null,
   "metadata": {},
   "outputs": [],
   "source": [
    "# print(stats_dict)"
   ]
  },
  {
   "cell_type": "code",
   "execution_count": null,
   "metadata": {},
   "outputs": [],
   "source": [
    "import importlib\n",
    "\n",
    "importlib.reload(sys.modules['functions'])\n",
    "\n",
    "from functions import load_model_data, load_obs_data, calculate_obs_stats"
   ]
  },
  {
   "cell_type": "code",
   "execution_count": null,
   "metadata": {},
   "outputs": [],
   "source": [
    "obs_data = load_obs_data(obs_variable=obs_var,\n",
    "                         regrid_obs_path=\"/home/users/benhutch/ERA5/surface_wind_ERA5_regrid_HadGEM.nc\",\n",
    "                        start_year=1961,\n",
    "                        end_year=2014,\n",
    "                        avg_period=2,\n",
    "                        grid=dic.uk_grid)"
   ]
  },
  {
   "cell_type": "code",
   "execution_count": null,
   "metadata": {},
   "outputs": [],
   "source": [
    "# Extract and print the obs years\n",
    "obs_years = obs_data[1]\n",
    "\n",
    "# print the shape of the obs data\n",
    "print(obs_years.shape)\n",
    "print(obs_years)"
   ]
  },
  {
   "cell_type": "code",
   "execution_count": null,
   "metadata": {},
   "outputs": [],
   "source": [
    "# Extract the obs data for the different seasons\n",
    "obs_data_year = obs_data[0]\n",
    "obs_data_winter1 = obs_data[0][:, 0:4]\n",
    "obs_data_summer = obs_data[0][:, 4:10]\n",
    "obs_data_winter2 = obs_data[0][:, 10:]"
   ]
  },
  {
   "cell_type": "code",
   "execution_count": null,
   "metadata": {},
   "outputs": [],
   "source": [
    "# Calculate the stats\n",
    "obs_stats_year = calculate_obs_stats(obs_data=obs_data_year,\n",
    "                                start_year=1960,\n",
    "                                end_year=2018,\n",
    "                                avg_period=1,\n",
    "                                grid=dic.uk_grid)\n",
    "\n",
    "obs_stats_winter1 = calculate_obs_stats(obs_data=obs_data_winter1,\n",
    "                                start_year=1960,\n",
    "                                end_year=2018,\n",
    "                                avg_period=1,\n",
    "                                grid=dic.uk_grid)\n",
    "\n",
    "obs_stats_summer = calculate_obs_stats(obs_data=obs_data_summer,\n",
    "                                start_year=1960,\n",
    "                                end_year=2018,\n",
    "                                avg_period=1,\n",
    "                                grid=dic.uk_grid)\n",
    "\n",
    "obs_stats_winter2 = calculate_obs_stats(obs_data=obs_data_winter2,\n",
    "                                start_year=1960,\n",
    "                                end_year=2018,\n",
    "                                avg_period=1,\n",
    "                                grid=dic.uk_grid)"
   ]
  },
  {
   "cell_type": "code",
   "execution_count": null,
   "metadata": {},
   "outputs": [],
   "source": [
    "print(obs_stats_year)"
   ]
  },
  {
   "cell_type": "code",
   "execution_count": null,
   "metadata": {},
   "outputs": [],
   "source": [
    "import importlib\n",
    "\n",
    "importlib.reload(sys.modules['functions'])\n",
    "\n",
    "from functions import load_model_data, load_obs_data, calculate_obs_stats, \\\n",
    "    plot_moments "
   ]
  },
  {
   "cell_type": "code",
   "execution_count": null,
   "metadata": {},
   "outputs": [],
   "source": [
    "# # Plot the moments of the distribution\n",
    "# plot_moments(model_stats=stats_dict,\n",
    "#              obs_stats=obs_stats,)"
   ]
  },
  {
   "cell_type": "code",
   "execution_count": null,
   "metadata": {},
   "outputs": [],
   "source": [
    "# Plot the moments of the distribution for the different seasons\n",
    "plot_moments(model_stats=stats_dict_year,\n",
    "             obs_stats=obs_stats_year)"
   ]
  },
  {
   "cell_type": "code",
   "execution_count": null,
   "metadata": {},
   "outputs": [],
   "source": [
    "# Plot the moments of the distribution for the different seasons\n",
    "plot_moments(model_stats=stats_dict_winter1,\n",
    "             obs_stats=obs_stats_winter1)"
   ]
  },
  {
   "cell_type": "code",
   "execution_count": null,
   "metadata": {},
   "outputs": [],
   "source": [
    "# Plot the moments of the distribution for the summer\n",
    "plot_moments(model_stats=stats_dict_summer,\n",
    "             obs_stats=obs_stats_summer)"
   ]
  },
  {
   "cell_type": "code",
   "execution_count": null,
   "metadata": {},
   "outputs": [],
   "source": [
    "# Plot the moments of the distribution for winter2\n",
    "plot_moments(model_stats=stats_dict_winter2,\n",
    "             obs_stats=obs_stats_winter2)"
   ]
  },
  {
   "cell_type": "code",
   "execution_count": null,
   "metadata": {},
   "outputs": [],
   "source": [
    "import importlib\n",
    "\n",
    "importlib.reload(sys.modules['functions'])\n",
    "\n",
    "from functions import load_model_data, load_obs_data, calculate_obs_stats, \\\n",
    "    plot_moments, plot_distribution"
   ]
  },
  {
   "cell_type": "code",
   "execution_count": null,
   "metadata": {},
   "outputs": [],
   "source": [
    "plot_distribution(model_data=model_data_year,\n",
    "                  obs_data=obs_data_year,)"
   ]
  },
  {
   "cell_type": "code",
   "execution_count": null,
   "metadata": {},
   "outputs": [],
   "source": [
    "# Plot the distribution of the winter 1 data\n",
    "plot_distribution(model_data=winter1_data,\n",
    "                  obs_data=obs_data_winter1,)"
   ]
  },
  {
   "cell_type": "code",
   "execution_count": null,
   "metadata": {},
   "outputs": [],
   "source": [
    "# Plot the distribution of the summer data\n",
    "plot_distribution(model_data=summer_data,\n",
    "                  obs_data=obs_data_summer,)"
   ]
  },
  {
   "cell_type": "code",
   "execution_count": null,
   "metadata": {},
   "outputs": [],
   "source": [
    "# PLot the distribution of the winter 2 data\n",
    "plot_distribution(model_data=winter2_data,\n",
    "                  obs_data=obs_data_winter2,)"
   ]
  },
  {
   "cell_type": "code",
   "execution_count": null,
   "metadata": {},
   "outputs": [],
   "source": [
    "# # Take the average over the time period\n",
    "# # i.e. the 2th axis\n",
    "# model_data_ann_mean = model_data.mean(axis=2)\n",
    "\n",
    "# print(model_data_ann_mean)\n",
    "\n",
    "# print(model_data_ann_mean.shape)"
   ]
  },
  {
   "cell_type": "code",
   "execution_count": null,
   "metadata": {},
   "outputs": [],
   "source": [
    "import importlib\n",
    "\n",
    "importlib.reload(sys.modules['functions'])\n",
    "\n",
    "from functions import *"
   ]
  },
  {
   "cell_type": "code",
   "execution_count": null,
   "metadata": {},
   "outputs": [],
   "source": [
    "# Plot the year events\n",
    "plot_events(model_data=model_data_year,\n",
    "            obs_data=obs_data_year,\n",
    "            obs_stats=obs_stats_year,\n",
    "            start_year=1960,\n",
    "            end_year=2018,\n",
    "            figsize_y=5,)"
   ]
  },
  {
   "cell_type": "code",
   "execution_count": null,
   "metadata": {},
   "outputs": [],
   "source": [
    "# Plot the winter 1 events\n",
    "plot_events(model_data=winter1_data,\n",
    "            obs_data=obs_data_winter1,\n",
    "            obs_stats=obs_stats_winter1,\n",
    "            start_year=1960,\n",
    "            end_year=2018,\n",
    "            figsize_y=5,)"
   ]
  },
  {
   "cell_type": "code",
   "execution_count": null,
   "metadata": {},
   "outputs": [],
   "source": [
    "# Plot the summer events\n",
    "plot_events(model_data=summer_data,\n",
    "            obs_data=obs_data_summer,\n",
    "            obs_stats=obs_stats_summer,\n",
    "            start_year=1960,\n",
    "            end_year=2018,\n",
    "            figsize_y=5,)"
   ]
  },
  {
   "cell_type": "code",
   "execution_count": null,
   "metadata": {},
   "outputs": [],
   "source": [
    "# Plot the winter2 events\n",
    "plot_events(model_data=winter2_data,\n",
    "            obs_data=obs_data_winter2,\n",
    "            obs_stats=obs_stats_winter2,\n",
    "            start_year=1960,\n",
    "            end_year=2018,\n",
    "            figsize_y=5,)"
   ]
  },
  {
   "cell_type": "code",
   "execution_count": null,
   "metadata": {},
   "outputs": [],
   "source": [
    "# Calculate the bias\n",
    "# the difference in the means between the model and the observations\n",
    "bias = np.mean(model_data_ann_mean.flatten()) - obs_stats['mean']\n",
    "\n",
    "print(bias)\n",
    "\n",
    "# Remove the bias from the model data\n",
    "model_data_ann_mean_bias = model_data_ann_mean - bias"
   ]
  },
  {
   "cell_type": "code",
   "execution_count": null,
   "metadata": {},
   "outputs": [],
   "source": [
    "# create an array of years\n",
    "years = np.arange(1960, 2019)\n",
    "\n",
    "# Set up a figure\n",
    "fig = plt.figure(figsize=(10, 5))\n",
    "\n",
    "print(\"Plotting model data shape: \", model_data_ann_mean_bias.shape)\n",
    "\n",
    "# Plot the data\n",
    "# Plot the data\n",
    "for i in range(min(model_data_ann_mean_bias.shape[1], model_data_ann_mean_bias.shape[0] - 1)):\n",
    "    print(\"Plotting model data for ensemble member: \", i)\n",
    "    \n",
    "    # Separate data into two groups based on the condition\n",
    "    below_20th = model_data_ann_mean_bias[:, i] < obs_stats['min_20']\n",
    "    above_20th = ~below_20th\n",
    "    \n",
    "    # Plot points below the 20th percentile with a label\n",
    "    plt.scatter(years[below_20th], model_data_ann_mean_bias[below_20th, i],\n",
    "                color='blue', alpha=0.8, label='model wind drought' if i == 0 else None)\n",
    "    \n",
    "    # Plot points above the 20th percentile without a label\n",
    "    plt.scatter(years[above_20th], model_data_ann_mean_bias[above_20th, i],\n",
    "                color='grey', alpha=0.8, label='HadGEM3-GC31-MM' if i == 0 else None)\n",
    "\n",
    "# plot the obs\n",
    "plt.scatter(years, obs_data.mean(axis=1), label='ERA5', color='black')\n",
    "\n",
    "# Plot the 20th percentile\n",
    "# as a horizontal line\n",
    "plt.axhline(y=obs_stats['min_20'],\n",
    "            color='black', linestyle='-')\n",
    "\n",
    "# Plot the min\n",
    "# as a horizontal line\n",
    "plt.axhline(y=obs_stats['min'],\n",
    "            color='black', linestyle='--')\n",
    "\n",
    "# Add a legend\n",
    "plt.legend(loc='upper left')\n",
    "\n",
    "# Add axis labels\n",
    "plt.xlabel(\"Year\")\n",
    "\n",
    "# Add a title\n",
    "plt.title(\"Annual mean \" + model_var)\n",
    "\n",
    "# Show the plot\n",
    "plt.show()"
   ]
  },
  {
   "cell_type": "code",
   "execution_count": null,
   "metadata": {},
   "outputs": [],
   "source": [
    "import seaborn as sns\n",
    "\n",
    "# Assemble the data into a continuous array\n",
    "model_data_ann_mean_flat = model_data_ann_mean.flatten()\n",
    "\n",
    "# Plot the distribution of the data\n",
    "sns.distplot(model_data_ann_mean_flat, label=\"model\")\n",
    "\n",
    "# # Plot the mean as a vertical line\n",
    "# plt.axvline(x=model_data_ann_mean_flat.mean(),\n",
    "#             color='black', linestyle='-')\n",
    "\n",
    "# Plot the distribution of the observations\n",
    "sns.distplot(obs_data.mean(axis=1), label=\"obs\")\n",
    "\n",
    "# # Plot the mean as a vertical line\n",
    "# plt.axvline(x=obs_stats['mean'],\n",
    "#             color='black', linestyle='--')\n",
    "\n",
    "# Include a textbox with the sample size\n",
    "plt.text(0.05, 0.85,f\"model_n = {model_data_ann_mean_flat.shape[0]}\\nobs_n = {obs_data.shape[0]}\",\n",
    "         transform=plt.gca().transAxes, bbox=dict(facecolor='white', alpha=0.5))\n",
    "\n",
    "# Add a legend\n",
    "plt.legend()\n",
    "\n",
    "# Add a title\n",
    "plt.title(\"Annual mean \" + model_var + \" distribution\")"
   ]
  },
  {
   "cell_type": "code",
   "execution_count": null,
   "metadata": {},
   "outputs": [],
   "source": [
    "import importlib\n",
    "\n",
    "importlib.reload(sys.modules['functions'])\n",
    "\n",
    "from functions import load_model_data, load_obs_data, calculate_obs_stats, plot_events"
   ]
  },
  {
   "cell_type": "code",
   "execution_count": null,
   "metadata": {},
   "outputs": [],
   "source": [
    "# load model data but for 3 year averages\n",
    "model_data_3yr_mean = load_model_data(model_variable=model_var,\n",
    "                            model=test_model,\n",
    "                            experiment=experiment,\n",
    "                            start_year=1960,\n",
    "                            end_year=2018,\n",
    "                            avg_period=3,\n",
    "                            grid=dic.uk_grid)"
   ]
  },
  {
   "cell_type": "code",
   "execution_count": null,
   "metadata": {},
   "outputs": [],
   "source": [
    "# Load the observations\n",
    "obs_data_3yr_mean = load_obs_data(obs_variable=obs_var,\n",
    "                         regrid_obs_path=\"/home/users/benhutch/ERA5/surface_wind_ERA5_regrid_HadGEM.nc\",\n",
    "                        start_year=1960,\n",
    "                        end_year=2018,\n",
    "                        avg_period=3,\n",
    "                        grid=dic.uk_grid)"
   ]
  },
  {
   "cell_type": "code",
   "execution_count": null,
   "metadata": {},
   "outputs": [],
   "source": [
    "# Calculate the stats\n",
    "obs_stats_3yr_mean = calculate_obs_stats(obs_data=obs_data_3yr_mean[0],\n",
    "                                start_year=1960,\n",
    "                                end_year=2018,\n",
    "                                avg_period=3,\n",
    "                                grid=dic.uk_grid)"
   ]
  },
  {
   "cell_type": "code",
   "execution_count": null,
   "metadata": {},
   "outputs": [],
   "source": [
    "# Calculate the stats dict for the model data\n",
    "stats_dict_3yr_mean = model_stats_bs(model=model_data_3yr_mean.mean(axis=2),\n",
    "                            nboot=10000)"
   ]
  },
  {
   "cell_type": "code",
   "execution_count": null,
   "metadata": {},
   "outputs": [],
   "source": [
    "# plot the moments of the distribution\n",
    "plot_moments(model_stats=stats_dict_3yr_mean,\n",
    "             obs_stats=obs_stats_3yr_mean,)"
   ]
  },
  {
   "cell_type": "code",
   "execution_count": null,
   "metadata": {},
   "outputs": [],
   "source": [
    "# Plot the distribution of the data\n",
    "plot_distribution(model_data=model_data_3yr_mean.mean(axis=2),\n",
    "                  obs_data=obs_data_3yr_mean[0],)"
   ]
  },
  {
   "cell_type": "code",
   "execution_count": null,
   "metadata": {},
   "outputs": [],
   "source": [
    "import importlib\n",
    "\n",
    "importlib.reload(sys.modules['functions'])\n",
    "\n",
    "from functions import load_model_data, load_obs_data, calculate_obs_stats, plot_events"
   ]
  },
  {
   "cell_type": "code",
   "execution_count": null,
   "metadata": {},
   "outputs": [],
   "source": [
    "plot_events(model_data=model_data_3yr_mean,\n",
    "            obs_data=obs_data_3yr_mean,\n",
    "            obs_stats=obs_stats_3yr_mean,\n",
    "            start_year=1960,\n",
    "            end_year=2018,\n",
    "            figsize_y=5)"
   ]
  },
  {
   "cell_type": "code",
   "execution_count": null,
   "metadata": {},
   "outputs": [],
   "source": [
    "# load model data but for 5 year averages\n",
    "model_data_5yr_mean = load_model_data(model_variable=model_var,\n",
    "                            model=test_model,\n",
    "                            experiment=experiment,\n",
    "                            start_year=1960,\n",
    "                            end_year=2018,\n",
    "                            avg_period=5,\n",
    "                            grid=dic.uk_grid)"
   ]
  },
  {
   "cell_type": "code",
   "execution_count": null,
   "metadata": {},
   "outputs": [],
   "source": [
    "obs_data_5yr_mean = load_obs_data(obs_variable=obs_var,\n",
    "                            regrid_obs_path=\"/home/users/benhutch/ERA5/surface_wind_ERA5_regrid_HadGEM.nc\",\n",
    "                            start_year=1960,\n",
    "                            end_year=2018,\n",
    "                            avg_period=5,\n",
    "                            grid=dic.uk_grid)"
   ]
  },
  {
   "cell_type": "code",
   "execution_count": null,
   "metadata": {},
   "outputs": [],
   "source": [
    "# Calculate the stats\n",
    "obs_stats_5yr_mean = calculate_obs_stats(obs_data=obs_data_5yr_mean[0],\n",
    "                                start_year=1960,\n",
    "                                end_year=2018,\n",
    "                                avg_period=5,\n",
    "                                grid=dic.uk_grid)"
   ]
  },
  {
   "cell_type": "code",
   "execution_count": null,
   "metadata": {},
   "outputs": [],
   "source": [
    "# Calculate the model stats bs\n",
    "stats_dict_5yr_mean = model_stats_bs(model=model_data_5yr_mean.mean(axis=2),\n",
    "                            nboot=10000)"
   ]
  },
  {
   "cell_type": "code",
   "execution_count": null,
   "metadata": {},
   "outputs": [],
   "source": [
    "# Plot the moments of the distribution\n",
    "plot_moments(model_stats=stats_dict_5yr_mean,\n",
    "             obs_stats=obs_stats_5yr_mean,)"
   ]
  },
  {
   "cell_type": "code",
   "execution_count": null,
   "metadata": {},
   "outputs": [],
   "source": [
    "# Plot the distribution of the data\n",
    "plot_distribution(model_data=model_data_5yr_mean.mean(axis=2),\n",
    "                  obs_data=obs_data_5yr_mean[0],)"
   ]
  },
  {
   "cell_type": "code",
   "execution_count": null,
   "metadata": {},
   "outputs": [],
   "source": [
    "# Plot the events\n",
    "plot_events(model_data=model_data_5yr_mean,\n",
    "            obs_data=obs_data_5yr_mean,\n",
    "            obs_stats=obs_stats_5yr_mean,\n",
    "            start_year=1960,\n",
    "            end_year=2018,\n",
    "            figsize_y=5)"
   ]
  },
  {
   "cell_type": "code",
   "execution_count": null,
   "metadata": {},
   "outputs": [],
   "source": [
    "# Load the observations data as an iris cube for the si10 variable\n",
    "# Deal with the expver variables\n",
    "obs = xr.open_mfdataset(dic.obs_path, combine='by_coords', parallel=True)[obs_var]\n",
    "\n",
    "# Combine the two expver variables\n",
    "obs = obs.sel(expver=1).combine_first(obs.sel(expver=5))\n",
    "\n",
    "# Convert to an iris cube\n",
    "obs = obs.to_iris()\n",
    "\n",
    "print(obs)"
   ]
  },
  {
   "cell_type": "code",
   "execution_count": null,
   "metadata": {},
   "outputs": [],
   "source": [
    "# Finding paths for the model variables\n",
    "# Set up a dataframe with 4 columns\n",
    "# one for the variable, one for the experiment, one for the model and one for the path\n",
    "df = pd.DataFrame(columns=['variable', 'experiment', 'model', 'path'])\n",
    "\n",
    "# # Print the dataframe\n",
    "# print(df)\n",
    "\n",
    "# Populate the dataframe\n",
    "# For variable 'sfcwind', set the 'experiment' column to 'dcppA-hindcast'\n",
    "# Set the 'model' column to 'HadGEM3-GC31-MM'\n",
    "# Set the 'path' column to the path for the sfcwind variable\n",
    "df.loc[0] = [model_var, experiment, test_model, os.path.join(dic.gws_base, experiment, \"data\",\n",
    "                          model_var, test_model, \"merged_files\")]\n",
    "\n",
    "# Form the EC-Earth3 path\n",
    "ec_path = os.path.join(dic.gws_base, experiment, \"data\", model_var, \"EC-Earth3\", \"merged_files\")\n",
    "\n",
    "# print the path\n",
    "print(ec_path)\n",
    "# # If the model is EC-Earth3, \n",
    "df.loc[1] = [model_var, experiment, \"EC-Earth3\", ec_path]\n",
    "\n",
    "# models\n",
    "models = [\"FGOALS-f3-L\", \"IPSL-CM6A-LR\", \"MIROC6\", \"MPI-ESM1-2-HR\", \"CanESM5\"]\n",
    "\n",
    "# Loop through the models\n",
    "for model in models:\n",
    "    # Form the path\n",
    "    path = os.path.join(dic.gws_base, experiment, model_var, model,\n",
    "                        \"data\")\n",
    "    \n",
    "    # Assert that the path exists\n",
    "    assert os.path.exists(path), f\"{path} does not exist\"\n",
    "\n",
    "    # Assert that there are non-empty files in the path\n",
    "    assert len(os.listdir(path)) > 0, f\"{path} is empty\"\n",
    "\n",
    "    # Add the path to the dataframe\n",
    "    df.loc[len(df)] = [model_var, experiment, model, path]\n"
   ]
  },
  {
   "cell_type": "code",
   "execution_count": null,
   "metadata": {},
   "outputs": [],
   "source": [
    "# dataframe\n",
    "df"
   ]
  },
  {
   "cell_type": "code",
   "execution_count": null,
   "metadata": {},
   "outputs": [],
   "source": [
    "# Make a new folder in the PWD\n",
    "os.mkdir(\"paths\")\n",
    "\n",
    "# Extract the current time\n",
    "now = pd.Timestamp.now().strftime(\"%Y%m%dT%H%M%S\")\n",
    "\n",
    "# Save the dataframe as a csv\n",
    "df.to_csv(\"paths/paths_{}.csv\".format(now))"
   ]
  },
  {
   "cell_type": "code",
   "execution_count": null,
   "metadata": {},
   "outputs": [],
   "source": [
    "# open multiple files as a single dataset for a year\n",
    "start_year = 1961\n",
    "\n",
    "# Form the directory containing the data\n",
    "hadgem_dir = os.path.join(dic.gws_base, experiment, \"data\",\n",
    "                          model_var, test_model, \"merged_files\")\n",
    "\n",
    "# List the files in the directory\n",
    "files = glob.glob(os.path.join(hadgem_dir, \"*.nc\"))\n",
    "\n",
    "# Find all of the files for the start year\n",
    "files = [f for f in files if str(start_year) in f]\n",
    "\n",
    "# Print the files\n",
    "print(files)\n",
    "\n",
    "# Print the length of the files\n",
    "print(len(files))\n",
    "\n",
    "import re\n",
    "\n",
    "# Extract the member from the file names\n",
    "members = [re.search('s\\d+-r\\d+i\\d+p\\d+f\\d+', f).group(0) for f in files]\n",
    "\n",
    "# Group the files by member\n",
    "file_groups = {member: [f for f, m in zip(files, members) if m == member] for member in set(members)}\n",
    "\n",
    "from tqdm import tqdm\n",
    "\n",
    "# # Open multiple files and combine by members\n",
    "# datasets = {member: xr.open_mfdataset(file_group, combine='by_coords', parallel=True)[model_var] for member, file_group in tqdm(file_groups.items())}\n",
    "\n",
    "# Open each file and extract the 'variant_label' attribute\n",
    "variant_labels = [xr.open_dataset(file).attrs['variant_label'] for file in files]\n",
    "\n",
    "print(variant_labels)\n",
    "\n",
    "# Create the files as a nested list of lists\n",
    "paths_test = [[f] for f in files]\n",
    "\n",
    "# Now you can use variant_labels in your concat_dim argument\n",
    "datasets = xr.open_mfdataset(paths_test,\n",
    "                             concat_dim=variant_labels,\n",
    "                                combine='nested',\n",
    "                             parallel=True,\n",
    "                             chunks={'time': 1000})\n"
   ]
  },
  {
   "cell_type": "code",
   "execution_count": null,
   "metadata": {},
   "outputs": [],
   "source": [
    "datasets"
   ]
  },
  {
   "cell_type": "code",
   "execution_count": null,
   "metadata": {},
   "outputs": [],
   "source": [
    "# Load one example of the model data as an iris cube\n",
    "init_year = 1960\n",
    "realisation = 1\n",
    "\n",
    "# Form the directory containing the data\n",
    "hadgem_dir = os.path.join(dic.gws_base, experiment, \"data\",\n",
    "                          model_var, test_model, \"merged_files\")\n",
    "\n",
    "# List the files in the directory\n",
    "files = glob.glob(os.path.join(hadgem_dir, \"*.nc\"))\n",
    "\n",
    "# Print the files\n",
    "print(files)\n",
    "\n",
    "# Find the file constaining fs{init_year}r{realisation}\n",
    "file = [f for f in files if f\"s{init_year}\" in f and f\"r{realisation}i\" in f][0]\n",
    "\n",
    "# Print rthe file\n",
    "print(file)\n",
    "\n",
    "# Load the file as an iris cube\n",
    "hadgem_example = iris.load_cube(file, model_var)\n",
    "\n",
    "# Print the cube\n",
    "print(hadgem_example)"
   ]
  },
  {
   "cell_type": "code",
   "execution_count": null,
   "metadata": {},
   "outputs": [],
   "source": [
    "import iris.quickplot as qplt\n",
    "\n",
    "# Quick plot of the data\n",
    "# Set up the figure\n",
    "fig = plt.figure(figsize=(10, 5))\n",
    "qplt.contourf(hadgem_example[0,:,:], 25)\n",
    "plt.gca().coastlines()\n"
   ]
  },
  {
   "cell_type": "code",
   "execution_count": null,
   "metadata": {},
   "outputs": [],
   "source": [
    "# Same but for the observations\n",
    "# Set up the figure\n",
    "projection = ccrs.PlateCarree(central_longitude=0)\n",
    "fig = plt.figure(figsize=(10, 5))\n",
    "ax = fig.add_subplot(1, 1, 1, projection=projection)\n",
    "qplt.contourf(obs[0,:,:], 25)"
   ]
  },
  {
   "cell_type": "code",
   "execution_count": null,
   "metadata": {},
   "outputs": [],
   "source": [
    "# Importlib reload\n",
    "import importlib\n",
    "\n",
    "# Reload the dictionaries\n",
    "importlib.reload(dic)"
   ]
  },
  {
   "cell_type": "code",
   "execution_count": null,
   "metadata": {},
   "outputs": [],
   "source": [
    "print(dic.obs_path)"
   ]
  },
  {
   "cell_type": "code",
   "execution_count": null,
   "metadata": {},
   "outputs": [],
   "source": [
    "# Import cdo\n",
    "from cdo import *\n",
    "cdo = Cdo()\n",
    "\n",
    "# Give up on Iris regridding, just use cdo in python instead\n",
    "target_grid = file # This is the example HadGEM file\n",
    "input_obs = dic.obs_path # for surface wind\n",
    "output_obs = \"/home/users/benhutch/ERA5/surface_wind_ERA5_regrid_HadGEM.nc\"\n",
    "\n",
    "# Regrid the ERA5 data to the HadGEM grid\n",
    "cdo.remapbil(target_grid, input=input_obs, output=output_obs)"
   ]
  },
  {
   "cell_type": "code",
   "execution_count": null,
   "metadata": {},
   "outputs": [],
   "source": [
    "# Importlib reload\n",
    "import importlib\n",
    "\n",
    "# Reload the dictionaries\n",
    "importlib.reload(dic)"
   ]
  },
  {
   "cell_type": "code",
   "execution_count": null,
   "metadata": {},
   "outputs": [],
   "source": [
    "# Load the regridded observations data as an iris cube for the si10 variable\n",
    "# Deal with the expver variables\n",
    "obs_regrid = xr.open_mfdataset(dic.regrid_hadgem_obs_path, combine='by_coords', parallel=True)[obs_var]\n",
    "\n",
    "# Combine the two expver variables\n",
    "obs_regrid = obs_regrid.sel(expver=1).combine_first(obs_regrid.sel(expver=5))\n",
    "\n",
    "# Convert to an iris cube\n",
    "obs_regrid = obs_regrid.to_iris()\n",
    "\n",
    "# Print the cube\n",
    "print(obs_regrid)"
   ]
  },
  {
   "cell_type": "code",
   "execution_count": null,
   "metadata": {},
   "outputs": [],
   "source": [
    "# Side by side comparison of the two\n",
    "# Set up the figure\n",
    "projection = ccrs.PlateCarree(central_longitude=0)\n",
    "fig = plt.figure(figsize=(10, 5))\n",
    "\n",
    "# Plot the HadGEM data\n",
    "ax = fig.add_subplot(1, 2, 1, projection=projection)\n",
    "qplt.contourf(hadgem_example[0,:,:], 25)\n",
    "ax.set_title(\"HadGEM3-GC31-MM\")\n",
    "\n",
    "# Plot the ERA5 data\n",
    "ax = fig.add_subplot(1, 2, 2, projection=projection)\n",
    "qplt.contourf(obs_regrid[0,:,:], 25)\n",
    "ax.set_title(\"ERA5\")"
   ]
  },
  {
   "cell_type": "markdown",
   "metadata": {},
   "source": [
    "Regridding complete (for HadGEM at least), now to process the data."
   ]
  },
  {
   "cell_type": "markdown",
   "metadata": {},
   "source": [
    "### Time series ###\n",
    "\n",
    "Now we want to collapse both of these into time series (although they won't run for the same time) for our selected gridbox."
   ]
  },
  {
   "cell_type": "code",
   "execution_count": null,
   "metadata": {},
   "outputs": [],
   "source": [
    "# print the types of the two cubes\n",
    "print(type(hadgem_example))\n",
    "print(type(obs_regrid))\n",
    "\n",
    "# Convert these back to xarray datasets\n",
    "hadgem_example = DataArray.from_iris(hadgem_example)\n",
    "\n",
    "# Print the cube\n",
    "print(hadgem_example)\n",
    "\n",
    "# Convert these back to xarray datasets\n",
    "obs_regrid = DataArray.from_iris(obs_regrid)\n",
    "\n",
    "# Print the cube\n",
    "print(obs_regrid)"
   ]
  },
  {
   "cell_type": "code",
   "execution_count": null,
   "metadata": {},
   "outputs": [],
   "source": [
    "from datetime import datetime as dt\n",
    "\n",
    "# Import timedelta\n",
    "from datetime import timedelta\n",
    "\n",
    "\n",
    "# Take the mean for the gridbox for the HadGEM data\n",
    "hadgem_example_uk_ts = hadgem_example.sel(lat=slice(lat1_uk, lat2_uk),\n",
    "                                          lon=slice(lon1_uk, lon2_uk)).mean(dim=('lat', 'lon'))\n",
    "\n",
    "# # Print the cube\n",
    "# print(hadgem_example_uk_ts)\n",
    "\n",
    "# Take the mean for the gridbox for the ERA5 data\n",
    "obs_regrid_uk_ts = obs_regrid.sel(lat=slice(lat1_uk, lat2_uk),\n",
    "                                  lon=slice(lon1_uk, lon2_uk)).mean(dim=('lat', 'lon'))\n",
    "\n",
    "# # Print the cube\n",
    "# print(obs_regrid_uk_ts)\n",
    "\n",
    "# Limit the datasets to the same time period\n",
    "# 5-year time period\n",
    "hadgem_example_uk_ts = hadgem_example_uk_ts.sel(time=slice(\"1960-12-01\", \"1965-11-30\"))\n",
    "\n",
    "# Limit the observations to the same time period\n",
    "obs_regrid_uk_ts = obs_regrid_uk_ts.sel(time=slice(\"1960-12-01\", \"1965-11-30\"))\n",
    "\n",
    "# Create a datetime object for the time\n",
    "initial_time = dt.strptime(\"1960-12-15\", '%Y-%m-%d')\n",
    "\n",
    "# final time\n",
    "final_time = dt.strptime(\"1965-11-15\", '%Y-%m-%d')\n",
    "\n",
    "# Create a datetime object from the initial time and final time\n",
    "# in monthly increments\n",
    "time = [initial_time + timedelta(days=x) for x in range(0, (final_time - initial_time).days, 30)]\n",
    "\n",
    "# print the time\n",
    "print(time)\n",
    "\n",
    "# Print the length of the time\n",
    "print(len(time))\n",
    "\n",
    "# Extract the values\n",
    "hadgem_values = hadgem_example_uk_ts.values\n",
    "\n",
    "# Extract the values\n",
    "obs_values = obs_regrid_uk_ts.values\n",
    "\n",
    "# Process a 12-month running mean\n",
    "hadgem_values_12m_rm = pd.Series(hadgem_values).rolling(window=12).mean().values\n",
    "\n",
    "# Process a 12-month running mean\n",
    "obs_values_12m_rm = pd.Series(obs_values).rolling(window=12).mean().values\n",
    "\n",
    "# Process a 36-month running mean\n",
    "hadgem_values_36m_rm = pd.Series(hadgem_values).rolling(window=36).mean().values\n",
    "\n",
    "# Process a 36-month running mean\n",
    "obs_values_36m_rm = pd.Series(obs_values).rolling(window=36).mean().values\n",
    "\n",
    "\n",
    "# Plot the two time series\n",
    "# Set up the figure\n",
    "# Convert the time values to datetime objects\n",
    "\n",
    "# set up the figure\n",
    "fig = plt.figure(figsize=(10, 5))\n",
    "\n",
    "# Plot the HadGEM data\n",
    "ax = fig.add_subplot(1, 1, 1)\n",
    "\n",
    "# # Plot the HadGEM data\n",
    "ax.plot(time, hadgem_values, label=\"HadGEM3-GC31-MM\", color='red')\n",
    "\n",
    "# Plot the 12-month running mean\n",
    "ax.plot(time, hadgem_values_12m_rm, label=\"HadGEM3 1yr-RM\", color='red', linestyle='--')\n",
    "\n",
    "# Plot the 36-month running mean\n",
    "ax.plot(time, hadgem_values_36m_rm, label=\"HadGEM3 3yr-RM\", color='red', linestyle=':')\n",
    "\n",
    "# Plot the ERA5 data\n",
    "ax.plot(time, obs_values, label=\"ERA5\", color='k')\n",
    "\n",
    "# Plot the 12-month running mean\n",
    "ax.plot(time, obs_values_12m_rm, label=\"ERA5 1yr-RM\", color='k', linestyle='--')\n",
    "\n",
    "# Plot the 36-month running mean\n",
    "ax.plot(time, obs_values_36m_rm, label=\"ERA5 3yr-RM\", color='k', linestyle=':')\n",
    "\n",
    "# Add a legend\n",
    "ax.legend()\n",
    "\n",
    "# Add a title\n",
    "ax.set_title(\"UK Wind Speed\")\n",
    "\n",
    "# Include a y-label\n",
    "ax.set_ylabel(\"Wind Speed (m/s)\")\n",
    "\n",
    "# # show the plot\n",
    "plt.show()\n"
   ]
  }
 ],
 "metadata": {
  "kernelspec": {
   "display_name": "Python 3",
   "language": "python",
   "name": "python3"
  },
  "language_info": {
   "codemirror_mode": {
    "name": "ipython",
    "version": 3
   },
   "file_extension": ".py",
   "mimetype": "text/x-python",
   "name": "python",
   "nbconvert_exporter": "python",
   "pygments_lexer": "ipython3",
   "version": "3.10.8"
  }
 },
 "nbformat": 4,
 "nbformat_minor": 4
}
