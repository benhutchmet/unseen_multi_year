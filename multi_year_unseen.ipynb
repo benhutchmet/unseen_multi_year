{
 "cells": [
  {
   "cell_type": "markdown",
   "metadata": {},
   "source": [
    "## Multi-year UNSEEN ##\n",
    "\n",
    "Test notebook for figuring out the methodology for exploring how to create a synthetic event set for multi-year wind droughts."
   ]
  },
  {
   "cell_type": "code",
   "execution_count": 1,
   "metadata": {},
   "outputs": [],
   "source": [
    "import sys\n",
    "import pathlib\n",
    "import platform\n",
    "# venv_path = \"~/nb_envs/bens-nb-env4\"\n",
    "# py_version = platform.python_version_tuple()\n",
    "# sys.path.append(\n",
    "#     str(\n",
    "#         pathlib.Path(\n",
    "#             f\"{venv_path}/lib/python{py_version[0]}.{py_version[1]}/site-packages/\"\n",
    "#         ).expanduser()\n",
    "#     )\n",
    "# )"
   ]
  },
  {
   "cell_type": "code",
   "execution_count": 2,
   "metadata": {},
   "outputs": [],
   "source": [
    "# print(py_version)"
   ]
  },
  {
   "cell_type": "code",
   "execution_count": 3,
   "metadata": {},
   "outputs": [],
   "source": [
    "# Import local modules\n",
    "import sys\n",
    "import os\n",
    "import glob\n",
    "\n",
    "# Import third-party modules\n",
    "import numpy as np\n",
    "import pandas as pd\n",
    "import matplotlib.pyplot as plt\n",
    "import cartopy.crs as ccrs\n",
    "import xarray as xr\n",
    "from xarray import DataArray"
   ]
  },
  {
   "cell_type": "code",
   "execution_count": 4,
   "metadata": {},
   "outputs": [],
   "source": [
    "# Import my modules\n",
    "import dictionaries as dic\n",
    "\n",
    "sys.path.append(\"/home/users/benhutch/unseen_functions\")\n",
    "import functions as funcs"
   ]
  },
  {
   "cell_type": "code",
   "execution_count": 5,
   "metadata": {},
   "outputs": [],
   "source": [
    "# import pkg_resources\n",
    "# import sys\n",
    "\n",
    "# def print_version(package_name):\n",
    "#     try:\n",
    "#         version = pkg_resources.get_distribution(package_name).version\n",
    "#         print(f\"{package_name}: {version}\")\n",
    "#     except pkg_resources.DistributionNotFound:\n",
    "#         print(f\"{package_name}: not found\")\n",
    "\n",
    "# print(f\"python: {sys.version_info.major}.{sys.version_info.minor}.{sys.version_info.micro}\")\n",
    "# print_version(\"cloudpickle\")\n",
    "# print_version(\"lz4\")\n",
    "# print_version(\"msgpack\")\n",
    "# print_version(\"tornado\")"
   ]
  },
  {
   "cell_type": "code",
   "execution_count": 6,
   "metadata": {},
   "outputs": [],
   "source": [
    "# import dask_gateway\n",
    "# import pathlib"
   ]
  },
  {
   "cell_type": "code",
   "execution_count": 7,
   "metadata": {},
   "outputs": [],
   "source": [
    "# # Create a connection to dask-gateway.\n",
    "# gw = dask_gateway.Gateway(\"https://dask-gateway.jasmin.ac.uk\", auth=\"jupyterhub\")"
   ]
  },
  {
   "cell_type": "code",
   "execution_count": 8,
   "metadata": {},
   "outputs": [],
   "source": [
    "# # Inspect and change the options if required before creating your cluster.\n",
    "# options = gw.cluster_options()\n",
    "# options.worker_cores = 2"
   ]
  },
  {
   "cell_type": "code",
   "execution_count": 9,
   "metadata": {},
   "outputs": [],
   "source": [
    "# clusters = gw.list_clusters()\n",
    "# if not clusters:\n",
    "#     cluster = gw.new_cluster(options, shutdown_on_close=False)\n",
    "# else:\n",
    "#     cluster = gw.connect(clusters[0].name)\n",
    "    \n",
    "# cluster.adapt(minimum=1, maximum=3)\n",
    "\n",
    "# client = cluster.get_client()"
   ]
  },
  {
   "cell_type": "code",
   "execution_count": 10,
   "metadata": {},
   "outputs": [],
   "source": [
    "# client.get_versions(check=True)"
   ]
  },
  {
   "cell_type": "code",
   "execution_count": 11,
   "metadata": {},
   "outputs": [],
   "source": [
    "# client"
   ]
  },
  {
   "cell_type": "code",
   "execution_count": 12,
   "metadata": {},
   "outputs": [],
   "source": [
    "# ds = xr.tutorial.open_dataset('air_temperature', chunks={'lat': 25, 'lon': 25, 'time': -1})\n",
    "# ds"
   ]
  },
  {
   "cell_type": "code",
   "execution_count": 13,
   "metadata": {},
   "outputs": [],
   "source": [
    "# da = ds['air']\n",
    "# da"
   ]
  },
  {
   "cell_type": "code",
   "execution_count": 14,
   "metadata": {},
   "outputs": [],
   "source": [
    "# %%time\n",
    "\n",
    "# da.resample(time='1w').mean('time').std('time').load().plot(figsize=(12, 8))"
   ]
  },
  {
   "cell_type": "code",
   "execution_count": 15,
   "metadata": {},
   "outputs": [],
   "source": [
    "# import subprocess\n",
    "\n",
    "# def downgrade_packages(env_dict):\n",
    "#     scheduler_packages = env_dict['scheduler']['packages']\n",
    "#     client_packages = env_dict['client']['packages']\n",
    "\n",
    "#     for package, version in scheduler_packages.items():\n",
    "#         if package != 'python' and package in client_packages and client_packages[package] != version:\n",
    "#             print(f\"Downgrading {package} to version {version}\")\n",
    "#             subprocess.run([\"pip\", \"install\", \"--upgrade\", f\"{package}=={version}\"], check=True)\n",
    "\n",
    "# downgrade_packages(env_dict)"
   ]
  },
  {
   "cell_type": "markdown",
   "metadata": {},
   "source": [
    "### Exploring gridboxes ###\n",
    "\n",
    "Checking that the gridboxes are where we expect them to be"
   ]
  },
  {
   "cell_type": "code",
   "execution_count": 16,
   "metadata": {},
   "outputs": [],
   "source": [
    "# # First, we want to visualise th gridboxes which we might want to use\n",
    "# # The UK grid box or the north sea grid box\n",
    "\n",
    "# # Set up the projection\n",
    "# projection = ccrs.PlateCarree(central_longitude=0)\n",
    "\n",
    "# # Plot the differences between the two gridboxes\n",
    "# # Set up the figure\n",
    "# fig = plt.figure(figsize=(10, 5))\n",
    "# ax = fig.add_subplot(1, 1, 1, projection=projection)\n",
    "\n",
    "# # # Include the stock image and coastlines\n",
    "# ax.stock_img()\n",
    "# ax.coastlines()\n",
    "\n",
    "# # Extract the lat and lon data for the UK box\n",
    "# lon1_uk, lon2_uk = dic.uk_grid['lon1'], dic.uk_grid['lon2']\n",
    "# lat1_uk, lat2_uk = dic.uk_grid['lat1'], dic.uk_grid['lat2']\n",
    "\n",
    "# # Extract the lat and lon data for the North Sea box\n",
    "# lon1_ns, lon2_ns = dic.north_sea_kay['lon1'], dic.north_sea_kay['lon2']\n",
    "# lat1_ns, lat2_ns = dic.north_sea_kay['lat1'], dic.north_sea_kay['lat2']\n",
    "\n",
    "# # # Plot these boxes\n",
    "# # ax.plot([lon1_uk, lon2_uk, lon2_uk, lon1_uk, lon1_uk],\n",
    "# #         [lat1_uk, lat1_uk, lat2_uk, lat2_uk, lat1_uk],\n",
    "# #         color='green', linewidth=2, transform=projection, label=\"UK Clark\")\n",
    "\n",
    "# # # Plot these boxes\n",
    "# # ax.plot([lon1_ns, lon2_ns, lon2_ns, lon1_ns, lon1_ns],\n",
    "# #         [lat1_ns, lat1_ns, lat2_ns, lat2_ns, lat1_ns],\n",
    "# #         color='orange', linewidth=2, transform=projection, label=\"North Sea Kay\")\n",
    "\n",
    "# # Zoom in on the region\n",
    "# ax.set_extent([-15, 30, 35, 70], crs=projection)\n",
    "\n",
    "# # Create a legend\n",
    "# ax.legend(loc = 'upper left')\n",
    "\n",
    "# # show the plot\n",
    "# plt.show()"
   ]
  },
  {
   "cell_type": "markdown",
   "metadata": {},
   "source": [
    "### Choosing time windows ###\n",
    "\n",
    "We need to define the time period over which we are looking for wind droughts. Here are three we might consider:\n",
    "\n",
    "* 1 year (12 months Dec-Nov)\n",
    "* 3 years (36 months Dec-Nov)\n",
    "* 5 years (60 months Dec-Nov)\n",
    "\n",
    "In this first example of 1 year, for 1960 there will be 11 total 12 month time series (DJFMAMJJASON):\n",
    "\n",
    "* 1 will be the truth (from ERA5) - the weather which actually occurred.\n",
    "* 10 will be from the decadal prediction system (in this case DePreSys with 10 ensemble members).\n",
    "    * Here we are assuming November initialisation."
   ]
  },
  {
   "cell_type": "markdown",
   "metadata": {},
   "source": [
    "### Extracting the data ###\n",
    "\n",
    "Model data in this example from HadGEM3-GC31-MM.\n",
    "\n",
    "Obs data in this example from ERA5."
   ]
  },
  {
   "cell_type": "code",
   "execution_count": 17,
   "metadata": {},
   "outputs": [],
   "source": [
    "# # Set up the parameters for extraction\n",
    "model_var = \"sfcWind\"\n",
    "obs_var = \"si10\"\n",
    "test_model = \"HadGEM3-GC31-MM\"\n",
    "experiment = \"dcppA-hindcast\"\n",
    "\n",
    "# test extracting data for daily frequency\n",
    "frequency=\"Amon\""
   ]
  },
  {
   "cell_type": "code",
   "execution_count": 18,
   "metadata": {},
   "outputs": [],
   "source": [
    "import importlib\n",
    "\n",
    "importlib.reload(sys.modules['functions'])\n",
    "\n",
    "from functions import *"
   ]
  },
  {
   "cell_type": "code",
   "execution_count": 19,
   "metadata": {},
   "outputs": [
    {
     "name": "stdout",
     "output_type": "stream",
     "text": [
      "The model path root is gws\n",
      "Number of unique variant labels: 10\n",
      "For model: HadGEM3-GC31-MM\n",
      "First 10 unique variant labels: ['r10i1p1f2' 'r1i1p1f2' 'r2i1p1f2' 'r3i1p1f2' 'r4i1p1f2' 'r5i1p1f2'\n",
      " 'r6i1p1f2' 'r7i1p1f2' 'r8i1p1f2' 'r9i1p1f2']\n",
      "Forming the list of files for each ensemble member for gws\n",
      "Shape of member files: (10, 59)\n",
      "Shape of flattened member files: (590,)\n"
     ]
    },
    {
     "name": "stderr",
     "output_type": "stream",
     "text": [
      "Processing init years:   0%|          | 0/59 [00:00<?, ?it/s]"
     ]
    },
    {
     "name": "stdout",
     "output_type": "stream",
     "text": [
      "processing init year 1960\n"
     ]
    },
    {
     "name": "stderr",
     "output_type": "stream",
     "text": [
      "Processing init years:   2%|▏         | 1/59 [00:03<03:45,  3.89s/it]"
     ]
    },
    {
     "name": "stdout",
     "output_type": "stream",
     "text": [
      "processing init year 1961\n"
     ]
    },
    {
     "name": "stderr",
     "output_type": "stream",
     "text": [
      "Processing init years:   3%|▎         | 2/59 [00:06<02:54,  3.06s/it]"
     ]
    },
    {
     "name": "stdout",
     "output_type": "stream",
     "text": [
      "processing init year 1962\n"
     ]
    },
    {
     "name": "stderr",
     "output_type": "stream",
     "text": [
      "Processing init years:   5%|▌         | 3/59 [00:10<03:28,  3.73s/it]"
     ]
    },
    {
     "name": "stdout",
     "output_type": "stream",
     "text": [
      "processing init year 1963\n"
     ]
    },
    {
     "name": "stderr",
     "output_type": "stream",
     "text": [
      "Processing init years:   7%|▋         | 4/59 [00:13<02:54,  3.18s/it]"
     ]
    },
    {
     "name": "stdout",
     "output_type": "stream",
     "text": [
      "processing init year 1964\n"
     ]
    },
    {
     "name": "stderr",
     "output_type": "stream",
     "text": [
      "Processing init years:   8%|▊         | 5/59 [00:16<02:48,  3.13s/it]"
     ]
    },
    {
     "name": "stdout",
     "output_type": "stream",
     "text": [
      "processing init year 1965\n"
     ]
    },
    {
     "name": "stderr",
     "output_type": "stream",
     "text": [
      "Processing init years:  10%|█         | 6/59 [00:20<03:00,  3.41s/it]"
     ]
    },
    {
     "name": "stdout",
     "output_type": "stream",
     "text": [
      "processing init year 1966\n"
     ]
    },
    {
     "name": "stderr",
     "output_type": "stream",
     "text": [
      "Processing init years:  12%|█▏        | 7/59 [00:24<03:12,  3.70s/it]"
     ]
    },
    {
     "name": "stdout",
     "output_type": "stream",
     "text": [
      "processing init year 1967\n"
     ]
    },
    {
     "name": "stderr",
     "output_type": "stream",
     "text": [
      "Processing init years:  14%|█▎        | 8/59 [00:28<03:13,  3.79s/it]"
     ]
    },
    {
     "name": "stdout",
     "output_type": "stream",
     "text": [
      "processing init year 1968\n"
     ]
    },
    {
     "name": "stderr",
     "output_type": "stream",
     "text": [
      "Processing init years:  15%|█▌        | 9/59 [00:32<03:09,  3.80s/it]"
     ]
    },
    {
     "name": "stdout",
     "output_type": "stream",
     "text": [
      "processing init year 1969\n"
     ]
    },
    {
     "name": "stderr",
     "output_type": "stream",
     "text": [
      "Processing init years:  17%|█▋        | 10/59 [00:36<03:08,  3.85s/it]"
     ]
    },
    {
     "name": "stdout",
     "output_type": "stream",
     "text": [
      "processing init year 1970\n"
     ]
    },
    {
     "name": "stderr",
     "output_type": "stream",
     "text": [
      "Processing init years:  19%|█▊        | 11/59 [00:39<02:57,  3.70s/it]"
     ]
    },
    {
     "name": "stdout",
     "output_type": "stream",
     "text": [
      "processing init year 1971\n"
     ]
    },
    {
     "name": "stderr",
     "output_type": "stream",
     "text": [
      "Processing init years:  20%|██        | 12/59 [00:43<02:54,  3.72s/it]"
     ]
    },
    {
     "name": "stdout",
     "output_type": "stream",
     "text": [
      "processing init year 1972\n"
     ]
    },
    {
     "name": "stderr",
     "output_type": "stream",
     "text": [
      "Processing init years:  22%|██▏       | 13/59 [00:47<02:50,  3.71s/it]"
     ]
    },
    {
     "name": "stdout",
     "output_type": "stream",
     "text": [
      "processing init year 1973\n"
     ]
    },
    {
     "name": "stderr",
     "output_type": "stream",
     "text": [
      "Processing init years:  24%|██▎       | 14/59 [00:51<02:52,  3.84s/it]"
     ]
    },
    {
     "name": "stdout",
     "output_type": "stream",
     "text": [
      "processing init year 1974\n"
     ]
    },
    {
     "name": "stderr",
     "output_type": "stream",
     "text": [
      "Processing init years:  25%|██▌       | 15/59 [00:55<02:48,  3.83s/it]"
     ]
    },
    {
     "name": "stdout",
     "output_type": "stream",
     "text": [
      "processing init year 1975\n"
     ]
    },
    {
     "name": "stderr",
     "output_type": "stream",
     "text": [
      "Processing init years:  27%|██▋       | 16/59 [00:59<02:51,  3.98s/it]"
     ]
    },
    {
     "name": "stdout",
     "output_type": "stream",
     "text": [
      "processing init year 1976\n"
     ]
    },
    {
     "name": "stderr",
     "output_type": "stream",
     "text": [
      "Processing init years:  29%|██▉       | 17/59 [01:03<02:51,  4.09s/it]"
     ]
    },
    {
     "name": "stdout",
     "output_type": "stream",
     "text": [
      "processing init year 1977\n"
     ]
    },
    {
     "name": "stderr",
     "output_type": "stream",
     "text": [
      "Processing init years:  31%|███       | 18/59 [01:07<02:47,  4.08s/it]"
     ]
    },
    {
     "name": "stdout",
     "output_type": "stream",
     "text": [
      "processing init year 1978\n"
     ]
    },
    {
     "name": "stderr",
     "output_type": "stream",
     "text": [
      "Processing init years:  32%|███▏      | 19/59 [01:11<02:39,  3.99s/it]"
     ]
    },
    {
     "name": "stdout",
     "output_type": "stream",
     "text": [
      "processing init year 1979\n"
     ]
    },
    {
     "name": "stderr",
     "output_type": "stream",
     "text": [
      "Processing init years:  34%|███▍      | 20/59 [01:15<02:36,  4.02s/it]"
     ]
    },
    {
     "name": "stdout",
     "output_type": "stream",
     "text": [
      "processing init year 1980\n"
     ]
    },
    {
     "name": "stderr",
     "output_type": "stream",
     "text": [
      "Processing init years:  36%|███▌      | 21/59 [01:20<02:36,  4.12s/it]"
     ]
    },
    {
     "name": "stdout",
     "output_type": "stream",
     "text": [
      "processing init year 1981\n"
     ]
    },
    {
     "name": "stderr",
     "output_type": "stream",
     "text": [
      "Processing init years:  37%|███▋      | 22/59 [01:24<02:31,  4.10s/it]"
     ]
    },
    {
     "name": "stdout",
     "output_type": "stream",
     "text": [
      "processing init year 1982\n"
     ]
    },
    {
     "name": "stderr",
     "output_type": "stream",
     "text": [
      "Processing init years:  39%|███▉      | 23/59 [01:28<02:28,  4.11s/it]"
     ]
    },
    {
     "name": "stdout",
     "output_type": "stream",
     "text": [
      "processing init year 1983\n"
     ]
    },
    {
     "name": "stderr",
     "output_type": "stream",
     "text": [
      "Processing init years:  41%|████      | 24/59 [01:34<02:43,  4.66s/it]"
     ]
    },
    {
     "name": "stdout",
     "output_type": "stream",
     "text": [
      "processing init year 1984\n"
     ]
    },
    {
     "name": "stderr",
     "output_type": "stream",
     "text": [
      "Processing init years:  42%|████▏     | 25/59 [01:38<02:32,  4.48s/it]"
     ]
    },
    {
     "name": "stdout",
     "output_type": "stream",
     "text": [
      "processing init year 1985\n"
     ]
    },
    {
     "name": "stderr",
     "output_type": "stream",
     "text": [
      "Processing init years:  44%|████▍     | 26/59 [01:42<02:29,  4.53s/it]"
     ]
    },
    {
     "name": "stdout",
     "output_type": "stream",
     "text": [
      "processing init year 1986\n"
     ]
    },
    {
     "name": "stderr",
     "output_type": "stream",
     "text": [
      "Processing init years:  46%|████▌     | 27/59 [01:46<02:15,  4.24s/it]"
     ]
    },
    {
     "name": "stdout",
     "output_type": "stream",
     "text": [
      "processing init year 1987\n"
     ]
    },
    {
     "name": "stderr",
     "output_type": "stream",
     "text": [
      "Processing init years:  47%|████▋     | 28/59 [01:49<02:04,  4.03s/it]"
     ]
    },
    {
     "name": "stdout",
     "output_type": "stream",
     "text": [
      "processing init year 1988\n"
     ]
    },
    {
     "name": "stderr",
     "output_type": "stream",
     "text": [
      "Processing init years:  49%|████▉     | 29/59 [01:53<01:59,  3.99s/it]"
     ]
    },
    {
     "name": "stdout",
     "output_type": "stream",
     "text": [
      "processing init year 1989\n"
     ]
    },
    {
     "name": "stderr",
     "output_type": "stream",
     "text": [
      "Processing init years:  51%|█████     | 30/59 [01:58<01:59,  4.13s/it]"
     ]
    },
    {
     "name": "stdout",
     "output_type": "stream",
     "text": [
      "processing init year 1990\n"
     ]
    },
    {
     "name": "stderr",
     "output_type": "stream",
     "text": [
      "Processing init years:  53%|█████▎    | 31/59 [02:02<01:53,  4.06s/it]"
     ]
    },
    {
     "name": "stdout",
     "output_type": "stream",
     "text": [
      "processing init year 1991\n"
     ]
    },
    {
     "name": "stderr",
     "output_type": "stream",
     "text": [
      "Processing init years:  54%|█████▍    | 32/59 [03:19<11:44, 26.10s/it]"
     ]
    },
    {
     "name": "stdout",
     "output_type": "stream",
     "text": [
      "processing init year 1992\n"
     ]
    },
    {
     "name": "stderr",
     "output_type": "stream",
     "text": [
      "Processing init years:  56%|█████▌    | 33/59 [03:23<08:24, 19.39s/it]"
     ]
    },
    {
     "name": "stdout",
     "output_type": "stream",
     "text": [
      "processing init year 1993\n"
     ]
    },
    {
     "name": "stderr",
     "output_type": "stream",
     "text": [
      "Processing init years:  58%|█████▊    | 34/59 [03:28<06:14, 14.97s/it]"
     ]
    },
    {
     "name": "stdout",
     "output_type": "stream",
     "text": [
      "processing init year 1994\n"
     ]
    },
    {
     "name": "stderr",
     "output_type": "stream",
     "text": [
      "Processing init years:  59%|█████▉    | 35/59 [03:31<04:34, 11.43s/it]"
     ]
    },
    {
     "name": "stdout",
     "output_type": "stream",
     "text": [
      "processing init year 1995\n"
     ]
    },
    {
     "name": "stderr",
     "output_type": "stream",
     "text": [
      "Processing init years:  61%|██████    | 36/59 [03:35<03:30,  9.17s/it]"
     ]
    },
    {
     "name": "stdout",
     "output_type": "stream",
     "text": [
      "processing init year 1996\n"
     ]
    },
    {
     "name": "stderr",
     "output_type": "stream",
     "text": [
      "Processing init years:  63%|██████▎   | 37/59 [03:39<02:48,  7.68s/it]"
     ]
    },
    {
     "name": "stdout",
     "output_type": "stream",
     "text": [
      "processing init year 1997\n"
     ]
    },
    {
     "name": "stderr",
     "output_type": "stream",
     "text": [
      "Processing init years:  64%|██████▍   | 38/59 [03:44<02:27,  7.02s/it]"
     ]
    },
    {
     "name": "stdout",
     "output_type": "stream",
     "text": [
      "processing init year 1998\n"
     ]
    },
    {
     "name": "stderr",
     "output_type": "stream",
     "text": [
      "Processing init years:  66%|██████▌   | 39/59 [03:49<02:04,  6.20s/it]"
     ]
    },
    {
     "name": "stdout",
     "output_type": "stream",
     "text": [
      "processing init year 1999\n"
     ]
    },
    {
     "name": "stderr",
     "output_type": "stream",
     "text": [
      "Processing init years:  68%|██████▊   | 40/59 [03:53<01:47,  5.64s/it]"
     ]
    },
    {
     "name": "stdout",
     "output_type": "stream",
     "text": [
      "processing init year 2000\n"
     ]
    },
    {
     "name": "stderr",
     "output_type": "stream",
     "text": [
      "Processing init years:  69%|██████▉   | 41/59 [03:57<01:31,  5.06s/it]"
     ]
    },
    {
     "name": "stdout",
     "output_type": "stream",
     "text": [
      "processing init year 2001\n"
     ]
    },
    {
     "name": "stderr",
     "output_type": "stream",
     "text": [
      "Processing init years:  71%|███████   | 42/59 [04:02<01:25,  5.00s/it]"
     ]
    },
    {
     "name": "stdout",
     "output_type": "stream",
     "text": [
      "processing init year 2002\n"
     ]
    },
    {
     "name": "stderr",
     "output_type": "stream",
     "text": [
      "Processing init years:  73%|███████▎  | 43/59 [04:05<01:12,  4.52s/it]"
     ]
    },
    {
     "name": "stdout",
     "output_type": "stream",
     "text": [
      "processing init year 2003\n"
     ]
    },
    {
     "name": "stderr",
     "output_type": "stream",
     "text": [
      "Processing init years:  75%|███████▍  | 44/59 [04:09<01:07,  4.48s/it]"
     ]
    },
    {
     "name": "stdout",
     "output_type": "stream",
     "text": [
      "processing init year 2004\n"
     ]
    },
    {
     "name": "stderr",
     "output_type": "stream",
     "text": [
      "Processing init years:  76%|███████▋  | 45/59 [04:13<01:00,  4.33s/it]"
     ]
    },
    {
     "name": "stdout",
     "output_type": "stream",
     "text": [
      "processing init year 2005\n"
     ]
    },
    {
     "name": "stderr",
     "output_type": "stream",
     "text": [
      "Processing init years:  78%|███████▊  | 46/59 [04:18<00:58,  4.53s/it]"
     ]
    },
    {
     "name": "stdout",
     "output_type": "stream",
     "text": [
      "processing init year 2006\n"
     ]
    },
    {
     "name": "stderr",
     "output_type": "stream",
     "text": [
      "Processing init years:  80%|███████▉  | 47/59 [04:22<00:51,  4.31s/it]"
     ]
    },
    {
     "name": "stdout",
     "output_type": "stream",
     "text": [
      "processing init year 2007\n"
     ]
    },
    {
     "name": "stderr",
     "output_type": "stream",
     "text": [
      "Processing init years:  81%|████████▏ | 48/59 [04:27<00:50,  4.56s/it]"
     ]
    },
    {
     "name": "stdout",
     "output_type": "stream",
     "text": [
      "processing init year 2008\n"
     ]
    },
    {
     "name": "stderr",
     "output_type": "stream",
     "text": [
      "Processing init years:  83%|████████▎ | 49/59 [04:31<00:42,  4.23s/it]"
     ]
    },
    {
     "name": "stdout",
     "output_type": "stream",
     "text": [
      "processing init year 2009\n"
     ]
    },
    {
     "name": "stderr",
     "output_type": "stream",
     "text": [
      "Processing init years:  85%|████████▍ | 50/59 [04:36<00:41,  4.57s/it]"
     ]
    },
    {
     "name": "stdout",
     "output_type": "stream",
     "text": [
      "processing init year 2010\n"
     ]
    },
    {
     "name": "stderr",
     "output_type": "stream",
     "text": [
      "Processing init years:  86%|████████▋ | 51/59 [04:40<00:34,  4.28s/it]"
     ]
    },
    {
     "name": "stdout",
     "output_type": "stream",
     "text": [
      "processing init year 2011\n"
     ]
    },
    {
     "name": "stderr",
     "output_type": "stream",
     "text": [
      "Processing init years:  88%|████████▊ | 52/59 [04:45<00:32,  4.58s/it]"
     ]
    },
    {
     "name": "stdout",
     "output_type": "stream",
     "text": [
      "processing init year 2012\n"
     ]
    },
    {
     "name": "stderr",
     "output_type": "stream",
     "text": [
      "Processing init years:  90%|████████▉ | 53/59 [04:50<00:27,  4.66s/it]"
     ]
    },
    {
     "name": "stdout",
     "output_type": "stream",
     "text": [
      "processing init year 2013\n"
     ]
    },
    {
     "name": "stderr",
     "output_type": "stream",
     "text": [
      "Processing init years:  92%|█████████▏| 54/59 [04:54<00:22,  4.49s/it]"
     ]
    },
    {
     "name": "stdout",
     "output_type": "stream",
     "text": [
      "processing init year 2014\n"
     ]
    },
    {
     "name": "stderr",
     "output_type": "stream",
     "text": [
      "Processing init years:  93%|█████████▎| 55/59 [04:57<00:16,  4.19s/it]"
     ]
    },
    {
     "name": "stdout",
     "output_type": "stream",
     "text": [
      "processing init year 2015\n"
     ]
    },
    {
     "name": "stderr",
     "output_type": "stream",
     "text": [
      "Processing init years:  95%|█████████▍| 56/59 [05:02<00:12,  4.23s/it]"
     ]
    },
    {
     "name": "stdout",
     "output_type": "stream",
     "text": [
      "processing init year 2016\n"
     ]
    },
    {
     "name": "stderr",
     "output_type": "stream",
     "text": [
      "Processing init years:  97%|█████████▋| 57/59 [05:05<00:08,  4.08s/it]"
     ]
    },
    {
     "name": "stdout",
     "output_type": "stream",
     "text": [
      "processing init year 2017\n"
     ]
    },
    {
     "name": "stderr",
     "output_type": "stream",
     "text": [
      "Processing init years:  98%|█████████▊| 58/59 [05:11<00:04,  4.39s/it]"
     ]
    },
    {
     "name": "stdout",
     "output_type": "stream",
     "text": [
      "processing init year 2018\n"
     ]
    },
    {
     "name": "stderr",
     "output_type": "stream",
     "text": [
      "Processing init years: 100%|██████████| 59/59 [05:15<00:00,  5.34s/it]\n"
     ]
    },
    {
     "name": "stdout",
     "output_type": "stream",
     "text": [
      "CPU times: user 12.9 s, sys: 628 ms, total: 13.6 s\n",
      "Wall time: 5min 16s\n"
     ]
    }
   ],
   "source": [
    "%%time\n",
    "\n",
    "# Test the new function\n",
    "member_ds = funcs.load_model_data_xarray(model_variable=model_var,\n",
    "                                    model=test_model,\n",
    "                                    experiment=experiment,\n",
    "                                    start_year=1960,\n",
    "                                    end_year=2018,\n",
    "                                    grid=dic.uk_grid,\n",
    "                                    first_fcst_year=1961,\n",
    "                                    last_fcst_year=1962,\n",
    "                                    months=[10, 11, 12, 1, 2, 3],\n",
    "                                    frequency=frequency,\n",
    "                                    parallel=False,\n",
    "                                    )"
   ]
  },
  {
   "cell_type": "code",
   "execution_count": 20,
   "metadata": {},
   "outputs": [
    {
     "data": {
      "text/html": [
       "<div><svg style=\"position: absolute; width: 0; height: 0; overflow: hidden\">\n",
       "<defs>\n",
       "<symbol id=\"icon-database\" viewBox=\"0 0 32 32\">\n",
       "<path d=\"M16 0c-8.837 0-16 2.239-16 5v4c0 2.761 7.163 5 16 5s16-2.239 16-5v-4c0-2.761-7.163-5-16-5z\"></path>\n",
       "<path d=\"M16 17c-8.837 0-16-2.239-16-5v6c0 2.761 7.163 5 16 5s16-2.239 16-5v-6c0 2.761-7.163 5-16 5z\"></path>\n",
       "<path d=\"M16 26c-8.837 0-16-2.239-16-5v6c0 2.761 7.163 5 16 5s16-2.239 16-5v-6c0 2.761-7.163 5-16 5z\"></path>\n",
       "</symbol>\n",
       "<symbol id=\"icon-file-text2\" viewBox=\"0 0 32 32\">\n",
       "<path d=\"M28.681 7.159c-0.694-0.947-1.662-2.053-2.724-3.116s-2.169-2.030-3.116-2.724c-1.612-1.182-2.393-1.319-2.841-1.319h-15.5c-1.378 0-2.5 1.121-2.5 2.5v27c0 1.378 1.122 2.5 2.5 2.5h23c1.378 0 2.5-1.122 2.5-2.5v-19.5c0-0.448-0.137-1.23-1.319-2.841zM24.543 5.457c0.959 0.959 1.712 1.825 2.268 2.543h-4.811v-4.811c0.718 0.556 1.584 1.309 2.543 2.268zM28 29.5c0 0.271-0.229 0.5-0.5 0.5h-23c-0.271 0-0.5-0.229-0.5-0.5v-27c0-0.271 0.229-0.5 0.5-0.5 0 0 15.499-0 15.5 0v7c0 0.552 0.448 1 1 1h7v19.5z\"></path>\n",
       "<path d=\"M23 26h-14c-0.552 0-1-0.448-1-1s0.448-1 1-1h14c0.552 0 1 0.448 1 1s-0.448 1-1 1z\"></path>\n",
       "<path d=\"M23 22h-14c-0.552 0-1-0.448-1-1s0.448-1 1-1h14c0.552 0 1 0.448 1 1s-0.448 1-1 1z\"></path>\n",
       "<path d=\"M23 18h-14c-0.552 0-1-0.448-1-1s0.448-1 1-1h14c0.552 0 1 0.448 1 1s-0.448 1-1 1z\"></path>\n",
       "</symbol>\n",
       "</defs>\n",
       "</svg>\n",
       "<style>/* CSS stylesheet for displaying xarray objects in jupyterlab.\n",
       " *\n",
       " */\n",
       "\n",
       ":root {\n",
       "  --xr-font-color0: var(--jp-content-font-color0, rgba(0, 0, 0, 1));\n",
       "  --xr-font-color2: var(--jp-content-font-color2, rgba(0, 0, 0, 0.54));\n",
       "  --xr-font-color3: var(--jp-content-font-color3, rgba(0, 0, 0, 0.38));\n",
       "  --xr-border-color: var(--jp-border-color2, #e0e0e0);\n",
       "  --xr-disabled-color: var(--jp-layout-color3, #bdbdbd);\n",
       "  --xr-background-color: var(--jp-layout-color0, white);\n",
       "  --xr-background-color-row-even: var(--jp-layout-color1, white);\n",
       "  --xr-background-color-row-odd: var(--jp-layout-color2, #eeeeee);\n",
       "}\n",
       "\n",
       "html[theme=dark],\n",
       "body[data-theme=dark],\n",
       "body.vscode-dark {\n",
       "  --xr-font-color0: rgba(255, 255, 255, 1);\n",
       "  --xr-font-color2: rgba(255, 255, 255, 0.54);\n",
       "  --xr-font-color3: rgba(255, 255, 255, 0.38);\n",
       "  --xr-border-color: #1F1F1F;\n",
       "  --xr-disabled-color: #515151;\n",
       "  --xr-background-color: #111111;\n",
       "  --xr-background-color-row-even: #111111;\n",
       "  --xr-background-color-row-odd: #313131;\n",
       "}\n",
       "\n",
       ".xr-wrap {\n",
       "  display: block !important;\n",
       "  min-width: 300px;\n",
       "  max-width: 700px;\n",
       "}\n",
       "\n",
       ".xr-text-repr-fallback {\n",
       "  /* fallback to plain text repr when CSS is not injected (untrusted notebook) */\n",
       "  display: none;\n",
       "}\n",
       "\n",
       ".xr-header {\n",
       "  padding-top: 6px;\n",
       "  padding-bottom: 6px;\n",
       "  margin-bottom: 4px;\n",
       "  border-bottom: solid 1px var(--xr-border-color);\n",
       "}\n",
       "\n",
       ".xr-header > div,\n",
       ".xr-header > ul {\n",
       "  display: inline;\n",
       "  margin-top: 0;\n",
       "  margin-bottom: 0;\n",
       "}\n",
       "\n",
       ".xr-obj-type,\n",
       ".xr-array-name {\n",
       "  margin-left: 2px;\n",
       "  margin-right: 10px;\n",
       "}\n",
       "\n",
       ".xr-obj-type {\n",
       "  color: var(--xr-font-color2);\n",
       "}\n",
       "\n",
       ".xr-sections {\n",
       "  padding-left: 0 !important;\n",
       "  display: grid;\n",
       "  grid-template-columns: 150px auto auto 1fr 20px 20px;\n",
       "}\n",
       "\n",
       ".xr-section-item {\n",
       "  display: contents;\n",
       "}\n",
       "\n",
       ".xr-section-item input {\n",
       "  display: none;\n",
       "}\n",
       "\n",
       ".xr-section-item input + label {\n",
       "  color: var(--xr-disabled-color);\n",
       "}\n",
       "\n",
       ".xr-section-item input:enabled + label {\n",
       "  cursor: pointer;\n",
       "  color: var(--xr-font-color2);\n",
       "}\n",
       "\n",
       ".xr-section-item input:enabled + label:hover {\n",
       "  color: var(--xr-font-color0);\n",
       "}\n",
       "\n",
       ".xr-section-summary {\n",
       "  grid-column: 1;\n",
       "  color: var(--xr-font-color2);\n",
       "  font-weight: 500;\n",
       "}\n",
       "\n",
       ".xr-section-summary > span {\n",
       "  display: inline-block;\n",
       "  padding-left: 0.5em;\n",
       "}\n",
       "\n",
       ".xr-section-summary-in:disabled + label {\n",
       "  color: var(--xr-font-color2);\n",
       "}\n",
       "\n",
       ".xr-section-summary-in + label:before {\n",
       "  display: inline-block;\n",
       "  content: '►';\n",
       "  font-size: 11px;\n",
       "  width: 15px;\n",
       "  text-align: center;\n",
       "}\n",
       "\n",
       ".xr-section-summary-in:disabled + label:before {\n",
       "  color: var(--xr-disabled-color);\n",
       "}\n",
       "\n",
       ".xr-section-summary-in:checked + label:before {\n",
       "  content: '▼';\n",
       "}\n",
       "\n",
       ".xr-section-summary-in:checked + label > span {\n",
       "  display: none;\n",
       "}\n",
       "\n",
       ".xr-section-summary,\n",
       ".xr-section-inline-details {\n",
       "  padding-top: 4px;\n",
       "  padding-bottom: 4px;\n",
       "}\n",
       "\n",
       ".xr-section-inline-details {\n",
       "  grid-column: 2 / -1;\n",
       "}\n",
       "\n",
       ".xr-section-details {\n",
       "  display: none;\n",
       "  grid-column: 1 / -1;\n",
       "  margin-bottom: 5px;\n",
       "}\n",
       "\n",
       ".xr-section-summary-in:checked ~ .xr-section-details {\n",
       "  display: contents;\n",
       "}\n",
       "\n",
       ".xr-array-wrap {\n",
       "  grid-column: 1 / -1;\n",
       "  display: grid;\n",
       "  grid-template-columns: 20px auto;\n",
       "}\n",
       "\n",
       ".xr-array-wrap > label {\n",
       "  grid-column: 1;\n",
       "  vertical-align: top;\n",
       "}\n",
       "\n",
       ".xr-preview {\n",
       "  color: var(--xr-font-color3);\n",
       "}\n",
       "\n",
       ".xr-array-preview,\n",
       ".xr-array-data {\n",
       "  padding: 0 5px !important;\n",
       "  grid-column: 2;\n",
       "}\n",
       "\n",
       ".xr-array-data,\n",
       ".xr-array-in:checked ~ .xr-array-preview {\n",
       "  display: none;\n",
       "}\n",
       "\n",
       ".xr-array-in:checked ~ .xr-array-data,\n",
       ".xr-array-preview {\n",
       "  display: inline-block;\n",
       "}\n",
       "\n",
       ".xr-dim-list {\n",
       "  display: inline-block !important;\n",
       "  list-style: none;\n",
       "  padding: 0 !important;\n",
       "  margin: 0;\n",
       "}\n",
       "\n",
       ".xr-dim-list li {\n",
       "  display: inline-block;\n",
       "  padding: 0;\n",
       "  margin: 0;\n",
       "}\n",
       "\n",
       ".xr-dim-list:before {\n",
       "  content: '(';\n",
       "}\n",
       "\n",
       ".xr-dim-list:after {\n",
       "  content: ')';\n",
       "}\n",
       "\n",
       ".xr-dim-list li:not(:last-child):after {\n",
       "  content: ',';\n",
       "  padding-right: 5px;\n",
       "}\n",
       "\n",
       ".xr-has-index {\n",
       "  font-weight: bold;\n",
       "}\n",
       "\n",
       ".xr-var-list,\n",
       ".xr-var-item {\n",
       "  display: contents;\n",
       "}\n",
       "\n",
       ".xr-var-item > div,\n",
       ".xr-var-item label,\n",
       ".xr-var-item > .xr-var-name span {\n",
       "  background-color: var(--xr-background-color-row-even);\n",
       "  margin-bottom: 0;\n",
       "}\n",
       "\n",
       ".xr-var-item > .xr-var-name:hover span {\n",
       "  padding-right: 5px;\n",
       "}\n",
       "\n",
       ".xr-var-list > li:nth-child(odd) > div,\n",
       ".xr-var-list > li:nth-child(odd) > label,\n",
       ".xr-var-list > li:nth-child(odd) > .xr-var-name span {\n",
       "  background-color: var(--xr-background-color-row-odd);\n",
       "}\n",
       "\n",
       ".xr-var-name {\n",
       "  grid-column: 1;\n",
       "}\n",
       "\n",
       ".xr-var-dims {\n",
       "  grid-column: 2;\n",
       "}\n",
       "\n",
       ".xr-var-dtype {\n",
       "  grid-column: 3;\n",
       "  text-align: right;\n",
       "  color: var(--xr-font-color2);\n",
       "}\n",
       "\n",
       ".xr-var-preview {\n",
       "  grid-column: 4;\n",
       "}\n",
       "\n",
       ".xr-index-preview {\n",
       "  grid-column: 2 / 5;\n",
       "  color: var(--xr-font-color2);\n",
       "}\n",
       "\n",
       ".xr-var-name,\n",
       ".xr-var-dims,\n",
       ".xr-var-dtype,\n",
       ".xr-preview,\n",
       ".xr-attrs dt {\n",
       "  white-space: nowrap;\n",
       "  overflow: hidden;\n",
       "  text-overflow: ellipsis;\n",
       "  padding-right: 10px;\n",
       "}\n",
       "\n",
       ".xr-var-name:hover,\n",
       ".xr-var-dims:hover,\n",
       ".xr-var-dtype:hover,\n",
       ".xr-attrs dt:hover {\n",
       "  overflow: visible;\n",
       "  width: auto;\n",
       "  z-index: 1;\n",
       "}\n",
       "\n",
       ".xr-var-attrs,\n",
       ".xr-var-data,\n",
       ".xr-index-data {\n",
       "  display: none;\n",
       "  background-color: var(--xr-background-color) !important;\n",
       "  padding-bottom: 5px !important;\n",
       "}\n",
       "\n",
       ".xr-var-attrs-in:checked ~ .xr-var-attrs,\n",
       ".xr-var-data-in:checked ~ .xr-var-data,\n",
       ".xr-index-data-in:checked ~ .xr-index-data {\n",
       "  display: block;\n",
       "}\n",
       "\n",
       ".xr-var-data > table {\n",
       "  float: right;\n",
       "}\n",
       "\n",
       ".xr-var-name span,\n",
       ".xr-var-data,\n",
       ".xr-index-name div,\n",
       ".xr-index-data,\n",
       ".xr-attrs {\n",
       "  padding-left: 25px !important;\n",
       "}\n",
       "\n",
       ".xr-attrs,\n",
       ".xr-var-attrs,\n",
       ".xr-var-data,\n",
       ".xr-index-data {\n",
       "  grid-column: 1 / -1;\n",
       "}\n",
       "\n",
       "dl.xr-attrs {\n",
       "  padding: 0;\n",
       "  margin: 0;\n",
       "  display: grid;\n",
       "  grid-template-columns: 125px auto;\n",
       "}\n",
       "\n",
       ".xr-attrs dt,\n",
       ".xr-attrs dd {\n",
       "  padding: 0;\n",
       "  margin: 0;\n",
       "  float: left;\n",
       "  padding-right: 10px;\n",
       "  width: auto;\n",
       "}\n",
       "\n",
       ".xr-attrs dt {\n",
       "  font-weight: normal;\n",
       "  grid-column: 1;\n",
       "}\n",
       "\n",
       ".xr-attrs dt:hover span {\n",
       "  display: inline-block;\n",
       "  background: var(--xr-background-color);\n",
       "  padding-right: 10px;\n",
       "}\n",
       "\n",
       ".xr-attrs dd {\n",
       "  grid-column: 2;\n",
       "  white-space: pre-wrap;\n",
       "  word-break: break-all;\n",
       "}\n",
       "\n",
       ".xr-icon-database,\n",
       ".xr-icon-file-text2,\n",
       ".xr-no-icon {\n",
       "  display: inline-block;\n",
       "  vertical-align: middle;\n",
       "  width: 1em;\n",
       "  height: 1.5em !important;\n",
       "  stroke-width: 0;\n",
       "  stroke: currentColor;\n",
       "  fill: currentColor;\n",
       "}\n",
       "</style><pre class='xr-text-repr-fallback'>&lt;xarray.Dataset&gt;\n",
       "Dimensions:    (lead: 125, init: 59, member: 10, bnds: 2, lon: 432, lat: 324)\n",
       "Coordinates:\n",
       "  * lead       (lead) int64 1 2 3 4 5 6 7 8 ... 118 119 120 121 122 123 124 125\n",
       "  * lon        (lon) float64 0.4167 1.25 2.083 2.917 ... 357.1 357.9 358.7 359.6\n",
       "  * lat        (lat) float64 -89.72 -89.17 -88.61 -88.06 ... 88.61 89.17 89.72\n",
       "    height     float64 10.0\n",
       "  * member     (member) &lt;U9 &#x27;r10i1p1f2&#x27; &#x27;r1i1p1f2&#x27; ... &#x27;r8i1p1f2&#x27; &#x27;r9i1p1f2&#x27;\n",
       "  * init       (init) int64 1960 1961 1962 1963 1964 ... 2015 2016 2017 2018\n",
       "Dimensions without coordinates: bnds\n",
       "Data variables:\n",
       "    time_bnds  (init, member, lead, bnds) object dask.array&lt;chunksize=(1, 1, 1, 2), meta=np.ndarray&gt;\n",
       "    lon_bnds   (init, member, lon, bnds) float64 dask.array&lt;chunksize=(1, 1, 432, 2), meta=np.ndarray&gt;\n",
       "    lat_bnds   (init, member, lat, bnds) float64 dask.array&lt;chunksize=(1, 1, 324, 2), meta=np.ndarray&gt;\n",
       "    sfcWind    (init, member, lead, lat, lon) float32 dask.array&lt;chunksize=(1, 1, 1, 324, 432), meta=np.ndarray&gt;\n",
       "Attributes: (12/47)\n",
       "    CDI:                    Climate Data Interface version 2.0.4 (https://mpi...\n",
       "    source:                 HadGEM3-GC31-MM (2016): \\naerosol: UKCA-GLOMAP-mo...\n",
       "    institution:            Met Office Hadley Centre, Fitzroy Road, Exeter, D...\n",
       "    Conventions:            CF-1.7 CMIP-6.2\n",
       "    activity_id:            DCPP\n",
       "    branch_method:          no parent\n",
       "    ...                     ...\n",
       "    variant_label:          r10i1p1f2\n",
       "    license:                CMIP6 model data produced by Met Office Hadley Ce...\n",
       "    cmor_version:           3.4.0\n",
       "    CDO:                    Climate Data Operators version 2.0.4 (https://mpi...\n",
       "    first_month:            1960-11-16 00:00:00\n",
       "    time_axis_type:         Datetime360Day</pre><div class='xr-wrap' style='display:none'><div class='xr-header'><div class='xr-obj-type'>xarray.Dataset</div></div><ul class='xr-sections'><li class='xr-section-item'><input id='section-7264b3a1-9cf0-4d6a-bb6c-0b5bf21f21df' class='xr-section-summary-in' type='checkbox' disabled ><label for='section-7264b3a1-9cf0-4d6a-bb6c-0b5bf21f21df' class='xr-section-summary'  title='Expand/collapse section'>Dimensions:</label><div class='xr-section-inline-details'><ul class='xr-dim-list'><li><span class='xr-has-index'>lead</span>: 125</li><li><span class='xr-has-index'>init</span>: 59</li><li><span class='xr-has-index'>member</span>: 10</li><li><span>bnds</span>: 2</li><li><span class='xr-has-index'>lon</span>: 432</li><li><span class='xr-has-index'>lat</span>: 324</li></ul></div><div class='xr-section-details'></div></li><li class='xr-section-item'><input id='section-da0d08b5-ce3e-408d-aaa3-d9e6060f03f8' class='xr-section-summary-in' type='checkbox'  checked><label for='section-da0d08b5-ce3e-408d-aaa3-d9e6060f03f8' class='xr-section-summary' >Coordinates: <span>(6)</span></label><div class='xr-section-inline-details'></div><div class='xr-section-details'><ul class='xr-var-list'><li class='xr-var-item'><div class='xr-var-name'><span class='xr-has-index'>lead</span></div><div class='xr-var-dims'>(lead)</div><div class='xr-var-dtype'>int64</div><div class='xr-var-preview xr-preview'>1 2 3 4 5 6 ... 121 122 123 124 125</div><input id='attrs-052d5b09-4de3-4f74-915d-c6f804fedcc4' class='xr-var-attrs-in' type='checkbox' disabled><label for='attrs-052d5b09-4de3-4f74-915d-c6f804fedcc4' title='Show/Hide attributes'><svg class='icon xr-icon-file-text2'><use xlink:href='#icon-file-text2'></use></svg></label><input id='data-7f158578-faaf-4963-8561-d3dbf0002e94' class='xr-var-data-in' type='checkbox'><label for='data-7f158578-faaf-4963-8561-d3dbf0002e94' title='Show/Hide data repr'><svg class='icon xr-icon-database'><use xlink:href='#icon-database'></use></svg></label><div class='xr-var-attrs'><dl class='xr-attrs'></dl></div><div class='xr-var-data'><pre>array([  1,   2,   3,   4,   5,   6,   7,   8,   9,  10,  11,  12,  13,  14,\n",
       "        15,  16,  17,  18,  19,  20,  21,  22,  23,  24,  25,  26,  27,  28,\n",
       "        29,  30,  31,  32,  33,  34,  35,  36,  37,  38,  39,  40,  41,  42,\n",
       "        43,  44,  45,  46,  47,  48,  49,  50,  51,  52,  53,  54,  55,  56,\n",
       "        57,  58,  59,  60,  61,  62,  63,  64,  65,  66,  67,  68,  69,  70,\n",
       "        71,  72,  73,  74,  75,  76,  77,  78,  79,  80,  81,  82,  83,  84,\n",
       "        85,  86,  87,  88,  89,  90,  91,  92,  93,  94,  95,  96,  97,  98,\n",
       "        99, 100, 101, 102, 103, 104, 105, 106, 107, 108, 109, 110, 111, 112,\n",
       "       113, 114, 115, 116, 117, 118, 119, 120, 121, 122, 123, 124, 125])</pre></div></li><li class='xr-var-item'><div class='xr-var-name'><span class='xr-has-index'>lon</span></div><div class='xr-var-dims'>(lon)</div><div class='xr-var-dtype'>float64</div><div class='xr-var-preview xr-preview'>0.4167 1.25 2.083 ... 358.7 359.6</div><input id='attrs-737dc244-1e00-4c16-890d-a5659bdba729' class='xr-var-attrs-in' type='checkbox' ><label for='attrs-737dc244-1e00-4c16-890d-a5659bdba729' title='Show/Hide attributes'><svg class='icon xr-icon-file-text2'><use xlink:href='#icon-file-text2'></use></svg></label><input id='data-fe93bccc-a030-4e20-be75-b04e9bd4d087' class='xr-var-data-in' type='checkbox'><label for='data-fe93bccc-a030-4e20-be75-b04e9bd4d087' title='Show/Hide data repr'><svg class='icon xr-icon-database'><use xlink:href='#icon-database'></use></svg></label><div class='xr-var-attrs'><dl class='xr-attrs'><dt><span>standard_name :</span></dt><dd>longitude</dd><dt><span>long_name :</span></dt><dd>Longitude</dd><dt><span>units :</span></dt><dd>degrees_east</dd><dt><span>axis :</span></dt><dd>X</dd><dt><span>bounds :</span></dt><dd>lon_bnds</dd></dl></div><div class='xr-var-data'><pre>array([  0.416667,   1.25    ,   2.083333, ..., 357.916656, 358.749969,\n",
       "       359.583313])</pre></div></li><li class='xr-var-item'><div class='xr-var-name'><span class='xr-has-index'>lat</span></div><div class='xr-var-dims'>(lat)</div><div class='xr-var-dtype'>float64</div><div class='xr-var-preview xr-preview'>-89.72 -89.17 ... 89.17 89.72</div><input id='attrs-61d08b96-f091-4722-9994-86abf9d856c6' class='xr-var-attrs-in' type='checkbox' ><label for='attrs-61d08b96-f091-4722-9994-86abf9d856c6' title='Show/Hide attributes'><svg class='icon xr-icon-file-text2'><use xlink:href='#icon-file-text2'></use></svg></label><input id='data-b90b5573-8fab-4fb6-927f-6b687660c9a4' class='xr-var-data-in' type='checkbox'><label for='data-b90b5573-8fab-4fb6-927f-6b687660c9a4' title='Show/Hide data repr'><svg class='icon xr-icon-database'><use xlink:href='#icon-database'></use></svg></label><div class='xr-var-attrs'><dl class='xr-attrs'><dt><span>standard_name :</span></dt><dd>latitude</dd><dt><span>long_name :</span></dt><dd>Latitude</dd><dt><span>units :</span></dt><dd>degrees_north</dd><dt><span>axis :</span></dt><dd>Y</dd><dt><span>bounds :</span></dt><dd>lat_bnds</dd></dl></div><div class='xr-var-data'><pre>array([-89.722221, -89.166664, -88.611107, ...,  88.611122,  89.166679,\n",
       "        89.722237])</pre></div></li><li class='xr-var-item'><div class='xr-var-name'><span>height</span></div><div class='xr-var-dims'>()</div><div class='xr-var-dtype'>float64</div><div class='xr-var-preview xr-preview'>10.0</div><input id='attrs-cf9d0c6c-6ba4-4e28-98b4-77d7c8941479' class='xr-var-attrs-in' type='checkbox' ><label for='attrs-cf9d0c6c-6ba4-4e28-98b4-77d7c8941479' title='Show/Hide attributes'><svg class='icon xr-icon-file-text2'><use xlink:href='#icon-file-text2'></use></svg></label><input id='data-8e0d13ac-05e0-4fbe-899c-d1933d2e9960' class='xr-var-data-in' type='checkbox'><label for='data-8e0d13ac-05e0-4fbe-899c-d1933d2e9960' title='Show/Hide data repr'><svg class='icon xr-icon-database'><use xlink:href='#icon-database'></use></svg></label><div class='xr-var-attrs'><dl class='xr-attrs'><dt><span>standard_name :</span></dt><dd>height</dd><dt><span>long_name :</span></dt><dd>height</dd><dt><span>units :</span></dt><dd>m</dd><dt><span>positive :</span></dt><dd>up</dd><dt><span>axis :</span></dt><dd>Z</dd></dl></div><div class='xr-var-data'><pre>array(10.)</pre></div></li><li class='xr-var-item'><div class='xr-var-name'><span class='xr-has-index'>member</span></div><div class='xr-var-dims'>(member)</div><div class='xr-var-dtype'>&lt;U9</div><div class='xr-var-preview xr-preview'>&#x27;r10i1p1f2&#x27; ... &#x27;r9i1p1f2&#x27;</div><input id='attrs-13bbbd65-2d19-4f4d-b348-8900e1d96ea4' class='xr-var-attrs-in' type='checkbox' disabled><label for='attrs-13bbbd65-2d19-4f4d-b348-8900e1d96ea4' title='Show/Hide attributes'><svg class='icon xr-icon-file-text2'><use xlink:href='#icon-file-text2'></use></svg></label><input id='data-c11ace0b-c715-4836-b7d7-dcc6ca4ce8d3' class='xr-var-data-in' type='checkbox'><label for='data-c11ace0b-c715-4836-b7d7-dcc6ca4ce8d3' title='Show/Hide data repr'><svg class='icon xr-icon-database'><use xlink:href='#icon-database'></use></svg></label><div class='xr-var-attrs'><dl class='xr-attrs'></dl></div><div class='xr-var-data'><pre>array([&#x27;r10i1p1f2&#x27;, &#x27;r1i1p1f2&#x27;, &#x27;r2i1p1f2&#x27;, &#x27;r3i1p1f2&#x27;, &#x27;r4i1p1f2&#x27;, &#x27;r5i1p1f2&#x27;,\n",
       "       &#x27;r6i1p1f2&#x27;, &#x27;r7i1p1f2&#x27;, &#x27;r8i1p1f2&#x27;, &#x27;r9i1p1f2&#x27;], dtype=&#x27;&lt;U9&#x27;)</pre></div></li><li class='xr-var-item'><div class='xr-var-name'><span class='xr-has-index'>init</span></div><div class='xr-var-dims'>(init)</div><div class='xr-var-dtype'>int64</div><div class='xr-var-preview xr-preview'>1960 1961 1962 ... 2016 2017 2018</div><input id='attrs-8750976b-9acb-4041-9855-07ad589b8a90' class='xr-var-attrs-in' type='checkbox' disabled><label for='attrs-8750976b-9acb-4041-9855-07ad589b8a90' title='Show/Hide attributes'><svg class='icon xr-icon-file-text2'><use xlink:href='#icon-file-text2'></use></svg></label><input id='data-c87f7bdc-ab6d-455e-a405-88c2c44eb497' class='xr-var-data-in' type='checkbox'><label for='data-c87f7bdc-ab6d-455e-a405-88c2c44eb497' title='Show/Hide data repr'><svg class='icon xr-icon-database'><use xlink:href='#icon-database'></use></svg></label><div class='xr-var-attrs'><dl class='xr-attrs'></dl></div><div class='xr-var-data'><pre>array([1960, 1961, 1962, 1963, 1964, 1965, 1966, 1967, 1968, 1969, 1970, 1971,\n",
       "       1972, 1973, 1974, 1975, 1976, 1977, 1978, 1979, 1980, 1981, 1982, 1983,\n",
       "       1984, 1985, 1986, 1987, 1988, 1989, 1990, 1991, 1992, 1993, 1994, 1995,\n",
       "       1996, 1997, 1998, 1999, 2000, 2001, 2002, 2003, 2004, 2005, 2006, 2007,\n",
       "       2008, 2009, 2010, 2011, 2012, 2013, 2014, 2015, 2016, 2017, 2018])</pre></div></li></ul></div></li><li class='xr-section-item'><input id='section-0da8511f-b4d6-47b9-aed2-aa176fb77996' class='xr-section-summary-in' type='checkbox'  checked><label for='section-0da8511f-b4d6-47b9-aed2-aa176fb77996' class='xr-section-summary' >Data variables: <span>(4)</span></label><div class='xr-section-inline-details'></div><div class='xr-section-details'><ul class='xr-var-list'><li class='xr-var-item'><div class='xr-var-name'><span>time_bnds</span></div><div class='xr-var-dims'>(init, member, lead, bnds)</div><div class='xr-var-dtype'>object</div><div class='xr-var-preview xr-preview'>dask.array&lt;chunksize=(1, 1, 1, 2), meta=np.ndarray&gt;</div><input id='attrs-02f0fb31-80d5-4233-a093-960c6333a97d' class='xr-var-attrs-in' type='checkbox' disabled><label for='attrs-02f0fb31-80d5-4233-a093-960c6333a97d' title='Show/Hide attributes'><svg class='icon xr-icon-file-text2'><use xlink:href='#icon-file-text2'></use></svg></label><input id='data-e64fd1be-d047-40d5-8d82-793f1c7550f8' class='xr-var-data-in' type='checkbox'><label for='data-e64fd1be-d047-40d5-8d82-793f1c7550f8' title='Show/Hide data repr'><svg class='icon xr-icon-database'><use xlink:href='#icon-database'></use></svg></label><div class='xr-var-attrs'><dl class='xr-attrs'></dl></div><div class='xr-var-data'><table>\n",
       "    <tr>\n",
       "        <td>\n",
       "            <table style=\"border-collapse: collapse;\">\n",
       "                <thead>\n",
       "                    <tr>\n",
       "                        <td> </td>\n",
       "                        <th> Array </th>\n",
       "                        <th> Chunk </th>\n",
       "                    </tr>\n",
       "                </thead>\n",
       "                <tbody>\n",
       "                    \n",
       "                    <tr>\n",
       "                        <th> Bytes </th>\n",
       "                        <td> 1.13 MiB </td>\n",
       "                        <td> 16 B </td>\n",
       "                    </tr>\n",
       "                    \n",
       "                    <tr>\n",
       "                        <th> Shape </th>\n",
       "                        <td> (59, 10, 125, 2) </td>\n",
       "                        <td> (1, 1, 1, 2) </td>\n",
       "                    </tr>\n",
       "                    <tr>\n",
       "                        <th> Dask graph </th>\n",
       "                        <td colspan=\"2\"> 73750 chunks in 1889 graph layers </td>\n",
       "                    </tr>\n",
       "                    <tr>\n",
       "                        <th> Data type </th>\n",
       "                        <td colspan=\"2\"> object numpy.ndarray </td>\n",
       "                    </tr>\n",
       "                </tbody>\n",
       "            </table>\n",
       "        </td>\n",
       "        <td>\n",
       "        <svg width=\"351\" height=\"191\" style=\"stroke:rgb(0,0,0);stroke-width:1\" >\n",
       "\n",
       "  <!-- Horizontal lines -->\n",
       "  <line x1=\"0\" y1=\"0\" x2=\"56\" y2=\"0\" style=\"stroke-width:2\" />\n",
       "  <line x1=\"0\" y1=\"25\" x2=\"56\" y2=\"25\" style=\"stroke-width:2\" />\n",
       "\n",
       "  <!-- Vertical lines -->\n",
       "  <line x1=\"0\" y1=\"0\" x2=\"0\" y2=\"25\" style=\"stroke-width:2\" />\n",
       "  <line x1=\"0\" y1=\"0\" x2=\"0\" y2=\"25\" />\n",
       "  <line x1=\"2\" y1=\"0\" x2=\"2\" y2=\"25\" />\n",
       "  <line x1=\"4\" y1=\"0\" x2=\"4\" y2=\"25\" />\n",
       "  <line x1=\"6\" y1=\"0\" x2=\"6\" y2=\"25\" />\n",
       "  <line x1=\"8\" y1=\"0\" x2=\"8\" y2=\"25\" />\n",
       "  <line x1=\"10\" y1=\"0\" x2=\"10\" y2=\"25\" />\n",
       "  <line x1=\"11\" y1=\"0\" x2=\"11\" y2=\"25\" />\n",
       "  <line x1=\"13\" y1=\"0\" x2=\"13\" y2=\"25\" />\n",
       "  <line x1=\"15\" y1=\"0\" x2=\"15\" y2=\"25\" />\n",
       "  <line x1=\"17\" y1=\"0\" x2=\"17\" y2=\"25\" />\n",
       "  <line x1=\"19\" y1=\"0\" x2=\"19\" y2=\"25\" />\n",
       "  <line x1=\"21\" y1=\"0\" x2=\"21\" y2=\"25\" />\n",
       "  <line x1=\"22\" y1=\"0\" x2=\"22\" y2=\"25\" />\n",
       "  <line x1=\"23\" y1=\"0\" x2=\"23\" y2=\"25\" />\n",
       "  <line x1=\"25\" y1=\"0\" x2=\"25\" y2=\"25\" />\n",
       "  <line x1=\"27\" y1=\"0\" x2=\"27\" y2=\"25\" />\n",
       "  <line x1=\"29\" y1=\"0\" x2=\"29\" y2=\"25\" />\n",
       "  <line x1=\"31\" y1=\"0\" x2=\"31\" y2=\"25\" />\n",
       "  <line x1=\"33\" y1=\"0\" x2=\"33\" y2=\"25\" />\n",
       "  <line x1=\"34\" y1=\"0\" x2=\"34\" y2=\"25\" />\n",
       "  <line x1=\"36\" y1=\"0\" x2=\"36\" y2=\"25\" />\n",
       "  <line x1=\"38\" y1=\"0\" x2=\"38\" y2=\"25\" />\n",
       "  <line x1=\"40\" y1=\"0\" x2=\"40\" y2=\"25\" />\n",
       "  <line x1=\"42\" y1=\"0\" x2=\"42\" y2=\"25\" />\n",
       "  <line x1=\"44\" y1=\"0\" x2=\"44\" y2=\"25\" />\n",
       "  <line x1=\"45\" y1=\"0\" x2=\"45\" y2=\"25\" />\n",
       "  <line x1=\"47\" y1=\"0\" x2=\"47\" y2=\"25\" />\n",
       "  <line x1=\"48\" y1=\"0\" x2=\"48\" y2=\"25\" />\n",
       "  <line x1=\"50\" y1=\"0\" x2=\"50\" y2=\"25\" />\n",
       "  <line x1=\"52\" y1=\"0\" x2=\"52\" y2=\"25\" />\n",
       "  <line x1=\"54\" y1=\"0\" x2=\"54\" y2=\"25\" />\n",
       "  <line x1=\"56\" y1=\"0\" x2=\"56\" y2=\"25\" style=\"stroke-width:2\" />\n",
       "\n",
       "  <!-- Colored Rectangle -->\n",
       "  <polygon points=\"0.0,0.0 56.63999999999999,0.0 56.63999999999999,25.412616514582485 0.0,25.412616514582485\" style=\"fill:#8B4903A0;stroke-width:0\"/>\n",
       "\n",
       "  <!-- Text -->\n",
       "  <text x=\"28.320000\" y=\"45.412617\" font-size=\"1.0rem\" font-weight=\"100\" text-anchor=\"middle\" >59</text>\n",
       "  <text x=\"76.640000\" y=\"12.706308\" font-size=\"1.0rem\" font-weight=\"100\" text-anchor=\"middle\" transform=\"rotate(0,76.640000,12.706308)\">1</text>\n",
       "\n",
       "\n",
       "  <!-- Horizontal lines -->\n",
       "  <line x1=\"126\" y1=\"0\" x2=\"147\" y2=\"21\" style=\"stroke-width:2\" />\n",
       "  <line x1=\"126\" y1=\"2\" x2=\"147\" y2=\"24\" />\n",
       "  <line x1=\"126\" y1=\"6\" x2=\"147\" y2=\"28\" />\n",
       "  <line x1=\"126\" y1=\"10\" x2=\"147\" y2=\"32\" />\n",
       "  <line x1=\"126\" y1=\"14\" x2=\"147\" y2=\"36\" />\n",
       "  <line x1=\"126\" y1=\"18\" x2=\"147\" y2=\"40\" />\n",
       "  <line x1=\"126\" y1=\"22\" x2=\"147\" y2=\"44\" />\n",
       "  <line x1=\"126\" y1=\"25\" x2=\"147\" y2=\"47\" />\n",
       "  <line x1=\"126\" y1=\"29\" x2=\"147\" y2=\"51\" />\n",
       "  <line x1=\"126\" y1=\"33\" x2=\"147\" y2=\"55\" />\n",
       "  <line x1=\"126\" y1=\"37\" x2=\"147\" y2=\"59\" />\n",
       "  <line x1=\"126\" y1=\"40\" x2=\"147\" y2=\"62\" />\n",
       "  <line x1=\"126\" y1=\"44\" x2=\"147\" y2=\"66\" />\n",
       "  <line x1=\"126\" y1=\"48\" x2=\"147\" y2=\"69\" />\n",
       "  <line x1=\"126\" y1=\"51\" x2=\"147\" y2=\"73\" />\n",
       "  <line x1=\"126\" y1=\"55\" x2=\"147\" y2=\"77\" />\n",
       "  <line x1=\"126\" y1=\"59\" x2=\"147\" y2=\"81\" />\n",
       "  <line x1=\"126\" y1=\"63\" x2=\"147\" y2=\"85\" />\n",
       "  <line x1=\"126\" y1=\"67\" x2=\"147\" y2=\"89\" />\n",
       "  <line x1=\"126\" y1=\"71\" x2=\"147\" y2=\"92\" />\n",
       "  <line x1=\"126\" y1=\"74\" x2=\"147\" y2=\"96\" />\n",
       "  <line x1=\"126\" y1=\"78\" x2=\"147\" y2=\"100\" />\n",
       "  <line x1=\"126\" y1=\"81\" x2=\"147\" y2=\"103\" />\n",
       "  <line x1=\"126\" y1=\"85\" x2=\"147\" y2=\"107\" />\n",
       "  <line x1=\"126\" y1=\"89\" x2=\"147\" y2=\"111\" />\n",
       "  <line x1=\"126\" y1=\"93\" x2=\"147\" y2=\"115\" />\n",
       "  <line x1=\"126\" y1=\"96\" x2=\"147\" y2=\"118\" />\n",
       "  <line x1=\"126\" y1=\"100\" x2=\"147\" y2=\"122\" />\n",
       "  <line x1=\"126\" y1=\"104\" x2=\"147\" y2=\"126\" />\n",
       "  <line x1=\"126\" y1=\"108\" x2=\"147\" y2=\"130\" />\n",
       "  <line x1=\"126\" y1=\"112\" x2=\"147\" y2=\"134\" />\n",
       "  <line x1=\"126\" y1=\"116\" x2=\"147\" y2=\"138\" />\n",
       "  <line x1=\"126\" y1=\"120\" x2=\"147\" y2=\"141\" style=\"stroke-width:2\" />\n",
       "\n",
       "  <!-- Vertical lines -->\n",
       "  <line x1=\"126\" y1=\"0\" x2=\"126\" y2=\"120\" style=\"stroke-width:2\" />\n",
       "  <line x1=\"128\" y1=\"2\" x2=\"128\" y2=\"122\" />\n",
       "  <line x1=\"130\" y1=\"4\" x2=\"130\" y2=\"124\" />\n",
       "  <line x1=\"132\" y1=\"6\" x2=\"132\" y2=\"126\" />\n",
       "  <line x1=\"134\" y1=\"8\" x2=\"134\" y2=\"128\" />\n",
       "  <line x1=\"136\" y1=\"10\" x2=\"136\" y2=\"130\" />\n",
       "  <line x1=\"139\" y1=\"13\" x2=\"139\" y2=\"133\" />\n",
       "  <line x1=\"141\" y1=\"15\" x2=\"141\" y2=\"135\" />\n",
       "  <line x1=\"143\" y1=\"17\" x2=\"143\" y2=\"137\" />\n",
       "  <line x1=\"145\" y1=\"19\" x2=\"145\" y2=\"139\" />\n",
       "  <line x1=\"147\" y1=\"21\" x2=\"147\" y2=\"141\" style=\"stroke-width:2\" />\n",
       "\n",
       "  <!-- Colored Rectangle -->\n",
       "  <polygon points=\"126.0,0.0 147.95680805845672,21.95680805845671 147.95680805845672,141.95680805845672 126.0,120.0\" style=\"fill:#8B4903A0;stroke-width:0\"/>\n",
       "\n",
       "  <!-- Horizontal lines -->\n",
       "  <line x1=\"126\" y1=\"0\" x2=\"153\" y2=\"0\" style=\"stroke-width:2\" />\n",
       "  <line x1=\"128\" y1=\"2\" x2=\"155\" y2=\"2\" />\n",
       "  <line x1=\"130\" y1=\"4\" x2=\"158\" y2=\"4\" />\n",
       "  <line x1=\"132\" y1=\"6\" x2=\"160\" y2=\"6\" />\n",
       "  <line x1=\"134\" y1=\"8\" x2=\"162\" y2=\"8\" />\n",
       "  <line x1=\"136\" y1=\"10\" x2=\"164\" y2=\"10\" />\n",
       "  <line x1=\"139\" y1=\"13\" x2=\"166\" y2=\"13\" />\n",
       "  <line x1=\"141\" y1=\"15\" x2=\"169\" y2=\"15\" />\n",
       "  <line x1=\"143\" y1=\"17\" x2=\"171\" y2=\"17\" />\n",
       "  <line x1=\"145\" y1=\"19\" x2=\"173\" y2=\"19\" />\n",
       "  <line x1=\"147\" y1=\"21\" x2=\"175\" y2=\"21\" style=\"stroke-width:2\" />\n",
       "\n",
       "  <!-- Vertical lines -->\n",
       "  <line x1=\"126\" y1=\"0\" x2=\"147\" y2=\"21\" style=\"stroke-width:2\" />\n",
       "  <line x1=\"153\" y1=\"0\" x2=\"175\" y2=\"21\" style=\"stroke-width:2\" />\n",
       "\n",
       "  <!-- Colored Rectangle -->\n",
       "  <polygon points=\"126.0,0.0 153.80253045737774,0.0 175.75933851583446,21.95680805845671 147.95680805845672,21.95680805845671\" style=\"fill:#ECB172A0;stroke-width:0\"/>\n",
       "\n",
       "  <!-- Horizontal lines -->\n",
       "  <line x1=\"147\" y1=\"21\" x2=\"175\" y2=\"21\" style=\"stroke-width:2\" />\n",
       "  <line x1=\"147\" y1=\"24\" x2=\"175\" y2=\"24\" />\n",
       "  <line x1=\"147\" y1=\"28\" x2=\"175\" y2=\"28\" />\n",
       "  <line x1=\"147\" y1=\"32\" x2=\"175\" y2=\"32\" />\n",
       "  <line x1=\"147\" y1=\"36\" x2=\"175\" y2=\"36\" />\n",
       "  <line x1=\"147\" y1=\"40\" x2=\"175\" y2=\"40\" />\n",
       "  <line x1=\"147\" y1=\"44\" x2=\"175\" y2=\"44\" />\n",
       "  <line x1=\"147\" y1=\"47\" x2=\"175\" y2=\"47\" />\n",
       "  <line x1=\"147\" y1=\"51\" x2=\"175\" y2=\"51\" />\n",
       "  <line x1=\"147\" y1=\"55\" x2=\"175\" y2=\"55\" />\n",
       "  <line x1=\"147\" y1=\"59\" x2=\"175\" y2=\"59\" />\n",
       "  <line x1=\"147\" y1=\"62\" x2=\"175\" y2=\"62\" />\n",
       "  <line x1=\"147\" y1=\"66\" x2=\"175\" y2=\"66\" />\n",
       "  <line x1=\"147\" y1=\"69\" x2=\"175\" y2=\"69\" />\n",
       "  <line x1=\"147\" y1=\"73\" x2=\"175\" y2=\"73\" />\n",
       "  <line x1=\"147\" y1=\"77\" x2=\"175\" y2=\"77\" />\n",
       "  <line x1=\"147\" y1=\"81\" x2=\"175\" y2=\"81\" />\n",
       "  <line x1=\"147\" y1=\"85\" x2=\"175\" y2=\"85\" />\n",
       "  <line x1=\"147\" y1=\"89\" x2=\"175\" y2=\"89\" />\n",
       "  <line x1=\"147\" y1=\"92\" x2=\"175\" y2=\"92\" />\n",
       "  <line x1=\"147\" y1=\"96\" x2=\"175\" y2=\"96\" />\n",
       "  <line x1=\"147\" y1=\"100\" x2=\"175\" y2=\"100\" />\n",
       "  <line x1=\"147\" y1=\"103\" x2=\"175\" y2=\"103\" />\n",
       "  <line x1=\"147\" y1=\"107\" x2=\"175\" y2=\"107\" />\n",
       "  <line x1=\"147\" y1=\"111\" x2=\"175\" y2=\"111\" />\n",
       "  <line x1=\"147\" y1=\"115\" x2=\"175\" y2=\"115\" />\n",
       "  <line x1=\"147\" y1=\"118\" x2=\"175\" y2=\"118\" />\n",
       "  <line x1=\"147\" y1=\"122\" x2=\"175\" y2=\"122\" />\n",
       "  <line x1=\"147\" y1=\"126\" x2=\"175\" y2=\"126\" />\n",
       "  <line x1=\"147\" y1=\"130\" x2=\"175\" y2=\"130\" />\n",
       "  <line x1=\"147\" y1=\"134\" x2=\"175\" y2=\"134\" />\n",
       "  <line x1=\"147\" y1=\"138\" x2=\"175\" y2=\"138\" />\n",
       "  <line x1=\"147\" y1=\"141\" x2=\"175\" y2=\"141\" style=\"stroke-width:2\" />\n",
       "\n",
       "  <!-- Vertical lines -->\n",
       "  <line x1=\"147\" y1=\"21\" x2=\"147\" y2=\"141\" style=\"stroke-width:2\" />\n",
       "  <line x1=\"175\" y1=\"21\" x2=\"175\" y2=\"141\" style=\"stroke-width:2\" />\n",
       "\n",
       "  <!-- Colored Rectangle -->\n",
       "  <polygon points=\"147.95680805845672,21.95680805845671 175.75933851583446,21.95680805845671 175.75933851583446,141.95680805845672 147.95680805845672,141.95680805845672\" style=\"fill:#8B4903A0;stroke-width:0\"/>\n",
       "\n",
       "  <!-- Text -->\n",
       "  <text x=\"161.858073\" y=\"161.956808\" font-size=\"1.0rem\" font-weight=\"100\" text-anchor=\"middle\" >2</text>\n",
       "  <text x=\"195.759339\" y=\"81.956808\" font-size=\"1.0rem\" font-weight=\"100\" text-anchor=\"middle\" transform=\"rotate(-90,195.759339,81.956808)\">125</text>\n",
       "  <text x=\"126.978404\" y=\"150.978404\" font-size=\"1.0rem\" font-weight=\"100\" text-anchor=\"middle\" transform=\"rotate(45,126.978404,150.978404)\">10</text>\n",
       "</svg>\n",
       "        </td>\n",
       "    </tr>\n",
       "</table></div></li><li class='xr-var-item'><div class='xr-var-name'><span>lon_bnds</span></div><div class='xr-var-dims'>(init, member, lon, bnds)</div><div class='xr-var-dtype'>float64</div><div class='xr-var-preview xr-preview'>dask.array&lt;chunksize=(1, 1, 432, 2), meta=np.ndarray&gt;</div><input id='attrs-b3a5fd6a-9113-4b8f-b4b3-5f227c8f3178' class='xr-var-attrs-in' type='checkbox' disabled><label for='attrs-b3a5fd6a-9113-4b8f-b4b3-5f227c8f3178' title='Show/Hide attributes'><svg class='icon xr-icon-file-text2'><use xlink:href='#icon-file-text2'></use></svg></label><input id='data-9b241b88-8d32-411b-bd3d-ad9f2552d4ba' class='xr-var-data-in' type='checkbox'><label for='data-9b241b88-8d32-411b-bd3d-ad9f2552d4ba' title='Show/Hide data repr'><svg class='icon xr-icon-database'><use xlink:href='#icon-database'></use></svg></label><div class='xr-var-attrs'><dl class='xr-attrs'></dl></div><div class='xr-var-data'><table>\n",
       "    <tr>\n",
       "        <td>\n",
       "            <table style=\"border-collapse: collapse;\">\n",
       "                <thead>\n",
       "                    <tr>\n",
       "                        <td> </td>\n",
       "                        <th> Array </th>\n",
       "                        <th> Chunk </th>\n",
       "                    </tr>\n",
       "                </thead>\n",
       "                <tbody>\n",
       "                    \n",
       "                    <tr>\n",
       "                        <th> Bytes </th>\n",
       "                        <td> 3.89 MiB </td>\n",
       "                        <td> 6.75 kiB </td>\n",
       "                    </tr>\n",
       "                    \n",
       "                    <tr>\n",
       "                        <th> Shape </th>\n",
       "                        <td> (59, 10, 432, 2) </td>\n",
       "                        <td> (1, 1, 432, 2) </td>\n",
       "                    </tr>\n",
       "                    <tr>\n",
       "                        <th> Dask graph </th>\n",
       "                        <td colspan=\"2\"> 590 chunks in 1889 graph layers </td>\n",
       "                    </tr>\n",
       "                    <tr>\n",
       "                        <th> Data type </th>\n",
       "                        <td colspan=\"2\"> float64 numpy.ndarray </td>\n",
       "                    </tr>\n",
       "                </tbody>\n",
       "            </table>\n",
       "        </td>\n",
       "        <td>\n",
       "        <svg width=\"312\" height=\"187\" style=\"stroke:rgb(0,0,0);stroke-width:1\" >\n",
       "\n",
       "  <!-- Horizontal lines -->\n",
       "  <line x1=\"0\" y1=\"0\" x2=\"40\" y2=\"0\" style=\"stroke-width:2\" />\n",
       "  <line x1=\"0\" y1=\"25\" x2=\"40\" y2=\"25\" style=\"stroke-width:2\" />\n",
       "\n",
       "  <!-- Vertical lines -->\n",
       "  <line x1=\"0\" y1=\"0\" x2=\"0\" y2=\"25\" style=\"stroke-width:2\" />\n",
       "  <line x1=\"0\" y1=\"0\" x2=\"0\" y2=\"25\" />\n",
       "  <line x1=\"2\" y1=\"0\" x2=\"2\" y2=\"25\" />\n",
       "  <line x1=\"3\" y1=\"0\" x2=\"3\" y2=\"25\" />\n",
       "  <line x1=\"4\" y1=\"0\" x2=\"4\" y2=\"25\" />\n",
       "  <line x1=\"6\" y1=\"0\" x2=\"6\" y2=\"25\" />\n",
       "  <line x1=\"7\" y1=\"0\" x2=\"7\" y2=\"25\" />\n",
       "  <line x1=\"8\" y1=\"0\" x2=\"8\" y2=\"25\" />\n",
       "  <line x1=\"9\" y1=\"0\" x2=\"9\" y2=\"25\" />\n",
       "  <line x1=\"10\" y1=\"0\" x2=\"10\" y2=\"25\" />\n",
       "  <line x1=\"12\" y1=\"0\" x2=\"12\" y2=\"25\" />\n",
       "  <line x1=\"13\" y1=\"0\" x2=\"13\" y2=\"25\" />\n",
       "  <line x1=\"15\" y1=\"0\" x2=\"15\" y2=\"25\" />\n",
       "  <line x1=\"15\" y1=\"0\" x2=\"15\" y2=\"25\" />\n",
       "  <line x1=\"17\" y1=\"0\" x2=\"17\" y2=\"25\" />\n",
       "  <line x1=\"18\" y1=\"0\" x2=\"18\" y2=\"25\" />\n",
       "  <line x1=\"19\" y1=\"0\" x2=\"19\" y2=\"25\" />\n",
       "  <line x1=\"21\" y1=\"0\" x2=\"21\" y2=\"25\" />\n",
       "  <line x1=\"22\" y1=\"0\" x2=\"22\" y2=\"25\" />\n",
       "  <line x1=\"23\" y1=\"0\" x2=\"23\" y2=\"25\" />\n",
       "  <line x1=\"24\" y1=\"0\" x2=\"24\" y2=\"25\" />\n",
       "  <line x1=\"25\" y1=\"0\" x2=\"25\" y2=\"25\" />\n",
       "  <line x1=\"27\" y1=\"0\" x2=\"27\" y2=\"25\" />\n",
       "  <line x1=\"28\" y1=\"0\" x2=\"28\" y2=\"25\" />\n",
       "  <line x1=\"30\" y1=\"0\" x2=\"30\" y2=\"25\" />\n",
       "  <line x1=\"31\" y1=\"0\" x2=\"31\" y2=\"25\" />\n",
       "  <line x1=\"32\" y1=\"0\" x2=\"32\" y2=\"25\" />\n",
       "  <line x1=\"33\" y1=\"0\" x2=\"33\" y2=\"25\" />\n",
       "  <line x1=\"34\" y1=\"0\" x2=\"34\" y2=\"25\" />\n",
       "  <line x1=\"36\" y1=\"0\" x2=\"36\" y2=\"25\" />\n",
       "  <line x1=\"37\" y1=\"0\" x2=\"37\" y2=\"25\" />\n",
       "  <line x1=\"38\" y1=\"0\" x2=\"38\" y2=\"25\" />\n",
       "  <line x1=\"40\" y1=\"0\" x2=\"40\" y2=\"25\" style=\"stroke-width:2\" />\n",
       "\n",
       "  <!-- Colored Rectangle -->\n",
       "  <polygon points=\"0.0,0.0 40.24500511551633,0.0 40.24500511551633,25.412616514582485 0.0,25.412616514582485\" style=\"fill:#8B4903A0;stroke-width:0\"/>\n",
       "\n",
       "  <!-- Text -->\n",
       "  <text x=\"20.122503\" y=\"45.412617\" font-size=\"1.0rem\" font-weight=\"100\" text-anchor=\"middle\" >59</text>\n",
       "  <text x=\"60.245005\" y=\"12.706308\" font-size=\"1.0rem\" font-weight=\"100\" text-anchor=\"middle\" transform=\"rotate(0,60.245005,12.706308)\">1</text>\n",
       "\n",
       "\n",
       "  <!-- Horizontal lines -->\n",
       "  <line x1=\"110\" y1=\"0\" x2=\"127\" y2=\"17\" style=\"stroke-width:2\" />\n",
       "  <line x1=\"110\" y1=\"120\" x2=\"127\" y2=\"137\" style=\"stroke-width:2\" />\n",
       "\n",
       "  <!-- Vertical lines -->\n",
       "  <line x1=\"110\" y1=\"0\" x2=\"110\" y2=\"120\" style=\"stroke-width:2\" />\n",
       "  <line x1=\"111\" y1=\"1\" x2=\"111\" y2=\"121\" />\n",
       "  <line x1=\"113\" y1=\"3\" x2=\"113\" y2=\"123\" />\n",
       "  <line x1=\"115\" y1=\"5\" x2=\"115\" y2=\"125\" />\n",
       "  <line x1=\"117\" y1=\"7\" x2=\"117\" y2=\"127\" />\n",
       "  <line x1=\"118\" y1=\"8\" x2=\"118\" y2=\"128\" />\n",
       "  <line x1=\"120\" y1=\"10\" x2=\"120\" y2=\"130\" />\n",
       "  <line x1=\"122\" y1=\"12\" x2=\"122\" y2=\"132\" />\n",
       "  <line x1=\"124\" y1=\"14\" x2=\"124\" y2=\"134\" />\n",
       "  <line x1=\"125\" y1=\"15\" x2=\"125\" y2=\"135\" />\n",
       "  <line x1=\"127\" y1=\"17\" x2=\"127\" y2=\"137\" style=\"stroke-width:2\" />\n",
       "\n",
       "  <!-- Colored Rectangle -->\n",
       "  <polygon points=\"110.0,0.0 127.5672018319234,17.5672018319234 127.5672018319234,137.5672018319234 110.0,120.0\" style=\"fill:#ECB172A0;stroke-width:0\"/>\n",
       "\n",
       "  <!-- Horizontal lines -->\n",
       "  <line x1=\"110\" y1=\"0\" x2=\"135\" y2=\"0\" style=\"stroke-width:2\" />\n",
       "  <line x1=\"111\" y1=\"1\" x2=\"137\" y2=\"1\" />\n",
       "  <line x1=\"113\" y1=\"3\" x2=\"138\" y2=\"3\" />\n",
       "  <line x1=\"115\" y1=\"5\" x2=\"140\" y2=\"5\" />\n",
       "  <line x1=\"117\" y1=\"7\" x2=\"142\" y2=\"7\" />\n",
       "  <line x1=\"118\" y1=\"8\" x2=\"144\" y2=\"8\" />\n",
       "  <line x1=\"120\" y1=\"10\" x2=\"145\" y2=\"10\" />\n",
       "  <line x1=\"122\" y1=\"12\" x2=\"147\" y2=\"12\" />\n",
       "  <line x1=\"124\" y1=\"14\" x2=\"149\" y2=\"14\" />\n",
       "  <line x1=\"125\" y1=\"15\" x2=\"151\" y2=\"15\" />\n",
       "  <line x1=\"127\" y1=\"17\" x2=\"152\" y2=\"17\" style=\"stroke-width:2\" />\n",
       "\n",
       "  <!-- Vertical lines -->\n",
       "  <line x1=\"110\" y1=\"0\" x2=\"127\" y2=\"17\" style=\"stroke-width:2\" />\n",
       "  <line x1=\"135\" y1=\"0\" x2=\"152\" y2=\"17\" style=\"stroke-width:2\" />\n",
       "\n",
       "  <!-- Colored Rectangle -->\n",
       "  <polygon points=\"110.0,0.0 135.41261651458248,0.0 152.97981834650588,17.5672018319234 127.5672018319234,17.5672018319234\" style=\"fill:#ECB172A0;stroke-width:0\"/>\n",
       "\n",
       "  <!-- Horizontal lines -->\n",
       "  <line x1=\"127\" y1=\"17\" x2=\"152\" y2=\"17\" style=\"stroke-width:2\" />\n",
       "  <line x1=\"127\" y1=\"137\" x2=\"152\" y2=\"137\" style=\"stroke-width:2\" />\n",
       "\n",
       "  <!-- Vertical lines -->\n",
       "  <line x1=\"127\" y1=\"17\" x2=\"127\" y2=\"137\" style=\"stroke-width:2\" />\n",
       "  <line x1=\"152\" y1=\"17\" x2=\"152\" y2=\"137\" style=\"stroke-width:2\" />\n",
       "\n",
       "  <!-- Colored Rectangle -->\n",
       "  <polygon points=\"127.5672018319234,17.5672018319234 152.97981834650588,17.5672018319234 152.97981834650588,137.5672018319234 127.5672018319234,137.5672018319234\" style=\"fill:#ECB172A0;stroke-width:0\"/>\n",
       "\n",
       "  <!-- Text -->\n",
       "  <text x=\"140.273510\" y=\"157.567202\" font-size=\"1.0rem\" font-weight=\"100\" text-anchor=\"middle\" >2</text>\n",
       "  <text x=\"172.979818\" y=\"77.567202\" font-size=\"1.0rem\" font-weight=\"100\" text-anchor=\"middle\" transform=\"rotate(-90,172.979818,77.567202)\">432</text>\n",
       "  <text x=\"108.783601\" y=\"148.783601\" font-size=\"1.0rem\" font-weight=\"100\" text-anchor=\"middle\" transform=\"rotate(45,108.783601,148.783601)\">10</text>\n",
       "</svg>\n",
       "        </td>\n",
       "    </tr>\n",
       "</table></div></li><li class='xr-var-item'><div class='xr-var-name'><span>lat_bnds</span></div><div class='xr-var-dims'>(init, member, lat, bnds)</div><div class='xr-var-dtype'>float64</div><div class='xr-var-preview xr-preview'>dask.array&lt;chunksize=(1, 1, 324, 2), meta=np.ndarray&gt;</div><input id='attrs-c082cfbe-b1bb-4603-8c2d-9072a7fbc784' class='xr-var-attrs-in' type='checkbox' disabled><label for='attrs-c082cfbe-b1bb-4603-8c2d-9072a7fbc784' title='Show/Hide attributes'><svg class='icon xr-icon-file-text2'><use xlink:href='#icon-file-text2'></use></svg></label><input id='data-52079360-4597-4b6d-b258-9b9b0350fa40' class='xr-var-data-in' type='checkbox'><label for='data-52079360-4597-4b6d-b258-9b9b0350fa40' title='Show/Hide data repr'><svg class='icon xr-icon-database'><use xlink:href='#icon-database'></use></svg></label><div class='xr-var-attrs'><dl class='xr-attrs'></dl></div><div class='xr-var-data'><table>\n",
       "    <tr>\n",
       "        <td>\n",
       "            <table style=\"border-collapse: collapse;\">\n",
       "                <thead>\n",
       "                    <tr>\n",
       "                        <td> </td>\n",
       "                        <th> Array </th>\n",
       "                        <th> Chunk </th>\n",
       "                    </tr>\n",
       "                </thead>\n",
       "                <tbody>\n",
       "                    \n",
       "                    <tr>\n",
       "                        <th> Bytes </th>\n",
       "                        <td> 2.92 MiB </td>\n",
       "                        <td> 5.06 kiB </td>\n",
       "                    </tr>\n",
       "                    \n",
       "                    <tr>\n",
       "                        <th> Shape </th>\n",
       "                        <td> (59, 10, 324, 2) </td>\n",
       "                        <td> (1, 1, 324, 2) </td>\n",
       "                    </tr>\n",
       "                    <tr>\n",
       "                        <th> Dask graph </th>\n",
       "                        <td colspan=\"2\"> 590 chunks in 1889 graph layers </td>\n",
       "                    </tr>\n",
       "                    <tr>\n",
       "                        <th> Data type </th>\n",
       "                        <td colspan=\"2\"> float64 numpy.ndarray </td>\n",
       "                    </tr>\n",
       "                </tbody>\n",
       "            </table>\n",
       "        </td>\n",
       "        <td>\n",
       "        <svg width=\"315\" height=\"188\" style=\"stroke:rgb(0,0,0);stroke-width:1\" >\n",
       "\n",
       "  <!-- Horizontal lines -->\n",
       "  <line x1=\"0\" y1=\"0\" x2=\"41\" y2=\"0\" style=\"stroke-width:2\" />\n",
       "  <line x1=\"0\" y1=\"25\" x2=\"41\" y2=\"25\" style=\"stroke-width:2\" />\n",
       "\n",
       "  <!-- Vertical lines -->\n",
       "  <line x1=\"0\" y1=\"0\" x2=\"0\" y2=\"25\" style=\"stroke-width:2\" />\n",
       "  <line x1=\"0\" y1=\"0\" x2=\"0\" y2=\"25\" />\n",
       "  <line x1=\"2\" y1=\"0\" x2=\"2\" y2=\"25\" />\n",
       "  <line x1=\"3\" y1=\"0\" x2=\"3\" y2=\"25\" />\n",
       "  <line x1=\"4\" y1=\"0\" x2=\"4\" y2=\"25\" />\n",
       "  <line x1=\"6\" y1=\"0\" x2=\"6\" y2=\"25\" />\n",
       "  <line x1=\"7\" y1=\"0\" x2=\"7\" y2=\"25\" />\n",
       "  <line x1=\"8\" y1=\"0\" x2=\"8\" y2=\"25\" />\n",
       "  <line x1=\"9\" y1=\"0\" x2=\"9\" y2=\"25\" />\n",
       "  <line x1=\"11\" y1=\"0\" x2=\"11\" y2=\"25\" />\n",
       "  <line x1=\"12\" y1=\"0\" x2=\"12\" y2=\"25\" />\n",
       "  <line x1=\"14\" y1=\"0\" x2=\"14\" y2=\"25\" />\n",
       "  <line x1=\"15\" y1=\"0\" x2=\"15\" y2=\"25\" />\n",
       "  <line x1=\"16\" y1=\"0\" x2=\"16\" y2=\"25\" />\n",
       "  <line x1=\"17\" y1=\"0\" x2=\"17\" y2=\"25\" />\n",
       "  <line x1=\"19\" y1=\"0\" x2=\"19\" y2=\"25\" />\n",
       "  <line x1=\"20\" y1=\"0\" x2=\"20\" y2=\"25\" />\n",
       "  <line x1=\"21\" y1=\"0\" x2=\"21\" y2=\"25\" />\n",
       "  <line x1=\"23\" y1=\"0\" x2=\"23\" y2=\"25\" />\n",
       "  <line x1=\"24\" y1=\"0\" x2=\"24\" y2=\"25\" />\n",
       "  <line x1=\"25\" y1=\"0\" x2=\"25\" y2=\"25\" />\n",
       "  <line x1=\"26\" y1=\"0\" x2=\"26\" y2=\"25\" />\n",
       "  <line x1=\"28\" y1=\"0\" x2=\"28\" y2=\"25\" />\n",
       "  <line x1=\"29\" y1=\"0\" x2=\"29\" y2=\"25\" />\n",
       "  <line x1=\"31\" y1=\"0\" x2=\"31\" y2=\"25\" />\n",
       "  <line x1=\"32\" y1=\"0\" x2=\"32\" y2=\"25\" />\n",
       "  <line x1=\"33\" y1=\"0\" x2=\"33\" y2=\"25\" />\n",
       "  <line x1=\"34\" y1=\"0\" x2=\"34\" y2=\"25\" />\n",
       "  <line x1=\"35\" y1=\"0\" x2=\"35\" y2=\"25\" />\n",
       "  <line x1=\"37\" y1=\"0\" x2=\"37\" y2=\"25\" />\n",
       "  <line x1=\"38\" y1=\"0\" x2=\"38\" y2=\"25\" />\n",
       "  <line x1=\"40\" y1=\"0\" x2=\"40\" y2=\"25\" />\n",
       "  <line x1=\"41\" y1=\"0\" x2=\"41\" y2=\"25\" style=\"stroke-width:2\" />\n",
       "\n",
       "  <!-- Colored Rectangle -->\n",
       "  <polygon points=\"0.0,0.0 41.60415698817658,0.0 41.60415698817658,25.412616514582485 0.0,25.412616514582485\" style=\"fill:#8B4903A0;stroke-width:0\"/>\n",
       "\n",
       "  <!-- Text -->\n",
       "  <text x=\"20.802078\" y=\"45.412617\" font-size=\"1.0rem\" font-weight=\"100\" text-anchor=\"middle\" >59</text>\n",
       "  <text x=\"61.604157\" y=\"12.706308\" font-size=\"1.0rem\" font-weight=\"100\" text-anchor=\"middle\" transform=\"rotate(0,61.604157,12.706308)\">1</text>\n",
       "\n",
       "\n",
       "  <!-- Horizontal lines -->\n",
       "  <line x1=\"111\" y1=\"0\" x2=\"129\" y2=\"18\" style=\"stroke-width:2\" />\n",
       "  <line x1=\"111\" y1=\"120\" x2=\"129\" y2=\"138\" style=\"stroke-width:2\" />\n",
       "\n",
       "  <!-- Vertical lines -->\n",
       "  <line x1=\"111\" y1=\"0\" x2=\"111\" y2=\"120\" style=\"stroke-width:2\" />\n",
       "  <line x1=\"112\" y1=\"1\" x2=\"112\" y2=\"121\" />\n",
       "  <line x1=\"114\" y1=\"3\" x2=\"114\" y2=\"123\" />\n",
       "  <line x1=\"116\" y1=\"5\" x2=\"116\" y2=\"125\" />\n",
       "  <line x1=\"118\" y1=\"7\" x2=\"118\" y2=\"127\" />\n",
       "  <line x1=\"120\" y1=\"9\" x2=\"120\" y2=\"129\" />\n",
       "  <line x1=\"122\" y1=\"11\" x2=\"122\" y2=\"131\" />\n",
       "  <line x1=\"123\" y1=\"12\" x2=\"123\" y2=\"132\" />\n",
       "  <line x1=\"125\" y1=\"14\" x2=\"125\" y2=\"134\" />\n",
       "  <line x1=\"127\" y1=\"16\" x2=\"127\" y2=\"136\" />\n",
       "  <line x1=\"129\" y1=\"18\" x2=\"129\" y2=\"138\" style=\"stroke-width:2\" />\n",
       "\n",
       "  <!-- Colored Rectangle -->\n",
       "  <polygon points=\"111.0,0.0 129.56506343307865,18.565063433078638 129.56506343307865,138.56506343307865 111.0,120.0\" style=\"fill:#ECB172A0;stroke-width:0\"/>\n",
       "\n",
       "  <!-- Horizontal lines -->\n",
       "  <line x1=\"111\" y1=\"0\" x2=\"136\" y2=\"0\" style=\"stroke-width:2\" />\n",
       "  <line x1=\"112\" y1=\"1\" x2=\"138\" y2=\"1\" />\n",
       "  <line x1=\"114\" y1=\"3\" x2=\"140\" y2=\"3\" />\n",
       "  <line x1=\"116\" y1=\"5\" x2=\"141\" y2=\"5\" />\n",
       "  <line x1=\"118\" y1=\"7\" x2=\"143\" y2=\"7\" />\n",
       "  <line x1=\"120\" y1=\"9\" x2=\"145\" y2=\"9\" />\n",
       "  <line x1=\"122\" y1=\"11\" x2=\"147\" y2=\"11\" />\n",
       "  <line x1=\"123\" y1=\"12\" x2=\"149\" y2=\"12\" />\n",
       "  <line x1=\"125\" y1=\"14\" x2=\"151\" y2=\"14\" />\n",
       "  <line x1=\"127\" y1=\"16\" x2=\"153\" y2=\"16\" />\n",
       "  <line x1=\"129\" y1=\"18\" x2=\"154\" y2=\"18\" style=\"stroke-width:2\" />\n",
       "\n",
       "  <!-- Vertical lines -->\n",
       "  <line x1=\"111\" y1=\"0\" x2=\"129\" y2=\"18\" style=\"stroke-width:2\" />\n",
       "  <line x1=\"136\" y1=\"0\" x2=\"154\" y2=\"18\" style=\"stroke-width:2\" />\n",
       "\n",
       "  <!-- Colored Rectangle -->\n",
       "  <polygon points=\"111.0,0.0 136.41261651458248,0.0 154.97767994766113,18.565063433078638 129.56506343307865,18.565063433078638\" style=\"fill:#ECB172A0;stroke-width:0\"/>\n",
       "\n",
       "  <!-- Horizontal lines -->\n",
       "  <line x1=\"129\" y1=\"18\" x2=\"154\" y2=\"18\" style=\"stroke-width:2\" />\n",
       "  <line x1=\"129\" y1=\"138\" x2=\"154\" y2=\"138\" style=\"stroke-width:2\" />\n",
       "\n",
       "  <!-- Vertical lines -->\n",
       "  <line x1=\"129\" y1=\"18\" x2=\"129\" y2=\"138\" style=\"stroke-width:2\" />\n",
       "  <line x1=\"154\" y1=\"18\" x2=\"154\" y2=\"138\" style=\"stroke-width:2\" />\n",
       "\n",
       "  <!-- Colored Rectangle -->\n",
       "  <polygon points=\"129.56506343307865,18.565063433078638 154.97767994766113,18.565063433078638 154.97767994766113,138.56506343307865 129.56506343307865,138.56506343307865\" style=\"fill:#ECB172A0;stroke-width:0\"/>\n",
       "\n",
       "  <!-- Text -->\n",
       "  <text x=\"142.271372\" y=\"158.565063\" font-size=\"1.0rem\" font-weight=\"100\" text-anchor=\"middle\" >2</text>\n",
       "  <text x=\"174.977680\" y=\"78.565063\" font-size=\"1.0rem\" font-weight=\"100\" text-anchor=\"middle\" transform=\"rotate(-90,174.977680,78.565063)\">324</text>\n",
       "  <text x=\"110.282532\" y=\"149.282532\" font-size=\"1.0rem\" font-weight=\"100\" text-anchor=\"middle\" transform=\"rotate(45,110.282532,149.282532)\">10</text>\n",
       "</svg>\n",
       "        </td>\n",
       "    </tr>\n",
       "</table></div></li><li class='xr-var-item'><div class='xr-var-name'><span>sfcWind</span></div><div class='xr-var-dims'>(init, member, lead, lat, lon)</div><div class='xr-var-dtype'>float32</div><div class='xr-var-preview xr-preview'>dask.array&lt;chunksize=(1, 1, 1, 324, 432), meta=np.ndarray&gt;</div><input id='attrs-c707130f-0e86-4f96-bc1d-237814057e73' class='xr-var-attrs-in' type='checkbox' ><label for='attrs-c707130f-0e86-4f96-bc1d-237814057e73' title='Show/Hide attributes'><svg class='icon xr-icon-file-text2'><use xlink:href='#icon-file-text2'></use></svg></label><input id='data-650e4589-eb5f-4b49-b110-0ceceb170f6e' class='xr-var-data-in' type='checkbox'><label for='data-650e4589-eb5f-4b49-b110-0ceceb170f6e' title='Show/Hide data repr'><svg class='icon xr-icon-database'><use xlink:href='#icon-database'></use></svg></label><div class='xr-var-attrs'><dl class='xr-attrs'><dt><span>standard_name :</span></dt><dd>wind_speed</dd><dt><span>long_name :</span></dt><dd>Near-Surface Wind Speed</dd><dt><span>units :</span></dt><dd>m s-1</dd><dt><span>comment :</span></dt><dd>near-surface (usually, 10 meters) wind speed.</dd><dt><span>original_name :</span></dt><dd>mo: (stash: m01s03i230, lbproc: 128)</dd><dt><span>cell_methods :</span></dt><dd>area: time: mean</dd><dt><span>cell_measures :</span></dt><dd>area: areacella</dd><dt><span>history :</span></dt><dd>2020-10-19T15:26:43Z altered by CMOR: Treated scalar dimension: &#x27;height&#x27;.</dd></dl></div><div class='xr-var-data'><table>\n",
       "    <tr>\n",
       "        <td>\n",
       "            <table style=\"border-collapse: collapse;\">\n",
       "                <thead>\n",
       "                    <tr>\n",
       "                        <td> </td>\n",
       "                        <th> Array </th>\n",
       "                        <th> Chunk </th>\n",
       "                    </tr>\n",
       "                </thead>\n",
       "                <tbody>\n",
       "                    \n",
       "                    <tr>\n",
       "                        <th> Bytes </th>\n",
       "                        <td> 38.45 GiB </td>\n",
       "                        <td> 546.75 kiB </td>\n",
       "                    </tr>\n",
       "                    \n",
       "                    <tr>\n",
       "                        <th> Shape </th>\n",
       "                        <td> (59, 10, 125, 324, 432) </td>\n",
       "                        <td> (1, 1, 1, 324, 432) </td>\n",
       "                    </tr>\n",
       "                    <tr>\n",
       "                        <th> Dask graph </th>\n",
       "                        <td colspan=\"2\"> 73750 chunks in 1889 graph layers </td>\n",
       "                    </tr>\n",
       "                    <tr>\n",
       "                        <th> Data type </th>\n",
       "                        <td colspan=\"2\"> float32 numpy.ndarray </td>\n",
       "                    </tr>\n",
       "                </tbody>\n",
       "            </table>\n",
       "        </td>\n",
       "        <td>\n",
       "        <svg width=\"393\" height=\"165\" style=\"stroke:rgb(0,0,0);stroke-width:1\" >\n",
       "\n",
       "  <!-- Horizontal lines -->\n",
       "  <line x1=\"0\" y1=\"0\" x2=\"29\" y2=\"0\" style=\"stroke-width:2\" />\n",
       "  <line x1=\"0\" y1=\"0\" x2=\"29\" y2=\"0\" />\n",
       "  <line x1=\"0\" y1=\"2\" x2=\"29\" y2=\"2\" />\n",
       "  <line x1=\"0\" y1=\"3\" x2=\"29\" y2=\"3\" />\n",
       "  <line x1=\"0\" y1=\"4\" x2=\"29\" y2=\"4\" />\n",
       "  <line x1=\"0\" y1=\"6\" x2=\"29\" y2=\"6\" />\n",
       "  <line x1=\"0\" y1=\"7\" x2=\"29\" y2=\"7\" />\n",
       "  <line x1=\"0\" y1=\"8\" x2=\"29\" y2=\"8\" />\n",
       "  <line x1=\"0\" y1=\"9\" x2=\"29\" y2=\"9\" />\n",
       "  <line x1=\"0\" y1=\"10\" x2=\"29\" y2=\"10\" />\n",
       "  <line x1=\"0\" y1=\"12\" x2=\"29\" y2=\"12\" />\n",
       "  <line x1=\"0\" y1=\"13\" x2=\"29\" y2=\"13\" />\n",
       "  <line x1=\"0\" y1=\"15\" x2=\"29\" y2=\"15\" />\n",
       "  <line x1=\"0\" y1=\"15\" x2=\"29\" y2=\"15\" />\n",
       "  <line x1=\"0\" y1=\"17\" x2=\"29\" y2=\"17\" />\n",
       "  <line x1=\"0\" y1=\"18\" x2=\"29\" y2=\"18\" />\n",
       "  <line x1=\"0\" y1=\"19\" x2=\"29\" y2=\"19\" />\n",
       "  <line x1=\"0\" y1=\"21\" x2=\"29\" y2=\"21\" />\n",
       "  <line x1=\"0\" y1=\"22\" x2=\"29\" y2=\"22\" />\n",
       "  <line x1=\"0\" y1=\"23\" x2=\"29\" y2=\"23\" />\n",
       "  <line x1=\"0\" y1=\"24\" x2=\"29\" y2=\"24\" />\n",
       "  <line x1=\"0\" y1=\"25\" x2=\"29\" y2=\"25\" />\n",
       "  <line x1=\"0\" y1=\"27\" x2=\"29\" y2=\"27\" />\n",
       "  <line x1=\"0\" y1=\"28\" x2=\"29\" y2=\"28\" />\n",
       "  <line x1=\"0\" y1=\"30\" x2=\"29\" y2=\"30\" />\n",
       "  <line x1=\"0\" y1=\"31\" x2=\"29\" y2=\"31\" />\n",
       "  <line x1=\"0\" y1=\"32\" x2=\"29\" y2=\"32\" />\n",
       "  <line x1=\"0\" y1=\"33\" x2=\"29\" y2=\"33\" />\n",
       "  <line x1=\"0\" y1=\"34\" x2=\"29\" y2=\"34\" />\n",
       "  <line x1=\"0\" y1=\"36\" x2=\"29\" y2=\"36\" />\n",
       "  <line x1=\"0\" y1=\"37\" x2=\"29\" y2=\"37\" />\n",
       "  <line x1=\"0\" y1=\"38\" x2=\"29\" y2=\"38\" />\n",
       "  <line x1=\"0\" y1=\"40\" x2=\"29\" y2=\"40\" style=\"stroke-width:2\" />\n",
       "\n",
       "  <!-- Vertical lines -->\n",
       "  <line x1=\"0\" y1=\"0\" x2=\"0\" y2=\"40\" style=\"stroke-width:2\" />\n",
       "  <line x1=\"2\" y1=\"0\" x2=\"2\" y2=\"40\" />\n",
       "  <line x1=\"5\" y1=\"0\" x2=\"5\" y2=\"40\" />\n",
       "  <line x1=\"8\" y1=\"0\" x2=\"8\" y2=\"40\" />\n",
       "  <line x1=\"11\" y1=\"0\" x2=\"11\" y2=\"40\" />\n",
       "  <line x1=\"14\" y1=\"0\" x2=\"14\" y2=\"40\" />\n",
       "  <line x1=\"17\" y1=\"0\" x2=\"17\" y2=\"40\" />\n",
       "  <line x1=\"20\" y1=\"0\" x2=\"20\" y2=\"40\" />\n",
       "  <line x1=\"23\" y1=\"0\" x2=\"23\" y2=\"40\" />\n",
       "  <line x1=\"26\" y1=\"0\" x2=\"26\" y2=\"40\" />\n",
       "  <line x1=\"29\" y1=\"0\" x2=\"29\" y2=\"40\" style=\"stroke-width:2\" />\n",
       "\n",
       "  <!-- Colored Rectangle -->\n",
       "  <polygon points=\"0.0,0.0 29.864243114269776,0.0 29.864243114269776,40.24500511551633 0.0,40.24500511551633\" style=\"fill:#8B4903A0;stroke-width:0\"/>\n",
       "\n",
       "  <!-- Text -->\n",
       "  <text x=\"14.932122\" y=\"60.245005\" font-size=\"1.0rem\" font-weight=\"100\" text-anchor=\"middle\" >10</text>\n",
       "  <text x=\"49.864243\" y=\"20.122503\" font-size=\"1.0rem\" font-weight=\"100\" text-anchor=\"middle\" transform=\"rotate(0,49.864243,20.122503)\">59</text>\n",
       "\n",
       "\n",
       "  <!-- Horizontal lines -->\n",
       "  <line x1=\"99\" y1=\"0\" x2=\"124\" y2=\"25\" style=\"stroke-width:2\" />\n",
       "  <line x1=\"99\" y1=\"90\" x2=\"124\" y2=\"115\" style=\"stroke-width:2\" />\n",
       "\n",
       "  <!-- Vertical lines -->\n",
       "  <line x1=\"99\" y1=\"0\" x2=\"99\" y2=\"90\" style=\"stroke-width:2\" />\n",
       "  <line x1=\"99\" y1=\"0\" x2=\"99\" y2=\"90\" />\n",
       "  <line x1=\"100\" y1=\"1\" x2=\"100\" y2=\"91\" />\n",
       "  <line x1=\"101\" y1=\"2\" x2=\"101\" y2=\"92\" />\n",
       "  <line x1=\"102\" y1=\"3\" x2=\"102\" y2=\"93\" />\n",
       "  <line x1=\"102\" y1=\"3\" x2=\"102\" y2=\"93\" />\n",
       "  <line x1=\"103\" y1=\"4\" x2=\"103\" y2=\"94\" />\n",
       "  <line x1=\"104\" y1=\"5\" x2=\"104\" y2=\"95\" />\n",
       "  <line x1=\"105\" y1=\"6\" x2=\"105\" y2=\"96\" />\n",
       "  <line x1=\"106\" y1=\"7\" x2=\"106\" y2=\"97\" />\n",
       "  <line x1=\"106\" y1=\"7\" x2=\"106\" y2=\"97\" />\n",
       "  <line x1=\"107\" y1=\"8\" x2=\"107\" y2=\"98\" />\n",
       "  <line x1=\"108\" y1=\"9\" x2=\"108\" y2=\"99\" />\n",
       "  <line x1=\"109\" y1=\"10\" x2=\"109\" y2=\"100\" />\n",
       "  <line x1=\"110\" y1=\"11\" x2=\"110\" y2=\"101\" />\n",
       "  <line x1=\"110\" y1=\"11\" x2=\"110\" y2=\"101\" />\n",
       "  <line x1=\"111\" y1=\"12\" x2=\"111\" y2=\"102\" />\n",
       "  <line x1=\"112\" y1=\"13\" x2=\"112\" y2=\"103\" />\n",
       "  <line x1=\"113\" y1=\"14\" x2=\"113\" y2=\"104\" />\n",
       "  <line x1=\"114\" y1=\"15\" x2=\"114\" y2=\"105\" />\n",
       "  <line x1=\"114\" y1=\"15\" x2=\"114\" y2=\"105\" />\n",
       "  <line x1=\"115\" y1=\"16\" x2=\"115\" y2=\"106\" />\n",
       "  <line x1=\"116\" y1=\"17\" x2=\"116\" y2=\"107\" />\n",
       "  <line x1=\"117\" y1=\"18\" x2=\"117\" y2=\"108\" />\n",
       "  <line x1=\"118\" y1=\"19\" x2=\"118\" y2=\"109\" />\n",
       "  <line x1=\"118\" y1=\"19\" x2=\"118\" y2=\"109\" />\n",
       "  <line x1=\"119\" y1=\"20\" x2=\"119\" y2=\"110\" />\n",
       "  <line x1=\"120\" y1=\"21\" x2=\"120\" y2=\"111\" />\n",
       "  <line x1=\"121\" y1=\"22\" x2=\"121\" y2=\"112\" />\n",
       "  <line x1=\"122\" y1=\"23\" x2=\"122\" y2=\"113\" />\n",
       "  <line x1=\"122\" y1=\"23\" x2=\"122\" y2=\"113\" />\n",
       "  <line x1=\"123\" y1=\"24\" x2=\"123\" y2=\"114\" />\n",
       "  <line x1=\"124\" y1=\"25\" x2=\"124\" y2=\"115\" style=\"stroke-width:2\" />\n",
       "\n",
       "  <!-- Colored Rectangle -->\n",
       "  <polygon points=\"99.0,0.0 124.54261256420662,25.542612564206618 124.54261256420662,115.54261256420662 99.0,90.0\" style=\"fill:#8B4903A0;stroke-width:0\"/>\n",
       "\n",
       "  <!-- Horizontal lines -->\n",
       "  <line x1=\"99\" y1=\"0\" x2=\"219\" y2=\"0\" style=\"stroke-width:2\" />\n",
       "  <line x1=\"99\" y1=\"0\" x2=\"219\" y2=\"0\" />\n",
       "  <line x1=\"100\" y1=\"1\" x2=\"220\" y2=\"1\" />\n",
       "  <line x1=\"101\" y1=\"2\" x2=\"221\" y2=\"2\" />\n",
       "  <line x1=\"102\" y1=\"3\" x2=\"222\" y2=\"3\" />\n",
       "  <line x1=\"102\" y1=\"3\" x2=\"222\" y2=\"3\" />\n",
       "  <line x1=\"103\" y1=\"4\" x2=\"223\" y2=\"4\" />\n",
       "  <line x1=\"104\" y1=\"5\" x2=\"224\" y2=\"5\" />\n",
       "  <line x1=\"105\" y1=\"6\" x2=\"225\" y2=\"6\" />\n",
       "  <line x1=\"106\" y1=\"7\" x2=\"226\" y2=\"7\" />\n",
       "  <line x1=\"106\" y1=\"7\" x2=\"226\" y2=\"7\" />\n",
       "  <line x1=\"107\" y1=\"8\" x2=\"227\" y2=\"8\" />\n",
       "  <line x1=\"108\" y1=\"9\" x2=\"228\" y2=\"9\" />\n",
       "  <line x1=\"109\" y1=\"10\" x2=\"229\" y2=\"10\" />\n",
       "  <line x1=\"110\" y1=\"11\" x2=\"230\" y2=\"11\" />\n",
       "  <line x1=\"110\" y1=\"11\" x2=\"230\" y2=\"11\" />\n",
       "  <line x1=\"111\" y1=\"12\" x2=\"231\" y2=\"12\" />\n",
       "  <line x1=\"112\" y1=\"13\" x2=\"232\" y2=\"13\" />\n",
       "  <line x1=\"113\" y1=\"14\" x2=\"233\" y2=\"14\" />\n",
       "  <line x1=\"114\" y1=\"15\" x2=\"234\" y2=\"15\" />\n",
       "  <line x1=\"114\" y1=\"15\" x2=\"234\" y2=\"15\" />\n",
       "  <line x1=\"115\" y1=\"16\" x2=\"235\" y2=\"16\" />\n",
       "  <line x1=\"116\" y1=\"17\" x2=\"236\" y2=\"17\" />\n",
       "  <line x1=\"117\" y1=\"18\" x2=\"237\" y2=\"18\" />\n",
       "  <line x1=\"118\" y1=\"19\" x2=\"238\" y2=\"19\" />\n",
       "  <line x1=\"118\" y1=\"19\" x2=\"238\" y2=\"19\" />\n",
       "  <line x1=\"119\" y1=\"20\" x2=\"239\" y2=\"20\" />\n",
       "  <line x1=\"120\" y1=\"21\" x2=\"240\" y2=\"21\" />\n",
       "  <line x1=\"121\" y1=\"22\" x2=\"241\" y2=\"22\" />\n",
       "  <line x1=\"122\" y1=\"23\" x2=\"242\" y2=\"23\" />\n",
       "  <line x1=\"122\" y1=\"23\" x2=\"242\" y2=\"23\" />\n",
       "  <line x1=\"123\" y1=\"24\" x2=\"243\" y2=\"24\" />\n",
       "  <line x1=\"124\" y1=\"25\" x2=\"244\" y2=\"25\" style=\"stroke-width:2\" />\n",
       "\n",
       "  <!-- Vertical lines -->\n",
       "  <line x1=\"99\" y1=\"0\" x2=\"124\" y2=\"25\" style=\"stroke-width:2\" />\n",
       "  <line x1=\"219\" y1=\"0\" x2=\"244\" y2=\"25\" style=\"stroke-width:2\" />\n",
       "\n",
       "  <!-- Colored Rectangle -->\n",
       "  <polygon points=\"99.0,0.0 219.0,0.0 244.54261256420662,25.542612564206618 124.54261256420662,25.542612564206618\" style=\"fill:#8B4903A0;stroke-width:0\"/>\n",
       "\n",
       "  <!-- Horizontal lines -->\n",
       "  <line x1=\"124\" y1=\"25\" x2=\"244\" y2=\"25\" style=\"stroke-width:2\" />\n",
       "  <line x1=\"124\" y1=\"115\" x2=\"244\" y2=\"115\" style=\"stroke-width:2\" />\n",
       "\n",
       "  <!-- Vertical lines -->\n",
       "  <line x1=\"124\" y1=\"25\" x2=\"124\" y2=\"115\" style=\"stroke-width:2\" />\n",
       "  <line x1=\"244\" y1=\"25\" x2=\"244\" y2=\"115\" style=\"stroke-width:2\" />\n",
       "\n",
       "  <!-- Colored Rectangle -->\n",
       "  <polygon points=\"124.54261256420662,25.542612564206618 244.54261256420662,25.542612564206618 244.54261256420662,115.54261256420662 124.54261256420662,115.54261256420662\" style=\"fill:#ECB172A0;stroke-width:0\"/>\n",
       "\n",
       "  <!-- Text -->\n",
       "  <text x=\"184.542613\" y=\"135.542613\" font-size=\"1.0rem\" font-weight=\"100\" text-anchor=\"middle\" >432</text>\n",
       "  <text x=\"264.542613\" y=\"70.542613\" font-size=\"1.0rem\" font-weight=\"100\" text-anchor=\"middle\" transform=\"rotate(-90,264.542613,70.542613)\">324</text>\n",
       "  <text x=\"101.771306\" y=\"122.771306\" font-size=\"1.0rem\" font-weight=\"100\" text-anchor=\"middle\" transform=\"rotate(45,101.771306,122.771306)\">125</text>\n",
       "</svg>\n",
       "        </td>\n",
       "    </tr>\n",
       "</table></div></li></ul></div></li><li class='xr-section-item'><input id='section-6f593f43-c63b-4b69-b532-032906144648' class='xr-section-summary-in' type='checkbox'  ><label for='section-6f593f43-c63b-4b69-b532-032906144648' class='xr-section-summary' >Indexes: <span>(5)</span></label><div class='xr-section-inline-details'></div><div class='xr-section-details'><ul class='xr-var-list'><li class='xr-var-item'><div class='xr-index-name'><div>lead</div></div><div class='xr-index-preview'>PandasIndex</div><div></div><input id='index-38209b63-40c4-4c6b-83fb-2172d7899cea' class='xr-index-data-in' type='checkbox'/><label for='index-38209b63-40c4-4c6b-83fb-2172d7899cea' title='Show/Hide index repr'><svg class='icon xr-icon-database'><use xlink:href='#icon-database'></use></svg></label><div class='xr-index-data'><pre>PandasIndex(Index([  1,   2,   3,   4,   5,   6,   7,   8,   9,  10,\n",
       "       ...\n",
       "       116, 117, 118, 119, 120, 121, 122, 123, 124, 125],\n",
       "      dtype=&#x27;int64&#x27;, name=&#x27;lead&#x27;, length=125))</pre></div></li><li class='xr-var-item'><div class='xr-index-name'><div>lon</div></div><div class='xr-index-preview'>PandasIndex</div><div></div><input id='index-71e2c3d3-1986-4176-8186-2f07c7667c63' class='xr-index-data-in' type='checkbox'/><label for='index-71e2c3d3-1986-4176-8186-2f07c7667c63' title='Show/Hide index repr'><svg class='icon xr-icon-database'><use xlink:href='#icon-database'></use></svg></label><div class='xr-index-data'><pre>PandasIndex(Index([0.4166666567325592,               1.25, 2.0833332538604736,\n",
       "       2.9166667461395264,               3.75, 4.5833330154418945,\n",
       "        5.416666507720947,  6.249999523162842, 7.0833330154418945,\n",
       "        7.916666507720947,\n",
       "       ...\n",
       "       352.08331298828125,  352.9166564941406,  353.7499694824219,\n",
       "       354.58331298828125,  355.4166564941406,  356.2499694824219,\n",
       "       357.08331298828125,  357.9166564941406,  358.7499694824219,\n",
       "       359.58331298828125],\n",
       "      dtype=&#x27;float64&#x27;, name=&#x27;lon&#x27;, length=432))</pre></div></li><li class='xr-var-item'><div class='xr-index-name'><div>lat</div></div><div class='xr-index-preview'>PandasIndex</div><div></div><input id='index-f8ae664c-9ab8-4c4d-8d27-5a7b721c156d' class='xr-index-data-in' type='checkbox'/><label for='index-f8ae664c-9ab8-4c4d-8d27-5a7b721c156d' title='Show/Hide index repr'><svg class='icon xr-icon-database'><use xlink:href='#icon-database'></use></svg></label><div class='xr-index-data'><pre>PandasIndex(Index([-89.72222137451172, -89.16666412353516,  -88.6111068725586,\n",
       "       -88.05555725097656,              -87.5, -86.94444274902344,\n",
       "       -86.38888549804688, -85.83333587646484, -85.27777862548828,\n",
       "       -84.72222137451172,\n",
       "       ...\n",
       "        84.72223663330078,  85.27779388427734,  85.83333587646484,\n",
       "         86.3888931274414,  86.94445037841797,  87.50000762939453,\n",
       "         88.0555648803711,  88.61112213134766,  89.16667938232422,\n",
       "        89.72223663330078],\n",
       "      dtype=&#x27;float64&#x27;, name=&#x27;lat&#x27;, length=324))</pre></div></li><li class='xr-var-item'><div class='xr-index-name'><div>member</div></div><div class='xr-index-preview'>PandasIndex</div><div></div><input id='index-ca505891-33e5-4981-9889-9cd7cf83642a' class='xr-index-data-in' type='checkbox'/><label for='index-ca505891-33e5-4981-9889-9cd7cf83642a' title='Show/Hide index repr'><svg class='icon xr-icon-database'><use xlink:href='#icon-database'></use></svg></label><div class='xr-index-data'><pre>PandasIndex(Index([&#x27;r10i1p1f2&#x27;, &#x27;r1i1p1f2&#x27;, &#x27;r2i1p1f2&#x27;, &#x27;r3i1p1f2&#x27;, &#x27;r4i1p1f2&#x27;, &#x27;r5i1p1f2&#x27;,\n",
       "       &#x27;r6i1p1f2&#x27;, &#x27;r7i1p1f2&#x27;, &#x27;r8i1p1f2&#x27;, &#x27;r9i1p1f2&#x27;],\n",
       "      dtype=&#x27;object&#x27;, name=&#x27;member&#x27;))</pre></div></li><li class='xr-var-item'><div class='xr-index-name'><div>init</div></div><div class='xr-index-preview'>PandasIndex</div><div></div><input id='index-30426e00-280e-4267-b4ab-7f6db6837386' class='xr-index-data-in' type='checkbox'/><label for='index-30426e00-280e-4267-b4ab-7f6db6837386' title='Show/Hide index repr'><svg class='icon xr-icon-database'><use xlink:href='#icon-database'></use></svg></label><div class='xr-index-data'><pre>PandasIndex(Index([1960, 1961, 1962, 1963, 1964, 1965, 1966, 1967, 1968, 1969, 1970, 1971,\n",
       "       1972, 1973, 1974, 1975, 1976, 1977, 1978, 1979, 1980, 1981, 1982, 1983,\n",
       "       1984, 1985, 1986, 1987, 1988, 1989, 1990, 1991, 1992, 1993, 1994, 1995,\n",
       "       1996, 1997, 1998, 1999, 2000, 2001, 2002, 2003, 2004, 2005, 2006, 2007,\n",
       "       2008, 2009, 2010, 2011, 2012, 2013, 2014, 2015, 2016, 2017, 2018],\n",
       "      dtype=&#x27;int64&#x27;, name=&#x27;init&#x27;))</pre></div></li></ul></div></li><li class='xr-section-item'><input id='section-db68f64b-3c01-46bb-aceb-13b8d7b8ce92' class='xr-section-summary-in' type='checkbox'  ><label for='section-db68f64b-3c01-46bb-aceb-13b8d7b8ce92' class='xr-section-summary' >Attributes: <span>(47)</span></label><div class='xr-section-inline-details'></div><div class='xr-section-details'><dl class='xr-attrs'><dt><span>CDI :</span></dt><dd>Climate Data Interface version 2.0.4 (https://mpimet.mpg.de/cdi)</dd><dt><span>source :</span></dt><dd>HadGEM3-GC31-MM (2016): \n",
       "aerosol: UKCA-GLOMAP-mode\n",
       "atmos: MetUM-HadGEM3-GA7.1 (N216; 432 x 324 longitude/latitude; 85 levels; top level 85 km)\n",
       "atmosChem: none\n",
       "land: JULES-HadGEM3-GL7.1\n",
       "landIce: none\n",
       "ocean: NEMO-HadGEM3-GO6.0 (eORCA025 tripolar primarily 0.25 deg; 1440 x 1205 longitude/latitude; 75 levels; top grid cell 0-1 m)\n",
       "ocnBgchem: none\n",
       "seaIce: CICE-HadGEM3-GSI8 (eORCA025 tripolar primarily 0.25 deg; 1440 x 1205 longitude/latitude)</dd><dt><span>institution :</span></dt><dd>Met Office Hadley Centre, Fitzroy Road, Exeter, Devon, EX1 3PB, UK</dd><dt><span>Conventions :</span></dt><dd>CF-1.7 CMIP-6.2</dd><dt><span>activity_id :</span></dt><dd>DCPP</dd><dt><span>branch_method :</span></dt><dd>no parent</dd><dt><span>branch_time_in_child :</span></dt><dd>0.0</dd><dt><span>branch_time_in_parent :</span></dt><dd>0.0</dd><dt><span>creation_date :</span></dt><dd>2020-10-19T15:26:43Z</dd><dt><span>cv_version :</span></dt><dd>6.2.37.5</dd><dt><span>data_specs_version :</span></dt><dd>01.00.29</dd><dt><span>experiment :</span></dt><dd>hindcast initialized based on observations and using historical forcing</dd><dt><span>experiment_id :</span></dt><dd>dcppA-hindcast</dd><dt><span>external_variables :</span></dt><dd>areacella</dd><dt><span>forcing_index :</span></dt><dd>2</dd><dt><span>frequency :</span></dt><dd>mon</dd><dt><span>further_info_url :</span></dt><dd>https://furtherinfo.es-doc.org/CMIP6.MOHC.HadGEM3-GC31-MM.dcppA-hindcast.s1960.r10i1p1f2</dd><dt><span>grid :</span></dt><dd>N216</dd><dt><span>grid_label :</span></dt><dd>gn</dd><dt><span>history :</span></dt><dd>Fri Aug 11 20:06:20 2023: cdo mergetime /badc/cmip6/data/CMIP6/DCPP/MOHC/HadGEM3-GC31-MM/dcppA-hindcast/s1960-r10i1p1f2/Amon/sfcWind/gn/files/d20200417/sfcWind_Amon_HadGEM3-GC31-MM_dcppA-hindcast_s1960-r10i1p1f2_gn_196011-196012.nc /badc/cmip6/data/CMIP6/DCPP/MOHC/HadGEM3-GC31-MM/dcppA-hindcast/s1960-r10i1p1f2/Amon/sfcWind/gn/files/d20200417/sfcWind_Amon_HadGEM3-GC31-MM_dcppA-hindcast_s1960-r10i1p1f2_gn_196101-196112.nc /badc/cmip6/data/CMIP6/DCPP/MOHC/HadGEM3-GC31-MM/dcppA-hindcast/s1960-r10i1p1f2/Amon/sfcWind/gn/files/d20200417/sfcWind_Amon_HadGEM3-GC31-MM_dcppA-hindcast_s1960-r10i1p1f2_gn_196201-196212.nc /badc/cmip6/data/CMIP6/DCPP/MOHC/HadGEM3-GC31-MM/dcppA-hindcast/s1960-r10i1p1f2/Amon/sfcWind/gn/files/d20200417/sfcWind_Amon_HadGEM3-GC31-MM_dcppA-hindcast_s1960-r10i1p1f2_gn_196301-196312.nc /badc/cmip6/data/CMIP6/DCPP/MOHC/HadGEM3-GC31-MM/dcppA-hindcast/s1960-r10i1p1f2/Amon/sfcWind/gn/files/d20200417/sfcWind_Amon_HadGEM3-GC31-MM_dcppA-hindcast_s1960-r10i1p1f2_gn_196401-196412.nc /badc/cmip6/data/CMIP6/DCPP/MOHC/HadGEM3-GC31-MM/dcppA-hindcast/s1960-r10i1p1f2/Amon/sfcWind/gn/files/d20200417/sfcWind_Amon_HadGEM3-GC31-MM_dcppA-hindcast_s1960-r10i1p1f2_gn_196501-196512.nc /badc/cmip6/data/CMIP6/DCPP/MOHC/HadGEM3-GC31-MM/dcppA-hindcast/s1960-r10i1p1f2/Amon/sfcWind/gn/files/d20200417/sfcWind_Amon_HadGEM3-GC31-MM_dcppA-hindcast_s1960-r10i1p1f2_gn_196601-196612.nc /badc/cmip6/data/CMIP6/DCPP/MOHC/HadGEM3-GC31-MM/dcppA-hindcast/s1960-r10i1p1f2/Amon/sfcWind/gn/files/d20200417/sfcWind_Amon_HadGEM3-GC31-MM_dcppA-hindcast_s1960-r10i1p1f2_gn_196701-196712.nc /badc/cmip6/data/CMIP6/DCPP/MOHC/HadGEM3-GC31-MM/dcppA-hindcast/s1960-r10i1p1f2/Amon/sfcWind/gn/files/d20200417/sfcWind_Amon_HadGEM3-GC31-MM_dcppA-hindcast_s1960-r10i1p1f2_gn_196801-196812.nc /badc/cmip6/data/CMIP6/DCPP/MOHC/HadGEM3-GC31-MM/dcppA-hindcast/s1960-r10i1p1f2/Amon/sfcWind/gn/files/d20200417/sfcWind_Amon_HadGEM3-GC31-MM_dcppA-hindcast_s1960-r10i1p1f2_gn_196901-196912.nc /badc/cmip6/data/CMIP6/DCPP/MOHC/HadGEM3-GC31-MM/dcppA-hindcast/s1960-r10i1p1f2/Amon/sfcWind/gn/files/d20200417/sfcWind_Amon_HadGEM3-GC31-MM_dcppA-hindcast_s1960-r10i1p1f2_gn_197001-197012.nc /badc/cmip6/data/CMIP6/DCPP/MOHC/HadGEM3-GC31-MM/dcppA-hindcast/s1960-r10i1p1f2/Amon/sfcWind/gn/files/d20200417/sfcWind_Amon_HadGEM3-GC31-MM_dcppA-hindcast_s1960-r10i1p1f2_gn_197101-197103.nc /gws/nopw/j04/canari/users/benhutch/dcppA-hindcast/data/sfcWind/HadGEM3-GC31-MM/merged_files/sfcWind_Amon_HadGEM3-GC31-MM_dcppA-hindcast_s1960-r10i1p1f2_gn_196011-197103.nc\n",
       "2020-10-19T15:26:39Z ; CMOR rewrote data to be consistent with CMIP6, CF-1.7 CMIP-6.2 and CF standards.;\n",
       "2020-10-19T15:26:37Z MIP Convert v1.3.3, Python v2.7.16, Iris v2.2.0, Numpy v1.15.4, cftime v1.0.0b1.</dd><dt><span>initialization_index :</span></dt><dd>1</dd><dt><span>institution_id :</span></dt><dd>MOHC</dd><dt><span>mip_era :</span></dt><dd>CMIP6</dd><dt><span>mo_runid :</span></dt><dd>u-av640</dd><dt><span>nominal_resolution :</span></dt><dd>100 km</dd><dt><span>parent_mip_era :</span></dt><dd>CMIP6</dd><dt><span>physics_index :</span></dt><dd>1</dd><dt><span>product :</span></dt><dd>model-output</dd><dt><span>realization_index :</span></dt><dd>10</dd><dt><span>realm :</span></dt><dd>atmos</dd><dt><span>references :</span></dt><dd>Williams, K., et al: The Met Office Global Coupled model 3.0 and 3.1 (GC3.0 &amp; GC3.1) configurations. JAMES, 10, 357-380 (2017).</dd><dt><span>source_id :</span></dt><dd>HadGEM3-GC31-MM</dd><dt><span>source_type :</span></dt><dd>AOGCM AER</dd><dt><span>sub_experiment :</span></dt><dd>initialized near end of year 1960</dd><dt><span>sub_experiment_id :</span></dt><dd>s1960</dd><dt><span>table_id :</span></dt><dd>Amon</dd><dt><span>table_info :</span></dt><dd>Creation Date:(13 December 2018) MD5:f0588f7f55b5732b17302f8d9d0d7b8c</dd><dt><span>title :</span></dt><dd>HadGEM3-GC31-MM output prepared for CMIP6</dd><dt><span>tracking_id :</span></dt><dd>hdl:21.14100/6b4e5041-7e2e-408d-81b9-318c0e173cc6</dd><dt><span>variable_id :</span></dt><dd>sfcWind</dd><dt><span>variable_name :</span></dt><dd>sfcWind</dd><dt><span>variant_label :</span></dt><dd>r10i1p1f2</dd><dt><span>license :</span></dt><dd>CMIP6 model data produced by Met Office Hadley Centre is licensed under a Creative Commons Attribution-ShareAlike 4.0 International License (https://creativecommons.org/licenses). Consult https://pcmdi.llnl.gov/CMIP6/TermsOfUse for terms of use governing CMIP6 output, including citation requirements and proper acknowledgment. Further information about this data, including some limitations, can be found via the further_info_url (recorded as a global attribute in this file) and at https://ukesm.ac.uk/cmip6. The data producers and data providers make no warranty, either express or implied, including, but not limited to, warranties of merchantability and fitness for a particular purpose. All liabilities arising from the supply of the information (including any liability arising in negligence) are excluded to the fullest extent permitted by law.</dd><dt><span>cmor_version :</span></dt><dd>3.4.0</dd><dt><span>CDO :</span></dt><dd>Climate Data Operators version 2.0.4 (https://mpimet.mpg.de/cdo)</dd><dt><span>first_month :</span></dt><dd>1960-11-16 00:00:00</dd><dt><span>time_axis_type :</span></dt><dd>Datetime360Day</dd></dl></div></li></ul></div></div>"
      ],
      "text/plain": [
       "<xarray.Dataset>\n",
       "Dimensions:    (lead: 125, init: 59, member: 10, bnds: 2, lon: 432, lat: 324)\n",
       "Coordinates:\n",
       "  * lead       (lead) int64 1 2 3 4 5 6 7 8 ... 118 119 120 121 122 123 124 125\n",
       "  * lon        (lon) float64 0.4167 1.25 2.083 2.917 ... 357.1 357.9 358.7 359.6\n",
       "  * lat        (lat) float64 -89.72 -89.17 -88.61 -88.06 ... 88.61 89.17 89.72\n",
       "    height     float64 10.0\n",
       "  * member     (member) <U9 'r10i1p1f2' 'r1i1p1f2' ... 'r8i1p1f2' 'r9i1p1f2'\n",
       "  * init       (init) int64 1960 1961 1962 1963 1964 ... 2015 2016 2017 2018\n",
       "Dimensions without coordinates: bnds\n",
       "Data variables:\n",
       "    time_bnds  (init, member, lead, bnds) object dask.array<chunksize=(1, 1, 1, 2), meta=np.ndarray>\n",
       "    lon_bnds   (init, member, lon, bnds) float64 dask.array<chunksize=(1, 1, 432, 2), meta=np.ndarray>\n",
       "    lat_bnds   (init, member, lat, bnds) float64 dask.array<chunksize=(1, 1, 324, 2), meta=np.ndarray>\n",
       "    sfcWind    (init, member, lead, lat, lon) float32 dask.array<chunksize=(1, 1, 1, 324, 432), meta=np.ndarray>\n",
       "Attributes: (12/47)\n",
       "    CDI:                    Climate Data Interface version 2.0.4 (https://mpi...\n",
       "    source:                 HadGEM3-GC31-MM (2016): \\naerosol: UKCA-GLOMAP-mo...\n",
       "    institution:            Met Office Hadley Centre, Fitzroy Road, Exeter, D...\n",
       "    Conventions:            CF-1.7 CMIP-6.2\n",
       "    activity_id:            DCPP\n",
       "    branch_method:          no parent\n",
       "    ...                     ...\n",
       "    variant_label:          r10i1p1f2\n",
       "    license:                CMIP6 model data produced by Met Office Hadley Ce...\n",
       "    cmor_version:           3.4.0\n",
       "    CDO:                    Climate Data Operators version 2.0.4 (https://mpi...\n",
       "    first_month:            1960-11-16 00:00:00\n",
       "    time_axis_type:         Datetime360Day"
      ]
     },
     "execution_count": 20,
     "metadata": {},
     "output_type": "execute_result"
    }
   ],
   "source": [
    "member_ds"
   ]
  },
  {
   "cell_type": "code",
   "execution_count": 21,
   "metadata": {},
   "outputs": [],
   "source": [
    "# Apply mask to the netcdf file to get it into 1D\n",
    "# first we nned to convert to iris\n",
    "member_ds['member'] = member_ds['member'].str[1:-6].astype(int)\n"
   ]
  },
  {
   "cell_type": "code",
   "execution_count": 22,
   "metadata": {},
   "outputs": [],
   "source": [
    "# extract for the variable\n",
    "member_ds_var = member_ds[model_var]"
   ]
  },
  {
   "cell_type": "code",
   "execution_count": 23,
   "metadata": {},
   "outputs": [],
   "source": [
    "member_cube = member_ds_var.squeeze().to_iris()"
   ]
  },
  {
   "cell_type": "code",
   "execution_count": 24,
   "metadata": {},
   "outputs": [
    {
     "data": {
      "text/html": [
       "\n",
       "<style>\n",
       "  a.iris {\n",
       "      text-decoration: none !important;\n",
       "  }\n",
       "  table.iris {\n",
       "      white-space: pre;\n",
       "      border: 1px solid;\n",
       "      border-color: #9c9c9c;\n",
       "      font-family: monaco, monospace;\n",
       "  }\n",
       "  th.iris {\n",
       "      background: #303f3f;\n",
       "      color: #e0e0e0;\n",
       "      border-left: 1px solid;\n",
       "      border-color: #9c9c9c;\n",
       "      font-size: 1.05em;\n",
       "      min-width: 50px;\n",
       "      max-width: 125px;\n",
       "  }\n",
       "  tr.iris :first-child {\n",
       "      border-right: 1px solid #9c9c9c !important;\n",
       "  }\n",
       "  td.iris-title {\n",
       "      background: #d5dcdf;\n",
       "      border-top: 1px solid #9c9c9c;\n",
       "      font-weight: bold;\n",
       "  }\n",
       "  .iris-word-cell {\n",
       "      text-align: left !important;\n",
       "      white-space: pre;\n",
       "  }\n",
       "  .iris-subheading-cell {\n",
       "      padding-left: 2em !important;\n",
       "  }\n",
       "  .iris-inclusion-cell {\n",
       "      padding-right: 1em !important;\n",
       "  }\n",
       "  .iris-panel-body {\n",
       "      padding-top: 0px;\n",
       "  }\n",
       "  .iris-panel-title {\n",
       "      padding-left: 3em;\n",
       "  }\n",
       "  .iris-panel-title {\n",
       "      margin-top: 7px;\n",
       "  }\n",
       "</style>\n",
       "<table class=\"iris\" id=\"140220805466480\">\n",
       "    <tr class=\"iris\">\n",
       "<th class=\"iris iris-word-cell\">Wind Speed (m s-1)</th>\n",
       "<th class=\"iris iris-word-cell\">init</th>\n",
       "<th class=\"iris iris-word-cell\">--</th>\n",
       "<th class=\"iris iris-word-cell\">lead</th>\n",
       "<th class=\"iris iris-word-cell\">latitude</th>\n",
       "<th class=\"iris iris-word-cell\">longitude</th>\n",
       "</tr>\n",
       "    <tr class=\"iris\">\n",
       "<td class=\"iris-word-cell iris-subheading-cell\">Shape</td>\n",
       "<td class=\"iris iris-inclusion-cell\">59</td>\n",
       "<td class=\"iris iris-inclusion-cell\">10</td>\n",
       "<td class=\"iris iris-inclusion-cell\">125</td>\n",
       "<td class=\"iris iris-inclusion-cell\">324</td>\n",
       "<td class=\"iris iris-inclusion-cell\">432</td>\n",
       "</tr>\n",
       "    <tr class=\"iris\">\n",
       "    <td class=\"iris-title iris-word-cell\">Dimension coordinates</td>\n",
       "    <td class=\"iris-title\"></td>\n",
       "    <td class=\"iris-title\"></td>\n",
       "    <td class=\"iris-title\"></td>\n",
       "    <td class=\"iris-title\"></td>\n",
       "    <td class=\"iris-title\"></td>\n",
       "</tr>\n",
       "<tr class=\"iris\">\n",
       "    <td class=\"iris-word-cell iris-subheading-cell\">\tinit</td>\n",
       "    <td class=\"iris-inclusion-cell\">x</td>\n",
       "    <td class=\"iris-inclusion-cell\">-</td>\n",
       "    <td class=\"iris-inclusion-cell\">-</td>\n",
       "    <td class=\"iris-inclusion-cell\">-</td>\n",
       "    <td class=\"iris-inclusion-cell\">-</td>\n",
       "</tr>\n",
       "<tr class=\"iris\">\n",
       "    <td class=\"iris-word-cell iris-subheading-cell\">\tlead</td>\n",
       "    <td class=\"iris-inclusion-cell\">-</td>\n",
       "    <td class=\"iris-inclusion-cell\">-</td>\n",
       "    <td class=\"iris-inclusion-cell\">x</td>\n",
       "    <td class=\"iris-inclusion-cell\">-</td>\n",
       "    <td class=\"iris-inclusion-cell\">-</td>\n",
       "</tr>\n",
       "<tr class=\"iris\">\n",
       "    <td class=\"iris-word-cell iris-subheading-cell\">\tlatitude</td>\n",
       "    <td class=\"iris-inclusion-cell\">-</td>\n",
       "    <td class=\"iris-inclusion-cell\">-</td>\n",
       "    <td class=\"iris-inclusion-cell\">-</td>\n",
       "    <td class=\"iris-inclusion-cell\">x</td>\n",
       "    <td class=\"iris-inclusion-cell\">-</td>\n",
       "</tr>\n",
       "<tr class=\"iris\">\n",
       "    <td class=\"iris-word-cell iris-subheading-cell\">\tlongitude</td>\n",
       "    <td class=\"iris-inclusion-cell\">-</td>\n",
       "    <td class=\"iris-inclusion-cell\">-</td>\n",
       "    <td class=\"iris-inclusion-cell\">-</td>\n",
       "    <td class=\"iris-inclusion-cell\">-</td>\n",
       "    <td class=\"iris-inclusion-cell\">x</td>\n",
       "</tr>\n",
       "<tr class=\"iris\">\n",
       "    <td class=\"iris-title iris-word-cell\">Auxiliary coordinates</td>\n",
       "    <td class=\"iris-title\"></td>\n",
       "    <td class=\"iris-title\"></td>\n",
       "    <td class=\"iris-title\"></td>\n",
       "    <td class=\"iris-title\"></td>\n",
       "    <td class=\"iris-title\"></td>\n",
       "</tr>\n",
       "<tr class=\"iris\">\n",
       "    <td class=\"iris-word-cell iris-subheading-cell\">\tmember</td>\n",
       "    <td class=\"iris-inclusion-cell\">-</td>\n",
       "    <td class=\"iris-inclusion-cell\">x</td>\n",
       "    <td class=\"iris-inclusion-cell\">-</td>\n",
       "    <td class=\"iris-inclusion-cell\">-</td>\n",
       "    <td class=\"iris-inclusion-cell\">-</td>\n",
       "</tr>\n",
       "<tr class=\"iris\">\n",
       "    <td class=\"iris-title iris-word-cell\">Scalar coordinates</td>\n",
       "    <td class=\"iris-title\"></td>\n",
       "    <td class=\"iris-title\"></td>\n",
       "    <td class=\"iris-title\"></td>\n",
       "    <td class=\"iris-title\"></td>\n",
       "    <td class=\"iris-title\"></td>\n",
       "</tr>\n",
       "<tr class=\"iris\">\n",
       "    <td class=\"iris-word-cell iris-subheading-cell\">\theight</td>\n",
       "    <td class=\"iris-word-cell\" colspan=\"5\">10.0 m</td>\n",
       "</tr>\n",
       "<tr class=\"iris\">\n",
       "    <td class=\"iris-title iris-word-cell\">Cell methods</td>\n",
       "    <td class=\"iris-title\"></td>\n",
       "    <td class=\"iris-title\"></td>\n",
       "    <td class=\"iris-title\"></td>\n",
       "    <td class=\"iris-title\"></td>\n",
       "    <td class=\"iris-title\"></td>\n",
       "</tr>\n",
       "<tr class=\"iris\">\n",
       "    <td class=\"iris-word-cell iris-subheading-cell\">\t0</td>\n",
       "    <td class=\"iris-word-cell\" colspan=\"5\">area: time: mean</td>\n",
       "</tr>\n",
       "<tr class=\"iris\">\n",
       "    <td class=\"iris-title iris-word-cell\">Attributes</td>\n",
       "    <td class=\"iris-title\"></td>\n",
       "    <td class=\"iris-title\"></td>\n",
       "    <td class=\"iris-title\"></td>\n",
       "    <td class=\"iris-title\"></td>\n",
       "    <td class=\"iris-title\"></td>\n",
       "</tr>\n",
       "<tr class=\"iris\">\n",
       "    <td class=\"iris-word-cell iris-subheading-cell\">\tcell_measures</td>\n",
       "    <td class=\"iris-word-cell\" colspan=\"5\">&#x27;area: areacella&#x27;</td>\n",
       "</tr>\n",
       "<tr class=\"iris\">\n",
       "    <td class=\"iris-word-cell iris-subheading-cell\">\tcomment</td>\n",
       "    <td class=\"iris-word-cell\" colspan=\"5\">&#x27;near-surface (usually, 10 meters) wind speed.&#x27;</td>\n",
       "</tr>\n",
       "<tr class=\"iris\">\n",
       "    <td class=\"iris-word-cell iris-subheading-cell\">\thistory</td>\n",
       "    <td class=\"iris-word-cell\" colspan=\"5\">&quot;2020-10-19T15:26:43Z altered by CMOR: Treated scalar dimension: &#x27;heigh ...&quot;</td>\n",
       "</tr>\n",
       "<tr class=\"iris\">\n",
       "    <td class=\"iris-word-cell iris-subheading-cell\">\toriginal_name</td>\n",
       "    <td class=\"iris-word-cell\" colspan=\"5\">&#x27;mo: (stash: m01s03i230, lbproc: 128)&#x27;</td>\n",
       "</tr>\n",
       "</table>\n",
       "        "
      ],
      "text/plain": [
       "<iris 'Cube' of wind_speed / (m s-1) (init: 59; -- : 10; lead: 125; latitude: 324; longitude: 432)>"
      ]
     },
     "execution_count": 24,
     "metadata": {},
     "output_type": "execute_result"
    }
   ],
   "source": [
    "member_cube"
   ]
  },
  {
   "cell_type": "code",
   "execution_count": 25,
   "metadata": {},
   "outputs": [],
   "source": [
    "# load in the observed monthly mean 10m wind speed data for comparison\n",
    "ERA5_path = \"/gws/nopw/j04/canari/users/benhutch/ERA5/surface_wind_ERA5.nc\"\n",
    "\n",
    "# Set up the start and end years\n",
    "start_year = 1960\n",
    "end_year = 2019\n",
    "\n",
    "# Load in the data\n",
    "obs = xr.open_mfdataset(\n",
    "    ERA5_path,\n",
    "    combine=\"by_coords\",\n",
    "    parallel=False,\n",
    "    engine=\"netcdf4\",\n",
    ")\n",
    "\n",
    "# Restrict the data to the years we are interested in\n",
    "obs = obs.sel(time=slice(f\"{start_year}-10-01\", f\"{end_year}-03-31\"))\n",
    "\n",
    "# If expver is present in the observations\n",
    "if \"expver\" in obs.coords:\n",
    "    # Combine the first two expver variables\n",
    "    obs = obs.sel(expver=1).combine_first(obs.sel(expver=5))\n"
   ]
  },
  {
   "cell_type": "code",
   "execution_count": 26,
   "metadata": {},
   "outputs": [
    {
     "data": {
      "text/html": [
       "<div><svg style=\"position: absolute; width: 0; height: 0; overflow: hidden\">\n",
       "<defs>\n",
       "<symbol id=\"icon-database\" viewBox=\"0 0 32 32\">\n",
       "<path d=\"M16 0c-8.837 0-16 2.239-16 5v4c0 2.761 7.163 5 16 5s16-2.239 16-5v-4c0-2.761-7.163-5-16-5z\"></path>\n",
       "<path d=\"M16 17c-8.837 0-16-2.239-16-5v6c0 2.761 7.163 5 16 5s16-2.239 16-5v-6c0 2.761-7.163 5-16 5z\"></path>\n",
       "<path d=\"M16 26c-8.837 0-16-2.239-16-5v6c0 2.761 7.163 5 16 5s16-2.239 16-5v-6c0 2.761-7.163 5-16 5z\"></path>\n",
       "</symbol>\n",
       "<symbol id=\"icon-file-text2\" viewBox=\"0 0 32 32\">\n",
       "<path d=\"M28.681 7.159c-0.694-0.947-1.662-2.053-2.724-3.116s-2.169-2.030-3.116-2.724c-1.612-1.182-2.393-1.319-2.841-1.319h-15.5c-1.378 0-2.5 1.121-2.5 2.5v27c0 1.378 1.122 2.5 2.5 2.5h23c1.378 0 2.5-1.122 2.5-2.5v-19.5c0-0.448-0.137-1.23-1.319-2.841zM24.543 5.457c0.959 0.959 1.712 1.825 2.268 2.543h-4.811v-4.811c0.718 0.556 1.584 1.309 2.543 2.268zM28 29.5c0 0.271-0.229 0.5-0.5 0.5h-23c-0.271 0-0.5-0.229-0.5-0.5v-27c0-0.271 0.229-0.5 0.5-0.5 0 0 15.499-0 15.5 0v7c0 0.552 0.448 1 1 1h7v19.5z\"></path>\n",
       "<path d=\"M23 26h-14c-0.552 0-1-0.448-1-1s0.448-1 1-1h14c0.552 0 1 0.448 1 1s-0.448 1-1 1z\"></path>\n",
       "<path d=\"M23 22h-14c-0.552 0-1-0.448-1-1s0.448-1 1-1h14c0.552 0 1 0.448 1 1s-0.448 1-1 1z\"></path>\n",
       "<path d=\"M23 18h-14c-0.552 0-1-0.448-1-1s0.448-1 1-1h14c0.552 0 1 0.448 1 1s-0.448 1-1 1z\"></path>\n",
       "</symbol>\n",
       "</defs>\n",
       "</svg>\n",
       "<style>/* CSS stylesheet for displaying xarray objects in jupyterlab.\n",
       " *\n",
       " */\n",
       "\n",
       ":root {\n",
       "  --xr-font-color0: var(--jp-content-font-color0, rgba(0, 0, 0, 1));\n",
       "  --xr-font-color2: var(--jp-content-font-color2, rgba(0, 0, 0, 0.54));\n",
       "  --xr-font-color3: var(--jp-content-font-color3, rgba(0, 0, 0, 0.38));\n",
       "  --xr-border-color: var(--jp-border-color2, #e0e0e0);\n",
       "  --xr-disabled-color: var(--jp-layout-color3, #bdbdbd);\n",
       "  --xr-background-color: var(--jp-layout-color0, white);\n",
       "  --xr-background-color-row-even: var(--jp-layout-color1, white);\n",
       "  --xr-background-color-row-odd: var(--jp-layout-color2, #eeeeee);\n",
       "}\n",
       "\n",
       "html[theme=dark],\n",
       "body[data-theme=dark],\n",
       "body.vscode-dark {\n",
       "  --xr-font-color0: rgba(255, 255, 255, 1);\n",
       "  --xr-font-color2: rgba(255, 255, 255, 0.54);\n",
       "  --xr-font-color3: rgba(255, 255, 255, 0.38);\n",
       "  --xr-border-color: #1F1F1F;\n",
       "  --xr-disabled-color: #515151;\n",
       "  --xr-background-color: #111111;\n",
       "  --xr-background-color-row-even: #111111;\n",
       "  --xr-background-color-row-odd: #313131;\n",
       "}\n",
       "\n",
       ".xr-wrap {\n",
       "  display: block !important;\n",
       "  min-width: 300px;\n",
       "  max-width: 700px;\n",
       "}\n",
       "\n",
       ".xr-text-repr-fallback {\n",
       "  /* fallback to plain text repr when CSS is not injected (untrusted notebook) */\n",
       "  display: none;\n",
       "}\n",
       "\n",
       ".xr-header {\n",
       "  padding-top: 6px;\n",
       "  padding-bottom: 6px;\n",
       "  margin-bottom: 4px;\n",
       "  border-bottom: solid 1px var(--xr-border-color);\n",
       "}\n",
       "\n",
       ".xr-header > div,\n",
       ".xr-header > ul {\n",
       "  display: inline;\n",
       "  margin-top: 0;\n",
       "  margin-bottom: 0;\n",
       "}\n",
       "\n",
       ".xr-obj-type,\n",
       ".xr-array-name {\n",
       "  margin-left: 2px;\n",
       "  margin-right: 10px;\n",
       "}\n",
       "\n",
       ".xr-obj-type {\n",
       "  color: var(--xr-font-color2);\n",
       "}\n",
       "\n",
       ".xr-sections {\n",
       "  padding-left: 0 !important;\n",
       "  display: grid;\n",
       "  grid-template-columns: 150px auto auto 1fr 20px 20px;\n",
       "}\n",
       "\n",
       ".xr-section-item {\n",
       "  display: contents;\n",
       "}\n",
       "\n",
       ".xr-section-item input {\n",
       "  display: none;\n",
       "}\n",
       "\n",
       ".xr-section-item input + label {\n",
       "  color: var(--xr-disabled-color);\n",
       "}\n",
       "\n",
       ".xr-section-item input:enabled + label {\n",
       "  cursor: pointer;\n",
       "  color: var(--xr-font-color2);\n",
       "}\n",
       "\n",
       ".xr-section-item input:enabled + label:hover {\n",
       "  color: var(--xr-font-color0);\n",
       "}\n",
       "\n",
       ".xr-section-summary {\n",
       "  grid-column: 1;\n",
       "  color: var(--xr-font-color2);\n",
       "  font-weight: 500;\n",
       "}\n",
       "\n",
       ".xr-section-summary > span {\n",
       "  display: inline-block;\n",
       "  padding-left: 0.5em;\n",
       "}\n",
       "\n",
       ".xr-section-summary-in:disabled + label {\n",
       "  color: var(--xr-font-color2);\n",
       "}\n",
       "\n",
       ".xr-section-summary-in + label:before {\n",
       "  display: inline-block;\n",
       "  content: '►';\n",
       "  font-size: 11px;\n",
       "  width: 15px;\n",
       "  text-align: center;\n",
       "}\n",
       "\n",
       ".xr-section-summary-in:disabled + label:before {\n",
       "  color: var(--xr-disabled-color);\n",
       "}\n",
       "\n",
       ".xr-section-summary-in:checked + label:before {\n",
       "  content: '▼';\n",
       "}\n",
       "\n",
       ".xr-section-summary-in:checked + label > span {\n",
       "  display: none;\n",
       "}\n",
       "\n",
       ".xr-section-summary,\n",
       ".xr-section-inline-details {\n",
       "  padding-top: 4px;\n",
       "  padding-bottom: 4px;\n",
       "}\n",
       "\n",
       ".xr-section-inline-details {\n",
       "  grid-column: 2 / -1;\n",
       "}\n",
       "\n",
       ".xr-section-details {\n",
       "  display: none;\n",
       "  grid-column: 1 / -1;\n",
       "  margin-bottom: 5px;\n",
       "}\n",
       "\n",
       ".xr-section-summary-in:checked ~ .xr-section-details {\n",
       "  display: contents;\n",
       "}\n",
       "\n",
       ".xr-array-wrap {\n",
       "  grid-column: 1 / -1;\n",
       "  display: grid;\n",
       "  grid-template-columns: 20px auto;\n",
       "}\n",
       "\n",
       ".xr-array-wrap > label {\n",
       "  grid-column: 1;\n",
       "  vertical-align: top;\n",
       "}\n",
       "\n",
       ".xr-preview {\n",
       "  color: var(--xr-font-color3);\n",
       "}\n",
       "\n",
       ".xr-array-preview,\n",
       ".xr-array-data {\n",
       "  padding: 0 5px !important;\n",
       "  grid-column: 2;\n",
       "}\n",
       "\n",
       ".xr-array-data,\n",
       ".xr-array-in:checked ~ .xr-array-preview {\n",
       "  display: none;\n",
       "}\n",
       "\n",
       ".xr-array-in:checked ~ .xr-array-data,\n",
       ".xr-array-preview {\n",
       "  display: inline-block;\n",
       "}\n",
       "\n",
       ".xr-dim-list {\n",
       "  display: inline-block !important;\n",
       "  list-style: none;\n",
       "  padding: 0 !important;\n",
       "  margin: 0;\n",
       "}\n",
       "\n",
       ".xr-dim-list li {\n",
       "  display: inline-block;\n",
       "  padding: 0;\n",
       "  margin: 0;\n",
       "}\n",
       "\n",
       ".xr-dim-list:before {\n",
       "  content: '(';\n",
       "}\n",
       "\n",
       ".xr-dim-list:after {\n",
       "  content: ')';\n",
       "}\n",
       "\n",
       ".xr-dim-list li:not(:last-child):after {\n",
       "  content: ',';\n",
       "  padding-right: 5px;\n",
       "}\n",
       "\n",
       ".xr-has-index {\n",
       "  font-weight: bold;\n",
       "}\n",
       "\n",
       ".xr-var-list,\n",
       ".xr-var-item {\n",
       "  display: contents;\n",
       "}\n",
       "\n",
       ".xr-var-item > div,\n",
       ".xr-var-item label,\n",
       ".xr-var-item > .xr-var-name span {\n",
       "  background-color: var(--xr-background-color-row-even);\n",
       "  margin-bottom: 0;\n",
       "}\n",
       "\n",
       ".xr-var-item > .xr-var-name:hover span {\n",
       "  padding-right: 5px;\n",
       "}\n",
       "\n",
       ".xr-var-list > li:nth-child(odd) > div,\n",
       ".xr-var-list > li:nth-child(odd) > label,\n",
       ".xr-var-list > li:nth-child(odd) > .xr-var-name span {\n",
       "  background-color: var(--xr-background-color-row-odd);\n",
       "}\n",
       "\n",
       ".xr-var-name {\n",
       "  grid-column: 1;\n",
       "}\n",
       "\n",
       ".xr-var-dims {\n",
       "  grid-column: 2;\n",
       "}\n",
       "\n",
       ".xr-var-dtype {\n",
       "  grid-column: 3;\n",
       "  text-align: right;\n",
       "  color: var(--xr-font-color2);\n",
       "}\n",
       "\n",
       ".xr-var-preview {\n",
       "  grid-column: 4;\n",
       "}\n",
       "\n",
       ".xr-index-preview {\n",
       "  grid-column: 2 / 5;\n",
       "  color: var(--xr-font-color2);\n",
       "}\n",
       "\n",
       ".xr-var-name,\n",
       ".xr-var-dims,\n",
       ".xr-var-dtype,\n",
       ".xr-preview,\n",
       ".xr-attrs dt {\n",
       "  white-space: nowrap;\n",
       "  overflow: hidden;\n",
       "  text-overflow: ellipsis;\n",
       "  padding-right: 10px;\n",
       "}\n",
       "\n",
       ".xr-var-name:hover,\n",
       ".xr-var-dims:hover,\n",
       ".xr-var-dtype:hover,\n",
       ".xr-attrs dt:hover {\n",
       "  overflow: visible;\n",
       "  width: auto;\n",
       "  z-index: 1;\n",
       "}\n",
       "\n",
       ".xr-var-attrs,\n",
       ".xr-var-data,\n",
       ".xr-index-data {\n",
       "  display: none;\n",
       "  background-color: var(--xr-background-color) !important;\n",
       "  padding-bottom: 5px !important;\n",
       "}\n",
       "\n",
       ".xr-var-attrs-in:checked ~ .xr-var-attrs,\n",
       ".xr-var-data-in:checked ~ .xr-var-data,\n",
       ".xr-index-data-in:checked ~ .xr-index-data {\n",
       "  display: block;\n",
       "}\n",
       "\n",
       ".xr-var-data > table {\n",
       "  float: right;\n",
       "}\n",
       "\n",
       ".xr-var-name span,\n",
       ".xr-var-data,\n",
       ".xr-index-name div,\n",
       ".xr-index-data,\n",
       ".xr-attrs {\n",
       "  padding-left: 25px !important;\n",
       "}\n",
       "\n",
       ".xr-attrs,\n",
       ".xr-var-attrs,\n",
       ".xr-var-data,\n",
       ".xr-index-data {\n",
       "  grid-column: 1 / -1;\n",
       "}\n",
       "\n",
       "dl.xr-attrs {\n",
       "  padding: 0;\n",
       "  margin: 0;\n",
       "  display: grid;\n",
       "  grid-template-columns: 125px auto;\n",
       "}\n",
       "\n",
       ".xr-attrs dt,\n",
       ".xr-attrs dd {\n",
       "  padding: 0;\n",
       "  margin: 0;\n",
       "  float: left;\n",
       "  padding-right: 10px;\n",
       "  width: auto;\n",
       "}\n",
       "\n",
       ".xr-attrs dt {\n",
       "  font-weight: normal;\n",
       "  grid-column: 1;\n",
       "}\n",
       "\n",
       ".xr-attrs dt:hover span {\n",
       "  display: inline-block;\n",
       "  background: var(--xr-background-color);\n",
       "  padding-right: 10px;\n",
       "}\n",
       "\n",
       ".xr-attrs dd {\n",
       "  grid-column: 2;\n",
       "  white-space: pre-wrap;\n",
       "  word-break: break-all;\n",
       "}\n",
       "\n",
       ".xr-icon-database,\n",
       ".xr-icon-file-text2,\n",
       ".xr-no-icon {\n",
       "  display: inline-block;\n",
       "  vertical-align: middle;\n",
       "  width: 1em;\n",
       "  height: 1.5em !important;\n",
       "  stroke-width: 0;\n",
       "  stroke: currentColor;\n",
       "  fill: currentColor;\n",
       "}\n",
       "</style><pre class='xr-text-repr-fallback'>&lt;xarray.Dataset&gt;\n",
       "Dimensions:    (time: 702, latitude: 721, longitude: 1440)\n",
       "Coordinates:\n",
       "  * time       (time) datetime64[ns] 1960-10-01 1960-11-01 ... 2019-03-01\n",
       "  * longitude  (longitude) float32 0.0 0.25 0.5 0.75 ... 359.0 359.2 359.5 359.8\n",
       "  * latitude   (latitude) float32 90.0 89.75 89.5 89.25 ... -89.5 -89.75 -90.0\n",
       "Data variables:\n",
       "    si10       (time, latitude, longitude) float32 dask.array&lt;chunksize=(702, 721, 1440), meta=np.ndarray&gt;\n",
       "Attributes:\n",
       "    CDI:          Climate Data Interface version 2.0.5 (https://mpimet.mpg.de...\n",
       "    Conventions:  CF-1.6\n",
       "    history:      Wed Jan 10 16:10:49 2024: cdo selvar,si10 adaptor.mars.inte...\n",
       "    CDO:          Climate Data Operators version 2.0.5 (https://mpimet.mpg.de...</pre><div class='xr-wrap' style='display:none'><div class='xr-header'><div class='xr-obj-type'>xarray.Dataset</div></div><ul class='xr-sections'><li class='xr-section-item'><input id='section-50ff74e2-515c-4666-a2c0-1f6fb1e4c1f2' class='xr-section-summary-in' type='checkbox' disabled ><label for='section-50ff74e2-515c-4666-a2c0-1f6fb1e4c1f2' class='xr-section-summary'  title='Expand/collapse section'>Dimensions:</label><div class='xr-section-inline-details'><ul class='xr-dim-list'><li><span class='xr-has-index'>time</span>: 702</li><li><span class='xr-has-index'>latitude</span>: 721</li><li><span class='xr-has-index'>longitude</span>: 1440</li></ul></div><div class='xr-section-details'></div></li><li class='xr-section-item'><input id='section-597b064f-2334-44a6-b2f3-a96c8612a25d' class='xr-section-summary-in' type='checkbox'  checked><label for='section-597b064f-2334-44a6-b2f3-a96c8612a25d' class='xr-section-summary' >Coordinates: <span>(3)</span></label><div class='xr-section-inline-details'></div><div class='xr-section-details'><ul class='xr-var-list'><li class='xr-var-item'><div class='xr-var-name'><span class='xr-has-index'>time</span></div><div class='xr-var-dims'>(time)</div><div class='xr-var-dtype'>datetime64[ns]</div><div class='xr-var-preview xr-preview'>1960-10-01 ... 2019-03-01</div><input id='attrs-d4635e45-2029-4917-ac8e-a34341b73a69' class='xr-var-attrs-in' type='checkbox' ><label for='attrs-d4635e45-2029-4917-ac8e-a34341b73a69' title='Show/Hide attributes'><svg class='icon xr-icon-file-text2'><use xlink:href='#icon-file-text2'></use></svg></label><input id='data-80602a8c-ffb8-4930-bf48-6ebc1bc80b85' class='xr-var-data-in' type='checkbox'><label for='data-80602a8c-ffb8-4930-bf48-6ebc1bc80b85' title='Show/Hide data repr'><svg class='icon xr-icon-database'><use xlink:href='#icon-database'></use></svg></label><div class='xr-var-attrs'><dl class='xr-attrs'><dt><span>standard_name :</span></dt><dd>time</dd><dt><span>long_name :</span></dt><dd>time</dd><dt><span>axis :</span></dt><dd>T</dd></dl></div><div class='xr-var-data'><pre>array([&#x27;1960-10-01T00:00:00.000000000&#x27;, &#x27;1960-11-01T00:00:00.000000000&#x27;,\n",
       "       &#x27;1960-12-01T00:00:00.000000000&#x27;, ..., &#x27;2019-01-01T00:00:00.000000000&#x27;,\n",
       "       &#x27;2019-02-01T00:00:00.000000000&#x27;, &#x27;2019-03-01T00:00:00.000000000&#x27;],\n",
       "      dtype=&#x27;datetime64[ns]&#x27;)</pre></div></li><li class='xr-var-item'><div class='xr-var-name'><span class='xr-has-index'>longitude</span></div><div class='xr-var-dims'>(longitude)</div><div class='xr-var-dtype'>float32</div><div class='xr-var-preview xr-preview'>0.0 0.25 0.5 ... 359.2 359.5 359.8</div><input id='attrs-f60beb32-45a1-4d3b-b618-82c818b541a8' class='xr-var-attrs-in' type='checkbox' ><label for='attrs-f60beb32-45a1-4d3b-b618-82c818b541a8' title='Show/Hide attributes'><svg class='icon xr-icon-file-text2'><use xlink:href='#icon-file-text2'></use></svg></label><input id='data-a5d3b37c-3825-46c7-acde-67c0642ff3ab' class='xr-var-data-in' type='checkbox'><label for='data-a5d3b37c-3825-46c7-acde-67c0642ff3ab' title='Show/Hide data repr'><svg class='icon xr-icon-database'><use xlink:href='#icon-database'></use></svg></label><div class='xr-var-attrs'><dl class='xr-attrs'><dt><span>standard_name :</span></dt><dd>longitude</dd><dt><span>long_name :</span></dt><dd>longitude</dd><dt><span>units :</span></dt><dd>degrees_east</dd><dt><span>axis :</span></dt><dd>X</dd></dl></div><div class='xr-var-data'><pre>array([0.0000e+00, 2.5000e-01, 5.0000e-01, ..., 3.5925e+02, 3.5950e+02,\n",
       "       3.5975e+02], dtype=float32)</pre></div></li><li class='xr-var-item'><div class='xr-var-name'><span class='xr-has-index'>latitude</span></div><div class='xr-var-dims'>(latitude)</div><div class='xr-var-dtype'>float32</div><div class='xr-var-preview xr-preview'>90.0 89.75 89.5 ... -89.75 -90.0</div><input id='attrs-a5cd006b-9010-4b78-bd28-5b65451a9602' class='xr-var-attrs-in' type='checkbox' ><label for='attrs-a5cd006b-9010-4b78-bd28-5b65451a9602' title='Show/Hide attributes'><svg class='icon xr-icon-file-text2'><use xlink:href='#icon-file-text2'></use></svg></label><input id='data-476b23c5-d91a-44b1-a5d2-ae2c36d1d414' class='xr-var-data-in' type='checkbox'><label for='data-476b23c5-d91a-44b1-a5d2-ae2c36d1d414' title='Show/Hide data repr'><svg class='icon xr-icon-database'><use xlink:href='#icon-database'></use></svg></label><div class='xr-var-attrs'><dl class='xr-attrs'><dt><span>standard_name :</span></dt><dd>latitude</dd><dt><span>long_name :</span></dt><dd>latitude</dd><dt><span>units :</span></dt><dd>degrees_north</dd><dt><span>axis :</span></dt><dd>Y</dd></dl></div><div class='xr-var-data'><pre>array([ 90.  ,  89.75,  89.5 , ..., -89.5 , -89.75, -90.  ], dtype=float32)</pre></div></li></ul></div></li><li class='xr-section-item'><input id='section-40c8bfae-e3a4-4f6d-9e15-32dae738cb8c' class='xr-section-summary-in' type='checkbox'  checked><label for='section-40c8bfae-e3a4-4f6d-9e15-32dae738cb8c' class='xr-section-summary' >Data variables: <span>(1)</span></label><div class='xr-section-inline-details'></div><div class='xr-section-details'><ul class='xr-var-list'><li class='xr-var-item'><div class='xr-var-name'><span>si10</span></div><div class='xr-var-dims'>(time, latitude, longitude)</div><div class='xr-var-dtype'>float32</div><div class='xr-var-preview xr-preview'>dask.array&lt;chunksize=(702, 721, 1440), meta=np.ndarray&gt;</div><input id='attrs-0551509b-bd48-4ff8-8a48-668f47fe3f75' class='xr-var-attrs-in' type='checkbox' ><label for='attrs-0551509b-bd48-4ff8-8a48-668f47fe3f75' title='Show/Hide attributes'><svg class='icon xr-icon-file-text2'><use xlink:href='#icon-file-text2'></use></svg></label><input id='data-325136bf-7f12-4135-805f-667b09ebdaae' class='xr-var-data-in' type='checkbox'><label for='data-325136bf-7f12-4135-805f-667b09ebdaae' title='Show/Hide data repr'><svg class='icon xr-icon-database'><use xlink:href='#icon-database'></use></svg></label><div class='xr-var-attrs'><dl class='xr-attrs'><dt><span>long_name :</span></dt><dd>10 metre wind speed</dd><dt><span>units :</span></dt><dd>m s**-1</dd></dl></div><div class='xr-var-data'><table>\n",
       "    <tr>\n",
       "        <td>\n",
       "            <table style=\"border-collapse: collapse;\">\n",
       "                <thead>\n",
       "                    <tr>\n",
       "                        <td> </td>\n",
       "                        <th> Array </th>\n",
       "                        <th> Chunk </th>\n",
       "                    </tr>\n",
       "                </thead>\n",
       "                <tbody>\n",
       "                    \n",
       "                    <tr>\n",
       "                        <th> Bytes </th>\n",
       "                        <td> 2.72 GiB </td>\n",
       "                        <td> 2.72 GiB </td>\n",
       "                    </tr>\n",
       "                    \n",
       "                    <tr>\n",
       "                        <th> Shape </th>\n",
       "                        <td> (702, 721, 1440) </td>\n",
       "                        <td> (702, 721, 1440) </td>\n",
       "                    </tr>\n",
       "                    <tr>\n",
       "                        <th> Dask graph </th>\n",
       "                        <td colspan=\"2\"> 1 chunks in 8 graph layers </td>\n",
       "                    </tr>\n",
       "                    <tr>\n",
       "                        <th> Data type </th>\n",
       "                        <td colspan=\"2\"> float32 numpy.ndarray </td>\n",
       "                    </tr>\n",
       "                </tbody>\n",
       "            </table>\n",
       "        </td>\n",
       "        <td>\n",
       "        <svg width=\"214\" height=\"144\" style=\"stroke:rgb(0,0,0);stroke-width:1\" >\n",
       "\n",
       "  <!-- Horizontal lines -->\n",
       "  <line x1=\"10\" y1=\"0\" x2=\"44\" y2=\"34\" style=\"stroke-width:2\" />\n",
       "  <line x1=\"10\" y1=\"60\" x2=\"44\" y2=\"94\" style=\"stroke-width:2\" />\n",
       "\n",
       "  <!-- Vertical lines -->\n",
       "  <line x1=\"10\" y1=\"0\" x2=\"10\" y2=\"60\" style=\"stroke-width:2\" />\n",
       "  <line x1=\"44\" y1=\"34\" x2=\"44\" y2=\"94\" style=\"stroke-width:2\" />\n",
       "\n",
       "  <!-- Colored Rectangle -->\n",
       "  <polygon points=\"10.0,0.0 44.411764705882355,34.411764705882355 44.411764705882355,94.49509803921569 10.0,60.083333333333336\" style=\"fill:#ECB172A0;stroke-width:0\"/>\n",
       "\n",
       "  <!-- Horizontal lines -->\n",
       "  <line x1=\"10\" y1=\"0\" x2=\"130\" y2=\"0\" style=\"stroke-width:2\" />\n",
       "  <line x1=\"44\" y1=\"34\" x2=\"164\" y2=\"34\" style=\"stroke-width:2\" />\n",
       "\n",
       "  <!-- Vertical lines -->\n",
       "  <line x1=\"10\" y1=\"0\" x2=\"44\" y2=\"34\" style=\"stroke-width:2\" />\n",
       "  <line x1=\"130\" y1=\"0\" x2=\"164\" y2=\"34\" style=\"stroke-width:2\" />\n",
       "\n",
       "  <!-- Colored Rectangle -->\n",
       "  <polygon points=\"10.0,0.0 130.0,0.0 164.41176470588235,34.411764705882355 44.411764705882355,34.411764705882355\" style=\"fill:#ECB172A0;stroke-width:0\"/>\n",
       "\n",
       "  <!-- Horizontal lines -->\n",
       "  <line x1=\"44\" y1=\"34\" x2=\"164\" y2=\"34\" style=\"stroke-width:2\" />\n",
       "  <line x1=\"44\" y1=\"94\" x2=\"164\" y2=\"94\" style=\"stroke-width:2\" />\n",
       "\n",
       "  <!-- Vertical lines -->\n",
       "  <line x1=\"44\" y1=\"34\" x2=\"44\" y2=\"94\" style=\"stroke-width:2\" />\n",
       "  <line x1=\"164\" y1=\"34\" x2=\"164\" y2=\"94\" style=\"stroke-width:2\" />\n",
       "\n",
       "  <!-- Colored Rectangle -->\n",
       "  <polygon points=\"44.411764705882355,34.411764705882355 164.41176470588235,34.411764705882355 164.41176470588235,94.49509803921569 44.411764705882355,94.49509803921569\" style=\"fill:#ECB172A0;stroke-width:0\"/>\n",
       "\n",
       "  <!-- Text -->\n",
       "  <text x=\"104.411765\" y=\"114.495098\" font-size=\"1.0rem\" font-weight=\"100\" text-anchor=\"middle\" >1440</text>\n",
       "  <text x=\"184.411765\" y=\"64.453431\" font-size=\"1.0rem\" font-weight=\"100\" text-anchor=\"middle\" transform=\"rotate(-90,184.411765,64.453431)\">721</text>\n",
       "  <text x=\"17.205882\" y=\"97.289216\" font-size=\"1.0rem\" font-weight=\"100\" text-anchor=\"middle\" transform=\"rotate(45,17.205882,97.289216)\">702</text>\n",
       "</svg>\n",
       "        </td>\n",
       "    </tr>\n",
       "</table></div></li></ul></div></li><li class='xr-section-item'><input id='section-63c3c1ba-27c8-488e-a821-49d529397660' class='xr-section-summary-in' type='checkbox'  ><label for='section-63c3c1ba-27c8-488e-a821-49d529397660' class='xr-section-summary' >Indexes: <span>(3)</span></label><div class='xr-section-inline-details'></div><div class='xr-section-details'><ul class='xr-var-list'><li class='xr-var-item'><div class='xr-index-name'><div>time</div></div><div class='xr-index-preview'>PandasIndex</div><div></div><input id='index-e2228fbc-dfa9-4362-8f51-78d5aec89bbb' class='xr-index-data-in' type='checkbox'/><label for='index-e2228fbc-dfa9-4362-8f51-78d5aec89bbb' title='Show/Hide index repr'><svg class='icon xr-icon-database'><use xlink:href='#icon-database'></use></svg></label><div class='xr-index-data'><pre>PandasIndex(DatetimeIndex([&#x27;1960-10-01&#x27;, &#x27;1960-11-01&#x27;, &#x27;1960-12-01&#x27;, &#x27;1961-01-01&#x27;,\n",
       "               &#x27;1961-02-01&#x27;, &#x27;1961-03-01&#x27;, &#x27;1961-04-01&#x27;, &#x27;1961-05-01&#x27;,\n",
       "               &#x27;1961-06-01&#x27;, &#x27;1961-07-01&#x27;,\n",
       "               ...\n",
       "               &#x27;2018-06-01&#x27;, &#x27;2018-07-01&#x27;, &#x27;2018-08-01&#x27;, &#x27;2018-09-01&#x27;,\n",
       "               &#x27;2018-10-01&#x27;, &#x27;2018-11-01&#x27;, &#x27;2018-12-01&#x27;, &#x27;2019-01-01&#x27;,\n",
       "               &#x27;2019-02-01&#x27;, &#x27;2019-03-01&#x27;],\n",
       "              dtype=&#x27;datetime64[ns]&#x27;, name=&#x27;time&#x27;, length=702, freq=None))</pre></div></li><li class='xr-var-item'><div class='xr-index-name'><div>longitude</div></div><div class='xr-index-preview'>PandasIndex</div><div></div><input id='index-32c9cfc3-766d-4a01-b0e8-479905c475b8' class='xr-index-data-in' type='checkbox'/><label for='index-32c9cfc3-766d-4a01-b0e8-479905c475b8' title='Show/Hide index repr'><svg class='icon xr-icon-database'><use xlink:href='#icon-database'></use></svg></label><div class='xr-index-data'><pre>PandasIndex(Index([   0.0,   0.25,    0.5,   0.75,    1.0,   1.25,    1.5,   1.75,    2.0,\n",
       "         2.25,\n",
       "       ...\n",
       "        357.5, 357.75,  358.0, 358.25,  358.5, 358.75,  359.0, 359.25,  359.5,\n",
       "       359.75],\n",
       "      dtype=&#x27;float32&#x27;, name=&#x27;longitude&#x27;, length=1440))</pre></div></li><li class='xr-var-item'><div class='xr-index-name'><div>latitude</div></div><div class='xr-index-preview'>PandasIndex</div><div></div><input id='index-b37bb512-e099-4330-ad5a-e490e8ab3c49' class='xr-index-data-in' type='checkbox'/><label for='index-b37bb512-e099-4330-ad5a-e490e8ab3c49' title='Show/Hide index repr'><svg class='icon xr-icon-database'><use xlink:href='#icon-database'></use></svg></label><div class='xr-index-data'><pre>PandasIndex(Index([  90.0,  89.75,   89.5,  89.25,   89.0,  88.75,   88.5,  88.25,   88.0,\n",
       "        87.75,\n",
       "       ...\n",
       "       -87.75,  -88.0, -88.25,  -88.5, -88.75,  -89.0, -89.25,  -89.5, -89.75,\n",
       "        -90.0],\n",
       "      dtype=&#x27;float32&#x27;, name=&#x27;latitude&#x27;, length=721))</pre></div></li></ul></div></li><li class='xr-section-item'><input id='section-4bbfd87f-e596-4859-8d57-04652ef47951' class='xr-section-summary-in' type='checkbox'  checked><label for='section-4bbfd87f-e596-4859-8d57-04652ef47951' class='xr-section-summary' >Attributes: <span>(4)</span></label><div class='xr-section-inline-details'></div><div class='xr-section-details'><dl class='xr-attrs'><dt><span>CDI :</span></dt><dd>Climate Data Interface version 2.0.5 (https://mpimet.mpg.de/cdi)</dd><dt><span>Conventions :</span></dt><dd>CF-1.6</dd><dt><span>history :</span></dt><dd>Wed Jan 10 16:10:49 2024: cdo selvar,si10 adaptor.mars.internal-1691509121.3261805-29348-4-3a487c76-fc7b-421f-b5be-7436e2eb78d7.nc surface_wind_ERA5.nc\n",
       "2023-08-08 15:42:20 GMT by grib_to_netcdf-2.25.1: /opt/ecmwf/mars-client/bin/grib_to_netcdf.bin -S param -o /cache/data0/adaptor.mars.internal-1691509121.3261805-29348-4-3a487c76-fc7b-421f-b5be-7436e2eb78d7.nc /cache/tmp/3a487c76-fc7b-421f-b5be-7436e2eb78d7-adaptor.mars.internal-1691508655.5120122-29348-5-tmp.grib</dd><dt><span>CDO :</span></dt><dd>Climate Data Operators version 2.0.5 (https://mpimet.mpg.de/cdo)</dd></dl></div></li></ul></div></div>"
      ],
      "text/plain": [
       "<xarray.Dataset>\n",
       "Dimensions:    (time: 702, latitude: 721, longitude: 1440)\n",
       "Coordinates:\n",
       "  * time       (time) datetime64[ns] 1960-10-01 1960-11-01 ... 2019-03-01\n",
       "  * longitude  (longitude) float32 0.0 0.25 0.5 0.75 ... 359.0 359.2 359.5 359.8\n",
       "  * latitude   (latitude) float32 90.0 89.75 89.5 89.25 ... -89.5 -89.75 -90.0\n",
       "Data variables:\n",
       "    si10       (time, latitude, longitude) float32 dask.array<chunksize=(702, 721, 1440), meta=np.ndarray>\n",
       "Attributes:\n",
       "    CDI:          Climate Data Interface version 2.0.5 (https://mpimet.mpg.de...\n",
       "    Conventions:  CF-1.6\n",
       "    history:      Wed Jan 10 16:10:49 2024: cdo selvar,si10 adaptor.mars.inte...\n",
       "    CDO:          Climate Data Operators version 2.0.5 (https://mpimet.mpg.de..."
      ]
     },
     "execution_count": 26,
     "metadata": {},
     "output_type": "execute_result"
    }
   ],
   "source": [
    "obs"
   ]
  },
  {
   "cell_type": "code",
   "execution_count": 27,
   "metadata": {},
   "outputs": [],
   "source": [
    "# use the iris regridder to regrid the obs data to the same grid as the model data\n",
    "obs_cube = obs[\"si10\"].squeeze().to_iris()"
   ]
  },
  {
   "cell_type": "code",
   "execution_count": 28,
   "metadata": {},
   "outputs": [],
   "source": [
    "import iris\n",
    "# regrid the obs data to the model grid\n",
    "obs_regridded = obs_cube.regrid(member_cube, iris.analysis.Linear())"
   ]
  },
  {
   "cell_type": "code",
   "execution_count": 29,
   "metadata": {},
   "outputs": [
    {
     "data": {
      "text/html": [
       "\n",
       "<style>\n",
       "  a.iris {\n",
       "      text-decoration: none !important;\n",
       "  }\n",
       "  table.iris {\n",
       "      white-space: pre;\n",
       "      border: 1px solid;\n",
       "      border-color: #9c9c9c;\n",
       "      font-family: monaco, monospace;\n",
       "  }\n",
       "  th.iris {\n",
       "      background: #303f3f;\n",
       "      color: #e0e0e0;\n",
       "      border-left: 1px solid;\n",
       "      border-color: #9c9c9c;\n",
       "      font-size: 1.05em;\n",
       "      min-width: 50px;\n",
       "      max-width: 125px;\n",
       "  }\n",
       "  tr.iris :first-child {\n",
       "      border-right: 1px solid #9c9c9c !important;\n",
       "  }\n",
       "  td.iris-title {\n",
       "      background: #d5dcdf;\n",
       "      border-top: 1px solid #9c9c9c;\n",
       "      font-weight: bold;\n",
       "  }\n",
       "  .iris-word-cell {\n",
       "      text-align: left !important;\n",
       "      white-space: pre;\n",
       "  }\n",
       "  .iris-subheading-cell {\n",
       "      padding-left: 2em !important;\n",
       "  }\n",
       "  .iris-inclusion-cell {\n",
       "      padding-right: 1em !important;\n",
       "  }\n",
       "  .iris-panel-body {\n",
       "      padding-top: 0px;\n",
       "  }\n",
       "  .iris-panel-title {\n",
       "      padding-left: 3em;\n",
       "  }\n",
       "  .iris-panel-title {\n",
       "      margin-top: 7px;\n",
       "  }\n",
       "</style>\n",
       "<table class=\"iris\" id=\"140220806596448\">\n",
       "    <tr class=\"iris\">\n",
       "<th class=\"iris iris-word-cell\">10 Metre Wind Speed (m s**-1)</th>\n",
       "<th class=\"iris iris-word-cell\">time</th>\n",
       "<th class=\"iris iris-word-cell\">latitude</th>\n",
       "<th class=\"iris iris-word-cell\">longitude</th>\n",
       "</tr>\n",
       "    <tr class=\"iris\">\n",
       "<td class=\"iris-word-cell iris-subheading-cell\">Shape</td>\n",
       "<td class=\"iris iris-inclusion-cell\">702</td>\n",
       "<td class=\"iris iris-inclusion-cell\">324</td>\n",
       "<td class=\"iris iris-inclusion-cell\">432</td>\n",
       "</tr>\n",
       "    <tr class=\"iris\">\n",
       "    <td class=\"iris-title iris-word-cell\">Dimension coordinates</td>\n",
       "    <td class=\"iris-title\"></td>\n",
       "    <td class=\"iris-title\"></td>\n",
       "    <td class=\"iris-title\"></td>\n",
       "</tr>\n",
       "<tr class=\"iris\">\n",
       "    <td class=\"iris-word-cell iris-subheading-cell\">\ttime</td>\n",
       "    <td class=\"iris-inclusion-cell\">x</td>\n",
       "    <td class=\"iris-inclusion-cell\">-</td>\n",
       "    <td class=\"iris-inclusion-cell\">-</td>\n",
       "</tr>\n",
       "<tr class=\"iris\">\n",
       "    <td class=\"iris-word-cell iris-subheading-cell\">\tlatitude</td>\n",
       "    <td class=\"iris-inclusion-cell\">-</td>\n",
       "    <td class=\"iris-inclusion-cell\">x</td>\n",
       "    <td class=\"iris-inclusion-cell\">-</td>\n",
       "</tr>\n",
       "<tr class=\"iris\">\n",
       "    <td class=\"iris-word-cell iris-subheading-cell\">\tlongitude</td>\n",
       "    <td class=\"iris-inclusion-cell\">-</td>\n",
       "    <td class=\"iris-inclusion-cell\">-</td>\n",
       "    <td class=\"iris-inclusion-cell\">x</td>\n",
       "</tr>\n",
       "</table>\n",
       "        "
      ],
      "text/plain": [
       "<iris 'Cube' of 10 metre wind speed / (m s**-1) (time: 702; latitude: 324; longitude: 432)>"
      ]
     },
     "execution_count": 29,
     "metadata": {},
     "output_type": "execute_result"
    }
   ],
   "source": [
    "obs_regridded"
   ]
  },
  {
   "cell_type": "code",
   "execution_count": 30,
   "metadata": {},
   "outputs": [
    {
     "data": {
      "text/html": [
       "\n",
       "<style>\n",
       "  a.iris {\n",
       "      text-decoration: none !important;\n",
       "  }\n",
       "  table.iris {\n",
       "      white-space: pre;\n",
       "      border: 1px solid;\n",
       "      border-color: #9c9c9c;\n",
       "      font-family: monaco, monospace;\n",
       "  }\n",
       "  th.iris {\n",
       "      background: #303f3f;\n",
       "      color: #e0e0e0;\n",
       "      border-left: 1px solid;\n",
       "      border-color: #9c9c9c;\n",
       "      font-size: 1.05em;\n",
       "      min-width: 50px;\n",
       "      max-width: 125px;\n",
       "  }\n",
       "  tr.iris :first-child {\n",
       "      border-right: 1px solid #9c9c9c !important;\n",
       "  }\n",
       "  td.iris-title {\n",
       "      background: #d5dcdf;\n",
       "      border-top: 1px solid #9c9c9c;\n",
       "      font-weight: bold;\n",
       "  }\n",
       "  .iris-word-cell {\n",
       "      text-align: left !important;\n",
       "      white-space: pre;\n",
       "  }\n",
       "  .iris-subheading-cell {\n",
       "      padding-left: 2em !important;\n",
       "  }\n",
       "  .iris-inclusion-cell {\n",
       "      padding-right: 1em !important;\n",
       "  }\n",
       "  .iris-panel-body {\n",
       "      padding-top: 0px;\n",
       "  }\n",
       "  .iris-panel-title {\n",
       "      padding-left: 3em;\n",
       "  }\n",
       "  .iris-panel-title {\n",
       "      margin-top: 7px;\n",
       "  }\n",
       "</style>\n",
       "<table class=\"iris\" id=\"140220805466480\">\n",
       "    <tr class=\"iris\">\n",
       "<th class=\"iris iris-word-cell\">Wind Speed (m s-1)</th>\n",
       "<th class=\"iris iris-word-cell\">init</th>\n",
       "<th class=\"iris iris-word-cell\">--</th>\n",
       "<th class=\"iris iris-word-cell\">lead</th>\n",
       "<th class=\"iris iris-word-cell\">latitude</th>\n",
       "<th class=\"iris iris-word-cell\">longitude</th>\n",
       "</tr>\n",
       "    <tr class=\"iris\">\n",
       "<td class=\"iris-word-cell iris-subheading-cell\">Shape</td>\n",
       "<td class=\"iris iris-inclusion-cell\">59</td>\n",
       "<td class=\"iris iris-inclusion-cell\">10</td>\n",
       "<td class=\"iris iris-inclusion-cell\">125</td>\n",
       "<td class=\"iris iris-inclusion-cell\">324</td>\n",
       "<td class=\"iris iris-inclusion-cell\">432</td>\n",
       "</tr>\n",
       "    <tr class=\"iris\">\n",
       "    <td class=\"iris-title iris-word-cell\">Dimension coordinates</td>\n",
       "    <td class=\"iris-title\"></td>\n",
       "    <td class=\"iris-title\"></td>\n",
       "    <td class=\"iris-title\"></td>\n",
       "    <td class=\"iris-title\"></td>\n",
       "    <td class=\"iris-title\"></td>\n",
       "</tr>\n",
       "<tr class=\"iris\">\n",
       "    <td class=\"iris-word-cell iris-subheading-cell\">\tinit</td>\n",
       "    <td class=\"iris-inclusion-cell\">x</td>\n",
       "    <td class=\"iris-inclusion-cell\">-</td>\n",
       "    <td class=\"iris-inclusion-cell\">-</td>\n",
       "    <td class=\"iris-inclusion-cell\">-</td>\n",
       "    <td class=\"iris-inclusion-cell\">-</td>\n",
       "</tr>\n",
       "<tr class=\"iris\">\n",
       "    <td class=\"iris-word-cell iris-subheading-cell\">\tlead</td>\n",
       "    <td class=\"iris-inclusion-cell\">-</td>\n",
       "    <td class=\"iris-inclusion-cell\">-</td>\n",
       "    <td class=\"iris-inclusion-cell\">x</td>\n",
       "    <td class=\"iris-inclusion-cell\">-</td>\n",
       "    <td class=\"iris-inclusion-cell\">-</td>\n",
       "</tr>\n",
       "<tr class=\"iris\">\n",
       "    <td class=\"iris-word-cell iris-subheading-cell\">\tlatitude</td>\n",
       "    <td class=\"iris-inclusion-cell\">-</td>\n",
       "    <td class=\"iris-inclusion-cell\">-</td>\n",
       "    <td class=\"iris-inclusion-cell\">-</td>\n",
       "    <td class=\"iris-inclusion-cell\">x</td>\n",
       "    <td class=\"iris-inclusion-cell\">-</td>\n",
       "</tr>\n",
       "<tr class=\"iris\">\n",
       "    <td class=\"iris-word-cell iris-subheading-cell\">\tlongitude</td>\n",
       "    <td class=\"iris-inclusion-cell\">-</td>\n",
       "    <td class=\"iris-inclusion-cell\">-</td>\n",
       "    <td class=\"iris-inclusion-cell\">-</td>\n",
       "    <td class=\"iris-inclusion-cell\">-</td>\n",
       "    <td class=\"iris-inclusion-cell\">x</td>\n",
       "</tr>\n",
       "<tr class=\"iris\">\n",
       "    <td class=\"iris-title iris-word-cell\">Auxiliary coordinates</td>\n",
       "    <td class=\"iris-title\"></td>\n",
       "    <td class=\"iris-title\"></td>\n",
       "    <td class=\"iris-title\"></td>\n",
       "    <td class=\"iris-title\"></td>\n",
       "    <td class=\"iris-title\"></td>\n",
       "</tr>\n",
       "<tr class=\"iris\">\n",
       "    <td class=\"iris-word-cell iris-subheading-cell\">\tmember</td>\n",
       "    <td class=\"iris-inclusion-cell\">-</td>\n",
       "    <td class=\"iris-inclusion-cell\">x</td>\n",
       "    <td class=\"iris-inclusion-cell\">-</td>\n",
       "    <td class=\"iris-inclusion-cell\">-</td>\n",
       "    <td class=\"iris-inclusion-cell\">-</td>\n",
       "</tr>\n",
       "<tr class=\"iris\">\n",
       "    <td class=\"iris-title iris-word-cell\">Scalar coordinates</td>\n",
       "    <td class=\"iris-title\"></td>\n",
       "    <td class=\"iris-title\"></td>\n",
       "    <td class=\"iris-title\"></td>\n",
       "    <td class=\"iris-title\"></td>\n",
       "    <td class=\"iris-title\"></td>\n",
       "</tr>\n",
       "<tr class=\"iris\">\n",
       "    <td class=\"iris-word-cell iris-subheading-cell\">\theight</td>\n",
       "    <td class=\"iris-word-cell\" colspan=\"5\">10.0 m</td>\n",
       "</tr>\n",
       "<tr class=\"iris\">\n",
       "    <td class=\"iris-title iris-word-cell\">Cell methods</td>\n",
       "    <td class=\"iris-title\"></td>\n",
       "    <td class=\"iris-title\"></td>\n",
       "    <td class=\"iris-title\"></td>\n",
       "    <td class=\"iris-title\"></td>\n",
       "    <td class=\"iris-title\"></td>\n",
       "</tr>\n",
       "<tr class=\"iris\">\n",
       "    <td class=\"iris-word-cell iris-subheading-cell\">\t0</td>\n",
       "    <td class=\"iris-word-cell\" colspan=\"5\">area: time: mean</td>\n",
       "</tr>\n",
       "<tr class=\"iris\">\n",
       "    <td class=\"iris-title iris-word-cell\">Attributes</td>\n",
       "    <td class=\"iris-title\"></td>\n",
       "    <td class=\"iris-title\"></td>\n",
       "    <td class=\"iris-title\"></td>\n",
       "    <td class=\"iris-title\"></td>\n",
       "    <td class=\"iris-title\"></td>\n",
       "</tr>\n",
       "<tr class=\"iris\">\n",
       "    <td class=\"iris-word-cell iris-subheading-cell\">\tcell_measures</td>\n",
       "    <td class=\"iris-word-cell\" colspan=\"5\">&#x27;area: areacella&#x27;</td>\n",
       "</tr>\n",
       "<tr class=\"iris\">\n",
       "    <td class=\"iris-word-cell iris-subheading-cell\">\tcomment</td>\n",
       "    <td class=\"iris-word-cell\" colspan=\"5\">&#x27;near-surface (usually, 10 meters) wind speed.&#x27;</td>\n",
       "</tr>\n",
       "<tr class=\"iris\">\n",
       "    <td class=\"iris-word-cell iris-subheading-cell\">\thistory</td>\n",
       "    <td class=\"iris-word-cell\" colspan=\"5\">&quot;2020-10-19T15:26:43Z altered by CMOR: Treated scalar dimension: &#x27;heigh ...&quot;</td>\n",
       "</tr>\n",
       "<tr class=\"iris\">\n",
       "    <td class=\"iris-word-cell iris-subheading-cell\">\toriginal_name</td>\n",
       "    <td class=\"iris-word-cell\" colspan=\"5\">&#x27;mo: (stash: m01s03i230, lbproc: 128)&#x27;</td>\n",
       "</tr>\n",
       "</table>\n",
       "        "
      ],
      "text/plain": [
       "<iris 'Cube' of wind_speed / (m s-1) (init: 59; -- : 10; lead: 125; latitude: 324; longitude: 432)>"
      ]
     },
     "execution_count": 30,
     "metadata": {},
     "output_type": "execute_result"
    }
   ],
   "source": [
    "member_cube"
   ]
  },
  {
   "cell_type": "code",
   "execution_count": 31,
   "metadata": {},
   "outputs": [
    {
     "name": "stdout",
     "output_type": "stream",
     "text": [
      "0.4166666567325592\n",
      "359.58331298828125\n"
     ]
    }
   ],
   "source": [
    "# print the min and max lon of the member cube\n",
    "print(member_cube.coord('longitude').points.min())\n",
    "print(member_cube.coord('longitude').points.max())"
   ]
  },
  {
   "cell_type": "code",
   "execution_count": 32,
   "metadata": {},
   "outputs": [
    {
     "name": "stdout",
     "output_type": "stream",
     "text": [
      "Found Country United Kingdom\n",
      "-179.58333334326744 179.58331298828125 -89.72222137451172 89.72223663330078\n",
      "(-13.69131425699993, 49.90961334800005, 1.7711694670000497, 60.84788646000004)\n",
      "(324, 432)\n"
     ]
    }
   ],
   "source": [
    "import iris\n",
    "import shapely.geometry\n",
    "import cartopy.io.shapereader as shpreader\n",
    "\n",
    "# apply the mask\n",
    "LONS, LATS = iris.analysis.cartography.get_xy_grids(member_cube[0])\n",
    "x,y = LONS.flatten(), LATS.flatten()\n",
    "\n",
    "countries_shp = shpreader.natural_earth(resolution='10m',category='cultural',name='admin_0_countries')\n",
    "\n",
    "COUNTRY = \"United Kingdom\"\n",
    "\n",
    "\n",
    "# Shapely treats lons between -180 and 180\n",
    "# so we need to convert the lons to this\n",
    "# if there are no lons below 0 then we can just convert the lons\n",
    "if np.min(x) >= 0:\n",
    "    x = x - 180\n",
    "    LONS = LONS - 180\n",
    "\n",
    "MASK_MATRIX_TMP = np.zeros([len(x), 1])\n",
    "country_shapely = []\n",
    "for country in shpreader.Reader(countries_shp).records():\n",
    "    if country.attributes[\"NAME\"][0:14] == COUNTRY:\n",
    "        print('Found Country ' + COUNTRY)\n",
    "        country_shapely.append(country.geometry)\n",
    "\n",
    "# print the min and max lat and lon\n",
    "print(np.min(x), np.max(x), np.min(y), np.max(y))\n",
    "\n",
    "# print the min and mx lat and lon of the UK from the shapefile\n",
    "print(country_shapely[0].bounds)\n",
    "# print(country_shapely[0].contains(shapely.geometry.Point(0, 0))\n",
    "\n",
    "# Create a mask for the UK\n",
    "for i in range(0, len(x)):\n",
    "    point = shapely.geometry.Point(x[i], y[i])\n",
    "    if country_shapely[0].contains(point) == True:\n",
    "        MASK_MATRIX_TMP[i,0] = 1.0\n",
    "\n",
    "MASK_MATRIX_RESHAPE = np.reshape(MASK_MATRIX_TMP, (np.shape(LONS)))\n",
    "\n",
    "# if the country is the UK then we want to mask out NI\n",
    "# to constrain to GB\n",
    "if COUNTRY == 'United Kingdom':\n",
    "    lats, lons = np.unique(LATS), np.unique(LONS)\n",
    "    for i in range(len(lats)):\n",
    "        for j in range(len(lons)):\n",
    "            if (lats[i] < 55.3) and (lats[i]  > 54.):\n",
    "                if (lons[j]) < -5.:  # convert back to -180 to 180 scale\n",
    "                    # find the corresponding indices in the LATS and LONS arrays\n",
    "                    indices = np.argwhere((LATS == lats[i]) & (LONS == lons[j]))\n",
    "                    # set the mask value to 0 at these indices\n",
    "                    for idx in indices:\n",
    "                        MASK_MATRIX_RESHAPE[tuple(idx)] = 0.\n",
    "\n",
    "# print the shape\n",
    "print(np.shape(MASK_MATRIX_RESHAPE))"
   ]
  },
  {
   "cell_type": "code",
   "execution_count": 33,
   "metadata": {},
   "outputs": [
    {
     "name": "stdout",
     "output_type": "stream",
     "text": [
      "68.0\n"
     ]
    }
   ],
   "source": [
    "# print the sum of the mask\n",
    "print(np.sum(MASK_MATRIX_RESHAPE))"
   ]
  },
  {
   "cell_type": "markdown",
   "metadata": {},
   "source": [
    "Seems like very few grid cells to average over?"
   ]
  },
  {
   "cell_type": "code",
   "execution_count": 34,
   "metadata": {},
   "outputs": [
    {
     "data": {
      "image/png": "[encoded data removed]",
      "text/plain": [
       "<Figure size 720x360 with 2 Axes>"
      ]
     },
     "metadata": {
      "needs_background": "light"
     },
     "output_type": "display_data"
    }
   ],
   "source": [
    "# plot the mask on the map\n",
    "plt.figure(figsize=(10, 5))\n",
    "\n",
    "ax = plt.axes(projection=ccrs.PlateCarree())\n",
    "\n",
    "ax.coastlines()\n",
    "\n",
    "map = ax.contourf(LONS, LATS, MASK_MATRIX_RESHAPE, transform=ccrs.PlateCarree(), cmap='coolwarm')\n",
    "\n",
    "# include a colorbar\n",
    "plt.colorbar(map, orientation='horizontal')\n",
    "\n",
    "# set the lat and lon limits\n",
    "ax.set_extent([-15, 10, 40, 70], crs=ccrs.PlateCarree())\n",
    "\n",
    "plt.show()"
   ]
  },
  {
   "cell_type": "markdown",
   "metadata": {},
   "source": [
    "Now fixed - Now we want to apply the country mask to both the model and obs data to start the UNSEEN process specifically over the UK"
   ]
  },
  {
   "cell_type": "code",
   "execution_count": 35,
   "metadata": {},
   "outputs": [
    {
     "name": "stdout",
     "output_type": "stream",
     "text": [
      "CPU times: user 3 µs, sys: 1 µs, total: 4 µs\n",
      "Wall time: 10 µs\n",
      "617468000.0\n"
     ]
    }
   ],
   "source": [
    "%%time\n",
    "\n",
    "# extract the values from the obs data\n",
    "obs_values = obs_regridded.data\n",
    "\n",
    "# extract the lats\n",
    "obs_lats = obs_regridded.coord('latitude').points\n",
    "obs_lons = obs_regridded.coord('longitude').points\n",
    "\n",
    "# print the sum of the obs values\n",
    "print(np.sum(obs_values))\n",
    "\n",
    "# apply the mask to the obs data\n",
    "obs_values_masked = obs_values * MASK_MATRIX_RESHAPE"
   ]
  },
  {
   "cell_type": "code",
   "execution_count": 36,
   "metadata": {},
   "outputs": [
    {
     "name": "stdout",
     "output_type": "stream",
     "text": [
      "414392.6315817833\n"
     ]
    }
   ],
   "source": [
    "print(np.sum(obs_values_masked))"
   ]
  },
  {
   "cell_type": "code",
   "execution_count": 37,
   "metadata": {},
   "outputs": [
    {
     "data": {
      "text/plain": [
       "0.4166666567325592"
      ]
     },
     "execution_count": 37,
     "metadata": {},
     "output_type": "execute_result"
    }
   ],
   "source": [
    "obs_lons.min()"
   ]
  },
  {
   "cell_type": "code",
   "execution_count": 38,
   "metadata": {},
   "outputs": [],
   "source": [
    "# convert obs lons to -180 to 180\n",
    "obs_lons = obs_lons - 180"
   ]
  },
  {
   "cell_type": "code",
   "execution_count": 39,
   "metadata": {},
   "outputs": [
    {
     "data": {
      "image/png": "[encoded data removed]",
      "text/plain": [
       "<Figure size 720x360 with 2 Axes>"
      ]
     },
     "metadata": {
      "needs_background": "light"
     },
     "output_type": "display_data"
    }
   ],
   "source": [
    "# set up a figure\n",
    "plt.figure(figsize=(10, 5))\n",
    "\n",
    "# include the basemap\n",
    "ax = plt.axes(projection=ccrs.PlateCarree(central_longitude=0))\n",
    "\n",
    "# include coastlines\n",
    "ax.coastlines()\n",
    "\n",
    "# plot the obs data\n",
    "plt.contourf(obs_lons, obs_lats, obs_values_masked[0,:,:], cmap='coolwarm')\n",
    "\n",
    "# set the lat and lon limits\n",
    "ax.set_extent([-15, 10, 40, 70], crs=ccrs.PlateCarree())\n",
    "\n",
    "# include a colorbar\n",
    "plt.colorbar()\n",
    "\n",
    "plt.show()"
   ]
  },
  {
   "cell_type": "code",
   "execution_count": 40,
   "metadata": {},
   "outputs": [],
   "source": [
    "# anywhere there are zeros in the mask we want to set the obs values to nan\n",
    "obs_values_masked = np.where(obs_values_masked == 0, np.nan, obs_values_masked)\n",
    "\n",
    "# take the nanmean over the lat and lon dimensions\n",
    "obs_values_masked = np.nanmean(obs_values_masked, axis=(1, 2))"
   ]
  },
  {
   "cell_type": "code",
   "execution_count": 41,
   "metadata": {},
   "outputs": [
    {
     "data": {
      "text/html": [
       "\n",
       "<style>\n",
       "  a.iris {\n",
       "      text-decoration: none !important;\n",
       "  }\n",
       "  table.iris {\n",
       "      white-space: pre;\n",
       "      border: 1px solid;\n",
       "      border-color: #9c9c9c;\n",
       "      font-family: monaco, monospace;\n",
       "  }\n",
       "  th.iris {\n",
       "      background: #303f3f;\n",
       "      color: #e0e0e0;\n",
       "      border-left: 1px solid;\n",
       "      border-color: #9c9c9c;\n",
       "      font-size: 1.05em;\n",
       "      min-width: 50px;\n",
       "      max-width: 125px;\n",
       "  }\n",
       "  tr.iris :first-child {\n",
       "      border-right: 1px solid #9c9c9c !important;\n",
       "  }\n",
       "  td.iris-title {\n",
       "      background: #d5dcdf;\n",
       "      border-top: 1px solid #9c9c9c;\n",
       "      font-weight: bold;\n",
       "  }\n",
       "  .iris-word-cell {\n",
       "      text-align: left !important;\n",
       "      white-space: pre;\n",
       "  }\n",
       "  .iris-subheading-cell {\n",
       "      padding-left: 2em !important;\n",
       "  }\n",
       "  .iris-inclusion-cell {\n",
       "      padding-right: 1em !important;\n",
       "  }\n",
       "  .iris-panel-body {\n",
       "      padding-top: 0px;\n",
       "  }\n",
       "  .iris-panel-title {\n",
       "      padding-left: 3em;\n",
       "  }\n",
       "  .iris-panel-title {\n",
       "      margin-top: 7px;\n",
       "  }\n",
       "</style>\n",
       "<table class=\"iris\" id=\"140220806596448\">\n",
       "    <tr class=\"iris\">\n",
       "<th class=\"iris iris-word-cell\">10 Metre Wind Speed (m s**-1)</th>\n",
       "<th class=\"iris iris-word-cell\">time</th>\n",
       "<th class=\"iris iris-word-cell\">latitude</th>\n",
       "<th class=\"iris iris-word-cell\">longitude</th>\n",
       "</tr>\n",
       "    <tr class=\"iris\">\n",
       "<td class=\"iris-word-cell iris-subheading-cell\">Shape</td>\n",
       "<td class=\"iris iris-inclusion-cell\">702</td>\n",
       "<td class=\"iris iris-inclusion-cell\">324</td>\n",
       "<td class=\"iris iris-inclusion-cell\">432</td>\n",
       "</tr>\n",
       "    <tr class=\"iris\">\n",
       "    <td class=\"iris-title iris-word-cell\">Dimension coordinates</td>\n",
       "    <td class=\"iris-title\"></td>\n",
       "    <td class=\"iris-title\"></td>\n",
       "    <td class=\"iris-title\"></td>\n",
       "</tr>\n",
       "<tr class=\"iris\">\n",
       "    <td class=\"iris-word-cell iris-subheading-cell\">\ttime</td>\n",
       "    <td class=\"iris-inclusion-cell\">x</td>\n",
       "    <td class=\"iris-inclusion-cell\">-</td>\n",
       "    <td class=\"iris-inclusion-cell\">-</td>\n",
       "</tr>\n",
       "<tr class=\"iris\">\n",
       "    <td class=\"iris-word-cell iris-subheading-cell\">\tlatitude</td>\n",
       "    <td class=\"iris-inclusion-cell\">-</td>\n",
       "    <td class=\"iris-inclusion-cell\">x</td>\n",
       "    <td class=\"iris-inclusion-cell\">-</td>\n",
       "</tr>\n",
       "<tr class=\"iris\">\n",
       "    <td class=\"iris-word-cell iris-subheading-cell\">\tlongitude</td>\n",
       "    <td class=\"iris-inclusion-cell\">-</td>\n",
       "    <td class=\"iris-inclusion-cell\">-</td>\n",
       "    <td class=\"iris-inclusion-cell\">x</td>\n",
       "</tr>\n",
       "</table>\n",
       "        "
      ],
      "text/plain": [
       "<iris 'Cube' of 10 metre wind speed / (m s**-1) (time: 702; latitude: 324; longitude: 432)>"
      ]
     },
     "execution_count": 41,
     "metadata": {},
     "output_type": "execute_result"
    }
   ],
   "source": [
    "obs_regridded"
   ]
  },
  {
   "cell_type": "code",
   "execution_count": 42,
   "metadata": {},
   "outputs": [
    {
     "data": {
      "text/plain": [
       "array([ 532512,  533256,  533976,  534720,  535464,  536136,  536880,\n",
       "        537600,  538344,  539064,  539808,  540552,  541272,  542016,\n",
       "        542736,  543480,  544224,  544896,  545640,  546360,  547104,\n",
       "        547824,  548568,  549312,  550032,  550776,  551496,  552240,\n",
       "        552984,  553656,  554400,  555120,  555864,  556584,  557328,\n",
       "        558072,  558792,  559536,  560256,  561000,  561744,  562440,\n",
       "        563184,  563904,  564648,  565368,  566112,  566856,  567576,\n",
       "        568320,  569040,  569784,  570528,  571200,  571944,  572664,\n",
       "        573408,  574128,  574872,  575616,  576336,  577080,  577800,\n",
       "        578544,  579288,  579960,  580704,  581424,  582168,  582888,\n",
       "        583632,  584376,  585096,  585840,  586560,  587304,  588048,\n",
       "        588720,  589464,  590184,  590928,  591648,  592392,  593136,\n",
       "        593856,  594600,  595320,  596064,  596808,  597504,  598248,\n",
       "        598968,  599712,  600432,  601176,  601920,  602640,  603384,\n",
       "        604104,  604848,  605592,  606264,  607008,  607728,  608472,\n",
       "        609192,  609936,  610680,  611400,  612144,  612864,  613608,\n",
       "        614352,  615024,  615768,  616488,  617232,  617952,  618696,\n",
       "        619440,  620160,  620904,  621624,  622368,  623112,  623784,\n",
       "        624528,  625248,  625992,  626712,  627456,  628200,  628920,\n",
       "        629664,  630384,  631128,  631872,  632568,  633312,  634032,\n",
       "        634776,  635496,  636240,  636984,  637704,  638448,  639168,\n",
       "        639912,  640656,  641328,  642072,  642792,  643536,  644256,\n",
       "        645000,  645744,  646464,  647208,  647928,  648672,  649416,\n",
       "        650088,  650832,  651552,  652296,  653016,  653760,  654504,\n",
       "        655224,  655968,  656688,  657432,  658176,  658848,  659592,\n",
       "        660312,  661056,  661776,  662520,  663264,  663984,  664728,\n",
       "        665448,  666192,  666936,  667632,  668376,  669096,  669840,\n",
       "        670560,  671304,  672048,  672768,  673512,  674232,  674976,\n",
       "        675720,  676392,  677136,  677856,  678600,  679320,  680064,\n",
       "        680808,  681528,  682272,  682992,  683736,  684480,  685152,\n",
       "        685896,  686616,  687360,  688080,  688824,  689568,  690288,\n",
       "        691032,  691752,  692496,  693240,  693912,  694656,  695376,\n",
       "        696120,  696840,  697584,  698328,  699048,  699792,  700512,\n",
       "        701256,  702000,  702696,  703440,  704160,  704904,  705624,\n",
       "        706368,  707112,  707832,  708576,  709296,  710040,  710784,\n",
       "        711456,  712200,  712920,  713664,  714384,  715128,  715872,\n",
       "        716592,  717336,  718056,  718800,  719544,  720216,  720960,\n",
       "        721680,  722424,  723144,  723888,  724632,  725352,  726096,\n",
       "        726816,  727560,  728304,  728976,  729720,  730440,  731184,\n",
       "        731904,  732648,  733392,  734112,  734856,  735576,  736320,\n",
       "        737064,  737760,  738504,  739224,  739968,  740688,  741432,\n",
       "        742176,  742896,  743640,  744360,  745104,  745848,  746520,\n",
       "        747264,  747984,  748728,  749448,  750192,  750936,  751656,\n",
       "        752400,  753120,  753864,  754608,  755280,  756024,  756744,\n",
       "        757488,  758208,  758952,  759696,  760416,  761160,  761880,\n",
       "        762624,  763368,  764040,  764784,  765504,  766248,  766968,\n",
       "        767712,  768456,  769176,  769920,  770640,  771384,  772128,\n",
       "        772824,  773568,  774288,  775032,  775752,  776496,  777240,\n",
       "        777960,  778704,  779424,  780168,  780912,  781584,  782328,\n",
       "        783048,  783792,  784512,  785256,  786000,  786720,  787464,\n",
       "        788184,  788928,  789672,  790344,  791088,  791808,  792552,\n",
       "        793272,  794016,  794760,  795480,  796224,  796944,  797688,\n",
       "        798432,  799104,  799848,  800568,  801312,  802032,  802776,\n",
       "        803520,  804240,  804984,  805704,  806448,  807192,  807888,\n",
       "        808632,  809352,  810096,  810816,  811560,  812304,  813024,\n",
       "        813768,  814488,  815232,  815976,  816648,  817392,  818112,\n",
       "        818856,  819576,  820320,  821064,  821784,  822528,  823248,\n",
       "        823992,  824736,  825408,  826152,  826872,  827616,  828336,\n",
       "        829080,  829824,  830544,  831288,  832008,  832752,  833496,\n",
       "        834168,  834912,  835632,  836376,  837096,  837840,  838584,\n",
       "        839304,  840048,  840768,  841512,  842256,  842952,  843696,\n",
       "        844416,  845160,  845880,  846624,  847368,  848088,  848832,\n",
       "        849552,  850296,  851040,  851712,  852456,  853176,  853920,\n",
       "        854640,  855384,  856128,  856848,  857592,  858312,  859056,\n",
       "        859800,  860472,  861216,  861936,  862680,  863400,  864144,\n",
       "        864888,  865608,  866352,  867072,  867816,  868560,  869232,\n",
       "        869976,  870696,  871440,  872160,  872904,  873648,  874368,\n",
       "        875112,  875832,  876576,  877320,  878016,  878760,  879480,\n",
       "        880224,  880944,  881688,  882432,  883152,  883896,  884616,\n",
       "        885360,  886104,  886776,  887520,  888240,  888984,  889704,\n",
       "        890448,  891192,  891912,  892656,  893376,  894120,  894864,\n",
       "        895536,  896280,  897000,  897744,  898464,  899208,  899952,\n",
       "        900672,  901416,  902136,  902880,  903624,  904296,  905040,\n",
       "        905760,  906504,  907224,  907968,  908712,  909432,  910176,\n",
       "        910896,  911640,  912384,  913080,  913824,  914544,  915288,\n",
       "        916008,  916752,  917496,  918216,  918960,  919680,  920424,\n",
       "        921168,  921840,  922584,  923304,  924048,  924768,  925512,\n",
       "        926256,  926976,  927720,  928440,  929184,  929928,  930600,\n",
       "        931344,  932064,  932808,  933528,  934272,  935016,  935736,\n",
       "        936480,  937200,  937944,  938688,  939360,  940104,  940824,\n",
       "        941568,  942288,  943032,  943776,  944496,  945240,  945960,\n",
       "        946704,  947448,  948144,  948888,  949608,  950352,  951072,\n",
       "        951816,  952560,  953280,  954024,  954744,  955488,  956232,\n",
       "        956904,  957648,  958368,  959112,  959832,  960576,  961320,\n",
       "        962040,  962784,  963504,  964248,  964992,  965664,  966408,\n",
       "        967128,  967872,  968592,  969336,  970080,  970800,  971544,\n",
       "        972264,  973008,  973752,  974424,  975168,  975888,  976632,\n",
       "        977352,  978096,  978840,  979560,  980304,  981024,  981768,\n",
       "        982512,  983208,  983952,  984672,  985416,  986136,  986880,\n",
       "        987624,  988344,  989088,  989808,  990552,  991296,  991968,\n",
       "        992712,  993432,  994176,  994896,  995640,  996384,  997104,\n",
       "        997848,  998568,  999312, 1000056, 1000728, 1001472, 1002192,\n",
       "       1002936, 1003656, 1004400, 1005144, 1005864, 1006608, 1007328,\n",
       "       1008072, 1008816, 1009488, 1010232, 1010952, 1011696, 1012416,\n",
       "       1013160, 1013904, 1014624, 1015368, 1016088, 1016832, 1017576,\n",
       "       1018272, 1019016, 1019736, 1020480, 1021200, 1021944, 1022688,\n",
       "       1023408, 1024152, 1024872, 1025616, 1026360, 1027032, 1027776,\n",
       "       1028496, 1029240, 1029960, 1030704, 1031448, 1032168, 1032912,\n",
       "       1033632, 1034376, 1035120, 1035792, 1036536, 1037256, 1038000,\n",
       "       1038720, 1039464, 1040208, 1040928, 1041672, 1042392, 1043136,\n",
       "       1043880, 1044552])"
      ]
     },
     "execution_count": 42,
     "metadata": {},
     "output_type": "execute_result"
    }
   ],
   "source": [
    "obs_regridded.coord('time').points"
   ]
  },
  {
   "cell_type": "code",
   "execution_count": 43,
   "metadata": {},
   "outputs": [
    {
     "name": "stdout",
     "output_type": "stream",
     "text": [
      "1960-10-01 00:00:00\n",
      "1960-11-01 00:00:00\n",
      "1960-12-01 00:00:00\n",
      "1961-01-01 00:00:00\n",
      "1961-02-01 00:00:00\n",
      "1961-03-01 00:00:00\n",
      "1961-04-01 00:00:00\n",
      "1961-05-01 00:00:00\n",
      "1961-06-01 00:00:00\n",
      "1961-07-01 00:00:00\n",
      "1961-08-01 00:00:00\n",
      "1961-09-01 00:00:00\n",
      "1961-10-01 00:00:00\n",
      "1961-11-01 00:00:00\n",
      "1961-12-01 00:00:00\n",
      "1962-01-01 00:00:00\n",
      "1962-02-01 00:00:00\n",
      "1962-03-01 00:00:00\n",
      "1962-04-01 00:00:00\n",
      "1962-05-01 00:00:00\n",
      "1962-06-01 00:00:00\n",
      "1962-07-01 00:00:00\n",
      "1962-08-01 00:00:00\n",
      "1962-09-01 00:00:00\n",
      "1962-10-01 00:00:00\n",
      "1962-11-01 00:00:00\n",
      "1962-12-01 00:00:00\n",
      "1963-01-01 00:00:00\n",
      "1963-02-01 00:00:00\n",
      "1963-03-01 00:00:00\n",
      "1963-04-01 00:00:00\n",
      "1963-05-01 00:00:00\n",
      "1963-06-01 00:00:00\n",
      "1963-07-01 00:00:00\n",
      "1963-08-01 00:00:00\n",
      "1963-09-01 00:00:00\n",
      "1963-10-01 00:00:00\n",
      "1963-11-01 00:00:00\n",
      "1963-12-01 00:00:00\n",
      "1964-01-01 00:00:00\n",
      "1964-02-01 00:00:00\n",
      "1964-03-01 00:00:00\n",
      "1964-04-01 00:00:00\n",
      "1964-05-01 00:00:00\n",
      "1964-06-01 00:00:00\n",
      "1964-07-01 00:00:00\n",
      "1964-08-01 00:00:00\n",
      "1964-09-01 00:00:00\n",
      "1964-10-01 00:00:00\n",
      "1964-11-01 00:00:00\n",
      "1964-12-01 00:00:00\n",
      "1965-01-01 00:00:00\n",
      "1965-02-01 00:00:00\n",
      "1965-03-01 00:00:00\n",
      "1965-04-01 00:00:00\n",
      "1965-05-01 00:00:00\n",
      "1965-06-01 00:00:00\n",
      "1965-07-01 00:00:00\n",
      "1965-08-01 00:00:00\n",
      "1965-09-01 00:00:00\n",
      "1965-10-01 00:00:00\n",
      "1965-11-01 00:00:00\n",
      "1965-12-01 00:00:00\n",
      "1966-01-01 00:00:00\n",
      "1966-02-01 00:00:00\n",
      "1966-03-01 00:00:00\n",
      "1966-04-01 00:00:00\n",
      "1966-05-01 00:00:00\n",
      "1966-06-01 00:00:00\n",
      "1966-07-01 00:00:00\n",
      "1966-08-01 00:00:00\n",
      "1966-09-01 00:00:00\n",
      "1966-10-01 00:00:00\n",
      "1966-11-01 00:00:00\n",
      "1966-12-01 00:00:00\n",
      "1967-01-01 00:00:00\n",
      "1967-02-01 00:00:00\n",
      "1967-03-01 00:00:00\n",
      "1967-04-01 00:00:00\n",
      "1967-05-01 00:00:00\n",
      "1967-06-01 00:00:00\n",
      "1967-07-01 00:00:00\n",
      "1967-08-01 00:00:00\n",
      "1967-09-01 00:00:00\n",
      "1967-10-01 00:00:00\n",
      "1967-11-01 00:00:00\n",
      "1967-12-01 00:00:00\n",
      "1968-01-01 00:00:00\n",
      "1968-02-01 00:00:00\n",
      "1968-03-01 00:00:00\n",
      "1968-04-01 00:00:00\n",
      "1968-05-01 00:00:00\n",
      "1968-06-01 00:00:00\n",
      "1968-07-01 00:00:00\n",
      "1968-08-01 00:00:00\n",
      "1968-09-01 00:00:00\n",
      "1968-10-01 00:00:00\n",
      "1968-11-01 00:00:00\n",
      "1968-12-01 00:00:00\n",
      "1969-01-01 00:00:00\n",
      "1969-02-01 00:00:00\n",
      "1969-03-01 00:00:00\n",
      "1969-04-01 00:00:00\n",
      "1969-05-01 00:00:00\n",
      "1969-06-01 00:00:00\n",
      "1969-07-01 00:00:00\n",
      "1969-08-01 00:00:00\n",
      "1969-09-01 00:00:00\n",
      "1969-10-01 00:00:00\n",
      "1969-11-01 00:00:00\n",
      "1969-12-01 00:00:00\n",
      "1970-01-01 00:00:00\n",
      "1970-02-01 00:00:00\n",
      "1970-03-01 00:00:00\n",
      "1970-04-01 00:00:00\n",
      "1970-05-01 00:00:00\n",
      "1970-06-01 00:00:00\n",
      "1970-07-01 00:00:00\n",
      "1970-08-01 00:00:00\n",
      "1970-09-01 00:00:00\n",
      "1970-10-01 00:00:00\n",
      "1970-11-01 00:00:00\n",
      "1970-12-01 00:00:00\n",
      "1971-01-01 00:00:00\n",
      "1971-02-01 00:00:00\n",
      "1971-03-01 00:00:00\n",
      "1971-04-01 00:00:00\n",
      "1971-05-01 00:00:00\n",
      "1971-06-01 00:00:00\n",
      "1971-07-01 00:00:00\n",
      "1971-08-01 00:00:00\n",
      "1971-09-01 00:00:00\n",
      "1971-10-01 00:00:00\n",
      "1971-11-01 00:00:00\n",
      "1971-12-01 00:00:00\n",
      "1972-01-01 00:00:00\n",
      "1972-02-01 00:00:00\n",
      "1972-03-01 00:00:00\n",
      "1972-04-01 00:00:00\n",
      "1972-05-01 00:00:00\n",
      "1972-06-01 00:00:00\n",
      "1972-07-01 00:00:00\n",
      "1972-08-01 00:00:00\n",
      "1972-09-01 00:00:00\n",
      "1972-10-01 00:00:00\n",
      "1972-11-01 00:00:00\n",
      "1972-12-01 00:00:00\n",
      "1973-01-01 00:00:00\n",
      "1973-02-01 00:00:00\n",
      "1973-03-01 00:00:00\n",
      "1973-04-01 00:00:00\n",
      "1973-05-01 00:00:00\n",
      "1973-06-01 00:00:00\n",
      "1973-07-01 00:00:00\n",
      "1973-08-01 00:00:00\n",
      "1973-09-01 00:00:00\n",
      "1973-10-01 00:00:00\n",
      "1973-11-01 00:00:00\n",
      "1973-12-01 00:00:00\n",
      "1974-01-01 00:00:00\n",
      "1974-02-01 00:00:00\n",
      "1974-03-01 00:00:00\n",
      "1974-04-01 00:00:00\n",
      "1974-05-01 00:00:00\n",
      "1974-06-01 00:00:00\n",
      "1974-07-01 00:00:00\n",
      "1974-08-01 00:00:00\n",
      "1974-09-01 00:00:00\n",
      "1974-10-01 00:00:00\n",
      "1974-11-01 00:00:00\n",
      "1974-12-01 00:00:00\n",
      "1975-01-01 00:00:00\n",
      "1975-02-01 00:00:00\n",
      "1975-03-01 00:00:00\n",
      "1975-04-01 00:00:00\n",
      "1975-05-01 00:00:00\n",
      "1975-06-01 00:00:00\n",
      "1975-07-01 00:00:00\n",
      "1975-08-01 00:00:00\n",
      "1975-09-01 00:00:00\n",
      "1975-10-01 00:00:00\n",
      "1975-11-01 00:00:00\n",
      "1975-12-01 00:00:00\n",
      "1976-01-01 00:00:00\n",
      "1976-02-01 00:00:00\n",
      "1976-03-01 00:00:00\n",
      "1976-04-01 00:00:00\n",
      "1976-05-01 00:00:00\n",
      "1976-06-01 00:00:00\n",
      "1976-07-01 00:00:00\n",
      "1976-08-01 00:00:00\n",
      "1976-09-01 00:00:00\n",
      "1976-10-01 00:00:00\n",
      "1976-11-01 00:00:00\n",
      "1976-12-01 00:00:00\n",
      "1977-01-01 00:00:00\n",
      "1977-02-01 00:00:00\n",
      "1977-03-01 00:00:00\n",
      "1977-04-01 00:00:00\n",
      "1977-05-01 00:00:00\n",
      "1977-06-01 00:00:00\n",
      "1977-07-01 00:00:00\n",
      "1977-08-01 00:00:00\n",
      "1977-09-01 00:00:00\n",
      "1977-10-01 00:00:00\n",
      "1977-11-01 00:00:00\n",
      "1977-12-01 00:00:00\n",
      "1978-01-01 00:00:00\n",
      "1978-02-01 00:00:00\n",
      "1978-03-01 00:00:00\n",
      "1978-04-01 00:00:00\n",
      "1978-05-01 00:00:00\n",
      "1978-06-01 00:00:00\n",
      "1978-07-01 00:00:00\n",
      "1978-08-01 00:00:00\n",
      "1978-09-01 00:00:00\n",
      "1978-10-01 00:00:00\n",
      "1978-11-01 00:00:00\n",
      "1978-12-01 00:00:00\n",
      "1979-01-01 00:00:00\n",
      "1979-02-01 00:00:00\n",
      "1979-03-01 00:00:00\n",
      "1979-04-01 00:00:00\n",
      "1979-05-01 00:00:00\n",
      "1979-06-01 00:00:00\n",
      "1979-07-01 00:00:00\n",
      "1979-08-01 00:00:00\n",
      "1979-09-01 00:00:00\n",
      "1979-10-01 00:00:00\n",
      "1979-11-01 00:00:00\n",
      "1979-12-01 00:00:00\n",
      "1980-01-01 00:00:00\n",
      "1980-02-01 00:00:00\n",
      "1980-03-01 00:00:00\n",
      "1980-04-01 00:00:00\n",
      "1980-05-01 00:00:00\n",
      "1980-06-01 00:00:00\n",
      "1980-07-01 00:00:00\n",
      "1980-08-01 00:00:00\n",
      "1980-09-01 00:00:00\n",
      "1980-10-01 00:00:00\n",
      "1980-11-01 00:00:00\n",
      "1980-12-01 00:00:00\n",
      "1981-01-01 00:00:00\n",
      "1981-02-01 00:00:00\n",
      "1981-03-01 00:00:00\n",
      "1981-04-01 00:00:00\n",
      "1981-05-01 00:00:00\n",
      "1981-06-01 00:00:00\n",
      "1981-07-01 00:00:00\n",
      "1981-08-01 00:00:00\n",
      "1981-09-01 00:00:00\n",
      "1981-10-01 00:00:00\n",
      "1981-11-01 00:00:00\n",
      "1981-12-01 00:00:00\n",
      "1982-01-01 00:00:00\n",
      "1982-02-01 00:00:00\n",
      "1982-03-01 00:00:00\n",
      "1982-04-01 00:00:00\n",
      "1982-05-01 00:00:00\n",
      "1982-06-01 00:00:00\n",
      "1982-07-01 00:00:00\n",
      "1982-08-01 00:00:00\n",
      "1982-09-01 00:00:00\n",
      "1982-10-01 00:00:00\n",
      "1982-11-01 00:00:00\n",
      "1982-12-01 00:00:00\n",
      "1983-01-01 00:00:00\n",
      "1983-02-01 00:00:00\n",
      "1983-03-01 00:00:00\n",
      "1983-04-01 00:00:00\n",
      "1983-05-01 00:00:00\n",
      "1983-06-01 00:00:00\n",
      "1983-07-01 00:00:00\n",
      "1983-08-01 00:00:00\n",
      "1983-09-01 00:00:00\n",
      "1983-10-01 00:00:00\n",
      "1983-11-01 00:00:00\n",
      "1983-12-01 00:00:00\n",
      "1984-01-01 00:00:00\n",
      "1984-02-01 00:00:00\n",
      "1984-03-01 00:00:00\n",
      "1984-04-01 00:00:00\n",
      "1984-05-01 00:00:00\n",
      "1984-06-01 00:00:00\n",
      "1984-07-01 00:00:00\n",
      "1984-08-01 00:00:00\n",
      "1984-09-01 00:00:00\n",
      "1984-10-01 00:00:00\n",
      "1984-11-01 00:00:00\n",
      "1984-12-01 00:00:00\n",
      "1985-01-01 00:00:00\n",
      "1985-02-01 00:00:00\n",
      "1985-03-01 00:00:00\n",
      "1985-04-01 00:00:00\n",
      "1985-05-01 00:00:00\n",
      "1985-06-01 00:00:00\n",
      "1985-07-01 00:00:00\n",
      "1985-08-01 00:00:00\n",
      "1985-09-01 00:00:00\n",
      "1985-10-01 00:00:00\n",
      "1985-11-01 00:00:00\n",
      "1985-12-01 00:00:00\n",
      "1986-01-01 00:00:00\n",
      "1986-02-01 00:00:00\n",
      "1986-03-01 00:00:00\n",
      "1986-04-01 00:00:00\n",
      "1986-05-01 00:00:00\n",
      "1986-06-01 00:00:00\n",
      "1986-07-01 00:00:00\n",
      "1986-08-01 00:00:00\n",
      "1986-09-01 00:00:00\n",
      "1986-10-01 00:00:00\n",
      "1986-11-01 00:00:00\n",
      "1986-12-01 00:00:00\n",
      "1987-01-01 00:00:00\n",
      "1987-02-01 00:00:00\n",
      "1987-03-01 00:00:00\n",
      "1987-04-01 00:00:00\n",
      "1987-05-01 00:00:00\n",
      "1987-06-01 00:00:00\n",
      "1987-07-01 00:00:00\n",
      "1987-08-01 00:00:00\n",
      "1987-09-01 00:00:00\n",
      "1987-10-01 00:00:00\n",
      "1987-11-01 00:00:00\n",
      "1987-12-01 00:00:00\n",
      "1988-01-01 00:00:00\n",
      "1988-02-01 00:00:00\n",
      "1988-03-01 00:00:00\n",
      "1988-04-01 00:00:00\n",
      "1988-05-01 00:00:00\n",
      "1988-06-01 00:00:00\n",
      "1988-07-01 00:00:00\n",
      "1988-08-01 00:00:00\n",
      "1988-09-01 00:00:00\n",
      "1988-10-01 00:00:00\n",
      "1988-11-01 00:00:00\n",
      "1988-12-01 00:00:00\n",
      "1989-01-01 00:00:00\n",
      "1989-02-01 00:00:00\n",
      "1989-03-01 00:00:00\n",
      "1989-04-01 00:00:00\n",
      "1989-05-01 00:00:00\n",
      "1989-06-01 00:00:00\n",
      "1989-07-01 00:00:00\n",
      "1989-08-01 00:00:00\n",
      "1989-09-01 00:00:00\n",
      "1989-10-01 00:00:00\n",
      "1989-11-01 00:00:00\n",
      "1989-12-01 00:00:00\n",
      "1990-01-01 00:00:00\n",
      "1990-02-01 00:00:00\n",
      "1990-03-01 00:00:00\n",
      "1990-04-01 00:00:00\n",
      "1990-05-01 00:00:00\n",
      "1990-06-01 00:00:00\n",
      "1990-07-01 00:00:00\n",
      "1990-08-01 00:00:00\n",
      "1990-09-01 00:00:00\n",
      "1990-10-01 00:00:00\n",
      "1990-11-01 00:00:00\n",
      "1990-12-01 00:00:00\n",
      "1991-01-01 00:00:00\n",
      "1991-02-01 00:00:00\n",
      "1991-03-01 00:00:00\n",
      "1991-04-01 00:00:00\n",
      "1991-05-01 00:00:00\n",
      "1991-06-01 00:00:00\n",
      "1991-07-01 00:00:00\n",
      "1991-08-01 00:00:00\n",
      "1991-09-01 00:00:00\n",
      "1991-10-01 00:00:00\n",
      "1991-11-01 00:00:00\n",
      "1991-12-01 00:00:00\n",
      "1992-01-01 00:00:00\n",
      "1992-02-01 00:00:00\n",
      "1992-03-01 00:00:00\n",
      "1992-04-01 00:00:00\n",
      "1992-05-01 00:00:00\n",
      "1992-06-01 00:00:00\n",
      "1992-07-01 00:00:00\n",
      "1992-08-01 00:00:00\n",
      "1992-09-01 00:00:00\n",
      "1992-10-01 00:00:00\n",
      "1992-11-01 00:00:00\n",
      "1992-12-01 00:00:00\n",
      "1993-01-01 00:00:00\n",
      "1993-02-01 00:00:00\n",
      "1993-03-01 00:00:00\n",
      "1993-04-01 00:00:00\n",
      "1993-05-01 00:00:00\n",
      "1993-06-01 00:00:00\n",
      "1993-07-01 00:00:00\n",
      "1993-08-01 00:00:00\n",
      "1993-09-01 00:00:00\n",
      "1993-10-01 00:00:00\n",
      "1993-11-01 00:00:00\n",
      "1993-12-01 00:00:00\n",
      "1994-01-01 00:00:00\n",
      "1994-02-01 00:00:00\n",
      "1994-03-01 00:00:00\n",
      "1994-04-01 00:00:00\n",
      "1994-05-01 00:00:00\n",
      "1994-06-01 00:00:00\n",
      "1994-07-01 00:00:00\n",
      "1994-08-01 00:00:00\n",
      "1994-09-01 00:00:00\n",
      "1994-10-01 00:00:00\n",
      "1994-11-01 00:00:00\n",
      "1994-12-01 00:00:00\n",
      "1995-01-01 00:00:00\n",
      "1995-02-01 00:00:00\n",
      "1995-03-01 00:00:00\n",
      "1995-04-01 00:00:00\n",
      "1995-05-01 00:00:00\n",
      "1995-06-01 00:00:00\n",
      "1995-07-01 00:00:00\n",
      "1995-08-01 00:00:00\n",
      "1995-09-01 00:00:00\n",
      "1995-10-01 00:00:00\n",
      "1995-11-01 00:00:00\n",
      "1995-12-01 00:00:00\n",
      "1996-01-01 00:00:00\n",
      "1996-02-01 00:00:00\n",
      "1996-03-01 00:00:00\n",
      "1996-04-01 00:00:00\n",
      "1996-05-01 00:00:00\n",
      "1996-06-01 00:00:00\n",
      "1996-07-01 00:00:00\n",
      "1996-08-01 00:00:00\n",
      "1996-09-01 00:00:00\n",
      "1996-10-01 00:00:00\n",
      "1996-11-01 00:00:00\n",
      "1996-12-01 00:00:00\n",
      "1997-01-01 00:00:00\n",
      "1997-02-01 00:00:00\n",
      "1997-03-01 00:00:00\n",
      "1997-04-01 00:00:00\n",
      "1997-05-01 00:00:00\n",
      "1997-06-01 00:00:00\n",
      "1997-07-01 00:00:00\n",
      "1997-08-01 00:00:00\n",
      "1997-09-01 00:00:00\n",
      "1997-10-01 00:00:00\n",
      "1997-11-01 00:00:00\n",
      "1997-12-01 00:00:00\n",
      "1998-01-01 00:00:00\n",
      "1998-02-01 00:00:00\n",
      "1998-03-01 00:00:00\n",
      "1998-04-01 00:00:00\n",
      "1998-05-01 00:00:00\n",
      "1998-06-01 00:00:00\n",
      "1998-07-01 00:00:00\n",
      "1998-08-01 00:00:00\n",
      "1998-09-01 00:00:00\n",
      "1998-10-01 00:00:00\n",
      "1998-11-01 00:00:00\n",
      "1998-12-01 00:00:00\n",
      "1999-01-01 00:00:00\n",
      "1999-02-01 00:00:00\n",
      "1999-03-01 00:00:00\n",
      "1999-04-01 00:00:00\n",
      "1999-05-01 00:00:00\n",
      "1999-06-01 00:00:00\n",
      "1999-07-01 00:00:00\n",
      "1999-08-01 00:00:00\n",
      "1999-09-01 00:00:00\n",
      "1999-10-01 00:00:00\n",
      "1999-11-01 00:00:00\n",
      "1999-12-01 00:00:00\n",
      "2000-01-01 00:00:00\n",
      "2000-02-01 00:00:00\n",
      "2000-03-01 00:00:00\n",
      "2000-04-01 00:00:00\n",
      "2000-05-01 00:00:00\n",
      "2000-06-01 00:00:00\n",
      "2000-07-01 00:00:00\n",
      "2000-08-01 00:00:00\n",
      "2000-09-01 00:00:00\n",
      "2000-10-01 00:00:00\n",
      "2000-11-01 00:00:00\n",
      "2000-12-01 00:00:00\n",
      "2001-01-01 00:00:00\n",
      "2001-02-01 00:00:00\n",
      "2001-03-01 00:00:00\n",
      "2001-04-01 00:00:00\n",
      "2001-05-01 00:00:00\n",
      "2001-06-01 00:00:00\n",
      "2001-07-01 00:00:00\n",
      "2001-08-01 00:00:00\n",
      "2001-09-01 00:00:00\n",
      "2001-10-01 00:00:00\n",
      "2001-11-01 00:00:00\n",
      "2001-12-01 00:00:00\n",
      "2002-01-01 00:00:00\n",
      "2002-02-01 00:00:00\n",
      "2002-03-01 00:00:00\n",
      "2002-04-01 00:00:00\n",
      "2002-05-01 00:00:00\n",
      "2002-06-01 00:00:00\n",
      "2002-07-01 00:00:00\n",
      "2002-08-01 00:00:00\n",
      "2002-09-01 00:00:00\n",
      "2002-10-01 00:00:00\n",
      "2002-11-01 00:00:00\n",
      "2002-12-01 00:00:00\n",
      "2003-01-01 00:00:00\n",
      "2003-02-01 00:00:00\n",
      "2003-03-01 00:00:00\n",
      "2003-04-01 00:00:00\n",
      "2003-05-01 00:00:00\n",
      "2003-06-01 00:00:00\n",
      "2003-07-01 00:00:00\n",
      "2003-08-01 00:00:00\n",
      "2003-09-01 00:00:00\n",
      "2003-10-01 00:00:00\n",
      "2003-11-01 00:00:00\n",
      "2003-12-01 00:00:00\n",
      "2004-01-01 00:00:00\n",
      "2004-02-01 00:00:00\n",
      "2004-03-01 00:00:00\n",
      "2004-04-01 00:00:00\n",
      "2004-05-01 00:00:00\n",
      "2004-06-01 00:00:00\n",
      "2004-07-01 00:00:00\n",
      "2004-08-01 00:00:00\n",
      "2004-09-01 00:00:00\n",
      "2004-10-01 00:00:00\n",
      "2004-11-01 00:00:00\n",
      "2004-12-01 00:00:00\n",
      "2005-01-01 00:00:00\n",
      "2005-02-01 00:00:00\n",
      "2005-03-01 00:00:00\n",
      "2005-04-01 00:00:00\n",
      "2005-05-01 00:00:00\n",
      "2005-06-01 00:00:00\n",
      "2005-07-01 00:00:00\n",
      "2005-08-01 00:00:00\n",
      "2005-09-01 00:00:00\n",
      "2005-10-01 00:00:00\n",
      "2005-11-01 00:00:00\n",
      "2005-12-01 00:00:00\n",
      "2006-01-01 00:00:00\n",
      "2006-02-01 00:00:00\n",
      "2006-03-01 00:00:00\n",
      "2006-04-01 00:00:00\n",
      "2006-05-01 00:00:00\n",
      "2006-06-01 00:00:00\n",
      "2006-07-01 00:00:00\n",
      "2006-08-01 00:00:00\n",
      "2006-09-01 00:00:00\n",
      "2006-10-01 00:00:00\n",
      "2006-11-01 00:00:00\n",
      "2006-12-01 00:00:00\n",
      "2007-01-01 00:00:00\n",
      "2007-02-01 00:00:00\n",
      "2007-03-01 00:00:00\n",
      "2007-04-01 00:00:00\n",
      "2007-05-01 00:00:00\n",
      "2007-06-01 00:00:00\n",
      "2007-07-01 00:00:00\n",
      "2007-08-01 00:00:00\n",
      "2007-09-01 00:00:00\n",
      "2007-10-01 00:00:00\n",
      "2007-11-01 00:00:00\n",
      "2007-12-01 00:00:00\n",
      "2008-01-01 00:00:00\n",
      "2008-02-01 00:00:00\n",
      "2008-03-01 00:00:00\n",
      "2008-04-01 00:00:00\n",
      "2008-05-01 00:00:00\n",
      "2008-06-01 00:00:00\n",
      "2008-07-01 00:00:00\n",
      "2008-08-01 00:00:00\n",
      "2008-09-01 00:00:00\n",
      "2008-10-01 00:00:00\n",
      "2008-11-01 00:00:00\n",
      "2008-12-01 00:00:00\n",
      "2009-01-01 00:00:00\n",
      "2009-02-01 00:00:00\n",
      "2009-03-01 00:00:00\n",
      "2009-04-01 00:00:00\n",
      "2009-05-01 00:00:00\n",
      "2009-06-01 00:00:00\n",
      "2009-07-01 00:00:00\n",
      "2009-08-01 00:00:00\n",
      "2009-09-01 00:00:00\n",
      "2009-10-01 00:00:00\n",
      "2009-11-01 00:00:00\n",
      "2009-12-01 00:00:00\n",
      "2010-01-01 00:00:00\n",
      "2010-02-01 00:00:00\n",
      "2010-03-01 00:00:00\n",
      "2010-04-01 00:00:00\n",
      "2010-05-01 00:00:00\n",
      "2010-06-01 00:00:00\n",
      "2010-07-01 00:00:00\n",
      "2010-08-01 00:00:00\n",
      "2010-09-01 00:00:00\n",
      "2010-10-01 00:00:00\n",
      "2010-11-01 00:00:00\n",
      "2010-12-01 00:00:00\n",
      "2011-01-01 00:00:00\n",
      "2011-02-01 00:00:00\n",
      "2011-03-01 00:00:00\n",
      "2011-04-01 00:00:00\n",
      "2011-05-01 00:00:00\n",
      "2011-06-01 00:00:00\n",
      "2011-07-01 00:00:00\n",
      "2011-08-01 00:00:00\n",
      "2011-09-01 00:00:00\n",
      "2011-10-01 00:00:00\n",
      "2011-11-01 00:00:00\n",
      "2011-12-01 00:00:00\n",
      "2012-01-01 00:00:00\n",
      "2012-02-01 00:00:00\n",
      "2012-03-01 00:00:00\n",
      "2012-04-01 00:00:00\n",
      "2012-05-01 00:00:00\n",
      "2012-06-01 00:00:00\n",
      "2012-07-01 00:00:00\n",
      "2012-08-01 00:00:00\n",
      "2012-09-01 00:00:00\n",
      "2012-10-01 00:00:00\n",
      "2012-11-01 00:00:00\n",
      "2012-12-01 00:00:00\n",
      "2013-01-01 00:00:00\n",
      "2013-02-01 00:00:00\n",
      "2013-03-01 00:00:00\n",
      "2013-04-01 00:00:00\n",
      "2013-05-01 00:00:00\n",
      "2013-06-01 00:00:00\n",
      "2013-07-01 00:00:00\n",
      "2013-08-01 00:00:00\n",
      "2013-09-01 00:00:00\n",
      "2013-10-01 00:00:00\n",
      "2013-11-01 00:00:00\n",
      "2013-12-01 00:00:00\n",
      "2014-01-01 00:00:00\n",
      "2014-02-01 00:00:00\n",
      "2014-03-01 00:00:00\n",
      "2014-04-01 00:00:00\n",
      "2014-05-01 00:00:00\n",
      "2014-06-01 00:00:00\n",
      "2014-07-01 00:00:00\n",
      "2014-08-01 00:00:00\n",
      "2014-09-01 00:00:00\n",
      "2014-10-01 00:00:00\n",
      "2014-11-01 00:00:00\n",
      "2014-12-01 00:00:00\n",
      "2015-01-01 00:00:00\n",
      "2015-02-01 00:00:00\n",
      "2015-03-01 00:00:00\n",
      "2015-04-01 00:00:00\n",
      "2015-05-01 00:00:00\n",
      "2015-06-01 00:00:00\n",
      "2015-07-01 00:00:00\n",
      "2015-08-01 00:00:00\n",
      "2015-09-01 00:00:00\n",
      "2015-10-01 00:00:00\n",
      "2015-11-01 00:00:00\n",
      "2015-12-01 00:00:00\n",
      "2016-01-01 00:00:00\n",
      "2016-02-01 00:00:00\n",
      "2016-03-01 00:00:00\n",
      "2016-04-01 00:00:00\n",
      "2016-05-01 00:00:00\n",
      "2016-06-01 00:00:00\n",
      "2016-07-01 00:00:00\n",
      "2016-08-01 00:00:00\n",
      "2016-09-01 00:00:00\n",
      "2016-10-01 00:00:00\n",
      "2016-11-01 00:00:00\n",
      "2016-12-01 00:00:00\n",
      "2017-01-01 00:00:00\n",
      "2017-02-01 00:00:00\n",
      "2017-03-01 00:00:00\n",
      "2017-04-01 00:00:00\n",
      "2017-05-01 00:00:00\n",
      "2017-06-01 00:00:00\n",
      "2017-07-01 00:00:00\n",
      "2017-08-01 00:00:00\n",
      "2017-09-01 00:00:00\n",
      "2017-10-01 00:00:00\n",
      "2017-11-01 00:00:00\n",
      "2017-12-01 00:00:00\n",
      "2018-01-01 00:00:00\n",
      "2018-02-01 00:00:00\n",
      "2018-03-01 00:00:00\n",
      "2018-04-01 00:00:00\n",
      "2018-05-01 00:00:00\n",
      "2018-06-01 00:00:00\n",
      "2018-07-01 00:00:00\n",
      "2018-08-01 00:00:00\n",
      "2018-09-01 00:00:00\n",
      "2018-10-01 00:00:00\n",
      "2018-11-01 00:00:00\n",
      "2018-12-01 00:00:00\n",
      "2019-01-01 00:00:00\n",
      "2019-02-01 00:00:00\n",
      "2019-03-01 00:00:00\n"
     ]
    }
   ],
   "source": [
    "from datetime import datetime, timedelta\n",
    "\n",
    "# set up the reference time\n",
    "ref_time = datetime(1900, 1, 1)\n",
    "\n",
    "# set up a dataframe with the obs values and the time\n",
    "# extract the time points\n",
    "time_points = obs_regridded.coord('time').points\n",
    "\n",
    "# Convert to datetime\n",
    "datetimes = [ref_time + timedelta(hours=int(h)) for h in time_points]\n",
    "\n",
    "# Print the result\n",
    "for dt in datetimes:\n",
    "    print(dt)"
   ]
  },
  {
   "cell_type": "code",
   "execution_count": 44,
   "metadata": {},
   "outputs": [],
   "source": [
    "# Set up a dataframe with the obs values and the time as the index\n",
    "obs_df = pd.DataFrame(obs_values_masked, index=datetimes, columns=['10m_wind_speed_UK'])"
   ]
  },
  {
   "cell_type": "code",
   "execution_count": 45,
   "metadata": {},
   "outputs": [
    {
     "data": {
      "text/html": [
       "<div>\n",
       "<style scoped>\n",
       "    .dataframe tbody tr th:only-of-type {\n",
       "        vertical-align: middle;\n",
       "    }\n",
       "\n",
       "    .dataframe tbody tr th {\n",
       "        vertical-align: top;\n",
       "    }\n",
       "\n",
       "    .dataframe thead th {\n",
       "        text-align: right;\n",
       "    }\n",
       "</style>\n",
       "<table border=\"1\" class=\"dataframe\">\n",
       "  <thead>\n",
       "    <tr style=\"text-align: right;\">\n",
       "      <th></th>\n",
       "      <th>10m_wind_speed_UK</th>\n",
       "    </tr>\n",
       "  </thead>\n",
       "  <tbody>\n",
       "    <tr>\n",
       "      <th>2018-11-01</th>\n",
       "      <td>10.621612</td>\n",
       "    </tr>\n",
       "    <tr>\n",
       "      <th>2018-12-01</th>\n",
       "      <td>10.422896</td>\n",
       "    </tr>\n",
       "    <tr>\n",
       "      <th>2019-01-01</th>\n",
       "      <td>12.143492</td>\n",
       "    </tr>\n",
       "    <tr>\n",
       "      <th>2019-02-01</th>\n",
       "      <td>12.029146</td>\n",
       "    </tr>\n",
       "    <tr>\n",
       "      <th>2019-03-01</th>\n",
       "      <td>10.079779</td>\n",
       "    </tr>\n",
       "  </tbody>\n",
       "</table>\n",
       "</div>"
      ],
      "text/plain": [
       "            10m_wind_speed_UK\n",
       "2018-11-01          10.621612\n",
       "2018-12-01          10.422896\n",
       "2019-01-01          12.143492\n",
       "2019-02-01          12.029146\n",
       "2019-03-01          10.079779"
      ]
     },
     "execution_count": 45,
     "metadata": {},
     "output_type": "execute_result"
    }
   ],
   "source": [
    "obs_df.tail()"
   ]
  },
  {
   "cell_type": "code",
   "execution_count": 46,
   "metadata": {},
   "outputs": [],
   "source": [
    "# constrain to only months 10, 11, 12, 1, 2, 3\n",
    "obs_df = obs_df[obs_df.index.month.isin([10, 11, 12, 1, 2, 3])]"
   ]
  },
  {
   "cell_type": "code",
   "execution_count": 47,
   "metadata": {},
   "outputs": [
    {
     "name": "stderr",
     "output_type": "stream",
     "text": [
      "/tmp/ipykernel_9809/4129453483.py:2: FutureWarning: 'A' is deprecated and will be removed in a future version, please use 'YE' instead.\n",
      "  obs_df_shifted = obs_df.shift(-3).resample('A').mean()\n"
     ]
    }
   ],
   "source": [
    "# shift the index back by 3 months and take the annual mean\n",
    "obs_df_shifted = obs_df.shift(-3).resample('A').mean()"
   ]
  },
  {
   "cell_type": "code",
   "execution_count": 49,
   "metadata": {},
   "outputs": [
    {
     "data": {
      "text/html": [
       "<div>\n",
       "<style scoped>\n",
       "    .dataframe tbody tr th:only-of-type {\n",
       "        vertical-align: middle;\n",
       "    }\n",
       "\n",
       "    .dataframe tbody tr th {\n",
       "        vertical-align: top;\n",
       "    }\n",
       "\n",
       "    .dataframe thead th {\n",
       "        text-align: right;\n",
       "    }\n",
       "</style>\n",
       "<table border=\"1\" class=\"dataframe\">\n",
       "  <thead>\n",
       "    <tr style=\"text-align: right;\">\n",
       "      <th></th>\n",
       "      <th>10m_wind_speed_UK</th>\n",
       "    </tr>\n",
       "  </thead>\n",
       "  <tbody>\n",
       "    <tr>\n",
       "      <th>2015-12-31</th>\n",
       "      <td>10.125012</td>\n",
       "    </tr>\n",
       "    <tr>\n",
       "      <th>2016-12-31</th>\n",
       "      <td>10.829126</td>\n",
       "    </tr>\n",
       "    <tr>\n",
       "      <th>2017-12-31</th>\n",
       "      <td>10.917581</td>\n",
       "    </tr>\n",
       "    <tr>\n",
       "      <th>2018-12-31</th>\n",
       "      <td>10.714791</td>\n",
       "    </tr>\n",
       "    <tr>\n",
       "      <th>2019-12-31</th>\n",
       "      <td>NaN</td>\n",
       "    </tr>\n",
       "  </tbody>\n",
       "</table>\n",
       "</div>"
      ],
      "text/plain": [
       "            10m_wind_speed_UK\n",
       "2015-12-31          10.125012\n",
       "2016-12-31          10.829126\n",
       "2017-12-31          10.917581\n",
       "2018-12-31          10.714791\n",
       "2019-12-31                NaN"
      ]
     },
     "execution_count": 49,
     "metadata": {},
     "output_type": "execute_result"
    }
   ],
   "source": [
    "obs_df_shifted.tail()"
   ]
  },
  {
   "cell_type": "code",
   "execution_count": 50,
   "metadata": {},
   "outputs": [],
   "source": [
    "# if any of the rows are NaN then we want to remove them\n",
    "obs_df_shifted = obs_df_shifted.dropna()"
   ]
  },
  {
   "cell_type": "code",
   "execution_count": 51,
   "metadata": {},
   "outputs": [
    {
     "data": {
      "text/html": [
       "<div>\n",
       "<style scoped>\n",
       "    .dataframe tbody tr th:only-of-type {\n",
       "        vertical-align: middle;\n",
       "    }\n",
       "\n",
       "    .dataframe tbody tr th {\n",
       "        vertical-align: top;\n",
       "    }\n",
       "\n",
       "    .dataframe thead th {\n",
       "        text-align: right;\n",
       "    }\n",
       "</style>\n",
       "<table border=\"1\" class=\"dataframe\">\n",
       "  <thead>\n",
       "    <tr style=\"text-align: right;\">\n",
       "      <th></th>\n",
       "      <th>10m_wind_speed_UK</th>\n",
       "    </tr>\n",
       "  </thead>\n",
       "  <tbody>\n",
       "    <tr>\n",
       "      <th>2014-12-31</th>\n",
       "      <td>9.783063</td>\n",
       "    </tr>\n",
       "    <tr>\n",
       "      <th>2015-12-31</th>\n",
       "      <td>10.125012</td>\n",
       "    </tr>\n",
       "    <tr>\n",
       "      <th>2016-12-31</th>\n",
       "      <td>10.829126</td>\n",
       "    </tr>\n",
       "    <tr>\n",
       "      <th>2017-12-31</th>\n",
       "      <td>10.917581</td>\n",
       "    </tr>\n",
       "    <tr>\n",
       "      <th>2018-12-31</th>\n",
       "      <td>10.714791</td>\n",
       "    </tr>\n",
       "  </tbody>\n",
       "</table>\n",
       "</div>"
      ],
      "text/plain": [
       "            10m_wind_speed_UK\n",
       "2014-12-31           9.783063\n",
       "2015-12-31          10.125012\n",
       "2016-12-31          10.829126\n",
       "2017-12-31          10.917581\n",
       "2018-12-31          10.714791"
      ]
     },
     "execution_count": 51,
     "metadata": {},
     "output_type": "execute_result"
    }
   ],
   "source": [
    "obs_df_shifted.tail()"
   ]
  },
  {
   "cell_type": "code",
   "execution_count": 52,
   "metadata": {},
   "outputs": [
    {
     "name": "stdout",
     "output_type": "stream",
     "text": [
      "CPU times: user 2min 36s, sys: 3min 3s, total: 5min 40s\n",
      "Wall time: 8min 51s\n"
     ]
    }
   ],
   "source": [
    "%%time\n",
    "\n",
    "# apply the mask to the member cube\n",
    "model_values = member_cube.data\n",
    "\n",
    "# apply the mask\n",
    "model_values_masked = model_values * MASK_MATRIX_RESHAPE"
   ]
  },
  {
   "cell_type": "code",
   "execution_count": 53,
   "metadata": {},
   "outputs": [
    {
     "name": "stdout",
     "output_type": "stream",
     "text": [
      "(59, 10, 125, 324, 432)\n"
     ]
    }
   ],
   "source": [
    "# print the shape of the model values masked\n",
    "print(np.shape(model_values_masked))"
   ]
  },
  {
   "cell_type": "code",
   "execution_count": 54,
   "metadata": {},
   "outputs": [],
   "source": [
    "# extract the lat and lon points fro the model cube\n",
    "model_lats = member_cube.coord('latitude').points\n",
    "model_lons = member_cube.coord('longitude').points"
   ]
  },
  {
   "cell_type": "code",
   "execution_count": 55,
   "metadata": {},
   "outputs": [
    {
     "name": "stdout",
     "output_type": "stream",
     "text": [
      "-89.72222137451172 89.72223663330078\n",
      "0.4166666567325592 359.58331298828125\n"
     ]
    }
   ],
   "source": [
    "# print the min and max of the model lats\n",
    "print(np.min(model_lats), np.max(model_lats))\n",
    "\n",
    "# print the min and max of the model lons\n",
    "print(np.min(model_lons), np.max(model_lons))"
   ]
  },
  {
   "cell_type": "code",
   "execution_count": 56,
   "metadata": {},
   "outputs": [],
   "source": [
    "# convert model lons to -180 to 180\n",
    "model_lons = model_lons - 180"
   ]
  },
  {
   "cell_type": "code",
   "execution_count": 57,
   "metadata": {},
   "outputs": [
    {
     "data": {
      "image/png": "[encoded data removed]",
      "text/plain": [
       "<Figure size 720x360 with 2 Axes>"
      ]
     },
     "metadata": {
      "needs_background": "light"
     },
     "output_type": "display_data"
    }
   ],
   "source": [
    "# set up a figure\n",
    "plt.figure(figsize=(10, 5))\n",
    "\n",
    "# include the basemap\n",
    "ax = plt.axes(projection=ccrs.PlateCarree(central_longitude=0))\n",
    "\n",
    "# include coastlines\n",
    "ax.coastlines()\n",
    "\n",
    "# plot the obs data\n",
    "plt.contourf(model_lons, model_lats, model_values_masked[0,0,0,:,:], cmap='coolwarm')\n",
    "\n",
    "# set the lat and lon limits\n",
    "ax.set_extent([-15, 10, 40, 70], crs=ccrs.PlateCarree())\n",
    "\n",
    "# include a colorbar\n",
    "plt.colorbar()\n",
    "\n",
    "plt.show()"
   ]
  },
  {
   "cell_type": "code",
   "execution_count": 58,
   "metadata": {},
   "outputs": [
    {
     "ename": "",
     "evalue": "",
     "output_type": "error",
     "traceback": [
      "\u001b[1;31mThe Kernel crashed while executing code in the the current cell or a previous cell. Please review the code in the cell(s) to identify a possible cause of the failure. Click <a href='https://aka.ms/vscodeJupyterKernelCrash'>here</a> for more info. View Jupyter <a href='command:jupyter.viewOutput'>log</a> for further details."
     ]
    }
   ],
   "source": [
    "# anywhere there are zeros in the mask we want to set the obs values to nan\n",
    "model_values_masked = np.where(model_values_masked == 0, np.nan, model_values_masked)\n",
    "\n",
    "# take the nanmean over the lat and lon dimensions\n",
    "model_values_masked = np.nanmean(model_values_masked, axis=(3, 4))"
   ]
  },
  {
   "cell_type": "code",
   "execution_count": 99,
   "metadata": {},
   "outputs": [
    {
     "name": "stdout",
     "output_type": "stream",
     "text": [
      "(6, 10, 125)\n"
     ]
    }
   ],
   "source": [
    "# print the shape of the model values masked\n",
    "print(np.shape(model_values_masked))"
   ]
  },
  {
   "cell_type": "code",
   "execution_count": 101,
   "metadata": {},
   "outputs": [],
   "source": [
    "# extract the init values from the cube\n",
    "init_years = member_cube.coord('init').points\n",
    "\n",
    "# extract the member values from the cube\n",
    "members = member_cube.coord('member').points\n",
    "\n",
    "# extract the leads from the cube\n",
    "leads = member_cube.coord('lead').points"
   ]
  },
  {
   "cell_type": "code",
   "execution_count": 105,
   "metadata": {},
   "outputs": [],
   "source": [
    "# Set up an empty dataframe\n",
    "model_df = pd.DataFrame()\n",
    "\n",
    "# loop over the init years and members and leads\n",
    "for i in range(len(init_years)):\n",
    "    for m in range(len(members)):\n",
    "        for l in range(len(leads)):\n",
    "            # extract the data\n",
    "            data = model_values_masked[i, m, l]\n",
    "\n",
    "            # add these to the dataframe\n",
    "            model_df_this = pd.DataFrame(\n",
    "                {\n",
    "                    'init_year': [init_years[i]],\n",
    "                    'member': [members[m]],\n",
    "                    'lead': [leads[l]],\n",
    "                    'data': [data]\n",
    "                }\n",
    "            )\n",
    "\n",
    "            model_df = pd.concat([model_df, model_df_this])"
   ]
  },
  {
   "cell_type": "code",
   "execution_count": 110,
   "metadata": {},
   "outputs": [
    {
     "data": {
      "text/html": [
       "<div>\n",
       "<style scoped>\n",
       "    .dataframe tbody tr th:only-of-type {\n",
       "        vertical-align: middle;\n",
       "    }\n",
       "\n",
       "    .dataframe tbody tr th {\n",
       "        vertical-align: top;\n",
       "    }\n",
       "\n",
       "    .dataframe thead th {\n",
       "        text-align: right;\n",
       "    }\n",
       "</style>\n",
       "<table border=\"1\" class=\"dataframe\">\n",
       "  <thead>\n",
       "    <tr style=\"text-align: right;\">\n",
       "      <th></th>\n",
       "      <th>init_year</th>\n",
       "      <th>member</th>\n",
       "      <th>lead</th>\n",
       "      <th>data</th>\n",
       "    </tr>\n",
       "  </thead>\n",
       "  <tbody>\n",
       "    <tr>\n",
       "      <th>0</th>\n",
       "      <td>1960</td>\n",
       "      <td>10</td>\n",
       "      <td>1</td>\n",
       "      <td>11.151278</td>\n",
       "    </tr>\n",
       "    <tr>\n",
       "      <th>0</th>\n",
       "      <td>1960</td>\n",
       "      <td>10</td>\n",
       "      <td>2</td>\n",
       "      <td>11.545246</td>\n",
       "    </tr>\n",
       "    <tr>\n",
       "      <th>0</th>\n",
       "      <td>1960</td>\n",
       "      <td>10</td>\n",
       "      <td>3</td>\n",
       "      <td>10.791002</td>\n",
       "    </tr>\n",
       "    <tr>\n",
       "      <th>0</th>\n",
       "      <td>1960</td>\n",
       "      <td>10</td>\n",
       "      <td>4</td>\n",
       "      <td>10.044464</td>\n",
       "    </tr>\n",
       "    <tr>\n",
       "      <th>0</th>\n",
       "      <td>1960</td>\n",
       "      <td>10</td>\n",
       "      <td>5</td>\n",
       "      <td>11.279290</td>\n",
       "    </tr>\n",
       "  </tbody>\n",
       "</table>\n",
       "</div>"
      ],
      "text/plain": [
       "   init_year  member  lead       data\n",
       "0       1960      10     1  11.151278\n",
       "0       1960      10     2  11.545246\n",
       "0       1960      10     3  10.791002\n",
       "0       1960      10     4  10.044464\n",
       "0       1960      10     5  11.279290"
      ]
     },
     "execution_count": 110,
     "metadata": {},
     "output_type": "execute_result"
    }
   ],
   "source": [
    "model_df.head()"
   ]
  },
  {
   "cell_type": "code",
   "execution_count": 111,
   "metadata": {},
   "outputs": [
    {
     "data": {
      "text/html": [
       "<div>\n",
       "<style scoped>\n",
       "    .dataframe tbody tr th:only-of-type {\n",
       "        vertical-align: middle;\n",
       "    }\n",
       "\n",
       "    .dataframe tbody tr th {\n",
       "        vertical-align: top;\n",
       "    }\n",
       "\n",
       "    .dataframe thead th {\n",
       "        text-align: right;\n",
       "    }\n",
       "</style>\n",
       "<table border=\"1\" class=\"dataframe\">\n",
       "  <thead>\n",
       "    <tr style=\"text-align: right;\">\n",
       "      <th></th>\n",
       "      <th>10m_wind_speed_UK</th>\n",
       "    </tr>\n",
       "  </thead>\n",
       "  <tbody>\n",
       "    <tr>\n",
       "      <th>1960-12-31</th>\n",
       "      <td>9.502781</td>\n",
       "    </tr>\n",
       "    <tr>\n",
       "      <th>1961-12-31</th>\n",
       "      <td>9.066864</td>\n",
       "    </tr>\n",
       "    <tr>\n",
       "      <th>1962-12-31</th>\n",
       "      <td>8.589039</td>\n",
       "    </tr>\n",
       "    <tr>\n",
       "      <th>1963-12-31</th>\n",
       "      <td>8.642107</td>\n",
       "    </tr>\n",
       "    <tr>\n",
       "      <th>1964-12-31</th>\n",
       "      <td>9.308294</td>\n",
       "    </tr>\n",
       "  </tbody>\n",
       "</table>\n",
       "</div>"
      ],
      "text/plain": [
       "            10m_wind_speed_UK\n",
       "1960-12-31           9.502781\n",
       "1961-12-31           9.066864\n",
       "1962-12-31           8.589039\n",
       "1963-12-31           8.642107\n",
       "1964-12-31           9.308294"
      ]
     },
     "execution_count": 111,
     "metadata": {},
     "output_type": "execute_result"
    }
   ],
   "source": [
    "obs_df_shifted.head()"
   ]
  },
  {
   "cell_type": "markdown",
   "metadata": {},
   "source": [
    "Perhaps a simple example first of all - consider the first complete ONDJFM in the model data."
   ]
  },
  {
   "cell_type": "code",
   "execution_count": 114,
   "metadata": {},
   "outputs": [],
   "source": [
    "# create a new df\n",
    "model_df_new = pd.DataFrame()\n",
    "\n",
    "# loop over the unique init years and members in model_df\n",
    "for init_year in model_df['init_year'].unique():\n",
    "    for member in model_df['member'].unique():\n",
    "        # extract the model data\n",
    "        model_data = model_df[(model_df['init_year'] == init_year) & (model_df['member'] == member)]\n",
    "\n",
    "        # subset to lead values [12, 13, 14, 15, 16, 17] and take the mean\n",
    "        # first complete ONDJFM season\n",
    "        model_data = model_data[model_data['lead'].isin([12, 13, 14, 15, 16, 17])]\n",
    "\n",
    "        mean_data = model_data['data'].mean()\n",
    "\n",
    "        # create a dataframe this\n",
    "        model_data_this = pd.DataFrame(\n",
    "            {\n",
    "                'init_year': [init_year],\n",
    "                'member': [member],\n",
    "                'data': [mean_data]\n",
    "            }\n",
    "        )\n",
    "\n",
    "        model_df_new = pd.concat([model_df_new, model_data_this])"
   ]
  },
  {
   "cell_type": "code",
   "execution_count": 118,
   "metadata": {},
   "outputs": [
    {
     "data": {
      "text/html": [
       "<div>\n",
       "<style scoped>\n",
       "    .dataframe tbody tr th:only-of-type {\n",
       "        vertical-align: middle;\n",
       "    }\n",
       "\n",
       "    .dataframe tbody tr th {\n",
       "        vertical-align: top;\n",
       "    }\n",
       "\n",
       "    .dataframe thead th {\n",
       "        text-align: right;\n",
       "    }\n",
       "</style>\n",
       "<table border=\"1\" class=\"dataframe\">\n",
       "  <thead>\n",
       "    <tr style=\"text-align: right;\">\n",
       "      <th></th>\n",
       "      <th>init_year</th>\n",
       "      <th>member</th>\n",
       "      <th>data</th>\n",
       "    </tr>\n",
       "  </thead>\n",
       "  <tbody>\n",
       "    <tr>\n",
       "      <th>0</th>\n",
       "      <td>1960</td>\n",
       "      <td>10</td>\n",
       "      <td>10.428748</td>\n",
       "    </tr>\n",
       "    <tr>\n",
       "      <th>0</th>\n",
       "      <td>1960</td>\n",
       "      <td>1</td>\n",
       "      <td>10.345117</td>\n",
       "    </tr>\n",
       "    <tr>\n",
       "      <th>0</th>\n",
       "      <td>1960</td>\n",
       "      <td>2</td>\n",
       "      <td>10.200590</td>\n",
       "    </tr>\n",
       "    <tr>\n",
       "      <th>0</th>\n",
       "      <td>1960</td>\n",
       "      <td>3</td>\n",
       "      <td>10.097336</td>\n",
       "    </tr>\n",
       "    <tr>\n",
       "      <th>0</th>\n",
       "      <td>1960</td>\n",
       "      <td>4</td>\n",
       "      <td>10.567812</td>\n",
       "    </tr>\n",
       "  </tbody>\n",
       "</table>\n",
       "</div>"
      ],
      "text/plain": [
       "   init_year  member       data\n",
       "0       1960      10  10.428748\n",
       "0       1960       1  10.345117\n",
       "0       1960       2  10.200590\n",
       "0       1960       3  10.097336\n",
       "0       1960       4  10.567812"
      ]
     },
     "execution_count": 118,
     "metadata": {},
     "output_type": "execute_result"
    }
   ],
   "source": [
    "model_df_new.head()"
   ]
  },
  {
   "cell_type": "code",
   "execution_count": 150,
   "metadata": {},
   "outputs": [],
   "source": [
    "obs_df_shifted_time = obs_df_shifted.reset_index()"
   ]
  },
  {
   "cell_type": "code",
   "execution_count": 152,
   "metadata": {},
   "outputs": [],
   "source": [
    "# drop the nans from the obs df\n",
    "obs_df_shifted_time = obs_df_shifted_time.dropna()"
   ]
  },
  {
   "cell_type": "code",
   "execution_count": 153,
   "metadata": {},
   "outputs": [
    {
     "data": {
      "text/plain": [
       "0    9.502781\n",
       "1    9.066864\n",
       "2    8.589039\n",
       "3    8.642107\n",
       "4    9.308294\n",
       "5    8.829500\n",
       "Name: 10m_wind_speed_UK, dtype: float64"
      ]
     },
     "execution_count": 153,
     "metadata": {},
     "output_type": "execute_result"
    }
   ],
   "source": [
    "obs_df_shifted_time['10m_wind_speed_UK']"
   ]
  },
  {
   "cell_type": "code",
   "execution_count": 123,
   "metadata": {},
   "outputs": [
    {
     "data": {
      "text/plain": [
       "<module 'functions' from '/home/users/benhutch/unseen_functions/functions.py'>"
      ]
     },
     "execution_count": 123,
     "metadata": {},
     "output_type": "execute_result"
    }
   ],
   "source": [
    "# reload the functions\n",
    "import importlib\n",
    "\n",
    "importlib.reload(sys.modules['functions'])"
   ]
  },
  {
   "cell_type": "code",
   "execution_count": 129,
   "metadata": {},
   "outputs": [
    {
     "data": {
      "text/plain": [
       "-0.0040505934479714055"
      ]
     },
     "execution_count": 129,
     "metadata": {},
     "output_type": "execute_result"
    }
   ],
   "source": [
    "from scipy import stats\n",
    "\n",
    "stats.skew(obs_df_shifted_time['10m_wind_speed_UK'])"
   ]
  },
  {
   "cell_type": "code",
   "execution_count": 154,
   "metadata": {},
   "outputs": [
    {
     "name": "stderr",
     "output_type": "stream",
     "text": [
      "Calculating bootstrap statistics: 100%|██████████| 1000/1000 [00:02<00:00, 488.15it/s]\n"
     ]
    },
    {
     "data": {
      "image/png": "[encoded data removed]",
      "text/plain": [
       "<Figure size 720x720 with 4 Axes>"
      ]
     },
     "metadata": {
      "needs_background": "light"
     },
     "output_type": "display_data"
    }
   ],
   "source": [
    "# plot the fidelity\n",
    "funcs.plot_fidelity(\n",
    "    obs_df=obs_df_shifted_time,\n",
    "    model_df=model_df_new,\n",
    "    obs_val_name='10m_wind_speed_UK',\n",
    "    model_val_name='data',\n",
    "    obs_time_name='index',\n",
    "    model_time_name='init_year',\n",
    "    model_lead_name=None,\n",
    "    nboot=1000, # testing run\n",
    ")"
   ]
  },
  {
   "cell_type": "code",
   "execution_count": 21,
   "metadata": {},
   "outputs": [],
   "source": [
    "# single_file = \"/badc/cmip6/data/CMIP6/DCPP/MOHC/HadGEM3-GC31-MM/dcppA-hindcast/s1960-r1i1p1f2/day/tas/gn/files/d20200417/tas_day_HadGEM3-GC31-MM_dcppA-hindcast_s1960-r1i1p1f2_gn_19601101-19601230.nc\"\n",
    "\n",
    "# # load single file\n",
    "# ds_single = xr.open_dataset(single_file)"
   ]
  },
  {
   "cell_type": "code",
   "execution_count": 22,
   "metadata": {},
   "outputs": [],
   "source": [
    "# ds_single"
   ]
  },
  {
   "cell_type": "code",
   "execution_count": 23,
   "metadata": {},
   "outputs": [],
   "source": [
    "# %%time\n",
    "\n",
    "# # Test loading obs data\n",
    "# # File = surface_wind_ERA5.nc\n",
    "# # Directory = /home/users/benhutch/ERA5\n",
    "# obs_df = funcs.load_regrid_obs(\n",
    "#     model_ds=ds_single,\n",
    "#     obs_variable=obs_var,\n",
    "#     obs_path=\"/home/users/benhutch/ERA5/surface_wind_ERA5.nc\",\n",
    "#     start_year=1961,\n",
    "#     end_year=2014,\n",
    "#     months=[10, 11, 12, 1, 2, 3],\n",
    "#     grid=dic.uk_grid,\n",
    "# )"
   ]
  },
  {
   "cell_type": "code",
   "execution_count": 24,
   "metadata": {},
   "outputs": [],
   "source": [
    "# obs_df.head()"
   ]
  },
  {
   "cell_type": "code",
   "execution_count": 25,
   "metadata": {},
   "outputs": [],
   "source": [
    "# # rename value to sfcWind_UK_obs\n",
    "# obs_df.rename(columns={\"value\": \"sfcWind_UK_obs\"}, inplace=True)"
   ]
  },
  {
   "cell_type": "code",
   "execution_count": 26,
   "metadata": {},
   "outputs": [],
   "source": [
    "# obs_df.head()"
   ]
  },
  {
   "cell_type": "code",
   "execution_count": 27,
   "metadata": {},
   "outputs": [],
   "source": [
    "# # When you are done and whish to release your cluster:\n",
    "# cluster.shutdown()"
   ]
  },
  {
   "cell_type": "code",
   "execution_count": 28,
   "metadata": {},
   "outputs": [],
   "source": [
    "# %%time\n",
    "\n",
    "# # Regrid the dataset\n",
    "# rg_ds = funcs.regrid_ds(\n",
    "#     ds=member_ds,\n",
    "#     variable=\"sfcWind\",\n",
    "# )"
   ]
  },
  {
   "cell_type": "code",
   "execution_count": 29,
   "metadata": {},
   "outputs": [],
   "source": [
    "# print(rg_ds[\"lon\"].min().values)\n",
    "# print(rg_ds[\"lon\"].max().values)\n",
    "# print(rg_ds[\"lat\"].min().values)\n",
    "# print(rg_ds[\"lat\"].max().values)"
   ]
  },
  {
   "cell_type": "code",
   "execution_count": 30,
   "metadata": {},
   "outputs": [],
   "source": [
    "# import importlib\n",
    "\n",
    "# importlib.reload(sys.modules['functions'])\n",
    "\n",
    "# import functions as funcs"
   ]
  },
  {
   "cell_type": "code",
   "execution_count": 31,
   "metadata": {},
   "outputs": [],
   "source": [
    "# %%time\n",
    "\n",
    "# # Select the UK grid\n",
    "# uk_ds = funcs.select_gridbox(\n",
    "#     ds=rg_ds,\n",
    "#     grid=dic.uk_grid,\n",
    "# )"
   ]
  },
  {
   "cell_type": "code",
   "execution_count": 32,
   "metadata": {},
   "outputs": [],
   "source": [
    "# import importlib\n",
    "\n",
    "# importlib.reload(sys.modules['functions'])\n",
    "\n",
    "# import functions as funcs"
   ]
  },
  {
   "cell_type": "code",
   "execution_count": 33,
   "metadata": {
    "scrolled": true
   },
   "outputs": [],
   "source": [
    "# print(uk_ds)"
   ]
  },
  {
   "cell_type": "code",
   "execution_count": 34,
   "metadata": {},
   "outputs": [],
   "source": [
    "# # test the new function\n",
    "# dates = funcs.select_months(\n",
    "#     ds=uk_ds,\n",
    "#     months=[10, 11, 12, 1, 2, 3],\n",
    "#     first_day=\"1961-11-01\",\n",
    "#     first_time=\"12:00:00\",\n",
    "#     frequency=frequency,\n",
    "# )"
   ]
  },
  {
   "cell_type": "code",
   "execution_count": 35,
   "metadata": {},
   "outputs": [],
   "source": [
    "# dates"
   ]
  },
  {
   "cell_type": "code",
   "execution_count": 36,
   "metadata": {},
   "outputs": [],
   "source": [
    "# # first month (1) = 1961-11-16 00:00:00\n",
    "# # first day (1) = 1961-11-01 12:00:00\n",
    "# # frequency = \"day\"\n",
    "# # time_axis_type : Datetime360Day\n",
    "# ds = funcs.lead_time_avg(\n",
    "#     ds=uk_ds,\n",
    "#     months=[10, 11, 12, 1, 2, 3],\n",
    "#     first_month=\"1961-11-16\"\n",
    "# )"
   ]
  },
  {
   "cell_type": "code",
   "execution_count": 37,
   "metadata": {},
   "outputs": [],
   "source": [
    "# ds"
   ]
  },
  {
   "cell_type": "code",
   "execution_count": 38,
   "metadata": {},
   "outputs": [
    {
     "name": "stdout",
     "output_type": "stream",
     "text": [
      "CPU times: user 25 µs, sys: 12 µs, total: 37 µs\n",
      "Wall time: 41 µs\n"
     ]
    }
   ],
   "source": [
    "%%time\n",
    "\n",
    "# set up the fname and directory\n",
    "fname=\"test-uk-wind2.csv\"\n",
    "directory=\"/home/users/benhutch/unseen_multi_year\"\n",
    "\n",
    "\n",
    "# Set up the fpath\n",
    "fpath=os.path.join(directory,fname)\n",
    "\n",
    "# # Set a name\n",
    "# ds.name = \"sfcWind_UK\"\n",
    "\n",
    "# # save as a csv\n",
    "# ds.to_dataframe().to_csv(fpath)"
   ]
  },
  {
   "cell_type": "code",
   "execution_count": 39,
   "metadata": {},
   "outputs": [],
   "source": [
    "df = pd.read_csv(fpath)"
   ]
  },
  {
   "cell_type": "code",
   "execution_count": 40,
   "metadata": {},
   "outputs": [
    {
     "data": {
      "text/html": [
       "<div>\n",
       "<style scoped>\n",
       "    .dataframe tbody tr th:only-of-type {\n",
       "        vertical-align: middle;\n",
       "    }\n",
       "\n",
       "    .dataframe tbody tr th {\n",
       "        vertical-align: top;\n",
       "    }\n",
       "\n",
       "    .dataframe thead th {\n",
       "        text-align: right;\n",
       "    }\n",
       "</style>\n",
       "<table border=\"1\" class=\"dataframe\">\n",
       "  <thead>\n",
       "    <tr style=\"text-align: right;\">\n",
       "      <th></th>\n",
       "      <th>lead</th>\n",
       "      <th>init</th>\n",
       "      <th>member</th>\n",
       "      <th>height</th>\n",
       "      <th>sfcWind_UK</th>\n",
       "    </tr>\n",
       "  </thead>\n",
       "  <tbody>\n",
       "    <tr>\n",
       "      <th>0</th>\n",
       "      <td>1</td>\n",
       "      <td>1961</td>\n",
       "      <td>r10i1p1f2</td>\n",
       "      <td>10.0</td>\n",
       "      <td>8.422969</td>\n",
       "    </tr>\n",
       "    <tr>\n",
       "      <th>1</th>\n",
       "      <td>1</td>\n",
       "      <td>1961</td>\n",
       "      <td>r1i1p1f2</td>\n",
       "      <td>10.0</td>\n",
       "      <td>8.427586</td>\n",
       "    </tr>\n",
       "    <tr>\n",
       "      <th>2</th>\n",
       "      <td>1</td>\n",
       "      <td>1961</td>\n",
       "      <td>r2i1p1f2</td>\n",
       "      <td>10.0</td>\n",
       "      <td>7.839721</td>\n",
       "    </tr>\n",
       "    <tr>\n",
       "      <th>3</th>\n",
       "      <td>1</td>\n",
       "      <td>1961</td>\n",
       "      <td>r3i1p1f2</td>\n",
       "      <td>10.0</td>\n",
       "      <td>7.730560</td>\n",
       "    </tr>\n",
       "    <tr>\n",
       "      <th>4</th>\n",
       "      <td>1</td>\n",
       "      <td>1961</td>\n",
       "      <td>r4i1p1f2</td>\n",
       "      <td>10.0</td>\n",
       "      <td>7.879578</td>\n",
       "    </tr>\n",
       "  </tbody>\n",
       "</table>\n",
       "</div>"
      ],
      "text/plain": [
       "   lead  init     member  height  sfcWind_UK\n",
       "0     1  1961  r10i1p1f2    10.0    8.422969\n",
       "1     1  1961   r1i1p1f2    10.0    8.427586\n",
       "2     1  1961   r2i1p1f2    10.0    7.839721\n",
       "3     1  1961   r3i1p1f2    10.0    7.730560\n",
       "4     1  1961   r4i1p1f2    10.0    7.879578"
      ]
     },
     "execution_count": 40,
     "metadata": {},
     "output_type": "execute_result"
    }
   ],
   "source": [
    "df.head()"
   ]
  },
  {
   "cell_type": "code",
   "execution_count": 41,
   "metadata": {},
   "outputs": [],
   "source": [
    "# drop height from the dataframe\n",
    "df = df.drop('height', axis=1)"
   ]
  },
  {
   "cell_type": "code",
   "execution_count": 42,
   "metadata": {},
   "outputs": [
    {
     "data": {
      "text/html": [
       "<div>\n",
       "<style scoped>\n",
       "    .dataframe tbody tr th:only-of-type {\n",
       "        vertical-align: middle;\n",
       "    }\n",
       "\n",
       "    .dataframe tbody tr th {\n",
       "        vertical-align: top;\n",
       "    }\n",
       "\n",
       "    .dataframe thead th {\n",
       "        text-align: right;\n",
       "    }\n",
       "</style>\n",
       "<table border=\"1\" class=\"dataframe\">\n",
       "  <thead>\n",
       "    <tr style=\"text-align: right;\">\n",
       "      <th></th>\n",
       "      <th>lead</th>\n",
       "      <th>init</th>\n",
       "      <th>member</th>\n",
       "      <th>sfcWind_UK</th>\n",
       "    </tr>\n",
       "  </thead>\n",
       "  <tbody>\n",
       "    <tr>\n",
       "      <th>0</th>\n",
       "      <td>1</td>\n",
       "      <td>1961</td>\n",
       "      <td>r10i1p1f2</td>\n",
       "      <td>8.422969</td>\n",
       "    </tr>\n",
       "    <tr>\n",
       "      <th>1</th>\n",
       "      <td>1</td>\n",
       "      <td>1961</td>\n",
       "      <td>r1i1p1f2</td>\n",
       "      <td>8.427586</td>\n",
       "    </tr>\n",
       "    <tr>\n",
       "      <th>2</th>\n",
       "      <td>1</td>\n",
       "      <td>1961</td>\n",
       "      <td>r2i1p1f2</td>\n",
       "      <td>7.839721</td>\n",
       "    </tr>\n",
       "    <tr>\n",
       "      <th>3</th>\n",
       "      <td>1</td>\n",
       "      <td>1961</td>\n",
       "      <td>r3i1p1f2</td>\n",
       "      <td>7.730560</td>\n",
       "    </tr>\n",
       "    <tr>\n",
       "      <th>4</th>\n",
       "      <td>1</td>\n",
       "      <td>1961</td>\n",
       "      <td>r4i1p1f2</td>\n",
       "      <td>7.879578</td>\n",
       "    </tr>\n",
       "  </tbody>\n",
       "</table>\n",
       "</div>"
      ],
      "text/plain": [
       "   lead  init     member  sfcWind_UK\n",
       "0     1  1961  r10i1p1f2    8.422969\n",
       "1     1  1961   r1i1p1f2    8.427586\n",
       "2     1  1961   r2i1p1f2    7.839721\n",
       "3     1  1961   r3i1p1f2    7.730560\n",
       "4     1  1961   r4i1p1f2    7.879578"
      ]
     },
     "execution_count": 42,
     "metadata": {},
     "output_type": "execute_result"
    }
   ],
   "source": [
    "df.head()"
   ]
  },
  {
   "cell_type": "code",
   "execution_count": 47,
   "metadata": {},
   "outputs": [],
   "source": [
    "# limit df to member r1i1p1f2 and init 1961\n",
    "df_subset = df[(df['lead'] == 1)]"
   ]
  },
  {
   "cell_type": "code",
   "execution_count": 48,
   "metadata": {},
   "outputs": [
    {
     "data": {
      "text/html": [
       "<div>\n",
       "<style scoped>\n",
       "    .dataframe tbody tr th:only-of-type {\n",
       "        vertical-align: middle;\n",
       "    }\n",
       "\n",
       "    .dataframe tbody tr th {\n",
       "        vertical-align: top;\n",
       "    }\n",
       "\n",
       "    .dataframe thead th {\n",
       "        text-align: right;\n",
       "    }\n",
       "</style>\n",
       "<table border=\"1\" class=\"dataframe\">\n",
       "  <thead>\n",
       "    <tr style=\"text-align: right;\">\n",
       "      <th></th>\n",
       "      <th>lead</th>\n",
       "      <th>init</th>\n",
       "      <th>member</th>\n",
       "      <th>sfcWind_UK</th>\n",
       "    </tr>\n",
       "  </thead>\n",
       "  <tbody>\n",
       "    <tr>\n",
       "      <th>0</th>\n",
       "      <td>1</td>\n",
       "      <td>1961</td>\n",
       "      <td>r10i1p1f2</td>\n",
       "      <td>8.422969</td>\n",
       "    </tr>\n",
       "    <tr>\n",
       "      <th>1</th>\n",
       "      <td>1</td>\n",
       "      <td>1961</td>\n",
       "      <td>r1i1p1f2</td>\n",
       "      <td>8.427586</td>\n",
       "    </tr>\n",
       "    <tr>\n",
       "      <th>2</th>\n",
       "      <td>1</td>\n",
       "      <td>1961</td>\n",
       "      <td>r2i1p1f2</td>\n",
       "      <td>7.839721</td>\n",
       "    </tr>\n",
       "    <tr>\n",
       "      <th>3</th>\n",
       "      <td>1</td>\n",
       "      <td>1961</td>\n",
       "      <td>r3i1p1f2</td>\n",
       "      <td>7.730560</td>\n",
       "    </tr>\n",
       "    <tr>\n",
       "      <th>4</th>\n",
       "      <td>1</td>\n",
       "      <td>1961</td>\n",
       "      <td>r4i1p1f2</td>\n",
       "      <td>7.879578</td>\n",
       "    </tr>\n",
       "    <tr>\n",
       "      <th>...</th>\n",
       "      <td>...</td>\n",
       "      <td>...</td>\n",
       "      <td>...</td>\n",
       "      <td>...</td>\n",
       "    </tr>\n",
       "    <tr>\n",
       "      <th>535</th>\n",
       "      <td>1</td>\n",
       "      <td>2014</td>\n",
       "      <td>r5i1p1f2</td>\n",
       "      <td>7.749636</td>\n",
       "    </tr>\n",
       "    <tr>\n",
       "      <th>536</th>\n",
       "      <td>1</td>\n",
       "      <td>2014</td>\n",
       "      <td>r6i1p1f2</td>\n",
       "      <td>8.131401</td>\n",
       "    </tr>\n",
       "    <tr>\n",
       "      <th>537</th>\n",
       "      <td>1</td>\n",
       "      <td>2014</td>\n",
       "      <td>r7i1p1f2</td>\n",
       "      <td>8.702769</td>\n",
       "    </tr>\n",
       "    <tr>\n",
       "      <th>538</th>\n",
       "      <td>1</td>\n",
       "      <td>2014</td>\n",
       "      <td>r8i1p1f2</td>\n",
       "      <td>7.712269</td>\n",
       "    </tr>\n",
       "    <tr>\n",
       "      <th>539</th>\n",
       "      <td>1</td>\n",
       "      <td>2014</td>\n",
       "      <td>r9i1p1f2</td>\n",
       "      <td>8.099941</td>\n",
       "    </tr>\n",
       "  </tbody>\n",
       "</table>\n",
       "<p>540 rows × 4 columns</p>\n",
       "</div>"
      ],
      "text/plain": [
       "     lead  init     member  sfcWind_UK\n",
       "0       1  1961  r10i1p1f2    8.422969\n",
       "1       1  1961   r1i1p1f2    8.427586\n",
       "2       1  1961   r2i1p1f2    7.839721\n",
       "3       1  1961   r3i1p1f2    7.730560\n",
       "4       1  1961   r4i1p1f2    7.879578\n",
       "..    ...   ...        ...         ...\n",
       "535     1  2014   r5i1p1f2    7.749636\n",
       "536     1  2014   r6i1p1f2    8.131401\n",
       "537     1  2014   r7i1p1f2    8.702769\n",
       "538     1  2014   r8i1p1f2    7.712269\n",
       "539     1  2014   r9i1p1f2    8.099941\n",
       "\n",
       "[540 rows x 4 columns]"
      ]
     },
     "execution_count": 48,
     "metadata": {},
     "output_type": "execute_result"
    }
   ],
   "source": [
    "df_subset"
   ]
  },
  {
   "cell_type": "code",
   "execution_count": 49,
   "metadata": {},
   "outputs": [],
   "source": [
    "# Select an ensemble member\n",
    "df_subset_r1 = df_subset[df_subset['member'] == 'r1i1p1f2']"
   ]
  },
  {
   "cell_type": "code",
   "execution_count": 50,
   "metadata": {},
   "outputs": [],
   "source": [
    "# select another ensemble member\n",
    "df_subset_r2 = df_subset[df_subset['member'] == 'r2i1p1f2']"
   ]
  },
  {
   "cell_type": "code",
   "execution_count": 53,
   "metadata": {},
   "outputs": [
    {
     "data": {
      "text/html": [
       "<div>\n",
       "<style scoped>\n",
       "    .dataframe tbody tr th:only-of-type {\n",
       "        vertical-align: middle;\n",
       "    }\n",
       "\n",
       "    .dataframe tbody tr th {\n",
       "        vertical-align: top;\n",
       "    }\n",
       "\n",
       "    .dataframe thead th {\n",
       "        text-align: right;\n",
       "    }\n",
       "</style>\n",
       "<table border=\"1\" class=\"dataframe\">\n",
       "  <thead>\n",
       "    <tr style=\"text-align: right;\">\n",
       "      <th></th>\n",
       "      <th>lead</th>\n",
       "      <th>init</th>\n",
       "      <th>member</th>\n",
       "      <th>sfcWind_UK</th>\n",
       "    </tr>\n",
       "  </thead>\n",
       "  <tbody>\n",
       "    <tr>\n",
       "      <th>1</th>\n",
       "      <td>1</td>\n",
       "      <td>1961</td>\n",
       "      <td>r1i1p1f2</td>\n",
       "      <td>8.427586</td>\n",
       "    </tr>\n",
       "    <tr>\n",
       "      <th>11</th>\n",
       "      <td>1</td>\n",
       "      <td>1962</td>\n",
       "      <td>r1i1p1f2</td>\n",
       "      <td>8.286530</td>\n",
       "    </tr>\n",
       "    <tr>\n",
       "      <th>21</th>\n",
       "      <td>1</td>\n",
       "      <td>1963</td>\n",
       "      <td>r1i1p1f2</td>\n",
       "      <td>8.470258</td>\n",
       "    </tr>\n",
       "    <tr>\n",
       "      <th>31</th>\n",
       "      <td>1</td>\n",
       "      <td>1964</td>\n",
       "      <td>r1i1p1f2</td>\n",
       "      <td>8.166554</td>\n",
       "    </tr>\n",
       "    <tr>\n",
       "      <th>41</th>\n",
       "      <td>1</td>\n",
       "      <td>1965</td>\n",
       "      <td>r1i1p1f2</td>\n",
       "      <td>8.356259</td>\n",
       "    </tr>\n",
       "    <tr>\n",
       "      <th>51</th>\n",
       "      <td>1</td>\n",
       "      <td>1966</td>\n",
       "      <td>r1i1p1f2</td>\n",
       "      <td>8.001434</td>\n",
       "    </tr>\n",
       "    <tr>\n",
       "      <th>61</th>\n",
       "      <td>1</td>\n",
       "      <td>1967</td>\n",
       "      <td>r1i1p1f2</td>\n",
       "      <td>7.738892</td>\n",
       "    </tr>\n",
       "    <tr>\n",
       "      <th>71</th>\n",
       "      <td>1</td>\n",
       "      <td>1968</td>\n",
       "      <td>r1i1p1f2</td>\n",
       "      <td>8.000023</td>\n",
       "    </tr>\n",
       "    <tr>\n",
       "      <th>81</th>\n",
       "      <td>1</td>\n",
       "      <td>1969</td>\n",
       "      <td>r1i1p1f2</td>\n",
       "      <td>8.358836</td>\n",
       "    </tr>\n",
       "    <tr>\n",
       "      <th>91</th>\n",
       "      <td>1</td>\n",
       "      <td>1970</td>\n",
       "      <td>r1i1p1f2</td>\n",
       "      <td>7.778216</td>\n",
       "    </tr>\n",
       "    <tr>\n",
       "      <th>101</th>\n",
       "      <td>1</td>\n",
       "      <td>1971</td>\n",
       "      <td>r1i1p1f2</td>\n",
       "      <td>7.582037</td>\n",
       "    </tr>\n",
       "    <tr>\n",
       "      <th>111</th>\n",
       "      <td>1</td>\n",
       "      <td>1972</td>\n",
       "      <td>r1i1p1f2</td>\n",
       "      <td>8.028506</td>\n",
       "    </tr>\n",
       "    <tr>\n",
       "      <th>121</th>\n",
       "      <td>1</td>\n",
       "      <td>1973</td>\n",
       "      <td>r1i1p1f2</td>\n",
       "      <td>7.495553</td>\n",
       "    </tr>\n",
       "    <tr>\n",
       "      <th>131</th>\n",
       "      <td>1</td>\n",
       "      <td>1974</td>\n",
       "      <td>r1i1p1f2</td>\n",
       "      <td>7.537500</td>\n",
       "    </tr>\n",
       "    <tr>\n",
       "      <th>141</th>\n",
       "      <td>1</td>\n",
       "      <td>1975</td>\n",
       "      <td>r1i1p1f2</td>\n",
       "      <td>7.717402</td>\n",
       "    </tr>\n",
       "    <tr>\n",
       "      <th>151</th>\n",
       "      <td>1</td>\n",
       "      <td>1976</td>\n",
       "      <td>r1i1p1f2</td>\n",
       "      <td>7.734021</td>\n",
       "    </tr>\n",
       "    <tr>\n",
       "      <th>161</th>\n",
       "      <td>1</td>\n",
       "      <td>1977</td>\n",
       "      <td>r1i1p1f2</td>\n",
       "      <td>7.422891</td>\n",
       "    </tr>\n",
       "    <tr>\n",
       "      <th>171</th>\n",
       "      <td>1</td>\n",
       "      <td>1978</td>\n",
       "      <td>r1i1p1f2</td>\n",
       "      <td>7.955319</td>\n",
       "    </tr>\n",
       "    <tr>\n",
       "      <th>181</th>\n",
       "      <td>1</td>\n",
       "      <td>1979</td>\n",
       "      <td>r1i1p1f2</td>\n",
       "      <td>7.932025</td>\n",
       "    </tr>\n",
       "    <tr>\n",
       "      <th>191</th>\n",
       "      <td>1</td>\n",
       "      <td>1980</td>\n",
       "      <td>r1i1p1f2</td>\n",
       "      <td>8.758603</td>\n",
       "    </tr>\n",
       "    <tr>\n",
       "      <th>201</th>\n",
       "      <td>1</td>\n",
       "      <td>1981</td>\n",
       "      <td>r1i1p1f2</td>\n",
       "      <td>8.664047</td>\n",
       "    </tr>\n",
       "    <tr>\n",
       "      <th>211</th>\n",
       "      <td>1</td>\n",
       "      <td>1982</td>\n",
       "      <td>r1i1p1f2</td>\n",
       "      <td>7.734342</td>\n",
       "    </tr>\n",
       "    <tr>\n",
       "      <th>221</th>\n",
       "      <td>1</td>\n",
       "      <td>1983</td>\n",
       "      <td>r1i1p1f2</td>\n",
       "      <td>8.272009</td>\n",
       "    </tr>\n",
       "    <tr>\n",
       "      <th>231</th>\n",
       "      <td>1</td>\n",
       "      <td>1984</td>\n",
       "      <td>r1i1p1f2</td>\n",
       "      <td>8.299796</td>\n",
       "    </tr>\n",
       "    <tr>\n",
       "      <th>241</th>\n",
       "      <td>1</td>\n",
       "      <td>1985</td>\n",
       "      <td>r1i1p1f2</td>\n",
       "      <td>8.059713</td>\n",
       "    </tr>\n",
       "    <tr>\n",
       "      <th>251</th>\n",
       "      <td>1</td>\n",
       "      <td>1986</td>\n",
       "      <td>r1i1p1f2</td>\n",
       "      <td>7.871428</td>\n",
       "    </tr>\n",
       "    <tr>\n",
       "      <th>261</th>\n",
       "      <td>1</td>\n",
       "      <td>1987</td>\n",
       "      <td>r1i1p1f2</td>\n",
       "      <td>8.149755</td>\n",
       "    </tr>\n",
       "    <tr>\n",
       "      <th>271</th>\n",
       "      <td>1</td>\n",
       "      <td>1988</td>\n",
       "      <td>r1i1p1f2</td>\n",
       "      <td>8.194076</td>\n",
       "    </tr>\n",
       "    <tr>\n",
       "      <th>281</th>\n",
       "      <td>1</td>\n",
       "      <td>1989</td>\n",
       "      <td>r1i1p1f2</td>\n",
       "      <td>7.639451</td>\n",
       "    </tr>\n",
       "    <tr>\n",
       "      <th>291</th>\n",
       "      <td>1</td>\n",
       "      <td>1990</td>\n",
       "      <td>r1i1p1f2</td>\n",
       "      <td>8.521965</td>\n",
       "    </tr>\n",
       "    <tr>\n",
       "      <th>301</th>\n",
       "      <td>1</td>\n",
       "      <td>1991</td>\n",
       "      <td>r1i1p1f2</td>\n",
       "      <td>7.861380</td>\n",
       "    </tr>\n",
       "    <tr>\n",
       "      <th>311</th>\n",
       "      <td>1</td>\n",
       "      <td>1992</td>\n",
       "      <td>r1i1p1f2</td>\n",
       "      <td>8.546847</td>\n",
       "    </tr>\n",
       "    <tr>\n",
       "      <th>321</th>\n",
       "      <td>1</td>\n",
       "      <td>1993</td>\n",
       "      <td>r1i1p1f2</td>\n",
       "      <td>7.901956</td>\n",
       "    </tr>\n",
       "    <tr>\n",
       "      <th>331</th>\n",
       "      <td>1</td>\n",
       "      <td>1994</td>\n",
       "      <td>r1i1p1f2</td>\n",
       "      <td>8.368627</td>\n",
       "    </tr>\n",
       "    <tr>\n",
       "      <th>341</th>\n",
       "      <td>1</td>\n",
       "      <td>1995</td>\n",
       "      <td>r1i1p1f2</td>\n",
       "      <td>7.565506</td>\n",
       "    </tr>\n",
       "    <tr>\n",
       "      <th>351</th>\n",
       "      <td>1</td>\n",
       "      <td>1996</td>\n",
       "      <td>r1i1p1f2</td>\n",
       "      <td>7.853293</td>\n",
       "    </tr>\n",
       "    <tr>\n",
       "      <th>361</th>\n",
       "      <td>1</td>\n",
       "      <td>1997</td>\n",
       "      <td>r1i1p1f2</td>\n",
       "      <td>8.717737</td>\n",
       "    </tr>\n",
       "    <tr>\n",
       "      <th>371</th>\n",
       "      <td>1</td>\n",
       "      <td>1998</td>\n",
       "      <td>r1i1p1f2</td>\n",
       "      <td>7.492668</td>\n",
       "    </tr>\n",
       "    <tr>\n",
       "      <th>381</th>\n",
       "      <td>1</td>\n",
       "      <td>1999</td>\n",
       "      <td>r1i1p1f2</td>\n",
       "      <td>8.168138</td>\n",
       "    </tr>\n",
       "    <tr>\n",
       "      <th>391</th>\n",
       "      <td>1</td>\n",
       "      <td>2000</td>\n",
       "      <td>r1i1p1f2</td>\n",
       "      <td>7.628676</td>\n",
       "    </tr>\n",
       "    <tr>\n",
       "      <th>401</th>\n",
       "      <td>1</td>\n",
       "      <td>2001</td>\n",
       "      <td>r1i1p1f2</td>\n",
       "      <td>7.869078</td>\n",
       "    </tr>\n",
       "    <tr>\n",
       "      <th>411</th>\n",
       "      <td>1</td>\n",
       "      <td>2002</td>\n",
       "      <td>r1i1p1f2</td>\n",
       "      <td>7.843409</td>\n",
       "    </tr>\n",
       "    <tr>\n",
       "      <th>421</th>\n",
       "      <td>1</td>\n",
       "      <td>2003</td>\n",
       "      <td>r1i1p1f2</td>\n",
       "      <td>7.826689</td>\n",
       "    </tr>\n",
       "    <tr>\n",
       "      <th>431</th>\n",
       "      <td>1</td>\n",
       "      <td>2004</td>\n",
       "      <td>r1i1p1f2</td>\n",
       "      <td>7.389198</td>\n",
       "    </tr>\n",
       "    <tr>\n",
       "      <th>441</th>\n",
       "      <td>1</td>\n",
       "      <td>2005</td>\n",
       "      <td>r1i1p1f2</td>\n",
       "      <td>7.217325</td>\n",
       "    </tr>\n",
       "    <tr>\n",
       "      <th>451</th>\n",
       "      <td>1</td>\n",
       "      <td>2006</td>\n",
       "      <td>r1i1p1f2</td>\n",
       "      <td>7.499886</td>\n",
       "    </tr>\n",
       "    <tr>\n",
       "      <th>461</th>\n",
       "      <td>1</td>\n",
       "      <td>2007</td>\n",
       "      <td>r1i1p1f2</td>\n",
       "      <td>8.051114</td>\n",
       "    </tr>\n",
       "    <tr>\n",
       "      <th>471</th>\n",
       "      <td>1</td>\n",
       "      <td>2008</td>\n",
       "      <td>r1i1p1f2</td>\n",
       "      <td>8.047521</td>\n",
       "    </tr>\n",
       "    <tr>\n",
       "      <th>481</th>\n",
       "      <td>1</td>\n",
       "      <td>2009</td>\n",
       "      <td>r1i1p1f2</td>\n",
       "      <td>7.612341</td>\n",
       "    </tr>\n",
       "    <tr>\n",
       "      <th>491</th>\n",
       "      <td>1</td>\n",
       "      <td>2010</td>\n",
       "      <td>r1i1p1f2</td>\n",
       "      <td>8.200028</td>\n",
       "    </tr>\n",
       "    <tr>\n",
       "      <th>501</th>\n",
       "      <td>1</td>\n",
       "      <td>2011</td>\n",
       "      <td>r1i1p1f2</td>\n",
       "      <td>7.435435</td>\n",
       "    </tr>\n",
       "    <tr>\n",
       "      <th>511</th>\n",
       "      <td>1</td>\n",
       "      <td>2012</td>\n",
       "      <td>r1i1p1f2</td>\n",
       "      <td>7.575008</td>\n",
       "    </tr>\n",
       "    <tr>\n",
       "      <th>521</th>\n",
       "      <td>1</td>\n",
       "      <td>2013</td>\n",
       "      <td>r1i1p1f2</td>\n",
       "      <td>7.410511</td>\n",
       "    </tr>\n",
       "    <tr>\n",
       "      <th>531</th>\n",
       "      <td>1</td>\n",
       "      <td>2014</td>\n",
       "      <td>r1i1p1f2</td>\n",
       "      <td>7.453835</td>\n",
       "    </tr>\n",
       "  </tbody>\n",
       "</table>\n",
       "</div>"
      ],
      "text/plain": [
       "     lead  init    member  sfcWind_UK\n",
       "1       1  1961  r1i1p1f2    8.427586\n",
       "11      1  1962  r1i1p1f2    8.286530\n",
       "21      1  1963  r1i1p1f2    8.470258\n",
       "31      1  1964  r1i1p1f2    8.166554\n",
       "41      1  1965  r1i1p1f2    8.356259\n",
       "51      1  1966  r1i1p1f2    8.001434\n",
       "61      1  1967  r1i1p1f2    7.738892\n",
       "71      1  1968  r1i1p1f2    8.000023\n",
       "81      1  1969  r1i1p1f2    8.358836\n",
       "91      1  1970  r1i1p1f2    7.778216\n",
       "101     1  1971  r1i1p1f2    7.582037\n",
       "111     1  1972  r1i1p1f2    8.028506\n",
       "121     1  1973  r1i1p1f2    7.495553\n",
       "131     1  1974  r1i1p1f2    7.537500\n",
       "141     1  1975  r1i1p1f2    7.717402\n",
       "151     1  1976  r1i1p1f2    7.734021\n",
       "161     1  1977  r1i1p1f2    7.422891\n",
       "171     1  1978  r1i1p1f2    7.955319\n",
       "181     1  1979  r1i1p1f2    7.932025\n",
       "191     1  1980  r1i1p1f2    8.758603\n",
       "201     1  1981  r1i1p1f2    8.664047\n",
       "211     1  1982  r1i1p1f2    7.734342\n",
       "221     1  1983  r1i1p1f2    8.272009\n",
       "231     1  1984  r1i1p1f2    8.299796\n",
       "241     1  1985  r1i1p1f2    8.059713\n",
       "251     1  1986  r1i1p1f2    7.871428\n",
       "261     1  1987  r1i1p1f2    8.149755\n",
       "271     1  1988  r1i1p1f2    8.194076\n",
       "281     1  1989  r1i1p1f2    7.639451\n",
       "291     1  1990  r1i1p1f2    8.521965\n",
       "301     1  1991  r1i1p1f2    7.861380\n",
       "311     1  1992  r1i1p1f2    8.546847\n",
       "321     1  1993  r1i1p1f2    7.901956\n",
       "331     1  1994  r1i1p1f2    8.368627\n",
       "341     1  1995  r1i1p1f2    7.565506\n",
       "351     1  1996  r1i1p1f2    7.853293\n",
       "361     1  1997  r1i1p1f2    8.717737\n",
       "371     1  1998  r1i1p1f2    7.492668\n",
       "381     1  1999  r1i1p1f2    8.168138\n",
       "391     1  2000  r1i1p1f2    7.628676\n",
       "401     1  2001  r1i1p1f2    7.869078\n",
       "411     1  2002  r1i1p1f2    7.843409\n",
       "421     1  2003  r1i1p1f2    7.826689\n",
       "431     1  2004  r1i1p1f2    7.389198\n",
       "441     1  2005  r1i1p1f2    7.217325\n",
       "451     1  2006  r1i1p1f2    7.499886\n",
       "461     1  2007  r1i1p1f2    8.051114\n",
       "471     1  2008  r1i1p1f2    8.047521\n",
       "481     1  2009  r1i1p1f2    7.612341\n",
       "491     1  2010  r1i1p1f2    8.200028\n",
       "501     1  2011  r1i1p1f2    7.435435\n",
       "511     1  2012  r1i1p1f2    7.575008\n",
       "521     1  2013  r1i1p1f2    7.410511\n",
       "531     1  2014  r1i1p1f2    7.453835"
      ]
     },
     "execution_count": 53,
     "metadata": {},
     "output_type": "execute_result"
    }
   ],
   "source": [
    "df_subset_r1"
   ]
  },
  {
   "cell_type": "code",
   "execution_count": 54,
   "metadata": {},
   "outputs": [
    {
     "data": {
      "text/html": [
       "<div>\n",
       "<style scoped>\n",
       "    .dataframe tbody tr th:only-of-type {\n",
       "        vertical-align: middle;\n",
       "    }\n",
       "\n",
       "    .dataframe tbody tr th {\n",
       "        vertical-align: top;\n",
       "    }\n",
       "\n",
       "    .dataframe thead th {\n",
       "        text-align: right;\n",
       "    }\n",
       "</style>\n",
       "<table border=\"1\" class=\"dataframe\">\n",
       "  <thead>\n",
       "    <tr style=\"text-align: right;\">\n",
       "      <th></th>\n",
       "      <th>lead</th>\n",
       "      <th>init</th>\n",
       "      <th>member</th>\n",
       "      <th>sfcWind_UK</th>\n",
       "    </tr>\n",
       "  </thead>\n",
       "  <tbody>\n",
       "    <tr>\n",
       "      <th>2</th>\n",
       "      <td>1</td>\n",
       "      <td>1961</td>\n",
       "      <td>r2i1p1f2</td>\n",
       "      <td>7.839721</td>\n",
       "    </tr>\n",
       "    <tr>\n",
       "      <th>12</th>\n",
       "      <td>1</td>\n",
       "      <td>1962</td>\n",
       "      <td>r2i1p1f2</td>\n",
       "      <td>8.736528</td>\n",
       "    </tr>\n",
       "    <tr>\n",
       "      <th>22</th>\n",
       "      <td>1</td>\n",
       "      <td>1963</td>\n",
       "      <td>r2i1p1f2</td>\n",
       "      <td>7.878740</td>\n",
       "    </tr>\n",
       "    <tr>\n",
       "      <th>32</th>\n",
       "      <td>1</td>\n",
       "      <td>1964</td>\n",
       "      <td>r2i1p1f2</td>\n",
       "      <td>8.303681</td>\n",
       "    </tr>\n",
       "    <tr>\n",
       "      <th>42</th>\n",
       "      <td>1</td>\n",
       "      <td>1965</td>\n",
       "      <td>r2i1p1f2</td>\n",
       "      <td>7.878453</td>\n",
       "    </tr>\n",
       "    <tr>\n",
       "      <th>52</th>\n",
       "      <td>1</td>\n",
       "      <td>1966</td>\n",
       "      <td>r2i1p1f2</td>\n",
       "      <td>7.888980</td>\n",
       "    </tr>\n",
       "    <tr>\n",
       "      <th>62</th>\n",
       "      <td>1</td>\n",
       "      <td>1967</td>\n",
       "      <td>r2i1p1f2</td>\n",
       "      <td>7.949926</td>\n",
       "    </tr>\n",
       "    <tr>\n",
       "      <th>72</th>\n",
       "      <td>1</td>\n",
       "      <td>1968</td>\n",
       "      <td>r2i1p1f2</td>\n",
       "      <td>8.445631</td>\n",
       "    </tr>\n",
       "    <tr>\n",
       "      <th>82</th>\n",
       "      <td>1</td>\n",
       "      <td>1969</td>\n",
       "      <td>r2i1p1f2</td>\n",
       "      <td>8.203076</td>\n",
       "    </tr>\n",
       "    <tr>\n",
       "      <th>92</th>\n",
       "      <td>1</td>\n",
       "      <td>1970</td>\n",
       "      <td>r2i1p1f2</td>\n",
       "      <td>8.083932</td>\n",
       "    </tr>\n",
       "    <tr>\n",
       "      <th>102</th>\n",
       "      <td>1</td>\n",
       "      <td>1971</td>\n",
       "      <td>r2i1p1f2</td>\n",
       "      <td>7.850237</td>\n",
       "    </tr>\n",
       "    <tr>\n",
       "      <th>112</th>\n",
       "      <td>1</td>\n",
       "      <td>1972</td>\n",
       "      <td>r2i1p1f2</td>\n",
       "      <td>8.034959</td>\n",
       "    </tr>\n",
       "    <tr>\n",
       "      <th>122</th>\n",
       "      <td>1</td>\n",
       "      <td>1973</td>\n",
       "      <td>r2i1p1f2</td>\n",
       "      <td>8.600858</td>\n",
       "    </tr>\n",
       "    <tr>\n",
       "      <th>132</th>\n",
       "      <td>1</td>\n",
       "      <td>1974</td>\n",
       "      <td>r2i1p1f2</td>\n",
       "      <td>7.535304</td>\n",
       "    </tr>\n",
       "    <tr>\n",
       "      <th>142</th>\n",
       "      <td>1</td>\n",
       "      <td>1975</td>\n",
       "      <td>r2i1p1f2</td>\n",
       "      <td>8.429742</td>\n",
       "    </tr>\n",
       "    <tr>\n",
       "      <th>152</th>\n",
       "      <td>1</td>\n",
       "      <td>1976</td>\n",
       "      <td>r2i1p1f2</td>\n",
       "      <td>8.736747</td>\n",
       "    </tr>\n",
       "    <tr>\n",
       "      <th>162</th>\n",
       "      <td>1</td>\n",
       "      <td>1977</td>\n",
       "      <td>r2i1p1f2</td>\n",
       "      <td>8.225916</td>\n",
       "    </tr>\n",
       "    <tr>\n",
       "      <th>172</th>\n",
       "      <td>1</td>\n",
       "      <td>1978</td>\n",
       "      <td>r2i1p1f2</td>\n",
       "      <td>8.439383</td>\n",
       "    </tr>\n",
       "    <tr>\n",
       "      <th>182</th>\n",
       "      <td>1</td>\n",
       "      <td>1979</td>\n",
       "      <td>r2i1p1f2</td>\n",
       "      <td>8.111941</td>\n",
       "    </tr>\n",
       "    <tr>\n",
       "      <th>192</th>\n",
       "      <td>1</td>\n",
       "      <td>1980</td>\n",
       "      <td>r2i1p1f2</td>\n",
       "      <td>7.969014</td>\n",
       "    </tr>\n",
       "    <tr>\n",
       "      <th>202</th>\n",
       "      <td>1</td>\n",
       "      <td>1981</td>\n",
       "      <td>r2i1p1f2</td>\n",
       "      <td>8.085986</td>\n",
       "    </tr>\n",
       "    <tr>\n",
       "      <th>212</th>\n",
       "      <td>1</td>\n",
       "      <td>1982</td>\n",
       "      <td>r2i1p1f2</td>\n",
       "      <td>7.421764</td>\n",
       "    </tr>\n",
       "    <tr>\n",
       "      <th>222</th>\n",
       "      <td>1</td>\n",
       "      <td>1983</td>\n",
       "      <td>r2i1p1f2</td>\n",
       "      <td>7.571751</td>\n",
       "    </tr>\n",
       "    <tr>\n",
       "      <th>232</th>\n",
       "      <td>1</td>\n",
       "      <td>1984</td>\n",
       "      <td>r2i1p1f2</td>\n",
       "      <td>7.701896</td>\n",
       "    </tr>\n",
       "    <tr>\n",
       "      <th>242</th>\n",
       "      <td>1</td>\n",
       "      <td>1985</td>\n",
       "      <td>r2i1p1f2</td>\n",
       "      <td>7.787027</td>\n",
       "    </tr>\n",
       "    <tr>\n",
       "      <th>252</th>\n",
       "      <td>1</td>\n",
       "      <td>1986</td>\n",
       "      <td>r2i1p1f2</td>\n",
       "      <td>8.036320</td>\n",
       "    </tr>\n",
       "    <tr>\n",
       "      <th>262</th>\n",
       "      <td>1</td>\n",
       "      <td>1987</td>\n",
       "      <td>r2i1p1f2</td>\n",
       "      <td>8.555164</td>\n",
       "    </tr>\n",
       "    <tr>\n",
       "      <th>272</th>\n",
       "      <td>1</td>\n",
       "      <td>1988</td>\n",
       "      <td>r2i1p1f2</td>\n",
       "      <td>7.531695</td>\n",
       "    </tr>\n",
       "    <tr>\n",
       "      <th>282</th>\n",
       "      <td>1</td>\n",
       "      <td>1989</td>\n",
       "      <td>r2i1p1f2</td>\n",
       "      <td>7.619550</td>\n",
       "    </tr>\n",
       "    <tr>\n",
       "      <th>292</th>\n",
       "      <td>1</td>\n",
       "      <td>1990</td>\n",
       "      <td>r2i1p1f2</td>\n",
       "      <td>7.949853</td>\n",
       "    </tr>\n",
       "    <tr>\n",
       "      <th>302</th>\n",
       "      <td>1</td>\n",
       "      <td>1991</td>\n",
       "      <td>r2i1p1f2</td>\n",
       "      <td>8.103450</td>\n",
       "    </tr>\n",
       "    <tr>\n",
       "      <th>312</th>\n",
       "      <td>1</td>\n",
       "      <td>1992</td>\n",
       "      <td>r2i1p1f2</td>\n",
       "      <td>7.887821</td>\n",
       "    </tr>\n",
       "    <tr>\n",
       "      <th>322</th>\n",
       "      <td>1</td>\n",
       "      <td>1993</td>\n",
       "      <td>r2i1p1f2</td>\n",
       "      <td>8.222564</td>\n",
       "    </tr>\n",
       "    <tr>\n",
       "      <th>332</th>\n",
       "      <td>1</td>\n",
       "      <td>1994</td>\n",
       "      <td>r2i1p1f2</td>\n",
       "      <td>7.862637</td>\n",
       "    </tr>\n",
       "    <tr>\n",
       "      <th>342</th>\n",
       "      <td>1</td>\n",
       "      <td>1995</td>\n",
       "      <td>r2i1p1f2</td>\n",
       "      <td>7.614381</td>\n",
       "    </tr>\n",
       "    <tr>\n",
       "      <th>352</th>\n",
       "      <td>1</td>\n",
       "      <td>1996</td>\n",
       "      <td>r2i1p1f2</td>\n",
       "      <td>8.514154</td>\n",
       "    </tr>\n",
       "    <tr>\n",
       "      <th>362</th>\n",
       "      <td>1</td>\n",
       "      <td>1997</td>\n",
       "      <td>r2i1p1f2</td>\n",
       "      <td>8.667346</td>\n",
       "    </tr>\n",
       "    <tr>\n",
       "      <th>372</th>\n",
       "      <td>1</td>\n",
       "      <td>1998</td>\n",
       "      <td>r2i1p1f2</td>\n",
       "      <td>7.234461</td>\n",
       "    </tr>\n",
       "    <tr>\n",
       "      <th>382</th>\n",
       "      <td>1</td>\n",
       "      <td>1999</td>\n",
       "      <td>r2i1p1f2</td>\n",
       "      <td>7.539210</td>\n",
       "    </tr>\n",
       "    <tr>\n",
       "      <th>392</th>\n",
       "      <td>1</td>\n",
       "      <td>2000</td>\n",
       "      <td>r2i1p1f2</td>\n",
       "      <td>8.108414</td>\n",
       "    </tr>\n",
       "    <tr>\n",
       "      <th>402</th>\n",
       "      <td>1</td>\n",
       "      <td>2001</td>\n",
       "      <td>r2i1p1f2</td>\n",
       "      <td>7.907041</td>\n",
       "    </tr>\n",
       "    <tr>\n",
       "      <th>412</th>\n",
       "      <td>1</td>\n",
       "      <td>2002</td>\n",
       "      <td>r2i1p1f2</td>\n",
       "      <td>8.450096</td>\n",
       "    </tr>\n",
       "    <tr>\n",
       "      <th>422</th>\n",
       "      <td>1</td>\n",
       "      <td>2003</td>\n",
       "      <td>r2i1p1f2</td>\n",
       "      <td>8.680743</td>\n",
       "    </tr>\n",
       "    <tr>\n",
       "      <th>432</th>\n",
       "      <td>1</td>\n",
       "      <td>2004</td>\n",
       "      <td>r2i1p1f2</td>\n",
       "      <td>7.356608</td>\n",
       "    </tr>\n",
       "    <tr>\n",
       "      <th>442</th>\n",
       "      <td>1</td>\n",
       "      <td>2005</td>\n",
       "      <td>r2i1p1f2</td>\n",
       "      <td>8.197609</td>\n",
       "    </tr>\n",
       "    <tr>\n",
       "      <th>452</th>\n",
       "      <td>1</td>\n",
       "      <td>2006</td>\n",
       "      <td>r2i1p1f2</td>\n",
       "      <td>8.116498</td>\n",
       "    </tr>\n",
       "    <tr>\n",
       "      <th>462</th>\n",
       "      <td>1</td>\n",
       "      <td>2007</td>\n",
       "      <td>r2i1p1f2</td>\n",
       "      <td>7.563960</td>\n",
       "    </tr>\n",
       "    <tr>\n",
       "      <th>472</th>\n",
       "      <td>1</td>\n",
       "      <td>2008</td>\n",
       "      <td>r2i1p1f2</td>\n",
       "      <td>7.895219</td>\n",
       "    </tr>\n",
       "    <tr>\n",
       "      <th>482</th>\n",
       "      <td>1</td>\n",
       "      <td>2009</td>\n",
       "      <td>r2i1p1f2</td>\n",
       "      <td>8.109807</td>\n",
       "    </tr>\n",
       "    <tr>\n",
       "      <th>492</th>\n",
       "      <td>1</td>\n",
       "      <td>2010</td>\n",
       "      <td>r2i1p1f2</td>\n",
       "      <td>7.718809</td>\n",
       "    </tr>\n",
       "    <tr>\n",
       "      <th>502</th>\n",
       "      <td>1</td>\n",
       "      <td>2011</td>\n",
       "      <td>r2i1p1f2</td>\n",
       "      <td>8.244079</td>\n",
       "    </tr>\n",
       "    <tr>\n",
       "      <th>512</th>\n",
       "      <td>1</td>\n",
       "      <td>2012</td>\n",
       "      <td>r2i1p1f2</td>\n",
       "      <td>7.349908</td>\n",
       "    </tr>\n",
       "    <tr>\n",
       "      <th>522</th>\n",
       "      <td>1</td>\n",
       "      <td>2013</td>\n",
       "      <td>r2i1p1f2</td>\n",
       "      <td>7.210424</td>\n",
       "    </tr>\n",
       "    <tr>\n",
       "      <th>532</th>\n",
       "      <td>1</td>\n",
       "      <td>2014</td>\n",
       "      <td>r2i1p1f2</td>\n",
       "      <td>6.925688</td>\n",
       "    </tr>\n",
       "  </tbody>\n",
       "</table>\n",
       "</div>"
      ],
      "text/plain": [
       "     lead  init    member  sfcWind_UK\n",
       "2       1  1961  r2i1p1f2    7.839721\n",
       "12      1  1962  r2i1p1f2    8.736528\n",
       "22      1  1963  r2i1p1f2    7.878740\n",
       "32      1  1964  r2i1p1f2    8.303681\n",
       "42      1  1965  r2i1p1f2    7.878453\n",
       "52      1  1966  r2i1p1f2    7.888980\n",
       "62      1  1967  r2i1p1f2    7.949926\n",
       "72      1  1968  r2i1p1f2    8.445631\n",
       "82      1  1969  r2i1p1f2    8.203076\n",
       "92      1  1970  r2i1p1f2    8.083932\n",
       "102     1  1971  r2i1p1f2    7.850237\n",
       "112     1  1972  r2i1p1f2    8.034959\n",
       "122     1  1973  r2i1p1f2    8.600858\n",
       "132     1  1974  r2i1p1f2    7.535304\n",
       "142     1  1975  r2i1p1f2    8.429742\n",
       "152     1  1976  r2i1p1f2    8.736747\n",
       "162     1  1977  r2i1p1f2    8.225916\n",
       "172     1  1978  r2i1p1f2    8.439383\n",
       "182     1  1979  r2i1p1f2    8.111941\n",
       "192     1  1980  r2i1p1f2    7.969014\n",
       "202     1  1981  r2i1p1f2    8.085986\n",
       "212     1  1982  r2i1p1f2    7.421764\n",
       "222     1  1983  r2i1p1f2    7.571751\n",
       "232     1  1984  r2i1p1f2    7.701896\n",
       "242     1  1985  r2i1p1f2    7.787027\n",
       "252     1  1986  r2i1p1f2    8.036320\n",
       "262     1  1987  r2i1p1f2    8.555164\n",
       "272     1  1988  r2i1p1f2    7.531695\n",
       "282     1  1989  r2i1p1f2    7.619550\n",
       "292     1  1990  r2i1p1f2    7.949853\n",
       "302     1  1991  r2i1p1f2    8.103450\n",
       "312     1  1992  r2i1p1f2    7.887821\n",
       "322     1  1993  r2i1p1f2    8.222564\n",
       "332     1  1994  r2i1p1f2    7.862637\n",
       "342     1  1995  r2i1p1f2    7.614381\n",
       "352     1  1996  r2i1p1f2    8.514154\n",
       "362     1  1997  r2i1p1f2    8.667346\n",
       "372     1  1998  r2i1p1f2    7.234461\n",
       "382     1  1999  r2i1p1f2    7.539210\n",
       "392     1  2000  r2i1p1f2    8.108414\n",
       "402     1  2001  r2i1p1f2    7.907041\n",
       "412     1  2002  r2i1p1f2    8.450096\n",
       "422     1  2003  r2i1p1f2    8.680743\n",
       "432     1  2004  r2i1p1f2    7.356608\n",
       "442     1  2005  r2i1p1f2    8.197609\n",
       "452     1  2006  r2i1p1f2    8.116498\n",
       "462     1  2007  r2i1p1f2    7.563960\n",
       "472     1  2008  r2i1p1f2    7.895219\n",
       "482     1  2009  r2i1p1f2    8.109807\n",
       "492     1  2010  r2i1p1f2    7.718809\n",
       "502     1  2011  r2i1p1f2    8.244079\n",
       "512     1  2012  r2i1p1f2    7.349908\n",
       "522     1  2013  r2i1p1f2    7.210424\n",
       "532     1  2014  r2i1p1f2    6.925688"
      ]
     },
     "execution_count": 54,
     "metadata": {},
     "output_type": "execute_result"
    }
   ],
   "source": [
    "df_subset_r2"
   ]
  },
  {
   "cell_type": "code",
   "execution_count": 55,
   "metadata": {},
   "outputs": [],
   "source": [
    "import importlib\n",
    "\n",
    "importlib.reload(sys.modules['functions'])\n",
    "\n",
    "import functions as funcs"
   ]
  },
  {
   "cell_type": "code",
   "execution_count": null,
   "metadata": {},
   "outputs": [],
   "source": [
    "# # Plot a histogram for all of the model data\n",
    "# plt.hist(df['sfcWind_UK'], bins=50, alpha=0.5, label='model')"
   ]
  },
  {
   "cell_type": "code",
   "execution_count": null,
   "metadata": {},
   "outputs": [],
   "source": [
    "# # plot the obs data\n",
    "# plt.hist(obs_df['sfcWind_UK_obs'], bins=50, alpha=0.5, label='obs')"
   ]
  },
  {
   "cell_type": "code",
   "execution_count": null,
   "metadata": {},
   "outputs": [],
   "source": [
    "# # Test the function for plotting the GEV distribution\n",
    "# rvs = funcs.plot_gev_return_values(\n",
    "#     obs_df=obs_df,\n",
    "#     model_df=df,\n",
    "#     obs_val_name=\"sfcWind_UK_obs\",\n",
    "#     model_val_name=\"sfcWind_UK\",\n",
    "#     ylabel=\"Wind Speed (m/s)\",\n",
    "# )"
   ]
  },
  {
   "cell_type": "code",
   "execution_count": 56,
   "metadata": {},
   "outputs": [
    {
     "ename": "NameError",
     "evalue": "name 'obs_df' is not defined",
     "output_type": "error",
     "traceback": [
      "\u001b[0;31m---------------------------------------------------------------------------\u001b[0m",
      "\u001b[0;31mNameError\u001b[0m                                 Traceback (most recent call last)",
      "Input \u001b[0;32mIn [56]\u001b[0m, in \u001b[0;36m<cell line: 2>\u001b[0;34m()\u001b[0m\n\u001b[1;32m      1\u001b[0m \u001b[38;5;66;03m# Test the function for plotting events\u001b[39;00m\n\u001b[1;32m      2\u001b[0m funcs\u001b[38;5;241m.\u001b[39mplot_events_ts(\n\u001b[0;32m----> 3\u001b[0m     obs_df\u001b[38;5;241m=\u001b[39m\u001b[43mobs_df\u001b[49m,\n\u001b[1;32m      4\u001b[0m     model_df\u001b[38;5;241m=\u001b[39mdf,\n\u001b[1;32m      5\u001b[0m     obs_val_name\u001b[38;5;241m=\u001b[39m\u001b[38;5;124m\"\u001b[39m\u001b[38;5;124msfcWind_UK_obs\u001b[39m\u001b[38;5;124m\"\u001b[39m,\n\u001b[1;32m      6\u001b[0m     model_val_name\u001b[38;5;241m=\u001b[39m\u001b[38;5;124m\"\u001b[39m\u001b[38;5;124msfcWind_UK\u001b[39m\u001b[38;5;124m\"\u001b[39m,\n\u001b[1;32m      7\u001b[0m     ylabel\u001b[38;5;241m=\u001b[39m\u001b[38;5;124m\"\u001b[39m\u001b[38;5;124m10m wind speed (m/s)\u001b[39m\u001b[38;5;124m\"\u001b[39m,\n\u001b[1;32m      8\u001b[0m     delta_shift_bias\u001b[38;5;241m=\u001b[39m\u001b[38;5;28;01mTrue\u001b[39;00m, \u001b[38;5;66;03m# apply a delta shift to the mean\u001b[39;00m\n\u001b[1;32m      9\u001b[0m     figsize\u001b[38;5;241m=\u001b[39m(\u001b[38;5;241m12\u001b[39m, \u001b[38;5;241m6\u001b[39m),\n\u001b[1;32m     10\u001b[0m )\n",
      "\u001b[0;31mNameError\u001b[0m: name 'obs_df' is not defined"
     ]
    }
   ],
   "source": [
    "# Test the function for plotting events\n",
    "funcs.plot_events_ts(\n",
    "    obs_df=obs_df,\n",
    "    model_df=df,\n",
    "    obs_val_name=\"sfcWind_UK_obs\",\n",
    "    model_val_name=\"sfcWind_UK\",\n",
    "    ylabel=\"10m wind speed (m/s)\",\n",
    "    delta_shift_bias=True, # apply a delta shift to the mean\n",
    "    figsize=(12, 6),\n",
    ")"
   ]
  },
  {
   "cell_type": "code",
   "execution_count": null,
   "metadata": {},
   "outputs": [],
   "source": [
    "# # Plot the events using boxplots\n",
    "# funcs.plot_events_ts_bp(\n",
    "#     obs_df=obs_df,\n",
    "#     model_df=df,\n",
    "#     obs_val_name=\"sfcWind_UK_obs\",\n",
    "#     model_val_name=\"sfcWind_UK\",\n",
    "#     ylabel=\"10m wind speed (m/s)\",\n",
    "#     delta_shift_bias=True, # apply a delta shift to the mean\n",
    "#     figsize=(12, 6),\n",
    "# )"
   ]
  },
  {
   "cell_type": "code",
   "execution_count": null,
   "metadata": {},
   "outputs": [],
   "source": [
    "# Plot the fidelity\n",
    "funcs.plot_fidelity(\n",
    "    obs_df=obs_df,\n",
    "    model_df=df,\n",
    "    obs_val_name=\"sfcWind_UK_obs\",\n",
    "    model_val_name=\"sfcWind_UK\",\n",
    "    nboot=10000,\n",
    ")"
   ]
  },
  {
   "cell_type": "code",
   "execution_count": 57,
   "metadata": {},
   "outputs": [
    {
     "name": "stderr",
     "output_type": "stream",
     "text": [
      "Calculating correlations:  10%|█         | 1/10 [00:00<00:00,  9.90it/s]"
     ]
    },
    {
     "name": "stdout",
     "output_type": "stream",
     "text": [
      "Calculating correlations for lead 1\n",
      "Calculating correlations for lead 2\n",
      "Calculating correlations for lead 3\n"
     ]
    },
    {
     "name": "stderr",
     "output_type": "stream",
     "text": [
      "Calculating correlations:  50%|█████     | 5/10 [00:00<00:00, 13.01it/s]"
     ]
    },
    {
     "name": "stdout",
     "output_type": "stream",
     "text": [
      "Calculating correlations for lead 4\n",
      "Calculating correlations for lead 5\n",
      "Calculating correlations for lead 6\n"
     ]
    },
    {
     "name": "stderr",
     "output_type": "stream",
     "text": [
      "Calculating correlations:  70%|███████   | 7/10 [00:00<00:00, 13.47it/s]"
     ]
    },
    {
     "name": "stdout",
     "output_type": "stream",
     "text": [
      "Calculating correlations for lead 7\n",
      "Calculating correlations for lead 8\n",
      "Calculating correlations for lead 9\n"
     ]
    },
    {
     "name": "stderr",
     "output_type": "stream",
     "text": [
      "Calculating correlations: 100%|██████████| 10/10 [00:00<00:00, 13.18it/s]"
     ]
    },
    {
     "name": "stdout",
     "output_type": "stream",
     "text": [
      "Calculating correlations for lead 10\n"
     ]
    },
    {
     "name": "stderr",
     "output_type": "stream",
     "text": [
      "\n"
     ]
    }
   ],
   "source": [
    "# Test the independence function\n",
    "corr_matrix = funcs.independence_test(\n",
    "    ensemble=df,\n",
    "    members=df['member'].unique(),\n",
    "    n_leads=len(df['lead'].unique()),\n",
    "    var_name=\"sfcWind_UK\",\n",
    "    detrend=True,\n",
    ")"
   ]
  },
  {
   "cell_type": "code",
   "execution_count": null,
   "metadata": {},
   "outputs": [],
   "source": [
    "(df['lead'].unique())"
   ]
  },
  {
   "cell_type": "code",
   "execution_count": null,
   "metadata": {},
   "outputs": [],
   "source": [
    "# Why is the first one all NaN's and zeros?\n",
    "first_lead_corr_m = corr_matrix[-1]"
   ]
  },
  {
   "cell_type": "code",
   "execution_count": null,
   "metadata": {},
   "outputs": [],
   "source": [
    "first_lead_corr_m.shape"
   ]
  },
  {
   "cell_type": "code",
   "execution_count": null,
   "metadata": {},
   "outputs": [],
   "source": [
    "second_lead_corr_m = corr_matrix[1]"
   ]
  },
  {
   "cell_type": "code",
   "execution_count": null,
   "metadata": {},
   "outputs": [],
   "source": [
    "second_lead_corr_m"
   ]
  },
  {
   "cell_type": "code",
   "execution_count": null,
   "metadata": {},
   "outputs": [],
   "source": [
    "# flatten the data\n",
    "flat_second_lead = second_lead_corr_m.flatten()\n",
    "\n",
    "# plot the histogram\n",
    "plt.hist(flat_second_lead, bins=10)\n",
    "\n",
    "# Show the plot\n",
    "plt.show()"
   ]
  },
  {
   "cell_type": "code",
   "execution_count": null,
   "metadata": {},
   "outputs": [],
   "source": [
    "import importlib\n",
    "\n",
    "importlib.reload(sys.modules['functions'])\n",
    "\n",
    "import functions as funcs"
   ]
  },
  {
   "cell_type": "code",
   "execution_count": null,
   "metadata": {
    "scrolled": true
   },
   "outputs": [],
   "source": [
    "corr_matrix[0]"
   ]
  },
  {
   "cell_type": "code",
   "execution_count": null,
   "metadata": {},
   "outputs": [],
   "source": [
    "%%time\n",
    "\n",
    "# Plot the boxplots\n",
    "funcs.plot_independence(\n",
    "    corr_matrix=corr_matrix,\n",
    ")"
   ]
  },
  {
   "cell_type": "code",
   "execution_count": 58,
   "metadata": {},
   "outputs": [
    {
     "name": "stderr",
     "output_type": "stream",
     "text": [
      "10it [00:00, 65.90it/s]\n"
     ]
    },
    {
     "name": "stdout",
     "output_type": "stream",
     "text": [
      "CPU times: user 218 ms, sys: 158 ms, total: 376 ms\n",
      "Wall time: 407 ms\n"
     ]
    },
    {
     "data": {
      "image/png": "[encoded data removed]",
      "text/plain": [
       "<Figure size 720x720 with 1 Axes>"
      ]
     },
     "metadata": {
      "needs_background": "light"
     },
     "output_type": "display_data"
    }
   ],
   "source": [
    "%%time\n",
    "\n",
    "# Plot the density distribution\n",
    "funcs.stability_density(\n",
    "    ensemble=df,\n",
    "    var_name=\"sfcWind_UK\",\n",
    "    label=\"ONDJFM UK 10m wind speed (m/s)\",\n",
    "    cmap=\"Greys\",\n",
    ")"
   ]
  },
  {
   "cell_type": "code",
   "execution_count": null,
   "metadata": {},
   "outputs": [],
   "source": [
    "df"
   ]
  },
  {
   "cell_type": "code",
   "execution_count": 59,
   "metadata": {},
   "outputs": [
    {
     "name": "stdout",
     "output_type": "stream",
     "text": [
      "The pooled length is 5400\n",
      "The lead length is 540\n"
     ]
    },
    {
     "name": "stderr",
     "output_type": "stream",
     "text": [
      "Performing bootstrapping: 100%|██████████| 10000/10000 [00:00<00:00, 32637.88it/s]\n",
      "10it [00:00, 47.42it/s]\n"
     ]
    },
    {
     "data": {
      "image/png": "[encoded data removed]",
      "text/plain": [
       "<Figure size 720x720 with 1 Axes>"
      ]
     },
     "metadata": {
      "needs_background": "light"
     },
     "output_type": "display_data"
    },
    {
     "name": "stdout",
     "output_type": "stream",
     "text": [
      "CPU times: user 1min 6s, sys: 1.43 s, total: 1min 7s\n",
      "Wall time: 1min 8s\n"
     ]
    }
   ],
   "source": [
    "%%time\n",
    "\n",
    "# test the model stability boot function\n",
    "df_quantiles = funcs.model_stability_boot(\n",
    "    ensemble=df,\n",
    "    var_name=\"sfcWind_UK\",\n",
    "    label=\"ONDJFM UK 10m wind speed (m/s)\",\n",
    "    nboot=10000,\n",
    "    cmap=\"Greys\",\n",
    ")"
   ]
  },
  {
   "cell_type": "code",
   "execution_count": null,
   "metadata": {},
   "outputs": [],
   "source": [
    "df_quantiles.head()"
   ]
  },
  {
   "cell_type": "code",
   "execution_count": null,
   "metadata": {},
   "outputs": [],
   "source": [
    "df_corr = funcs.plot_independence_sb(\n",
    "    corr_matrix=corr_matrix,\n",
    ")"
   ]
  },
  {
   "cell_type": "code",
   "execution_count": null,
   "metadata": {},
   "outputs": [],
   "source": [
    "funcs.plot_independence_violin(\n",
    "    corr_matrix=corr_matrix,\n",
    ")"
   ]
  },
  {
   "cell_type": "code",
   "execution_count": null,
   "metadata": {},
   "outputs": [],
   "source": [
    "funcs.plot_independence_pd(\n",
    "    corr_matrix=corr_matrix,\n",
    ")"
   ]
  },
  {
   "cell_type": "code",
   "execution_count": null,
   "metadata": {},
   "outputs": [],
   "source": []
  },
  {
   "cell_type": "code",
   "execution_count": null,
   "metadata": {},
   "outputs": [],
   "source": [
    "# Test the spatial smoothing function \n",
    "lat_res = (ds['lat'].max() - ds['lat'].min())/(ds['lat'].count()-1.)\n",
    "\n",
    "# Calculate the resolution of the data - lon\n",
    "lon_res = (ds['lon'].max() - ds['lon'].min())/(ds['lon'].count()-1.)"
   ]
  },
  {
   "cell_type": "code",
   "execution_count": null,
   "metadata": {},
   "outputs": [],
   "source": [
    "lat_res = lat_res.values\n",
    "lon_res = lon_res.values"
   ]
  },
  {
   "cell_type": "code",
   "execution_count": null,
   "metadata": {},
   "outputs": [],
   "source": [
    "print(lat_res)\n",
    "print(lon_res)"
   ]
  },
  {
   "cell_type": "code",
   "execution_count": null,
   "metadata": {},
   "outputs": [],
   "source": [
    "import xesmf as xe\n",
    "\n",
    "# Set up the output grid\n",
    "ds_out = xe.util.grid_2d(-180.0, 180.0, lon_res, -90.0, 90.0, lat_res)"
   ]
  },
  {
   "cell_type": "code",
   "execution_count": null,
   "metadata": {},
   "outputs": [],
   "source": [
    "# set up the regridder\n",
    "regridder = xe.Regridder(ds, ds_out, 'bilinear', periodic=True)"
   ]
  },
  {
   "cell_type": "code",
   "execution_count": null,
   "metadata": {},
   "outputs": [],
   "source": [
    "# Apply this to sfcWind\n",
    "ds"
   ]
  },
  {
   "cell_type": "code",
   "execution_count": null,
   "metadata": {},
   "outputs": [],
   "source": [
    "sfcWind_regrid = regridder(ds['sfcWind'])"
   ]
  },
  {
   "cell_type": "code",
   "execution_count": null,
   "metadata": {
    "scrolled": true
   },
   "outputs": [],
   "source": [
    "sfcWind_regrid"
   ]
  },
  {
   "cell_type": "code",
   "execution_count": null,
   "metadata": {},
   "outputs": [],
   "source": [
    "ds['sfcWind'].isel(init=0, member=0, lead=0).plot()"
   ]
  },
  {
   "cell_type": "code",
   "execution_count": null,
   "metadata": {},
   "outputs": [],
   "source": [
    "sfcWind_regrid.isel(init=0, member=0, lead=0).plot()"
   ]
  },
  {
   "cell_type": "code",
   "execution_count": null,
   "metadata": {},
   "outputs": [],
   "source": [
    "sfcWind_regrid"
   ]
  },
  {
   "cell_type": "code",
   "execution_count": null,
   "metadata": {},
   "outputs": [],
   "source": [
    "# test selecting the UK grid\n",
    "grid = dic.uk_grid\n",
    "\n",
    "lon1, lon2, lat1, lat2 = grid['lon1'], grid['lon2'], grid['lat1'], grid['lat2']"
   ]
  },
  {
   "cell_type": "code",
   "execution_count": null,
   "metadata": {},
   "outputs": [],
   "source": [
    "# sfcWind_regrid = sfcWind_regrid.sel(lat=slice(lat1, lat2),\n",
    "#             lon=slice(lon1, lon2)).mean(dim=('lat','lon'))\n",
    "\n",
    "sfcWind_regrid[\"lat\"]"
   ]
  },
  {
   "cell_type": "code",
   "execution_count": null,
   "metadata": {},
   "outputs": [],
   "source": [
    "mask = (sfcWind_regrid['lat'] > lat1) & (sfcWind_regrid['lat'] < lat2) & (sfcWind_regrid['lon'] > lon1) & (sfcWind_regrid['lon'] < lon2)\n",
    "ds_masked = sfcWind_regrid.where(mask)\n",
    "mean_ds = ds_masked.mean(dim=('y','x'))"
   ]
  },
  {
   "cell_type": "code",
   "execution_count": null,
   "metadata": {},
   "outputs": [],
   "source": [
    "ds_masked.isel(init=0, member=0, lead=0).plot()"
   ]
  },
  {
   "cell_type": "code",
   "execution_count": null,
   "metadata": {},
   "outputs": [],
   "source": [
    "mean_ds"
   ]
  },
  {
   "cell_type": "code",
   "execution_count": null,
   "metadata": {},
   "outputs": [],
   "source": [
    "d_lon_lat_kws_hadgem =  {'lat': lat_res, 'lon': lon_res}"
   ]
  },
  {
   "cell_type": "code",
   "execution_count": null,
   "metadata": {},
   "outputs": [],
   "source": [
    "# regrid_ds = climpred.smoothing.spatial_smoothing_xesmf(\n",
    "#     ds, \n",
    "#     d_lon_lat_kws={'lat': 5, 'lon': 5}, \n",
    "#     method='bilinear', \n",
    "#     periodic=False, \n",
    "#     filename=None, \n",
    "#     reuse_weights=False, \n",
    "#     tsmooth_kws=None, \n",
    "#     how=None\n",
    "# )"
   ]
  },
  {
   "cell_type": "code",
   "execution_count": null,
   "metadata": {},
   "outputs": [],
   "source": [
    "regrid_ds"
   ]
  },
  {
   "cell_type": "code",
   "execution_count": null,
   "metadata": {},
   "outputs": [],
   "source": [
    "import matplotlib.pyplot as plt\n",
    "\n",
    "# Select the data for the first init member and lead\n",
    "data = ds.isel(init=0, member=0, lead=0)\n"
   ]
  },
  {
   "cell_type": "code",
   "execution_count": null,
   "metadata": {},
   "outputs": [],
   "source": [
    "data"
   ]
  },
  {
   "cell_type": "code",
   "execution_count": null,
   "metadata": {},
   "outputs": [],
   "source": [
    "data[\"sfcWind\"].plot()"
   ]
  },
  {
   "cell_type": "code",
   "execution_count": null,
   "metadata": {},
   "outputs": [],
   "source": [
    "# Look at the data\n",
    "len(member_files[0])"
   ]
  },
  {
   "cell_type": "code",
   "execution_count": null,
   "metadata": {},
   "outputs": [],
   "source": [
    "flat_list = [item for sublist in member_files for item in sublist]"
   ]
  },
  {
   "cell_type": "code",
   "execution_count": null,
   "metadata": {},
   "outputs": [],
   "source": [
    "flat_list[0]"
   ]
  },
  {
   "cell_type": "code",
   "execution_count": null,
   "metadata": {},
   "outputs": [],
   "source": [
    "print((variant_labels))"
   ]
  },
  {
   "cell_type": "code",
   "execution_count": null,
   "metadata": {},
   "outputs": [],
   "source": [
    "# test_file = \"/work/scratch-nopw2/benhutch/sfcWind/HadGEM3-GC31-MM/global/all_forecast_years/ONDJFM/outputs/all-years-ONDJFM-global-sfcWind_Amon_HadGEM3-GC31-MM_dcppA-hindcast_s1960-r1i1p1f2_gn_196011-197103.nc\"\n",
    "\n",
    "# ds = xr.open_dataset(test_file)"
   ]
  },
  {
   "cell_type": "code",
   "execution_count": null,
   "metadata": {},
   "outputs": [],
   "source": [
    "ds"
   ]
  },
  {
   "cell_type": "code",
   "execution_count": null,
   "metadata": {},
   "outputs": [],
   "source": [
    "# Print the values\n",
    "print(model_data.sfcWind.values)"
   ]
  },
  {
   "cell_type": "code",
   "execution_count": null,
   "metadata": {
    "scrolled": true
   },
   "outputs": [],
   "source": [
    "# test the read_data function\n",
    "model_data = load_model_data(model_variable=model_var,\n",
    "                            model=test_model,\n",
    "                            experiment=experiment,\n",
    "                            start_year=1961,\n",
    "                            end_year=2014,\n",
    "                            avg_period=2,\n",
    "                            grid=dic.uk_grid)"
   ]
  },
  {
   "cell_type": "code",
   "execution_count": null,
   "metadata": {},
   "outputs": [],
   "source": [
    "print(model_data.shape)"
   ]
  },
  {
   "cell_type": "code",
   "execution_count": null,
   "metadata": {},
   "outputs": [],
   "source": [
    "# Take the mean of the model data over the months axis\n",
    "model_data_year = model_data.mean(axis=2)\n",
    "\n",
    "# # Print the new shape\n",
    "print(model_data_year.shape)\n",
    "\n",
    "# Winter 1 data\n",
    "winter1_data = model_data[:, :, 0:4].mean(axis=2)\n",
    "\n",
    "# summer data\n",
    "summer_data = model_data[:, :, 4:10].mean(axis=2)\n",
    "\n",
    "# winter 2 data\n",
    "winter2_data = model_data[:, :, 10:].mean(axis=2)\n",
    "\n",
    "# Print the shapes of the new data\n",
    "print(winter1_data.shape)\n",
    "\n",
    "# Print the shapes of the new data\n",
    "print(summer_data.shape)\n",
    "\n",
    "# Print the shapes of the new data\n",
    "print(winter2_data.shape)"
   ]
  },
  {
   "cell_type": "code",
   "execution_count": null,
   "metadata": {},
   "outputs": [],
   "source": [
    "# Get the data including the months, no mean\n",
    "winter1_data_months = model_data[:, :, 0:4]\n",
    "summer_data_months = model_data[:, :, 4:10]\n",
    "winter2_data_months = model_data[:, :, 10:]\n",
    "year_data_months = model_data"
   ]
  },
  {
   "cell_type": "code",
   "execution_count": null,
   "metadata": {},
   "outputs": [],
   "source": [
    "import importlib\n",
    "\n",
    "importlib.reload(sys.modules['functions'])\n",
    "\n",
    "from functions import load_model_data, model_stats_bs"
   ]
  },
  {
   "cell_type": "code",
   "execution_count": null,
   "metadata": {
    "scrolled": true
   },
   "outputs": [],
   "source": [
    "# test the bootstrapping function\n",
    "stats_dict_year = model_stats_bs(model=year_data_months.mean(axis=2),\n",
    "                            nboot=10000)"
   ]
  },
  {
   "cell_type": "code",
   "execution_count": null,
   "metadata": {},
   "outputs": [],
   "source": [
    "# test the bootstrapping function\n",
    "stats_dict_winter1 = model_stats_bs(model=winter1_data_months.mean(axis=2),\n",
    "                            nboot=10000)"
   ]
  },
  {
   "cell_type": "code",
   "execution_count": null,
   "metadata": {},
   "outputs": [],
   "source": [
    "# test the bootstrapping function\n",
    "stats_dict_summer = model_stats_bs(model=summer_data_months.mean(axis=2),\n",
    "                            nboot=10000)"
   ]
  },
  {
   "cell_type": "code",
   "execution_count": null,
   "metadata": {},
   "outputs": [],
   "source": [
    "# test the bootstrapping function\n",
    "stats_dict_winter2 = model_stats_bs(model=winter2_data_months.mean(axis=2),\n",
    "                            nboot=10000)"
   ]
  },
  {
   "cell_type": "code",
   "execution_count": null,
   "metadata": {},
   "outputs": [],
   "source": [
    "# print(stats_dict)"
   ]
  },
  {
   "cell_type": "code",
   "execution_count": null,
   "metadata": {},
   "outputs": [],
   "source": [
    "import importlib\n",
    "\n",
    "importlib.reload(sys.modules['functions'])\n",
    "\n",
    "from functions import load_model_data, load_obs_data, calculate_obs_stats"
   ]
  },
  {
   "cell_type": "code",
   "execution_count": null,
   "metadata": {},
   "outputs": [],
   "source": [
    "obs_data = load_obs_data(obs_variable=obs_var,\n",
    "                         regrid_obs_path=\"/home/users/benhutch/ERA5/surface_wind_ERA5_regrid_HadGEM.nc\",\n",
    "                        start_year=1961,\n",
    "                        end_year=2014,\n",
    "                        avg_period=2,\n",
    "                        grid=dic.uk_grid)"
   ]
  },
  {
   "cell_type": "code",
   "execution_count": null,
   "metadata": {},
   "outputs": [],
   "source": [
    "# Extract and print the obs years\n",
    "obs_years = obs_data[1]\n",
    "\n",
    "# print the shape of the obs data\n",
    "print(obs_years.shape)\n",
    "print(obs_years)"
   ]
  },
  {
   "cell_type": "code",
   "execution_count": null,
   "metadata": {},
   "outputs": [],
   "source": [
    "# Extract the obs data for the different seasons\n",
    "obs_data_year = obs_data[0]\n",
    "obs_data_winter1 = obs_data[0][:, 0:4]\n",
    "obs_data_summer = obs_data[0][:, 4:10]\n",
    "obs_data_winter2 = obs_data[0][:, 10:]"
   ]
  },
  {
   "cell_type": "code",
   "execution_count": null,
   "metadata": {},
   "outputs": [],
   "source": [
    "# Calculate the stats\n",
    "obs_stats_year = calculate_obs_stats(obs_data=obs_data_year,\n",
    "                                start_year=1960,\n",
    "                                end_year=2018,\n",
    "                                avg_period=1,\n",
    "                                grid=dic.uk_grid)\n",
    "\n",
    "obs_stats_winter1 = calculate_obs_stats(obs_data=obs_data_winter1,\n",
    "                                start_year=1960,\n",
    "                                end_year=2018,\n",
    "                                avg_period=1,\n",
    "                                grid=dic.uk_grid)\n",
    "\n",
    "obs_stats_summer = calculate_obs_stats(obs_data=obs_data_summer,\n",
    "                                start_year=1960,\n",
    "                                end_year=2018,\n",
    "                                avg_period=1,\n",
    "                                grid=dic.uk_grid)\n",
    "\n",
    "obs_stats_winter2 = calculate_obs_stats(obs_data=obs_data_winter2,\n",
    "                                start_year=1960,\n",
    "                                end_year=2018,\n",
    "                                avg_period=1,\n",
    "                                grid=dic.uk_grid)"
   ]
  },
  {
   "cell_type": "code",
   "execution_count": null,
   "metadata": {},
   "outputs": [],
   "source": [
    "print(obs_stats_year)"
   ]
  },
  {
   "cell_type": "code",
   "execution_count": null,
   "metadata": {},
   "outputs": [],
   "source": [
    "import importlib\n",
    "\n",
    "importlib.reload(sys.modules['functions'])\n",
    "\n",
    "from functions import load_model_data, load_obs_data, calculate_obs_stats, \\\n",
    "    plot_moments "
   ]
  },
  {
   "cell_type": "code",
   "execution_count": null,
   "metadata": {},
   "outputs": [],
   "source": [
    "# # Plot the moments of the distribution\n",
    "# plot_moments(model_stats=stats_dict,\n",
    "#              obs_stats=obs_stats,)"
   ]
  },
  {
   "cell_type": "code",
   "execution_count": null,
   "metadata": {},
   "outputs": [],
   "source": [
    "# Plot the moments of the distribution for the different seasons\n",
    "plot_moments(model_stats=stats_dict_year,\n",
    "             obs_stats=obs_stats_year)"
   ]
  },
  {
   "cell_type": "code",
   "execution_count": null,
   "metadata": {},
   "outputs": [],
   "source": [
    "# Plot the moments of the distribution for the different seasons\n",
    "plot_moments(model_stats=stats_dict_winter1,\n",
    "             obs_stats=obs_stats_winter1)"
   ]
  },
  {
   "cell_type": "code",
   "execution_count": null,
   "metadata": {},
   "outputs": [],
   "source": [
    "# Plot the moments of the distribution for the summer\n",
    "plot_moments(model_stats=stats_dict_summer,\n",
    "             obs_stats=obs_stats_summer)"
   ]
  },
  {
   "cell_type": "code",
   "execution_count": null,
   "metadata": {},
   "outputs": [],
   "source": [
    "# Plot the moments of the distribution for winter2\n",
    "plot_moments(model_stats=stats_dict_winter2,\n",
    "             obs_stats=obs_stats_winter2)"
   ]
  },
  {
   "cell_type": "code",
   "execution_count": null,
   "metadata": {},
   "outputs": [],
   "source": [
    "import importlib\n",
    "\n",
    "importlib.reload(sys.modules['functions'])\n",
    "\n",
    "from functions import load_model_data, load_obs_data, calculate_obs_stats, \\\n",
    "    plot_moments, plot_distribution"
   ]
  },
  {
   "cell_type": "code",
   "execution_count": null,
   "metadata": {},
   "outputs": [],
   "source": [
    "plot_distribution(model_data=model_data_year,\n",
    "                  obs_data=obs_data_year,)"
   ]
  },
  {
   "cell_type": "code",
   "execution_count": null,
   "metadata": {},
   "outputs": [],
   "source": [
    "# Plot the distribution of the winter 1 data\n",
    "plot_distribution(model_data=winter1_data,\n",
    "                  obs_data=obs_data_winter1,)"
   ]
  },
  {
   "cell_type": "code",
   "execution_count": null,
   "metadata": {},
   "outputs": [],
   "source": [
    "# Plot the distribution of the summer data\n",
    "plot_distribution(model_data=summer_data,\n",
    "                  obs_data=obs_data_summer,)"
   ]
  },
  {
   "cell_type": "code",
   "execution_count": null,
   "metadata": {},
   "outputs": [],
   "source": [
    "# PLot the distribution of the winter 2 data\n",
    "plot_distribution(model_data=winter2_data,\n",
    "                  obs_data=obs_data_winter2,)"
   ]
  },
  {
   "cell_type": "code",
   "execution_count": null,
   "metadata": {},
   "outputs": [],
   "source": [
    "# # Take the average over the time period\n",
    "# # i.e. the 2th axis\n",
    "# model_data_ann_mean = model_data.mean(axis=2)\n",
    "\n",
    "# print(model_data_ann_mean)\n",
    "\n",
    "# print(model_data_ann_mean.shape)"
   ]
  },
  {
   "cell_type": "code",
   "execution_count": null,
   "metadata": {},
   "outputs": [],
   "source": [
    "import importlib\n",
    "\n",
    "importlib.reload(sys.modules['functions'])\n",
    "\n",
    "from functions import *"
   ]
  },
  {
   "cell_type": "code",
   "execution_count": null,
   "metadata": {},
   "outputs": [],
   "source": [
    "# Plot the year events\n",
    "plot_events(model_data=model_data_year,\n",
    "            obs_data=obs_data_year,\n",
    "            obs_stats=obs_stats_year,\n",
    "            start_year=1960,\n",
    "            end_year=2018,\n",
    "            figsize_y=5,)"
   ]
  },
  {
   "cell_type": "code",
   "execution_count": null,
   "metadata": {},
   "outputs": [],
   "source": [
    "# Plot the winter 1 events\n",
    "plot_events(model_data=winter1_data,\n",
    "            obs_data=obs_data_winter1,\n",
    "            obs_stats=obs_stats_winter1,\n",
    "            start_year=1960,\n",
    "            end_year=2018,\n",
    "            figsize_y=5,)"
   ]
  },
  {
   "cell_type": "code",
   "execution_count": null,
   "metadata": {},
   "outputs": [],
   "source": [
    "# Plot the summer events\n",
    "plot_events(model_data=summer_data,\n",
    "            obs_data=obs_data_summer,\n",
    "            obs_stats=obs_stats_summer,\n",
    "            start_year=1960,\n",
    "            end_year=2018,\n",
    "            figsize_y=5,)"
   ]
  },
  {
   "cell_type": "code",
   "execution_count": null,
   "metadata": {},
   "outputs": [],
   "source": [
    "# Plot the winter2 events\n",
    "plot_events(model_data=winter2_data,\n",
    "            obs_data=obs_data_winter2,\n",
    "            obs_stats=obs_stats_winter2,\n",
    "            start_year=1960,\n",
    "            end_year=2018,\n",
    "            figsize_y=5,)"
   ]
  },
  {
   "cell_type": "code",
   "execution_count": null,
   "metadata": {},
   "outputs": [],
   "source": [
    "# Calculate the bias\n",
    "# the difference in the means between the model and the observations\n",
    "bias = np.mean(model_data_ann_mean.flatten()) - obs_stats['mean']\n",
    "\n",
    "print(bias)\n",
    "\n",
    "# Remove the bias from the model data\n",
    "model_data_ann_mean_bias = model_data_ann_mean - bias"
   ]
  },
  {
   "cell_type": "code",
   "execution_count": null,
   "metadata": {},
   "outputs": [],
   "source": [
    "# create an array of years\n",
    "years = np.arange(1960, 2019)\n",
    "\n",
    "# Set up a figure\n",
    "fig = plt.figure(figsize=(10, 5))\n",
    "\n",
    "print(\"Plotting model data shape: \", model_data_ann_mean_bias.shape)\n",
    "\n",
    "# Plot the data\n",
    "# Plot the data\n",
    "for i in range(min(model_data_ann_mean_bias.shape[1], model_data_ann_mean_bias.shape[0] - 1)):\n",
    "    print(\"Plotting model data for ensemble member: \", i)\n",
    "    \n",
    "    # Separate data into two groups based on the condition\n",
    "    below_20th = model_data_ann_mean_bias[:, i] < obs_stats['min_20']\n",
    "    above_20th = ~below_20th\n",
    "    \n",
    "    # Plot points below the 20th percentile with a label\n",
    "    plt.scatter(years[below_20th], model_data_ann_mean_bias[below_20th, i],\n",
    "                color='blue', alpha=0.8, label='model wind drought' if i == 0 else None)\n",
    "    \n",
    "    # Plot points above the 20th percentile without a label\n",
    "    plt.scatter(years[above_20th], model_data_ann_mean_bias[above_20th, i],\n",
    "                color='grey', alpha=0.8, label='HadGEM3-GC31-MM' if i == 0 else None)\n",
    "\n",
    "# plot the obs\n",
    "plt.scatter(years, obs_data.mean(axis=1), label='ERA5', color='black')\n",
    "\n",
    "# Plot the 20th percentile\n",
    "# as a horizontal line\n",
    "plt.axhline(y=obs_stats['min_20'],\n",
    "            color='black', linestyle='-')\n",
    "\n",
    "# Plot the min\n",
    "# as a horizontal line\n",
    "plt.axhline(y=obs_stats['min'],\n",
    "            color='black', linestyle='--')\n",
    "\n",
    "# Add a legend\n",
    "plt.legend(loc='upper left')\n",
    "\n",
    "# Add axis labels\n",
    "plt.xlabel(\"Year\")\n",
    "\n",
    "# Add a title\n",
    "plt.title(\"Annual mean \" + model_var)\n",
    "\n",
    "# Show the plot\n",
    "plt.show()"
   ]
  },
  {
   "cell_type": "code",
   "execution_count": null,
   "metadata": {},
   "outputs": [],
   "source": [
    "import seaborn as sns\n",
    "\n",
    "# Assemble the data into a continuous array\n",
    "model_data_ann_mean_flat = model_data_ann_mean.flatten()\n",
    "\n",
    "# Plot the distribution of the data\n",
    "sns.distplot(model_data_ann_mean_flat, label=\"model\")\n",
    "\n",
    "# # Plot the mean as a vertical line\n",
    "# plt.axvline(x=model_data_ann_mean_flat.mean(),\n",
    "#             color='black', linestyle='-')\n",
    "\n",
    "# Plot the distribution of the observations\n",
    "sns.distplot(obs_data.mean(axis=1), label=\"obs\")\n",
    "\n",
    "# # Plot the mean as a vertical line\n",
    "# plt.axvline(x=obs_stats['mean'],\n",
    "#             color='black', linestyle='--')\n",
    "\n",
    "# Include a textbox with the sample size\n",
    "plt.text(0.05, 0.85,f\"model_n = {model_data_ann_mean_flat.shape[0]}\\nobs_n = {obs_data.shape[0]}\",\n",
    "         transform=plt.gca().transAxes, bbox=dict(facecolor='white', alpha=0.5))\n",
    "\n",
    "# Add a legend\n",
    "plt.legend()\n",
    "\n",
    "# Add a title\n",
    "plt.title(\"Annual mean \" + model_var + \" distribution\")"
   ]
  },
  {
   "cell_type": "code",
   "execution_count": null,
   "metadata": {},
   "outputs": [],
   "source": [
    "import importlib\n",
    "\n",
    "importlib.reload(sys.modules['functions'])\n",
    "\n",
    "from functions import load_model_data, load_obs_data, calculate_obs_stats, plot_events"
   ]
  },
  {
   "cell_type": "code",
   "execution_count": null,
   "metadata": {},
   "outputs": [],
   "source": [
    "# load model data but for 3 year averages\n",
    "model_data_3yr_mean = load_model_data(model_variable=model_var,\n",
    "                            model=test_model,\n",
    "                            experiment=experiment,\n",
    "                            start_year=1960,\n",
    "                            end_year=2018,\n",
    "                            avg_period=1,\n",
    "                            grid=dic.uk_grid)"
   ]
  },
  {
   "cell_type": "code",
   "execution_count": null,
   "metadata": {},
   "outputs": [],
   "source": [
    "# Load the observations\n",
    "obs_data_3yr_mean = load_obs_data(obs_variable=obs_var,\n",
    "                         regrid_obs_path=\"/home/users/benhutch/ERA5/surface_wind_ERA5_regrid_HadGEM.nc\",\n",
    "                        start_year=1960,\n",
    "                        end_year=2018,\n",
    "                        avg_period=1,\n",
    "                        grid=dic.uk_grid)"
   ]
  },
  {
   "cell_type": "code",
   "execution_count": null,
   "metadata": {},
   "outputs": [],
   "source": [
    "# Calculate the stats\n",
    "obs_stats_3yr_mean = calculate_obs_stats(obs_data=obs_data_3yr_mean[0],\n",
    "                                start_year=1960,\n",
    "                                end_year=2018,\n",
    "                                avg_period=1,\n",
    "                                grid=dic.uk_grid)"
   ]
  },
  {
   "cell_type": "code",
   "execution_count": null,
   "metadata": {},
   "outputs": [],
   "source": [
    "# Calculate the stats dict for the model data\n",
    "stats_dict_3yr_mean = model_stats_bs(model=model_data_3yr_mean.mean(axis=2),\n",
    "                            nboot=10000)"
   ]
  },
  {
   "cell_type": "code",
   "execution_count": null,
   "metadata": {},
   "outputs": [],
   "source": [
    "# plot the moments of the distribution\n",
    "plot_moments(model_stats=stats_dict_3yr_mean,\n",
    "             obs_stats=obs_stats_3yr_mean,)"
   ]
  },
  {
   "cell_type": "code",
   "execution_count": null,
   "metadata": {},
   "outputs": [],
   "source": [
    "# Plot the distribution of the data\n",
    "plot_distribution(model_data=model_data_3yr_mean.mean(axis=2),\n",
    "                  obs_data=obs_data_3yr_mean[0],)"
   ]
  },
  {
   "cell_type": "code",
   "execution_count": null,
   "metadata": {},
   "outputs": [],
   "source": [
    "import importlib\n",
    "\n",
    "importlib.reload(sys.modules['functions'])\n",
    "\n",
    "from functions import load_model_data, load_obs_data, calculate_obs_stats, plot_events"
   ]
  },
  {
   "cell_type": "code",
   "execution_count": null,
   "metadata": {},
   "outputs": [],
   "source": [
    "plot_events(model_data=model_data_3yr_mean,\n",
    "            obs_data=obs_data_3yr_mean,\n",
    "            obs_stats=obs_stats_3yr_mean,\n",
    "            start_year=1960,\n",
    "            end_year=2018,\n",
    "            figsize_y=5)"
   ]
  },
  {
   "cell_type": "code",
   "execution_count": null,
   "metadata": {},
   "outputs": [],
   "source": [
    "# load model data but for 5 year averages\n",
    "model_data_5yr_mean = load_model_data(model_variable=model_var,\n",
    "                            model=test_model,\n",
    "                            experiment=experiment,\n",
    "                            start_year=1960,\n",
    "                            end_year=2018,\n",
    "                            avg_period=5,\n",
    "                            grid=dic.uk_grid)"
   ]
  },
  {
   "cell_type": "code",
   "execution_count": null,
   "metadata": {},
   "outputs": [],
   "source": [
    "obs_data_5yr_mean = load_obs_data(obs_variable=obs_var,\n",
    "                            regrid_obs_path=\"/home/users/benhutch/ERA5/surface_wind_ERA5_regrid_HadGEM.nc\",\n",
    "                            start_year=1960,\n",
    "                            end_year=2018,\n",
    "                            avg_period=5,\n",
    "                            grid=dic.uk_grid)"
   ]
  },
  {
   "cell_type": "code",
   "execution_count": null,
   "metadata": {},
   "outputs": [],
   "source": [
    "# Calculate the stats\n",
    "obs_stats_5yr_mean = calculate_obs_stats(obs_data=obs_data_5yr_mean[0],\n",
    "                                start_year=1960,\n",
    "                                end_year=2018,\n",
    "                                avg_period=5,\n",
    "                                grid=dic.uk_grid)"
   ]
  },
  {
   "cell_type": "code",
   "execution_count": null,
   "metadata": {},
   "outputs": [],
   "source": [
    "# Calculate the model stats bs\n",
    "stats_dict_5yr_mean = model_stats_bs(model=model_data_5yr_mean.mean(axis=2),\n",
    "                            nboot=10000)"
   ]
  },
  {
   "cell_type": "code",
   "execution_count": null,
   "metadata": {},
   "outputs": [],
   "source": [
    "# Plot the moments of the distribution\n",
    "plot_moments(model_stats=stats_dict_5yr_mean,\n",
    "             obs_stats=obs_stats_5yr_mean,)"
   ]
  },
  {
   "cell_type": "code",
   "execution_count": null,
   "metadata": {},
   "outputs": [],
   "source": [
    "# Plot the distribution of the data\n",
    "plot_distribution(model_data=model_data_5yr_mean.mean(axis=2),\n",
    "                  obs_data=obs_data_5yr_mean[0],)"
   ]
  },
  {
   "cell_type": "code",
   "execution_count": null,
   "metadata": {},
   "outputs": [],
   "source": [
    "# Plot the events\n",
    "plot_events(model_data=model_data_5yr_mean,\n",
    "            obs_data=obs_data_5yr_mean,\n",
    "            obs_stats=obs_stats_5yr_mean,\n",
    "            start_year=1960,\n",
    "            end_year=2018,\n",
    "            figsize_y=5)"
   ]
  },
  {
   "cell_type": "code",
   "execution_count": null,
   "metadata": {},
   "outputs": [],
   "source": [
    "# Load the observations data as an iris cube for the si10 variable\n",
    "# Deal with the expver variables\n",
    "obs = xr.open_mfdataset(dic.obs_path, combine='by_coords', parallel=True)[obs_var]\n",
    "\n",
    "# Combine the two expver variables\n",
    "obs = obs.sel(expver=1).combine_first(obs.sel(expver=5))\n",
    "\n",
    "# Convert to an iris cube\n",
    "obs = obs.to_iris()\n",
    "\n",
    "print(obs)"
   ]
  },
  {
   "cell_type": "code",
   "execution_count": null,
   "metadata": {},
   "outputs": [],
   "source": [
    "# Finding paths for the model variables\n",
    "# Set up a dataframe with 4 columns\n",
    "# one for the variable, one for the experiment, one for the model and one for the path\n",
    "df = pd.DataFrame(columns=['variable', 'experiment', 'model', 'path'])\n",
    "\n",
    "# # Print the dataframe\n",
    "# print(df)\n",
    "\n",
    "# Populate the dataframe\n",
    "# For variable 'sfcwind', set the 'experiment' column to 'dcppA-hindcast'\n",
    "# Set the 'model' column to 'HadGEM3-GC31-MM'\n",
    "# Set the 'path' column to the path for the sfcwind variable\n",
    "df.loc[0] = [model_var, experiment, test_model, os.path.join(dic.gws_base, experiment, \"data\",\n",
    "                          model_var, test_model, \"merged_files\")]\n",
    "\n",
    "# Form the EC-Earth3 path\n",
    "ec_path = os.path.join(dic.gws_base, experiment, \"data\", model_var, \"EC-Earth3\", \"merged_files\")\n",
    "\n",
    "# print the path\n",
    "print(ec_path)\n",
    "# # If the model is EC-Earth3, \n",
    "df.loc[1] = [model_var, experiment, \"EC-Earth3\", ec_path]\n",
    "\n",
    "# models\n",
    "models = [\"FGOALS-f3-L\", \"IPSL-CM6A-LR\", \"MIROC6\", \"MPI-ESM1-2-HR\", \"CanESM5\"]\n",
    "\n",
    "# Loop through the models\n",
    "for model in models:\n",
    "    # Form the path\n",
    "    path = os.path.join(dic.gws_base, experiment, model_var, model,\n",
    "                        \"data\")\n",
    "    \n",
    "    # Assert that the path exists\n",
    "    assert os.path.exists(path), f\"{path} does not exist\"\n",
    "\n",
    "    # Assert that there are non-empty files in the path\n",
    "    assert len(os.listdir(path)) > 0, f\"{path} is empty\"\n",
    "\n",
    "    # Add the path to the dataframe\n",
    "    df.loc[len(df)] = [model_var, experiment, model, path]\n"
   ]
  },
  {
   "cell_type": "code",
   "execution_count": null,
   "metadata": {},
   "outputs": [],
   "source": [
    "# dataframe\n",
    "df"
   ]
  },
  {
   "cell_type": "code",
   "execution_count": null,
   "metadata": {},
   "outputs": [],
   "source": [
    "# Make a new folder in the PWD\n",
    "os.mkdir(\"paths\")\n",
    "\n",
    "# Extract the current time\n",
    "now = pd.Timestamp.now().strftime(\"%Y%m%dT%H%M%S\")\n",
    "\n",
    "# Save the dataframe as a csv\n",
    "df.to_csv(\"paths/paths_{}.csv\".format(now))"
   ]
  },
  {
   "cell_type": "code",
   "execution_count": null,
   "metadata": {},
   "outputs": [],
   "source": [
    "# open multiple files as a single dataset for a year\n",
    "start_year = 1961\n",
    "\n",
    "# Form the directory containing the data\n",
    "hadgem_dir = os.path.join(dic.gws_base, experiment, \"data\",\n",
    "                          model_var, test_model, \"merged_files\")\n",
    "\n",
    "# List the files in the directory\n",
    "files = glob.glob(os.path.join(hadgem_dir, \"*.nc\"))\n",
    "\n",
    "# Find all of the files for the start year\n",
    "files = [f for f in files if str(start_year) in f]\n",
    "\n",
    "# Print the files\n",
    "print(files)\n",
    "\n",
    "# Print the length of the files\n",
    "print(len(files))\n",
    "\n",
    "import re\n",
    "\n",
    "# Extract the member from the file names\n",
    "members = [re.search('s\\d+-r\\d+i\\d+p\\d+f\\d+', f).group(0) for f in files]\n",
    "\n",
    "# Group the files by member\n",
    "file_groups = {member: [f for f, m in zip(files, members) if m == member] for member in set(members)}\n",
    "\n",
    "from tqdm import tqdm\n",
    "\n",
    "# # Open multiple files and combine by members\n",
    "# datasets = {member: xr.open_mfdataset(file_group, combine='by_coords', parallel=True)[model_var] for member, file_group in tqdm(file_groups.items())}\n",
    "\n",
    "# Open each file and extract the 'variant_label' attribute\n",
    "variant_labels = [xr.open_dataset(file).attrs['variant_label'] for file in files]\n",
    "\n",
    "print(variant_labels)\n",
    "\n",
    "# Create the files as a nested list of lists\n",
    "paths_test = [[f] for f in files]\n",
    "\n",
    "# Now you can use variant_labels in your concat_dim argument\n",
    "datasets = xr.open_mfdataset(paths_test,\n",
    "                             concat_dim=variant_labels,\n",
    "                                combine='nested',\n",
    "                             parallel=True,\n",
    "                             chunks={'time': 1000})\n"
   ]
  },
  {
   "cell_type": "code",
   "execution_count": null,
   "metadata": {},
   "outputs": [],
   "source": [
    "datasets"
   ]
  },
  {
   "cell_type": "code",
   "execution_count": null,
   "metadata": {},
   "outputs": [],
   "source": [
    "# Load one example of the model data as an iris cube\n",
    "init_year = 1960\n",
    "realisation = 1\n",
    "\n",
    "# Form the directory containing the data\n",
    "hadgem_dir = os.path.join(dic.gws_base, experiment, \"data\",\n",
    "                          model_var, test_model, \"merged_files\")\n",
    "\n",
    "# List the files in the directory\n",
    "files = glob.glob(os.path.join(hadgem_dir, \"*.nc\"))\n",
    "\n",
    "# Print the files\n",
    "print(files)\n",
    "\n",
    "# Find the file constaining fs{init_year}r{realisation}\n",
    "file = [f for f in files if f\"s{init_year}\" in f and f\"r{realisation}i\" in f][0]\n",
    "\n",
    "# Print rthe file\n",
    "print(file)\n",
    "\n",
    "# Load the file as an iris cube\n",
    "hadgem_example = iris.load_cube(file, model_var)\n",
    "\n",
    "# Print the cube\n",
    "print(hadgem_example)"
   ]
  },
  {
   "cell_type": "code",
   "execution_count": null,
   "metadata": {},
   "outputs": [],
   "source": [
    "import iris.quickplot as qplt\n",
    "\n",
    "# Quick plot of the data\n",
    "# Set up the figure\n",
    "fig = plt.figure(figsize=(10, 5))\n",
    "qplt.contourf(hadgem_example[0,:,:], 25)\n",
    "plt.gca().coastlines()\n"
   ]
  },
  {
   "cell_type": "code",
   "execution_count": null,
   "metadata": {},
   "outputs": [],
   "source": [
    "# Same but for the observations\n",
    "# Set up the figure\n",
    "projection = ccrs.PlateCarree(central_longitude=0)\n",
    "fig = plt.figure(figsize=(10, 5))\n",
    "ax = fig.add_subplot(1, 1, 1, projection=projection)\n",
    "qplt.contourf(obs[0,:,:], 25)"
   ]
  },
  {
   "cell_type": "code",
   "execution_count": null,
   "metadata": {},
   "outputs": [],
   "source": [
    "# Importlib reload\n",
    "import importlib\n",
    "\n",
    "# Reload the dictionaries\n",
    "importlib.reload(dic)"
   ]
  },
  {
   "cell_type": "code",
   "execution_count": null,
   "metadata": {},
   "outputs": [],
   "source": [
    "print(dic.obs_path)"
   ]
  },
  {
   "cell_type": "code",
   "execution_count": null,
   "metadata": {},
   "outputs": [],
   "source": [
    "# Import cdo\n",
    "from cdo import *\n",
    "cdo = Cdo()\n",
    "\n",
    "# Give up on Iris regridding, just use cdo in python instead\n",
    "target_grid = file # This is the example HadGEM file\n",
    "input_obs = dic.obs_path # for surface wind\n",
    "output_obs = \"/home/users/benhutch/ERA5/surface_wind_ERA5_regrid_HadGEM.nc\"\n",
    "\n",
    "# Regrid the ERA5 data to the HadGEM grid\n",
    "cdo.remapbil(target_grid, input=input_obs, output=output_obs)"
   ]
  },
  {
   "cell_type": "code",
   "execution_count": null,
   "metadata": {},
   "outputs": [],
   "source": [
    "# Importlib reload\n",
    "import importlib\n",
    "\n",
    "# Reload the dictionaries\n",
    "importlib.reload(dic)"
   ]
  },
  {
   "cell_type": "code",
   "execution_count": null,
   "metadata": {},
   "outputs": [],
   "source": [
    "# Load the regridded observations data as an iris cube for the si10 variable\n",
    "# Deal with the expver variables\n",
    "obs_regrid = xr.open_mfdataset(dic.regrid_hadgem_obs_path, combine='by_coords', parallel=True)[obs_var]\n",
    "\n",
    "# Combine the two expver variables\n",
    "obs_regrid = obs_regrid.sel(expver=1).combine_first(obs_regrid.sel(expver=5))\n",
    "\n",
    "# Convert to an iris cube\n",
    "obs_regrid = obs_regrid.to_iris()\n",
    "\n",
    "# Print the cube\n",
    "print(obs_regrid)"
   ]
  },
  {
   "cell_type": "code",
   "execution_count": null,
   "metadata": {},
   "outputs": [],
   "source": [
    "# Side by side comparison of the two\n",
    "# Set up the figure\n",
    "projection = ccrs.PlateCarree(central_longitude=0)\n",
    "fig = plt.figure(figsize=(10, 5))\n",
    "\n",
    "# Plot the HadGEM data\n",
    "ax = fig.add_subplot(1, 2, 1, projection=projection)\n",
    "qplt.contourf(hadgem_example[0,:,:], 25)\n",
    "ax.set_title(\"HadGEM3-GC31-MM\")\n",
    "\n",
    "# Plot the ERA5 data\n",
    "ax = fig.add_subplot(1, 2, 2, projection=projection)\n",
    "qplt.contourf(obs_regrid[0,:,:], 25)\n",
    "ax.set_title(\"ERA5\")"
   ]
  },
  {
   "cell_type": "markdown",
   "metadata": {},
   "source": [
    "Regridding complete (for HadGEM at least), now to process the data."
   ]
  },
  {
   "cell_type": "markdown",
   "metadata": {},
   "source": [
    "### Time series ###\n",
    "\n",
    "Now we want to collapse both of these into time series (although they won't run for the same time) for our selected gridbox."
   ]
  },
  {
   "cell_type": "code",
   "execution_count": null,
   "metadata": {},
   "outputs": [],
   "source": [
    "# print the types of the two cubes\n",
    "print(type(hadgem_example))\n",
    "print(type(obs_regrid))\n",
    "\n",
    "# Convert these back to xarray datasets\n",
    "hadgem_example = DataArray.from_iris(hadgem_example)\n",
    "\n",
    "# Print the cube\n",
    "print(hadgem_example)\n",
    "\n",
    "# Convert these back to xarray datasets\n",
    "obs_regrid = DataArray.from_iris(obs_regrid)\n",
    "\n",
    "# Print the cube\n",
    "print(obs_regrid)"
   ]
  },
  {
   "cell_type": "code",
   "execution_count": null,
   "metadata": {},
   "outputs": [],
   "source": [
    "from datetime import datetime as dt\n",
    "\n",
    "# Import timedelta\n",
    "from datetime import timedelta\n",
    "\n",
    "\n",
    "# Take the mean for the gridbox for the HadGEM data\n",
    "hadgem_example_uk_ts = hadgem_example.sel(lat=slice(lat1_uk, lat2_uk),\n",
    "                                          lon=slice(lon1_uk, lon2_uk)).mean(dim=('lat', 'lon'))\n",
    "\n",
    "# # Print the cube\n",
    "# print(hadgem_example_uk_ts)\n",
    "\n",
    "# Take the mean for the gridbox for the ERA5 data\n",
    "obs_regrid_uk_ts = obs_regrid.sel(lat=slice(lat1_uk, lat2_uk),\n",
    "                                  lon=slice(lon1_uk, lon2_uk)).mean(dim=('lat', 'lon'))\n",
    "\n",
    "# # Print the cube\n",
    "# print(obs_regrid_uk_ts)\n",
    "\n",
    "# Limit the datasets to the same time period\n",
    "# 5-year time period\n",
    "hadgem_example_uk_ts = hadgem_example_uk_ts.sel(time=slice(\"1960-12-01\", \"1965-11-30\"))\n",
    "\n",
    "# Limit the observations to the same time period\n",
    "obs_regrid_uk_ts = obs_regrid_uk_ts.sel(time=slice(\"1960-12-01\", \"1965-11-30\"))\n",
    "\n",
    "# Create a datetime object for the time\n",
    "initial_time = dt.strptime(\"1960-12-15\", '%Y-%m-%d')\n",
    "\n",
    "# final time\n",
    "final_time = dt.strptime(\"1965-11-15\", '%Y-%m-%d')\n",
    "\n",
    "# Create a datetime object from the initial time and final time\n",
    "# in monthly increments\n",
    "time = [initial_time + timedelta(days=x) for x in range(0, (final_time - initial_time).days, 30)]\n",
    "\n",
    "# print the time\n",
    "print(time)\n",
    "\n",
    "# Print the length of the time\n",
    "print(len(time))\n",
    "\n",
    "# Extract the values\n",
    "hadgem_values = hadgem_example_uk_ts.values\n",
    "\n",
    "# Extract the values\n",
    "obs_values = obs_regrid_uk_ts.values\n",
    "\n",
    "# Process a 12-month running mean\n",
    "hadgem_values_12m_rm = pd.Series(hadgem_values).rolling(window=12).mean().values\n",
    "\n",
    "# Process a 12-month running mean\n",
    "obs_values_12m_rm = pd.Series(obs_values).rolling(window=12).mean().values\n",
    "\n",
    "# Process a 36-month running mean\n",
    "hadgem_values_36m_rm = pd.Series(hadgem_values).rolling(window=36).mean().values\n",
    "\n",
    "# Process a 36-month running mean\n",
    "obs_values_36m_rm = pd.Series(obs_values).rolling(window=36).mean().values\n",
    "\n",
    "\n",
    "# Plot the two time series\n",
    "# Set up the figure\n",
    "# Convert the time values to datetime objects\n",
    "\n",
    "# set up the figure\n",
    "fig = plt.figure(figsize=(10, 5))\n",
    "\n",
    "# Plot the HadGEM data\n",
    "ax = fig.add_subplot(1, 1, 1)\n",
    "\n",
    "# # Plot the HadGEM data\n",
    "ax.plot(time, hadgem_values, label=\"HadGEM3-GC31-MM\", color='red')\n",
    "\n",
    "# Plot the 12-month running mean\n",
    "ax.plot(time, hadgem_values_12m_rm, label=\"HadGEM3 1yr-RM\", color='red', linestyle='--')\n",
    "\n",
    "# Plot the 36-month running mean\n",
    "ax.plot(time, hadgem_values_36m_rm, label=\"HadGEM3 3yr-RM\", color='red', linestyle=':')\n",
    "\n",
    "# Plot the ERA5 data\n",
    "ax.plot(time, obs_values, label=\"ERA5\", color='k')\n",
    "\n",
    "# Plot the 12-month running mean\n",
    "ax.plot(time, obs_values_12m_rm, label=\"ERA5 1yr-RM\", color='k', linestyle='--')\n",
    "\n",
    "# Plot the 36-month running mean\n",
    "ax.plot(time, obs_values_36m_rm, label=\"ERA5 3yr-RM\", color='k', linestyle=':')\n",
    "\n",
    "# Add a legend\n",
    "ax.legend()\n",
    "\n",
    "# Add a title\n",
    "ax.set_title(\"UK Wind Speed\")\n",
    "\n",
    "# Include a y-label\n",
    "ax.set_ylabel(\"Wind Speed (m/s)\")\n",
    "\n",
    "# # show the plot\n",
    "plt.show()\n"
   ]
  }
 ],
 "metadata": {
  "kernelspec": {
   "display_name": "Python 3",
   "language": "python",
   "name": "python3"
  },
  "language_info": {
   "codemirror_mode": {
    "name": "ipython",
    "version": 3
   },
   "file_extension": ".py",
   "mimetype": "text/x-python",
   "name": "python",
   "nbconvert_exporter": "python",
   "pygments_lexer": "ipython3",
   "version": "3.10.5"
  }
 },
 "nbformat": 4,
 "nbformat_minor": 4
}
