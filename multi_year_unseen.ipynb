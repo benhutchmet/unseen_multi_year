{
 "cells": [
  {
   "cell_type": "markdown",
   "metadata": {},
   "source": [
    "## Multi-year UNSEEN ##\n",
    "\n",
    "Test notebook for figuring out the methodology for exploring how to create a synthetic event set for multi-year wind droughts."
   ]
  },
  {
   "cell_type": "code",
   "execution_count": 1,
   "metadata": {},
   "outputs": [],
   "source": [
    "import sys\n",
    "import pathlib\n",
    "import platform\n",
    "venv_path = \"~/nb_envs/bens-nb-env4\"\n",
    "py_version = platform.python_version_tuple()\n",
    "sys.path.append(\n",
    "    str(\n",
    "        pathlib.Path(\n",
    "            f\"{venv_path}/lib/python{py_version[0]}.{py_version[1]}/site-packages/\"\n",
    "        ).expanduser()\n",
    "    )\n",
    ")"
   ]
  },
  {
   "cell_type": "code",
   "execution_count": 2,
   "metadata": {},
   "outputs": [
    {
     "name": "stdout",
     "output_type": "stream",
     "text": [
      "('3', '11', '9')\n"
     ]
    }
   ],
   "source": [
    "print(py_version)"
   ]
  },
  {
   "cell_type": "code",
   "execution_count": 3,
   "metadata": {},
   "outputs": [],
   "source": [
    "# Import local modules\n",
    "import sys\n",
    "import os\n",
    "import glob\n",
    "\n",
    "# Import third-party modules\n",
    "import numpy as np\n",
    "import pandas as pd\n",
    "import matplotlib.pyplot as plt\n",
    "import cartopy.crs as ccrs\n",
    "import xarray as xr\n",
    "from xarray import DataArray"
   ]
  },
  {
   "cell_type": "code",
   "execution_count": 4,
   "metadata": {},
   "outputs": [],
   "source": [
    "# Import my modules\n",
    "import dictionaries as dic\n",
    "\n",
    "sys.path.append(\"/home/users/benhutch/unseen_functions\")\n",
    "import functions as funcs"
   ]
  },
  {
   "cell_type": "code",
   "execution_count": 5,
   "metadata": {},
   "outputs": [
    {
     "name": "stdout",
     "output_type": "stream",
     "text": [
      "python: 3.11.9\n",
      "cloudpickle: 3.0.0\n",
      "lz4: 4.3.3\n",
      "msgpack: 1.0.7\n",
      "tornado: 6.4\n"
     ]
    },
    {
     "name": "stderr",
     "output_type": "stream",
     "text": [
      "/tmp/ipykernel_10771/1774655543.py:1: DeprecationWarning: pkg_resources is deprecated as an API. See https://setuptools.pypa.io/en/latest/pkg_resources.html\n",
      "  import pkg_resources\n"
     ]
    }
   ],
   "source": [
    "import pkg_resources\n",
    "import sys\n",
    "\n",
    "def print_version(package_name):\n",
    "    try:\n",
    "        version = pkg_resources.get_distribution(package_name).version\n",
    "        print(f\"{package_name}: {version}\")\n",
    "    except pkg_resources.DistributionNotFound:\n",
    "        print(f\"{package_name}: not found\")\n",
    "\n",
    "print(f\"python: {sys.version_info.major}.{sys.version_info.minor}.{sys.version_info.micro}\")\n",
    "print_version(\"cloudpickle\")\n",
    "print_version(\"lz4\")\n",
    "print_version(\"msgpack\")\n",
    "print_version(\"tornado\")"
   ]
  },
  {
   "cell_type": "code",
   "execution_count": 6,
   "metadata": {},
   "outputs": [],
   "source": [
    "import dask_gateway\n",
    "import pathlib"
   ]
  },
  {
   "cell_type": "code",
   "execution_count": 7,
   "metadata": {},
   "outputs": [],
   "source": [
    "# Create a connection to dask-gateway.\n",
    "gw = dask_gateway.Gateway(\"https://dask-gateway.jasmin.ac.uk\", auth=\"jupyterhub\")"
   ]
  },
  {
   "cell_type": "code",
   "execution_count": 8,
   "metadata": {},
   "outputs": [],
   "source": [
    "# Inspect and change the options if required before creating your cluster.\n",
    "options = gw.cluster_options()\n",
    "options.worker_cores = 2"
   ]
  },
  {
   "cell_type": "code",
   "execution_count": 9,
   "metadata": {},
   "outputs": [
    {
     "name": "stderr",
     "output_type": "stream",
     "text": [
      "2024-05-28 14:57:37,388 - distributed.client - ERROR - Failed to reconnect to scheduler after 30.00 seconds, closing client\n"
     ]
    }
   ],
   "source": [
    "clusters = gw.list_clusters()\n",
    "if not clusters:\n",
    "    cluster = gw.new_cluster(options, shutdown_on_close=False)\n",
    "else:\n",
    "    cluster = gw.connect(clusters[0].name)\n",
    "    \n",
    "cluster.adapt(minimum=1, maximum=3)\n",
    "\n",
    "client = cluster.get_client()"
   ]
  },
  {
   "cell_type": "code",
   "execution_count": 10,
   "metadata": {},
   "outputs": [
    {
     "data": {
      "text/plain": [
       "{'scheduler': {'host': {'python': '3.11.9.final.0',\n",
       "   'python-bits': 64,\n",
       "   'OS': 'Linux',\n",
       "   'OS-release': '3.10.0-1160.114.2.el7.x86_64',\n",
       "   'machine': 'x86_64',\n",
       "   'processor': 'x86_64',\n",
       "   'byteorder': 'little',\n",
       "   'LC_ALL': 'None',\n",
       "   'LANG': 'en_GB.UTF-8'},\n",
       "  'packages': {'python': '3.11.9.final.0',\n",
       "   'dask': '2024.5.0',\n",
       "   'distributed': '2024.5.0',\n",
       "   'msgpack': '1.0.7',\n",
       "   'cloudpickle': '3.0.0',\n",
       "   'tornado': '6.4',\n",
       "   'toolz': '0.12.1',\n",
       "   'numpy': '1.26.4',\n",
       "   'pandas': '2.2.2',\n",
       "   'lz4': '4.3.3'}},\n",
       " 'workers': {},\n",
       " 'client': {'host': {'python': '3.11.9.final.0',\n",
       "   'python-bits': 64,\n",
       "   'OS': 'Linux',\n",
       "   'OS-release': '3.10.0-1160.114.2.el7.x86_64',\n",
       "   'machine': 'x86_64',\n",
       "   'processor': 'x86_64',\n",
       "   'byteorder': 'little',\n",
       "   'LC_ALL': 'None',\n",
       "   'LANG': 'None'},\n",
       "  'packages': {'python': '3.11.9.final.0',\n",
       "   'dask': '2024.5.0',\n",
       "   'distributed': '2024.5.0',\n",
       "   'msgpack': '1.0.7',\n",
       "   'cloudpickle': '3.0.0',\n",
       "   'tornado': '6.4',\n",
       "   'toolz': '0.12.1',\n",
       "   'numpy': '1.26.4',\n",
       "   'pandas': '2.2.2',\n",
       "   'lz4': '4.3.3'}}}"
      ]
     },
     "execution_count": 10,
     "metadata": {},
     "output_type": "execute_result"
    }
   ],
   "source": [
    "client.get_versions(check=True)"
   ]
  },
  {
   "cell_type": "code",
   "execution_count": 11,
   "metadata": {},
   "outputs": [
    {
     "data": {
      "text/html": [
       "<div>\n",
       "    <div style=\"width: 24px; height: 24px; background-color: #e1e1e1; border: 3px solid #9D9D9D; border-radius: 5px; position: absolute;\"> </div>\n",
       "    <div style=\"margin-left: 48px;\">\n",
       "        <h3 style=\"margin-bottom: 0px;\">Client</h3>\n",
       "        <p style=\"color: #9D9D9D; margin-bottom: 0px;\">Client-36a4eafd-1d02-11ef-aa13-46f482c17871</p>\n",
       "        <table style=\"width: 100%; text-align: left;\">\n",
       "\n",
       "        <tr>\n",
       "        \n",
       "            <td style=\"text-align: left;\"><strong>Connection method:</strong> Cluster object</td>\n",
       "            <td style=\"text-align: left;\"><strong>Cluster type:</strong> dask_gateway.GatewayCluster</td>\n",
       "        \n",
       "        </tr>\n",
       "\n",
       "        \n",
       "            <tr>\n",
       "                <td style=\"text-align: left;\">\n",
       "                    <strong>Dashboard: </strong> <a href=\"https://dask-gateway.jasmin.ac.uk/clusters/a7ed00b718564782896bc721b13912d6/status\" target=\"_blank\">https://dask-gateway.jasmin.ac.uk/clusters/a7ed00b718564782896bc721b13912d6/status</a>\n",
       "                </td>\n",
       "                <td style=\"text-align: left;\"></td>\n",
       "            </tr>\n",
       "        \n",
       "\n",
       "        </table>\n",
       "\n",
       "        \n",
       "\n",
       "        \n",
       "            <details>\n",
       "            <summary style=\"margin-bottom: 20px;\"><h3 style=\"display: inline;\">Cluster Info</h3></summary>\n",
       "            <div style='background-color: #f2f2f2; display: inline-block; padding: 10px; border: 1px solid #999999;'>\n",
       "  <h3>GatewayCluster</h3>\n",
       "  <ul>\n",
       "    <li><b>Name: </b>a7ed00b718564782896bc721b13912d6\n",
       "    <li><b>Dashboard: </b><a href='https://dask-gateway.jasmin.ac.uk/clusters/a7ed00b718564782896bc721b13912d6/status' target='_blank'>https://dask-gateway.jasmin.ac.uk/clusters/a7ed00b718564782896bc721b13912d6/status</a>\n",
       "  </ul>\n",
       "</div>\n",
       "\n",
       "            </details>\n",
       "        \n",
       "\n",
       "    </div>\n",
       "</div>"
      ],
      "text/plain": [
       "<Client: 'tls://172.17.11.136:43045' processes=0 threads=0, memory=0 B>"
      ]
     },
     "execution_count": 11,
     "metadata": {},
     "output_type": "execute_result"
    }
   ],
   "source": [
    "client"
   ]
  },
  {
   "cell_type": "code",
   "execution_count": 12,
   "metadata": {},
   "outputs": [],
   "source": [
    "# ds = xr.tutorial.open_dataset('air_temperature', chunks={'lat': 25, 'lon': 25, 'time': -1})\n",
    "# ds"
   ]
  },
  {
   "cell_type": "code",
   "execution_count": 13,
   "metadata": {},
   "outputs": [],
   "source": [
    "# da = ds['air']\n",
    "# da"
   ]
  },
  {
   "cell_type": "code",
   "execution_count": 14,
   "metadata": {},
   "outputs": [],
   "source": [
    "# %%time\n",
    "\n",
    "# da.resample(time='1w').mean('time').std('time').load().plot(figsize=(12, 8))"
   ]
  },
  {
   "cell_type": "code",
   "execution_count": 15,
   "metadata": {},
   "outputs": [],
   "source": [
    "# import subprocess\n",
    "\n",
    "# def downgrade_packages(env_dict):\n",
    "#     scheduler_packages = env_dict['scheduler']['packages']\n",
    "#     client_packages = env_dict['client']['packages']\n",
    "\n",
    "#     for package, version in scheduler_packages.items():\n",
    "#         if package != 'python' and package in client_packages and client_packages[package] != version:\n",
    "#             print(f\"Downgrading {package} to version {version}\")\n",
    "#             subprocess.run([\"pip\", \"install\", \"--upgrade\", f\"{package}=={version}\"], check=True)\n",
    "\n",
    "# downgrade_packages(env_dict)"
   ]
  },
  {
   "cell_type": "code",
   "execution_count": 16,
   "metadata": {},
   "outputs": [],
   "source": [
    "# import dask_gateway\n",
    "# # Create a connection to dask-gateway.\n",
    "# gw = dask_gateway.Gateway(\"https://dask-gateway.jasmin.ac.uk\", auth=\"jupyterhub\")\n",
    "# # Inspect and change the options if required before creating your cluster.\n",
    "# options = gw.cluster_options()\n",
    "# options.worker_cores = 2\n",
    "# options.worker_setup = \"source /home/users/benhutch/bens-dask-env/bin/activate\"\n",
    "# # Create a dask cluster, or, if one already exists, connect to it.\n",
    "# # This stage creates the scheduler job in SLURM, so may take some time.\n",
    "# # While your job queues.\n",
    "# clusters = gw.list_clusters()\n",
    "\n",
    "# # create a new cluster\n",
    "# cluster = gw.new_cluster(options, shutdown_on_close=False)\n",
    "\n",
    "# # if not clusters:\n",
    "# # else:\n",
    "# #     cluster = gw.connect(clusters[0].name)\n",
    "\n",
    "# # Create at least one worker, and allow your cluster to scale to three.\n",
    "# cluster.adapt(minimum=1, maximum=3)\n",
    "\n",
    "# # Get a dask client.\n",
    "# client = cluster.get_client()\n",
    "\n",
    "# # Check the versions\n",
    "# client.get_versions(check=True)"
   ]
  },
  {
   "cell_type": "markdown",
   "metadata": {},
   "source": [
    "### Exploring gridboxes ###\n",
    "\n",
    "Checking that the gridboxes are where we expect them to be"
   ]
  },
  {
   "cell_type": "code",
   "execution_count": 17,
   "metadata": {},
   "outputs": [
    {
     "data": {
      "image/png": "[encoded data removed]",
      "text/plain": [
       "<Figure size 1000x500 with 1 Axes>"
      ]
     },
     "metadata": {},
     "output_type": "display_data"
    }
   ],
   "source": [
    "# First, we want to visualise th gridboxes which we might want to use\n",
    "# The UK grid box or the north sea grid box\n",
    "\n",
    "# Set up the projection\n",
    "projection = ccrs.PlateCarree(central_longitude=0)\n",
    "\n",
    "# Plot the differences between the two gridboxes\n",
    "# Set up the figure\n",
    "fig = plt.figure(figsize=(10, 5))\n",
    "ax = fig.add_subplot(1, 1, 1, projection=projection)\n",
    "\n",
    "# # Include the stock image and coastlines\n",
    "ax.stock_img()\n",
    "ax.coastlines()\n",
    "\n",
    "# Extract the lat and lon data for the UK box\n",
    "lon1_uk, lon2_uk = dic.uk_grid['lon1'], dic.uk_grid['lon2']\n",
    "lat1_uk, lat2_uk = dic.uk_grid['lat1'], dic.uk_grid['lat2']\n",
    "\n",
    "# Extract the lat and lon data for the North Sea box\n",
    "lon1_ns, lon2_ns = dic.north_sea_kay['lon1'], dic.north_sea_kay['lon2']\n",
    "lat1_ns, lat2_ns = dic.north_sea_kay['lat1'], dic.north_sea_kay['lat2']\n",
    "\n",
    "# Plot these boxes\n",
    "ax.plot([lon1_uk, lon2_uk, lon2_uk, lon1_uk, lon1_uk],\n",
    "        [lat1_uk, lat1_uk, lat2_uk, lat2_uk, lat1_uk],\n",
    "        color='green', linewidth=2, transform=projection, label=\"UK Clark\")\n",
    "\n",
    "# Plot these boxes\n",
    "ax.plot([lon1_ns, lon2_ns, lon2_ns, lon1_ns, lon1_ns],\n",
    "        [lat1_ns, lat1_ns, lat2_ns, lat2_ns, lat1_ns],\n",
    "        color='orange', linewidth=2, transform=projection, label=\"North Sea Kay\")\n",
    "\n",
    "# Zoom in on the region\n",
    "ax.set_extent([-40, 30, 30, 80], crs=projection)\n",
    "\n",
    "# Create a legend\n",
    "ax.legend(loc = 'upper left')\n",
    "\n",
    "# show the plot\n",
    "plt.show()"
   ]
  },
  {
   "cell_type": "markdown",
   "metadata": {},
   "source": [
    "### Choosing time windows ###\n",
    "\n",
    "We need to define the time period over which we are looking for wind droughts. Here are three we might consider:\n",
    "\n",
    "* 1 year (12 months Dec-Nov)\n",
    "* 3 years (36 months Dec-Nov)\n",
    "* 5 years (60 months Dec-Nov)\n",
    "\n",
    "In this first example of 1 year, for 1960 there will be 11 total 12 month time series (DJFMAMJJASON):\n",
    "\n",
    "* 1 will be the truth (from ERA5) - the weather which actually occurred.\n",
    "* 10 will be from the decadal prediction system (in this case DePreSys with 10 ensemble members).\n",
    "    * Here we are assuming November initialisation."
   ]
  },
  {
   "cell_type": "markdown",
   "metadata": {},
   "source": [
    "### Extracting the data ###\n",
    "\n",
    "Model data in this example from HadGEM3-GC31-MM.\n",
    "\n",
    "Obs data in this example from ERA5."
   ]
  },
  {
   "cell_type": "code",
   "execution_count": 18,
   "metadata": {},
   "outputs": [],
   "source": [
    "# # Set up the parameters for extraction\n",
    "model_var = \"sfcWind\"\n",
    "obs_var = \"si10\"\n",
    "test_model = \"HadGEM3-GC31-MM\"\n",
    "experiment = \"dcppA-hindcast\"\n",
    "\n",
    "# test extracting data for daily frequency\n",
    "frequency=\"Amon\""
   ]
  },
  {
   "cell_type": "code",
   "execution_count": 19,
   "metadata": {},
   "outputs": [],
   "source": [
    "import importlib\n",
    "\n",
    "importlib.reload(sys.modules['functions'])\n",
    "\n",
    "from functions import *"
   ]
  },
  {
   "cell_type": "code",
   "execution_count": 20,
   "metadata": {},
   "outputs": [],
   "source": [
    "# %%time\n",
    "\n",
    "# # Test the new function\n",
    "# member_ds = funcs.load_model_data_xarray(model_variable=model_var,\n",
    "#                                     model=test_model,\n",
    "#                                     experiment=experiment,\n",
    "#                                     start_year=1961,\n",
    "#                                     end_year=2014,\n",
    "#                                     grid=dic.uk_grid,\n",
    "#                                     first_fcst_year=1962,\n",
    "#                                     last_fcst_year=1963,\n",
    "#                                     months=[10, 11, 12, 1, 2, 3],\n",
    "#                                     frequency=frequency,\n",
    "#                                     parallel=False,\n",
    "#                                     )"
   ]
  },
  {
   "cell_type": "code",
   "execution_count": 21,
   "metadata": {},
   "outputs": [],
   "source": [
    "single_file = \"/badc/cmip6/data/CMIP6/DCPP/MOHC/HadGEM3-GC31-MM/dcppA-hindcast/s1960-r1i1p1f2/day/tas/gn/files/d20200417/tas_day_HadGEM3-GC31-MM_dcppA-hindcast_s1960-r1i1p1f2_gn_19601101-19601230.nc\"\n",
    "\n",
    "# load single file\n",
    "ds_single = xr.open_dataset(single_file)"
   ]
  },
  {
   "cell_type": "code",
   "execution_count": null,
   "metadata": {},
   "outputs": [],
   "source": [
    "ds_single"
   ]
  },
  {
   "cell_type": "code",
   "execution_count": 24,
   "metadata": {},
   "outputs": [
    {
     "name": "stdout",
     "output_type": "stream",
     "text": [
      "Coordinates of the regridded obs: Coordinates:\n",
      "  * time     (time) datetime64[ns] 5kB 1961-01-01 1961-02-01 ... 2014-12-01\n",
      "    lon      (x) float64 3kB -179.6 -178.8 -177.9 -177.1 ... 177.9 178.7 179.6\n",
      "    lat      (y) float64 3kB -89.72 -89.17 -88.61 -88.06 ... 88.61 89.17 89.72\n",
      "Crosses the year boundary\n",
      "Not aggregating the worst months\n"
     ]
    },
    {
     "name": "stderr",
     "output_type": "stream",
     "text": [
      "/opt/jaspy/lib/python3.11/site-packages/xarray/core/groupby.py:668: FutureWarning: 'Y' is deprecated and will be removed in a future version, please use 'YE' instead.\n",
      "  index_grouper = pd.Grouper(\n",
      "/opt/jaspy/lib/python3.11/site-packages/distributed/client.py:3161: UserWarning: Sending large graph of size 12.98 MiB.\n",
      "This may cause some slowdown.\n",
      "Consider scattering data ahead of time and using futures.\n",
      "  warnings.warn(\n"
     ]
    },
    {
     "ename": "KilledWorker",
     "evalue": "Attempted to run task ('open_dataset-getitem-582a25b7b9c73921b3ebbe9ff49ba400', 0, 0, 0, 0) on 4 different workers, but all those workers died while running it. The last worker that attempt to run the task was tls://172.17.11.136:43141. Inspecting worker logs is often a good next step to diagnose what went wrong. For more information see https://distributed.dask.org/en/stable/killed.html.",
     "output_type": "error",
     "traceback": [
      "\u001b[0;31m---------------------------------------------------------------------------\u001b[0m",
      "\u001b[0;31mKilledWorker\u001b[0m                              Traceback (most recent call last)",
      "File \u001b[0;32m<timed exec>:4\u001b[0m\n",
      "File \u001b[0;32m~/unseen_functions/functions.py:1042\u001b[0m, in \u001b[0;36mload_regrid_obs\u001b[0;34m(model_ds, obs_variable, obs_path, start_year, end_year, months, grid, rg_algo, grid_bounds, periodic, aggregate_worst_months)\u001b[0m\n\u001b[1;32m   1038\u001b[0m obs_rg\u001b[38;5;241m.\u001b[39mname \u001b[38;5;241m=\u001b[39m obs_variable\n\u001b[1;32m   1040\u001b[0m \u001b[38;5;66;03m# Convert to a pandas dataframe\u001b[39;00m\n\u001b[1;32m   1041\u001b[0m \u001b[38;5;66;03m# with columns 'year' and 'value'\u001b[39;00m\n\u001b[0;32m-> 1042\u001b[0m obs_df \u001b[38;5;241m=\u001b[39m \u001b[43mobs_rg\u001b[49m\u001b[38;5;241;43m.\u001b[39;49m\u001b[43mto_dataframe\u001b[49m\u001b[43m(\u001b[49m\u001b[43m)\u001b[49m\u001b[38;5;241m.\u001b[39mreset_index()\n\u001b[1;32m   1044\u001b[0m \u001b[38;5;66;03m# Extract the years\u001b[39;00m\n\u001b[1;32m   1045\u001b[0m years \u001b[38;5;241m=\u001b[39m obs_df[\u001b[38;5;124m\"\u001b[39m\u001b[38;5;124mtime\u001b[39m\u001b[38;5;124m\"\u001b[39m]\u001b[38;5;241m.\u001b[39mdt\u001b[38;5;241m.\u001b[39myear\u001b[38;5;241m.\u001b[39mvalues\n",
      "File \u001b[0;32m/opt/jaspy/lib/python3.11/site-packages/xarray/core/dataarray.py:3877\u001b[0m, in \u001b[0;36mDataArray.to_dataframe\u001b[0;34m(self, name, dim_order)\u001b[0m\n\u001b[1;32m   3874\u001b[0m \u001b[38;5;28;01melse\u001b[39;00m:\n\u001b[1;32m   3875\u001b[0m     ordered_dims \u001b[38;5;241m=\u001b[39m ds\u001b[38;5;241m.\u001b[39m_normalize_dim_order(dim_order\u001b[38;5;241m=\u001b[39mdim_order)\n\u001b[0;32m-> 3877\u001b[0m df \u001b[38;5;241m=\u001b[39m \u001b[43mds\u001b[49m\u001b[38;5;241;43m.\u001b[39;49m\u001b[43m_to_dataframe\u001b[49m\u001b[43m(\u001b[49m\u001b[43mordered_dims\u001b[49m\u001b[43m)\u001b[49m\n\u001b[1;32m   3878\u001b[0m df\u001b[38;5;241m.\u001b[39mcolumns \u001b[38;5;241m=\u001b[39m [name \u001b[38;5;28;01mif\u001b[39;00m c \u001b[38;5;241m==\u001b[39m unique_name \u001b[38;5;28;01melse\u001b[39;00m c \u001b[38;5;28;01mfor\u001b[39;00m c \u001b[38;5;129;01min\u001b[39;00m df\u001b[38;5;241m.\u001b[39mcolumns]\n\u001b[1;32m   3879\u001b[0m \u001b[38;5;28;01mreturn\u001b[39;00m df\n",
      "File \u001b[0;32m/opt/jaspy/lib/python3.11/site-packages/xarray/core/dataset.py:7161\u001b[0m, in \u001b[0;36mDataset._to_dataframe\u001b[0;34m(self, ordered_dims)\u001b[0m\n\u001b[1;32m   7159\u001b[0m \u001b[38;5;28;01mdef\u001b[39;00m \u001b[38;5;21m_to_dataframe\u001b[39m(\u001b[38;5;28mself\u001b[39m, ordered_dims: Mapping[Any, \u001b[38;5;28mint\u001b[39m]):\n\u001b[1;32m   7160\u001b[0m     columns \u001b[38;5;241m=\u001b[39m [k \u001b[38;5;28;01mfor\u001b[39;00m k \u001b[38;5;129;01min\u001b[39;00m \u001b[38;5;28mself\u001b[39m\u001b[38;5;241m.\u001b[39mvariables \u001b[38;5;28;01mif\u001b[39;00m k \u001b[38;5;129;01mnot\u001b[39;00m \u001b[38;5;129;01min\u001b[39;00m \u001b[38;5;28mself\u001b[39m\u001b[38;5;241m.\u001b[39mdims]\n\u001b[0;32m-> 7161\u001b[0m     data \u001b[38;5;241m=\u001b[39m \u001b[43m[\u001b[49m\n\u001b[1;32m   7162\u001b[0m \u001b[43m        \u001b[49m\u001b[38;5;28;43mself\u001b[39;49m\u001b[38;5;241;43m.\u001b[39;49m\u001b[43m_variables\u001b[49m\u001b[43m[\u001b[49m\u001b[43mk\u001b[49m\u001b[43m]\u001b[49m\u001b[38;5;241;43m.\u001b[39;49m\u001b[43mset_dims\u001b[49m\u001b[43m(\u001b[49m\u001b[43mordered_dims\u001b[49m\u001b[43m)\u001b[49m\u001b[38;5;241;43m.\u001b[39;49m\u001b[43mvalues\u001b[49m\u001b[38;5;241;43m.\u001b[39;49m\u001b[43mreshape\u001b[49m\u001b[43m(\u001b[49m\u001b[38;5;241;43m-\u001b[39;49m\u001b[38;5;241;43m1\u001b[39;49m\u001b[43m)\u001b[49m\n\u001b[1;32m   7163\u001b[0m \u001b[43m        \u001b[49m\u001b[38;5;28;43;01mfor\u001b[39;49;00m\u001b[43m \u001b[49m\u001b[43mk\u001b[49m\u001b[43m \u001b[49m\u001b[38;5;129;43;01min\u001b[39;49;00m\u001b[43m \u001b[49m\u001b[43mcolumns\u001b[49m\n\u001b[1;32m   7164\u001b[0m \u001b[43m    \u001b[49m\u001b[43m]\u001b[49m\n\u001b[1;32m   7165\u001b[0m     index \u001b[38;5;241m=\u001b[39m \u001b[38;5;28mself\u001b[39m\u001b[38;5;241m.\u001b[39mcoords\u001b[38;5;241m.\u001b[39mto_index([\u001b[38;5;241m*\u001b[39mordered_dims])\n\u001b[1;32m   7166\u001b[0m     \u001b[38;5;28;01mreturn\u001b[39;00m pd\u001b[38;5;241m.\u001b[39mDataFrame(\u001b[38;5;28mdict\u001b[39m(\u001b[38;5;28mzip\u001b[39m(columns, data)), index\u001b[38;5;241m=\u001b[39mindex)\n",
      "File \u001b[0;32m/opt/jaspy/lib/python3.11/site-packages/xarray/core/dataset.py:7162\u001b[0m, in \u001b[0;36m<listcomp>\u001b[0;34m(.0)\u001b[0m\n\u001b[1;32m   7159\u001b[0m \u001b[38;5;28;01mdef\u001b[39;00m \u001b[38;5;21m_to_dataframe\u001b[39m(\u001b[38;5;28mself\u001b[39m, ordered_dims: Mapping[Any, \u001b[38;5;28mint\u001b[39m]):\n\u001b[1;32m   7160\u001b[0m     columns \u001b[38;5;241m=\u001b[39m [k \u001b[38;5;28;01mfor\u001b[39;00m k \u001b[38;5;129;01min\u001b[39;00m \u001b[38;5;28mself\u001b[39m\u001b[38;5;241m.\u001b[39mvariables \u001b[38;5;28;01mif\u001b[39;00m k \u001b[38;5;129;01mnot\u001b[39;00m \u001b[38;5;129;01min\u001b[39;00m \u001b[38;5;28mself\u001b[39m\u001b[38;5;241m.\u001b[39mdims]\n\u001b[1;32m   7161\u001b[0m     data \u001b[38;5;241m=\u001b[39m [\n\u001b[0;32m-> 7162\u001b[0m         \u001b[38;5;28;43mself\u001b[39;49m\u001b[38;5;241;43m.\u001b[39;49m\u001b[43m_variables\u001b[49m\u001b[43m[\u001b[49m\u001b[43mk\u001b[49m\u001b[43m]\u001b[49m\u001b[38;5;241;43m.\u001b[39;49m\u001b[43mset_dims\u001b[49m\u001b[43m(\u001b[49m\u001b[43mordered_dims\u001b[49m\u001b[43m)\u001b[49m\u001b[38;5;241;43m.\u001b[39;49m\u001b[43mvalues\u001b[49m\u001b[38;5;241m.\u001b[39mreshape(\u001b[38;5;241m-\u001b[39m\u001b[38;5;241m1\u001b[39m)\n\u001b[1;32m   7163\u001b[0m         \u001b[38;5;28;01mfor\u001b[39;00m k \u001b[38;5;129;01min\u001b[39;00m columns\n\u001b[1;32m   7164\u001b[0m     ]\n\u001b[1;32m   7165\u001b[0m     index \u001b[38;5;241m=\u001b[39m \u001b[38;5;28mself\u001b[39m\u001b[38;5;241m.\u001b[39mcoords\u001b[38;5;241m.\u001b[39mto_index([\u001b[38;5;241m*\u001b[39mordered_dims])\n\u001b[1;32m   7166\u001b[0m     \u001b[38;5;28;01mreturn\u001b[39;00m pd\u001b[38;5;241m.\u001b[39mDataFrame(\u001b[38;5;28mdict\u001b[39m(\u001b[38;5;28mzip\u001b[39m(columns, data)), index\u001b[38;5;241m=\u001b[39mindex)\n",
      "File \u001b[0;32m/opt/jaspy/lib/python3.11/site-packages/xarray/core/variable.py:525\u001b[0m, in \u001b[0;36mVariable.values\u001b[0;34m(self)\u001b[0m\n\u001b[1;32m    522\u001b[0m \u001b[38;5;129m@property\u001b[39m\n\u001b[1;32m    523\u001b[0m \u001b[38;5;28;01mdef\u001b[39;00m \u001b[38;5;21mvalues\u001b[39m(\u001b[38;5;28mself\u001b[39m):\n\u001b[1;32m    524\u001b[0m \u001b[38;5;250m    \u001b[39m\u001b[38;5;124;03m\"\"\"The variable's data as a numpy.ndarray\"\"\"\u001b[39;00m\n\u001b[0;32m--> 525\u001b[0m     \u001b[38;5;28;01mreturn\u001b[39;00m \u001b[43m_as_array_or_item\u001b[49m\u001b[43m(\u001b[49m\u001b[38;5;28;43mself\u001b[39;49m\u001b[38;5;241;43m.\u001b[39;49m\u001b[43m_data\u001b[49m\u001b[43m)\u001b[49m\n",
      "File \u001b[0;32m/opt/jaspy/lib/python3.11/site-packages/xarray/core/variable.py:323\u001b[0m, in \u001b[0;36m_as_array_or_item\u001b[0;34m(data)\u001b[0m\n\u001b[1;32m    309\u001b[0m \u001b[38;5;28;01mdef\u001b[39;00m \u001b[38;5;21m_as_array_or_item\u001b[39m(data):\n\u001b[1;32m    310\u001b[0m \u001b[38;5;250m    \u001b[39m\u001b[38;5;124;03m\"\"\"Return the given values as a numpy array, or as an individual item if\u001b[39;00m\n\u001b[1;32m    311\u001b[0m \u001b[38;5;124;03m    it's a 0d datetime64 or timedelta64 array.\u001b[39;00m\n\u001b[1;32m    312\u001b[0m \n\u001b[0;32m   (...)\u001b[0m\n\u001b[1;32m    321\u001b[0m \u001b[38;5;124;03m    TODO: remove this (replace with np.asarray) once these issues are fixed\u001b[39;00m\n\u001b[1;32m    322\u001b[0m \u001b[38;5;124;03m    \"\"\"\u001b[39;00m\n\u001b[0;32m--> 323\u001b[0m     data \u001b[38;5;241m=\u001b[39m np\u001b[38;5;241m.\u001b[39masarray(data)\n\u001b[1;32m    324\u001b[0m     \u001b[38;5;28;01mif\u001b[39;00m data\u001b[38;5;241m.\u001b[39mndim \u001b[38;5;241m==\u001b[39m \u001b[38;5;241m0\u001b[39m:\n\u001b[1;32m    325\u001b[0m         \u001b[38;5;28;01mif\u001b[39;00m data\u001b[38;5;241m.\u001b[39mdtype\u001b[38;5;241m.\u001b[39mkind \u001b[38;5;241m==\u001b[39m \u001b[38;5;124m\"\u001b[39m\u001b[38;5;124mM\u001b[39m\u001b[38;5;124m\"\u001b[39m:\n",
      "File \u001b[0;32m/opt/jaspy/lib/python3.11/site-packages/dask/array/core.py:1700\u001b[0m, in \u001b[0;36mArray.__array__\u001b[0;34m(self, dtype, **kwargs)\u001b[0m\n\u001b[1;32m   1699\u001b[0m \u001b[38;5;28;01mdef\u001b[39;00m \u001b[38;5;21m__array__\u001b[39m(\u001b[38;5;28mself\u001b[39m, dtype\u001b[38;5;241m=\u001b[39m\u001b[38;5;28;01mNone\u001b[39;00m, \u001b[38;5;241m*\u001b[39m\u001b[38;5;241m*\u001b[39mkwargs):\n\u001b[0;32m-> 1700\u001b[0m     x \u001b[38;5;241m=\u001b[39m \u001b[38;5;28;43mself\u001b[39;49m\u001b[38;5;241;43m.\u001b[39;49m\u001b[43mcompute\u001b[49m\u001b[43m(\u001b[49m\u001b[43m)\u001b[49m\n\u001b[1;32m   1701\u001b[0m     \u001b[38;5;28;01mif\u001b[39;00m dtype \u001b[38;5;129;01mand\u001b[39;00m x\u001b[38;5;241m.\u001b[39mdtype \u001b[38;5;241m!=\u001b[39m dtype:\n\u001b[1;32m   1702\u001b[0m         x \u001b[38;5;241m=\u001b[39m x\u001b[38;5;241m.\u001b[39mastype(dtype)\n",
      "File \u001b[0;32m/opt/jaspy/lib/python3.11/site-packages/dask/base.py:375\u001b[0m, in \u001b[0;36mDaskMethodsMixin.compute\u001b[0;34m(self, **kwargs)\u001b[0m\n\u001b[1;32m    351\u001b[0m \u001b[38;5;28;01mdef\u001b[39;00m \u001b[38;5;21mcompute\u001b[39m(\u001b[38;5;28mself\u001b[39m, \u001b[38;5;241m*\u001b[39m\u001b[38;5;241m*\u001b[39mkwargs):\n\u001b[1;32m    352\u001b[0m \u001b[38;5;250m    \u001b[39m\u001b[38;5;124;03m\"\"\"Compute this dask collection\u001b[39;00m\n\u001b[1;32m    353\u001b[0m \n\u001b[1;32m    354\u001b[0m \u001b[38;5;124;03m    This turns a lazy Dask collection into its in-memory equivalent.\u001b[39;00m\n\u001b[0;32m   (...)\u001b[0m\n\u001b[1;32m    373\u001b[0m \u001b[38;5;124;03m    dask.compute\u001b[39;00m\n\u001b[1;32m    374\u001b[0m \u001b[38;5;124;03m    \"\"\"\u001b[39;00m\n\u001b[0;32m--> 375\u001b[0m     (result,) \u001b[38;5;241m=\u001b[39m \u001b[43mcompute\u001b[49m\u001b[43m(\u001b[49m\u001b[38;5;28;43mself\u001b[39;49m\u001b[43m,\u001b[49m\u001b[43m \u001b[49m\u001b[43mtraverse\u001b[49m\u001b[38;5;241;43m=\u001b[39;49m\u001b[38;5;28;43;01mFalse\u001b[39;49;00m\u001b[43m,\u001b[49m\u001b[43m \u001b[49m\u001b[38;5;241;43m*\u001b[39;49m\u001b[38;5;241;43m*\u001b[39;49m\u001b[43mkwargs\u001b[49m\u001b[43m)\u001b[49m\n\u001b[1;32m    376\u001b[0m     \u001b[38;5;28;01mreturn\u001b[39;00m result\n",
      "File \u001b[0;32m/opt/jaspy/lib/python3.11/site-packages/dask/base.py:661\u001b[0m, in \u001b[0;36mcompute\u001b[0;34m(traverse, optimize_graph, scheduler, get, *args, **kwargs)\u001b[0m\n\u001b[1;32m    658\u001b[0m     postcomputes\u001b[38;5;241m.\u001b[39mappend(x\u001b[38;5;241m.\u001b[39m__dask_postcompute__())\n\u001b[1;32m    660\u001b[0m \u001b[38;5;28;01mwith\u001b[39;00m shorten_traceback():\n\u001b[0;32m--> 661\u001b[0m     results \u001b[38;5;241m=\u001b[39m \u001b[43mschedule\u001b[49m\u001b[43m(\u001b[49m\u001b[43mdsk\u001b[49m\u001b[43m,\u001b[49m\u001b[43m \u001b[49m\u001b[43mkeys\u001b[49m\u001b[43m,\u001b[49m\u001b[43m \u001b[49m\u001b[38;5;241;43m*\u001b[39;49m\u001b[38;5;241;43m*\u001b[39;49m\u001b[43mkwargs\u001b[49m\u001b[43m)\u001b[49m\n\u001b[1;32m    663\u001b[0m \u001b[38;5;28;01mreturn\u001b[39;00m repack([f(r, \u001b[38;5;241m*\u001b[39ma) \u001b[38;5;28;01mfor\u001b[39;00m r, (f, a) \u001b[38;5;129;01min\u001b[39;00m \u001b[38;5;28mzip\u001b[39m(results, postcomputes)])\n",
      "File \u001b[0;32m/opt/jaspy/lib/python3.11/site-packages/distributed/client.py:2232\u001b[0m, in \u001b[0;36mClient._gather\u001b[0;34m(self, futures, errors, direct, local_worker)\u001b[0m\n\u001b[1;32m   2230\u001b[0m         exc \u001b[38;5;241m=\u001b[39m CancelledError(key)\n\u001b[1;32m   2231\u001b[0m     \u001b[38;5;28;01melse\u001b[39;00m:\n\u001b[0;32m-> 2232\u001b[0m         \u001b[38;5;28;01mraise\u001b[39;00m exception\u001b[38;5;241m.\u001b[39mwith_traceback(traceback)\n\u001b[1;32m   2233\u001b[0m     \u001b[38;5;28;01mraise\u001b[39;00m exc\n\u001b[1;32m   2234\u001b[0m \u001b[38;5;28;01mif\u001b[39;00m errors \u001b[38;5;241m==\u001b[39m \u001b[38;5;124m\"\u001b[39m\u001b[38;5;124mskip\u001b[39m\u001b[38;5;124m\"\u001b[39m:\n",
      "\u001b[0;31mKilledWorker\u001b[0m: Attempted to run task ('open_dataset-getitem-582a25b7b9c73921b3ebbe9ff49ba400', 0, 0, 0, 0) on 4 different workers, but all those workers died while running it. The last worker that attempt to run the task was tls://172.17.11.136:43141. Inspecting worker logs is often a good next step to diagnose what went wrong. For more information see https://distributed.dask.org/en/stable/killed.html."
     ]
    }
   ],
   "source": [
    "%%time\n",
    "\n",
    "# Test loading obs data\n",
    "# File = surface_wind_ERA5.nc\n",
    "# Directory = /home/users/benhutch/ERA5\n",
    "obs_df = funcs.load_regrid_obs(\n",
    "    model_ds=ds_single,\n",
    "    obs_variable=obs_var,\n",
    "    obs_path=\"/home/users/benhutch/ERA5/surface_wind_ERA5.nc\",\n",
    "    start_year=1961,\n",
    "    end_year=2014,\n",
    "    months=[10, 11, 12, 1, 2, 3],\n",
    "    grid=dic.uk_grid,\n",
    ")"
   ]
  },
  {
   "cell_type": "code",
   "execution_count": null,
   "metadata": {},
   "outputs": [],
   "source": [
    "obs_df.head()"
   ]
  },
  {
   "cell_type": "code",
   "execution_count": null,
   "metadata": {},
   "outputs": [],
   "source": [
    "# rename value to sfcWind_UK_obs\n",
    "obs_df.rename(columns={\"value\": \"sfcWind_UK_obs\"}, inplace=True)"
   ]
  },
  {
   "cell_type": "code",
   "execution_count": null,
   "metadata": {},
   "outputs": [],
   "source": [
    "obs_df.head()"
   ]
  },
  {
   "cell_type": "code",
   "execution_count": null,
   "metadata": {},
   "outputs": [],
   "source": [
    "# # When you are done and whish to release your cluster:\n",
    "# cluster.shutdown()"
   ]
  },
  {
   "cell_type": "code",
   "execution_count": null,
   "metadata": {},
   "outputs": [],
   "source": [
    "%%time\n",
    "\n",
    "# Regrid the dataset\n",
    "rg_ds = funcs.regrid_ds(\n",
    "    ds=member_ds,\n",
    "    variable=\"sfcWind\",\n",
    ")"
   ]
  },
  {
   "cell_type": "code",
   "execution_count": null,
   "metadata": {},
   "outputs": [],
   "source": [
    "# print(rg_ds[\"lon\"].min().values)\n",
    "# print(rg_ds[\"lon\"].max().values)\n",
    "# print(rg_ds[\"lat\"].min().values)\n",
    "# print(rg_ds[\"lat\"].max().values)"
   ]
  },
  {
   "cell_type": "code",
   "execution_count": null,
   "metadata": {},
   "outputs": [],
   "source": [
    "import importlib\n",
    "\n",
    "importlib.reload(sys.modules['functions'])\n",
    "\n",
    "import functions as funcs"
   ]
  },
  {
   "cell_type": "code",
   "execution_count": null,
   "metadata": {},
   "outputs": [],
   "source": [
    "%%time\n",
    "\n",
    "# Select the UK grid\n",
    "uk_ds = funcs.select_gridbox(\n",
    "    ds=rg_ds,\n",
    "    grid=dic.uk_grid,\n",
    ")"
   ]
  },
  {
   "cell_type": "code",
   "execution_count": null,
   "metadata": {},
   "outputs": [],
   "source": [
    "import importlib\n",
    "\n",
    "importlib.reload(sys.modules['functions'])\n",
    "\n",
    "import functions as funcs"
   ]
  },
  {
   "cell_type": "code",
   "execution_count": null,
   "metadata": {
    "scrolled": true
   },
   "outputs": [],
   "source": [
    "print(uk_ds)"
   ]
  },
  {
   "cell_type": "code",
   "execution_count": null,
   "metadata": {},
   "outputs": [],
   "source": [
    "# test the new function\n",
    "dates = funcs.select_months(\n",
    "    ds=uk_ds,\n",
    "    months=[10, 11, 12, 1, 2, 3],\n",
    "    first_day=\"1961-11-01\",\n",
    "    first_time=\"12:00:00\",\n",
    "    frequency=frequency,\n",
    ")"
   ]
  },
  {
   "cell_type": "code",
   "execution_count": null,
   "metadata": {},
   "outputs": [],
   "source": [
    "dates"
   ]
  },
  {
   "cell_type": "code",
   "execution_count": null,
   "metadata": {},
   "outputs": [],
   "source": [
    "# first month (1) = 1961-11-16 00:00:00\n",
    "# first day (1) = 1961-11-01 12:00:00\n",
    "# frequency = \"day\"\n",
    "# time_axis_type : Datetime360Day\n",
    "ds = funcs.lead_time_avg(\n",
    "    ds=uk_ds,\n",
    "    months=[10, 11, 12, 1, 2, 3],\n",
    "    first_month=\"1961-11-16\"\n",
    ")"
   ]
  },
  {
   "cell_type": "code",
   "execution_count": null,
   "metadata": {},
   "outputs": [],
   "source": [
    "ds"
   ]
  },
  {
   "cell_type": "code",
   "execution_count": null,
   "metadata": {},
   "outputs": [],
   "source": [
    "%%time\n",
    "\n",
    "# set up the fname and directory\n",
    "fname=\"test-uk-wind2.csv\"\n",
    "directory=\"/home/users/benhutch/unseen_multi_year\"\n",
    "\n",
    "# Set up the fpath\n",
    "fpath=os.path.join(directory,fname)\n",
    "\n",
    "# # Set a name\n",
    "# ds.name = \"sfcWind_UK\"\n",
    "\n",
    "# # save as a csv\n",
    "# ds.to_dataframe().to_csv(fpath)"
   ]
  },
  {
   "cell_type": "code",
   "execution_count": null,
   "metadata": {},
   "outputs": [],
   "source": [
    "df = pd.read_csv(fpath)"
   ]
  },
  {
   "cell_type": "code",
   "execution_count": null,
   "metadata": {},
   "outputs": [],
   "source": [
    "df.head()"
   ]
  },
  {
   "cell_type": "code",
   "execution_count": null,
   "metadata": {},
   "outputs": [],
   "source": [
    "# drop height from the dataframe\n",
    "df = df.drop('height', axis=1)"
   ]
  },
  {
   "cell_type": "code",
   "execution_count": null,
   "metadata": {},
   "outputs": [],
   "source": [
    "df.head()"
   ]
  },
  {
   "cell_type": "code",
   "execution_count": null,
   "metadata": {},
   "outputs": [],
   "source": [
    "# limit df to member r1i1p1f2 and init 1961\n",
    "df_subset = df[(df['member'] == 'r1i1p1f2') & (df['init'] == 1970)]"
   ]
  },
  {
   "cell_type": "code",
   "execution_count": null,
   "metadata": {},
   "outputs": [],
   "source": [
    "df_subset"
   ]
  },
  {
   "cell_type": "code",
   "execution_count": null,
   "metadata": {},
   "outputs": [],
   "source": [
    "import importlib\n",
    "\n",
    "importlib.reload(sys.modules['functions'])\n",
    "\n",
    "import functions as funcs"
   ]
  },
  {
   "cell_type": "code",
   "execution_count": null,
   "metadata": {},
   "outputs": [],
   "source": [
    "# # Plot a histogram for all of the model data\n",
    "# plt.hist(df['sfcWind_UK'], bins=50, alpha=0.5, label='model')"
   ]
  },
  {
   "cell_type": "code",
   "execution_count": null,
   "metadata": {},
   "outputs": [],
   "source": [
    "# # plot the obs data\n",
    "# plt.hist(obs_df['sfcWind_UK_obs'], bins=50, alpha=0.5, label='obs')"
   ]
  },
  {
   "cell_type": "code",
   "execution_count": null,
   "metadata": {},
   "outputs": [],
   "source": [
    "# # Test the function for plotting the GEV distribution\n",
    "# rvs = funcs.plot_gev_return_values(\n",
    "#     obs_df=obs_df,\n",
    "#     model_df=df,\n",
    "#     obs_val_name=\"sfcWind_UK_obs\",\n",
    "#     model_val_name=\"sfcWind_UK\",\n",
    "#     ylabel=\"Wind Speed (m/s)\",\n",
    "# )"
   ]
  },
  {
   "cell_type": "code",
   "execution_count": null,
   "metadata": {},
   "outputs": [],
   "source": [
    "# Test the function for plotting events\n",
    "funcs.plot_events_ts(\n",
    "    obs_df=obs_df,\n",
    "    model_df=df,\n",
    "    obs_val_name=\"sfcWind_UK_obs\",\n",
    "    model_val_name=\"sfcWind_UK\",\n",
    "    ylabel=\"10m wind speed (m/s)\",\n",
    "    delta_shift_bias=True, # apply a delta shift to the mean\n",
    "    figsize=(12, 6),\n",
    ")"
   ]
  },
  {
   "cell_type": "code",
   "execution_count": null,
   "metadata": {},
   "outputs": [],
   "source": [
    "# # Plot the events using boxplots\n",
    "# funcs.plot_events_ts_bp(\n",
    "#     obs_df=obs_df,\n",
    "#     model_df=df,\n",
    "#     obs_val_name=\"sfcWind_UK_obs\",\n",
    "#     model_val_name=\"sfcWind_UK\",\n",
    "#     ylabel=\"10m wind speed (m/s)\",\n",
    "#     delta_shift_bias=True, # apply a delta shift to the mean\n",
    "#     figsize=(12, 6),\n",
    "# )"
   ]
  },
  {
   "cell_type": "code",
   "execution_count": null,
   "metadata": {},
   "outputs": [],
   "source": [
    "# Plot the fidelity\n",
    "funcs.plot_fidelity(\n",
    "    obs_df=obs_df,\n",
    "    model_df=df,\n",
    "    obs_val_name=\"sfcWind_UK_obs\",\n",
    "    model_val_name=\"sfcWind_UK\",\n",
    "    nboot=10000,\n",
    ")"
   ]
  },
  {
   "cell_type": "code",
   "execution_count": null,
   "metadata": {},
   "outputs": [],
   "source": [
    "# Test the independence function\n",
    "corr_matrix = funcs.independence_test(\n",
    "    ensemble=df,\n",
    "    members=df['member'].unique(),\n",
    "    n_leads=len(df['lead'].unique()),\n",
    "    var_name=\"sfcWind_UK\",\n",
    "    detrend=True,\n",
    ")"
   ]
  },
  {
   "cell_type": "code",
   "execution_count": null,
   "metadata": {},
   "outputs": [],
   "source": [
    "(df['lead'].unique())"
   ]
  },
  {
   "cell_type": "code",
   "execution_count": null,
   "metadata": {},
   "outputs": [],
   "source": [
    "# Why is the first one all NaN's and zeros?\n",
    "first_lead_corr_m = corr_matrix[-1]"
   ]
  },
  {
   "cell_type": "code",
   "execution_count": null,
   "metadata": {},
   "outputs": [],
   "source": [
    "first_lead_corr_m.shape"
   ]
  },
  {
   "cell_type": "code",
   "execution_count": null,
   "metadata": {},
   "outputs": [],
   "source": [
    "second_lead_corr_m = corr_matrix[1]"
   ]
  },
  {
   "cell_type": "code",
   "execution_count": null,
   "metadata": {},
   "outputs": [],
   "source": [
    "second_lead_corr_m"
   ]
  },
  {
   "cell_type": "code",
   "execution_count": null,
   "metadata": {},
   "outputs": [],
   "source": [
    "# flatten the data\n",
    "flat_second_lead = second_lead_corr_m.flatten()\n",
    "\n",
    "# plot the histogram\n",
    "plt.hist(flat_second_lead, bins=10)\n",
    "\n",
    "# Show the plot\n",
    "plt.show()"
   ]
  },
  {
   "cell_type": "code",
   "execution_count": null,
   "metadata": {},
   "outputs": [],
   "source": [
    "import importlib\n",
    "\n",
    "importlib.reload(sys.modules['functions'])\n",
    "\n",
    "import functions as funcs"
   ]
  },
  {
   "cell_type": "code",
   "execution_count": null,
   "metadata": {
    "scrolled": true
   },
   "outputs": [],
   "source": [
    "corr_matrix[0]"
   ]
  },
  {
   "cell_type": "code",
   "execution_count": null,
   "metadata": {},
   "outputs": [],
   "source": [
    "%%time\n",
    "\n",
    "# Plot the boxplots\n",
    "funcs.plot_independence(\n",
    "    corr_matrix=corr_matrix,\n",
    ")"
   ]
  },
  {
   "cell_type": "code",
   "execution_count": null,
   "metadata": {},
   "outputs": [],
   "source": [
    "%%time\n",
    "\n",
    "# Plot the density distribution\n",
    "funcs.stability_density(\n",
    "    ensemble=df,\n",
    "    var_name=\"sfcWind_UK\",\n",
    "    label=\"ONDJFM UK 10m wind speed (m/s)\",\n",
    "    cmap=\"Greys\",\n",
    ")"
   ]
  },
  {
   "cell_type": "code",
   "execution_count": null,
   "metadata": {},
   "outputs": [],
   "source": [
    "df"
   ]
  },
  {
   "cell_type": "code",
   "execution_count": null,
   "metadata": {},
   "outputs": [],
   "source": [
    "%%time\n",
    "\n",
    "# test the model stability boot function\n",
    "df_quantiles = funcs.model_stability_boot(\n",
    "    ensemble=df,\n",
    "    var_name=\"sfcWind_UK\",\n",
    "    label=\"ONDJFM UK 10m wind speed (m/s)\",\n",
    "    nboot=10000,\n",
    "    cmap=\"Greys\",\n",
    ")"
   ]
  },
  {
   "cell_type": "code",
   "execution_count": null,
   "metadata": {},
   "outputs": [],
   "source": [
    "df_quantiles.head()"
   ]
  },
  {
   "cell_type": "code",
   "execution_count": null,
   "metadata": {},
   "outputs": [],
   "source": [
    "df_corr = funcs.plot_independence_sb(\n",
    "    corr_matrix=corr_matrix,\n",
    ")"
   ]
  },
  {
   "cell_type": "code",
   "execution_count": null,
   "metadata": {},
   "outputs": [],
   "source": [
    "funcs.plot_independence_violin(\n",
    "    corr_matrix=corr_matrix,\n",
    ")"
   ]
  },
  {
   "cell_type": "code",
   "execution_count": null,
   "metadata": {},
   "outputs": [],
   "source": [
    "funcs.plot_independence_pd(\n",
    "    corr_matrix=corr_matrix,\n",
    ")"
   ]
  },
  {
   "cell_type": "code",
   "execution_count": null,
   "metadata": {},
   "outputs": [],
   "source": []
  },
  {
   "cell_type": "code",
   "execution_count": null,
   "metadata": {},
   "outputs": [],
   "source": [
    "# Test the spatial smoothing function \n",
    "lat_res = (ds['lat'].max() - ds['lat'].min())/(ds['lat'].count()-1.)\n",
    "\n",
    "# Calculate the resolution of the data - lon\n",
    "lon_res = (ds['lon'].max() - ds['lon'].min())/(ds['lon'].count()-1.)"
   ]
  },
  {
   "cell_type": "code",
   "execution_count": null,
   "metadata": {},
   "outputs": [],
   "source": [
    "lat_res = lat_res.values\n",
    "lon_res = lon_res.values"
   ]
  },
  {
   "cell_type": "code",
   "execution_count": null,
   "metadata": {},
   "outputs": [],
   "source": [
    "print(lat_res)\n",
    "print(lon_res)"
   ]
  },
  {
   "cell_type": "code",
   "execution_count": null,
   "metadata": {},
   "outputs": [],
   "source": [
    "import xesmf as xe\n",
    "\n",
    "# Set up the output grid\n",
    "ds_out = xe.util.grid_2d(-180.0, 180.0, lon_res, -90.0, 90.0, lat_res)"
   ]
  },
  {
   "cell_type": "code",
   "execution_count": null,
   "metadata": {},
   "outputs": [],
   "source": [
    "# set up the regridder\n",
    "regridder = xe.Regridder(ds, ds_out, 'bilinear', periodic=True)"
   ]
  },
  {
   "cell_type": "code",
   "execution_count": null,
   "metadata": {},
   "outputs": [],
   "source": [
    "# Apply this to sfcWind\n",
    "ds"
   ]
  },
  {
   "cell_type": "code",
   "execution_count": null,
   "metadata": {},
   "outputs": [],
   "source": [
    "sfcWind_regrid = regridder(ds['sfcWind'])"
   ]
  },
  {
   "cell_type": "code",
   "execution_count": null,
   "metadata": {
    "scrolled": true
   },
   "outputs": [],
   "source": [
    "sfcWind_regrid"
   ]
  },
  {
   "cell_type": "code",
   "execution_count": null,
   "metadata": {},
   "outputs": [],
   "source": [
    "ds['sfcWind'].isel(init=0, member=0, lead=0).plot()"
   ]
  },
  {
   "cell_type": "code",
   "execution_count": null,
   "metadata": {},
   "outputs": [],
   "source": [
    "sfcWind_regrid.isel(init=0, member=0, lead=0).plot()"
   ]
  },
  {
   "cell_type": "code",
   "execution_count": null,
   "metadata": {},
   "outputs": [],
   "source": [
    "sfcWind_regrid"
   ]
  },
  {
   "cell_type": "code",
   "execution_count": null,
   "metadata": {},
   "outputs": [],
   "source": [
    "# test selecting the UK grid\n",
    "grid = dic.uk_grid\n",
    "\n",
    "lon1, lon2, lat1, lat2 = grid['lon1'], grid['lon2'], grid['lat1'], grid['lat2']"
   ]
  },
  {
   "cell_type": "code",
   "execution_count": null,
   "metadata": {},
   "outputs": [],
   "source": [
    "# sfcWind_regrid = sfcWind_regrid.sel(lat=slice(lat1, lat2),\n",
    "#             lon=slice(lon1, lon2)).mean(dim=('lat','lon'))\n",
    "\n",
    "sfcWind_regrid[\"lat\"]"
   ]
  },
  {
   "cell_type": "code",
   "execution_count": null,
   "metadata": {},
   "outputs": [],
   "source": [
    "mask = (sfcWind_regrid['lat'] > lat1) & (sfcWind_regrid['lat'] < lat2) & (sfcWind_regrid['lon'] > lon1) & (sfcWind_regrid['lon'] < lon2)\n",
    "ds_masked = sfcWind_regrid.where(mask)\n",
    "mean_ds = ds_masked.mean(dim=('y','x'))"
   ]
  },
  {
   "cell_type": "code",
   "execution_count": null,
   "metadata": {},
   "outputs": [],
   "source": [
    "ds_masked.isel(init=0, member=0, lead=0).plot()"
   ]
  },
  {
   "cell_type": "code",
   "execution_count": null,
   "metadata": {},
   "outputs": [],
   "source": [
    "mean_ds"
   ]
  },
  {
   "cell_type": "code",
   "execution_count": null,
   "metadata": {},
   "outputs": [],
   "source": [
    "d_lon_lat_kws_hadgem =  {'lat': lat_res, 'lon': lon_res}"
   ]
  },
  {
   "cell_type": "code",
   "execution_count": null,
   "metadata": {},
   "outputs": [],
   "source": [
    "# regrid_ds = climpred.smoothing.spatial_smoothing_xesmf(\n",
    "#     ds, \n",
    "#     d_lon_lat_kws={'lat': 5, 'lon': 5}, \n",
    "#     method='bilinear', \n",
    "#     periodic=False, \n",
    "#     filename=None, \n",
    "#     reuse_weights=False, \n",
    "#     tsmooth_kws=None, \n",
    "#     how=None\n",
    "# )"
   ]
  },
  {
   "cell_type": "code",
   "execution_count": null,
   "metadata": {},
   "outputs": [],
   "source": [
    "regrid_ds"
   ]
  },
  {
   "cell_type": "code",
   "execution_count": null,
   "metadata": {},
   "outputs": [],
   "source": [
    "import matplotlib.pyplot as plt\n",
    "\n",
    "# Select the data for the first init member and lead\n",
    "data = ds.isel(init=0, member=0, lead=0)\n"
   ]
  },
  {
   "cell_type": "code",
   "execution_count": null,
   "metadata": {},
   "outputs": [],
   "source": [
    "data"
   ]
  },
  {
   "cell_type": "code",
   "execution_count": null,
   "metadata": {},
   "outputs": [],
   "source": [
    "data[\"sfcWind\"].plot()"
   ]
  },
  {
   "cell_type": "code",
   "execution_count": null,
   "metadata": {},
   "outputs": [],
   "source": [
    "# Look at the data\n",
    "len(member_files[0])"
   ]
  },
  {
   "cell_type": "code",
   "execution_count": null,
   "metadata": {},
   "outputs": [],
   "source": [
    "flat_list = [item for sublist in member_files for item in sublist]"
   ]
  },
  {
   "cell_type": "code",
   "execution_count": null,
   "metadata": {},
   "outputs": [],
   "source": [
    "flat_list[0]"
   ]
  },
  {
   "cell_type": "code",
   "execution_count": null,
   "metadata": {},
   "outputs": [],
   "source": [
    "print((variant_labels))"
   ]
  },
  {
   "cell_type": "code",
   "execution_count": null,
   "metadata": {},
   "outputs": [],
   "source": [
    "# test_file = \"/work/scratch-nopw2/benhutch/sfcWind/HadGEM3-GC31-MM/global/all_forecast_years/ONDJFM/outputs/all-years-ONDJFM-global-sfcWind_Amon_HadGEM3-GC31-MM_dcppA-hindcast_s1960-r1i1p1f2_gn_196011-197103.nc\"\n",
    "\n",
    "# ds = xr.open_dataset(test_file)"
   ]
  },
  {
   "cell_type": "code",
   "execution_count": null,
   "metadata": {},
   "outputs": [],
   "source": [
    "ds"
   ]
  },
  {
   "cell_type": "code",
   "execution_count": null,
   "metadata": {},
   "outputs": [],
   "source": [
    "# Print the values\n",
    "print(model_data.sfcWind.values)"
   ]
  },
  {
   "cell_type": "code",
   "execution_count": null,
   "metadata": {
    "scrolled": true
   },
   "outputs": [],
   "source": [
    "# test the read_data function\n",
    "model_data = load_model_data(model_variable=model_var,\n",
    "                            model=test_model,\n",
    "                            experiment=experiment,\n",
    "                            start_year=1961,\n",
    "                            end_year=2014,\n",
    "                            avg_period=2,\n",
    "                            grid=dic.uk_grid)"
   ]
  },
  {
   "cell_type": "code",
   "execution_count": null,
   "metadata": {},
   "outputs": [],
   "source": [
    "print(model_data.shape)"
   ]
  },
  {
   "cell_type": "code",
   "execution_count": null,
   "metadata": {},
   "outputs": [],
   "source": [
    "# Take the mean of the model data over the months axis\n",
    "model_data_year = model_data.mean(axis=2)\n",
    "\n",
    "# # Print the new shape\n",
    "print(model_data_year.shape)\n",
    "\n",
    "# Winter 1 data\n",
    "winter1_data = model_data[:, :, 0:4].mean(axis=2)\n",
    "\n",
    "# summer data\n",
    "summer_data = model_data[:, :, 4:10].mean(axis=2)\n",
    "\n",
    "# winter 2 data\n",
    "winter2_data = model_data[:, :, 10:].mean(axis=2)\n",
    "\n",
    "# Print the shapes of the new data\n",
    "print(winter1_data.shape)\n",
    "\n",
    "# Print the shapes of the new data\n",
    "print(summer_data.shape)\n",
    "\n",
    "# Print the shapes of the new data\n",
    "print(winter2_data.shape)"
   ]
  },
  {
   "cell_type": "code",
   "execution_count": null,
   "metadata": {},
   "outputs": [],
   "source": [
    "# Get the data including the months, no mean\n",
    "winter1_data_months = model_data[:, :, 0:4]\n",
    "summer_data_months = model_data[:, :, 4:10]\n",
    "winter2_data_months = model_data[:, :, 10:]\n",
    "year_data_months = model_data"
   ]
  },
  {
   "cell_type": "code",
   "execution_count": null,
   "metadata": {},
   "outputs": [],
   "source": [
    "import importlib\n",
    "\n",
    "importlib.reload(sys.modules['functions'])\n",
    "\n",
    "from functions import load_model_data, model_stats_bs"
   ]
  },
  {
   "cell_type": "code",
   "execution_count": null,
   "metadata": {
    "scrolled": true
   },
   "outputs": [],
   "source": [
    "# test the bootstrapping function\n",
    "stats_dict_year = model_stats_bs(model=year_data_months.mean(axis=2),\n",
    "                            nboot=10000)"
   ]
  },
  {
   "cell_type": "code",
   "execution_count": null,
   "metadata": {},
   "outputs": [],
   "source": [
    "# test the bootstrapping function\n",
    "stats_dict_winter1 = model_stats_bs(model=winter1_data_months.mean(axis=2),\n",
    "                            nboot=10000)"
   ]
  },
  {
   "cell_type": "code",
   "execution_count": null,
   "metadata": {},
   "outputs": [],
   "source": [
    "# test the bootstrapping function\n",
    "stats_dict_summer = model_stats_bs(model=summer_data_months.mean(axis=2),\n",
    "                            nboot=10000)"
   ]
  },
  {
   "cell_type": "code",
   "execution_count": null,
   "metadata": {},
   "outputs": [],
   "source": [
    "# test the bootstrapping function\n",
    "stats_dict_winter2 = model_stats_bs(model=winter2_data_months.mean(axis=2),\n",
    "                            nboot=10000)"
   ]
  },
  {
   "cell_type": "code",
   "execution_count": null,
   "metadata": {},
   "outputs": [],
   "source": [
    "# print(stats_dict)"
   ]
  },
  {
   "cell_type": "code",
   "execution_count": null,
   "metadata": {},
   "outputs": [],
   "source": [
    "import importlib\n",
    "\n",
    "importlib.reload(sys.modules['functions'])\n",
    "\n",
    "from functions import load_model_data, load_obs_data, calculate_obs_stats"
   ]
  },
  {
   "cell_type": "code",
   "execution_count": null,
   "metadata": {},
   "outputs": [],
   "source": [
    "obs_data = load_obs_data(obs_variable=obs_var,\n",
    "                         regrid_obs_path=\"/home/users/benhutch/ERA5/surface_wind_ERA5_regrid_HadGEM.nc\",\n",
    "                        start_year=1961,\n",
    "                        end_year=2014,\n",
    "                        avg_period=2,\n",
    "                        grid=dic.uk_grid)"
   ]
  },
  {
   "cell_type": "code",
   "execution_count": null,
   "metadata": {},
   "outputs": [],
   "source": [
    "# Extract and print the obs years\n",
    "obs_years = obs_data[1]\n",
    "\n",
    "# print the shape of the obs data\n",
    "print(obs_years.shape)\n",
    "print(obs_years)"
   ]
  },
  {
   "cell_type": "code",
   "execution_count": null,
   "metadata": {},
   "outputs": [],
   "source": [
    "# Extract the obs data for the different seasons\n",
    "obs_data_year = obs_data[0]\n",
    "obs_data_winter1 = obs_data[0][:, 0:4]\n",
    "obs_data_summer = obs_data[0][:, 4:10]\n",
    "obs_data_winter2 = obs_data[0][:, 10:]"
   ]
  },
  {
   "cell_type": "code",
   "execution_count": null,
   "metadata": {},
   "outputs": [],
   "source": [
    "# Calculate the stats\n",
    "obs_stats_year = calculate_obs_stats(obs_data=obs_data_year,\n",
    "                                start_year=1960,\n",
    "                                end_year=2018,\n",
    "                                avg_period=1,\n",
    "                                grid=dic.uk_grid)\n",
    "\n",
    "obs_stats_winter1 = calculate_obs_stats(obs_data=obs_data_winter1,\n",
    "                                start_year=1960,\n",
    "                                end_year=2018,\n",
    "                                avg_period=1,\n",
    "                                grid=dic.uk_grid)\n",
    "\n",
    "obs_stats_summer = calculate_obs_stats(obs_data=obs_data_summer,\n",
    "                                start_year=1960,\n",
    "                                end_year=2018,\n",
    "                                avg_period=1,\n",
    "                                grid=dic.uk_grid)\n",
    "\n",
    "obs_stats_winter2 = calculate_obs_stats(obs_data=obs_data_winter2,\n",
    "                                start_year=1960,\n",
    "                                end_year=2018,\n",
    "                                avg_period=1,\n",
    "                                grid=dic.uk_grid)"
   ]
  },
  {
   "cell_type": "code",
   "execution_count": null,
   "metadata": {},
   "outputs": [],
   "source": [
    "print(obs_stats_year)"
   ]
  },
  {
   "cell_type": "code",
   "execution_count": null,
   "metadata": {},
   "outputs": [],
   "source": [
    "import importlib\n",
    "\n",
    "importlib.reload(sys.modules['functions'])\n",
    "\n",
    "from functions import load_model_data, load_obs_data, calculate_obs_stats, \\\n",
    "    plot_moments "
   ]
  },
  {
   "cell_type": "code",
   "execution_count": null,
   "metadata": {},
   "outputs": [],
   "source": [
    "# # Plot the moments of the distribution\n",
    "# plot_moments(model_stats=stats_dict,\n",
    "#              obs_stats=obs_stats,)"
   ]
  },
  {
   "cell_type": "code",
   "execution_count": null,
   "metadata": {},
   "outputs": [],
   "source": [
    "# Plot the moments of the distribution for the different seasons\n",
    "plot_moments(model_stats=stats_dict_year,\n",
    "             obs_stats=obs_stats_year)"
   ]
  },
  {
   "cell_type": "code",
   "execution_count": null,
   "metadata": {},
   "outputs": [],
   "source": [
    "# Plot the moments of the distribution for the different seasons\n",
    "plot_moments(model_stats=stats_dict_winter1,\n",
    "             obs_stats=obs_stats_winter1)"
   ]
  },
  {
   "cell_type": "code",
   "execution_count": null,
   "metadata": {},
   "outputs": [],
   "source": [
    "# Plot the moments of the distribution for the summer\n",
    "plot_moments(model_stats=stats_dict_summer,\n",
    "             obs_stats=obs_stats_summer)"
   ]
  },
  {
   "cell_type": "code",
   "execution_count": null,
   "metadata": {},
   "outputs": [],
   "source": [
    "# Plot the moments of the distribution for winter2\n",
    "plot_moments(model_stats=stats_dict_winter2,\n",
    "             obs_stats=obs_stats_winter2)"
   ]
  },
  {
   "cell_type": "code",
   "execution_count": null,
   "metadata": {},
   "outputs": [],
   "source": [
    "import importlib\n",
    "\n",
    "importlib.reload(sys.modules['functions'])\n",
    "\n",
    "from functions import load_model_data, load_obs_data, calculate_obs_stats, \\\n",
    "    plot_moments, plot_distribution"
   ]
  },
  {
   "cell_type": "code",
   "execution_count": null,
   "metadata": {},
   "outputs": [],
   "source": [
    "plot_distribution(model_data=model_data_year,\n",
    "                  obs_data=obs_data_year,)"
   ]
  },
  {
   "cell_type": "code",
   "execution_count": null,
   "metadata": {},
   "outputs": [],
   "source": [
    "# Plot the distribution of the winter 1 data\n",
    "plot_distribution(model_data=winter1_data,\n",
    "                  obs_data=obs_data_winter1,)"
   ]
  },
  {
   "cell_type": "code",
   "execution_count": null,
   "metadata": {},
   "outputs": [],
   "source": [
    "# Plot the distribution of the summer data\n",
    "plot_distribution(model_data=summer_data,\n",
    "                  obs_data=obs_data_summer,)"
   ]
  },
  {
   "cell_type": "code",
   "execution_count": null,
   "metadata": {},
   "outputs": [],
   "source": [
    "# PLot the distribution of the winter 2 data\n",
    "plot_distribution(model_data=winter2_data,\n",
    "                  obs_data=obs_data_winter2,)"
   ]
  },
  {
   "cell_type": "code",
   "execution_count": null,
   "metadata": {},
   "outputs": [],
   "source": [
    "# # Take the average over the time period\n",
    "# # i.e. the 2th axis\n",
    "# model_data_ann_mean = model_data.mean(axis=2)\n",
    "\n",
    "# print(model_data_ann_mean)\n",
    "\n",
    "# print(model_data_ann_mean.shape)"
   ]
  },
  {
   "cell_type": "code",
   "execution_count": null,
   "metadata": {},
   "outputs": [],
   "source": [
    "import importlib\n",
    "\n",
    "importlib.reload(sys.modules['functions'])\n",
    "\n",
    "from functions import *"
   ]
  },
  {
   "cell_type": "code",
   "execution_count": null,
   "metadata": {},
   "outputs": [],
   "source": [
    "# Plot the year events\n",
    "plot_events(model_data=model_data_year,\n",
    "            obs_data=obs_data_year,\n",
    "            obs_stats=obs_stats_year,\n",
    "            start_year=1960,\n",
    "            end_year=2018,\n",
    "            figsize_y=5,)"
   ]
  },
  {
   "cell_type": "code",
   "execution_count": null,
   "metadata": {},
   "outputs": [],
   "source": [
    "# Plot the winter 1 events\n",
    "plot_events(model_data=winter1_data,\n",
    "            obs_data=obs_data_winter1,\n",
    "            obs_stats=obs_stats_winter1,\n",
    "            start_year=1960,\n",
    "            end_year=2018,\n",
    "            figsize_y=5,)"
   ]
  },
  {
   "cell_type": "code",
   "execution_count": null,
   "metadata": {},
   "outputs": [],
   "source": [
    "# Plot the summer events\n",
    "plot_events(model_data=summer_data,\n",
    "            obs_data=obs_data_summer,\n",
    "            obs_stats=obs_stats_summer,\n",
    "            start_year=1960,\n",
    "            end_year=2018,\n",
    "            figsize_y=5,)"
   ]
  },
  {
   "cell_type": "code",
   "execution_count": null,
   "metadata": {},
   "outputs": [],
   "source": [
    "# Plot the winter2 events\n",
    "plot_events(model_data=winter2_data,\n",
    "            obs_data=obs_data_winter2,\n",
    "            obs_stats=obs_stats_winter2,\n",
    "            start_year=1960,\n",
    "            end_year=2018,\n",
    "            figsize_y=5,)"
   ]
  },
  {
   "cell_type": "code",
   "execution_count": null,
   "metadata": {},
   "outputs": [],
   "source": [
    "# Calculate the bias\n",
    "# the difference in the means between the model and the observations\n",
    "bias = np.mean(model_data_ann_mean.flatten()) - obs_stats['mean']\n",
    "\n",
    "print(bias)\n",
    "\n",
    "# Remove the bias from the model data\n",
    "model_data_ann_mean_bias = model_data_ann_mean - bias"
   ]
  },
  {
   "cell_type": "code",
   "execution_count": null,
   "metadata": {},
   "outputs": [],
   "source": [
    "# create an array of years\n",
    "years = np.arange(1960, 2019)\n",
    "\n",
    "# Set up a figure\n",
    "fig = plt.figure(figsize=(10, 5))\n",
    "\n",
    "print(\"Plotting model data shape: \", model_data_ann_mean_bias.shape)\n",
    "\n",
    "# Plot the data\n",
    "# Plot the data\n",
    "for i in range(min(model_data_ann_mean_bias.shape[1], model_data_ann_mean_bias.shape[0] - 1)):\n",
    "    print(\"Plotting model data for ensemble member: \", i)\n",
    "    \n",
    "    # Separate data into two groups based on the condition\n",
    "    below_20th = model_data_ann_mean_bias[:, i] < obs_stats['min_20']\n",
    "    above_20th = ~below_20th\n",
    "    \n",
    "    # Plot points below the 20th percentile with a label\n",
    "    plt.scatter(years[below_20th], model_data_ann_mean_bias[below_20th, i],\n",
    "                color='blue', alpha=0.8, label='model wind drought' if i == 0 else None)\n",
    "    \n",
    "    # Plot points above the 20th percentile without a label\n",
    "    plt.scatter(years[above_20th], model_data_ann_mean_bias[above_20th, i],\n",
    "                color='grey', alpha=0.8, label='HadGEM3-GC31-MM' if i == 0 else None)\n",
    "\n",
    "# plot the obs\n",
    "plt.scatter(years, obs_data.mean(axis=1), label='ERA5', color='black')\n",
    "\n",
    "# Plot the 20th percentile\n",
    "# as a horizontal line\n",
    "plt.axhline(y=obs_stats['min_20'],\n",
    "            color='black', linestyle='-')\n",
    "\n",
    "# Plot the min\n",
    "# as a horizontal line\n",
    "plt.axhline(y=obs_stats['min'],\n",
    "            color='black', linestyle='--')\n",
    "\n",
    "# Add a legend\n",
    "plt.legend(loc='upper left')\n",
    "\n",
    "# Add axis labels\n",
    "plt.xlabel(\"Year\")\n",
    "\n",
    "# Add a title\n",
    "plt.title(\"Annual mean \" + model_var)\n",
    "\n",
    "# Show the plot\n",
    "plt.show()"
   ]
  },
  {
   "cell_type": "code",
   "execution_count": null,
   "metadata": {},
   "outputs": [],
   "source": [
    "import seaborn as sns\n",
    "\n",
    "# Assemble the data into a continuous array\n",
    "model_data_ann_mean_flat = model_data_ann_mean.flatten()\n",
    "\n",
    "# Plot the distribution of the data\n",
    "sns.distplot(model_data_ann_mean_flat, label=\"model\")\n",
    "\n",
    "# # Plot the mean as a vertical line\n",
    "# plt.axvline(x=model_data_ann_mean_flat.mean(),\n",
    "#             color='black', linestyle='-')\n",
    "\n",
    "# Plot the distribution of the observations\n",
    "sns.distplot(obs_data.mean(axis=1), label=\"obs\")\n",
    "\n",
    "# # Plot the mean as a vertical line\n",
    "# plt.axvline(x=obs_stats['mean'],\n",
    "#             color='black', linestyle='--')\n",
    "\n",
    "# Include a textbox with the sample size\n",
    "plt.text(0.05, 0.85,f\"model_n = {model_data_ann_mean_flat.shape[0]}\\nobs_n = {obs_data.shape[0]}\",\n",
    "         transform=plt.gca().transAxes, bbox=dict(facecolor='white', alpha=0.5))\n",
    "\n",
    "# Add a legend\n",
    "plt.legend()\n",
    "\n",
    "# Add a title\n",
    "plt.title(\"Annual mean \" + model_var + \" distribution\")"
   ]
  },
  {
   "cell_type": "code",
   "execution_count": null,
   "metadata": {},
   "outputs": [],
   "source": [
    "import importlib\n",
    "\n",
    "importlib.reload(sys.modules['functions'])\n",
    "\n",
    "from functions import load_model_data, load_obs_data, calculate_obs_stats, plot_events"
   ]
  },
  {
   "cell_type": "code",
   "execution_count": null,
   "metadata": {},
   "outputs": [],
   "source": [
    "# load model data but for 3 year averages\n",
    "model_data_3yr_mean = load_model_data(model_variable=model_var,\n",
    "                            model=test_model,\n",
    "                            experiment=experiment,\n",
    "                            start_year=1960,\n",
    "                            end_year=2018,\n",
    "                            avg_period=1,\n",
    "                            grid=dic.uk_grid)"
   ]
  },
  {
   "cell_type": "code",
   "execution_count": null,
   "metadata": {},
   "outputs": [],
   "source": [
    "# Load the observations\n",
    "obs_data_3yr_mean = load_obs_data(obs_variable=obs_var,\n",
    "                         regrid_obs_path=\"/home/users/benhutch/ERA5/surface_wind_ERA5_regrid_HadGEM.nc\",\n",
    "                        start_year=1960,\n",
    "                        end_year=2018,\n",
    "                        avg_period=1,\n",
    "                        grid=dic.uk_grid)"
   ]
  },
  {
   "cell_type": "code",
   "execution_count": null,
   "metadata": {},
   "outputs": [],
   "source": [
    "# Calculate the stats\n",
    "obs_stats_3yr_mean = calculate_obs_stats(obs_data=obs_data_3yr_mean[0],\n",
    "                                start_year=1960,\n",
    "                                end_year=2018,\n",
    "                                avg_period=1,\n",
    "                                grid=dic.uk_grid)"
   ]
  },
  {
   "cell_type": "code",
   "execution_count": null,
   "metadata": {},
   "outputs": [],
   "source": [
    "# Calculate the stats dict for the model data\n",
    "stats_dict_3yr_mean = model_stats_bs(model=model_data_3yr_mean.mean(axis=2),\n",
    "                            nboot=10000)"
   ]
  },
  {
   "cell_type": "code",
   "execution_count": null,
   "metadata": {},
   "outputs": [],
   "source": [
    "# plot the moments of the distribution\n",
    "plot_moments(model_stats=stats_dict_3yr_mean,\n",
    "             obs_stats=obs_stats_3yr_mean,)"
   ]
  },
  {
   "cell_type": "code",
   "execution_count": null,
   "metadata": {},
   "outputs": [],
   "source": [
    "# Plot the distribution of the data\n",
    "plot_distribution(model_data=model_data_3yr_mean.mean(axis=2),\n",
    "                  obs_data=obs_data_3yr_mean[0],)"
   ]
  },
  {
   "cell_type": "code",
   "execution_count": null,
   "metadata": {},
   "outputs": [],
   "source": [
    "import importlib\n",
    "\n",
    "importlib.reload(sys.modules['functions'])\n",
    "\n",
    "from functions import load_model_data, load_obs_data, calculate_obs_stats, plot_events"
   ]
  },
  {
   "cell_type": "code",
   "execution_count": null,
   "metadata": {},
   "outputs": [],
   "source": [
    "plot_events(model_data=model_data_3yr_mean,\n",
    "            obs_data=obs_data_3yr_mean,\n",
    "            obs_stats=obs_stats_3yr_mean,\n",
    "            start_year=1960,\n",
    "            end_year=2018,\n",
    "            figsize_y=5)"
   ]
  },
  {
   "cell_type": "code",
   "execution_count": null,
   "metadata": {},
   "outputs": [],
   "source": [
    "# load model data but for 5 year averages\n",
    "model_data_5yr_mean = load_model_data(model_variable=model_var,\n",
    "                            model=test_model,\n",
    "                            experiment=experiment,\n",
    "                            start_year=1960,\n",
    "                            end_year=2018,\n",
    "                            avg_period=5,\n",
    "                            grid=dic.uk_grid)"
   ]
  },
  {
   "cell_type": "code",
   "execution_count": null,
   "metadata": {},
   "outputs": [],
   "source": [
    "obs_data_5yr_mean = load_obs_data(obs_variable=obs_var,\n",
    "                            regrid_obs_path=\"/home/users/benhutch/ERA5/surface_wind_ERA5_regrid_HadGEM.nc\",\n",
    "                            start_year=1960,\n",
    "                            end_year=2018,\n",
    "                            avg_period=5,\n",
    "                            grid=dic.uk_grid)"
   ]
  },
  {
   "cell_type": "code",
   "execution_count": null,
   "metadata": {},
   "outputs": [],
   "source": [
    "# Calculate the stats\n",
    "obs_stats_5yr_mean = calculate_obs_stats(obs_data=obs_data_5yr_mean[0],\n",
    "                                start_year=1960,\n",
    "                                end_year=2018,\n",
    "                                avg_period=5,\n",
    "                                grid=dic.uk_grid)"
   ]
  },
  {
   "cell_type": "code",
   "execution_count": null,
   "metadata": {},
   "outputs": [],
   "source": [
    "# Calculate the model stats bs\n",
    "stats_dict_5yr_mean = model_stats_bs(model=model_data_5yr_mean.mean(axis=2),\n",
    "                            nboot=10000)"
   ]
  },
  {
   "cell_type": "code",
   "execution_count": null,
   "metadata": {},
   "outputs": [],
   "source": [
    "# Plot the moments of the distribution\n",
    "plot_moments(model_stats=stats_dict_5yr_mean,\n",
    "             obs_stats=obs_stats_5yr_mean,)"
   ]
  },
  {
   "cell_type": "code",
   "execution_count": null,
   "metadata": {},
   "outputs": [],
   "source": [
    "# Plot the distribution of the data\n",
    "plot_distribution(model_data=model_data_5yr_mean.mean(axis=2),\n",
    "                  obs_data=obs_data_5yr_mean[0],)"
   ]
  },
  {
   "cell_type": "code",
   "execution_count": null,
   "metadata": {},
   "outputs": [],
   "source": [
    "# Plot the events\n",
    "plot_events(model_data=model_data_5yr_mean,\n",
    "            obs_data=obs_data_5yr_mean,\n",
    "            obs_stats=obs_stats_5yr_mean,\n",
    "            start_year=1960,\n",
    "            end_year=2018,\n",
    "            figsize_y=5)"
   ]
  },
  {
   "cell_type": "code",
   "execution_count": null,
   "metadata": {},
   "outputs": [],
   "source": [
    "# Load the observations data as an iris cube for the si10 variable\n",
    "# Deal with the expver variables\n",
    "obs = xr.open_mfdataset(dic.obs_path, combine='by_coords', parallel=True)[obs_var]\n",
    "\n",
    "# Combine the two expver variables\n",
    "obs = obs.sel(expver=1).combine_first(obs.sel(expver=5))\n",
    "\n",
    "# Convert to an iris cube\n",
    "obs = obs.to_iris()\n",
    "\n",
    "print(obs)"
   ]
  },
  {
   "cell_type": "code",
   "execution_count": null,
   "metadata": {},
   "outputs": [],
   "source": [
    "# Finding paths for the model variables\n",
    "# Set up a dataframe with 4 columns\n",
    "# one for the variable, one for the experiment, one for the model and one for the path\n",
    "df = pd.DataFrame(columns=['variable', 'experiment', 'model', 'path'])\n",
    "\n",
    "# # Print the dataframe\n",
    "# print(df)\n",
    "\n",
    "# Populate the dataframe\n",
    "# For variable 'sfcwind', set the 'experiment' column to 'dcppA-hindcast'\n",
    "# Set the 'model' column to 'HadGEM3-GC31-MM'\n",
    "# Set the 'path' column to the path for the sfcwind variable\n",
    "df.loc[0] = [model_var, experiment, test_model, os.path.join(dic.gws_base, experiment, \"data\",\n",
    "                          model_var, test_model, \"merged_files\")]\n",
    "\n",
    "# Form the EC-Earth3 path\n",
    "ec_path = os.path.join(dic.gws_base, experiment, \"data\", model_var, \"EC-Earth3\", \"merged_files\")\n",
    "\n",
    "# print the path\n",
    "print(ec_path)\n",
    "# # If the model is EC-Earth3, \n",
    "df.loc[1] = [model_var, experiment, \"EC-Earth3\", ec_path]\n",
    "\n",
    "# models\n",
    "models = [\"FGOALS-f3-L\", \"IPSL-CM6A-LR\", \"MIROC6\", \"MPI-ESM1-2-HR\", \"CanESM5\"]\n",
    "\n",
    "# Loop through the models\n",
    "for model in models:\n",
    "    # Form the path\n",
    "    path = os.path.join(dic.gws_base, experiment, model_var, model,\n",
    "                        \"data\")\n",
    "    \n",
    "    # Assert that the path exists\n",
    "    assert os.path.exists(path), f\"{path} does not exist\"\n",
    "\n",
    "    # Assert that there are non-empty files in the path\n",
    "    assert len(os.listdir(path)) > 0, f\"{path} is empty\"\n",
    "\n",
    "    # Add the path to the dataframe\n",
    "    df.loc[len(df)] = [model_var, experiment, model, path]\n"
   ]
  },
  {
   "cell_type": "code",
   "execution_count": null,
   "metadata": {},
   "outputs": [],
   "source": [
    "# dataframe\n",
    "df"
   ]
  },
  {
   "cell_type": "code",
   "execution_count": null,
   "metadata": {},
   "outputs": [],
   "source": [
    "# Make a new folder in the PWD\n",
    "os.mkdir(\"paths\")\n",
    "\n",
    "# Extract the current time\n",
    "now = pd.Timestamp.now().strftime(\"%Y%m%dT%H%M%S\")\n",
    "\n",
    "# Save the dataframe as a csv\n",
    "df.to_csv(\"paths/paths_{}.csv\".format(now))"
   ]
  },
  {
   "cell_type": "code",
   "execution_count": null,
   "metadata": {},
   "outputs": [],
   "source": [
    "# open multiple files as a single dataset for a year\n",
    "start_year = 1961\n",
    "\n",
    "# Form the directory containing the data\n",
    "hadgem_dir = os.path.join(dic.gws_base, experiment, \"data\",\n",
    "                          model_var, test_model, \"merged_files\")\n",
    "\n",
    "# List the files in the directory\n",
    "files = glob.glob(os.path.join(hadgem_dir, \"*.nc\"))\n",
    "\n",
    "# Find all of the files for the start year\n",
    "files = [f for f in files if str(start_year) in f]\n",
    "\n",
    "# Print the files\n",
    "print(files)\n",
    "\n",
    "# Print the length of the files\n",
    "print(len(files))\n",
    "\n",
    "import re\n",
    "\n",
    "# Extract the member from the file names\n",
    "members = [re.search('s\\d+-r\\d+i\\d+p\\d+f\\d+', f).group(0) for f in files]\n",
    "\n",
    "# Group the files by member\n",
    "file_groups = {member: [f for f, m in zip(files, members) if m == member] for member in set(members)}\n",
    "\n",
    "from tqdm import tqdm\n",
    "\n",
    "# # Open multiple files and combine by members\n",
    "# datasets = {member: xr.open_mfdataset(file_group, combine='by_coords', parallel=True)[model_var] for member, file_group in tqdm(file_groups.items())}\n",
    "\n",
    "# Open each file and extract the 'variant_label' attribute\n",
    "variant_labels = [xr.open_dataset(file).attrs['variant_label'] for file in files]\n",
    "\n",
    "print(variant_labels)\n",
    "\n",
    "# Create the files as a nested list of lists\n",
    "paths_test = [[f] for f in files]\n",
    "\n",
    "# Now you can use variant_labels in your concat_dim argument\n",
    "datasets = xr.open_mfdataset(paths_test,\n",
    "                             concat_dim=variant_labels,\n",
    "                                combine='nested',\n",
    "                             parallel=True,\n",
    "                             chunks={'time': 1000})\n"
   ]
  },
  {
   "cell_type": "code",
   "execution_count": null,
   "metadata": {},
   "outputs": [],
   "source": [
    "datasets"
   ]
  },
  {
   "cell_type": "code",
   "execution_count": null,
   "metadata": {},
   "outputs": [],
   "source": [
    "# Load one example of the model data as an iris cube\n",
    "init_year = 1960\n",
    "realisation = 1\n",
    "\n",
    "# Form the directory containing the data\n",
    "hadgem_dir = os.path.join(dic.gws_base, experiment, \"data\",\n",
    "                          model_var, test_model, \"merged_files\")\n",
    "\n",
    "# List the files in the directory\n",
    "files = glob.glob(os.path.join(hadgem_dir, \"*.nc\"))\n",
    "\n",
    "# Print the files\n",
    "print(files)\n",
    "\n",
    "# Find the file constaining fs{init_year}r{realisation}\n",
    "file = [f for f in files if f\"s{init_year}\" in f and f\"r{realisation}i\" in f][0]\n",
    "\n",
    "# Print rthe file\n",
    "print(file)\n",
    "\n",
    "# Load the file as an iris cube\n",
    "hadgem_example = iris.load_cube(file, model_var)\n",
    "\n",
    "# Print the cube\n",
    "print(hadgem_example)"
   ]
  },
  {
   "cell_type": "code",
   "execution_count": null,
   "metadata": {},
   "outputs": [],
   "source": [
    "import iris.quickplot as qplt\n",
    "\n",
    "# Quick plot of the data\n",
    "# Set up the figure\n",
    "fig = plt.figure(figsize=(10, 5))\n",
    "qplt.contourf(hadgem_example[0,:,:], 25)\n",
    "plt.gca().coastlines()\n"
   ]
  },
  {
   "cell_type": "code",
   "execution_count": null,
   "metadata": {},
   "outputs": [],
   "source": [
    "# Same but for the observations\n",
    "# Set up the figure\n",
    "projection = ccrs.PlateCarree(central_longitude=0)\n",
    "fig = plt.figure(figsize=(10, 5))\n",
    "ax = fig.add_subplot(1, 1, 1, projection=projection)\n",
    "qplt.contourf(obs[0,:,:], 25)"
   ]
  },
  {
   "cell_type": "code",
   "execution_count": null,
   "metadata": {},
   "outputs": [],
   "source": [
    "# Importlib reload\n",
    "import importlib\n",
    "\n",
    "# Reload the dictionaries\n",
    "importlib.reload(dic)"
   ]
  },
  {
   "cell_type": "code",
   "execution_count": null,
   "metadata": {},
   "outputs": [],
   "source": [
    "print(dic.obs_path)"
   ]
  },
  {
   "cell_type": "code",
   "execution_count": null,
   "metadata": {},
   "outputs": [],
   "source": [
    "# Import cdo\n",
    "from cdo import *\n",
    "cdo = Cdo()\n",
    "\n",
    "# Give up on Iris regridding, just use cdo in python instead\n",
    "target_grid = file # This is the example HadGEM file\n",
    "input_obs = dic.obs_path # for surface wind\n",
    "output_obs = \"/home/users/benhutch/ERA5/surface_wind_ERA5_regrid_HadGEM.nc\"\n",
    "\n",
    "# Regrid the ERA5 data to the HadGEM grid\n",
    "cdo.remapbil(target_grid, input=input_obs, output=output_obs)"
   ]
  },
  {
   "cell_type": "code",
   "execution_count": null,
   "metadata": {},
   "outputs": [],
   "source": [
    "# Importlib reload\n",
    "import importlib\n",
    "\n",
    "# Reload the dictionaries\n",
    "importlib.reload(dic)"
   ]
  },
  {
   "cell_type": "code",
   "execution_count": null,
   "metadata": {},
   "outputs": [],
   "source": [
    "# Load the regridded observations data as an iris cube for the si10 variable\n",
    "# Deal with the expver variables\n",
    "obs_regrid = xr.open_mfdataset(dic.regrid_hadgem_obs_path, combine='by_coords', parallel=True)[obs_var]\n",
    "\n",
    "# Combine the two expver variables\n",
    "obs_regrid = obs_regrid.sel(expver=1).combine_first(obs_regrid.sel(expver=5))\n",
    "\n",
    "# Convert to an iris cube\n",
    "obs_regrid = obs_regrid.to_iris()\n",
    "\n",
    "# Print the cube\n",
    "print(obs_regrid)"
   ]
  },
  {
   "cell_type": "code",
   "execution_count": null,
   "metadata": {},
   "outputs": [],
   "source": [
    "# Side by side comparison of the two\n",
    "# Set up the figure\n",
    "projection = ccrs.PlateCarree(central_longitude=0)\n",
    "fig = plt.figure(figsize=(10, 5))\n",
    "\n",
    "# Plot the HadGEM data\n",
    "ax = fig.add_subplot(1, 2, 1, projection=projection)\n",
    "qplt.contourf(hadgem_example[0,:,:], 25)\n",
    "ax.set_title(\"HadGEM3-GC31-MM\")\n",
    "\n",
    "# Plot the ERA5 data\n",
    "ax = fig.add_subplot(1, 2, 2, projection=projection)\n",
    "qplt.contourf(obs_regrid[0,:,:], 25)\n",
    "ax.set_title(\"ERA5\")"
   ]
  },
  {
   "cell_type": "markdown",
   "metadata": {},
   "source": [
    "Regridding complete (for HadGEM at least), now to process the data."
   ]
  },
  {
   "cell_type": "markdown",
   "metadata": {},
   "source": [
    "### Time series ###\n",
    "\n",
    "Now we want to collapse both of these into time series (although they won't run for the same time) for our selected gridbox."
   ]
  },
  {
   "cell_type": "code",
   "execution_count": null,
   "metadata": {},
   "outputs": [],
   "source": [
    "# print the types of the two cubes\n",
    "print(type(hadgem_example))\n",
    "print(type(obs_regrid))\n",
    "\n",
    "# Convert these back to xarray datasets\n",
    "hadgem_example = DataArray.from_iris(hadgem_example)\n",
    "\n",
    "# Print the cube\n",
    "print(hadgem_example)\n",
    "\n",
    "# Convert these back to xarray datasets\n",
    "obs_regrid = DataArray.from_iris(obs_regrid)\n",
    "\n",
    "# Print the cube\n",
    "print(obs_regrid)"
   ]
  },
  {
   "cell_type": "code",
   "execution_count": null,
   "metadata": {},
   "outputs": [],
   "source": [
    "from datetime import datetime as dt\n",
    "\n",
    "# Import timedelta\n",
    "from datetime import timedelta\n",
    "\n",
    "\n",
    "# Take the mean for the gridbox for the HadGEM data\n",
    "hadgem_example_uk_ts = hadgem_example.sel(lat=slice(lat1_uk, lat2_uk),\n",
    "                                          lon=slice(lon1_uk, lon2_uk)).mean(dim=('lat', 'lon'))\n",
    "\n",
    "# # Print the cube\n",
    "# print(hadgem_example_uk_ts)\n",
    "\n",
    "# Take the mean for the gridbox for the ERA5 data\n",
    "obs_regrid_uk_ts = obs_regrid.sel(lat=slice(lat1_uk, lat2_uk),\n",
    "                                  lon=slice(lon1_uk, lon2_uk)).mean(dim=('lat', 'lon'))\n",
    "\n",
    "# # Print the cube\n",
    "# print(obs_regrid_uk_ts)\n",
    "\n",
    "# Limit the datasets to the same time period\n",
    "# 5-year time period\n",
    "hadgem_example_uk_ts = hadgem_example_uk_ts.sel(time=slice(\"1960-12-01\", \"1965-11-30\"))\n",
    "\n",
    "# Limit the observations to the same time period\n",
    "obs_regrid_uk_ts = obs_regrid_uk_ts.sel(time=slice(\"1960-12-01\", \"1965-11-30\"))\n",
    "\n",
    "# Create a datetime object for the time\n",
    "initial_time = dt.strptime(\"1960-12-15\", '%Y-%m-%d')\n",
    "\n",
    "# final time\n",
    "final_time = dt.strptime(\"1965-11-15\", '%Y-%m-%d')\n",
    "\n",
    "# Create a datetime object from the initial time and final time\n",
    "# in monthly increments\n",
    "time = [initial_time + timedelta(days=x) for x in range(0, (final_time - initial_time).days, 30)]\n",
    "\n",
    "# print the time\n",
    "print(time)\n",
    "\n",
    "# Print the length of the time\n",
    "print(len(time))\n",
    "\n",
    "# Extract the values\n",
    "hadgem_values = hadgem_example_uk_ts.values\n",
    "\n",
    "# Extract the values\n",
    "obs_values = obs_regrid_uk_ts.values\n",
    "\n",
    "# Process a 12-month running mean\n",
    "hadgem_values_12m_rm = pd.Series(hadgem_values).rolling(window=12).mean().values\n",
    "\n",
    "# Process a 12-month running mean\n",
    "obs_values_12m_rm = pd.Series(obs_values).rolling(window=12).mean().values\n",
    "\n",
    "# Process a 36-month running mean\n",
    "hadgem_values_36m_rm = pd.Series(hadgem_values).rolling(window=36).mean().values\n",
    "\n",
    "# Process a 36-month running mean\n",
    "obs_values_36m_rm = pd.Series(obs_values).rolling(window=36).mean().values\n",
    "\n",
    "\n",
    "# Plot the two time series\n",
    "# Set up the figure\n",
    "# Convert the time values to datetime objects\n",
    "\n",
    "# set up the figure\n",
    "fig = plt.figure(figsize=(10, 5))\n",
    "\n",
    "# Plot the HadGEM data\n",
    "ax = fig.add_subplot(1, 1, 1)\n",
    "\n",
    "# # Plot the HadGEM data\n",
    "ax.plot(time, hadgem_values, label=\"HadGEM3-GC31-MM\", color='red')\n",
    "\n",
    "# Plot the 12-month running mean\n",
    "ax.plot(time, hadgem_values_12m_rm, label=\"HadGEM3 1yr-RM\", color='red', linestyle='--')\n",
    "\n",
    "# Plot the 36-month running mean\n",
    "ax.plot(time, hadgem_values_36m_rm, label=\"HadGEM3 3yr-RM\", color='red', linestyle=':')\n",
    "\n",
    "# Plot the ERA5 data\n",
    "ax.plot(time, obs_values, label=\"ERA5\", color='k')\n",
    "\n",
    "# Plot the 12-month running mean\n",
    "ax.plot(time, obs_values_12m_rm, label=\"ERA5 1yr-RM\", color='k', linestyle='--')\n",
    "\n",
    "# Plot the 36-month running mean\n",
    "ax.plot(time, obs_values_36m_rm, label=\"ERA5 3yr-RM\", color='k', linestyle=':')\n",
    "\n",
    "# Add a legend\n",
    "ax.legend()\n",
    "\n",
    "# Add a title\n",
    "ax.set_title(\"UK Wind Speed\")\n",
    "\n",
    "# Include a y-label\n",
    "ax.set_ylabel(\"Wind Speed (m/s)\")\n",
    "\n",
    "# # show the plot\n",
    "plt.show()\n"
   ]
  }
 ],
 "metadata": {
  "kernelspec": {
   "display_name": "Python 3 + Jaspy",
   "language": "python",
   "name": "jaspy"
  },
  "language_info": {
   "codemirror_mode": {
    "name": "ipython",
    "version": 3
   },
   "file_extension": ".py",
   "mimetype": "text/x-python",
   "name": "python",
   "nbconvert_exporter": "python",
   "pygments_lexer": "ipython3",
   "version": "3.11.9"
  }
 },
 "nbformat": 4,
 "nbformat_minor": 4
}
