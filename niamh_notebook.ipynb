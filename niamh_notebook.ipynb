{
 "cells": [
  {
   "cell_type": "code",
   "execution_count": null,
   "metadata": {},
   "outputs": [],
   "source": [
    "# Import local modules\n",
    "import sys\n",
    "import os\n",
    "import glob\n",
    "\n",
    "# Import third-party modules\n",
    "import numpy as np\n",
    "import pandas as pd\n",
    "import matplotlib.pyplot as plt\n",
    "import cartopy.crs as ccrs\n",
    "import xarray as xr\n",
    "from xarray import DataArray"
   ]
  },
  {
   "cell_type": "code",
   "execution_count": null,
   "metadata": {},
   "outputs": [],
   "source": [
    "sys.path.append(\"/home/users/niamhoc/.......\") # update this to point to niamh_functions directory\n",
    "import niamh_functions and funcs"
   ]
  },
  {
   "cell_type": "code",
   "execution_count": null,
   "metadata": {},
   "outputs": [],
   "source": [
    "%%time\n",
    "\n",
    "# Test the function for loading the data\n",
    "model_ds = funcs.load_model_data_xarray(\n",
    "    model_variable=\"tos\",\n",
    "    model=\"HadGEM3-GC31-MM\",\n",
    "    experiment=\"dcppA-hindcast\",\n",
    "    start_year=1960, # First initialisation year to load\n",
    "    end_year=1965, # Last initialisation year to load\n",
    "    first_fcst_year=1961, # ignore these for now - they don't do anything important!\n",
    "    last_fcst_year=1962, # also redundant\n",
    "    months=[10, 11, 12, 1, 2, 3], # also redundant\n",
    "    frequency=\"Omon\",\n",
    "    parallel=False, # I generally get better performance without parallelisation\n",
    ")"
   ]
  },
  {
   "cell_type": "code",
   "execution_count": null,
   "metadata": {},
   "outputs": [],
   "source": [
    "# check out the xarray dataset\n",
    "model_ds"
   ]
  },
  {
   "cell_type": "code",
   "execution_count": null,
   "metadata": {},
   "outputs": [],
   "source": [
    "# Optional conversion to iris for regridding etc.\n",
    "# First convert member to an integer variable\n",
    "model_ds['member'] = model_ds['member'].str[1:-6].astype(int)\n",
    "\n",
    "# Extract the data for the variable and convert to iris cube\n",
    "model_cube = model_ds['tos'].squeeze().to_iris()"
   ]
  }
 ],
 "metadata": {
  "language_info": {
   "name": "python"
  }
 },
 "nbformat": 4,
 "nbformat_minor": 2
}
