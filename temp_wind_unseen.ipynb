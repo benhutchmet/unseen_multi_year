{
 "cells": [
  {
   "cell_type": "code",
   "execution_count": null,
   "metadata": {},
   "outputs": [],
   "source": [
    "# Import local modules\n",
    "import sys\n",
    "import os\n",
    "import glob\n",
    "\n",
    "# Import third-party modules\n",
    "import numpy as np\n",
    "import pandas as pd\n",
    "import matplotlib.pyplot as plt\n",
    "import cartopy.crs as ccrs\n",
    "import xarray as xr\n",
    "import iris\n",
    "from xarray import DataArray"
   ]
  },
  {
   "cell_type": "code",
   "execution_count": null,
   "metadata": {},
   "outputs": [],
   "source": [
    "import dictionaries as dicts\n",
    "\n",
    "from functions import *"
   ]
  },
  {
   "cell_type": "code",
   "execution_count": null,
   "metadata": {},
   "outputs": [],
   "source": [
    "# First, we want to visualise th gridboxes which we might want to use\n",
    "# The UK grid box or the north sea grid box\n",
    "\n",
    "# Set up the projection\n",
    "projection = ccrs.PlateCarree(central_longitude=0)\n",
    "\n",
    "# Plot the differences between the two gridboxes\n",
    "# Set up the figure\n",
    "fig = plt.figure(figsize=(10, 5))\n",
    "ax = fig.add_subplot(1, 1, 1, projection=projection)\n",
    "\n",
    "# # Include the stock image and coastlines\n",
    "ax.stock_img()\n",
    "ax.coastlines()\n",
    "\n",
    "# Extract the lat and lon data for the UK box\n",
    "lon1_uk, lon2_uk = dicts.uk_grid['lon1'], dicts.uk_grid['lon2']\n",
    "lat1_uk, lat2_uk = dicts.uk_grid['lat1'], dicts.uk_grid['lat2']\n",
    "\n",
    "# Extract the lat and lon data for the North Sea box\n",
    "lon1_ns, lon2_ns = dicts.north_sea_kay['lon1'], dicts.north_sea_kay['lon2']\n",
    "lat1_ns, lat2_ns = dicts.north_sea_kay['lat1'], dicts.north_sea_kay['lat2']\n",
    "\n",
    "# Plot these boxes\n",
    "ax.plot([lon1_uk, lon2_uk, lon2_uk, lon1_uk, lon1_uk],\n",
    "        [lat1_uk, lat1_uk, lat2_uk, lat2_uk, lat1_uk],\n",
    "        color='green', linewidth=2, transform=projection, label=\"UK Clark\")\n",
    "\n",
    "# Plot these boxes\n",
    "ax.plot([lon1_ns, lon2_ns, lon2_ns, lon1_ns, lon1_ns],\n",
    "        [lat1_ns, lat1_ns, lat2_ns, lat2_ns, lat1_ns],\n",
    "        color='orange', linewidth=2, transform=projection, label=\"North Sea Kay\")\n",
    "\n",
    "# Zoom in on the region\n",
    "ax.set_extent([-50, 20, 40, 80], crs=projection)\n",
    "\n",
    "# Create a legend\n",
    "ax.legend(loc = 'upper left')\n",
    "\n",
    "# show the plot\n",
    "plt.show()"
   ]
  },
  {
   "cell_type": "markdown",
   "metadata": {},
   "source": [
    "### UNSEEN temp and wind speeds ###\n",
    "\n",
    "To get an understanding of the demand and wind speed influences, we want to plot the occurence of yearly cold spells alongside low wind spells.\n",
    "\n",
    "We are going to make the assumption that for the wind speeds, we care primarily about the North Sea, while for the temperature, we care about the UK box."
   ]
  },
  {
   "cell_type": "markdown",
   "metadata": {},
   "source": [
    "### Looking at winds ###\n",
    "\n",
    "First we want to extract the winds for the North Sea gridbox and perform the fidelity testing."
   ]
  },
  {
   "cell_type": "code",
   "execution_count": null,
   "metadata": {},
   "outputs": [],
   "source": [
    "# Set up the parameters\n",
    "model_var = \"sfcWind\"\n",
    "obs_var = \"si10\"\n",
    "test_model = \"HadGEM3-GC31-MM\"\n",
    "experiment = \"dcppA-hindcast\""
   ]
  },
  {
   "cell_type": "code",
   "execution_count": null,
   "metadata": {},
   "outputs": [],
   "source": [
    "import importlib\n",
    "\n",
    "importlib.reload(sys.modules['functions'])\n",
    "\n",
    "from functions import *"
   ]
  },
  {
   "cell_type": "code",
   "execution_count": null,
   "metadata": {},
   "outputs": [],
   "source": [
    "# Load the model data for the north sea region\n",
    "model_wind_ns = load_model_data(model_variable=model_var,\n",
    "                                model=test_model,\n",
    "                                experiment=experiment,\n",
    "                                start_year=1960,\n",
    "                                end_year=2018,\n",
    "                                avg_period=1,\n",
    "                                grid=dicts.north_sea_kay)"
   ]
  },
  {
   "cell_type": "code",
   "execution_count": null,
   "metadata": {},
   "outputs": [],
   "source": [
    "# Perform the bootstrapping\n",
    "# Average over the year\n",
    "model_stats_ns = model_stats_bs(model=model_wind_ns.mean(axis=2),\n",
    "                                nboot=10000,)"
   ]
  },
  {
   "cell_type": "code",
   "execution_count": null,
   "metadata": {},
   "outputs": [],
   "source": [
    "# Load the obs data\n",
    "obs_data_ns = load_obs_data(obs_variable=obs_var,\n",
    "                            regrid_obs_path=\"/home/users/benhutch/ERA5/surface_wind_ERA5_regrid_HadGEM.nc\",\n",
    "                            start_year=1960,\n",
    "                            end_year=2018,\n",
    "                            avg_period=1,\n",
    "                            grid=dicts.north_sea_kay)"
   ]
  },
  {
   "cell_type": "code",
   "execution_count": null,
   "metadata": {},
   "outputs": [],
   "source": [
    "print(obs_data_ns[0].shape)"
   ]
  },
  {
   "cell_type": "code",
   "execution_count": null,
   "metadata": {},
   "outputs": [],
   "source": [
    "# Calculate the obs stats\n",
    "obs_stats_ns = calculate_obs_stats(obs_data=obs_data_ns[0],\n",
    "                                   start_year=1960,\n",
    "                                   end_year=2018,\n",
    "                                   avg_period=1,\n",
    "                                   grid=dicts.north_sea_kay)"
   ]
  },
  {
   "cell_type": "code",
   "execution_count": null,
   "metadata": {},
   "outputs": [],
   "source": [
    "# Plot the moments of the distribution\n",
    "plot_moments(model_stats=model_stats_ns,\n",
    "             obs_stats=obs_stats_ns\n",
    "             )"
   ]
  },
  {
   "cell_type": "markdown",
   "metadata": {},
   "source": [
    "1-year RM for the North Sea region appear to be just inside the 5%-95% range of the bootstrapped model data.\n",
    "\n",
    "It also appears that the mean will need bias adjustment - the models are around ~ 0.4 m/s higher than the obs."
   ]
  },
  {
   "cell_type": "code",
   "execution_count": null,
   "metadata": {},
   "outputs": [],
   "source": [
    "# Plot the distribution\n",
    "plot_distribution(model_data=model_wind_ns.mean(axis=2),\n",
    "                  obs_data=obs_data_ns[0],\n",
    "                  )"
   ]
  },
  {
   "cell_type": "markdown",
   "metadata": {},
   "source": [
    "### Fidelity tests ###\n",
    "\n",
    "Fidelity tests for winds in the North Sea look good (i.e. obs values are within the 5%-95% range of the model data). The mean will need bias adjustment.\n",
    "\n",
    "Now we can plot the individual events."
   ]
  },
  {
   "cell_type": "code",
   "execution_count": null,
   "metadata": {},
   "outputs": [],
   "source": [
    "import importlib\n",
    "\n",
    "importlib.reload(sys.modules['functions'])\n",
    "\n",
    "from functions import *"
   ]
  },
  {
   "cell_type": "code",
   "execution_count": null,
   "metadata": {},
   "outputs": [],
   "source": [
    "# Plot the year events\n",
    "# For wind speeds in the north sea region\n",
    "plot_events(model_data=model_wind_ns.mean(axis=2),\n",
    "            obs_data=obs_data_ns[0],\n",
    "            obs_stats=obs_stats_ns,\n",
    "            start_year=1960,\n",
    "            end_year=2018,\n",
    "            figsize_y=5,)"
   ]
  },
  {
   "cell_type": "markdown",
   "metadata": {},
   "source": [
    "### Temperature data ###\n",
    "\n",
    "Now we want to find the temperature data, both for the observations (from ERA5) and the model data (probably HadGEM3 again)."
   ]
  },
  {
   "cell_type": "code",
   "execution_count": null,
   "metadata": {},
   "outputs": [],
   "source": [
    "# Set up the parameters\n",
    "model_var = \"tas\"\n",
    "obs_var = \"t2m\"\n",
    "test_model = \"HadGEM3-GC31-MM\"\n",
    "experiment = \"dcppA-hindcast\"\n",
    "obs_path = \"/gws/nopw/j04/canari/users/benhutch/ERA5/t2m_ERA5_regrid_HadGEM.nc\""
   ]
  },
  {
   "cell_type": "code",
   "execution_count": null,
   "metadata": {},
   "outputs": [],
   "source": [
    "# Check if the CSV file is empty\n",
    "if os.path.getsize(\"/home/users/benhutch/multi_year_unseen/paths/paths_20240117T122513.csv\") > 0:\n",
    "    # Open the csv file in ./paths\n",
    "    paths = pd.read_csv(\"/home/users/benhutch/multi_year_unseen/paths/paths_20240117T122513.csv\")\n",
    "else:\n",
    "    # Handle the empty file case\n",
    "    paths = pd.DataFrame()\n",
    "\n",
    "paths\n",
    "\n",
    "# Add a new row for\n",
    "# tas, dcppA-hindcast, HadGEM3-GC31-MM, /gws/nopw/j04/canari/users/benhutch/dcppA-hindcast/data/tas/\n",
    "new_row = {'variable': 'tas',\n",
    "           'experiment': 'dcppA-hindcast',\n",
    "              'model': 'HadGEM3-GC31-MM',\n",
    "                'path': '/gws/nopw/j04/canari/users/benhutch/dcppA-hindcast/data/tas/HadGEM3-GC31-MM/'}\n",
    "\n",
    "# Append the new row to the dataframe\n",
    "paths = paths.append(new_row, ignore_index=True)\n",
    "\n",
    "paths\n",
    "\n",
    "# Save the dataframe\n",
    "paths.to_csv(\"/home/users/benhutch/multi_year_unseen/paths/paths_20240117T122513.csv\", index=False)"
   ]
  },
  {
   "cell_type": "code",
   "execution_count": null,
   "metadata": {},
   "outputs": [],
   "source": [
    "# Load the model data for the uk region\n",
    "model_temp_uk = load_model_data(model_variable=model_var,\n",
    "                                model=test_model,\n",
    "                                experiment=experiment,\n",
    "                                start_year=1960,\n",
    "                                end_year=2018,\n",
    "                                avg_period=1,\n",
    "                                grid=dicts.uk_grid)"
   ]
  },
  {
   "cell_type": "code",
   "execution_count": null,
   "metadata": {},
   "outputs": [],
   "source": [
    "# Peform the bootstrapping for the model data\n",
    "model_stats_uk = model_stats_bs(model=model_temp_uk.mean(axis=2),\n",
    "                                nboot=10000,)"
   ]
  },
  {
   "cell_type": "code",
   "execution_count": null,
   "metadata": {},
   "outputs": [],
   "source": [
    "# Load the observed data\n",
    "obs_data_uk = load_obs_data(obs_variable=obs_var,\n",
    "                            regrid_obs_path=\"/gws/nopw/j04/canari/users/benhutch/ERA5/t2m_ERA5_regrid_HadGEM.nc\",\n",
    "                            start_year=1960,\n",
    "                            end_year=2018,\n",
    "                            avg_period=1,\n",
    "                            grid=dicts.uk_grid)"
   ]
  },
  {
   "cell_type": "code",
   "execution_count": null,
   "metadata": {},
   "outputs": [],
   "source": [
    "# Calculate the observed stats\n",
    "obs_stats_uk = calculate_obs_stats(obs_data=obs_data_uk[0],\n",
    "                                      start_year=1960,\n",
    "                                      end_year=2018,\n",
    "                                      avg_period=1,\n",
    "                                      grid=dicts.uk_grid)"
   ]
  },
  {
   "cell_type": "code",
   "execution_count": null,
   "metadata": {},
   "outputs": [],
   "source": [
    "# plot the moments of the distribution\n",
    "plot_moments(model_stats=model_stats_uk,\n",
    "             obs_stats=obs_stats_uk\n",
    "             )"
   ]
  },
  {
   "cell_type": "markdown",
   "metadata": {},
   "source": [
    "All looks pretty good, apart from the kurtosis. Looks like the mean will need to be corrected by around ~0.4 K as well."
   ]
  },
  {
   "cell_type": "code",
   "execution_count": null,
   "metadata": {},
   "outputs": [],
   "source": [
    "# Plot the distributions\n",
    "plot_distribution(model_data=model_temp_uk.mean(axis=2),\n",
    "                  obs_data=obs_data_uk[0],\n",
    "                  )"
   ]
  },
  {
   "cell_type": "markdown",
   "metadata": {},
   "source": [
    "### Fidelity tests for temp ###\n",
    "\n",
    "Fidelity tests mostly look good. The low bias in temperature for the model should be corrected. I'm not sure whether the temp will need to be detrended as well."
   ]
  },
  {
   "cell_type": "code",
   "execution_count": null,
   "metadata": {},
   "outputs": [],
   "source": [
    "importlib.reload(sys.modules['functions'])\n",
    "\n",
    "from functions import *"
   ]
  },
  {
   "cell_type": "code",
   "execution_count": null,
   "metadata": {},
   "outputs": [],
   "source": [
    "# Plot the events\n",
    "plot_events(model_data=model_temp_uk.mean(axis=2),\n",
    "            obs_data=obs_data_uk[0],\n",
    "            obs_stats=obs_stats_uk,\n",
    "            start_year=1960,\n",
    "            end_year=2018,\n",
    "            figsize_y=5,\n",
    "    )"
   ]
  },
  {
   "cell_type": "markdown",
   "metadata": {},
   "source": [
    "### Trend in temperature ###\n",
    "\n",
    "Does this positive trend in temperature need to be corrected?"
   ]
  },
  {
   "cell_type": "code",
   "execution_count": null,
   "metadata": {},
   "outputs": [],
   "source": [
    "# Run the function again, but detrend the data\n",
    "plot_events(model_data=model_temp_uk.mean(axis=2),\n",
    "            obs_data=obs_data_uk[0],\n",
    "            obs_stats=obs_stats_uk,\n",
    "            start_year=1960,\n",
    "            end_year=2018,\n",
    "            figsize_y=5,\n",
    "            do_detrend=True,\n",
    "    )"
   ]
  },
  {
   "cell_type": "markdown",
   "metadata": {},
   "source": [
    "Break this down into winter1, summer and winetr2."
   ]
  }
 ],
 "metadata": {
  "kernelspec": {
   "display_name": "Python 3",
   "language": "python",
   "name": "python3"
  },
  "language_info": {
   "codemirror_mode": {
    "name": "ipython",
    "version": 3
   },
   "file_extension": ".py",
   "mimetype": "text/x-python",
   "name": "python",
   "nbconvert_exporter": "python",
   "pygments_lexer": "ipython3",
   "version": "3.10.5"
  }
 },
 "nbformat": 4,
 "nbformat_minor": 2
}
