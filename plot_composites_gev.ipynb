{
 "cells": [
  {
   "cell_type": "markdown",
   "metadata": {},
   "source": [
    "## Plot composites GEV ##\n",
    "\n",
    "Plot the composites of temperature and wind speed for the worst demand net wind days."
   ]
  },
  {
   "cell_type": "code",
   "execution_count": 1,
   "metadata": {},
   "outputs": [
    {
     "name": "stderr",
     "output_type": "stream",
     "text": [
      "/home/users/benhutch/.conda/envs/bens-conda-env2/lib/python3.11/site-packages/pyproj/network.py:59: UserWarning: pyproj unable to set PROJ database path.\n",
      "  _set_context_ca_bundle_path(ca_bundle_path)\n"
     ]
    }
   ],
   "source": [
    "# Imports\n",
    "import os\n",
    "import sys\n",
    "import glob\n",
    "import time\n",
    "import re\n",
    "\n",
    "# Third-party libraries\n",
    "import numpy as np\n",
    "import pandas as pd\n",
    "import xarray as xr\n",
    "import iris\n",
    "import iris.coords\n",
    "import cftime\n",
    "import matplotlib.pyplot as plt\n",
    "import matplotlib.ticker as mplticker\n",
    "import cartopy.crs as ccrs\n",
    "\n",
    "# Specific third-party imports\n",
    "from matplotlib import colors\n",
    "from cartopy.mpl.gridliner import LONGITUDE_FORMATTER, LATITUDE_FORMATTER\n",
    "from matplotlib.ticker import FuncFormatter\n",
    "from tqdm import tqdm\n",
    "from scipy.stats import pearsonr\n",
    "from iris.util import equalise_attributes\n",
    "\n",
    "# Import types\n",
    "from typing import Any, Callable, Union, List, Tuple\n",
    "\n",
    "# Local imports\n",
    "from plotting_functions import format_func, format_func_one_decimal\n",
    "\n",
    "# Non-local imports\n",
    "sys.path.append(\"/home/users/benhutch/unseen_functions/\")\n",
    "from functions import plot_dps_composite, plot_daily_field"
   ]
  },
  {
   "cell_type": "code",
   "execution_count": 2,
   "metadata": {},
   "outputs": [],
   "source": [
    "# ---------------------------------\n",
    "# Load the dataframe containing the dates for the ERA5 period\n",
    "# ---------------------------------\n",
    "\n",
    "# Set up the path to the obs dnw dataframe\n",
    "obs_dnw_path = \"/home/users/benhutch/unseen_multi_year/dfs/UK_obs_demand_net_wind_max_djf_1960-2017_2025-03-18.csv\"\n",
    "\n",
    "# Load the obs dnw dataframe\n",
    "obs_dnw_df = pd.read_csv(obs_dnw_path)"
   ]
  },
  {
   "cell_type": "code",
   "execution_count": 3,
   "metadata": {},
   "outputs": [
    {
     "name": "stdout",
     "output_type": "stream",
     "text": [
      "CPU times: user 29.8 ms, sys: 30.6 ms, total: 60.4 ms\n",
      "Wall time: 19.9 s\n"
     ]
    }
   ],
   "source": [
    "%%time\n",
    "# ---------------------------------\n",
    "# Load in the ERA5 daily temperature data\n",
    "# ---------------------------------\n",
    "\n",
    "# set up the data path to the temp data\n",
    "temp_path = \"/gws/nopw/j04/canari/users/benhutch/ERA5/ERA5_t2m_daily_1950_2020.nc\"\n",
    "\n",
    "# Load the data\n",
    "temp_cube = iris.load_cube(temp_path, \"t2m\")"
   ]
  },
  {
   "cell_type": "code",
   "execution_count": 4,
   "metadata": {},
   "outputs": [
    {
     "name": "stdout",
     "output_type": "stream",
     "text": [
      "CPU times: user 6.28 ms, sys: 6.9 ms, total: 13.2 ms\n",
      "Wall time: 347 ms\n"
     ]
    }
   ],
   "source": [
    "%%time\n",
    "# ---------------------------------\n",
    "# Load in the ERA5 daily 10m wind speed data\n",
    "# ---------------------------------\n",
    "\n",
    "# Set up the base path\n",
    "base_path = \"/gws/nopw/j04/canari/users/benhutch/ERA5/\"\n",
    "\n",
    "# Set up the path to the wind data\n",
    "obs_path = os.path.join(base_path, \"ERA5_wind_daily_1952_2020.nc\")\n",
    "\n",
    "# Load the data\n",
    "wind_cube = iris.load_cube(obs_path, \"si10\")"
   ]
  },
  {
   "cell_type": "code",
   "execution_count": 5,
   "metadata": {},
   "outputs": [],
   "source": [
    "# ---------------------------------\n",
    "# Restrict both obs datasets to a specific Europe box\n",
    "# ---------------------------------\n",
    "\n",
    "# Define the box to constrain to\n",
    "test_europe_box = {\n",
    "    \"lon1\": -11,  # degrees east\n",
    "    \"lon2\": 30,\n",
    "    \"lat1\": 35,  # degrees north\n",
    "    \"lat2\": 70,\n",
    "}\n",
    "\n",
    "# Define the constraints\n",
    "constraints = iris.Constraint(\n",
    "    longitude=lambda cell: test_europe_box[\"lon1\"] <= cell <= test_europe_box[\"lon2\"],\n",
    "    latitude=lambda cell: test_europe_box[\"lat1\"] <= cell <= test_europe_box[\"lat2\"],\n",
    ")\n",
    "\n",
    "# Apply the constraints\n",
    "temp_cube_eu = temp_cube.extract(constraints)\n",
    "wind_cube_eu = wind_cube.extract(constraints)"
   ]
  },
  {
   "cell_type": "code",
   "execution_count": 7,
   "metadata": {},
   "outputs": [
    {
     "data": {
      "text/html": [
       "\n",
       "<style>\n",
       "  a.iris {\n",
       "      text-decoration: none !important;\n",
       "  }\n",
       "  table.iris {\n",
       "      white-space: pre;\n",
       "      border: 1px solid;\n",
       "      border-color: #9c9c9c;\n",
       "      font-family: monaco, monospace;\n",
       "  }\n",
       "  th.iris {\n",
       "      background: #303f3f;\n",
       "      color: #e0e0e0;\n",
       "      border-left: 1px solid;\n",
       "      border-color: #9c9c9c;\n",
       "      font-size: 1.05em;\n",
       "      min-width: 50px;\n",
       "      max-width: 125px;\n",
       "  }\n",
       "  tr.iris :first-child {\n",
       "      border-right: 1px solid #9c9c9c !important;\n",
       "  }\n",
       "  td.iris-title {\n",
       "      background: #d5dcdf;\n",
       "      border-top: 1px solid #9c9c9c;\n",
       "      font-weight: bold;\n",
       "  }\n",
       "  .iris-word-cell {\n",
       "      text-align: left !important;\n",
       "      white-space: pre;\n",
       "  }\n",
       "  .iris-subheading-cell {\n",
       "      padding-left: 2em !important;\n",
       "  }\n",
       "  .iris-inclusion-cell {\n",
       "      padding-right: 1em !important;\n",
       "  }\n",
       "  .iris-panel-body {\n",
       "      padding-top: 0px;\n",
       "  }\n",
       "  .iris-panel-title {\n",
       "      padding-left: 3em;\n",
       "  }\n",
       "  .iris-panel-title {\n",
       "      margin-top: 7px;\n",
       "  }\n",
       "</style>\n",
       "<table class=\"iris\" id=\"139615383113552\">\n",
       "    <tr class=\"iris\">\n",
       "<th class=\"iris iris-word-cell\">2 Metre Temperature (K)</th>\n",
       "<th class=\"iris iris-word-cell\">time</th>\n",
       "<th class=\"iris iris-word-cell\">latitude</th>\n",
       "<th class=\"iris iris-word-cell\">longitude</th>\n",
       "</tr>\n",
       "    <tr class=\"iris\">\n",
       "<td class=\"iris-word-cell iris-subheading-cell\">Shape</td>\n",
       "<td class=\"iris iris-inclusion-cell\">25933</td>\n",
       "<td class=\"iris iris-inclusion-cell\">124</td>\n",
       "<td class=\"iris iris-inclusion-cell\">146</td>\n",
       "</tr>\n",
       "    <tr class=\"iris\">\n",
       "    <td class=\"iris-title iris-word-cell\">Dimension coordinates</td>\n",
       "    <td class=\"iris-title\"></td>\n",
       "    <td class=\"iris-title\"></td>\n",
       "    <td class=\"iris-title\"></td>\n",
       "</tr>\n",
       "<tr class=\"iris\">\n",
       "    <td class=\"iris-word-cell iris-subheading-cell\">\ttime</td>\n",
       "    <td class=\"iris-inclusion-cell\">x</td>\n",
       "    <td class=\"iris-inclusion-cell\">-</td>\n",
       "    <td class=\"iris-inclusion-cell\">-</td>\n",
       "</tr>\n",
       "<tr class=\"iris\">\n",
       "    <td class=\"iris-word-cell iris-subheading-cell\">\tlatitude</td>\n",
       "    <td class=\"iris-inclusion-cell\">-</td>\n",
       "    <td class=\"iris-inclusion-cell\">x</td>\n",
       "    <td class=\"iris-inclusion-cell\">-</td>\n",
       "</tr>\n",
       "<tr class=\"iris\">\n",
       "    <td class=\"iris-word-cell iris-subheading-cell\">\tlongitude</td>\n",
       "    <td class=\"iris-inclusion-cell\">-</td>\n",
       "    <td class=\"iris-inclusion-cell\">-</td>\n",
       "    <td class=\"iris-inclusion-cell\">x</td>\n",
       "</tr>\n",
       "<tr class=\"iris\">\n",
       "    <td class=\"iris-title iris-word-cell\">Attributes</td>\n",
       "    <td class=\"iris-title\"></td>\n",
       "    <td class=\"iris-title\"></td>\n",
       "    <td class=\"iris-title\"></td>\n",
       "</tr>\n",
       "<tr class=\"iris\">\n",
       "    <td class=\"iris-word-cell iris-subheading-cell\">\tConventions</td>\n",
       "    <td class=\"iris-word-cell\" colspan=\"3\">&#x27;CF-1.6&#x27;</td>\n",
       "</tr>\n",
       "<tr class=\"iris\">\n",
       "    <td class=\"iris-word-cell iris-subheading-cell\">\thistory</td>\n",
       "    <td class=\"iris-word-cell\" colspan=\"3\">&#x27;2021-02-05 11:50:14 GMT by grib_to_netcdf-2.16.0: /opt/ecmwf/eccodes/bin/grib_to_netcdf ...&#x27;</td>\n",
       "</tr>\n",
       "</table>\n",
       "        "
      ],
      "text/plain": [
       "<iris 'Cube' of 2 metre temperature / (K) (time: 25933; latitude: 124; longitude: 146)>"
      ]
     },
     "execution_count": 7,
     "metadata": {},
     "output_type": "execute_result"
    }
   ],
   "source": [
    "temp_cube_eu"
   ]
  },
  {
   "cell_type": "code",
   "execution_count": 8,
   "metadata": {},
   "outputs": [],
   "source": [
    "# ---------------------------------\n",
    "# Restrict the obs data to specific dates\n",
    "# ---------------------------------\n",
    "\n",
    "# Define the start and end dates\n",
    "start_date = \"1960-12-01\"\n",
    "end_date = \"2017-03-01\"\n",
    "\n",
    "# Convert the dates to datetime objects\n",
    "start_date_dt = pd.to_datetime(start_date)\n",
    "end_date_dt = pd.to_datetime(end_date)\n",
    "\n",
    "# Create a time constraint\n",
    "time_constraint = iris.Constraint(time=lambda cell: start_date_dt <= cell.point < end_date_dt)\n",
    "\n",
    "# Apply the date constraints\n",
    "temp_cube_eu = temp_cube_eu.extract(time_constraint)\n",
    "\n",
    "# Same for the wind data\n",
    "wind_cube_eu = wind_cube_eu.extract(time_constraint)"
   ]
  },
  {
   "cell_type": "code",
   "execution_count": null,
   "metadata": {},
   "outputs": [],
   "source": [
    "# ---------------------------------\n",
    "# Calculate the climatology for the observed datasets\n",
    "# ---------------------------------\n",
    "\n",
    "# Calculate the climatology for temp data\n"
   ]
  }
 ],
 "metadata": {
  "kernelspec": {
   "display_name": "bens-conda-env2",
   "language": "python",
   "name": "python3"
  },
  "language_info": {
   "codemirror_mode": {
    "name": "ipython",
    "version": 3
   },
   "file_extension": ".py",
   "mimetype": "text/x-python",
   "name": "python",
   "nbconvert_exporter": "python",
   "pygments_lexer": "ipython3",
   "version": "3.11.10"
  }
 },
 "nbformat": 4,
 "nbformat_minor": 2
}
