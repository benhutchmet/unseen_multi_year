{
 "cells": [
  {
   "cell_type": "markdown",
   "id": "1a5654be",
   "metadata": {},
   "source": [
    "### Checking wind and WP generation ###\n",
    "\n",
    "Looking at the wind anomalies in the model, these do not seem to align with the processed wind power generation.\n",
    "\n",
    "We first want to establish whether this is correct in the observed data\n",
    "\n",
    "Before moving on to look at the model data\n"
   ]
  },
  {
   "cell_type": "code",
   "execution_count": 1,
   "id": "953cea24",
   "metadata": {},
   "outputs": [
    {
     "name": "stderr",
     "output_type": "stream",
     "text": [
      "/home/users/benhutch/.conda/envs/bens-conda-env2/lib/python3.11/site-packages/pyproj/network.py:59: UserWarning: pyproj unable to set PROJ database path.\n",
      "  _set_context_ca_bundle_path(ca_bundle_path)\n"
     ]
    }
   ],
   "source": [
    "# Local imports\n",
    "import os\n",
    "import sys\n",
    "import glob\n",
    "import time\n",
    "import json\n",
    "import argparse\n",
    "\n",
    "# Third-party imports\n",
    "import numpy as np\n",
    "import xarray as xr\n",
    "import matplotlib.pyplot as plt\n",
    "import cartopy.crs as ccrs\n",
    "import pandas as pd\n",
    "import iris\n",
    "\n",
    "# Specific imports\n",
    "from tqdm import tqdm\n",
    "from datetime import datetime, timedelta\n",
    "\n",
    "# Local imports\n",
    "from plot_dnw_circ import extract_obs_data"
   ]
  },
  {
   "cell_type": "code",
   "execution_count": 2,
   "id": "f88d9aac",
   "metadata": {},
   "outputs": [],
   "source": [
    "# ----------------------\n",
    "# Set up the hard-coded variables\n",
    "# ----------------------\n",
    "\n",
    "# Set up the directory for the obs df\n",
    "obs_df_dir = \"/home/users/benhutch/unseen_multi_year/dfs/\"\n",
    "metadata_dir = \"/gws/nopw/j04/canari/users/benhutch/unseen/saved_arrs/metadata/\"\n",
    "\n",
    "# Set up the fname for the obs df\n",
    "obs_df_fname = \"full_field_obs_tas_wind_UK_1961-2024_DJF_detrended_01-07-2025_dnw.csv\""
   ]
  },
  {
   "cell_type": "code",
   "execution_count": 3,
   "id": "09f955fb",
   "metadata": {},
   "outputs": [],
   "source": [
    "# --------------------\n",
    "# Load in the obser df\n",
    "# --------------------\n",
    "\n",
    "obs_df = pd.read_csv(os.path.join(obs_df_dir, obs_df_fname))"
   ]
  },
  {
   "cell_type": "code",
   "execution_count": 4,
   "id": "10e547f4",
   "metadata": {},
   "outputs": [
    {
     "data": {
      "application/vnd.microsoft.datawrangler.viewer.v0+json": {
       "columns": [
        {
         "name": "index",
         "rawType": "int64",
         "type": "integer"
        },
        {
         "name": "time",
         "rawType": "object",
         "type": "string"
        },
        {
         "name": "data_tas",
         "rawType": "float64",
         "type": "float"
        },
        {
         "name": "data_c",
         "rawType": "float64",
         "type": "float"
        },
        {
         "name": "data_sfcWind",
         "rawType": "float64",
         "type": "float"
        },
        {
         "name": "data_wp_generation",
         "rawType": "float64",
         "type": "float"
        },
        {
         "name": "combined_cfs",
         "rawType": "float64",
         "type": "float"
        },
        {
         "name": "effective_dec_year",
         "rawType": "int64",
         "type": "integer"
        },
        {
         "name": "data_c_dt",
         "rawType": "float64",
         "type": "float"
        },
        {
         "name": "data_sfcWind_dt",
         "rawType": "float64",
         "type": "float"
        },
        {
         "name": "combined_cfs_dt",
         "rawType": "float64",
         "type": "float"
        },
        {
         "name": "total_gen",
         "rawType": "float64",
         "type": "float"
        },
        {
         "name": "hdd",
         "rawType": "float64",
         "type": "float"
        },
        {
         "name": "cdd",
         "rawType": "int64",
         "type": "integer"
        },
        {
         "name": "data_c_dt_UK_demand",
         "rawType": "float64",
         "type": "float"
        },
        {
         "name": "demand_net_wind",
         "rawType": "float64",
         "type": "float"
        }
       ],
       "ref": "63eb3576-ebd2-40a6-ac39-c2958bf53d6d",
       "rows": [
        [
         "0",
         "1961-12-01",
         "278.56954363922574",
         "5.419543639225765",
         "7.5739098",
         "9.074235465348297",
         "0.4139426809691636",
         "1961",
         "7.628006125803793",
         "7.886256239407264",
         "0.4426507229445216",
         "13.475930240613364",
         "7.871993874196207",
         "0",
         "40.941257682192784",
         "27.46532744157942"
        ],
        [
         "1",
         "1961-12-02",
         "275.6479259889517",
         "2.4979259889517493",
         "8.598442",
         "13.568653340337676",
         "0.6189661666031047",
         "1961",
         "4.706388475529778",
         "8.910788439407265",
         "0.6476742085784627",
         "19.717605780442238",
         "10.793611524470222",
         "0",
         "43.12548441937131",
         "23.40787863892908"
        ],
        [
         "2",
         "1961-12-03",
         "273.7282482545767",
         "0.5782482545767493",
         "6.730659",
         "5.470027525942073",
         "0.2495282239159608",
         "1961",
         "2.786710741154778",
         "7.043005439407264",
         "0.2782362658913188",
         "8.470544190278202",
         "12.713289258845222",
         "0",
         "44.56065217097458",
         "36.09010798069637"
        ],
        [
         "3",
         "1961-12-04",
         "277.40576445166744",
         "4.25576445166746",
         "8.07984",
         "12.264395136063673",
         "0.5594693484066985",
         "1961",
         "6.464226938245488",
         "8.392186439407265",
         "0.5881773903820565",
         "17.90630190134812",
         "9.035773061754512",
         "0",
         "41.81130911325474",
         "23.905007211906614"
        ],
        [
         "4",
         "1961-12-05",
         "276.77155998571595",
         "3.621559985715976",
         "11.786189",
         "17.46188111813382",
         "0.7965649461497293",
         "1961",
         "5.830022472294004",
         "12.098535439407264",
         "0.8252729881250873",
         "25.12437152131361",
         "9.669977527705996",
         "0",
         "42.28544588171221",
         "17.161074360398608"
        ]
       ],
       "shape": {
        "columns": 15,
        "rows": 5
       }
      },
      "text/html": [
       "<div>\n",
       "<style scoped>\n",
       "    .dataframe tbody tr th:only-of-type {\n",
       "        vertical-align: middle;\n",
       "    }\n",
       "\n",
       "    .dataframe tbody tr th {\n",
       "        vertical-align: top;\n",
       "    }\n",
       "\n",
       "    .dataframe thead th {\n",
       "        text-align: right;\n",
       "    }\n",
       "</style>\n",
       "<table border=\"1\" class=\"dataframe\">\n",
       "  <thead>\n",
       "    <tr style=\"text-align: right;\">\n",
       "      <th></th>\n",
       "      <th>time</th>\n",
       "      <th>data_tas</th>\n",
       "      <th>data_c</th>\n",
       "      <th>data_sfcWind</th>\n",
       "      <th>data_wp_generation</th>\n",
       "      <th>combined_cfs</th>\n",
       "      <th>effective_dec_year</th>\n",
       "      <th>data_c_dt</th>\n",
       "      <th>data_sfcWind_dt</th>\n",
       "      <th>combined_cfs_dt</th>\n",
       "      <th>total_gen</th>\n",
       "      <th>hdd</th>\n",
       "      <th>cdd</th>\n",
       "      <th>data_c_dt_UK_demand</th>\n",
       "      <th>demand_net_wind</th>\n",
       "    </tr>\n",
       "  </thead>\n",
       "  <tbody>\n",
       "    <tr>\n",
       "      <th>0</th>\n",
       "      <td>1961-12-01</td>\n",
       "      <td>278.569544</td>\n",
       "      <td>5.419544</td>\n",
       "      <td>7.573910</td>\n",
       "      <td>9.074235</td>\n",
       "      <td>0.413943</td>\n",
       "      <td>1961</td>\n",
       "      <td>7.628006</td>\n",
       "      <td>7.886256</td>\n",
       "      <td>0.442651</td>\n",
       "      <td>13.475930</td>\n",
       "      <td>7.871994</td>\n",
       "      <td>0</td>\n",
       "      <td>40.941258</td>\n",
       "      <td>27.465327</td>\n",
       "    </tr>\n",
       "    <tr>\n",
       "      <th>1</th>\n",
       "      <td>1961-12-02</td>\n",
       "      <td>275.647926</td>\n",
       "      <td>2.497926</td>\n",
       "      <td>8.598442</td>\n",
       "      <td>13.568653</td>\n",
       "      <td>0.618966</td>\n",
       "      <td>1961</td>\n",
       "      <td>4.706388</td>\n",
       "      <td>8.910788</td>\n",
       "      <td>0.647674</td>\n",
       "      <td>19.717606</td>\n",
       "      <td>10.793612</td>\n",
       "      <td>0</td>\n",
       "      <td>43.125484</td>\n",
       "      <td>23.407879</td>\n",
       "    </tr>\n",
       "    <tr>\n",
       "      <th>2</th>\n",
       "      <td>1961-12-03</td>\n",
       "      <td>273.728248</td>\n",
       "      <td>0.578248</td>\n",
       "      <td>6.730659</td>\n",
       "      <td>5.470028</td>\n",
       "      <td>0.249528</td>\n",
       "      <td>1961</td>\n",
       "      <td>2.786711</td>\n",
       "      <td>7.043005</td>\n",
       "      <td>0.278236</td>\n",
       "      <td>8.470544</td>\n",
       "      <td>12.713289</td>\n",
       "      <td>0</td>\n",
       "      <td>44.560652</td>\n",
       "      <td>36.090108</td>\n",
       "    </tr>\n",
       "    <tr>\n",
       "      <th>3</th>\n",
       "      <td>1961-12-04</td>\n",
       "      <td>277.405764</td>\n",
       "      <td>4.255764</td>\n",
       "      <td>8.079840</td>\n",
       "      <td>12.264395</td>\n",
       "      <td>0.559469</td>\n",
       "      <td>1961</td>\n",
       "      <td>6.464227</td>\n",
       "      <td>8.392186</td>\n",
       "      <td>0.588177</td>\n",
       "      <td>17.906302</td>\n",
       "      <td>9.035773</td>\n",
       "      <td>0</td>\n",
       "      <td>41.811309</td>\n",
       "      <td>23.905007</td>\n",
       "    </tr>\n",
       "    <tr>\n",
       "      <th>4</th>\n",
       "      <td>1961-12-05</td>\n",
       "      <td>276.771560</td>\n",
       "      <td>3.621560</td>\n",
       "      <td>11.786189</td>\n",
       "      <td>17.461881</td>\n",
       "      <td>0.796565</td>\n",
       "      <td>1961</td>\n",
       "      <td>5.830022</td>\n",
       "      <td>12.098535</td>\n",
       "      <td>0.825273</td>\n",
       "      <td>25.124372</td>\n",
       "      <td>9.669978</td>\n",
       "      <td>0</td>\n",
       "      <td>42.285446</td>\n",
       "      <td>17.161074</td>\n",
       "    </tr>\n",
       "  </tbody>\n",
       "</table>\n",
       "</div>"
      ],
      "text/plain": [
       "         time    data_tas    data_c  data_sfcWind  data_wp_generation  \\\n",
       "0  1961-12-01  278.569544  5.419544      7.573910            9.074235   \n",
       "1  1961-12-02  275.647926  2.497926      8.598442           13.568653   \n",
       "2  1961-12-03  273.728248  0.578248      6.730659            5.470028   \n",
       "3  1961-12-04  277.405764  4.255764      8.079840           12.264395   \n",
       "4  1961-12-05  276.771560  3.621560     11.786189           17.461881   \n",
       "\n",
       "   combined_cfs  effective_dec_year  data_c_dt  data_sfcWind_dt  \\\n",
       "0      0.413943                1961   7.628006         7.886256   \n",
       "1      0.618966                1961   4.706388         8.910788   \n",
       "2      0.249528                1961   2.786711         7.043005   \n",
       "3      0.559469                1961   6.464227         8.392186   \n",
       "4      0.796565                1961   5.830022        12.098535   \n",
       "\n",
       "   combined_cfs_dt  total_gen        hdd  cdd  data_c_dt_UK_demand  \\\n",
       "0         0.442651  13.475930   7.871994    0            40.941258   \n",
       "1         0.647674  19.717606  10.793612    0            43.125484   \n",
       "2         0.278236   8.470544  12.713289    0            44.560652   \n",
       "3         0.588177  17.906302   9.035773    0            41.811309   \n",
       "4         0.825273  25.124372   9.669978    0            42.285446   \n",
       "\n",
       "   demand_net_wind  \n",
       "0        27.465327  \n",
       "1        23.407879  \n",
       "2        36.090108  \n",
       "3        23.905007  \n",
       "4        17.161074  "
      ]
     },
     "execution_count": 4,
     "metadata": {},
     "output_type": "execute_result"
    }
   ],
   "source": [
    "obs_df.head()"
   ]
  },
  {
   "cell_type": "code",
   "execution_count": 5,
   "id": "cbb76ee7",
   "metadata": {},
   "outputs": [
    {
     "name": "stdout",
     "output_type": "stream",
     "text": [
      "Shape of obs_df_1961: (90, 15)\n"
     ]
    }
   ],
   "source": [
    "# --------------\n",
    "# Subset the obs df to effective dec year 1961\n",
    "# --------------\n",
    "\n",
    "obs_df_1961 = obs_df[obs_df['effective_dec_year'] == 1961]\n",
    "\n",
    "# Print the shape of the subsetted df\n",
    "print(f\"Shape of obs_df_1961: {obs_df_1961.shape}\")"
   ]
  },
  {
   "cell_type": "code",
   "execution_count": 7,
   "id": "5753996c",
   "metadata": {},
   "outputs": [
    {
     "name": "stdout",
     "output_type": "stream",
     "text": [
      "Dates:  [cftime.datetime(1961, 12, 1, 0, 0, 0, 0, calendar='standard', has_year_zero=False), cftime.datetime(1961, 12, 2, 0, 0, 0, 0, calendar='standard', has_year_zero=False), cftime.datetime(1961, 12, 3, 0, 0, 0, 0, calendar='standard', has_year_zero=False), cftime.datetime(1961, 12, 4, 0, 0, 0, 0, calendar='standard', has_year_zero=False), cftime.datetime(1961, 12, 5, 0, 0, 0, 0, calendar='standard', has_year_zero=False), cftime.datetime(1961, 12, 6, 0, 0, 0, 0, calendar='standard', has_year_zero=False), cftime.datetime(1961, 12, 7, 0, 0, 0, 0, calendar='standard', has_year_zero=False), cftime.datetime(1961, 12, 8, 0, 0, 0, 0, calendar='standard', has_year_zero=False), cftime.datetime(1961, 12, 9, 0, 0, 0, 0, calendar='standard', has_year_zero=False), cftime.datetime(1961, 12, 10, 0, 0, 0, 0, calendar='standard', has_year_zero=False), cftime.datetime(1961, 12, 11, 0, 0, 0, 0, calendar='standard', has_year_zero=False), cftime.datetime(1961, 12, 12, 0, 0, 0, 0, calendar='standard', has_year_zero=False), cftime.datetime(1961, 12, 13, 0, 0, 0, 0, calendar='standard', has_year_zero=False), cftime.datetime(1961, 12, 14, 0, 0, 0, 0, calendar='standard', has_year_zero=False), cftime.datetime(1961, 12, 15, 0, 0, 0, 0, calendar='standard', has_year_zero=False), cftime.datetime(1961, 12, 16, 0, 0, 0, 0, calendar='standard', has_year_zero=False), cftime.datetime(1961, 12, 17, 0, 0, 0, 0, calendar='standard', has_year_zero=False), cftime.datetime(1961, 12, 18, 0, 0, 0, 0, calendar='standard', has_year_zero=False), cftime.datetime(1961, 12, 19, 0, 0, 0, 0, calendar='standard', has_year_zero=False), cftime.datetime(1961, 12, 20, 0, 0, 0, 0, calendar='standard', has_year_zero=False), cftime.datetime(1961, 12, 21, 0, 0, 0, 0, calendar='standard', has_year_zero=False), cftime.datetime(1961, 12, 22, 0, 0, 0, 0, calendar='standard', has_year_zero=False), cftime.datetime(1961, 12, 23, 0, 0, 0, 0, calendar='standard', has_year_zero=False), cftime.datetime(1961, 12, 24, 0, 0, 0, 0, calendar='standard', has_year_zero=False), cftime.datetime(1961, 12, 25, 0, 0, 0, 0, calendar='standard', has_year_zero=False), cftime.datetime(1961, 12, 26, 0, 0, 0, 0, calendar='standard', has_year_zero=False), cftime.datetime(1961, 12, 27, 0, 0, 0, 0, calendar='standard', has_year_zero=False), cftime.datetime(1961, 12, 28, 0, 0, 0, 0, calendar='standard', has_year_zero=False), cftime.datetime(1961, 12, 29, 0, 0, 0, 0, calendar='standard', has_year_zero=False), cftime.datetime(1961, 12, 30, 0, 0, 0, 0, calendar='standard', has_year_zero=False), cftime.datetime(1961, 12, 31, 0, 0, 0, 0, calendar='standard', has_year_zero=False), cftime.datetime(1962, 1, 1, 0, 0, 0, 0, calendar='standard', has_year_zero=False), cftime.datetime(1962, 1, 2, 0, 0, 0, 0, calendar='standard', has_year_zero=False), cftime.datetime(1962, 1, 3, 0, 0, 0, 0, calendar='standard', has_year_zero=False), cftime.datetime(1962, 1, 4, 0, 0, 0, 0, calendar='standard', has_year_zero=False), cftime.datetime(1962, 1, 5, 0, 0, 0, 0, calendar='standard', has_year_zero=False), cftime.datetime(1962, 1, 6, 0, 0, 0, 0, calendar='standard', has_year_zero=False), cftime.datetime(1962, 1, 7, 0, 0, 0, 0, calendar='standard', has_year_zero=False), cftime.datetime(1962, 1, 8, 0, 0, 0, 0, calendar='standard', has_year_zero=False), cftime.datetime(1962, 1, 9, 0, 0, 0, 0, calendar='standard', has_year_zero=False), cftime.datetime(1962, 1, 10, 0, 0, 0, 0, calendar='standard', has_year_zero=False), cftime.datetime(1962, 1, 11, 0, 0, 0, 0, calendar='standard', has_year_zero=False), cftime.datetime(1962, 1, 12, 0, 0, 0, 0, calendar='standard', has_year_zero=False), cftime.datetime(1962, 1, 13, 0, 0, 0, 0, calendar='standard', has_year_zero=False), cftime.datetime(1962, 1, 14, 0, 0, 0, 0, calendar='standard', has_year_zero=False), cftime.datetime(1962, 1, 15, 0, 0, 0, 0, calendar='standard', has_year_zero=False), cftime.datetime(1962, 1, 16, 0, 0, 0, 0, calendar='standard', has_year_zero=False), cftime.datetime(1962, 1, 17, 0, 0, 0, 0, calendar='standard', has_year_zero=False), cftime.datetime(1962, 1, 18, 0, 0, 0, 0, calendar='standard', has_year_zero=False), cftime.datetime(1962, 1, 19, 0, 0, 0, 0, calendar='standard', has_year_zero=False), cftime.datetime(1962, 1, 20, 0, 0, 0, 0, calendar='standard', has_year_zero=False), cftime.datetime(1962, 1, 21, 0, 0, 0, 0, calendar='standard', has_year_zero=False), cftime.datetime(1962, 1, 22, 0, 0, 0, 0, calendar='standard', has_year_zero=False), cftime.datetime(1962, 1, 23, 0, 0, 0, 0, calendar='standard', has_year_zero=False), cftime.datetime(1962, 1, 24, 0, 0, 0, 0, calendar='standard', has_year_zero=False), cftime.datetime(1962, 1, 25, 0, 0, 0, 0, calendar='standard', has_year_zero=False), cftime.datetime(1962, 1, 26, 0, 0, 0, 0, calendar='standard', has_year_zero=False), cftime.datetime(1962, 1, 27, 0, 0, 0, 0, calendar='standard', has_year_zero=False), cftime.datetime(1962, 1, 28, 0, 0, 0, 0, calendar='standard', has_year_zero=False), cftime.datetime(1962, 1, 29, 0, 0, 0, 0, calendar='standard', has_year_zero=False), cftime.datetime(1962, 1, 30, 0, 0, 0, 0, calendar='standard', has_year_zero=False), cftime.datetime(1962, 1, 31, 0, 0, 0, 0, calendar='standard', has_year_zero=False), cftime.datetime(1962, 2, 1, 0, 0, 0, 0, calendar='standard', has_year_zero=False), cftime.datetime(1962, 2, 2, 0, 0, 0, 0, calendar='standard', has_year_zero=False), cftime.datetime(1962, 2, 3, 0, 0, 0, 0, calendar='standard', has_year_zero=False), cftime.datetime(1962, 2, 4, 0, 0, 0, 0, calendar='standard', has_year_zero=False), cftime.datetime(1962, 2, 5, 0, 0, 0, 0, calendar='standard', has_year_zero=False), cftime.datetime(1962, 2, 6, 0, 0, 0, 0, calendar='standard', has_year_zero=False), cftime.datetime(1962, 2, 7, 0, 0, 0, 0, calendar='standard', has_year_zero=False), cftime.datetime(1962, 2, 8, 0, 0, 0, 0, calendar='standard', has_year_zero=False), cftime.datetime(1962, 2, 9, 0, 0, 0, 0, calendar='standard', has_year_zero=False), cftime.datetime(1962, 2, 10, 0, 0, 0, 0, calendar='standard', has_year_zero=False), cftime.datetime(1962, 2, 11, 0, 0, 0, 0, calendar='standard', has_year_zero=False), cftime.datetime(1962, 2, 12, 0, 0, 0, 0, calendar='standard', has_year_zero=False), cftime.datetime(1962, 2, 13, 0, 0, 0, 0, calendar='standard', has_year_zero=False), cftime.datetime(1962, 2, 14, 0, 0, 0, 0, calendar='standard', has_year_zero=False), cftime.datetime(1962, 2, 15, 0, 0, 0, 0, calendar='standard', has_year_zero=False), cftime.datetime(1962, 2, 16, 0, 0, 0, 0, calendar='standard', has_year_zero=False), cftime.datetime(1962, 2, 17, 0, 0, 0, 0, calendar='standard', has_year_zero=False), cftime.datetime(1962, 2, 18, 0, 0, 0, 0, calendar='standard', has_year_zero=False), cftime.datetime(1962, 2, 19, 0, 0, 0, 0, calendar='standard', has_year_zero=False), cftime.datetime(1962, 2, 20, 0, 0, 0, 0, calendar='standard', has_year_zero=False), cftime.datetime(1962, 2, 21, 0, 0, 0, 0, calendar='standard', has_year_zero=False), cftime.datetime(1962, 2, 22, 0, 0, 0, 0, calendar='standard', has_year_zero=False), cftime.datetime(1962, 2, 23, 0, 0, 0, 0, calendar='standard', has_year_zero=False), cftime.datetime(1962, 2, 24, 0, 0, 0, 0, calendar='standard', has_year_zero=False), cftime.datetime(1962, 2, 25, 0, 0, 0, 0, calendar='standard', has_year_zero=False), cftime.datetime(1962, 2, 26, 0, 0, 0, 0, calendar='standard', has_year_zero=False), cftime.datetime(1962, 2, 27, 0, 0, 0, 0, calendar='standard', has_year_zero=False), cftime.datetime(1962, 2, 28, 0, 0, 0, 0, calendar='standard', has_year_zero=False)]\n",
      "--------------------------------\n",
      "Shape of data arr detrended: (90, 90, 96)\n",
      "--------------------------------\n"
     ]
    },
    {
     "name": "stderr",
     "output_type": "stream",
     "text": [
      "Loading data: 90it [00:00, 591.20it/s]"
     ]
    },
    {
     "name": "stdout",
     "output_type": "stream",
     "text": [
      "Dates:  [cftime.datetime(1961, 12, 1, 0, 0, 0, 0, calendar='standard', has_year_zero=False), cftime.datetime(1961, 12, 2, 0, 0, 0, 0, calendar='standard', has_year_zero=False), cftime.datetime(1961, 12, 3, 0, 0, 0, 0, calendar='standard', has_year_zero=False), cftime.datetime(1961, 12, 4, 0, 0, 0, 0, calendar='standard', has_year_zero=False), cftime.datetime(1961, 12, 5, 0, 0, 0, 0, calendar='standard', has_year_zero=False), cftime.datetime(1961, 12, 6, 0, 0, 0, 0, calendar='standard', has_year_zero=False), cftime.datetime(1961, 12, 7, 0, 0, 0, 0, calendar='standard', has_year_zero=False), cftime.datetime(1961, 12, 8, 0, 0, 0, 0, calendar='standard', has_year_zero=False), cftime.datetime(1961, 12, 9, 0, 0, 0, 0, calendar='standard', has_year_zero=False), cftime.datetime(1961, 12, 10, 0, 0, 0, 0, calendar='standard', has_year_zero=False), cftime.datetime(1961, 12, 11, 0, 0, 0, 0, calendar='standard', has_year_zero=False), cftime.datetime(1961, 12, 12, 0, 0, 0, 0, calendar='standard', has_year_zero=False), cftime.datetime(1961, 12, 13, 0, 0, 0, 0, calendar='standard', has_year_zero=False), cftime.datetime(1961, 12, 14, 0, 0, 0, 0, calendar='standard', has_year_zero=False), cftime.datetime(1961, 12, 15, 0, 0, 0, 0, calendar='standard', has_year_zero=False), cftime.datetime(1961, 12, 16, 0, 0, 0, 0, calendar='standard', has_year_zero=False), cftime.datetime(1961, 12, 17, 0, 0, 0, 0, calendar='standard', has_year_zero=False), cftime.datetime(1961, 12, 18, 0, 0, 0, 0, calendar='standard', has_year_zero=False), cftime.datetime(1961, 12, 19, 0, 0, 0, 0, calendar='standard', has_year_zero=False), cftime.datetime(1961, 12, 20, 0, 0, 0, 0, calendar='standard', has_year_zero=False), cftime.datetime(1961, 12, 21, 0, 0, 0, 0, calendar='standard', has_year_zero=False), cftime.datetime(1961, 12, 22, 0, 0, 0, 0, calendar='standard', has_year_zero=False), cftime.datetime(1961, 12, 23, 0, 0, 0, 0, calendar='standard', has_year_zero=False), cftime.datetime(1961, 12, 24, 0, 0, 0, 0, calendar='standard', has_year_zero=False), cftime.datetime(1961, 12, 25, 0, 0, 0, 0, calendar='standard', has_year_zero=False), cftime.datetime(1961, 12, 26, 0, 0, 0, 0, calendar='standard', has_year_zero=False), cftime.datetime(1961, 12, 27, 0, 0, 0, 0, calendar='standard', has_year_zero=False), cftime.datetime(1961, 12, 28, 0, 0, 0, 0, calendar='standard', has_year_zero=False), cftime.datetime(1961, 12, 29, 0, 0, 0, 0, calendar='standard', has_year_zero=False), cftime.datetime(1961, 12, 30, 0, 0, 0, 0, calendar='standard', has_year_zero=False), cftime.datetime(1961, 12, 31, 0, 0, 0, 0, calendar='standard', has_year_zero=False), cftime.datetime(1962, 1, 1, 0, 0, 0, 0, calendar='standard', has_year_zero=False), cftime.datetime(1962, 1, 2, 0, 0, 0, 0, calendar='standard', has_year_zero=False), cftime.datetime(1962, 1, 3, 0, 0, 0, 0, calendar='standard', has_year_zero=False), cftime.datetime(1962, 1, 4, 0, 0, 0, 0, calendar='standard', has_year_zero=False), cftime.datetime(1962, 1, 5, 0, 0, 0, 0, calendar='standard', has_year_zero=False), cftime.datetime(1962, 1, 6, 0, 0, 0, 0, calendar='standard', has_year_zero=False), cftime.datetime(1962, 1, 7, 0, 0, 0, 0, calendar='standard', has_year_zero=False), cftime.datetime(1962, 1, 8, 0, 0, 0, 0, calendar='standard', has_year_zero=False), cftime.datetime(1962, 1, 9, 0, 0, 0, 0, calendar='standard', has_year_zero=False), cftime.datetime(1962, 1, 10, 0, 0, 0, 0, calendar='standard', has_year_zero=False), cftime.datetime(1962, 1, 11, 0, 0, 0, 0, calendar='standard', has_year_zero=False), cftime.datetime(1962, 1, 12, 0, 0, 0, 0, calendar='standard', has_year_zero=False), cftime.datetime(1962, 1, 13, 0, 0, 0, 0, calendar='standard', has_year_zero=False), cftime.datetime(1962, 1, 14, 0, 0, 0, 0, calendar='standard', has_year_zero=False), cftime.datetime(1962, 1, 15, 0, 0, 0, 0, calendar='standard', has_year_zero=False), cftime.datetime(1962, 1, 16, 0, 0, 0, 0, calendar='standard', has_year_zero=False), cftime.datetime(1962, 1, 17, 0, 0, 0, 0, calendar='standard', has_year_zero=False), cftime.datetime(1962, 1, 18, 0, 0, 0, 0, calendar='standard', has_year_zero=False), cftime.datetime(1962, 1, 19, 0, 0, 0, 0, calendar='standard', has_year_zero=False), cftime.datetime(1962, 1, 20, 0, 0, 0, 0, calendar='standard', has_year_zero=False), cftime.datetime(1962, 1, 21, 0, 0, 0, 0, calendar='standard', has_year_zero=False), cftime.datetime(1962, 1, 22, 0, 0, 0, 0, calendar='standard', has_year_zero=False), cftime.datetime(1962, 1, 23, 0, 0, 0, 0, calendar='standard', has_year_zero=False), cftime.datetime(1962, 1, 24, 0, 0, 0, 0, calendar='standard', has_year_zero=False), cftime.datetime(1962, 1, 25, 0, 0, 0, 0, calendar='standard', has_year_zero=False), cftime.datetime(1962, 1, 26, 0, 0, 0, 0, calendar='standard', has_year_zero=False), cftime.datetime(1962, 1, 27, 0, 0, 0, 0, calendar='standard', has_year_zero=False), cftime.datetime(1962, 1, 28, 0, 0, 0, 0, calendar='standard', has_year_zero=False), cftime.datetime(1962, 1, 29, 0, 0, 0, 0, calendar='standard', has_year_zero=False), cftime.datetime(1962, 1, 30, 0, 0, 0, 0, calendar='standard', has_year_zero=False), cftime.datetime(1962, 1, 31, 0, 0, 0, 0, calendar='standard', has_year_zero=False), cftime.datetime(1962, 2, 1, 0, 0, 0, 0, calendar='standard', has_year_zero=False), cftime.datetime(1962, 2, 2, 0, 0, 0, 0, calendar='standard', has_year_zero=False), cftime.datetime(1962, 2, 3, 0, 0, 0, 0, calendar='standard', has_year_zero=False), cftime.datetime(1962, 2, 4, 0, 0, 0, 0, calendar='standard', has_year_zero=False), cftime.datetime(1962, 2, 5, 0, 0, 0, 0, calendar='standard', has_year_zero=False), cftime.datetime(1962, 2, 6, 0, 0, 0, 0, calendar='standard', has_year_zero=False), cftime.datetime(1962, 2, 7, 0, 0, 0, 0, calendar='standard', has_year_zero=False), cftime.datetime(1962, 2, 8, 0, 0, 0, 0, calendar='standard', has_year_zero=False), cftime.datetime(1962, 2, 9, 0, 0, 0, 0, calendar='standard', has_year_zero=False), cftime.datetime(1962, 2, 10, 0, 0, 0, 0, calendar='standard', has_year_zero=False), cftime.datetime(1962, 2, 11, 0, 0, 0, 0, calendar='standard', has_year_zero=False), cftime.datetime(1962, 2, 12, 0, 0, 0, 0, calendar='standard', has_year_zero=False), cftime.datetime(1962, 2, 13, 0, 0, 0, 0, calendar='standard', has_year_zero=False), cftime.datetime(1962, 2, 14, 0, 0, 0, 0, calendar='standard', has_year_zero=False), cftime.datetime(1962, 2, 15, 0, 0, 0, 0, calendar='standard', has_year_zero=False), cftime.datetime(1962, 2, 16, 0, 0, 0, 0, calendar='standard', has_year_zero=False), cftime.datetime(1962, 2, 17, 0, 0, 0, 0, calendar='standard', has_year_zero=False), cftime.datetime(1962, 2, 18, 0, 0, 0, 0, calendar='standard', has_year_zero=False), cftime.datetime(1962, 2, 19, 0, 0, 0, 0, calendar='standard', has_year_zero=False), cftime.datetime(1962, 2, 20, 0, 0, 0, 0, calendar='standard', has_year_zero=False), cftime.datetime(1962, 2, 21, 0, 0, 0, 0, calendar='standard', has_year_zero=False), cftime.datetime(1962, 2, 22, 0, 0, 0, 0, calendar='standard', has_year_zero=False), cftime.datetime(1962, 2, 23, 0, 0, 0, 0, calendar='standard', has_year_zero=False), cftime.datetime(1962, 2, 24, 0, 0, 0, 0, calendar='standard', has_year_zero=False), cftime.datetime(1962, 2, 25, 0, 0, 0, 0, calendar='standard', has_year_zero=False), cftime.datetime(1962, 2, 26, 0, 0, 0, 0, calendar='standard', has_year_zero=False), cftime.datetime(1962, 2, 27, 0, 0, 0, 0, calendar='standard', has_year_zero=False), cftime.datetime(1962, 2, 28, 0, 0, 0, 0, calendar='standard', has_year_zero=False)]\n"
     ]
    },
    {
     "name": "stderr",
     "output_type": "stream",
     "text": [
      "\n"
     ]
    },
    {
     "name": "stdout",
     "output_type": "stream",
     "text": [
      "--------------------------------\n",
      "Shape of data arr detrended: (65, 63, 49)\n",
      "--------------------------------\n"
     ]
    },
    {
     "name": "stderr",
     "output_type": "stream",
     "text": [
      "Loading data: 90it [02:01,  1.35s/it]\n"
     ]
    },
    {
     "name": "stdout",
     "output_type": "stream",
     "text": [
      "Dates:  [cftime.datetime(1961, 12, 1, 0, 0, 0, 0, calendar='standard', has_year_zero=False), cftime.datetime(1961, 12, 2, 0, 0, 0, 0, calendar='standard', has_year_zero=False), cftime.datetime(1961, 12, 3, 0, 0, 0, 0, calendar='standard', has_year_zero=False), cftime.datetime(1961, 12, 4, 0, 0, 0, 0, calendar='standard', has_year_zero=False), cftime.datetime(1961, 12, 5, 0, 0, 0, 0, calendar='standard', has_year_zero=False), cftime.datetime(1961, 12, 6, 0, 0, 0, 0, calendar='standard', has_year_zero=False), cftime.datetime(1961, 12, 7, 0, 0, 0, 0, calendar='standard', has_year_zero=False), cftime.datetime(1961, 12, 8, 0, 0, 0, 0, calendar='standard', has_year_zero=False), cftime.datetime(1961, 12, 9, 0, 0, 0, 0, calendar='standard', has_year_zero=False), cftime.datetime(1961, 12, 10, 0, 0, 0, 0, calendar='standard', has_year_zero=False), cftime.datetime(1961, 12, 11, 0, 0, 0, 0, calendar='standard', has_year_zero=False), cftime.datetime(1961, 12, 12, 0, 0, 0, 0, calendar='standard', has_year_zero=False), cftime.datetime(1961, 12, 13, 0, 0, 0, 0, calendar='standard', has_year_zero=False), cftime.datetime(1961, 12, 14, 0, 0, 0, 0, calendar='standard', has_year_zero=False), cftime.datetime(1961, 12, 15, 0, 0, 0, 0, calendar='standard', has_year_zero=False), cftime.datetime(1961, 12, 16, 0, 0, 0, 0, calendar='standard', has_year_zero=False), cftime.datetime(1961, 12, 17, 0, 0, 0, 0, calendar='standard', has_year_zero=False), cftime.datetime(1961, 12, 18, 0, 0, 0, 0, calendar='standard', has_year_zero=False), cftime.datetime(1961, 12, 19, 0, 0, 0, 0, calendar='standard', has_year_zero=False), cftime.datetime(1961, 12, 20, 0, 0, 0, 0, calendar='standard', has_year_zero=False), cftime.datetime(1961, 12, 21, 0, 0, 0, 0, calendar='standard', has_year_zero=False), cftime.datetime(1961, 12, 22, 0, 0, 0, 0, calendar='standard', has_year_zero=False), cftime.datetime(1961, 12, 23, 0, 0, 0, 0, calendar='standard', has_year_zero=False), cftime.datetime(1961, 12, 24, 0, 0, 0, 0, calendar='standard', has_year_zero=False), cftime.datetime(1961, 12, 25, 0, 0, 0, 0, calendar='standard', has_year_zero=False), cftime.datetime(1961, 12, 26, 0, 0, 0, 0, calendar='standard', has_year_zero=False), cftime.datetime(1961, 12, 27, 0, 0, 0, 0, calendar='standard', has_year_zero=False), cftime.datetime(1961, 12, 28, 0, 0, 0, 0, calendar='standard', has_year_zero=False), cftime.datetime(1961, 12, 29, 0, 0, 0, 0, calendar='standard', has_year_zero=False), cftime.datetime(1961, 12, 30, 0, 0, 0, 0, calendar='standard', has_year_zero=False), cftime.datetime(1961, 12, 31, 0, 0, 0, 0, calendar='standard', has_year_zero=False), cftime.datetime(1962, 1, 1, 0, 0, 0, 0, calendar='standard', has_year_zero=False), cftime.datetime(1962, 1, 2, 0, 0, 0, 0, calendar='standard', has_year_zero=False), cftime.datetime(1962, 1, 3, 0, 0, 0, 0, calendar='standard', has_year_zero=False), cftime.datetime(1962, 1, 4, 0, 0, 0, 0, calendar='standard', has_year_zero=False), cftime.datetime(1962, 1, 5, 0, 0, 0, 0, calendar='standard', has_year_zero=False), cftime.datetime(1962, 1, 6, 0, 0, 0, 0, calendar='standard', has_year_zero=False), cftime.datetime(1962, 1, 7, 0, 0, 0, 0, calendar='standard', has_year_zero=False), cftime.datetime(1962, 1, 8, 0, 0, 0, 0, calendar='standard', has_year_zero=False), cftime.datetime(1962, 1, 9, 0, 0, 0, 0, calendar='standard', has_year_zero=False), cftime.datetime(1962, 1, 10, 0, 0, 0, 0, calendar='standard', has_year_zero=False), cftime.datetime(1962, 1, 11, 0, 0, 0, 0, calendar='standard', has_year_zero=False), cftime.datetime(1962, 1, 12, 0, 0, 0, 0, calendar='standard', has_year_zero=False), cftime.datetime(1962, 1, 13, 0, 0, 0, 0, calendar='standard', has_year_zero=False), cftime.datetime(1962, 1, 14, 0, 0, 0, 0, calendar='standard', has_year_zero=False), cftime.datetime(1962, 1, 15, 0, 0, 0, 0, calendar='standard', has_year_zero=False), cftime.datetime(1962, 1, 16, 0, 0, 0, 0, calendar='standard', has_year_zero=False), cftime.datetime(1962, 1, 17, 0, 0, 0, 0, calendar='standard', has_year_zero=False), cftime.datetime(1962, 1, 18, 0, 0, 0, 0, calendar='standard', has_year_zero=False), cftime.datetime(1962, 1, 19, 0, 0, 0, 0, calendar='standard', has_year_zero=False), cftime.datetime(1962, 1, 20, 0, 0, 0, 0, calendar='standard', has_year_zero=False), cftime.datetime(1962, 1, 21, 0, 0, 0, 0, calendar='standard', has_year_zero=False), cftime.datetime(1962, 1, 22, 0, 0, 0, 0, calendar='standard', has_year_zero=False), cftime.datetime(1962, 1, 23, 0, 0, 0, 0, calendar='standard', has_year_zero=False), cftime.datetime(1962, 1, 24, 0, 0, 0, 0, calendar='standard', has_year_zero=False), cftime.datetime(1962, 1, 25, 0, 0, 0, 0, calendar='standard', has_year_zero=False), cftime.datetime(1962, 1, 26, 0, 0, 0, 0, calendar='standard', has_year_zero=False), cftime.datetime(1962, 1, 27, 0, 0, 0, 0, calendar='standard', has_year_zero=False), cftime.datetime(1962, 1, 28, 0, 0, 0, 0, calendar='standard', has_year_zero=False), cftime.datetime(1962, 1, 29, 0, 0, 0, 0, calendar='standard', has_year_zero=False), cftime.datetime(1962, 1, 30, 0, 0, 0, 0, calendar='standard', has_year_zero=False), cftime.datetime(1962, 1, 31, 0, 0, 0, 0, calendar='standard', has_year_zero=False), cftime.datetime(1962, 2, 1, 0, 0, 0, 0, calendar='standard', has_year_zero=False), cftime.datetime(1962, 2, 2, 0, 0, 0, 0, calendar='standard', has_year_zero=False), cftime.datetime(1962, 2, 3, 0, 0, 0, 0, calendar='standard', has_year_zero=False), cftime.datetime(1962, 2, 4, 0, 0, 0, 0, calendar='standard', has_year_zero=False), cftime.datetime(1962, 2, 5, 0, 0, 0, 0, calendar='standard', has_year_zero=False), cftime.datetime(1962, 2, 6, 0, 0, 0, 0, calendar='standard', has_year_zero=False), cftime.datetime(1962, 2, 7, 0, 0, 0, 0, calendar='standard', has_year_zero=False), cftime.datetime(1962, 2, 8, 0, 0, 0, 0, calendar='standard', has_year_zero=False), cftime.datetime(1962, 2, 9, 0, 0, 0, 0, calendar='standard', has_year_zero=False), cftime.datetime(1962, 2, 10, 0, 0, 0, 0, calendar='standard', has_year_zero=False), cftime.datetime(1962, 2, 11, 0, 0, 0, 0, calendar='standard', has_year_zero=False), cftime.datetime(1962, 2, 12, 0, 0, 0, 0, calendar='standard', has_year_zero=False), cftime.datetime(1962, 2, 13, 0, 0, 0, 0, calendar='standard', has_year_zero=False), cftime.datetime(1962, 2, 14, 0, 0, 0, 0, calendar='standard', has_year_zero=False), cftime.datetime(1962, 2, 15, 0, 0, 0, 0, calendar='standard', has_year_zero=False), cftime.datetime(1962, 2, 16, 0, 0, 0, 0, calendar='standard', has_year_zero=False), cftime.datetime(1962, 2, 17, 0, 0, 0, 0, calendar='standard', has_year_zero=False), cftime.datetime(1962, 2, 18, 0, 0, 0, 0, calendar='standard', has_year_zero=False), cftime.datetime(1962, 2, 19, 0, 0, 0, 0, calendar='standard', has_year_zero=False), cftime.datetime(1962, 2, 20, 0, 0, 0, 0, calendar='standard', has_year_zero=False), cftime.datetime(1962, 2, 21, 0, 0, 0, 0, calendar='standard', has_year_zero=False), cftime.datetime(1962, 2, 22, 0, 0, 0, 0, calendar='standard', has_year_zero=False), cftime.datetime(1962, 2, 23, 0, 0, 0, 0, calendar='standard', has_year_zero=False), cftime.datetime(1962, 2, 24, 0, 0, 0, 0, calendar='standard', has_year_zero=False), cftime.datetime(1962, 2, 25, 0, 0, 0, 0, calendar='standard', has_year_zero=False), cftime.datetime(1962, 2, 26, 0, 0, 0, 0, calendar='standard', has_year_zero=False), cftime.datetime(1962, 2, 27, 0, 0, 0, 0, calendar='standard', has_year_zero=False), cftime.datetime(1962, 2, 28, 0, 0, 0, 0, calendar='standard', has_year_zero=False)]\n",
      "--------------------------------\n",
      "Shape of data arr detrended: (90, 63, 49)\n",
      "--------------------------------\n"
     ]
    },
    {
     "name": "stderr",
     "output_type": "stream",
     "text": [
      "Loading data: 90it [00:00, 618.88it/s]"
     ]
    },
    {
     "name": "stdout",
     "output_type": "stream",
     "text": [
      "CPU times: user 2min, sys: 620 ms, total: 2min\n",
      "Wall time: 2min 2s\n"
     ]
    },
    {
     "name": "stderr",
     "output_type": "stream",
     "text": [
      "\n"
     ]
    }
   ],
   "source": [
    "%%time\n",
    "\n",
    "# -----------------\n",
    "# Extract the obs data specifically for this winter\n",
    "# For psl, tas, and wind\n",
    "# -----------------\n",
    "\n",
    "psl_arr_1961, psl_dates_list_1961 = extract_obs_data(\n",
    "    obs_df=obs_df_1961,\n",
    "    variable='psl',\n",
    "    region='NA',\n",
    "    time_freq='day',\n",
    "    season='DJF',\n",
    "    lat_shape=90,\n",
    "    lon_shape=96,\n",
    "    arrs_dir=\"/gws/nopw/j04/canari/users/benhutch/unseen/saved_arrs/obs/\",\n",
    "    metadata_dir=metadata_dir,\n",
    "    lats_path=os.path.join(\n",
    "    metadata_dir, \"HadGEM3-GC31-MM_psl_NA_1960_DJF_day_lats.npy\"\n",
    "    ),\n",
    "    lons_path=os.path.join(\n",
    "        metadata_dir, \"HadGEM3-GC31-MM_psl_NA_1960_DJF_day_lons.npy\"\n",
    "    ),\n",
    ")\n",
    "\n",
    "# Do the same for tas\n",
    "tas_arr_1961, tas_dates_list_1961 = extract_obs_data(\n",
    "    obs_df=obs_df_1961,\n",
    "    variable='tas',\n",
    "    region='Europe',\n",
    "    time_freq='day',\n",
    "    season='DJF',\n",
    "    lat_shape=63,\n",
    "    lon_shape=49,\n",
    "    arrs_dir=\"/gws/nopw/j04/canari/users/benhutch/unseen/saved_arrs/obs/\",\n",
    "    metadata_dir=metadata_dir,\n",
    "    lats_path=os.path.join(\n",
    "        metadata_dir, \"HadGEM3-GC31-MM_tas_Europe_1960_DJF_day_lats.npy\"\n",
    "    ),\n",
    "    lons_path=os.path.join(\n",
    "        metadata_dir, \"HadGEM3-GC31-MM_tas_Europe_1960_DJF_day_lons.npy\"\n",
    "    ),\n",
    ")\n",
    "\n",
    "# Do the same for wind\n",
    "wind_arr_1961, wind_dates_list_1961 = extract_obs_data(\n",
    "    obs_df=obs_df_1961,\n",
    "    variable='sfcWind',\n",
    "    region='Europe',\n",
    "    time_freq='day',\n",
    "    season='DJF',\n",
    "    lat_shape=63,\n",
    "    lon_shape=49,\n",
    "    arrs_dir=\"/gws/nopw/j04/canari/users/benhutch/unseen/saved_arrs/obs/\",\n",
    "    metadata_dir=metadata_dir,\n",
    "    lats_path=os.path.join(\n",
    "        metadata_dir, \"HadGEM3-GC31-MM_sfcWind_Europe_1960_DJF_day_lats.npy\"\n",
    "    ),\n",
    "    lons_path=os.path.join(\n",
    "        metadata_dir, \"HadGEM3-GC31-MM_sfcWind_Europe_1960_DJF_day_lons.npy\"\n",
    "    ),\n",
    ")"
   ]
  }
 ],
 "metadata": {
  "kernelspec": {
   "display_name": "Python (bens-conda-env2)",
   "language": "python",
   "name": "bens-conda-env2"
  },
  "language_info": {
   "codemirror_mode": {
    "name": "ipython",
    "version": 3
   },
   "file_extension": ".py",
   "mimetype": "text/x-python",
   "name": "python",
   "nbconvert_exporter": "python",
   "pygments_lexer": "ipython3",
   "version": "3.11.10"
  }
 },
 "nbformat": 4,
 "nbformat_minor": 5
}
