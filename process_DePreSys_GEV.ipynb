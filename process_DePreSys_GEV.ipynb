{
 "cells": [
  {
   "cell_type": "markdown",
   "metadata": {},
   "source": [
    "### Daily extremes via GEV fitting ###\n",
    "\n",
    "Fitting GEV's to the time series of block minima/maxima from the model and observations.\n",
    "\n",
    "Start with temperature over the UK, as we are happy with how this is processed.\n",
    "\n",
    "Next look at 10m wind speed for the GB box."
   ]
  }
 ],
 "metadata": {
  "language_info": {
   "name": "python"
  }
 },
 "nbformat": 4,
 "nbformat_minor": 2
}
