{
 "cells": [
  {
   "cell_type": "markdown",
   "metadata": {},
   "source": [
    "## Comparing Demand ##\n",
    "\n",
    "we have two demand datasets:\n",
    "\n",
    "1. Obs data from ERA5 conversion\n",
    "2. Model data (first NDJFMAMJJASO) from HadGEM3-GC31-MM conversion\n",
    "\n",
    "We want to compare the model demand data to the obs demand data to see how similar/different these are and visually assess whether we are getting similar(-ish) values. "
   ]
  },
  {
   "cell_type": "code",
   "execution_count": 1,
   "metadata": {},
   "outputs": [],
   "source": [
    "# cell magic\n",
    "%load_ext autoreload\n",
    "%autoreload 2\n",
    "%matplotlib inline\n",
    "\n",
    "# Load local modules\n",
    "import os\n",
    "import sys\n",
    "import glob\n",
    "import importlib\n",
    "\n",
    "# Import external modules\n",
    "import numpy as np\n",
    "import pandas as pd\n",
    "import xarray as xr\n",
    "import matplotlib.pyplot as plt\n",
    "\n",
    "# tqdm for progress bars\n",
    "from tqdm import tqdm"
   ]
  },
  {
   "cell_type": "code",
   "execution_count": 2,
   "metadata": {},
   "outputs": [],
   "source": [
    "# Set up the global variables\n",
    "dfs_dir = \"/gws/nopw/j04/canari/users/benhutch/met_to_energy_dfs\"\n",
    "\n",
    "# model filename\n",
    "model_demand_fname = \"wd_demand_United_Kingdom_month11-10_init1960-2018.csv\"\n",
    "\n",
    "# obs filename\n",
    "obs_demand_fname = \"obs_wd_demand_1960_2019_United_Kingdom.csv\""
   ]
  },
  {
   "cell_type": "code",
   "execution_count": 3,
   "metadata": {},
   "outputs": [],
   "source": [
    "# load the model data\n",
    "model_demand = pd.read_csv(os.path.join(dfs_dir, model_demand_fname))\n",
    "\n",
    "# load the obs data\n",
    "obs_demand = pd.read_csv(os.path.join(dfs_dir, obs_demand_fname))"
   ]
  },
  {
   "cell_type": "code",
   "execution_count": 4,
   "metadata": {},
   "outputs": [
    {
     "data": {
      "text/html": [
       "<div>\n",
       "<style scoped>\n",
       "    .dataframe tbody tr th:only-of-type {\n",
       "        vertical-align: middle;\n",
       "    }\n",
       "\n",
       "    .dataframe tbody tr th {\n",
       "        vertical-align: top;\n",
       "    }\n",
       "\n",
       "    .dataframe thead th {\n",
       "        text-align: right;\n",
       "    }\n",
       "</style>\n",
       "<table border=\"1\" class=\"dataframe\">\n",
       "  <thead>\n",
       "    <tr style=\"text-align: right;\">\n",
       "      <th></th>\n",
       "      <th>init</th>\n",
       "      <th>member</th>\n",
       "      <th>lead</th>\n",
       "      <th>United_Kingdom_tas</th>\n",
       "      <th>United_Kingdom_hdd</th>\n",
       "      <th>United_Kingdom_cdd</th>\n",
       "      <th>United_Kingdom_demand</th>\n",
       "    </tr>\n",
       "  </thead>\n",
       "  <tbody>\n",
       "    <tr>\n",
       "      <th>0</th>\n",
       "      <td>1960</td>\n",
       "      <td>r7i1p1f2</td>\n",
       "      <td>1</td>\n",
       "      <td>8.942216</td>\n",
       "      <td>6.557784</td>\n",
       "      <td>0.0</td>\n",
       "      <td>39.958743</td>\n",
       "    </tr>\n",
       "    <tr>\n",
       "      <th>1</th>\n",
       "      <td>1960</td>\n",
       "      <td>r7i1p1f2</td>\n",
       "      <td>2</td>\n",
       "      <td>7.611440</td>\n",
       "      <td>7.888560</td>\n",
       "      <td>0.0</td>\n",
       "      <td>40.953643</td>\n",
       "    </tr>\n",
       "    <tr>\n",
       "      <th>2</th>\n",
       "      <td>1960</td>\n",
       "      <td>r7i1p1f2</td>\n",
       "      <td>3</td>\n",
       "      <td>8.075678</td>\n",
       "      <td>7.424322</td>\n",
       "      <td>0.0</td>\n",
       "      <td>40.606574</td>\n",
       "    </tr>\n",
       "    <tr>\n",
       "      <th>3</th>\n",
       "      <td>1960</td>\n",
       "      <td>r7i1p1f2</td>\n",
       "      <td>4</td>\n",
       "      <td>7.372388</td>\n",
       "      <td>8.127612</td>\n",
       "      <td>0.0</td>\n",
       "      <td>41.132360</td>\n",
       "    </tr>\n",
       "    <tr>\n",
       "      <th>4</th>\n",
       "      <td>1960</td>\n",
       "      <td>r7i1p1f2</td>\n",
       "      <td>5</td>\n",
       "      <td>6.361683</td>\n",
       "      <td>9.138317</td>\n",
       "      <td>0.0</td>\n",
       "      <td>41.887972</td>\n",
       "    </tr>\n",
       "  </tbody>\n",
       "</table>\n",
       "</div>"
      ],
      "text/plain": [
       "   init    member  lead  United_Kingdom_tas  United_Kingdom_hdd  \\\n",
       "0  1960  r7i1p1f2     1            8.942216            6.557784   \n",
       "1  1960  r7i1p1f2     2            7.611440            7.888560   \n",
       "2  1960  r7i1p1f2     3            8.075678            7.424322   \n",
       "3  1960  r7i1p1f2     4            7.372388            8.127612   \n",
       "4  1960  r7i1p1f2     5            6.361683            9.138317   \n",
       "\n",
       "   United_Kingdom_cdd  United_Kingdom_demand  \n",
       "0                 0.0              39.958743  \n",
       "1                 0.0              40.953643  \n",
       "2                 0.0              40.606574  \n",
       "3                 0.0              41.132360  \n",
       "4                 0.0              41.887972  "
      ]
     },
     "execution_count": 4,
     "metadata": {},
     "output_type": "execute_result"
    }
   ],
   "source": [
    "model_demand.head()"
   ]
  },
  {
   "cell_type": "code",
   "execution_count": 5,
   "metadata": {},
   "outputs": [
    {
     "data": {
      "text/html": [
       "<div>\n",
       "<style scoped>\n",
       "    .dataframe tbody tr th:only-of-type {\n",
       "        vertical-align: middle;\n",
       "    }\n",
       "\n",
       "    .dataframe tbody tr th {\n",
       "        vertical-align: top;\n",
       "    }\n",
       "\n",
       "    .dataframe thead th {\n",
       "        text-align: right;\n",
       "    }\n",
       "</style>\n",
       "<table border=\"1\" class=\"dataframe\">\n",
       "  <thead>\n",
       "    <tr style=\"text-align: right;\">\n",
       "      <th></th>\n",
       "      <th>Unnamed: 0</th>\n",
       "      <th>United_Kingdom_t2m</th>\n",
       "      <th>United_Kingdom_hdd</th>\n",
       "      <th>United_Kingdom_cdd</th>\n",
       "      <th>United_Kingdom_demand</th>\n",
       "    </tr>\n",
       "  </thead>\n",
       "  <tbody>\n",
       "    <tr>\n",
       "      <th>0</th>\n",
       "      <td>1960-11-01</td>\n",
       "      <td>9.970184</td>\n",
       "      <td>5.529816</td>\n",
       "      <td>0.0</td>\n",
       "      <td>39.190225</td>\n",
       "    </tr>\n",
       "    <tr>\n",
       "      <th>1</th>\n",
       "      <td>1960-11-02</td>\n",
       "      <td>8.484436</td>\n",
       "      <td>7.015564</td>\n",
       "      <td>0.0</td>\n",
       "      <td>40.300983</td>\n",
       "    </tr>\n",
       "    <tr>\n",
       "      <th>2</th>\n",
       "      <td>1960-11-03</td>\n",
       "      <td>6.850250</td>\n",
       "      <td>8.649750</td>\n",
       "      <td>0.0</td>\n",
       "      <td>41.522715</td>\n",
       "    </tr>\n",
       "    <tr>\n",
       "      <th>3</th>\n",
       "      <td>1960-11-04</td>\n",
       "      <td>7.034576</td>\n",
       "      <td>8.465424</td>\n",
       "      <td>0.0</td>\n",
       "      <td>41.384911</td>\n",
       "    </tr>\n",
       "    <tr>\n",
       "      <th>4</th>\n",
       "      <td>1960-11-05</td>\n",
       "      <td>7.439514</td>\n",
       "      <td>8.060486</td>\n",
       "      <td>0.0</td>\n",
       "      <td>41.082176</td>\n",
       "    </tr>\n",
       "  </tbody>\n",
       "</table>\n",
       "</div>"
      ],
      "text/plain": [
       "   Unnamed: 0  United_Kingdom_t2m  United_Kingdom_hdd  United_Kingdom_cdd  \\\n",
       "0  1960-11-01            9.970184            5.529816                 0.0   \n",
       "1  1960-11-02            8.484436            7.015564                 0.0   \n",
       "2  1960-11-03            6.850250            8.649750                 0.0   \n",
       "3  1960-11-04            7.034576            8.465424                 0.0   \n",
       "4  1960-11-05            7.439514            8.060486                 0.0   \n",
       "\n",
       "   United_Kingdom_demand  \n",
       "0              39.190225  \n",
       "1              40.300983  \n",
       "2              41.522715  \n",
       "3              41.384911  \n",
       "4              41.082176  "
      ]
     },
     "execution_count": 5,
     "metadata": {},
     "output_type": "execute_result"
    }
   ],
   "source": [
    "obs_demand.head()"
   ]
  },
  {
   "cell_type": "markdown",
   "metadata": {},
   "source": [
    "### Processing data ###\n",
    "\n",
    "For comparison, we want to quantify the winter (NDJFM) mean demand for both the model data and the obs data.\n",
    "\n",
    "For the model data, this will be the average of the first 30*5=150 leads for each init year and member.\n",
    "\n",
    "For the obs data, this will be the average NDJFM for each year - e.g. for 1960 this will be the mean of Nov. 1 1960 - April 1 1961."
   ]
  },
  {
   "cell_type": "code",
   "execution_count": 6,
   "metadata": {},
   "outputs": [],
   "source": [
    "# Process the observed data\n",
    "# Convert \"Unnamed: 0\" to datetime format\n",
    "obs_demand[\"Unnamed: 0\"] = pd.to_datetime(obs_demand[\"Unnamed: 0\"])\n",
    "\n",
    "# Set the \"Unnamed: 0\" column as the index\n",
    "obs_demand.set_index(\"Unnamed: 0\", inplace=True)\n",
    "\n",
    "# remove the name of the index\n",
    "obs_demand.index.name = None\n",
    "\n",
    "# constrain to NDJFM\n",
    "obs_demand_NDJFM = obs_demand.loc[obs_demand.index.month.isin([11, 12, 1, 2, 3])]\n",
    "\n",
    "# Shift back by 3 months and take the annual mean\n",
    "obs_demand_NDJFM = obs_demand_NDJFM.shift(-3).resample(\"A\").mean()"
   ]
  },
  {
   "cell_type": "code",
   "execution_count": 7,
   "metadata": {},
   "outputs": [],
   "source": [
    "# reformat the index to just have years\n",
    "obs_demand_NDJFM.index = obs_demand_NDJFM.index.year"
   ]
  },
  {
   "cell_type": "code",
   "execution_count": 8,
   "metadata": {},
   "outputs": [
    {
     "data": {
      "text/html": [
       "<div>\n",
       "<style scoped>\n",
       "    .dataframe tbody tr th:only-of-type {\n",
       "        vertical-align: middle;\n",
       "    }\n",
       "\n",
       "    .dataframe tbody tr th {\n",
       "        vertical-align: top;\n",
       "    }\n",
       "\n",
       "    .dataframe thead th {\n",
       "        text-align: right;\n",
       "    }\n",
       "</style>\n",
       "<table border=\"1\" class=\"dataframe\">\n",
       "  <thead>\n",
       "    <tr style=\"text-align: right;\">\n",
       "      <th></th>\n",
       "      <th>United_Kingdom_t2m</th>\n",
       "      <th>United_Kingdom_hdd</th>\n",
       "      <th>United_Kingdom_cdd</th>\n",
       "      <th>United_Kingdom_demand</th>\n",
       "    </tr>\n",
       "  </thead>\n",
       "  <tbody>\n",
       "    <tr>\n",
       "      <th>1960</th>\n",
       "      <td>4.710311</td>\n",
       "      <td>10.789689</td>\n",
       "      <td>0.0</td>\n",
       "      <td>43.122552</td>\n",
       "    </tr>\n",
       "    <tr>\n",
       "      <th>1961</th>\n",
       "      <td>4.666789</td>\n",
       "      <td>10.833211</td>\n",
       "      <td>0.0</td>\n",
       "      <td>43.155090</td>\n",
       "    </tr>\n",
       "    <tr>\n",
       "      <th>1962</th>\n",
       "      <td>3.104475</td>\n",
       "      <td>12.395525</td>\n",
       "      <td>0.0</td>\n",
       "      <td>44.323089</td>\n",
       "    </tr>\n",
       "    <tr>\n",
       "      <th>1963</th>\n",
       "      <td>1.975372</td>\n",
       "      <td>13.524628</td>\n",
       "      <td>0.0</td>\n",
       "      <td>45.167216</td>\n",
       "    </tr>\n",
       "    <tr>\n",
       "      <th>1964</th>\n",
       "      <td>3.774322</td>\n",
       "      <td>11.725678</td>\n",
       "      <td>0.0</td>\n",
       "      <td>43.822306</td>\n",
       "    </tr>\n",
       "  </tbody>\n",
       "</table>\n",
       "</div>"
      ],
      "text/plain": [
       "      United_Kingdom_t2m  United_Kingdom_hdd  United_Kingdom_cdd  \\\n",
       "1960            4.710311           10.789689                 0.0   \n",
       "1961            4.666789           10.833211                 0.0   \n",
       "1962            3.104475           12.395525                 0.0   \n",
       "1963            1.975372           13.524628                 0.0   \n",
       "1964            3.774322           11.725678                 0.0   \n",
       "\n",
       "      United_Kingdom_demand  \n",
       "1960              43.122552  \n",
       "1961              43.155090  \n",
       "1962              44.323089  \n",
       "1963              45.167216  \n",
       "1964              43.822306  "
      ]
     },
     "execution_count": 8,
     "metadata": {},
     "output_type": "execute_result"
    }
   ],
   "source": [
    "obs_demand_NDJFM.head()"
   ]
  },
  {
   "cell_type": "code",
   "execution_count": 9,
   "metadata": {},
   "outputs": [
    {
     "data": {
      "text/html": [
       "<div>\n",
       "<style scoped>\n",
       "    .dataframe tbody tr th:only-of-type {\n",
       "        vertical-align: middle;\n",
       "    }\n",
       "\n",
       "    .dataframe tbody tr th {\n",
       "        vertical-align: top;\n",
       "    }\n",
       "\n",
       "    .dataframe thead th {\n",
       "        text-align: right;\n",
       "    }\n",
       "</style>\n",
       "<table border=\"1\" class=\"dataframe\">\n",
       "  <thead>\n",
       "    <tr style=\"text-align: right;\">\n",
       "      <th></th>\n",
       "      <th>init</th>\n",
       "      <th>member</th>\n",
       "      <th>lead</th>\n",
       "      <th>United_Kingdom_tas</th>\n",
       "      <th>United_Kingdom_hdd</th>\n",
       "      <th>United_Kingdom_cdd</th>\n",
       "      <th>United_Kingdom_demand</th>\n",
       "    </tr>\n",
       "  </thead>\n",
       "  <tbody>\n",
       "    <tr>\n",
       "      <th>0</th>\n",
       "      <td>1960</td>\n",
       "      <td>r7i1p1f2</td>\n",
       "      <td>1</td>\n",
       "      <td>8.942216</td>\n",
       "      <td>6.557784</td>\n",
       "      <td>0.0</td>\n",
       "      <td>39.958743</td>\n",
       "    </tr>\n",
       "    <tr>\n",
       "      <th>1</th>\n",
       "      <td>1960</td>\n",
       "      <td>r7i1p1f2</td>\n",
       "      <td>2</td>\n",
       "      <td>7.611440</td>\n",
       "      <td>7.888560</td>\n",
       "      <td>0.0</td>\n",
       "      <td>40.953643</td>\n",
       "    </tr>\n",
       "    <tr>\n",
       "      <th>2</th>\n",
       "      <td>1960</td>\n",
       "      <td>r7i1p1f2</td>\n",
       "      <td>3</td>\n",
       "      <td>8.075678</td>\n",
       "      <td>7.424322</td>\n",
       "      <td>0.0</td>\n",
       "      <td>40.606574</td>\n",
       "    </tr>\n",
       "    <tr>\n",
       "      <th>3</th>\n",
       "      <td>1960</td>\n",
       "      <td>r7i1p1f2</td>\n",
       "      <td>4</td>\n",
       "      <td>7.372388</td>\n",
       "      <td>8.127612</td>\n",
       "      <td>0.0</td>\n",
       "      <td>41.132360</td>\n",
       "    </tr>\n",
       "    <tr>\n",
       "      <th>4</th>\n",
       "      <td>1960</td>\n",
       "      <td>r7i1p1f2</td>\n",
       "      <td>5</td>\n",
       "      <td>6.361683</td>\n",
       "      <td>9.138317</td>\n",
       "      <td>0.0</td>\n",
       "      <td>41.887972</td>\n",
       "    </tr>\n",
       "  </tbody>\n",
       "</table>\n",
       "</div>"
      ],
      "text/plain": [
       "   init    member  lead  United_Kingdom_tas  United_Kingdom_hdd  \\\n",
       "0  1960  r7i1p1f2     1            8.942216            6.557784   \n",
       "1  1960  r7i1p1f2     2            7.611440            7.888560   \n",
       "2  1960  r7i1p1f2     3            8.075678            7.424322   \n",
       "3  1960  r7i1p1f2     4            7.372388            8.127612   \n",
       "4  1960  r7i1p1f2     5            6.361683            9.138317   \n",
       "\n",
       "   United_Kingdom_cdd  United_Kingdom_demand  \n",
       "0                 0.0              39.958743  \n",
       "1                 0.0              40.953643  \n",
       "2                 0.0              40.606574  \n",
       "3                 0.0              41.132360  \n",
       "4                 0.0              41.887972  "
      ]
     },
     "execution_count": 9,
     "metadata": {},
     "output_type": "execute_result"
    }
   ],
   "source": [
    "model_demand.head()"
   ]
  },
  {
   "cell_type": "code",
   "execution_count": 10,
   "metadata": {},
   "outputs": [],
   "source": [
    "# Process the model data\n",
    "# Set up an empty dataframe to store the model data\n",
    "model_demand_NDJFM = pd.DataFrame()\n",
    "\n",
    "# loop over the unique inits in the model data\n",
    "for init in model_demand[\"init\"].unique():\n",
    "    # constrain to the current init\n",
    "    model_demand_init = model_demand.loc[model_demand[\"init\"] == init]\n",
    "    # loop over the unique members in the model data\n",
    "    for member in model_demand_init[\"member\"].unique():\n",
    "        # constrain to the current member\n",
    "        model_demand_member = model_demand_init.loc[model_demand_init[\"member\"] == member]\n",
    "\n",
    "        # Take the mean over leads 1-150\n",
    "        model_demand_member_mean = model_demand_member[model_demand_member[\"lead\"].isin(range(1, 151))].groupby([\"init\", \"member\"]).mean()\n",
    "\n",
    "        # add the mean to the model_demand_NDJFM dataframe\n",
    "        model_demand_NDJFM = pd.concat([model_demand_NDJFM, model_demand_member_mean])\n"
   ]
  },
  {
   "cell_type": "code",
   "execution_count": 11,
   "metadata": {},
   "outputs": [
    {
     "data": {
      "text/html": [
       "<div>\n",
       "<style scoped>\n",
       "    .dataframe tbody tr th:only-of-type {\n",
       "        vertical-align: middle;\n",
       "    }\n",
       "\n",
       "    .dataframe tbody tr th {\n",
       "        vertical-align: top;\n",
       "    }\n",
       "\n",
       "    .dataframe thead th {\n",
       "        text-align: right;\n",
       "    }\n",
       "</style>\n",
       "<table border=\"1\" class=\"dataframe\">\n",
       "  <thead>\n",
       "    <tr style=\"text-align: right;\">\n",
       "      <th></th>\n",
       "      <th></th>\n",
       "      <th>lead</th>\n",
       "      <th>United_Kingdom_tas</th>\n",
       "      <th>United_Kingdom_hdd</th>\n",
       "      <th>United_Kingdom_cdd</th>\n",
       "      <th>United_Kingdom_demand</th>\n",
       "    </tr>\n",
       "    <tr>\n",
       "      <th>init</th>\n",
       "      <th>member</th>\n",
       "      <th></th>\n",
       "      <th></th>\n",
       "      <th></th>\n",
       "      <th></th>\n",
       "      <th></th>\n",
       "    </tr>\n",
       "  </thead>\n",
       "  <tbody>\n",
       "    <tr>\n",
       "      <th rowspan=\"5\" valign=\"top\">1960</th>\n",
       "      <th>r7i1p1f2</th>\n",
       "      <td>75.5</td>\n",
       "      <td>4.428282</td>\n",
       "      <td>11.071718</td>\n",
       "      <td>0.0</td>\n",
       "      <td>43.333399</td>\n",
       "    </tr>\n",
       "    <tr>\n",
       "      <th>r1i1p1f2</th>\n",
       "      <td>75.5</td>\n",
       "      <td>5.206377</td>\n",
       "      <td>10.293623</td>\n",
       "      <td>0.0</td>\n",
       "      <td>42.751689</td>\n",
       "    </tr>\n",
       "    <tr>\n",
       "      <th>r6i1p1f2</th>\n",
       "      <td>75.5</td>\n",
       "      <td>3.158589</td>\n",
       "      <td>12.341411</td>\n",
       "      <td>0.0</td>\n",
       "      <td>44.282633</td>\n",
       "    </tr>\n",
       "    <tr>\n",
       "      <th>r2i1p1f2</th>\n",
       "      <td>75.5</td>\n",
       "      <td>4.630105</td>\n",
       "      <td>10.869895</td>\n",
       "      <td>0.0</td>\n",
       "      <td>43.182515</td>\n",
       "    </tr>\n",
       "    <tr>\n",
       "      <th>r4i1p1f2</th>\n",
       "      <td>75.5</td>\n",
       "      <td>5.200538</td>\n",
       "      <td>10.299462</td>\n",
       "      <td>0.0</td>\n",
       "      <td>42.756054</td>\n",
       "    </tr>\n",
       "  </tbody>\n",
       "</table>\n",
       "</div>"
      ],
      "text/plain": [
       "               lead  United_Kingdom_tas  United_Kingdom_hdd  \\\n",
       "init member                                                   \n",
       "1960 r7i1p1f2  75.5            4.428282           11.071718   \n",
       "     r1i1p1f2  75.5            5.206377           10.293623   \n",
       "     r6i1p1f2  75.5            3.158589           12.341411   \n",
       "     r2i1p1f2  75.5            4.630105           10.869895   \n",
       "     r4i1p1f2  75.5            5.200538           10.299462   \n",
       "\n",
       "               United_Kingdom_cdd  United_Kingdom_demand  \n",
       "init member                                               \n",
       "1960 r7i1p1f2                 0.0              43.333399  \n",
       "     r1i1p1f2                 0.0              42.751689  \n",
       "     r6i1p1f2                 0.0              44.282633  \n",
       "     r2i1p1f2                 0.0              43.182515  \n",
       "     r4i1p1f2                 0.0              42.756054  "
      ]
     },
     "execution_count": 11,
     "metadata": {},
     "output_type": "execute_result"
    }
   ],
   "source": [
    "model_demand_NDJFM.head()"
   ]
  },
  {
   "cell_type": "code",
   "execution_count": 12,
   "metadata": {},
   "outputs": [
    {
     "name": "stdout",
     "output_type": "stream",
     "text": [
      "           lead  United_Kingdom_tas  United_Kingdom_hdd  United_Kingdom_cdd  \\\n",
      "member                                                                        \n",
      "r7i1p1f2   75.5            4.428282           11.071718                 0.0   \n",
      "r1i1p1f2   75.5            5.206377           10.293623                 0.0   \n",
      "r6i1p1f2   75.5            3.158589           12.341411                 0.0   \n",
      "r2i1p1f2   75.5            4.630105           10.869895                 0.0   \n",
      "r4i1p1f2   75.5            5.200538           10.299462                 0.0   \n",
      "r9i1p1f2   75.5            5.623064            9.876936                 0.0   \n",
      "r10i1p1f2  75.5            4.941766           10.558234                 0.0   \n",
      "r3i1p1f2   75.5            4.810368           10.689632                 0.0   \n",
      "r5i1p1f2   75.5            5.778914            9.721086                 0.0   \n",
      "r8i1p1f2   75.5            4.661030           10.838970                 0.0   \n",
      "\n",
      "           United_Kingdom_demand  \n",
      "member                            \n",
      "r7i1p1f2               43.333399  \n",
      "r1i1p1f2               42.751689  \n",
      "r6i1p1f2               44.282633  \n",
      "r2i1p1f2               43.182515  \n",
      "r4i1p1f2               42.756054  \n",
      "r9i1p1f2               42.440170  \n",
      "r10i1p1f2              42.949514  \n",
      "r3i1p1f2               43.047749  \n",
      "r5i1p1f2               42.323655  \n",
      "r8i1p1f2               43.159395  \n"
     ]
    }
   ],
   "source": [
    "rows_with_init_1960 = model_demand_NDJFM.loc[1960]\n",
    "print(rows_with_init_1960)"
   ]
  },
  {
   "cell_type": "code",
   "execution_count": 13,
   "metadata": {},
   "outputs": [],
   "source": [
    "# set member as its own column\n",
    "model_demand_NDJFM.reset_index(inplace=True)"
   ]
  },
  {
   "cell_type": "code",
   "execution_count": 14,
   "metadata": {},
   "outputs": [
    {
     "data": {
      "text/html": [
       "<div>\n",
       "<style scoped>\n",
       "    .dataframe tbody tr th:only-of-type {\n",
       "        vertical-align: middle;\n",
       "    }\n",
       "\n",
       "    .dataframe tbody tr th {\n",
       "        vertical-align: top;\n",
       "    }\n",
       "\n",
       "    .dataframe thead th {\n",
       "        text-align: right;\n",
       "    }\n",
       "</style>\n",
       "<table border=\"1\" class=\"dataframe\">\n",
       "  <thead>\n",
       "    <tr style=\"text-align: right;\">\n",
       "      <th></th>\n",
       "      <th>init</th>\n",
       "      <th>member</th>\n",
       "      <th>lead</th>\n",
       "      <th>United_Kingdom_tas</th>\n",
       "      <th>United_Kingdom_hdd</th>\n",
       "      <th>United_Kingdom_cdd</th>\n",
       "      <th>United_Kingdom_demand</th>\n",
       "    </tr>\n",
       "  </thead>\n",
       "  <tbody>\n",
       "    <tr>\n",
       "      <th>0</th>\n",
       "      <td>1960</td>\n",
       "      <td>r7i1p1f2</td>\n",
       "      <td>75.5</td>\n",
       "      <td>4.428282</td>\n",
       "      <td>11.071718</td>\n",
       "      <td>0.0</td>\n",
       "      <td>43.333399</td>\n",
       "    </tr>\n",
       "    <tr>\n",
       "      <th>1</th>\n",
       "      <td>1960</td>\n",
       "      <td>r1i1p1f2</td>\n",
       "      <td>75.5</td>\n",
       "      <td>5.206377</td>\n",
       "      <td>10.293623</td>\n",
       "      <td>0.0</td>\n",
       "      <td>42.751689</td>\n",
       "    </tr>\n",
       "    <tr>\n",
       "      <th>2</th>\n",
       "      <td>1960</td>\n",
       "      <td>r6i1p1f2</td>\n",
       "      <td>75.5</td>\n",
       "      <td>3.158589</td>\n",
       "      <td>12.341411</td>\n",
       "      <td>0.0</td>\n",
       "      <td>44.282633</td>\n",
       "    </tr>\n",
       "    <tr>\n",
       "      <th>3</th>\n",
       "      <td>1960</td>\n",
       "      <td>r2i1p1f2</td>\n",
       "      <td>75.5</td>\n",
       "      <td>4.630105</td>\n",
       "      <td>10.869895</td>\n",
       "      <td>0.0</td>\n",
       "      <td>43.182515</td>\n",
       "    </tr>\n",
       "    <tr>\n",
       "      <th>4</th>\n",
       "      <td>1960</td>\n",
       "      <td>r4i1p1f2</td>\n",
       "      <td>75.5</td>\n",
       "      <td>5.200538</td>\n",
       "      <td>10.299462</td>\n",
       "      <td>0.0</td>\n",
       "      <td>42.756054</td>\n",
       "    </tr>\n",
       "  </tbody>\n",
       "</table>\n",
       "</div>"
      ],
      "text/plain": [
       "   init    member  lead  United_Kingdom_tas  United_Kingdom_hdd  \\\n",
       "0  1960  r7i1p1f2  75.5            4.428282           11.071718   \n",
       "1  1960  r1i1p1f2  75.5            5.206377           10.293623   \n",
       "2  1960  r6i1p1f2  75.5            3.158589           12.341411   \n",
       "3  1960  r2i1p1f2  75.5            4.630105           10.869895   \n",
       "4  1960  r4i1p1f2  75.5            5.200538           10.299462   \n",
       "\n",
       "   United_Kingdom_cdd  United_Kingdom_demand  \n",
       "0                 0.0              43.333399  \n",
       "1                 0.0              42.751689  \n",
       "2                 0.0              44.282633  \n",
       "3                 0.0              43.182515  \n",
       "4                 0.0              42.756054  "
      ]
     },
     "execution_count": 14,
     "metadata": {},
     "output_type": "execute_result"
    }
   ],
   "source": [
    "model_demand_NDJFM.head()"
   ]
  },
  {
   "cell_type": "code",
   "execution_count": 15,
   "metadata": {},
   "outputs": [],
   "source": [
    "# Convert init to datetime format\n",
    "model_demand_NDJFM.index = pd.to_datetime(model_demand_NDJFM[\"init\"], format=\"%Y\")\n",
    "\n",
    "# Set the \"init\" column as the index\n",
    "model_demand_NDJFM.set_index(\"init\", inplace=True)\n",
    "\n",
    "# remove the name of the index\n",
    "model_demand_NDJFM.index.name = None"
   ]
  },
  {
   "cell_type": "code",
   "execution_count": 16,
   "metadata": {},
   "outputs": [],
   "source": [
    "# remove the lead column\n",
    "model_demand_NDJFM.drop(columns=\"lead\", inplace=True)"
   ]
  },
  {
   "cell_type": "code",
   "execution_count": 17,
   "metadata": {},
   "outputs": [
    {
     "data": {
      "text/html": [
       "<div>\n",
       "<style scoped>\n",
       "    .dataframe tbody tr th:only-of-type {\n",
       "        vertical-align: middle;\n",
       "    }\n",
       "\n",
       "    .dataframe tbody tr th {\n",
       "        vertical-align: top;\n",
       "    }\n",
       "\n",
       "    .dataframe thead th {\n",
       "        text-align: right;\n",
       "    }\n",
       "</style>\n",
       "<table border=\"1\" class=\"dataframe\">\n",
       "  <thead>\n",
       "    <tr style=\"text-align: right;\">\n",
       "      <th></th>\n",
       "      <th>member</th>\n",
       "      <th>United_Kingdom_tas</th>\n",
       "      <th>United_Kingdom_hdd</th>\n",
       "      <th>United_Kingdom_cdd</th>\n",
       "      <th>United_Kingdom_demand</th>\n",
       "    </tr>\n",
       "  </thead>\n",
       "  <tbody>\n",
       "    <tr>\n",
       "      <th>1960</th>\n",
       "      <td>r7i1p1f2</td>\n",
       "      <td>4.428282</td>\n",
       "      <td>11.071718</td>\n",
       "      <td>0.0</td>\n",
       "      <td>43.333399</td>\n",
       "    </tr>\n",
       "    <tr>\n",
       "      <th>1960</th>\n",
       "      <td>r1i1p1f2</td>\n",
       "      <td>5.206377</td>\n",
       "      <td>10.293623</td>\n",
       "      <td>0.0</td>\n",
       "      <td>42.751689</td>\n",
       "    </tr>\n",
       "    <tr>\n",
       "      <th>1960</th>\n",
       "      <td>r6i1p1f2</td>\n",
       "      <td>3.158589</td>\n",
       "      <td>12.341411</td>\n",
       "      <td>0.0</td>\n",
       "      <td>44.282633</td>\n",
       "    </tr>\n",
       "    <tr>\n",
       "      <th>1960</th>\n",
       "      <td>r2i1p1f2</td>\n",
       "      <td>4.630105</td>\n",
       "      <td>10.869895</td>\n",
       "      <td>0.0</td>\n",
       "      <td>43.182515</td>\n",
       "    </tr>\n",
       "    <tr>\n",
       "      <th>1960</th>\n",
       "      <td>r4i1p1f2</td>\n",
       "      <td>5.200538</td>\n",
       "      <td>10.299462</td>\n",
       "      <td>0.0</td>\n",
       "      <td>42.756054</td>\n",
       "    </tr>\n",
       "  </tbody>\n",
       "</table>\n",
       "</div>"
      ],
      "text/plain": [
       "        member  United_Kingdom_tas  United_Kingdom_hdd  United_Kingdom_cdd  \\\n",
       "1960  r7i1p1f2            4.428282           11.071718                 0.0   \n",
       "1960  r1i1p1f2            5.206377           10.293623                 0.0   \n",
       "1960  r6i1p1f2            3.158589           12.341411                 0.0   \n",
       "1960  r2i1p1f2            4.630105           10.869895                 0.0   \n",
       "1960  r4i1p1f2            5.200538           10.299462                 0.0   \n",
       "\n",
       "      United_Kingdom_demand  \n",
       "1960              43.333399  \n",
       "1960              42.751689  \n",
       "1960              44.282633  \n",
       "1960              43.182515  \n",
       "1960              42.756054  "
      ]
     },
     "execution_count": 17,
     "metadata": {},
     "output_type": "execute_result"
    }
   ],
   "source": [
    "model_demand_NDJFM.head()"
   ]
  },
  {
   "cell_type": "code",
   "execution_count": 18,
   "metadata": {},
   "outputs": [
    {
     "data": {
      "text/html": [
       "<div>\n",
       "<style scoped>\n",
       "    .dataframe tbody tr th:only-of-type {\n",
       "        vertical-align: middle;\n",
       "    }\n",
       "\n",
       "    .dataframe tbody tr th {\n",
       "        vertical-align: top;\n",
       "    }\n",
       "\n",
       "    .dataframe thead th {\n",
       "        text-align: right;\n",
       "    }\n",
       "</style>\n",
       "<table border=\"1\" class=\"dataframe\">\n",
       "  <thead>\n",
       "    <tr style=\"text-align: right;\">\n",
       "      <th></th>\n",
       "      <th>United_Kingdom_t2m</th>\n",
       "      <th>United_Kingdom_hdd</th>\n",
       "      <th>United_Kingdom_cdd</th>\n",
       "      <th>United_Kingdom_demand</th>\n",
       "    </tr>\n",
       "  </thead>\n",
       "  <tbody>\n",
       "    <tr>\n",
       "      <th>1960</th>\n",
       "      <td>4.710311</td>\n",
       "      <td>10.789689</td>\n",
       "      <td>0.0</td>\n",
       "      <td>43.122552</td>\n",
       "    </tr>\n",
       "    <tr>\n",
       "      <th>1961</th>\n",
       "      <td>4.666789</td>\n",
       "      <td>10.833211</td>\n",
       "      <td>0.0</td>\n",
       "      <td>43.155090</td>\n",
       "    </tr>\n",
       "    <tr>\n",
       "      <th>1962</th>\n",
       "      <td>3.104475</td>\n",
       "      <td>12.395525</td>\n",
       "      <td>0.0</td>\n",
       "      <td>44.323089</td>\n",
       "    </tr>\n",
       "    <tr>\n",
       "      <th>1963</th>\n",
       "      <td>1.975372</td>\n",
       "      <td>13.524628</td>\n",
       "      <td>0.0</td>\n",
       "      <td>45.167216</td>\n",
       "    </tr>\n",
       "    <tr>\n",
       "      <th>1964</th>\n",
       "      <td>3.774322</td>\n",
       "      <td>11.725678</td>\n",
       "      <td>0.0</td>\n",
       "      <td>43.822306</td>\n",
       "    </tr>\n",
       "  </tbody>\n",
       "</table>\n",
       "</div>"
      ],
      "text/plain": [
       "      United_Kingdom_t2m  United_Kingdom_hdd  United_Kingdom_cdd  \\\n",
       "1960            4.710311           10.789689                 0.0   \n",
       "1961            4.666789           10.833211                 0.0   \n",
       "1962            3.104475           12.395525                 0.0   \n",
       "1963            1.975372           13.524628                 0.0   \n",
       "1964            3.774322           11.725678                 0.0   \n",
       "\n",
       "      United_Kingdom_demand  \n",
       "1960              43.122552  \n",
       "1961              43.155090  \n",
       "1962              44.323089  \n",
       "1963              45.167216  \n",
       "1964              43.822306  "
      ]
     },
     "execution_count": 18,
     "metadata": {},
     "output_type": "execute_result"
    }
   ],
   "source": [
    "obs_demand_NDJFM.head()"
   ]
  },
  {
   "cell_type": "code",
   "execution_count": 19,
   "metadata": {},
   "outputs": [
    {
     "data": {
      "image/png": "[encoded data removed]",
      "text/plain": [
       "<Figure size 720x360 with 1 Axes>"
      ]
     },
     "metadata": {
      "needs_background": "light"
     },
     "output_type": "display_data"
    }
   ],
   "source": [
    "# Set up the figure\n",
    "fig, ax = plt.subplots(figsize=(10, 5))\n",
    "\n",
    "# Plot the observed data\n",
    "obs_demand_NDJFM[\"United_Kingdom_demand\"].plot(ax=ax, label=\"Observed\", color=\"black\")\n",
    "\n",
    "# loop over the unique members in the model data\n",
    "for member in model_demand_NDJFM[\"member\"].unique():\n",
    "    # constrain to the current member\n",
    "    model_demand_NDJFM_member = model_demand_NDJFM.loc[model_demand_NDJFM[\"member\"] == member]\n",
    "\n",
    "    # Plot the model data\n",
    "    model_demand_NDJFM_member[\"United_Kingdom_demand\"].plot(ax=ax, label=f\"Model member {member}\")"
   ]
  },
  {
   "cell_type": "markdown",
   "metadata": {},
   "source": [
    "All have a linear trend from climate change signal, remove this then explore anomalies."
   ]
  },
  {
   "cell_type": "code",
   "execution_count": 20,
   "metadata": {},
   "outputs": [],
   "source": [
    "# apply a linear detrend to the observed data\n",
    "from scipy import signal\n",
    "\n",
    "obs_demand_NDJFM[\"United_Kingdom_demand_detrended\"] = signal.detrend(obs_demand_NDJFM[\"United_Kingdom_demand\"])"
   ]
  },
  {
   "cell_type": "code",
   "execution_count": 21,
   "metadata": {},
   "outputs": [],
   "source": [
    "# Apply a linear detrend to the model data\n",
    "model_demand_NDJFM[\"United_Kingdom_demand_detrended\"] = signal.detrend(model_demand_NDJFM[\"United_Kingdom_demand\"])"
   ]
  },
  {
   "cell_type": "code",
   "execution_count": 22,
   "metadata": {},
   "outputs": [],
   "source": [
    "# add a new column to the observations dataframe\n",
    "# for the normalised anomalies of detrended united kingdom demand\n",
    "obs_demand_NDJFM[\"United_Kingdom_demand_detrended_anom\"] = (obs_demand_NDJFM[\"United_Kingdom_demand_detrended\"] - obs_demand_NDJFM[\"United_Kingdom_demand_detrended\"].mean()) / obs_demand_NDJFM[\"United_Kingdom_demand_detrended\"].std()"
   ]
  },
  {
   "cell_type": "code",
   "execution_count": 23,
   "metadata": {},
   "outputs": [],
   "source": [
    "# add a new column to the model dataframe\n",
    "# for the normalised anomalies of detrended united kingdom demand\n",
    "# grouped by member\n",
    "model_demand_NDJFM[\"United_Kingdom_demand_detrended_anom\"] = model_demand_NDJFM.groupby(\"member\")[\"United_Kingdom_demand_detrended\"].transform(lambda x: (x - x.mean()) / x.std())"
   ]
  },
  {
   "cell_type": "code",
   "execution_count": 24,
   "metadata": {},
   "outputs": [
    {
     "data": {
      "text/html": [
       "<div>\n",
       "<style scoped>\n",
       "    .dataframe tbody tr th:only-of-type {\n",
       "        vertical-align: middle;\n",
       "    }\n",
       "\n",
       "    .dataframe tbody tr th {\n",
       "        vertical-align: top;\n",
       "    }\n",
       "\n",
       "    .dataframe thead th {\n",
       "        text-align: right;\n",
       "    }\n",
       "</style>\n",
       "<table border=\"1\" class=\"dataframe\">\n",
       "  <thead>\n",
       "    <tr style=\"text-align: right;\">\n",
       "      <th></th>\n",
       "      <th>member</th>\n",
       "      <th>United_Kingdom_tas</th>\n",
       "      <th>United_Kingdom_hdd</th>\n",
       "      <th>United_Kingdom_cdd</th>\n",
       "      <th>United_Kingdom_demand</th>\n",
       "      <th>United_Kingdom_demand_detrended</th>\n",
       "      <th>United_Kingdom_demand_detrended_anom</th>\n",
       "    </tr>\n",
       "  </thead>\n",
       "  <tbody>\n",
       "    <tr>\n",
       "      <th>1960</th>\n",
       "      <td>r7i1p1f2</td>\n",
       "      <td>4.428282</td>\n",
       "      <td>11.071718</td>\n",
       "      <td>0.0</td>\n",
       "      <td>43.333399</td>\n",
       "      <td>-0.063108</td>\n",
       "      <td>-0.174918</td>\n",
       "    </tr>\n",
       "    <tr>\n",
       "      <th>1960</th>\n",
       "      <td>r1i1p1f2</td>\n",
       "      <td>5.206377</td>\n",
       "      <td>10.293623</td>\n",
       "      <td>0.0</td>\n",
       "      <td>42.751689</td>\n",
       "      <td>-0.643453</td>\n",
       "      <td>-1.419636</td>\n",
       "    </tr>\n",
       "    <tr>\n",
       "      <th>1960</th>\n",
       "      <td>r6i1p1f2</td>\n",
       "      <td>3.158589</td>\n",
       "      <td>12.341411</td>\n",
       "      <td>0.0</td>\n",
       "      <td>44.282633</td>\n",
       "      <td>0.888856</td>\n",
       "      <td>1.263330</td>\n",
       "    </tr>\n",
       "    <tr>\n",
       "      <th>1960</th>\n",
       "      <td>r2i1p1f2</td>\n",
       "      <td>4.630105</td>\n",
       "      <td>10.869895</td>\n",
       "      <td>0.0</td>\n",
       "      <td>43.182515</td>\n",
       "      <td>-0.209897</td>\n",
       "      <td>-0.294633</td>\n",
       "    </tr>\n",
       "    <tr>\n",
       "      <th>1960</th>\n",
       "      <td>r4i1p1f2</td>\n",
       "      <td>5.200538</td>\n",
       "      <td>10.299462</td>\n",
       "      <td>0.0</td>\n",
       "      <td>42.756054</td>\n",
       "      <td>-0.634992</td>\n",
       "      <td>-0.861491</td>\n",
       "    </tr>\n",
       "  </tbody>\n",
       "</table>\n",
       "</div>"
      ],
      "text/plain": [
       "        member  United_Kingdom_tas  United_Kingdom_hdd  United_Kingdom_cdd  \\\n",
       "1960  r7i1p1f2            4.428282           11.071718                 0.0   \n",
       "1960  r1i1p1f2            5.206377           10.293623                 0.0   \n",
       "1960  r6i1p1f2            3.158589           12.341411                 0.0   \n",
       "1960  r2i1p1f2            4.630105           10.869895                 0.0   \n",
       "1960  r4i1p1f2            5.200538           10.299462                 0.0   \n",
       "\n",
       "      United_Kingdom_demand  United_Kingdom_demand_detrended  \\\n",
       "1960              43.333399                        -0.063108   \n",
       "1960              42.751689                        -0.643453   \n",
       "1960              44.282633                         0.888856   \n",
       "1960              43.182515                        -0.209897   \n",
       "1960              42.756054                        -0.634992   \n",
       "\n",
       "      United_Kingdom_demand_detrended_anom  \n",
       "1960                             -0.174918  \n",
       "1960                             -1.419636  \n",
       "1960                              1.263330  \n",
       "1960                             -0.294633  \n",
       "1960                             -0.861491  "
      ]
     },
     "execution_count": 24,
     "metadata": {},
     "output_type": "execute_result"
    }
   ],
   "source": [
    "model_demand_NDJFM.head()"
   ]
  },
  {
   "cell_type": "code",
   "execution_count": 25,
   "metadata": {},
   "outputs": [
    {
     "data": {
      "image/png": "[encoded data removed]",
      "text/plain": [
       "<Figure size 720x360 with 1 Axes>"
      ]
     },
     "metadata": {
      "needs_background": "light"
     },
     "output_type": "display_data"
    }
   ],
   "source": [
    "# plot the observed demand anomalies\n",
    "# set up the positive conditions for these\n",
    "positive_conditions_demand_obs = [\n",
    "    (obs_demand_NDJFM[\"United_Kingdom_demand_detrended_anom\"] >= 0)\n",
    "    & (obs_demand_NDJFM[\"United_Kingdom_demand_detrended_anom\"] <= 1),\n",
    "    (obs_demand_NDJFM[\"United_Kingdom_demand_detrended_anom\"] >= 1)\n",
    "    & (obs_demand_NDJFM[\"United_Kingdom_demand_detrended_anom\"] <= 2),\n",
    "    (obs_demand_NDJFM[\"United_Kingdom_demand_detrended_anom\"] >= 2)\n",
    "    & (obs_demand_NDJFM[\"United_Kingdom_demand_detrended_anom\"] <= 3),\n",
    "    (obs_demand_NDJFM[\"United_Kingdom_demand_detrended_anom\"] > 3),\n",
    "    (obs_demand_NDJFM[\"United_Kingdom_demand_detrended_anom\"] < 0),\n",
    "]\n",
    "\n",
    "# Set up the colours for these\n",
    "colors = [\"blue\", \"orange\", \"red\", \"purple\", \"gray\"]\n",
    "\n",
    "# Set up the labels for these\n",
    "obs_demand_NDJFM[\"colour\"] = np.select(positive_conditions_demand_obs, colors, default=\"black\")\n",
    "\n",
    "# if colour in the dataframe, plot the data\n",
    "if \"colour\" in obs_demand_NDJFM.columns:\n",
    "    # set up the figure\n",
    "    fig, ax = plt.subplots(figsize=(10, 5))\n",
    "\n",
    "    # plot the observed data as bars\n",
    "    obs_demand_NDJFM[\"United_Kingdom_demand_detrended_anom\"].plot.bar(ax=ax, color=obs_demand_NDJFM[\"colour\"], width=0.85)\n",
    "\n",
    "    # Set up a horizontal line at 0\n",
    "    ax.axhline(0, color=\"black\", linewidth=1)\n",
    "\n",
    "    # Set the title\n",
    "    ax.set_title(\"Observed United Kingdom demand anomalies (detrended)\")\n",
    "\n",
    "    # Set the ylims\n",
    "    ax.set_ylim(-3.5, 3.5)\n",
    "\n",
    "    # Only plot the xlabels very 5 years\n",
    "    ax.set_xticks(ax.get_xticks()[::5])\n",
    "\n",
    "    # # Tilt the ticks to make them more readable\n",
    "    plt.xticks(rotation=360)\n",
    "\n",
    "    # Set the ylabel\n",
    "    ax.set_ylabel(\"Wd demand anomalies (detrended)\")"
   ]
  },
  {
   "cell_type": "code",
   "execution_count": 26,
   "metadata": {},
   "outputs": [
    {
     "data": {
      "image/png": "[encoded data removed]",
      "text/plain": [
       "<Figure size 1440x864 with 10 Axes>"
      ]
     },
     "metadata": {
      "needs_background": "light"
     },
     "output_type": "display_data"
    }
   ],
   "source": [
    "# Do the same for the model data\n",
    "\n",
    "# set up the positive conditions for these\n",
    "positive_conditions_demand_model = [\n",
    "    (model_demand_NDJFM[\"United_Kingdom_demand_detrended_anom\"] >= 0)\n",
    "    & (model_demand_NDJFM[\"United_Kingdom_demand_detrended_anom\"] <= 1),\n",
    "    (model_demand_NDJFM[\"United_Kingdom_demand_detrended_anom\"] >= 1)\n",
    "    & (model_demand_NDJFM[\"United_Kingdom_demand_detrended_anom\"] <= 2),\n",
    "    (model_demand_NDJFM[\"United_Kingdom_demand_detrended_anom\"] >= 2)\n",
    "    & (model_demand_NDJFM[\"United_Kingdom_demand_detrended_anom\"] <= 3),\n",
    "    (model_demand_NDJFM[\"United_Kingdom_demand_detrended_anom\"] > 3),\n",
    "    (model_demand_NDJFM[\"United_Kingdom_demand_detrended_anom\"] < 0),\n",
    "]\n",
    "\n",
    "# Set up the colours for these\n",
    "colors = [\"blue\", \"orange\", \"red\", \"purple\", \"gray\"]\n",
    "\n",
    "# Set up the labels for these\n",
    "model_demand_NDJFM[\"colour\"] = np.select(positive_conditions_demand_model, colors, default=\"black\")\n",
    "\n",
    "# if colour in the dataframe, plot the data\n",
    "if \"colour\" in model_demand_NDJFM.columns:\n",
    "    # set up the figure\n",
    "    # as 3 rows x 4 columns\n",
    "    fig, axs = plt.subplots(3, 4, figsize=(20, 12), sharex=True, sharey=True)\n",
    "\n",
    "    # loop over the unique members in the model data\n",
    "    for i, member in enumerate(model_demand_NDJFM[\"member\"].unique()):\n",
    "        # constrain to the current member\n",
    "        model_demand_NDJFM_member = model_demand_NDJFM.loc[model_demand_NDJFM[\"member\"] == member]\n",
    "\n",
    "        # plot the observed data as bars\n",
    "        model_demand_NDJFM_member[\"United_Kingdom_demand_detrended_anom\"].plot.bar(ax=axs.flatten()[i], color=model_demand_NDJFM_member[\"colour\"], width=0.80)\n",
    "\n",
    "        # Set up a horizontal line at 0\n",
    "        axs.flatten()[i].axhline(0, color=\"black\", linewidth=1)\n",
    "\n",
    "        # Set the title\n",
    "        axs.flatten()[i].set_title(f\"Member: {member}\")\n",
    "\n",
    "        # Set the ylims\n",
    "        axs.flatten()[i].set_ylim(-3.5, 3.5)\n",
    "\n",
    "        # Only plot the xlabels very 5 years\n",
    "        axs.flatten()[i].set_xticks(axs.flatten()[i].get_xticks()[::5])\n",
    "\n",
    "        # # Tilt the ticks to make them more readable\n",
    "        plt.xticks(rotation=360)\n",
    "\n",
    "        # Set the ylabel\n",
    "        axs.flatten()[i].set_ylabel(\"Wd demand anomalies (detrended)\")\n",
    "\n",
    "# remove the sublots that are not used\n",
    "for i in range(10, 12):\n",
    "    fig.delaxes(axs.flatten()[i])\n",
    "\n",
    "# Specify a tight layout\n",
    "plt.tight_layout()"
   ]
  },
  {
   "cell_type": "markdown",
   "metadata": {},
   "source": [
    "### EVA on demand anomalies ###\n",
    "\n",
    "We want to estimate the return period of the 2010 'demand' event. How unusual is this relative to the other events we have available. We want to estimate this in two ways:\n",
    "\n",
    "* Using just the obs data\n",
    "* Using the model data"
   ]
  },
  {
   "cell_type": "code",
   "execution_count": 68,
   "metadata": {},
   "outputs": [],
   "source": [
    "import matplotlib.ticker as ticker\n",
    "\n",
    "# define a function to plot the events and return periods\n",
    "def plot_evt(\n",
    "    obs_df: pd.DataFrame,\n",
    "    model_df: pd.DataFrame,\n",
    "    obs_col: str,\n",
    "    model_col: str,\n",
    "    unc_range: list = [0.025, 0.975],\n",
    "    nboot: int = 1000,\n",
    "    fontsize: int = 12,\n",
    "    figsize: tuple = (10, 8),\n",
    "    save_dir: str = \"/gws/nopw/j04/canari/users/benhutch/plots/\",\n",
    "):\n",
    "    \"\"\"\n",
    "    Function which plots the values for a variable of interest on the x-axis and the chance of event (%) on the y-axis. Function plots the range of uncertainty using just the obs data, the range of uncertainty when the model is sampled to the length of the observed data and the full range of uncertainty using the model data.\n",
    "\n",
    "    Args:\n",
    "        obs_df (pd.DataFrame): DataFrame containing the observed data\n",
    "        model_df (pd.DataFrame): DataFrame containing the model data\n",
    "        obs_col (str): Column name in the observed DataFrame\n",
    "        model_col (str): Column name in the model DataFrame\n",
    "        unc_range (list, optional): Range for the uncertainty. Defaults to [0.025, 0.975].\n",
    "        nboot (int, optional): Number of bootstraps to use. Defaults to 1000.\n",
    "        fontsize (int, optional): Fontsize for the plot. Defaults to 12.\n",
    "        figsize (tuple, optional): Figure size. Defaults to (10, 8).\n",
    "        save_dir (str, optional): Directory to save the plot. Defaults to \"/gws/nopw/j04/canari/users/benhutch/plots/\".\n",
    "\n",
    "    Returns:\n",
    "        None\n",
    "\n",
    "    \"\"\"\n",
    "\n",
    "    # extract the first unique member from the model data\n",
    "    model_member = model_df[\"member\"].unique()[0]\n",
    "\n",
    "    # # print the len of the model data when constrained to the first member\n",
    "    # print(f\"Length of model data: {len(model_df.loc[model_df['member'] == model_member])}\")\n",
    "\n",
    "    # # print the length of the observed data\n",
    "    # print(f\"Length of observed data: {len(obs_df)}\")\n",
    "\n",
    "    # assert that the length of the observed data is the same as the\n",
    "    # model data when constrained to the first member\n",
    "    assert len(obs_df) == len(\n",
    "        model_df.loc[model_df[\"member\"] == model_member]\n",
    "    ), \"Length of observed data and model data do not match\"\n",
    "\n",
    "    # Set up the length of the observed data\n",
    "    obs_len = len(obs_df)\n",
    "\n",
    "    # print the observed length\n",
    "    print(f\"Length of observed data: {obs_len}\")\n",
    "\n",
    "    # TODO: Set a threshold for demand extremes? How to do this?\n",
    "    # First pass - set the threshold as the 75th percentile of the observed data\n",
    "    obs_threshold = obs_df[obs_col].quantile(0.50)\n",
    "\n",
    "    # print the threshold\n",
    "    print(f\"Threshold from obs: {obs_threshold}\")\n",
    "\n",
    "    # Set up the bootstrap array\n",
    "    # e.g. with len (1000, len(obs_df)) for 1000 bootstrap samples\n",
    "    boot_obs = np.zeros([nboot, len(obs_df)])\n",
    "\n",
    "    # Set up the bootstrapped array for model data\n",
    "    # resample to len obs\n",
    "    boot_model_len_obs = np.zeros([nboot, len(obs_df)])\n",
    "\n",
    "    # Set up the bootstrapped array for model data\n",
    "    # resample to full length\n",
    "    boot_model_full = np.zeros([nboot, len(model_df)])\n",
    "\n",
    "    # loop over the number of bootstraps\n",
    "    for i in tqdm(range(nboot)):\n",
    "        # sample the observed data with replacement\n",
    "        boot_obs[i, :] = np.random.choice(\n",
    "            obs_df[obs_col], size=len(obs_df), replace=True\n",
    "        )\n",
    "\n",
    "        # Any values below the threshold are set to NaN\n",
    "        boot_obs[i, boot_obs[i, :] < obs_threshold] = np.nan\n",
    "\n",
    "        # sample the model data with replacement\n",
    "        boot_model_len_obs[i, :] = np.random.choice(\n",
    "            model_df[model_col], size=len(obs_df), replace=True\n",
    "        )\n",
    "\n",
    "        # Any values below the threshold are set to NaN\n",
    "        boot_model_len_obs[i, boot_model_len_obs[i, :] < obs_threshold] = np.nan\n",
    "\n",
    "        # sample the model data with replacement\n",
    "        boot_model_full[i, :] = np.random.choice(\n",
    "            model_df[model_col], size=len(model_df), replace=True\n",
    "        )\n",
    "\n",
    "        # Any values below the threshold are set to NaN\n",
    "        boot_model_full[i, boot_model_full[i, :] < obs_threshold] = np.nan\n",
    "\n",
    "    # print boot obs\n",
    "    print(\"boot obs: \", boot_obs)\n",
    "\n",
    "    # assert that not all values of boot obs are NaN\n",
    "    assert not np.all(np.isnan(boot_obs)), \"All values of boot obs are NaN\"\n",
    "\n",
    "    # assert that not all values of boot model len obs are NaN\n",
    "    assert not np.all(np.isnan(boot_model_len_obs)), \"All values of boot model len obs are NaN\"\n",
    "\n",
    "    # assert that not all values of boot model full are NaN\n",
    "    assert not np.all(np.isnan(boot_model_full)), \"All values of boot model full are NaN\"\n",
    "\n",
    "    # Calculate the return periods\n",
    "    rps_obs_len = obs_len / np.arange(1, obs_len + 1)\n",
    "    rps_model_len = len(model_df) / np.arange(1, len(model_df) + 1)\n",
    "\n",
    "    # calculate the chance of occurenece - 1/rps\n",
    "    chance_obs_len = (1 / rps_obs_len) * 100\n",
    "    chance_model_len = (1 / rps_model_len) * 100\n",
    "\n",
    "    # print the rps obs\n",
    "    print(\"rps obs: \", rps_obs_len)\n",
    "\n",
    "    # Calculate the return values for each bootstrapped sample\n",
    "    rvs_obs = np.nanquantile(boot_obs, q=1 - 1 / rps_obs_len, axis=0)\n",
    "    rvs_model_obs_len = np.nanquantile(boot_model_len_obs, q=1 - 1 / rps_obs_len, axis=0)\n",
    "    rvs_model_full = np.nanquantile(boot_model_full, q=1 - 1 / rps_model_len, axis=0)\n",
    "\n",
    "    # print the rvs obs\n",
    "    print(\"rvs obs: \", rvs_obs)\n",
    "\n",
    "    # print rvs obs shape\n",
    "    print(\"rvs obs shape: \", rvs_obs.shape)\n",
    "\n",
    "    # print rvs model obs len\n",
    "    print(\"rvs model obs len: \", rvs_model_obs_len)\n",
    "\n",
    "    # print rvs model obs len shape\n",
    "    print(\"rvs model obs len shape: \", rvs_model_obs_len.shape)\n",
    "\n",
    "    # assert that not all values of rvs obs are NaN\n",
    "    assert not np.all(np.isnan(rvs_obs)), \"All values of rvs obs are NaN\"\n",
    "\n",
    "    # Calculate the uncertainty range\n",
    "    ci_return_obs = np.nanquantile(rvs_obs, q=unc_range, axis=1)\n",
    "    ci_return_model_len_obs = np.nanquantile(rvs_model_obs_len, q=unc_range, axis=1)\n",
    "    ci_return_model_full = np.nanquantile(rvs_model_full, q=unc_range, axis=1)\n",
    "\n",
    "    # print ci_return_obs\n",
    "    print(\"ci_return_obs: \", ci_return_obs)\n",
    "\n",
    "    # print ci_return_model_full\n",
    "    print(\"ci_return_model_full: \", ci_return_model_full)\n",
    "\n",
    "    print(\"ci_return_model_len_obs: \", ci_return_model_len_obs)\n",
    "\n",
    "    # extract the ci_25 and ci_975\n",
    "    ci_25_obs, ci_975_obs = ci_return_obs\n",
    "    ci_25_model_len_obs, ci_975_model_len_obs = ci_return_model_len_obs\n",
    "    ci_25_model_full, ci_975_model_full = ci_return_model_full\n",
    "\n",
    "    # Set up the plot\n",
    "    # Set up the plot\n",
    "    fig, ax = plt.subplots(figsize=figsize)\n",
    "\n",
    "    # Plot the observed data as the 2.5th and 97.5th percentiles\n",
    "    # with return periods on the y-axis\n",
    "    ax.plot(ci_25_obs, chance_obs_len, color=\"blue\", label=\"2.5th percentile\")\n",
    "    ax.plot(ci_975_obs, chance_obs_len, color=\"blue\", label=\"97.5th percentile\")\n",
    "\n",
    "    # Plot the model data resampled to the length of the observed data\n",
    "    # as the 2.5th and 97.5th percentiles with return periods on the y-axis\n",
    "    ax.plot(ci_25_model_len_obs, chance_obs_len, color=\"grey\", label=\"Lower bound\")\n",
    "    ax.plot(ci_975_model_len_obs, chance_obs_len, color=\"grey\", label=\"Upper bound\")\n",
    "\n",
    "    # Plot the model data resampled to the full length\n",
    "    # as the 2.5th and 97.5th percentiles with return periods on the y-axis\n",
    "    ax.fill_betweenx(\n",
    "        chance_model_len,\n",
    "        ci_25_model_full,\n",
    "        ci_975_model_full,\n",
    "        color=\"red\",\n",
    "        alpha=0.5,\n",
    "        label=\"Model (full length)\",\n",
    "    )\n",
    "\n",
    "    # include a legend\n",
    "    ax.legend()\n",
    "\n",
    "    # set y-axis to logarithmic scale\n",
    "    ax.set_yscale(\"log\")\n",
    "\n",
    "    # specify the points which should be marked on the y-axis\n",
    "    yticks = [1, 2, 5, 10, 15, 30, 40]\n",
    "\n",
    "    # mark the points on the y-axis\n",
    "    ax.set_yticks(yticks)\n",
    "\n",
    "    # format the y-ticks as integers\n",
    "    ax.yaxis.set_major_formatter(ticker.FuncFormatter(lambda y, _: '{:g}'.format(y)))\n",
    "\n",
    "    # limit y-axis between 34 and 1\n",
    "    ax.set_ylim(0, 45)\n",
    "\n",
    "    # constrain the x-axis to the length of the observed data\n",
    "    ax.set_xlim(43, 45.5)\n",
    "\n",
    "    # include a dashed line at 1\n",
    "    ax.axhline(1, color=\"black\", linestyle=\"--\")\n",
    "\n",
    "    # # limit y-axis to 100\n",
    "    # ax.set_ylim(1, 50)\n",
    "\n",
    "    # # invert the y-axis\n",
    "    # ax.invert_yaxis()\n",
    "\n",
    "    # print(\"Exiting\")\n",
    "    # sys.exit()\n",
    "\n"
   ]
  },
  {
   "cell_type": "code",
   "execution_count": 69,
   "metadata": {},
   "outputs": [],
   "source": [
    "# # remove 2019 row from the observed data\n",
    "# obs_demand_NDJFM.drop(2019, inplace=True)"
   ]
  },
  {
   "cell_type": "code",
   "execution_count": 70,
   "metadata": {},
   "outputs": [
    {
     "name": "stdout",
     "output_type": "stream",
     "text": [
      "Length of observed data: 59\n",
      "Threshold from obs: 42.921959344673624\n"
     ]
    },
    {
     "name": "stderr",
     "output_type": "stream",
     "text": [
      "  0%|          | 0/1000 [00:00<?, ?it/s]"
     ]
    },
    {
     "name": "stderr",
     "output_type": "stream",
     "text": [
      "100%|██████████| 1000/1000 [00:00<00:00, 9596.43it/s]"
     ]
    },
    {
     "name": "stdout",
     "output_type": "stream",
     "text": [
      "boot obs:  [[43.00925085 43.12255218         nan ... 44.32308854 43.48797356\n",
      "  43.82230578]\n",
      " [43.126112   43.54884197         nan ...         nan         nan\n",
      "          nan]\n",
      " [        nan         nan         nan ... 43.14934755 43.25240249\n",
      "          nan]\n",
      " ...\n",
      " [43.00473027         nan         nan ...         nan 43.07558629\n",
      "  43.14934755]\n",
      " [43.77232787         nan 43.46570834 ...         nan 43.55822007\n",
      "          nan]\n",
      " [        nan         nan 43.126112   ...         nan 44.15326212\n",
      "  43.70598631]]\n",
      "rps obs:  [59.         29.5        19.66666667 14.75       11.8         9.83333333\n",
      "  8.42857143  7.375       6.55555556  5.9         5.36363636  4.91666667\n",
      "  4.53846154  4.21428571  3.93333333  3.6875      3.47058824  3.27777778\n",
      "  3.10526316  2.95        2.80952381  2.68181818  2.56521739  2.45833333\n",
      "  2.36        2.26923077  2.18518519  2.10714286  2.03448276  1.96666667\n",
      "  1.90322581  1.84375     1.78787879  1.73529412  1.68571429  1.63888889\n",
      "  1.59459459  1.55263158  1.51282051  1.475       1.43902439  1.4047619\n",
      "  1.37209302  1.34090909  1.31111111  1.2826087   1.25531915  1.22916667\n",
      "  1.20408163  1.18        1.15686275  1.13461538  1.11320755  1.09259259\n",
      "  1.07272727  1.05357143  1.03508772  1.01724138  1.        ]\n"
     ]
    },
    {
     "name": "stderr",
     "output_type": "stream",
     "text": [
      "\n"
     ]
    },
    {
     "name": "stdout",
     "output_type": "stream",
     "text": [
      "rvs obs:  [[45.16721628 45.16721628 45.16721628 ... 45.16721628 45.16721628\n",
      "  45.16721628]\n",
      " [44.51166831 45.16721628 44.51166831 ... 45.16721628 44.51166831\n",
      "  44.51166831]\n",
      " [44.51166831 44.51166831 44.46052803 ... 44.51166831 44.51166831\n",
      "  44.51166831]\n",
      " ...\n",
      " [42.96009813 42.92259272 42.92195934 ... 42.92195934 42.95932861\n",
      "  42.95932861]\n",
      " [42.95932861 42.92195934 42.92195934 ... 42.92195934 42.92195934\n",
      "  42.92195934]\n",
      " [42.92195934 42.92195934 42.92195934 ... 42.92195934 42.92195934\n",
      "  42.92195934]]\n",
      "rvs obs shape:  (59, 59)\n",
      "rvs model obs len:  [[44.81020106 44.81020106 44.79822983 ... 44.77705039 44.76269991\n",
      "  44.79687459]\n",
      " [44.51638191 44.56769171 44.57390752 ... 44.36077422 44.42795357\n",
      "  44.4334457 ]\n",
      " [44.35468536 44.3571377  44.4334457  ... 44.28459175 44.28263254\n",
      "  44.31916638]\n",
      " ...\n",
      " [42.95377435 42.95642284 42.9595627  ... 42.95580082 42.9539225\n",
      "  42.94584022]\n",
      " [42.93956841 42.94808207 42.94584022 ... 42.94477296 42.94297801\n",
      "  42.93956841]\n",
      " [42.92470147 42.92470147 42.92470147 ... 42.92470147 42.92470147\n",
      "  42.92470147]]\n",
      "rvs model obs len shape:  (59, 59)\n",
      "ci_return_obs:  [[44.60666721 44.51166831 44.38493631 44.32308854 44.28192794 44.28192794\n",
      "  44.23722434 44.23722434 44.15326212 44.15326212 44.00174119 44.00174119\n",
      "  43.82230578 43.82230578 43.77232787 43.70598631 43.70598631 43.60972654\n",
      "  43.60972654 43.59547791 43.59547791 43.55822007 43.55822007 43.54884197\n",
      "  43.54658245 43.50844449 43.49718548 43.48797356 43.46570834 43.46570834\n",
      "  43.41858616 43.38003165 43.34699629 43.34699629 43.2949697  43.25240249\n",
      "  43.25240249 43.15508958 43.15508958 43.14934755 43.14934755 43.1277354\n",
      "  43.1277354  43.126112   43.126112   43.12255218 43.12255218 43.07558629\n",
      "  43.07558629 43.00925085 43.00925085 43.00579912 43.00473027 42.95932861\n",
      "  42.95932861 42.95932861 42.92195934 42.92195934 42.92195934]\n",
      " [45.16721628 45.16721628 44.56666767 44.51166831 44.50160007 44.32308854\n",
      "  44.32308854 44.28192794 44.28192794 44.25639385 44.23722434 44.19944134\n",
      "  44.15326212 44.0850777  44.00174119 43.92099526 43.82230578 43.79981572\n",
      "  43.77232787 43.74247417 43.70598631 43.69497354 43.60972654 43.60331466\n",
      "  43.59547791 43.59547791 43.55822007 43.55399993 43.54884197 43.54021471\n",
      "  43.50844449 43.48797356 43.48797356 43.47795421 43.46570834 43.42555647\n",
      "  43.38003165 43.36516574 43.34699629 43.30442908 43.25240249 43.25240249\n",
      "  43.15508958 43.15508958 43.14934755 43.14934755 43.1277354  43.126112\n",
      "  43.126112   43.12255218 43.12255218 43.07558629 43.07558629 43.00925085\n",
      "  43.00473027 43.00473027 42.95932861 42.95761849 42.92195934]]\n",
      "ci_return_model_full:  [[44.84109268 44.83489924 44.81617325 ... 42.92470147 42.92470147\n",
      "  42.92470147]\n",
      " [45.15046348 45.15046348 45.15046348 ... 42.94140403 42.93844945\n",
      "  42.93356922]]\n",
      "ci_return_model_len_obs:  [[44.61089818 44.39008532 44.25585578 44.16877863 44.05903352 44.00259765\n",
      "  43.94835056 43.90162359 43.84703393 43.77290042 43.74022505 43.68908361\n",
      "  43.6597675  43.61718874 43.59251224 43.57538868 43.55389477 43.52272389\n",
      "  43.49905629 43.48822528 43.46607802 43.44603649 43.43590723 43.41685415\n",
      "  43.40000897 43.38548325 43.35883952 43.3540596  43.34571938 43.33534151\n",
      "  43.30019841 43.27577793 43.26775891 43.23471019 43.21738635 43.19414511\n",
      "  43.18897008 43.18237896 43.17367969 43.16344751 43.14796724 43.14015939\n",
      "  43.13011816 43.11297024 43.09428539 43.07551526 43.06882265 43.05955899\n",
      "  43.04939956 43.03338942 43.02055013 43.01127888 42.99535563 42.98154535\n",
      "  42.96882512 42.96168908 42.94902605 42.9370518  42.92470147]\n",
      " [44.83953608 44.76876424 44.50802254 44.36077422 44.27135958 44.19453291\n",
      "  44.15912429 44.0444062  43.97983674 43.94168127 43.90184869 43.86660111\n",
      "  43.82968241 43.79638603 43.77228387 43.73729444 43.69032939 43.65916768\n",
      "  43.6182041  43.58588342 43.56251997 43.53749989 43.50223616 43.49139833\n",
      "  43.47117778 43.46239938 43.44819386 43.43918324 43.41720218 43.40557779\n",
      "  43.3884093  43.36144711 43.35249215 43.34394896 43.32740003 43.28157729\n",
      "  43.27459676 43.26431342 43.2357339  43.21196287 43.18862801 43.18491914\n",
      "  43.17390812 43.15597612 43.14385889 43.13601259 43.12429948 43.09913356\n",
      "  43.08625429 43.07105581 43.05809262 43.04644697 43.02581387 43.01377286\n",
      "  43.001618   42.98379045 42.96671401 42.95400238 42.93356922]]\n"
     ]
    },
    {
     "name": "stderr",
     "output_type": "stream",
     "text": [
      "/tmp/ipykernel_17051/3526340486.py:202: UserWarning: Attempted to set non-positive bottom ylim on a log-scaled axis.\n",
      "Invalid limit will be ignored.\n",
      "  ax.set_ylim(0, 45)\n"
     ]
    },
    {
     "data": {
      "image/png": "[encoded data removed]",
      "text/plain": [
       "<Figure size 720x576 with 1 Axes>"
      ]
     },
     "metadata": {
      "needs_background": "light"
     },
     "output_type": "display_data"
    }
   ],
   "source": [
    "# test the function\n",
    "plot_evt(\n",
    "    obs_df=obs_demand_NDJFM,\n",
    "    model_df=model_demand_NDJFM,\n",
    "    obs_col=\"United_Kingdom_demand\", # not detrended data\n",
    "    model_col=\"United_Kingdom_demand\", # want absolute values\n",
    "    unc_range=[0.025, 0.975],\n",
    "    nboot=1000,\n",
    "    fontsize=12,\n",
    "    figsize=(10, 8),\n",
    "    save_dir=\"/gws/nopw/j04/canari/users/benhutch/plots/\",\n",
    ")"
   ]
  },
  {
   "cell_type": "code",
   "execution_count": null,
   "metadata": {},
   "outputs": [],
   "source": []
  },
  {
   "cell_type": "code",
   "execution_count": 90,
   "metadata": {},
   "outputs": [],
   "source": [
    "import matplotlib.ticker as ticker\n",
    "import scipy.stats as stats\n",
    "\n",
    "def plot_evt_gpd(\n",
    "    obs_df: pd.DataFrame,\n",
    "    model_df: pd.DataFrame,\n",
    "    obs_col: str,\n",
    "    model_col: str,\n",
    "    unc_range: list = [0.025, 0.975],\n",
    "    nboot: int = 1000,\n",
    "    fontsize: int = 12,\n",
    "    figsize: tuple = (10, 8),\n",
    "    save_dir: str = \"/gws/nopw/j04/canari/users/benhutch/plots/\",\n",
    "):\n",
    "    \"\"\"\n",
    "    Plots the extreme value theory (EVT) using a Generalised Pareto Distribution (GPD) fitted to observations.\n",
    "\n",
    "    Parameters:\n",
    "\n",
    "        obs_df (pd.DataFrame): DataFrame containing the observed data.\n",
    "        model_df (pd.DataFrame): DataFrame containing the model data.\n",
    "        obs_col (str): Column name of the observed data in obs_df.\n",
    "        model_col (str): Column name of the model data in model_df.\n",
    "        unc_range (list, optional): List containing the lower and upper percentiles for the uncertainty range. Defaults to [0.025, 0.975].\n",
    "        nboot (int, optional): Number of bootstrap samples to generate. Defaults to 1000.\n",
    "        fontsize (int, optional): Font size for the plot. Defaults to 12.\n",
    "        figsize (tuple, optional): Size of the figure for the plot. Defaults to (10, 8).\n",
    "        save_dir (str, optional): Directory to save the plot. Defaults to \"/gws/nopw/j04/canari/users/benhutch/plots/\".\n",
    "\n",
    "    Returns:\n",
    "\n",
    "        None. The function saves the plot to the specified directory.\n",
    "\n",
    "    \"\"\"\n",
    "\n",
    "    # extract the first unique member from the model data\n",
    "    model_member = model_df[\"member\"].unique()[0]\n",
    "\n",
    "    # assert that the length of the observed data is the same as the\n",
    "    # model data when constrained to the first member\n",
    "    assert len(obs_df) == len(\n",
    "        model_df.loc[model_df[\"member\"] == model_member]\n",
    "    ), \"Length of observed data and model data do not match\"\n",
    "\n",
    "    # Set up the length of the observed data\n",
    "    obs_len = len(obs_df)\n",
    "\n",
    "    # print the observed length\n",
    "    print(f\"Length of observed data: {obs_len}\")\n",
    "\n",
    "    # TODO: Set a threshold for demand extremes? How to do this?\n",
    "    # First pass - set the threshold as the 75th percentile of the observed data\n",
    "    obs_threshold = obs_df[obs_col].quantile(0.50)\n",
    "\n",
    "    # print the threshold\n",
    "    print(f\"Threshold from obs: {obs_threshold}\")\n",
    "\n",
    "    # Set up the bootstrap array\n",
    "    # e.g. with len (1000, len(obs_df)) for 1000 bootstrap samples\n",
    "    boot_obs = np.zeros([nboot, len(obs_df)])\n",
    "\n",
    "    # Set up the bootstrapped array for model data\n",
    "    # resample to len obs\n",
    "    boot_model_len_obs = np.zeros([nboot, len(obs_df)])\n",
    "\n",
    "    # Set up the bootstrapped array for model data\n",
    "    # resample to full length\n",
    "    boot_model_full = np.zeros([nboot, len(model_df)])\n",
    "\n",
    "    # loop over the number of bootstraps\n",
    "    for i in tqdm(range(nboot)):\n",
    "        # Create a boolean mask for values above the threshold\n",
    "        mask = obs_df[obs_col] > obs_threshold\n",
    "\n",
    "        # Sample the observed data with replacement, only for values above the threshold\n",
    "        boot_obs[i, :] = np.random.choice(\n",
    "            obs_df[obs_col][mask], size=len(obs_df), replace=True\n",
    "        )\n",
    "\n",
    "        # # remove Nan values\n",
    "        # boot_obs = boot_obs[~np.isnan(boot_obs).all(axis=1)]\n",
    "\n",
    "        # # print boot obs\n",
    "        # print(\"boot obs: \", boot_obs[i, :])\n",
    "\n",
    "        # Fit a GPD to the bootstrapped observed data\n",
    "        try:\n",
    "            params = stats.genpareto.fit(boot_obs[i, :])\n",
    "        except RuntimeError:\n",
    "            continue  # Skip this bootstrap if the fit did not converge\n",
    "\n",
    "    # Calculate the return periods\n",
    "    rps_obs_len = obs_len / np.arange(1, obs_len + 1)\n",
    "    rps_model_len = len(model_df) / np.arange(1, len(model_df) + 1)\n",
    "\n",
    "    # calculate the chance of occurenece - 1/rps\n",
    "    chance_obs_len = (1 / rps_obs_len) * 100\n",
    "    chance_model_len = (1 / rps_model_len) * 100\n",
    "\n",
    "    # calculate the 2.5% and 97.5% percentiles for the return values\n",
    "    # using the Generalised Pareto Distribution (GPD)\n",
    "    rvs_obs_25 = stats.genpareto.ppf(0.025, *params)\n",
    "\n",
    "    # print the rvs obs 25\n",
    "    print(\"rvs obs 25: \", rvs_obs_25)\n",
    "\n",
    "    # Calculate the 97.5% percentile for the return values\n",
    "    rvs_obs_975 = stats.genpareto.ppf(0.975, *params)\n",
    "\n",
    "    # print the rvs obs 975\n",
    "    print(\"rvs obs 975: \", rvs_obs_975)\n",
    "\n",
    "    # Calculate the return values for each bootstrapped sample\n",
    "    rvs_obs = stats.genpareto.ppf(1 - 1 / rps_obs_len, *params)\n",
    "    rvs_model_obs_len = np.nanquantile(boot_model_len_obs, q=1 - 1 / rps_obs_len, axis=0)\n",
    "    rvs_model_full = np.nanquantile(boot_model_full, q=1 - 1 / rps_model_len, axis=0)\n",
    "\n",
    "    print(\"rvs obs: \", rvs_obs)\n",
    "\n",
    "    # print the rvs model obs len\n",
    "    print(\"rvs model obs len: \", rvs_model_obs_len)\n",
    "\n",
    "    sys.exit()\n",
    "\n",
    "    # Calculate the uncertainty range\n",
    "    ci_return_obs = np.nanquantile(rvs_obs, q=unc_range, axis=1)\n",
    "    ci_return_model_len_obs = np.nanquantile(rvs_model_obs_len, q=unc_range, axis=1)\n",
    "    ci_return_model_full = np.nanquantile(rvs_model_full, q=unc_range, axis=1)\n",
    "\n",
    "    # extract the ci_25 and ci_975\n",
    "    ci_25_obs, ci_975_obs = ci_return_obs\n",
    "    ci_25_model_len_obs, ci_975_model_len_obs = ci_return_model_len_obs\n",
    "    ci_25_model_full, ci_975_model_full = ci_return_model_full\n",
    "\n",
    "\n",
    "    # Set up the plot\n",
    "    # Set up the plot\n",
    "    fig, ax = plt.subplots(figsize=figsize)\n",
    "\n",
    "    # Plot the observed data as the 2.5th and 97.5th percentiles\n",
    "    # with return periods on the y-axis\n",
    "    ax.plot(ci_25_obs, chance_obs_len, color=\"blue\", label=\"2.5th percentile\")\n",
    "    ax.plot(ci_975_obs, chance_obs_len, color=\"blue\", label=\"97.5th percentile\")\n",
    "\n",
    "    # Plot the model data resampled to the length of the observed data\n",
    "    # as the 2.5th and 97.5th percentiles with return periods on the y-axis\n",
    "    ax.plot(ci_25_model_len_obs, chance_obs_len, color=\"grey\", label=\"Lower bound\")\n",
    "    ax.plot(ci_975_model_len_obs, chance_obs_len, color=\"grey\", label=\"Upper bound\")\n",
    "\n",
    "    # Plot the model data resampled to the full length\n",
    "    # as the 2.5th and 97.5th percentiles with return periods on the y-axis\n",
    "    ax.fill_betweenx(\n",
    "        chance_model_len,\n",
    "        ci_25_model_full,\n",
    "        ci_975_model_full,\n",
    "        color=\"red\",\n",
    "        alpha=0.5,\n",
    "        label=\"Model (full length)\",\n",
    "    )\n",
    "\n",
    "    # include a legend\n",
    "    ax.legend()\n",
    "\n",
    "    # set y-axis to logarithmic scale\n",
    "    ax.set_yscale(\"log\")\n",
    "\n",
    "    # specify the points which should be marked on the y-axis\n",
    "    yticks = [1, 2, 5, 10, 15, 30, 40]\n",
    "\n",
    "    # mark the points on the y-axis\n",
    "    ax.set_yticks(yticks)\n",
    "\n",
    "    # format the y-ticks as integers\n",
    "    ax.yaxis.set_major_formatter(ticker.FuncFormatter(lambda y, _: '{:g}'.format(y)))\n",
    "\n",
    "    # limit y-axis between 34 and 1\n",
    "    ax.set_ylim(0, 45)\n",
    "\n",
    "    # constrain the x-axis to the length of the observed data\n",
    "    ax.set_xlim(43, 45.5)\n",
    "\n",
    "    # include a dashed line at 1\n",
    "    ax.axhline(1, color=\"black\", linestyle=\"--\")\n",
    "\n",
    "    # # limit y-axis to 100\n",
    "    # ax.set_ylim(1, 50)\n",
    "\n",
    "    # # invert the y-axis\n",
    "    # ax.invert_yaxis()\n",
    "\n",
    "    # print(\"Exiting\")\n",
    "    # sys.exit()"
   ]
  },
  {
   "cell_type": "code",
   "execution_count": 91,
   "metadata": {},
   "outputs": [
    {
     "name": "stdout",
     "output_type": "stream",
     "text": [
      "Length of observed data: 59\n",
      "Threshold from obs: 42.921959344673624\n"
     ]
    },
    {
     "name": "stderr",
     "output_type": "stream",
     "text": [
      "  0%|          | 0/100 [00:00<?, ?it/s]"
     ]
    },
    {
     "name": "stderr",
     "output_type": "stream",
     "text": [
      "100%|██████████| 100/100 [00:07<00:00, 12.66it/s]\n"
     ]
    },
    {
     "name": "stdout",
     "output_type": "stream",
     "text": [
      "rvs obs 25:  3.6214082265006247\n",
      "rvs obs 975:  45.16706239267021\n",
      "rvs obs:  [45.16717545 45.16678115 45.16547956 45.1625794  45.15728417 45.1487092\n",
      " 45.13589278 45.11780411 45.09334932 45.06137627 45.0206785  44.96999845\n",
      " 44.9080303  44.83342234 44.74477911 44.64066326 44.5195972  44.3800646\n",
      " 44.22051177 44.03934887 43.83495104 43.60565945 43.34978226 43.06559549\n",
      " 42.75134388 42.40524163 42.02547313 41.61019367 41.15753001 40.66558108\n",
      " 40.13241843 39.55608689 38.93460496 38.26596541 37.54813566 36.77905823\n",
      " 35.95665121 35.0788086  34.14340074 33.14827463 32.09125435 30.97014131\n",
      " 29.78271467 28.52673158 27.19992751 25.80001655 24.32469167 22.771625\n",
      " 21.13846808 19.42285215 17.62238833 15.73466794 13.75726263 11.6877247\n",
      "  9.52358725  7.2623644   4.90155153  2.43862541 -0.12895552]\n",
      "rvs model obs len:  [[0. 0. 0. ... 0. 0. 0.]\n",
      " [0. 0. 0. ... 0. 0. 0.]\n",
      " [0. 0. 0. ... 0. 0. 0.]\n",
      " ...\n",
      " [0. 0. 0. ... 0. 0. 0.]\n",
      " [0. 0. 0. ... 0. 0. 0.]\n",
      " [0. 0. 0. ... 0. 0. 0.]]\n"
     ]
    },
    {
     "ename": "SystemExit",
     "evalue": "",
     "output_type": "error",
     "traceback": [
      "An exception has occurred, use %tb to see the full traceback.\n",
      "\u001b[0;31mSystemExit\u001b[0m\n"
     ]
    },
    {
     "name": "stderr",
     "output_type": "stream",
     "text": [
      "/apps/jasmin/jaspy/miniconda_envs/jaspy3.10/m3-4.9.2/envs/jaspy3.10-m3-4.9.2-r20220721/lib/python3.10/site-packages/IPython/core/interactiveshell.py:3406: UserWarning: To exit: use 'exit', 'quit', or Ctrl-D.\n",
      "  warn(\"To exit: use 'exit', 'quit', or Ctrl-D.\", stacklevel=1)\n"
     ]
    }
   ],
   "source": [
    "# test the new function\n",
    "plot_evt_gpd(\n",
    "    obs_df=obs_demand_NDJFM,\n",
    "    model_df=model_demand_NDJFM,\n",
    "    obs_col=\"United_Kingdom_demand\", # not detrended data\n",
    "    model_col=\"United_Kingdom_demand\", # want absolute values\n",
    "    unc_range=[0.025, 0.975],\n",
    "    nboot=100,\n",
    "    fontsize=12,\n",
    "    figsize=(10, 8),\n",
    "    save_dir=\"/gws/nopw/j04/canari/users/benhutch/plots/\",\n",
    ")"
   ]
  },
  {
   "cell_type": "code",
   "execution_count": 92,
   "metadata": {},
   "outputs": [
    {
     "name": "stdout",
     "output_type": "stream",
     "text": [
      "Threshold from obs: 42.921959344673624\n"
     ]
    }
   ],
   "source": [
    "# simplify this first\n",
    "# pareto fit to the obs data\n",
    "# set up the observed threshold\n",
    "obs_threshold = obs_demand_NDJFM[\"United_Kingdom_demand\"].quantile(0.50)\n",
    "\n",
    "# print the threshold\n",
    "print(f\"Threshold from obs: {obs_threshold}\")\n",
    "\n",
    "# create an array of the values above the threshold\n",
    "mask = obs_demand_NDJFM[\"United_Kingdom_demand\"] > obs_threshold\n",
    "values = obs_demand_NDJFM[\"United_Kingdom_demand\"][mask]"
   ]
  },
  {
   "cell_type": "code",
   "execution_count": 93,
   "metadata": {},
   "outputs": [
    {
     "data": {
      "text/plain": [
       "<AxesSubplot:>"
      ]
     },
     "execution_count": 93,
     "metadata": {},
     "output_type": "execute_result"
    },
    {
     "data": {
      "image/png": "[encoded data removed]",
      "text/plain": [
       "<Figure size 432x288 with 1 Axes>"
      ]
     },
     "metadata": {
      "needs_background": "light"
     },
     "output_type": "display_data"
    }
   ],
   "source": [
    "# plot these values as a histogram\n",
    "fig, ax = plt.subplots()\n",
    "\n",
    "# plot the histogram\n",
    "values.hist(ax=ax, bins=20)"
   ]
  },
  {
   "cell_type": "code",
   "execution_count": 105,
   "metadata": {},
   "outputs": [
    {
     "name": "stdout",
     "output_type": "stream",
     "text": [
      "(-3.495804079933853, -0.13207021634181648, 158.3574305542395)\n"
     ]
    },
    {
     "data": {
      "image/png": "[encoded data removed]",
      "text/plain": [
       "<Figure size 432x288 with 1 Axes>"
      ]
     },
     "metadata": {
      "needs_background": "light"
     },
     "output_type": "display_data"
    }
   ],
   "source": [
    "# plot the fitted distribution# Check if the threshold is less than the maximum value in the data\n",
    "if obs_threshold < np.max(values):\n",
    "    # Fit a pareto distribution to the data\n",
    "    params = stats.genpareto.fit(values)\n",
    "\n",
    "    # print the parameters\n",
    "    print(params)\n",
    "\n",
    "    # replace b with 3.5\n",
    "    params = (-3.495804079933853, params[1], params[2])\n",
    "\n",
    "    fig, ax = plt.subplots()\n",
    "\n",
    "    # Plot the histogram and the fitted distribution\n",
    "    x = np.linspace(40, 50, 1000)\n",
    "\n",
    "    # Plot the fitted distribution\n",
    "    # Plot the fitted distribution\n",
    "    ax.plot(x, stats.genpareto.pdf(x, *params), label=\"Fitted distribution\")\n",
    "\n",
    "    # Plot the histogram\n",
    "    values.hist(ax=ax, bins=20, density=True, alpha=0.5, label=\"Histogram\")\n",
    "\n",
    "    # Plot the threshold\n",
    "    ax.axvline(obs_threshold, color=\"black\", linestyle=\"--\")\n",
    "else:\n",
    "    print(\"Threshold is greater than the maximum value in the data. Skipping fitting and plotting process.\")"
   ]
  },
  {
   "cell_type": "code",
   "execution_count": 107,
   "metadata": {},
   "outputs": [],
   "source": [
    "from scipy.stats import pareto\n",
    "\n",
    "b = 2.62\n",
    "mean, var, skew, kurt = pareto.stats(b, moments='mvsk')"
   ]
  },
  {
   "cell_type": "markdown",
   "metadata": {},
   "source": [
    "Using the climate match stuff as a clue:\n",
    "\n",
    "* https://comptools.climatematch.io/tutorials/W2D3_ExtremesandVariability/student/W2D3_Tutorial4.html\n",
    "\n",
    "Very helpful!"
   ]
  },
  {
   "cell_type": "code",
   "execution_count": 110,
   "metadata": {},
   "outputs": [
    {
     "name": "stdout",
     "output_type": "stream",
     "text": [
      "43.602079473299895 0.285036484232324 1.1001958052469374 1.122437417199221\n",
      "42.95932860922453 45.167216280639416\n"
     ]
    }
   ],
   "source": [
    "# print the values\n",
    "print(values.mean(), values.var(), values.skew(), values.kurt())\n",
    "\n",
    "# print the min and max\n",
    "print(values.min(), values.max())"
   ]
  },
  {
   "cell_type": "code",
   "execution_count": 137,
   "metadata": {},
   "outputs": [],
   "source": [
    "# define a function for calculating the empirical return period\n",
    "def empirical_return_level(\n",
    "    data: np.ndarray,\n",
    "):\n",
    "    \"\"\"\n",
    "    Function to calculate the empirical return level for a given dataset.\n",
    "\n",
    "    Args:\n",
    "        data (np.ndarray): Array containing the data of interest.\n",
    "\n",
    "    Returns:\n",
    "        np.ndarray: Array containing the empirical return levels.\n",
    "\n",
    "    \"\"\"\n",
    "\n",
    "    # assert that the data is a numpy array\n",
    "    assert isinstance(data, np.ndarray), \"Data must be a numpy array\"\n",
    "\n",
    "    # create a dataframe from the data\n",
    "    df = pd.DataFrame(index=np.arange(data.size))\n",
    "\n",
    "    # Sort the data\n",
    "    df[\"sorted\"] = np.sort(data)[::-1]\n",
    "\n",
    "    # rank via scipy (notice the negative here)\n",
    "    df[\"rank_sp\"] = np.sort(stats.rankdata(-data))\n",
    "\n",
    "    # find the exceedance probability\n",
    "    n = data.size\n",
    "    df[\"exceedance\"] = df[\"rank_sp\"] / (n + 1)\n",
    "\n",
    "    # find the return period\n",
    "    df[\"period\"] = 1 / df[\"exceedance\"]\n",
    "\n",
    "    # reverse the order of rows\n",
    "    df = df[::-1]\n",
    "\n",
    "    # transform into xarray dataarray\n",
    "    out = xr.DataArray(\n",
    "        dims=[\"period\"],\n",
    "        coords={\"period\": df[\"period\"]},\n",
    "        data=df[\"sorted\"],\n",
    "        name=\"level\",\n",
    "    )\n",
    "\n",
    "    return out"
   ]
  },
  {
   "cell_type": "code",
   "execution_count": 129,
   "metadata": {},
   "outputs": [],
   "source": [
    "# rename values\n",
    "data = values"
   ]
  },
  {
   "cell_type": "code",
   "execution_count": 130,
   "metadata": {},
   "outputs": [],
   "source": [
    "from scipy.stats import genextreme as gev"
   ]
  },
  {
   "cell_type": "code",
   "execution_count": 131,
   "metadata": {},
   "outputs": [
    {
     "name": "stdout",
     "output_type": "stream",
     "text": [
      "Fitted parameters:\n",
      "Shape: -0.22273, Location: 43.32429, Scale: 0.34106\n"
     ]
    }
   ],
   "source": [
    "shape, loc, scale = gev.fit(data.values, 0)\n",
    "print(f\"Fitted parameters:\\nShape: {shape:.5f}, Location: {loc:.5f}, Scale: {scale:.5f}\")"
   ]
  },
  {
   "cell_type": "code",
   "execution_count": 132,
   "metadata": {},
   "outputs": [],
   "source": [
    "def estimate_return_level(quantile, loc, scale, shape):\n",
    "    level = loc + scale / shape * (1 - (-np.log(quantile)) ** (shape))\n",
    "    return level"
   ]
  },
  {
   "cell_type": "code",
   "execution_count": 133,
   "metadata": {},
   "outputs": [
    {
     "data": {
      "text/plain": [
       "45.444626552435004"
      ]
     },
     "execution_count": 133,
     "metadata": {},
     "output_type": "execute_result"
    }
   ],
   "source": [
    "# estimate the return level for the two year return level (0.2)\n",
    "quantile = 0.98\n",
    "\n",
    "# estimate the return level\n",
    "estimate_return_level(quantile, loc, scale, shape)"
   ]
  },
  {
   "cell_type": "code",
   "execution_count": 134,
   "metadata": {},
   "outputs": [
    {
     "data": {
      "text/plain": [
       "45.444626552435004"
      ]
     },
     "execution_count": 134,
     "metadata": {},
     "output_type": "execute_result"
    }
   ],
   "source": [
    "# estimate this using the percent point function\n",
    "gev.ppf(quantile, shape, loc, scale)"
   ]
  },
  {
   "cell_type": "code",
   "execution_count": 135,
   "metadata": {},
   "outputs": [
    {
     "data": {
      "image/png": "[encoded data removed]",
      "text/plain": [
       "<Figure size 432x288 with 1 Axes>"
      ]
     },
     "metadata": {
      "needs_background": "light"
     },
     "output_type": "display_data"
    }
   ],
   "source": [
    "periods = np.arange(2, 100, 2)\n",
    "quantiles = 1 - 1 / periods\n",
    "levels = estimate_return_level(quantiles, loc, scale, shape)\n",
    "\n",
    "fig, ax = plt.subplots()\n",
    "ax.plot(periods, levels, \".-\")\n",
    "ax.set_xlabel(\"Return Period (years)\")\n",
    "ax.set_ylabel(\"Return Level (mm/day)\")\n",
    "ax.set_xscale(\"log\")\n",
    "ax.grid(True)"
   ]
  },
  {
   "cell_type": "markdown",
   "metadata": {},
   "source": [
    "This looks okay?\n",
    "\n",
    "1 in 100-year return period has higher values."
   ]
  },
  {
   "cell_type": "code",
   "execution_count": 139,
   "metadata": {},
   "outputs": [
    {
     "data": {
      "text/plain": [
       "<matplotlib.legend.Legend at 0x7ed2dea77100>"
      ]
     },
     "execution_count": 139,
     "metadata": {},
     "output_type": "execute_result"
    },
    {
     "data": {
      "image/png": "[encoded data removed]",
      "text/plain": [
       "<Figure size 720x360 with 1 Axes>"
      ]
     },
     "metadata": {
      "needs_background": "light"
     },
     "output_type": "display_data"
    }
   ],
   "source": [
    "# plot the obs empirical thing and gev\n",
    "fig, ax = plt.subplots(figsize=(10, 5))\n",
    "\n",
    "# get empircal values and plot them\n",
    "_ = empirical_return_level(data.values).plot(ax=ax, marker=\".\", linestyle=\"None\")\n",
    "\n",
    "# Create a vector of years\n",
    "years = np.arange(1, 100, 0.1)\n",
    "\n",
    "# calculate and plot the normal return levels\n",
    "ax.plot(\n",
    "    years,\n",
    "    stats.norm.ppf(1 - 1 / years, loc=data.values.mean(), scale=data.values.std()),\n",
    ")\n",
    "\n",
    "# calculate and plot the GEV distribution, note the negtive shape parameter\n",
    "ax.plot(years, gev.ppf(1 - 1 / years, shape, loc=loc, scale=scale))\n",
    "# set x axis to log scale\n",
    "ax.set_xscale(\"log\")\n",
    "\n",
    "# show legend\n",
    "ax.legend([\"empirical\", \"normal\", \"GEV\"])"
   ]
  },
  {
   "cell_type": "code",
   "execution_count": 140,
   "metadata": {},
   "outputs": [
    {
     "data": {
      "text/plain": [
       "<matplotlib.legend.Legend at 0x7ed2dfe69930>"
      ]
     },
     "execution_count": 140,
     "metadata": {},
     "output_type": "execute_result"
    },
    {
     "data": {
      "image/png": "[encoded data removed]",
      "text/plain": [
       "<Figure size 720x360 with 1 Axes>"
      ]
     },
     "metadata": {
      "needs_background": "light"
     },
     "output_type": "display_data"
    }
   ],
   "source": [
    "# do the same, but for all of the model data\n",
    "model_data = model_demand_NDJFM[\"United_Kingdom_demand\"].values\n",
    "\n",
    "# plot the obs empirical thing and gev\n",
    "fig, ax = plt.subplots(figsize=(10, 5))\n",
    "\n",
    "# get empircal values and plot them\n",
    "_ = empirical_return_level(model_data).plot(ax=ax, marker=\".\", linestyle=\"None\")\n",
    "\n",
    "# Create a vector of years\n",
    "years = np.arange(1, 500, 0.1)\n",
    "\n",
    "# calculate and plot the normal return levels\n",
    "ax.plot(\n",
    "    years,\n",
    "    stats.norm.ppf(1 - 1 / years, loc=model_data.mean(), scale=model_data.std()),\n",
    ")\n",
    "\n",
    "# calculate and plot the GEV distribution, note the negtive shape parameter\n",
    "shape, loc, scale = gev.fit(model_data, 0)\n",
    "ax.plot(years, gev.ppf(1 - 1 / years, shape, loc=loc, scale=scale))\n",
    "\n",
    "# set x axis to log scale\n",
    "ax.set_xscale(\"log\")\n",
    "\n",
    "# show legend\n",
    "ax.legend([\"empirical\", \"normal\", \"GEV\"])"
   ]
  },
  {
   "cell_type": "markdown",
   "metadata": {},
   "source": [
    "range of uncertainty for the obs data"
   ]
  },
  {
   "cell_type": "code",
   "execution_count": 144,
   "metadata": {},
   "outputs": [
    {
     "name": "stderr",
     "output_type": "stream",
     "text": [
      "100%|██████████| 1000/1000 [00:39<00:00, 25.14it/s]\n"
     ]
    },
    {
     "name": "stdout",
     "output_type": "stream",
     "text": [
      "Mean estimate:  [-0.21108639 43.33853577  0.33590636]  and 95% confidence intervals:  [[-0.74648449 43.1567411   0.21142211]\n",
      " [ 0.20369687 43.55403767  0.48541443]]\n"
     ]
    },
    {
     "data": {
      "text/plain": [
       "Text(0, 0.5, 'Return Level (GW)')"
      ]
     },
     "execution_count": 144,
     "metadata": {},
     "output_type": "execute_result"
    },
    {
     "data": {
      "image/png": "[encoded data removed]",
      "text/plain": [
       "<Figure size 432x288 with 1 Axes>"
      ]
     },
     "metadata": {
      "needs_background": "light"
     },
     "output_type": "display_data"
    }
   ],
   "source": [
    "# generate confidence intervals for these plots\n",
    "params = []\n",
    "\n",
    "# generate 1000 samples by resampling data with replacement\n",
    "for i in tqdm(range(1000)):\n",
    "    params.append(\n",
    "        gev.fit(np.random.choice(data.values, size=len(data.values), replace=True))\n",
    "    )\n",
    "\n",
    "# print the estimate of the mean of each parameter and it's confidence intervals\n",
    "print(\n",
    "    \"Mean estimate: \",\n",
    "    np.mean(np.array(params), axis=0),\n",
    "    \" and 95% confidence intervals: \",\n",
    "    np.quantile(np.array(params), [0.025, 0.975], axis=0),\n",
    ")\n",
    "\n",
    "# generate years vector\n",
    "years = np.arange(1.1, 100, 0.1)\n",
    "\n",
    "# intialize list for return levels\n",
    "levels = []\n",
    "\n",
    "# calculate return levels for each of the 1000 samples\n",
    "for i in range(1000):\n",
    "    levels.append(gev.ppf(1 - 1 / years, *params[i]))\n",
    "levels = np.array(levels)"
   ]
  },
  {
   "cell_type": "code",
   "execution_count": 147,
   "metadata": {},
   "outputs": [
    {
     "data": {
      "text/plain": [
       "Text(0, 0.5, 'Return Level (GW)')"
      ]
     },
     "execution_count": 147,
     "metadata": {},
     "output_type": "execute_result"
    },
    {
     "data": {
      "image/png": "[encoded data removed]",
      "text/plain": [
       "<Figure size 432x288 with 1 Axes>"
      ]
     },
     "metadata": {
      "needs_background": "light"
     },
     "output_type": "display_data"
    }
   ],
   "source": [
    "# setup plots\n",
    "fig, ax = plt.subplots()\n",
    "\n",
    "# find empirical return levels\n",
    "_ = empirical_return_level(data.values).plot(ax=ax, marker=\".\", linestyle=\"None\")\n",
    "\n",
    "# plot return mean levels\n",
    "_ = ax.plot(years, levels.mean(axis=0), \"r-\")\n",
    "\n",
    "# plot confidence intervals\n",
    "_ = ax.plot(years, np.quantile(levels, [0.025, 0.975], axis=0).T, \"k--\")\n",
    "\n",
    "# shape, loc, scale = gev.fit(data.values, 0)\n",
    "# ax.plot(years, gev.ppf(1 - 1 / years, shape, loc=loc, scale=scale))\n",
    "\n",
    "# aesthetics\n",
    "ax.set_xlim(1.5, 100)\n",
    "ax.set_ylim(42, 46)\n",
    "ax.set_xscale(\"log\")\n",
    "ax.set_xlabel(\"Return Period (years)\")\n",
    "ax.set_ylabel(\"Return Level (GW)\")\n"
   ]
  },
  {
   "cell_type": "code",
   "execution_count": 151,
   "metadata": {},
   "outputs": [
    {
     "name": "stderr",
     "output_type": "stream",
     "text": [
      "  0%|          | 0/1000 [00:00<?, ?it/s]"
     ]
    },
    {
     "name": "stderr",
     "output_type": "stream",
     "text": [
      "100%|██████████| 1000/1000 [00:46<00:00, 21.59it/s]\n"
     ]
    },
    {
     "name": "stdout",
     "output_type": "stream",
     "text": [
      "Mean estimate:  [ 0.17417723 42.73562921  0.60481831]  and 95% confidence intervals:  [[ 0.1324522  42.68203493  0.57038438]\n",
      " [ 0.21626787 42.79096982  0.63872236]]\n"
     ]
    }
   ],
   "source": [
    "# do the same but for the full model data\n",
    "# generate confidence intervals for these plots\n",
    "params = []\n",
    "\n",
    "# generate 1000 samples by resampling data with replacement\n",
    "for i in tqdm(range(1000)):\n",
    "    params.append(\n",
    "        gev.fit(np.random.choice(model_data, size=len(model_data), replace=True))\n",
    "    )\n",
    "\n",
    "# print the estimate of the mean of each parameter and it's confidence intervals\n",
    "print(\n",
    "    \"Mean estimate: \",\n",
    "    np.mean(np.array(params), axis=0),\n",
    "    \" and 95% confidence intervals: \",\n",
    "    np.quantile(np.array(params), [0.025, 0.975], axis=0),\n",
    ")\n",
    "\n",
    "# generate years vector\n",
    "years = np.arange(1.1, 1000, 0.1)\n",
    "\n",
    "# intialize list for return levels\n",
    "levels = []\n",
    "\n",
    "# calculate return levels for each of the 1000 samples\n",
    "for i in range(1000):\n",
    "    levels.append(gev.ppf(1 - 1 / years, *params[i]))\n",
    "levels = np.array(levels)"
   ]
  },
  {
   "cell_type": "code",
   "execution_count": 154,
   "metadata": {},
   "outputs": [
    {
     "data": {
      "text/plain": [
       "Text(0, 0.5, 'Return Level (GW)')"
      ]
     },
     "execution_count": 154,
     "metadata": {},
     "output_type": "execute_result"
    },
    {
     "data": {
      "image/png": "[encoded data removed]",
      "text/plain": [
       "<Figure size 432x288 with 1 Axes>"
      ]
     },
     "metadata": {
      "needs_background": "light"
     },
     "output_type": "display_data"
    }
   ],
   "source": [
    "# setup plots\n",
    "fig, ax = plt.subplots()\n",
    "\n",
    "# find empirical return levels\n",
    "_ = empirical_return_level(model_data).plot(ax=ax, marker=\".\", linestyle=\"None\")\n",
    "\n",
    "# plot return mean levels\n",
    "_ = ax.plot(years, levels.mean(axis=0), \"r-\")\n",
    "\n",
    "# plot confidence intervals\n",
    "_ = ax.plot(years, np.quantile(levels, [0.025, 0.975], axis=0).T, \"k--\")\n",
    "\n",
    "# shape, loc, scale = gev.fit(data.values, 0)\n",
    "# ax.plot(years, gev.ppf(1 - 1 / years, shape, loc=loc, scale=scale))\n",
    "\n",
    "# aesthetics\n",
    "ax.set_xlim(1.5, 100)\n",
    "ax.set_ylim(42, 46)\n",
    "ax.set_xscale(\"log\")\n",
    "ax.set_xlabel(\"Return Period (years)\")\n",
    "ax.set_ylabel(\"Return Level (GW)\")"
   ]
  },
  {
   "cell_type": "code",
   "execution_count": 157,
   "metadata": {},
   "outputs": [
    {
     "name": "stderr",
     "output_type": "stream",
     "text": [
      "  0%|          | 0/1000 [00:00<?, ?it/s]"
     ]
    },
    {
     "name": "stderr",
     "output_type": "stream",
     "text": [
      " 22%|██▏       | 222/1000 [00:19<01:11, 10.86it/s]/apps/jasmin/jaspy/miniconda_envs/jaspy3.10/m3-4.9.2/envs/jaspy3.10-m3-4.9.2-r20220721/lib/python3.10/site-packages/scipy/stats/_continuous_distns.py:2500: RuntimeWarning: invalid value encountered in subtract\n",
      "  -pex2+logpex2-logex2)\n",
      "100%|██████████| 1000/1000 [01:26<00:00, 11.57it/s]\n"
     ]
    },
    {
     "name": "stdout",
     "output_type": "stream",
     "text": [
      "Mean estimate obs:  [-0.20590352 43.33979805  0.33535443]  and 95% confidence intervals:  [[-0.75582971 43.1580894   0.20736632]\n",
      " [ 0.32942465 43.58523266  0.49886158]]\n",
      "Mean estimate model:  [ 0.17355885 42.73718395  0.6047808 ]  and 95% confidence intervals:  [[ 0.13095913 42.68566982  0.57015976]\n",
      " [ 0.21933088 42.79357295  0.64027357]]\n"
     ]
    }
   ],
   "source": [
    "# plot both the observed and model data on the same plot\n",
    "params_obs = [] ; params_model = []\n",
    "\n",
    "# generate 1000 samples by resampling data with replacement\n",
    "for i in tqdm(range(1000)):\n",
    "    params_obs.append(\n",
    "        gev.fit(np.random.choice(data.values, size=len(data.values), replace=True))\n",
    "    )\n",
    "    params_model.append(\n",
    "        gev.fit(np.random.choice(model_data, size=len(model_data), replace=True))\n",
    "    )\n",
    "\n",
    "# print the estimate of the mean of each parameter and it's confidence intervals\n",
    "print(\n",
    "    \"Mean estimate obs: \",\n",
    "    np.mean(np.array(params_obs), axis=0),\n",
    "    \" and 95% confidence intervals: \",\n",
    "    np.quantile(np.array(params_obs), [0.025, 0.975], axis=0),\n",
    ")\n",
    "\n",
    "# print the estimate of the mean of each parameter and it's confidence intervals\n",
    "print(\n",
    "    \"Mean estimate model: \",\n",
    "    np.mean(np.array(params_model), axis=0),\n",
    "    \" and 95% confidence intervals: \",\n",
    "    np.quantile(np.array(params_model), [0.025, 0.975], axis=0),\n",
    ")\n",
    "\n",
    "# generate years vector\n",
    "years = np.arange(1.1, 100, 0.1)\n",
    "\n",
    "# intialize list for return levels\n",
    "levels_obs = [] ; levels_model = []\n",
    "\n",
    "# calculate return levels for each of the 1000 samples\n",
    "for i in range(1000):\n",
    "    levels_obs.append(gev.ppf(1 - 1 / years, *params_obs[i]))\n",
    "    levels_model.append(gev.ppf(1 - 1 / years, *params_model[i]))\n",
    "levels_obs = np.array(levels_obs)\n",
    "levels_model = np.array(levels_model)"
   ]
  },
  {
   "cell_type": "code",
   "execution_count": 161,
   "metadata": {},
   "outputs": [
    {
     "data": {
      "text/plain": [
       "<matplotlib.legend.Legend at 0x7ed2de3a3580>"
      ]
     },
     "execution_count": 161,
     "metadata": {},
     "output_type": "execute_result"
    },
    {
     "data": {
      "image/png": "[encoded data removed]",
      "text/plain": [
       "<Figure size 720x360 with 1 Axes>"
      ]
     },
     "metadata": {
      "needs_background": "light"
     },
     "output_type": "display_data"
    }
   ],
   "source": [
    "# setup plots\n",
    "fig, ax = plt.subplots(figsize=(10, 5))\n",
    "\n",
    "# find empirical return levels\n",
    "_ = empirical_return_level(data.values).plot(ax=ax, marker=\".\", linestyle=\"None\", color=\"k\")\n",
    "_ = empirical_return_level(model_data).plot(ax=ax, marker=\".\", linestyle=\"None\", color=\"r\")\n",
    "\n",
    "# plot return mean levels\n",
    "_ = ax.plot(years, levels_obs.mean(axis=0), \"k-\", label=\"Observations\")\n",
    "_ = ax.plot(years, levels_model.mean(axis=0), \"r-\", label=\"Model\")\n",
    "\n",
    "# plot confidence intervals\n",
    "_ = ax.plot(years, np.quantile(levels_obs, [0.025, 0.975], axis=0).T, \"k--\")\n",
    "_ = ax.plot(years, np.quantile(levels_model, [0.025, 0.975], axis=0).T, \"r--\")\n",
    "\n",
    "# aesthetics\n",
    "ax.set_xlim(1.5, 100)\n",
    "ax.set_ylim(42, 46)\n",
    "ax.set_xscale(\"log\")\n",
    "ax.set_xlabel(\"Return Period (years)\")\n",
    "ax.set_ylabel(\"Return Level (GW)\")\n",
    "\n",
    "# show legend\n",
    "ax.legend(loc=\"upper left\")"
   ]
  }
 ],
 "metadata": {
  "kernelspec": {
   "display_name": "Python 3",
   "language": "python",
   "name": "python3"
  },
  "language_info": {
   "codemirror_mode": {
    "name": "ipython",
    "version": 3
   },
   "file_extension": ".py",
   "mimetype": "text/x-python",
   "name": "python",
   "nbconvert_exporter": "python",
   "pygments_lexer": "ipython3",
   "version": "3.10.5"
  }
 },
 "nbformat": 4,
 "nbformat_minor": 2
}
