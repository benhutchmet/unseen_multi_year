{
 "cells": [
  {
   "cell_type": "markdown",
   "metadata": {},
   "source": [
    "### UNSEEN CANARI ###\n",
    "\n",
    "CANARI HIST2 consists of a large ensemble of historical HadGEM3-GC31 runs between 1950-2014, with 40 members. The following variables are available:\n",
    "\n",
    "* Daily temperature (for demand conversion)\n",
    "* Hourly (!) 10m wind speed (for wind power conversion)\n",
    "\n",
    "The temperature -> demand conversion is relatively simple. Convert to HDD/CDD and then use the regression relationships.\n",
    "\n",
    "The 10m wind speed to wind power generation is more involved. Convert 10m wind speed to 100m wind speed through a power law conversion.\n",
    "\n",
    "First we want to track down the daily temperature data for processing. To see whether we get similar answers using DePreSys for demand."
   ]
  },
  {
   "cell_type": "code",
   "execution_count": 1,
   "metadata": {},
   "outputs": [],
   "source": [
    "# Local imports\n",
    "import os\n",
    "import re\n",
    "import sys\n",
    "import glob\n",
    "\n",
    "# Third-party imports\n",
    "import numpy as np\n",
    "import pandas as pd\n",
    "import matplotlib.pyplot as plt\n",
    "import iris\n",
    "\n",
    "# Specific imports\n",
    "from tqdm import tqdm"
   ]
  },
  {
   "cell_type": "code",
   "execution_count": 2,
   "metadata": {},
   "outputs": [],
   "source": [
    "# Set up the base canari dir\n",
    "base_canari_dir = \"/gws/nopw/j04/canari/shared/large-ensemble/priority/\"\n",
    "\n",
    "# /gws/nopw/j04/canari/shared/large-ensemble/priority/HIST2/3/ATM/yearly/1960/\n",
    "\n",
    "period = \"HIST2\"\n",
    "ensemble = \"3\"\n",
    "domain = \"ATM\"\n",
    "sample_year = \"1960\"\n",
    "var_name = \"m01s03i236_7\"\n",
    "\n",
    "# set up the years\n",
    "years = np.arange(1950, 2014 + 1)\n",
    "\n",
    "# sample fnam\n",
    "sample_fnam = \"cy537a_13_day__195407-195407.nc\"\n",
    "\n",
    "sample_fpath = \"/gws/nopw/j04/canari/shared/large-ensemble/priority/HIST2/3/ATM/yearly/1960/cw345a_3_day_m01s03i236_7.nc\""
   ]
  },
  {
   "cell_type": "code",
   "execution_count": 3,
   "metadata": {},
   "outputs": [
    {
     "name": "stderr",
     "output_type": "stream",
     "text": [
      "/home/users/benhutch/.conda/envs/bens-conda-env2/lib/python3.11/site-packages/pyproj/network.py:59: UserWarning: pyproj unable to set PROJ database path.\n",
      "  _set_context_ca_bundle_path(ca_bundle_path)\n",
      "/home/users/benhutch/.conda/envs/bens-conda-env2/lib/python3.11/site-packages/iris/fileformats/cf.py:880: IrisCfMissingVarWarning: Missing CF-netCDF measure variable 'areacella', referenced by netCDF variable 'm01s03i236_7'\n",
      "  warnings.warn(\n"
     ]
    }
   ],
   "source": [
    "# load in the sample file\n",
    "sample_cube = iris.load_cube(sample_fpath)"
   ]
  },
  {
   "cell_type": "code",
   "execution_count": 4,
   "metadata": {},
   "outputs": [
    {
     "data": {
      "text/plain": [
       "'m01s03i236_7'"
      ]
     },
     "execution_count": 4,
     "metadata": {},
     "output_type": "execute_result"
    }
   ],
   "source": [
    "sample_cube.var_name"
   ]
  },
  {
   "cell_type": "code",
   "execution_count": 5,
   "metadata": {},
   "outputs": [],
   "source": [
    "# Function for adding realization metadata\n",
    "# for r1i1p1f1, r2i1p1f1, etc.\n",
    "def realization_metadata(cube, field, fpath):\n",
    "    \"\"\"Modify the cube's metadata to add a \"realization\" coordinate.\n",
    "\n",
    "    A function which modifies the cube's metadata to add a \"realization\"\n",
    "    (ensemble member) coordinate from the filename if one doesn't already exist\n",
    "    in the cube.\n",
    "\n",
    "    \"\"\"\n",
    "    # Add an ensemble member coordinate if one doesn't already exist.\n",
    "    if not cube.coords(\"realization\"):\n",
    "        # The ensemble member is encoded in the filename as *_???.pp where ???\n",
    "        # is the ensemble member.\n",
    "\n",
    "        # # Regular expression pattern for the desired format\n",
    "        # pattern = re.compile(r\"(r\\d+i\\d+p\\d+f\\d+)\")\n",
    "\n",
    "        # Split the fpath by /\n",
    "        fpath_split = fpath.split(\"/\")\n",
    "\n",
    "        # extract the member as the 9th element\n",
    "        realization_number = fpath_split[9]\n",
    "\n",
    "        # print the realization number\n",
    "        print(realization_number)\n",
    "\n",
    "        realization_coord = iris.coords.AuxCoord(\n",
    "            np.int32(realization_number), \"realization\", units=\"1\"\n",
    "        )\n",
    "\n",
    "        cube.add_aux_coord(realization_coord)\n",
    "\n",
    "    return cube"
   ]
  },
  {
   "cell_type": "code",
   "execution_count": 6,
   "metadata": {},
   "outputs": [],
   "source": [
    "# set up 10 files for the same year\n",
    "members = np.arange(1, 11)\n",
    "\n",
    "file_list = []\n",
    "\n",
    "# loop over the members\n",
    "for member in members:\n",
    "    # set up the file path\n",
    "    fpath = os.path.join(\n",
    "        base_canari_dir, period, str(member), domain, \"yearly\", sample_year, f\"*day_{var_name}.nc\"\n",
    "    )\n",
    "\n",
    "    # glob the file path to check if it exists\n",
    "    files = glob.glob(fpath)\n",
    "\n",
    "    # if the file exists\n",
    "    if len(files) == 1:\n",
    "        # append the file to the list\n",
    "        file_list.append(files[0])\n",
    "    elif len(files) == 0:\n",
    "        raise ValueError(f\"No files found for {fpath}\")\n",
    "    else:\n",
    "        raise ValueError(f\"Multiple files found for {fpath}\")\n"
   ]
  },
  {
   "cell_type": "code",
   "execution_count": 7,
   "metadata": {},
   "outputs": [
    {
     "data": {
      "text/plain": [
       "['/gws/nopw/j04/canari/shared/large-ensemble/priority/HIST2/1/ATM/yearly/1960/cv575a_1_day_m01s03i236_7.nc',\n",
       " '/gws/nopw/j04/canari/shared/large-ensemble/priority/HIST2/2/ATM/yearly/1960/cv625a_2_day_m01s03i236_7.nc',\n",
       " '/gws/nopw/j04/canari/shared/large-ensemble/priority/HIST2/3/ATM/yearly/1960/cw345a_3_day_m01s03i236_7.nc',\n",
       " '/gws/nopw/j04/canari/shared/large-ensemble/priority/HIST2/4/ATM/yearly/1960/cw356a_4_day_m01s03i236_7.nc',\n",
       " '/gws/nopw/j04/canari/shared/large-ensemble/priority/HIST2/5/ATM/yearly/1960/cv827a_5_day_m01s03i236_7.nc',\n",
       " '/gws/nopw/j04/canari/shared/large-ensemble/priority/HIST2/6/ATM/yearly/1960/cv976a_6_day_m01s03i236_7.nc',\n",
       " '/gws/nopw/j04/canari/shared/large-ensemble/priority/HIST2/7/ATM/yearly/1960/cz547a_7_day_m01s03i236_7.nc',\n",
       " '/gws/nopw/j04/canari/shared/large-ensemble/priority/HIST2/8/ATM/yearly/1960/cy436a_8_day_m01s03i236_7.nc',\n",
       " '/gws/nopw/j04/canari/shared/large-ensemble/priority/HIST2/9/ATM/yearly/1960/cw342a_9_day_m01s03i236_7.nc',\n",
       " '/gws/nopw/j04/canari/shared/large-ensemble/priority/HIST2/10/ATM/yearly/1960/cw343a_10_day_m01s03i236_7.nc']"
      ]
     },
     "execution_count": 7,
     "metadata": {},
     "output_type": "execute_result"
    }
   ],
   "source": [
    "file_list"
   ]
  },
  {
   "cell_type": "code",
   "execution_count": 8,
   "metadata": {},
   "outputs": [],
   "source": [
    "# test loading the first file from the list\n",
    "cube = iris.load_cube(file_list[0])"
   ]
  },
  {
   "cell_type": "code",
   "execution_count": 9,
   "metadata": {},
   "outputs": [],
   "source": [
    "# set up the constraint\n",
    "constraint = iris.Constraint(\n",
    "    var_name,\n",
    "    realization=lambda value: True,\n",
    ")\n",
    "\n",
    "# load in the cubes\n",
    "cubes = iris.load(\n",
    "    \"/gws/nopw/j04/canari/shared/large-ensemble/priority/HIST2/*/ATM/yearly/1960/*_*_day_m01s03i236_7.nc\",\n",
    "    constraint,\n",
    "    callback=realization_metadata,\n",
    ")"
   ]
  },
  {
   "cell_type": "code",
   "execution_count": 15,
   "metadata": {},
   "outputs": [
    {
     "name": "stdout",
     "output_type": "stream",
     "text": [
      "0: air_temperature / (K)               (time: 360; latitude: 324; longitude: 432)\n",
      "1: air_temperature / (K)               (time: 360; latitude: 324; longitude: 432)\n",
      "2: air_temperature / (K)               (time: 360; latitude: 324; longitude: 432)\n",
      "3: air_temperature / (K)               (time: 360; latitude: 324; longitude: 432)\n"
     ]
    }
   ],
   "source": [
    "print(cubes)"
   ]
  }
 ],
 "metadata": {
  "kernelspec": {
   "display_name": "bens-conda-env2",
   "language": "python",
   "name": "python3"
  },
  "language_info": {
   "codemirror_mode": {
    "name": "ipython",
    "version": 3
   },
   "file_extension": ".py",
   "mimetype": "text/x-python",
   "name": "python",
   "nbconvert_exporter": "python",
   "pygments_lexer": "ipython3",
   "version": "3.11.10"
  }
 },
 "nbformat": 4,
 "nbformat_minor": 2
}
