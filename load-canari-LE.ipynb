{
 "cells": [
  {
   "cell_type": "markdown",
   "metadata": {},
   "source": [
    "### UNSEEN CANARI ###\n",
    "\n",
    "CANARI HIST2 consists of a large ensemble of historical HadGEM3-GC31 runs between 1950-2014, with 40 members. The following variables are available:\n",
    "\n",
    "* Daily temperature (for demand conversion)\n",
    "* Hourly (!) 10m wind speed (for wind power conversion)\n",
    "\n",
    "The temperature -> demand conversion is relatively simple. Convert to HDD/CDD and then use the regression relationships.\n",
    "\n",
    "The 10m wind speed to wind power generation is more involved. Convert 10m wind speed to 100m wind speed through a power law conversion."
   ]
  }
 ],
 "metadata": {
  "language_info": {
   "name": "python"
  }
 },
 "nbformat": 4,
 "nbformat_minor": 2
}
