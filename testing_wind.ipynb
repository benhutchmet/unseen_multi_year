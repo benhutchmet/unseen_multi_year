{
 "cells": [
  {
   "cell_type": "markdown",
   "metadata": {},
   "source": [
    "### Testing Wind Speed -> Wind Power conversion ###\n",
    "\n",
    "Based on Hannah's S2S4E and CLEARHEADS scripts. First load bias corrected dcppA-hindcast data from HadGEM3-GC31-MM, then use power law to convert from 10m wind speeds to 100m wind speeds (for now), and then convert into wind power and compare to ERA5."
   ]
  },
  {
   "cell_type": "code",
   "execution_count": 1,
   "metadata": {},
   "outputs": [],
   "source": [
    "# cell magic\n",
    "%load_ext autoreload\n",
    "%autoreload 2\n",
    "%matplotlib inline\n",
    "\n",
    "# Load local modules\n",
    "import os\n",
    "import sys\n",
    "import glob\n",
    "import importlib\n",
    "\n",
    "# Import external modules\n",
    "import numpy as np\n",
    "import pandas as pd\n",
    "import xarray as xr\n",
    "import iris\n",
    "import matplotlib.pyplot as plt\n",
    "\n",
    "from tqdm import tqdm"
   ]
  },
  {
   "cell_type": "code",
   "execution_count": 2,
   "metadata": {},
   "outputs": [],
   "source": [
    "# Import the functions\n",
    "sys.path.append(\"/home/users/benhutch/unseen_functions\")\n",
    "\n",
    "import functions_demand as func_dm\n",
    "\n",
    "import bias_functions as bias_func\n",
    "\n",
    "import load_wind_functions as lw_func"
   ]
  },
  {
   "cell_type": "code",
   "execution_count": 3,
   "metadata": {},
   "outputs": [],
   "source": [
    "# import dictionaries\n",
    "sys.path.append(\"/home/users/benhutch/unseen_functions\")\n",
    "\n",
    "import unseen_dictionaries as udicts"
   ]
  },
  {
   "cell_type": "code",
   "execution_count": 4,
   "metadata": {},
   "outputs": [],
   "source": [
    "# set up the global variables - loading for a single country\n",
    "first_year = 1960\n",
    "last_year = 1960 # testing loading full model data now\n",
    "first_month = 1\n",
    "last_month = 1\n",
    "init_years = np.arange(1960, 2018 + 1, 1)\n",
    "variable = \"sfcWind\"\n",
    "lead_time = 1\n",
    "obs_variable = \"si100_bc\" # use bc 100m winds for obs\n",
    "country = \"United Kingdom\"\n",
    "country_name = \"United_Kingdom\"\n",
    "\n",
    "# Set up the path to the obs\n",
    "# observations from ERA5 containing 10m wind speeds (si10)\n",
    "# and bias corrected 100m wind speeds (si100_bc)\n",
    "# obs_path = \"/gws/nopw/j04/canari/users/benhutch/ERA5/ERA5_wind_daily_1960_2020.nc\"\n",
    "\n",
    "# Smaller obs path for testing\n",
    "# process in smaller chunks\n",
    "obs_path = \"/gws/nopw/j04/canari/users/benhutch/ERA5/ERA5_si100_bc_daily_1960_2020.nc\"\n",
    "\n",
    "# Set up the path to the test file\n",
    "test_file = \"/badc/cmip6/data/CMIP6/DCPP/MOHC/HadGEM3-GC31-MM/dcppA-hindcast/s1960-r1i1p1f2/day/sfcWind/gn/files/d20200417/sfcWind_day_HadGEM3-GC31-MM_dcppA-hindcast_s1960-r1i1p1f2_gn_19601101-19601230.nc\""
   ]
  },
  {
   "cell_type": "code",
   "execution_count": 5,
   "metadata": {},
   "outputs": [],
   "source": [
    "# %%time\n",
    "# # Load the observations\n",
    "# test_model_ds = xr.open_dataset(test_file)\n",
    "\n",
    "# # Load and regrid the observations\n",
    "# obs_ds = bias_func.load_and_rg_obs(\n",
    "#     model_ds=test_model_ds,\n",
    "#     obs_variable=obs_variable,\n",
    "#     obs_path=obs_path,\n",
    "#     init_years=init_years,\n",
    "#     lead_time=lead_time,\n",
    "#     rg_algo=\"bilinear\",\n",
    "#     grid_bounds=[-180.0, 180.0, -90.0, 90.0],\n",
    "#     periodic=True,\n",
    "#     parallel=False,\n",
    "# )"
   ]
  },
  {
   "cell_type": "code",
   "execution_count": 6,
   "metadata": {},
   "outputs": [],
   "source": [
    "# %%time\n",
    "\n",
    "# # Select the gridbox\n",
    "# obs_ds = bias_func.select_gridbox(\n",
    "#     ds=obs_ds,\n",
    "#     grid=udicts.eu_grid_constrained,\n",
    "#     calc_mean=False,\n",
    "# )"
   ]
  },
  {
   "cell_type": "code",
   "execution_count": 7,
   "metadata": {},
   "outputs": [],
   "source": [
    "# %%time\n",
    "\n",
    "# # Apply the country mask to the obs data\n",
    "# obs_ds = lw_func.apply_country_mask(\n",
    "#     ds=obs_ds,\n",
    "#     country=country,\n",
    "#     lon_name=\"lon\",\n",
    "#     lat_name=\"lat\",\n",
    "# )"
   ]
  },
  {
   "cell_type": "code",
   "execution_count": 8,
   "metadata": {},
   "outputs": [
    {
     "data": {
      "text/plain": [
       "<module 'load_wind_functions' from '/home/users/benhutch/unseen_functions/load_wind_functions.py'>"
      ]
     },
     "execution_count": 8,
     "metadata": {},
     "output_type": "execute_result"
    }
   ],
   "source": [
    "importlib.reload(lw_func)"
   ]
  },
  {
   "cell_type": "code",
   "execution_count": 9,
   "metadata": {},
   "outputs": [],
   "source": [
    "# %%time\n",
    "\n",
    "# # Test the function for creating the wind power data\n",
    "# cfs, wind_speed_pre , _ = lw_func.create_wind_power_data(\n",
    "#     ds=obs_ds,\n",
    "#     country=country_name,\n",
    "#     ons_ofs=\"ofs\", # test offshore for now\n",
    "#     onshore_curve_file=\"/home/users/benhutch/Hannah_model/power_onshore.csv\",\n",
    "#     offshore_curve_file=\"/home/users/benhutch/Hannah_model/power_offshore.csv\",\n",
    "#     installed_capacities_dir=\"/home/users/benhutch/Hannah_model/installed_capacities/\",\n",
    "#     lat_name=\"lat\",\n",
    "#     lon_name=\"lon\",\n",
    "#     obs_flag=True,\n",
    "# )"
   ]
  },
  {
   "cell_type": "code",
   "execution_count": 10,
   "metadata": {},
   "outputs": [],
   "source": [
    "# # create a dataframe of the wind speeds\n",
    "# obs_ws_cfs_ofs_df = pd.DataFrame({\n",
    "#     \"time\": obs_ds[\"time\"].values,\n",
    "#     \"wind_speed\": wind_speed_pre,\n",
    "#     \"cfs\": cfs,\n",
    "# })"
   ]
  },
  {
   "cell_type": "code",
   "execution_count": 11,
   "metadata": {},
   "outputs": [],
   "source": [
    "# # replace the name of wind speed with obs_wind_speed_100m_bc\n",
    "# obs_ws_cfs_ofs_df.rename(columns={\"wind_speed\": \"obs_wind_speed_100m_bc\"}, inplace=True)\n",
    "\n",
    "# # replace the name of cfs with obs_cfs_ons\n",
    "# obs_ws_cfs_ofs_df.rename(columns={\"cfs\": \"obs_cfs_ofs\"}, inplace=True)"
   ]
  },
  {
   "cell_type": "code",
   "execution_count": 12,
   "metadata": {},
   "outputs": [],
   "source": [
    "# # set up the save dir\n",
    "# save_dir = \"/gws/nopw/j04/canari/users/benhutch/met_to_energy_dfs/\"\n",
    "\n",
    "# # set up the fname\n",
    "# fname = f\"{country_name}_obs_wind_speed_cfs_ofs.csv\"\n",
    "\n",
    "# # set up the save path\n",
    "# save_path = os.path.join(save_dir, fname)\n",
    "\n",
    "# # save the dataframe\n",
    "# obs_ws_cfs_ofs_df.to_csv(save_path, index=False)"
   ]
  },
  {
   "cell_type": "code",
   "execution_count": 13,
   "metadata": {},
   "outputs": [],
   "source": [
    "# wind_speed_post_obs = wind_speed_post"
   ]
  },
  {
   "cell_type": "code",
   "execution_count": 14,
   "metadata": {},
   "outputs": [],
   "source": [
    "# import pandas as pd\n",
    "\n",
    "# # Convert numpy array to pandas Series\n",
    "# obs_ds_series = pd.Series(cfs)\n",
    "\n",
    "# # # Apply a rolling mean (smooth) with a window size of 30\n",
    "# smoothed_obs_ds = obs_ds_series.rolling(window=360).mean()\n",
    "\n",
    "# # plot this with a smoothing of 30\n",
    "# fig, ax = plt.subplots()\n",
    "# plt.plot(smoothed_obs_ds)"
   ]
  },
  {
   "cell_type": "code",
   "execution_count": 15,
   "metadata": {},
   "outputs": [],
   "source": [
    "# # %%time\n",
    "\n",
    "# # # Form the wind power dataframe\n",
    "# wind_power_df = lw_func.form_wind_power_dataframe(\n",
    "#     cfs=cfs,\n",
    "#     ds=obs_ds,\n",
    "#     country_name=country_name,\n",
    "# )"
   ]
  },
  {
   "cell_type": "code",
   "execution_count": 16,
   "metadata": {},
   "outputs": [],
   "source": [
    "# # plot the wind power data with a smoothing of 30\n",
    "# smooth30 = wind_power_df[\"United_Kingdom_wind_power\"].rolling(window=30).mean()\n",
    "\n",
    "# # plot this with a smoothing of 30\n",
    "# fig, ax = plt.subplots()\n",
    "\n",
    "# plt.plot(smooth30)"
   ]
  },
  {
   "cell_type": "markdown",
   "metadata": {},
   "source": [
    "### Loading model data ###\n",
    "\n",
    "Now that we have loaded the obs data, we now want to load the model data and process this into 100m wind speeds before converting to wind power."
   ]
  },
  {
   "cell_type": "code",
   "execution_count": 17,
   "metadata": {},
   "outputs": [
    {
     "data": {
      "text/plain": [
       "<module 'load_wind_functions' from '/home/users/benhutch/unseen_functions/load_wind_functions.py'>"
      ]
     },
     "execution_count": 17,
     "metadata": {},
     "output_type": "execute_result"
    }
   ],
   "source": [
    "importlib.reload(lw_func)"
   ]
  },
  {
   "cell_type": "code",
   "execution_count": 18,
   "metadata": {},
   "outputs": [
    {
     "name": "stderr",
     "output_type": "stream",
     "text": [
      "  0%|          | 0/1 [00:00<?, ?it/s]"
     ]
    },
    {
     "name": "stdout",
     "output_type": "stream",
     "text": [
      "Found the country!\n",
      "Pre-country mask\n",
      "<xarray.Dataset>\n",
      "Dimensions:                        (lat: 324, lon: 432)\n",
      "Coordinates:\n",
      "    lead                           int64 1\n",
      "    init                           int64 1960\n",
      "    member                         <U9 'r10i1p1f2'\n",
      "  * lat                            (lat) float64 -89.72 -89.17 ... 89.17 89.72\n",
      "  * lon                            (lon) float64 -179.6 -178.8 ... 178.7 179.6\n",
      "Data variables:\n",
      "    __xarray_dataarray_variable__  (lat, lon) float64 nan nan nan ... nan nan\n",
      "[-179.58333336 -178.75000007 -177.91666678 -177.0833335  -176.25000021\n",
      " -175.41666693 -174.58333364 -173.75000035 -172.91666707 -172.08333378\n",
      " -171.2500005  -170.41666721 -169.58333392 -168.75000064 -167.91666735\n",
      " -167.08333406 -166.25000078 -165.41666749 -164.58333421 -163.75000092\n",
      " -162.91666763 -162.08333435 -161.25000106 -160.41666778 -159.58333449\n",
      " -158.7500012  -157.91666792 -157.08333463 -156.25000134 -155.41666806\n",
      " -154.58333477 -153.75000149 -152.9166682  -152.08333491 -151.25000163\n",
      " -150.41666834 -149.58333506 -148.75000177 -147.91666848 -147.0833352\n",
      " -146.25000191 -145.41666862 -144.58333534 -143.75000205 -142.91666877\n",
      " -142.08333548 -141.25000219 -140.41666891 -139.58333562 -138.75000234\n",
      " -137.91666905 -137.08333576 -136.25000248 -135.41666919 -134.5833359\n",
      " -133.75000262 -132.91666933 -132.08333605 -131.25000276 -130.41666947\n",
      " -129.58333619 -128.7500029  -127.91666962 -127.08333633 -126.25000304\n",
      " -125.41666976 -124.58333647 -123.75000318 -122.9166699  -122.08333661\n",
      " -121.25000333 -120.41667004 -119.58333675 -118.75000347 -117.91667018\n",
      " -117.0833369  -116.25000361 -115.41667032 -114.58333704 -113.75000375\n",
      " -112.91667046 -112.08333718 -111.25000389 -110.41667061 -109.58333732\n",
      " -108.75000403 -107.91667075 -107.08333746 -106.25000418 -105.41667089\n",
      " -104.5833376  -103.75000432 -102.91667103 -102.08333774 -101.25000446\n",
      " -100.41667117  -99.58333789  -98.7500046   -97.91667131  -97.08333803\n",
      "  -96.25000474  -95.41667146  -94.58333817  -93.75000488  -92.9166716\n",
      "  -92.08333831  -91.25000502  -90.41667174  -89.58333845  -88.75000517\n",
      "  -87.91667188  -87.08333859  -86.25000531  -85.41667202  -84.58333874\n",
      "  -83.75000545  -82.91667216  -82.08333888  -81.25000559  -80.4166723\n",
      "  -79.58333902  -78.75000573  -77.91667245  -77.08333916  -76.25000587\n",
      "  -75.41667259  -74.5833393   -73.75000602  -72.91667273  -72.08333944\n",
      "  -71.25000616  -70.41667287  -69.58333958  -68.7500063   -67.91667301\n",
      "  -67.08333973  -66.25000644  -65.41667315  -64.58333987  -63.75000658\n",
      "  -62.9166733   -62.08334001  -61.25000672  -60.41667344  -59.58334015\n",
      "  -58.75000686  -57.91667358  -57.08334029  -56.25000701  -55.41667372\n",
      "  -54.58334043  -53.75000715  -52.91667386  -52.08334058  -51.25000729\n",
      "  -50.416674    -49.58334072  -48.75000743  -47.91667414  -47.08334086\n",
      "  -46.25000757  -45.41667429  -44.583341    -43.75000771  -42.91667443\n",
      "  -42.08334114  -41.25000786  -40.41667457  -39.58334128  -38.750008\n",
      "  -37.91667471  -37.08334142  -36.25000814  -35.41667485  -34.58334157\n",
      "  -33.75000828  -32.91667499  -32.08334171  -31.25000842  -30.41667514\n",
      "  -29.58334185  -28.75000856  -27.91667528  -27.08334199  -26.2500087\n",
      "  -25.41667542  -24.58334213  -23.75000885  -22.91667556  -22.08334227\n",
      "  -21.25000899  -20.4166757   -19.58334242  -18.75000913  -17.91667584\n",
      "  -17.08334256  -16.25000927  -15.41667598  -14.5833427   -13.75000941\n",
      "  -12.91667613  -12.08334284  -11.25000955  -10.41667627   -9.58334298\n",
      "   -8.7500097    -7.91667641   -7.08334312   -6.25000984   -5.41667655\n",
      "   -4.58334326   -3.75000998   -2.91667669   -2.08334341   -1.25001012\n",
      "   -0.41667683    0.41665645    1.24998974    2.08332302    2.91665631\n",
      "    3.7499896     4.58332288    5.41665617    6.24998945    7.08332274\n",
      "    7.91665603    8.74998931    9.5833226    10.41665589   11.24998917\n",
      "   12.08332246   12.91665574   13.74998903   14.58332232   15.4166556\n",
      "   16.24998889   17.08332217   17.91665546   18.74998875   19.58332203\n",
      "   20.41665532   21.24998861   22.08332189   22.91665518   23.74998846\n",
      "   24.58332175   25.41665504   26.24998832   27.08332161   27.91665489\n",
      "   28.74998818   29.58332147   30.41665475   31.24998804   32.08332133\n",
      "   32.91665461   33.7499879    34.58332118   35.41665447   36.24998776\n",
      "   37.08332104   37.91665433   38.74998761   39.5833209    40.41665419\n",
      "   41.24998747   42.08332076   42.91665405   43.74998733   44.58332062\n",
      "   45.4166539    46.24998719   47.08332048   47.91665376   48.74998705\n",
      "   49.58332033   50.41665362   51.24998691   52.08332019   52.91665348\n",
      "   53.74998677   54.58332005   55.41665334   56.24998662   57.08331991\n",
      "   57.9166532    58.74998648   59.58331977   60.41665305   61.24998634\n",
      "   62.08331963   62.91665291   63.7499862    64.58331949   65.41665277\n",
      "   66.24998606   67.08331934   67.91665263   68.74998592   69.5833192\n",
      "   70.41665249   71.24998577   72.08331906   72.91665235   73.74998563\n",
      "   74.58331892   75.41665221   76.24998549   77.08331878   77.91665206\n",
      "   78.74998535   79.58331864   80.41665192   81.24998521   82.08331849\n",
      "   82.91665178   83.74998507   84.58331835   85.41665164   86.24998493\n",
      "   87.08331821   87.9166515    88.74998478   89.58331807   90.41665136\n",
      "   91.24998464   92.08331793   92.91665121   93.7499845    94.58331779\n",
      "   95.41665107   96.24998436   97.08331765   97.91665093   98.74998422\n",
      "   99.5833175   100.41665079  101.24998408  102.08331736  102.91665065\n",
      "  103.74998393  104.58331722  105.41665051  106.24998379  107.08331708\n",
      "  107.91665037  108.74998365  109.58331694  110.41665022  111.24998351\n",
      "  112.0833168   112.91665008  113.74998337  114.58331665  115.41664994\n",
      "  116.24998323  117.08331651  117.9166498   118.74998309  119.58331637\n",
      "  120.41664966  121.24998294  122.08331623  122.91664952  123.7499828\n",
      "  124.58331609  125.41664937  126.24998266  127.08331595  127.91664923\n",
      "  128.74998252  129.58331581  130.41664909  131.24998238  132.08331566\n",
      "  132.91664895  133.74998224  134.58331552  135.41664881  136.24998209\n",
      "  137.08331538  137.91664867  138.74998195  139.58331524  140.41664853\n",
      "  141.24998181  142.0833151   142.91664838  143.74998167  144.58331496\n",
      "  145.41664824  146.24998153  147.08331481  147.9166481   148.74998139\n",
      "  149.58331467  150.41664796  151.24998125  152.08331453  152.91664782\n",
      "  153.7499811   154.58331439  155.41664768  156.24998096  157.08331425\n",
      "  157.91664753  158.74998082  159.58331411  160.41664739  161.24998068\n",
      "  162.08331397  162.91664725  163.74998054  164.58331382  165.41664711\n",
      "  166.2499804   167.08331368  167.91664697  168.74998025  169.58331354\n",
      "  170.41664683  171.24998011  172.0833134   172.91664669  173.74997997\n",
      "  174.58331326  175.41664654  176.24997983  177.08331312  177.9166464\n",
      "  178.74997969  179.58331297]\n",
      "[-89.7222222  -89.1666666  -88.61111101 -88.05555541 -87.49999981\n",
      " -86.94444421 -86.38888862 -85.83333302 -85.27777742 -84.72222182\n",
      " -84.16666623 -83.61111063 -83.05555503 -82.49999943 -81.94444384\n",
      " -81.38888824 -80.83333264 -80.27777704 -79.72222145 -79.16666585\n",
      " -78.61111025 -78.05555465 -77.49999906 -76.94444346 -76.38888786\n",
      " -75.83333226 -75.27777666 -74.72222107 -74.16666547 -73.61110987\n",
      " -73.05555427 -72.49999868 -71.94444308 -71.38888748 -70.83333188\n",
      " -70.27777629 -69.72222069 -69.16666509 -68.61110949 -68.0555539\n",
      " -67.4999983  -66.9444427  -66.3888871  -65.83333151 -65.27777591\n",
      " -64.72222031 -64.16666471 -63.61110912 -63.05555352 -62.49999792\n",
      " -61.94444232 -61.38888673 -60.83333113 -60.27777553 -59.72221993\n",
      " -59.16666434 -58.61110874 -58.05555314 -57.49999754 -56.94444195\n",
      " -56.38888635 -55.83333075 -55.27777515 -54.72221956 -54.16666396\n",
      " -53.61110836 -53.05555276 -52.49999717 -51.94444157 -51.38888597\n",
      " -50.83333037 -50.27777478 -49.72221918 -49.16666358 -48.61110798\n",
      " -48.05555239 -47.49999679 -46.94444119 -46.38888559 -45.83332999\n",
      " -45.2777744  -44.7222188  -44.1666632  -43.6111076  -43.05555201\n",
      " -42.49999641 -41.94444081 -41.38888521 -40.83332962 -40.27777402\n",
      " -39.72221842 -39.16666282 -38.61110723 -38.05555163 -37.49999603\n",
      " -36.94444043 -36.38888484 -35.83332924 -35.27777364 -34.72221804\n",
      " -34.16666245 -33.61110685 -33.05555125 -32.49999565 -31.94444006\n",
      " -31.38888446 -30.83332886 -30.27777326 -29.72221767 -29.16666207\n",
      " -28.61110647 -28.05555087 -27.49999528 -26.94443968 -26.38888408\n",
      " -25.83332848 -25.27777289 -24.72221729 -24.16666169 -23.61110609\n",
      " -23.0555505  -22.4999949  -21.9444393  -21.3888837  -20.83332811\n",
      " -20.27777251 -19.72221691 -19.16666131 -18.61110572 -18.05555012\n",
      " -17.49999452 -16.94443892 -16.38888332 -15.83332773 -15.27777213\n",
      " -14.72221653 -14.16666093 -13.61110534 -13.05554974 -12.49999414\n",
      " -11.94443854 -11.38888295 -10.83332735 -10.27777175  -9.72221615\n",
      "  -9.16666056  -8.61110496  -8.05554936  -7.49999376  -6.94443817\n",
      "  -6.38888257  -5.83332697  -5.27777137  -4.72221578  -4.16666018\n",
      "  -3.61110458  -3.05554898  -2.49999339  -1.94443779  -1.38888219\n",
      "  -0.83332659  -0.277771     0.2777846    0.8333402    1.3888958\n",
      "   1.94445139   2.50000699   3.05556259   3.61111819   4.16667378\n",
      "   4.72222938   5.27778498   5.83334058   6.38889617   6.94445177\n",
      "   7.50000737   8.05556297   8.61111856   9.16667416   9.72222976\n",
      "  10.27778536  10.83334095  11.38889655  11.94445215  12.50000775\n",
      "  13.05556335  13.61111894  14.16667454  14.72223014  15.27778574\n",
      "  15.83334133  16.38889693  16.94445253  17.50000813  18.05556372\n",
      "  18.61111932  19.16667492  19.72223052  20.27778611  20.83334171\n",
      "  21.38889731  21.94445291  22.5000085   23.0555641   23.6111197\n",
      "  24.1666753   24.72223089  25.27778649  25.83334209  26.38889769\n",
      "  26.94445328  27.50000888  28.05556448  28.61112008  29.16667567\n",
      "  29.72223127  30.27778687  30.83334247  31.38889806  31.94445366\n",
      "  32.50000926  33.05556486  33.61112045  34.16667605  34.72223165\n",
      "  35.27778725  35.83334284  36.38889844  36.94445404  37.50000964\n",
      "  38.05556523  38.61112083  39.16667643  39.72223203  40.27778762\n",
      "  40.83334322  41.38889882  41.94445442  42.50001002  43.05556561\n",
      "  43.61112121  44.16667681  44.72223241  45.277788    45.8333436\n",
      "  46.3888992   46.9444548   47.50001039  48.05556599  48.61112159\n",
      "  49.16667719  49.72223278  50.27778838  50.83334398  51.38889958\n",
      "  51.94445517  52.50001077  53.05556637  53.61112197  54.16667756\n",
      "  54.72223316  55.27778876  55.83334436  56.38889995  56.94445555\n",
      "  57.50001115  58.05556675  58.61112234  59.16667794  59.72223354\n",
      "  60.27778914  60.83334473  61.38890033  61.94445593  62.50001153\n",
      "  63.05556712  63.61112272  64.16667832  64.72223392  65.27778951\n",
      "  65.83334511  66.38890071  66.94445631  67.5000119   68.0555675\n",
      "  68.6111231   69.1666787   69.72223429  70.27778989  70.83334549\n",
      "  71.38890109  71.94445669  72.50001228  73.05556788  73.61112348\n",
      "  74.16667908  74.72223467  75.27779027  75.83334587  76.38890147\n",
      "  76.94445706  77.50001266  78.05556826  78.61112386  79.16667945\n",
      "  79.72223505  80.27779065  80.83334625  81.38890184  81.94445744\n",
      "  82.50001304  83.05556864  83.61112423  84.16667983  84.72223543\n",
      "  85.27779103  85.83334662  86.38890222  86.94445782  87.50001342\n",
      "  88.05556901  88.61112461  89.16668021  89.72223581]\n",
      "Country mask: <xarray.DataArray 'mask' (lat: 324, lon: 432)>\n",
      "array([[nan, nan, nan, ..., nan, nan, nan],\n",
      "       [nan, nan, nan, ..., nan, nan, nan],\n",
      "       [nan, nan, nan, ..., nan, nan, nan],\n",
      "       ...,\n",
      "       [nan, nan, nan, ..., nan, nan, nan],\n",
      "       [nan, nan, nan, ..., nan, nan, nan],\n",
      "       [nan, nan, nan, ..., nan, nan, nan]])\n",
      "Coordinates:\n",
      "  * lat      (lat) float64 -89.72 -89.17 -88.61 -88.06 ... 88.61 89.17 89.72\n",
      "  * lon      (lon) float64 -179.6 -178.8 -177.9 -177.1 ... 177.9 178.7 179.6\n",
      "Attributes:\n",
      "    standard_name:  region\n",
      "    flag_values:    [1]\n",
      "    flag_meanings:  U.K.\n",
      "Country mask coords: Coordinates:\n",
      "  * lat      (lat) float64 -89.72 -89.17 -88.61 -88.06 ... 88.61 89.17 89.72\n",
      "  * lon      (lon) float64 -179.6 -178.8 -177.9 -177.1 ... 177.9 178.7 179.6\n",
      "Masking out Northern Ireland.\n",
      "<xarray.Dataset>\n",
      "Dimensions:                        (init: 1, member: 10, lead: 30, lat: 324,\n",
      "                                    lon: 432)\n",
      "Coordinates:\n",
      "  * lead                           (lead) int64 1 2 3 4 5 6 ... 26 27 28 29 30\n",
      "  * init                           (init) int64 1960\n",
      "  * member                         (member) object 'r10i1p1f2' ... 'r9i1p1f2'\n",
      "  * lat                            (lat) float64 -89.72 -89.17 ... 89.17 89.72\n",
      "  * lon                            (lon) float64 -179.6 -178.8 ... 178.7 179.6\n",
      "Data variables:\n",
      "    __xarray_dataarray_variable__  (init, member, lead, lat, lon) float64 nan...\n",
      "output dataset: <xarray.Dataset>\n",
      "Dimensions:                        (init: 1, member: 10, lead: 30, lat: 324,\n",
      "                                    lon: 432)\n",
      "Coordinates:\n",
      "  * lead                           (lead) int64 1 2 3 4 5 6 ... 26 27 28 29 30\n",
      "  * init                           (init) int64 1960\n",
      "  * member                         (member) object 'r10i1p1f2' ... 'r9i1p1f2'\n",
      "  * lat                            (lat) float64 -89.72 -89.17 ... 89.17 89.72\n",
      "  * lon                            (lon) float64 -179.6 -178.8 ... 178.7 179.6\n",
      "Data variables:\n",
      "    __xarray_dataarray_variable__  (init, member, lead, lat, lon) float64 nan...\n",
      "Loading in the installed capacities for offshore wind farms.\n",
      "loading installed capacities from: /home/users/benhutch/Hannah_model/installed_capacities/United_Kingdomwindfarm_dist_ofs_2021.nc\n",
      "Installed capacity: 10.3218 for United_Kingdom\n",
      "ds_test: <xarray.DataArray '__xarray_dataarray_variable__' (lat: 324, lon: 432)>\n",
      "array([[nan, nan, nan, ..., nan, nan, nan],\n",
      "       [nan, nan, nan, ..., nan, nan, nan],\n",
      "       [nan, nan, nan, ..., nan, nan, nan],\n",
      "       ...,\n",
      "       [nan, nan, nan, ..., nan, nan, nan],\n",
      "       [nan, nan, nan, ..., nan, nan, nan],\n",
      "       [nan, nan, nan, ..., nan, nan, nan]])\n",
      "Coordinates:\n",
      "    lead     int64 1\n",
      "    init     int64 1960\n",
      "    member   <U9 'r10i1p1f2'\n",
      "  * lat      (lat) float64 -89.72 -89.17 -88.61 -88.06 ... 88.61 89.17 89.72\n",
      "  * lon      (lon) float64 -179.6 -178.8 -177.9 -177.1 ... 177.9 178.7 179.6\n",
      "Lats and lons are not the same.\n",
      "Interpolating installed capacities to the same grid as the wind speed data.\n",
      "ic_cube: totals / (unknown)                  (latitude: 214; longitude: 304)\n",
      "    Dimension coordinates:\n",
      "        latitude                             x               -\n",
      "        longitude                            -               x\n",
      "bc_si100_cube: sfcWind / (unknown)                 (latitude: 324; longitude: 432)\n",
      "    Dimension coordinates:\n",
      "        latitude                             x               -\n",
      "        longitude                            -               x\n",
      "    Scalar coordinates:\n",
      "        init                        1960\n",
      "        lead                        1\n",
      "        member                      r10i1p1f2\n"
     ]
    },
    {
     "name": "stderr",
     "output_type": "stream",
     "text": [
      "100%|██████████| 1/1 [00:18<00:00, 18.35s/it]"
     ]
    },
    {
     "name": "stdout",
     "output_type": "stream",
     "text": [
      "Installed capacity: 1.4514608 for United_Kingdom\n",
      "Total MW pre shape: (214, 304)\n",
      "Total MW regrid shape: (324, 432)\n",
      "CPU times: user 2.27 s, sys: 3.34 s, total: 5.61 s\n",
      "Wall time: 18.4 s\n"
     ]
    },
    {
     "name": "stderr",
     "output_type": "stream",
     "text": [
      "\n"
     ]
    }
   ],
   "source": [
    "%%time\n",
    "\n",
    "# Set up the months of data to load\n",
    "months = [11] # N test\n",
    "\n",
    "# set up the base_dir\n",
    "base_dir = \"/work/scratch-nopw2/benhutch/test_nc/\"\n",
    "\n",
    "variable_saved = \"__xarray_dataarray_variable__\"\n",
    "\n",
    "# Set up an empty dataframe\n",
    "combined_df = pd.DataFrame()\n",
    "\n",
    "# initialize an empty list for the cfs\n",
    "cfs_list = []\n",
    "\n",
    "# Loop over the months\n",
    "for month_idx in tqdm(months):\n",
    "\n",
    "    # Set up the fname\n",
    "    fname_month = f\"{variable}_bias_correction_HadGEM3-GC31-MM_lead{lead_time}_month{month_idx}_init{first_year}-{last_year}.nc\"\n",
    "\n",
    "    # set up the path\n",
    "    path = os.path.join(base_dir, fname_month)\n",
    "\n",
    "    # assert that the path exists\n",
    "    assert os.path.exists(path), f\"Path does not exist: {path}\"\n",
    "\n",
    "    # Select the european domain\n",
    "    ds = bias_func.select_gridbox(\n",
    "        ds=xr.open_dataset(path),\n",
    "        grid=udicts.eu_grid_constrained,\n",
    "        calc_mean=False,\n",
    "    )\n",
    "\n",
    "    # Apply the country mask\n",
    "    ds = lw_func.apply_country_mask(\n",
    "        ds=ds,\n",
    "        country=country,\n",
    "        lon_name=\"lon\",\n",
    "        lat_name=\"lat\",\n",
    "    )\n",
    "\n",
    "    # # print ds\n",
    "    # print(\"ds type: \", type(ds))\n",
    "\n",
    "    # # print ds type\n",
    "    # print(\"type of ds[variable_saved]: \", type(ds[variable_saved]))\n",
    "\n",
    "    # create wind power data\n",
    "    totals_mw_pre, totals_mw_rg, wind_regrid, wind_normal = lw_func.create_wind_power_data(\n",
    "        ds=ds,\n",
    "        country=country_name,\n",
    "        ons_ofs=\"ofs\", # test onshore for now\n",
    "        var_name=variable_saved,\n",
    "        onshore_curve_file=\"/home/users/benhutch/Hannah_model/power_onshore.csv\",\n",
    "        offshore_curve_file=\"/home/users/benhutch/Hannah_model/power_offshore.csv\",\n",
    "        installed_capacities_dir=\"/home/users/benhutch/Hannah_model/installed_capacities/\",\n",
    "        lat_name=\"lat\",\n",
    "        lon_name=\"lon\",\n",
    "        corr_var_name=\"sfcWind\",\n",
    "        obs_flag=False,\n",
    "    )\n",
    "\n",
    "    # # print the shape of CFs    \n",
    "    # print(\"cfs shape: \", cfs.shape)\n",
    "\n",
    "    # # append the cfs to the list\n",
    "    # cfs_list.append(cfs)"
   ]
  },
  {
   "cell_type": "code",
   "execution_count": 20,
   "metadata": {},
   "outputs": [
    {
     "data": {
      "text/plain": [
       "0.7224"
      ]
     },
     "execution_count": 20,
     "metadata": {},
     "output_type": "execute_result"
    }
   ],
   "source": [
    "totals_mw_pre.max()"
   ]
  },
  {
   "cell_type": "code",
   "execution_count": 22,
   "metadata": {},
   "outputs": [
    {
     "data": {
      "text/plain": [
       "0.42386845"
      ]
     },
     "execution_count": 22,
     "metadata": {},
     "output_type": "execute_result"
    }
   ],
   "source": [
    "totals_mw_rg.max()"
   ]
  },
  {
   "cell_type": "code",
   "execution_count": 27,
   "metadata": {},
   "outputs": [
    {
     "data": {
      "text/plain": [
       "722.4"
      ]
     },
     "execution_count": 27,
     "metadata": {},
     "output_type": "execute_result"
    }
   ],
   "source": [
    "ic_cube.data.max()"
   ]
  },
  {
   "cell_type": "code",
   "execution_count": 30,
   "metadata": {},
   "outputs": [
    {
     "data": {
      "text/plain": [
       "7.824508751139922"
      ]
     },
     "execution_count": 30,
     "metadata": {},
     "output_type": "execute_result"
    }
   ],
   "source": [
    "bc_si100_cube.data.mean()"
   ]
  },
  {
   "cell_type": "code",
   "execution_count": 21,
   "metadata": {},
   "outputs": [
    {
     "data": {
      "text/plain": [
       "7.316323010970194"
      ]
     },
     "execution_count": 21,
     "metadata": {},
     "output_type": "execute_result"
    }
   ],
   "source": [
    "wind_regrid.data.mean()"
   ]
  },
  {
   "cell_type": "code",
   "execution_count": 22,
   "metadata": {},
   "outputs": [
    {
     "data": {
      "text/plain": [
       "0.7224"
      ]
     },
     "execution_count": 22,
     "metadata": {},
     "output_type": "execute_result"
    }
   ],
   "source": [
    "totals_mw.max()"
   ]
  },
  {
   "cell_type": "code",
   "execution_count": 19,
   "metadata": {},
   "outputs": [
    {
     "name": "stdout",
     "output_type": "stream",
     "text": [
      "cfs_list:  [array([[[0.80050884, 0.60930189, 0.61848085, ..., 0.52339014,\n",
      "         0.37104643, 0.06042947],\n",
      "        [0.80096073, 0.63605825, 0.62571449, ..., 0.30063697,\n",
      "         0.26908746, 0.31468432],\n",
      "        [0.8009047 , 0.64526168, 0.6285922 , ..., 0.18925493,\n",
      "         0.12954402, 0.08741891],\n",
      "        ...,\n",
      "        [0.79666487, 0.65125206, 0.62782693, ..., 0.24594576,\n",
      "         0.16436792, 0.2365147 ],\n",
      "        [0.80038536, 0.62852051, 0.62984055, ..., 0.57703675,\n",
      "         0.83509026, 0.89059864],\n",
      "        [0.79892864, 0.61640873, 0.62384228, ..., 0.16813298,\n",
      "         0.50381877, 0.28878024]],\n",
      "\n",
      "       [[0.59340621, 0.54114222, 0.23368536, ..., 0.31150757,\n",
      "         0.28026928, 0.48921309],\n",
      "        [0.60025196, 0.55724975, 0.23055481, ..., 0.60536837,\n",
      "         0.60401428, 0.76141181],\n",
      "        [0.59937128, 0.56031219, 0.22675237, ..., 0.24929014,\n",
      "         0.14227111, 0.04812343],\n",
      "        ...,\n",
      "        [0.5968972 , 0.55137135, 0.22602271, ..., 0.25685807,\n",
      "         0.30798354, 0.43813104],\n",
      "        [0.60122117, 0.53213901, 0.22891974, ..., 0.139329  ,\n",
      "         0.08559587, 0.19327881],\n",
      "        [0.59699552, 0.54238149, 0.22837759, ..., 0.17914088,\n",
      "         0.24705638, 0.27501245]],\n",
      "\n",
      "       [[0.20959863, 0.12053507, 0.19349694, ..., 0.63115085,\n",
      "         0.32146303, 0.72303366],\n",
      "        [0.21334814, 0.12183633, 0.2018838 , ..., 0.14923706,\n",
      "         0.27512332, 0.43691755],\n",
      "        [0.21205237, 0.11979416, 0.18048027, ..., 0.50828728,\n",
      "         0.40355397, 0.41151981],\n",
      "        ...,\n",
      "        [0.21165734, 0.12395046, 0.19554184, ..., 0.44959326,\n",
      "         0.46084738, 0.25913435],\n",
      "        [0.21428745, 0.12399303, 0.19815111, ..., 0.15023548,\n",
      "         0.43308654, 0.46706022],\n",
      "        [0.21283705, 0.12447732, 0.1998783 , ..., 0.28243709,\n",
      "         0.79741326, 0.75301602]],\n",
      "\n",
      "       ...,\n",
      "\n",
      "       [[0.15728505, 0.14369832, 0.21383012, ..., 0.49173327,\n",
      "         0.21400501, 0.36815982],\n",
      "        [0.15025394, 0.12006634, 0.18947908, ..., 0.59457347,\n",
      "         0.33827351, 0.62902714],\n",
      "        [0.15047422, 0.11996301, 0.17972694, ..., 0.31788742,\n",
      "         0.31048593, 0.22996404],\n",
      "        ...,\n",
      "        [0.15464537, 0.1444504 , 0.21974553, ..., 0.64290713,\n",
      "         0.21176777, 0.19796454],\n",
      "        [0.15506495, 0.13246338, 0.17819252, ..., 0.65547519,\n",
      "         0.88810817, 0.72053951],\n",
      "        [0.16656845, 0.13362492, 0.18023871, ..., 0.27665318,\n",
      "         0.62010062, 0.22150233]],\n",
      "\n",
      "       [[0.03516366, 0.12025231, 0.22283112, ..., 0.54356013,\n",
      "         0.09931899, 0.07700085],\n",
      "        [0.03356633, 0.10237424, 0.20642208, ..., 0.19392147,\n",
      "         0.19051885, 0.32110037],\n",
      "        [0.03386058, 0.10287658, 0.20479537, ..., 0.25022256,\n",
      "         0.65445702, 0.67641681],\n",
      "        ...,\n",
      "        [0.03553139, 0.1198007 , 0.22421085, ..., 0.9388081 ,\n",
      "         0.79990687, 0.30682638],\n",
      "        [0.03663747, 0.11306392, 0.26684061, ..., 0.3282209 ,\n",
      "         0.08845303, 0.14738802],\n",
      "        [0.03264265, 0.10873573, 0.23655091, ..., 0.14609498,\n",
      "         0.09998269, 0.04709297]],\n",
      "\n",
      "       [[0.1288175 , 0.81922718, 0.32700102, ..., 0.12831533,\n",
      "         0.06862501, 0.08685525],\n",
      "        [0.14560985, 0.83098158, 0.33614661, ..., 0.30419079,\n",
      "         0.35476829, 0.08368203],\n",
      "        [0.14729498, 0.83049959, 0.32502277, ..., 0.23806862,\n",
      "         0.22898498, 0.54089653],\n",
      "        ...,\n",
      "        [0.12813897, 0.82005131, 0.32073795, ..., 0.11865604,\n",
      "         0.25051376, 0.36913968],\n",
      "        [0.14121084, 0.84146406, 0.35454161, ..., 0.19521248,\n",
      "         0.44433371, 0.55146408],\n",
      "        [0.15697911, 0.82583587, 0.38027059, ..., 0.61981141,\n",
      "         0.77235961, 0.6573929 ]]]), array([[[0.46009391, 0.25849535, 0.23471782, ..., 0.57238385,\n",
      "         0.39734965, 0.63512662],\n",
      "        [0.15115575, 0.22382212, 0.30327817, ..., 0.57756564,\n",
      "         0.64495783, 0.7298481 ],\n",
      "        [0.6131143 , 0.90577288, 0.50332105, ..., 0.38979181,\n",
      "         0.23862451, 0.82751434],\n",
      "        ...,\n",
      "        [0.90364124, 0.66407728, 0.71354156, ..., 0.09525995,\n",
      "         0.10645333, 0.14736188],\n",
      "        [0.13197093, 0.18015836, 0.55365062, ..., 0.34476625,\n",
      "         0.1421184 , 0.07283446],\n",
      "        [0.52548864, 0.81816205, 0.70711751, ..., 0.0509963 ,\n",
      "         0.45618457, 0.45768656]],\n",
      "\n",
      "       [[0.13456379, 0.03618844, 0.08778789, ..., 0.15718207,\n",
      "         0.61204747, 0.43982736],\n",
      "        [0.77811163, 0.40728845, 0.27413571, ..., 0.47805468,\n",
      "         0.1049402 , 0.16031823],\n",
      "        [0.3815278 , 0.12524735, 0.03846608, ..., 0.40233732,\n",
      "         0.11097205, 0.1585388 ],\n",
      "        ...,\n",
      "        [0.35147859, 0.46377071, 0.64438931, ..., 0.35747849,\n",
      "         0.34994444, 0.33388699],\n",
      "        [0.27476412, 0.43106361, 0.14061937, ..., 0.10157456,\n",
      "         0.13597367, 0.18186336],\n",
      "        [0.73450735, 0.46807687, 0.23252021, ..., 0.87044534,\n",
      "         0.48711907, 0.47482188]],\n",
      "\n",
      "       [[0.07894328, 0.09209263, 0.23197963, ..., 0.24683999,\n",
      "         0.28938367, 0.35513641],\n",
      "        [0.58472722, 0.44712108, 0.47784988, ..., 0.14777648,\n",
      "         0.11284932, 0.53824653],\n",
      "        [0.06943817, 0.12615941, 0.05638811, ..., 0.51588885,\n",
      "         0.67235534, 0.6103253 ],\n",
      "        ...,\n",
      "        [0.17344926, 0.2407518 , 0.11349211, ..., 0.63223875,\n",
      "         0.66151737, 0.25205335],\n",
      "        [0.55875073, 0.72526162, 0.15617061, ..., 0.68686945,\n",
      "         0.27148898, 0.38311034],\n",
      "        [0.42499742, 0.4693451 , 0.15028748, ..., 0.41664862,\n",
      "         0.09008709, 0.23235415]],\n",
      "\n",
      "       ...,\n",
      "\n",
      "       [[0.14186306, 0.28964089, 0.16534335, ..., 0.15660809,\n",
      "         0.52210021, 0.376154  ],\n",
      "        [0.11942549, 0.20545264, 0.06248201, ..., 0.31028903,\n",
      "         0.28814616, 0.26571469],\n",
      "        [0.12624225, 0.32419098, 0.32551642, ..., 0.30897334,\n",
      "         0.50868048, 0.18501454],\n",
      "        ...,\n",
      "        [0.51153727, 0.47292655, 0.38027351, ..., 0.22196576,\n",
      "         0.15264668, 0.16466484],\n",
      "        [0.1611168 , 0.17380751, 0.16634678, ..., 0.09682564,\n",
      "         0.14517353, 0.41069653],\n",
      "        [0.24205072, 0.27935003, 0.33092884, ..., 0.28281477,\n",
      "         0.28096909, 0.4153014 ]],\n",
      "\n",
      "       [[0.69260328, 0.84303981, 0.66196101, ..., 0.32974154,\n",
      "         0.46038613, 0.77172023],\n",
      "        [0.18621424, 0.25381747, 0.84575208, ..., 0.08931708,\n",
      "         0.11381148, 0.0594312 ],\n",
      "        [0.05737504, 0.52908963, 0.49930432, ..., 0.38514351,\n",
      "         0.04101449, 0.03312033],\n",
      "        ...,\n",
      "        [0.25734524, 0.48522937, 0.32341711, ..., 0.05537483,\n",
      "         0.18386807, 0.6969914 ],\n",
      "        [0.2882674 , 0.15665257, 0.62188326, ..., 0.17011969,\n",
      "         0.475268  , 0.54906369],\n",
      "        [0.0825899 , 0.0866279 , 0.03572973, ..., 0.82049002,\n",
      "         0.67372593, 0.42789906]],\n",
      "\n",
      "       [[0.0324645 , 0.01961252, 0.19445431, ..., 0.29392186,\n",
      "         0.257672  , 0.14531839],\n",
      "        [0.0628471 , 0.17776893, 0.19819591, ..., 0.28164539,\n",
      "         0.36518986, 0.17581881],\n",
      "        [0.22194595, 0.57103046, 0.32896598, ..., 0.05038642,\n",
      "         0.13537414, 0.14838353],\n",
      "        ...,\n",
      "        [0.70038657, 0.48942069, 0.59756027, ..., 0.21937412,\n",
      "         0.60896369, 0.16427364],\n",
      "        [0.61431875, 0.45753182, 0.35874948, ..., 0.12731019,\n",
      "         0.05519252, 0.1088009 ],\n",
      "        [0.52254838, 0.17348554, 0.42814518, ..., 0.38008694,\n",
      "         0.23400827, 0.28560488]]]), array([[[0.18826985, 0.1402374 , 0.28188282, ..., 0.65677726,\n",
      "         0.32140196, 0.17984644],\n",
      "        [0.77366341, 0.82257468, 0.60877541, ..., 0.52273769,\n",
      "         0.46488522, 0.3038828 ],\n",
      "        [0.06239719, 0.27988056, 0.56845226, ..., 0.31905405,\n",
      "         0.18929221, 0.12028206],\n",
      "        ...,\n",
      "        [0.33535923, 0.52975743, 0.71158261, ..., 0.81139592,\n",
      "         0.64451089, 0.3979419 ],\n",
      "        [0.37629594, 0.18782186, 0.08621909, ..., 0.32201285,\n",
      "         0.37976097, 0.78267263],\n",
      "        [0.54649906, 0.39608397, 0.88448407, ..., 0.27047242,\n",
      "         0.09869822, 0.42877896]],\n",
      "\n",
      "       [[0.24054213, 0.39317633, 0.1053193 , ..., 0.14132192,\n",
      "         0.24078131, 0.35232999],\n",
      "        [0.10317559, 0.09076048, 0.03971177, ..., 0.50160086,\n",
      "         0.3687098 , 0.60626812],\n",
      "        [0.74549336, 0.66666489, 0.58050796, ..., 0.58875798,\n",
      "         0.23030116, 0.43251028],\n",
      "        ...,\n",
      "        [0.24332791, 0.14715709, 0.05486926, ..., 0.68878388,\n",
      "         0.926193  , 0.76700514],\n",
      "        [0.68787156, 0.29963864, 0.11718351, ..., 0.45407026,\n",
      "         0.86957476, 0.10739635],\n",
      "        [0.26230837, 0.37839716, 0.50597512, ..., 0.10551895,\n",
      "         0.21183981, 0.20555695]],\n",
      "\n",
      "       [[0.36923176, 0.2268569 , 0.15879633, ..., 0.04852487,\n",
      "         0.09991372, 0.10055192],\n",
      "        [0.34686965, 0.7853735 , 0.77428832, ..., 0.06888754,\n",
      "         0.03717323, 0.1367023 ],\n",
      "        [0.35245795, 0.06162946, 0.12873595, ..., 0.17683471,\n",
      "         0.09163723, 0.32282335],\n",
      "        ...,\n",
      "        [0.59001775, 0.72794354, 0.66147842, ..., 0.81898958,\n",
      "         0.33760246, 0.31137577],\n",
      "        [0.28681964, 0.38353794, 0.43968234, ..., 0.40521249,\n",
      "         0.8553084 , 0.78108018],\n",
      "        [0.2229454 , 0.21947185, 0.67277177, ..., 0.26621888,\n",
      "         0.07064445, 0.48851525]],\n",
      "\n",
      "       ...,\n",
      "\n",
      "       [[0.58300933, 0.57100054, 0.58987254, ..., 0.33659119,\n",
      "         0.36477853, 0.62569213],\n",
      "        [0.14781976, 0.24245684, 0.11670952, ..., 0.17096227,\n",
      "         0.37177029, 0.17765585],\n",
      "        [0.1186412 , 0.04630684, 0.14470681, ..., 0.11834707,\n",
      "         0.08446001, 0.32194554],\n",
      "        ...,\n",
      "        [0.39823051, 0.34330287, 0.2400742 , ..., 0.27787371,\n",
      "         0.5568154 , 0.35918254],\n",
      "        [0.89975394, 0.80248579, 0.3452348 , ..., 0.68943854,\n",
      "         0.39098781, 0.77552166],\n",
      "        [0.35502019, 0.26587163, 0.18604882, ..., 0.12828056,\n",
      "         0.26763098, 0.73982814]],\n",
      "\n",
      "       [[0.79375987, 0.85164812, 0.45636895, ..., 0.44085133,\n",
      "         0.68375709, 0.25671314],\n",
      "        [0.16960716, 0.20767649, 0.29188128, ..., 0.61846718,\n",
      "         0.61219111, 0.79881609],\n",
      "        [0.55125118, 0.22163173, 0.24093683, ..., 0.65260276,\n",
      "         0.63192281, 0.46946608],\n",
      "        ...,\n",
      "        [0.52651874, 0.42548844, 0.5906294 , ..., 0.07129623,\n",
      "         0.1219101 , 0.36586195],\n",
      "        [0.43578598, 0.39624676, 0.14147568, ..., 0.22424992,\n",
      "         0.61853102, 0.58187619],\n",
      "        [0.24246631, 0.42882263, 0.50848412, ..., 0.24954929,\n",
      "         0.16295186, 0.0776247 ]],\n",
      "\n",
      "       [[0.77188833, 0.42958399, 0.545483  , ..., 0.02945018,\n",
      "         0.04081997, 0.17912121],\n",
      "        [0.41171328, 0.81890479, 0.5368889 , ..., 0.2430639 ,\n",
      "         0.59603116, 0.20008811],\n",
      "        [0.08195201, 0.01239159, 0.09690636, ..., 0.64902381,\n",
      "         0.67028455, 0.68857653],\n",
      "        ...,\n",
      "        [0.66806447, 0.52665235, 0.29464298, ..., 0.06057474,\n",
      "         0.19902191, 0.63651618],\n",
      "        [0.59233134, 0.28082953, 0.2997185 , ..., 0.09443758,\n",
      "         0.08530524, 0.30468879],\n",
      "        [0.08077111, 0.14156432, 0.10847426, ..., 0.77041437,\n",
      "         0.89068029, 0.46081602]]]), array([[[0.17562238, 0.66266876, 0.44995048, ..., 0.35159515,\n",
      "         0.39068571, 0.21646931],\n",
      "        [0.57507222, 0.65381151, 0.56699716, ..., 0.17136364,\n",
      "         0.37351233, 0.65616652],\n",
      "        [0.72638993, 0.38425771, 0.71582367, ..., 0.16301337,\n",
      "         0.5964837 , 0.52464416],\n",
      "        ...,\n",
      "        [0.94200788, 0.55709959, 0.89083278, ..., 0.13632634,\n",
      "         0.22395119, 0.28786379],\n",
      "        [0.13118553, 0.10999408, 0.62033475, ..., 0.30571895,\n",
      "         0.2996018 , 0.14166987],\n",
      "        [0.47287049, 0.89500907, 0.63534651, ..., 0.30966288,\n",
      "         0.70191594, 0.61376318]],\n",
      "\n",
      "       [[0.22494355, 0.73499685, 0.48097636, ..., 0.12130042,\n",
      "         0.11621515, 0.28047077],\n",
      "        [0.38312806, 0.64000387, 0.6021483 , ..., 0.51387659,\n",
      "         0.37310171, 0.24257025],\n",
      "        [0.13417377, 0.19322617, 0.1399683 , ..., 0.18596528,\n",
      "         0.14888335, 0.29732964],\n",
      "        ...,\n",
      "        [0.09490722, 0.03488364, 0.11751411, ..., 0.21028168,\n",
      "         0.37184295, 0.51816355],\n",
      "        [0.33609855, 0.22870959, 0.30208242, ..., 0.51483979,\n",
      "         0.92580767, 0.67527163],\n",
      "        [0.21144043, 0.10646803, 0.05951978, ..., 0.52601406,\n",
      "         0.72083318, 0.86422476]],\n",
      "\n",
      "       [[0.81782645, 0.3471975 , 0.30628199, ..., 0.146223  ,\n",
      "         0.42261736, 0.90704443],\n",
      "        [0.17815889, 0.19757723, 0.23424752, ..., 0.083082  ,\n",
      "         0.21055423, 0.06671053],\n",
      "        [0.36440361, 0.201207  , 0.16232009, ..., 0.63501449,\n",
      "         0.60609972, 0.59623199],\n",
      "        ...,\n",
      "        [0.3560089 , 0.12413657, 0.22673249, ..., 0.47521082,\n",
      "         0.29009306, 0.55712164],\n",
      "        [0.04762256, 0.14161484, 0.46364642, ..., 0.33270139,\n",
      "         0.18037729, 0.07824892],\n",
      "        [0.74874605, 0.49348436, 0.25348414, ..., 0.20895094,\n",
      "         0.08160701, 0.18181769]],\n",
      "\n",
      "       ...,\n",
      "\n",
      "       [[0.42638353, 0.20341923, 0.32450627, ..., 0.87441098,\n",
      "         0.84802372, 0.60805354],\n",
      "        [0.03161245, 0.07462663, 0.07052429, ..., 0.80091986,\n",
      "         0.38984773, 0.45112057],\n",
      "        [0.32912346, 0.39544525, 0.55892792, ..., 0.28224951,\n",
      "         0.12247212, 0.06345529],\n",
      "        ...,\n",
      "        [0.28509591, 0.1739842 , 0.22688627, ..., 0.35808305,\n",
      "         0.24822382, 0.15818588],\n",
      "        [0.33672997, 0.46304634, 0.09965918, ..., 0.6926281 ,\n",
      "         0.51738858, 0.19907035],\n",
      "        [0.90737228, 0.86861813, 0.82322053, ..., 0.35690035,\n",
      "         0.39049274, 0.62027968]],\n",
      "\n",
      "       [[0.20340868, 0.06135311, 0.03505084, ..., 0.07195559,\n",
      "         0.0447683 , 0.06062884],\n",
      "        [0.16170208, 0.08269945, 0.28200456, ..., 0.3328165 ,\n",
      "         0.3664222 , 0.09616317],\n",
      "        [0.35521927, 0.74313295, 0.22473625, ..., 0.09794582,\n",
      "         0.15350132, 0.09970357],\n",
      "        ...,\n",
      "        [0.19350265, 0.2864738 , 0.16420902, ..., 0.42333272,\n",
      "         0.12414776, 0.05294552],\n",
      "        [0.07858955, 0.14083429, 0.41704977, ..., 0.05736321,\n",
      "         0.03962409, 0.0500505 ],\n",
      "        [0.14345126, 0.32645732, 0.49106368, ..., 0.37274271,\n",
      "         0.12113083, 0.29017922]],\n",
      "\n",
      "       [[0.32065292, 0.51511739, 0.63572877, ..., 0.15235962,\n",
      "         0.21992106, 0.14675   ],\n",
      "        [0.33077215, 0.87505184, 0.41409046, ..., 0.12871988,\n",
      "         0.1757899 , 0.42369518],\n",
      "        [0.08282557, 0.54208468, 0.04030238, ..., 0.38772498,\n",
      "         0.18724541, 0.23334955],\n",
      "        ...,\n",
      "        [0.08001698, 0.09786094, 0.29483987, ..., 0.15484824,\n",
      "         0.10912402, 0.06113321],\n",
      "        [0.06947954, 0.20310559, 0.79091034, ..., 0.82521175,\n",
      "         0.81119149, 0.50581846],\n",
      "        [0.51204897, 0.29860803, 0.28281588, ..., 0.69092612,\n",
      "         0.12194318, 0.63291907]]]), array([[[0.88112959, 0.52178007, 0.51211285, ..., 0.17196641,\n",
      "         0.20058825, 0.60203786],\n",
      "        [0.72763895, 0.58331697, 0.41357631, ..., 0.04037137,\n",
      "         0.0712258 , 0.48241288],\n",
      "        [0.22343036, 0.05384924, 0.04031747, ..., 0.14406754,\n",
      "         0.3202858 , 0.83476904],\n",
      "        ...,\n",
      "        [0.04241298, 0.20179575, 0.34390504, ..., 0.33282966,\n",
      "         0.23915679, 0.12606565],\n",
      "        [0.15053641, 0.30918094, 0.13674629, ..., 0.14557539,\n",
      "         0.40966239, 0.30461678],\n",
      "        [0.42005476, 0.27712045, 0.25233838, ..., 0.397723  ,\n",
      "         0.60502359, 0.80988104]],\n",
      "\n",
      "       [[0.86945574, 0.65511017, 0.63772412, ..., 0.0640287 ,\n",
      "         0.06057086, 0.52047954],\n",
      "        [0.50147835, 0.25155001, 0.40340221, ..., 0.12082844,\n",
      "         0.07429333, 0.03136264],\n",
      "        [0.77599714, 0.8746218 , 0.61072557, ..., 0.09372182,\n",
      "         0.1887091 , 0.3180213 ],\n",
      "        ...,\n",
      "        [0.22736342, 0.69003229, 0.16555308, ..., 0.05976353,\n",
      "         0.06505565, 0.37579962],\n",
      "        [0.21146212, 0.15124209, 0.33678466, ..., 0.51684967,\n",
      "         0.81857234, 0.18797185],\n",
      "        [0.49753074, 0.26833058, 0.14102474, ..., 0.1524298 ,\n",
      "         0.1144915 , 0.43689504]],\n",
      "\n",
      "       [[0.03876694, 0.04426424, 0.05008416, ..., 0.49399456,\n",
      "         0.59866064, 0.69606462],\n",
      "        [0.73178309, 0.49291123, 0.85897676, ..., 0.1260962 ,\n",
      "         0.60026791, 0.24922527],\n",
      "        [0.47539018, 0.37031213, 0.65115017, ..., 0.27490832,\n",
      "         0.30408339, 0.06366649],\n",
      "        ...,\n",
      "        [0.45430249, 0.31373025, 0.16552985, ..., 0.19538611,\n",
      "         0.05740187, 0.08128644],\n",
      "        [0.0741506 , 0.05154698, 0.0282051 , ..., 0.20216867,\n",
      "         0.29739754, 0.10948023],\n",
      "        [0.70484905, 0.19768606, 0.6217171 , ..., 0.41856708,\n",
      "         0.26864846, 0.14958948]],\n",
      "\n",
      "       ...,\n",
      "\n",
      "       [[0.90386522, 0.51763233, 0.82203588, ..., 0.14677762,\n",
      "         0.07636862, 0.20532363],\n",
      "        [0.39053616, 0.73162955, 0.24763019, ..., 0.07005427,\n",
      "         0.13887585, 0.25375058],\n",
      "        [0.5775002 , 0.76869586, 0.87466075, ..., 0.19019114,\n",
      "         0.42023806, 0.82071596],\n",
      "        ...,\n",
      "        [0.27188203, 0.16225422, 0.19630675, ..., 0.44238825,\n",
      "         0.30371932, 0.33079874],\n",
      "        [0.22770355, 0.68939428, 0.79522642, ..., 0.09542055,\n",
      "         0.03219856, 0.25179252],\n",
      "        [0.10272759, 0.16409489, 0.21947303, ..., 0.0460082 ,\n",
      "         0.28768458, 0.6372244 ]],\n",
      "\n",
      "       [[0.10353926, 0.26243348, 0.55131589, ..., 0.13009481,\n",
      "         0.32720574, 0.24679935],\n",
      "        [0.13431286, 0.16121783, 0.16552495, ..., 0.26492316,\n",
      "         0.2836581 , 0.3384064 ],\n",
      "        [0.42026404, 0.26255886, 0.17891192, ..., 0.5336654 ,\n",
      "         0.34297701, 0.14163131],\n",
      "        ...,\n",
      "        [0.81967546, 0.86748195, 0.78947271, ..., 0.11141602,\n",
      "         0.06365607, 0.27165102],\n",
      "        [0.32464978, 0.23271266, 0.2352895 , ..., 0.06847181,\n",
      "         0.20894659, 0.54246017],\n",
      "        [0.5889196 , 0.55548168, 0.11512612, ..., 0.21755273,\n",
      "         0.04584051, 0.17519925]],\n",
      "\n",
      "       [[0.07406583, 0.14234831, 0.24732249, ..., 0.33957373,\n",
      "         0.62118465, 0.66102712],\n",
      "        [0.08004109, 0.55015631, 0.81157998, ..., 0.75448321,\n",
      "         0.43064835, 0.17668208],\n",
      "        [0.34168695, 0.48909928, 0.38279162, ..., 0.46295442,\n",
      "         0.26947096, 0.28116788],\n",
      "        ...,\n",
      "        [0.10989474, 0.24293059, 0.10143202, ..., 0.28576068,\n",
      "         0.37471011, 0.27719301],\n",
      "        [0.78622851, 0.69152338, 0.48146049, ..., 0.41998371,\n",
      "         0.6004704 , 0.73656724],\n",
      "        [0.57156405, 0.40900993, 0.15245293, ..., 0.17472105,\n",
      "         0.16954458, 0.40880813]]])]\n"
     ]
    }
   ],
   "source": [
    "print(\"cfs_list: \", cfs_list)"
   ]
  },
  {
   "cell_type": "code",
   "execution_count": 20,
   "metadata": {},
   "outputs": [
    {
     "data": {
      "text/plain": [
       "(5, 59, 10, 30)"
      ]
     },
     "execution_count": 20,
     "metadata": {},
     "output_type": "execute_result"
    }
   ],
   "source": [
    "np.shape(cfs_list)"
   ]
  },
  {
   "cell_type": "code",
   "execution_count": 21,
   "metadata": {},
   "outputs": [],
   "source": [
    "# create an array of values for the lead time\n",
    "lead_time_array_1 = np.arange(1, 30 + 1, 1)\n",
    "lead_time_array_2 = np.arange(31, 60 + 1, 1)\n",
    "lead_time_array_3 = np.arange(61, 90 + 1, 1)\n",
    "lead_time_array_4 = np.arange(91, 120 + 1, 1)\n",
    "lead_time_array_5 = np.arange(121, 150 + 1, 1)\n",
    "\n",
    "\n",
    "# combine the arrays with a list\n",
    "lead_time_list = [lead_time_array_1, lead_time_array_2, lead_time_array_3, lead_time_array_4, lead_time_array_5]"
   ]
  },
  {
   "cell_type": "code",
   "execution_count": 22,
   "metadata": {},
   "outputs": [
    {
     "data": {
      "text/plain": [
       "[array([ 1,  2,  3,  4,  5,  6,  7,  8,  9, 10, 11, 12, 13, 14, 15, 16, 17,\n",
       "        18, 19, 20, 21, 22, 23, 24, 25, 26, 27, 28, 29, 30]),\n",
       " array([31, 32, 33, 34, 35, 36, 37, 38, 39, 40, 41, 42, 43, 44, 45, 46, 47,\n",
       "        48, 49, 50, 51, 52, 53, 54, 55, 56, 57, 58, 59, 60]),\n",
       " array([61, 62, 63, 64, 65, 66, 67, 68, 69, 70, 71, 72, 73, 74, 75, 76, 77,\n",
       "        78, 79, 80, 81, 82, 83, 84, 85, 86, 87, 88, 89, 90]),\n",
       " array([ 91,  92,  93,  94,  95,  96,  97,  98,  99, 100, 101, 102, 103,\n",
       "        104, 105, 106, 107, 108, 109, 110, 111, 112, 113, 114, 115, 116,\n",
       "        117, 118, 119, 120]),\n",
       " array([121, 122, 123, 124, 125, 126, 127, 128, 129, 130, 131, 132, 133,\n",
       "        134, 135, 136, 137, 138, 139, 140, 141, 142, 143, 144, 145, 146,\n",
       "        147, 148, 149, 150])]"
      ]
     },
     "execution_count": 22,
     "metadata": {},
     "output_type": "execute_result"
    }
   ],
   "source": [
    "lead_time_list"
   ]
  },
  {
   "cell_type": "code",
   "execution_count": 23,
   "metadata": {},
   "outputs": [
    {
     "data": {
      "text/plain": [
       "(5, 59, 10, 30)"
      ]
     },
     "execution_count": 23,
     "metadata": {},
     "output_type": "execute_result"
    }
   ],
   "source": [
    "np.shape(cfs_list)"
   ]
  },
  {
   "cell_type": "code",
   "execution_count": 24,
   "metadata": {},
   "outputs": [
    {
     "data": {
      "text/plain": [
       "<module 'load_wind_functions' from '/home/users/benhutch/unseen_functions/load_wind_functions.py'>"
      ]
     },
     "execution_count": 24,
     "metadata": {},
     "output_type": "execute_result"
    }
   ],
   "source": [
    "importlib.reload(lw_func)"
   ]
  },
  {
   "cell_type": "code",
   "execution_count": 25,
   "metadata": {},
   "outputs": [],
   "source": [
    "combined_df_test = pd.DataFrame()"
   ]
  },
  {
   "cell_type": "code",
   "execution_count": 26,
   "metadata": {},
   "outputs": [
    {
     "name": "stdout",
     "output_type": "stream",
     "text": [
      "cfs shape:  (59, 10, 30)\n"
     ]
    },
    {
     "name": "stderr",
     "output_type": "stream",
     "text": [
      "Looping over init years: 0it [00:00, ?it/s]"
     ]
    },
    {
     "name": "stderr",
     "output_type": "stream",
     "text": [
      "Looping over init years: 59it [00:06,  9.46it/s]\n"
     ]
    },
    {
     "name": "stdout",
     "output_type": "stream",
     "text": [
      "cfs shape:  (59, 10, 30)\n"
     ]
    },
    {
     "name": "stderr",
     "output_type": "stream",
     "text": [
      "Looping over init years: 59it [00:06,  9.30it/s]\n"
     ]
    },
    {
     "name": "stdout",
     "output_type": "stream",
     "text": [
      "cfs shape:  (59, 10, 30)\n"
     ]
    },
    {
     "name": "stderr",
     "output_type": "stream",
     "text": [
      "Looping over init years: 59it [00:06,  9.25it/s]\n"
     ]
    },
    {
     "name": "stdout",
     "output_type": "stream",
     "text": [
      "cfs shape:  (59, 10, 30)\n"
     ]
    },
    {
     "name": "stderr",
     "output_type": "stream",
     "text": [
      "Looping over init years: 59it [00:06,  9.31it/s]\n"
     ]
    },
    {
     "name": "stdout",
     "output_type": "stream",
     "text": [
      "cfs shape:  (59, 10, 30)\n"
     ]
    },
    {
     "name": "stderr",
     "output_type": "stream",
     "text": [
      "Looping over init years: 59it [00:06,  9.34it/s]\n"
     ]
    }
   ],
   "source": [
    "for cfs, lead_time_array in zip(cfs_list, lead_time_list):\n",
    "    print(\"cfs shape: \", cfs.shape)\n",
    "\n",
    "    # Form the wind power dataframe\n",
    "    wp_df = lw_func.form_wind_power_dataframe(\n",
    "        cfs=cfs,\n",
    "        ds=ds,\n",
    "        country_name=country_name,\n",
    "        obs_flag=False,\n",
    "        model_fpath=test_file,\n",
    "        init_years=[1960, 2018],\n",
    "        leads=lead_time_array,\n",
    "        ons_ofs=\"ofs\",\n",
    "    )\n",
    "\n",
    "    # Append to the combined dataframe\n",
    "    combined_df_test = pd.concat([combined_df_test, wp_df], ignore_index=True)"
   ]
  },
  {
   "cell_type": "code",
   "execution_count": 27,
   "metadata": {},
   "outputs": [
    {
     "data": {
      "text/plain": [
       "array([  1,   2,   3,   4,   5,   6,   7,   8,   9,  10,  11,  12,  13,\n",
       "        14,  15,  16,  17,  18,  19,  20,  21,  22,  23,  24,  25,  26,\n",
       "        27,  28,  29,  30,  31,  32,  33,  34,  35,  36,  37,  38,  39,\n",
       "        40,  41,  42,  43,  44,  45,  46,  47,  48,  49,  50,  51,  52,\n",
       "        53,  54,  55,  56,  57,  58,  59,  60,  61,  62,  63,  64,  65,\n",
       "        66,  67,  68,  69,  70,  71,  72,  73,  74,  75,  76,  77,  78,\n",
       "        79,  80,  81,  82,  83,  84,  85,  86,  87,  88,  89,  90,  91,\n",
       "        92,  93,  94,  95,  96,  97,  98,  99, 100, 101, 102, 103, 104,\n",
       "       105, 106, 107, 108, 109, 110, 111, 112, 113, 114, 115, 116, 117,\n",
       "       118, 119, 120, 121, 122, 123, 124, 125, 126, 127, 128, 129, 130,\n",
       "       131, 132, 133, 134, 135, 136, 137, 138, 139, 140, 141, 142, 143,\n",
       "       144, 145, 146, 147, 148, 149, 150])"
      ]
     },
     "execution_count": 27,
     "metadata": {},
     "output_type": "execute_result"
    }
   ],
   "source": [
    "combined_df_test.lead.unique()"
   ]
  },
  {
   "cell_type": "code",
   "execution_count": 28,
   "metadata": {},
   "outputs": [
    {
     "data": {
      "text/html": [
       "<div>\n",
       "<style scoped>\n",
       "    .dataframe tbody tr th:only-of-type {\n",
       "        vertical-align: middle;\n",
       "    }\n",
       "\n",
       "    .dataframe tbody tr th {\n",
       "        vertical-align: top;\n",
       "    }\n",
       "\n",
       "    .dataframe thead th {\n",
       "        text-align: right;\n",
       "    }\n",
       "</style>\n",
       "<table border=\"1\" class=\"dataframe\">\n",
       "  <thead>\n",
       "    <tr style=\"text-align: right;\">\n",
       "      <th></th>\n",
       "      <th>init</th>\n",
       "      <th>lead</th>\n",
       "      <th>member</th>\n",
       "      <th>United_Kingdom_wind_power_cfs_ofs</th>\n",
       "    </tr>\n",
       "  </thead>\n",
       "  <tbody>\n",
       "    <tr>\n",
       "      <th>0</th>\n",
       "      <td>1960</td>\n",
       "      <td>1</td>\n",
       "      <td>1</td>\n",
       "      <td>0.800509</td>\n",
       "    </tr>\n",
       "    <tr>\n",
       "      <th>1</th>\n",
       "      <td>1960</td>\n",
       "      <td>1</td>\n",
       "      <td>2</td>\n",
       "      <td>0.800961</td>\n",
       "    </tr>\n",
       "    <tr>\n",
       "      <th>2</th>\n",
       "      <td>1960</td>\n",
       "      <td>1</td>\n",
       "      <td>3</td>\n",
       "      <td>0.800905</td>\n",
       "    </tr>\n",
       "    <tr>\n",
       "      <th>3</th>\n",
       "      <td>1960</td>\n",
       "      <td>1</td>\n",
       "      <td>4</td>\n",
       "      <td>0.803976</td>\n",
       "    </tr>\n",
       "    <tr>\n",
       "      <th>4</th>\n",
       "      <td>1960</td>\n",
       "      <td>1</td>\n",
       "      <td>5</td>\n",
       "      <td>0.802065</td>\n",
       "    </tr>\n",
       "  </tbody>\n",
       "</table>\n",
       "</div>"
      ],
      "text/plain": [
       "   init  lead  member  United_Kingdom_wind_power_cfs_ofs\n",
       "0  1960     1       1                           0.800509\n",
       "1  1960     1       2                           0.800961\n",
       "2  1960     1       3                           0.800905\n",
       "3  1960     1       4                           0.803976\n",
       "4  1960     1       5                           0.802065"
      ]
     },
     "execution_count": 28,
     "metadata": {},
     "output_type": "execute_result"
    }
   ],
   "source": [
    "combined_df_test.head()"
   ]
  },
  {
   "cell_type": "code",
   "execution_count": 29,
   "metadata": {},
   "outputs": [],
   "source": [
    "# set up the save dir\n",
    "save_dir = \"/gws/nopw/j04/canari/users/benhutch/met_to_energy_dfs/\"\n",
    "\n",
    "# assert that the save_dir exists\n",
    "assert os.path.exists(save_dir), f\"Path does not exist: {save_dir}\"\n",
    "\n",
    "# set up the fname\n",
    "fname = f\"{country_name}_wind_power_df_test_ofs_1960_2018_NDJFM.csv\"\n",
    "\n",
    "# set up the save path\n",
    "save_path = os.path.join(save_dir, fname)\n",
    "\n",
    "# if the file does not exist, save it\n",
    "if not os.path.exists(save_path):\n",
    "    combined_df_test.to_csv(save_path, index=False)"
   ]
  },
  {
   "cell_type": "code",
   "execution_count": 34,
   "metadata": {},
   "outputs": [
    {
     "data": {
      "text/html": [
       "<div>\n",
       "<style scoped>\n",
       "    .dataframe tbody tr th:only-of-type {\n",
       "        vertical-align: middle;\n",
       "    }\n",
       "\n",
       "    .dataframe tbody tr th {\n",
       "        vertical-align: top;\n",
       "    }\n",
       "\n",
       "    .dataframe thead th {\n",
       "        text-align: right;\n",
       "    }\n",
       "</style>\n",
       "<table border=\"1\" class=\"dataframe\">\n",
       "  <thead>\n",
       "    <tr style=\"text-align: right;\">\n",
       "      <th></th>\n",
       "      <th>init</th>\n",
       "      <th>lead</th>\n",
       "      <th>member</th>\n",
       "      <th>United_Kingdom_wind_power_cfs_ons</th>\n",
       "    </tr>\n",
       "  </thead>\n",
       "  <tbody>\n",
       "    <tr>\n",
       "      <th>0</th>\n",
       "      <td>1960</td>\n",
       "      <td>1</td>\n",
       "      <td>1</td>\n",
       "      <td>0.682444</td>\n",
       "    </tr>\n",
       "    <tr>\n",
       "      <th>1</th>\n",
       "      <td>1960</td>\n",
       "      <td>1</td>\n",
       "      <td>2</td>\n",
       "      <td>0.681283</td>\n",
       "    </tr>\n",
       "    <tr>\n",
       "      <th>2</th>\n",
       "      <td>1960</td>\n",
       "      <td>1</td>\n",
       "      <td>3</td>\n",
       "      <td>0.684550</td>\n",
       "    </tr>\n",
       "    <tr>\n",
       "      <th>3</th>\n",
       "      <td>1960</td>\n",
       "      <td>1</td>\n",
       "      <td>4</td>\n",
       "      <td>0.687110</td>\n",
       "    </tr>\n",
       "    <tr>\n",
       "      <th>4</th>\n",
       "      <td>1960</td>\n",
       "      <td>1</td>\n",
       "      <td>5</td>\n",
       "      <td>0.685891</td>\n",
       "    </tr>\n",
       "  </tbody>\n",
       "</table>\n",
       "</div>"
      ],
      "text/plain": [
       "   init  lead  member  United_Kingdom_wind_power_cfs_ons\n",
       "0  1960     1       1                           0.682444\n",
       "1  1960     1       2                           0.681283\n",
       "2  1960     1       3                           0.684550\n",
       "3  1960     1       4                           0.687110\n",
       "4  1960     1       5                           0.685891"
      ]
     },
     "execution_count": 34,
     "metadata": {},
     "output_type": "execute_result"
    }
   ],
   "source": [
    "combined_df_test.head()"
   ]
  },
  {
   "cell_type": "code",
   "execution_count": null,
   "metadata": {},
   "outputs": [],
   "source": [
    "# # add a lead column to combined_df\n",
    "# # one for each unique date\n",
    "# combined_df[\"lead\"] = np.tile(np.arange(1, 31), len(combined_df) // 30)"
   ]
  },
  {
   "cell_type": "code",
   "execution_count": null,
   "metadata": {},
   "outputs": [],
   "source": [
    "combined_df.head()"
   ]
  },
  {
   "cell_type": "code",
   "execution_count": null,
   "metadata": {},
   "outputs": [],
   "source": [
    "# add lead column to wind_power_df\n",
    "wind_power_df[\"lead\"] = np.arange(1, len(wind_power_df) + 1)"
   ]
  },
  {
   "cell_type": "code",
   "execution_count": null,
   "metadata": {},
   "outputs": [],
   "source": [
    "# # loop over the different members and plot the wind power data\n",
    "# fig, ax = plt.subplots()\n",
    "\n",
    "# for member in combined_df[\"member\"].unique():\n",
    "#     member_df = combined_df[combined_df[\"member\"] == member]\n",
    "\n",
    "#     # smooth the member by 10 days centred\n",
    "#     member_df_smooth = member_df[\"cfs\"].rolling(window=10).mean()\n",
    "\n",
    "#     plt.plot(member_df[\"lead\"], member_df_smooth, label=member)\n",
    "\n",
    "# # # quantify a 5%-95% range\n",
    "# # quantile_5 = member_df_smooth.groupby(\"lead\")[\"cfs\"].quantile(0.05)\n",
    "# # quantile_95 = member_df_smooth.groupby(\"lead\")[\"cfs\"].quantile(0.95)\n",
    "\n",
    "# # plt.fill_between(\n",
    "# #     combined_df[\"lead\"].unique(),\n",
    "# #     quantile_5,\n",
    "# #     quantile_95,\n",
    "# #     alpha=0.2,\n",
    "# #     color=\"black\",\n",
    "# #     label=\"5-95% range\",\n",
    "# # )\n",
    "\n",
    "# # limit wind power data to 30 days\n",
    "# wind_power_df_subset = wind_power_df.iloc[:30]\n",
    "\n",
    "# # # plot the observed wind power data\n",
    "# obs_smooth = wind_power_df_subset[\"United_Kingdom_wind_power\"].rolling(window=10).mean()\n",
    "\n",
    "# plt.plot(wind_power_df_subset[\"lead\"], obs_smooth, label=\"observed\", color=\"black\")\n",
    "\n",
    "# # plot the legend off to the side\n",
    "# plt.legend(loc='center left', bbox_to_anchor=(1, 0.5))"
   ]
  },
  {
   "cell_type": "code",
   "execution_count": null,
   "metadata": {},
   "outputs": [],
   "source": [
    "wind_speed_post_obs.shape"
   ]
  },
  {
   "cell_type": "code",
   "execution_count": null,
   "metadata": {},
   "outputs": [],
   "source": [
    "wind_speed_post.shape"
   ]
  },
  {
   "cell_type": "code",
   "execution_count": null,
   "metadata": {},
   "outputs": [],
   "source": [
    "# get these into a dataframe\n",
    "wind_speed_post_obs_df = pd.DataFrame(wind_speed_post_obs)"
   ]
  },
  {
   "cell_type": "code",
   "execution_count": null,
   "metadata": {},
   "outputs": [],
   "source": [
    "# set up a lead column\n",
    "wind_speed_post_obs_df[\"lead\"] = np.arange(1, len(wind_speed_post_obs_df) + 1)"
   ]
  },
  {
   "cell_type": "code",
   "execution_count": null,
   "metadata": {},
   "outputs": [],
   "source": [
    "# set up column names\n",
    "wind_speed_post_obs_df.columns = [\"obs_100m_wind_speed_bc\", \"lead\"]"
   ]
  },
  {
   "cell_type": "code",
   "execution_count": null,
   "metadata": {},
   "outputs": [],
   "source": [
    "wind_speed_post_obs_df"
   ]
  },
  {
   "cell_type": "code",
   "execution_count": null,
   "metadata": {},
   "outputs": [],
   "source": [
    "wind_speed_dfs = []\n",
    "\n",
    "# loop over shape of 1th dimension\n",
    "for i in range(1, wind_speed_pre.shape[1] + 1):\n",
    "\n",
    "    # get the wind speed\n",
    "    wind_speed = wind_speed_pre[:, i - 1]\n",
    "\n",
    "    # print the wind speed shape\n",
    "    print(\"wind_speed shape: \", wind_speed.shape)\n",
    "\n",
    "    # get these into a dataframe\n",
    "    wind_speed_df = pd.DataFrame({\n",
    "        \"wind_speed\": wind_speed,\n",
    "        \"lead\": [i] * len(wind_speed),\n",
    "        \"member\": np.arange(1, wind_speed.shape[0] + 1),\n",
    "    })\n",
    "\n",
    "    # append to the list\n",
    "    wind_speed_dfs.append(wind_speed_df)\n",
    "\n",
    "# concatenate the dataframes\n",
    "wind_speed_df = pd.concat(wind_speed_dfs, ignore_index=True)"
   ]
  },
  {
   "cell_type": "code",
   "execution_count": null,
   "metadata": {},
   "outputs": [],
   "source": [
    "wind_speed_df"
   ]
  },
  {
   "cell_type": "code",
   "execution_count": null,
   "metadata": {},
   "outputs": [],
   "source": [
    "# set up a figure\n",
    "fig, ax = plt.subplots()\n",
    "\n",
    "# # subset df to 30 days\n",
    "# wind_speed_pre_obs_df_subset = wind_speed_pre_obs_df.iloc[:30]\n",
    "\n",
    "# take a rolling mean\n",
    "obs_smooth = wind_speed_pre_obs_df_subset[\"obs_10m_wind_speed\"].rolling(window=10).mean()\n",
    "\n",
    "# plot the observed wind speed\n",
    "plt.plot(wind_speed_pre_obs_df_subset[\"lead\"], obs_smooth, label=\"observed\", color=\"black\")\n",
    "\n",
    "# loop over the different members and plot the wind power data\n",
    "for member in wind_speed_df[\"member\"].unique():\n",
    "    member_df = wind_speed_df[wind_speed_df[\"member\"] == member]\n",
    "\n",
    "    # smooth the member by 10 days centred\n",
    "    member_df_smooth = member_df[\"wind_speed\"].rolling(window=10).mean()\n",
    "\n",
    "    plt.plot(member_df[\"lead\"], member_df_smooth, label=member)\n",
    "\n",
    "# plot the legend off to the side\n",
    "plt.legend(loc='center left', bbox_to_anchor=(1, 0.5))\n",
    "\n",
    "# add a ylabel\n",
    "plt.ylabel(\"10m wind speed (m/s)\")"
   ]
  }
 ],
 "metadata": {
  "kernelspec": {
   "display_name": "Python 3",
   "language": "python",
   "name": "python3"
  },
  "language_info": {
   "codemirror_mode": {
    "name": "ipython",
    "version": 3
   },
   "file_extension": ".py",
   "mimetype": "text/x-python",
   "name": "python",
   "nbconvert_exporter": "python",
   "pygments_lexer": "ipython3",
   "version": "3.10.5"
  }
 },
 "nbformat": 4,
 "nbformat_minor": 2
}
