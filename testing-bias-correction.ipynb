{
 "cells": [
  {
   "cell_type": "markdown",
   "metadata": {},
   "source": [
    "## Bias correction testing ##\n",
    "\n",
    "Now that we have established that there are biases in the HadGEM3-GC31-MM ensemble when compared to ERA5 on monthly timescales, for temperature, solar irradiance, and 10m wind speeds, we can now go about testing the bias correction which is applied to the daily data. Utilizing methods from Dawkins et al. (2021) and Luo et al., (2018).\n",
    "\n",
    "* Dawkins et al. (2021) - https://catalogue.ceda.ac.uk/uuid/7beeed0bc7fa41feb10be22ee9d10f00?jump=related-docs-anchor\n",
    "\n",
    "* Luo et al. (2018) - https://www.mdpi.com/2073-4441/10/8/1046"
   ]
  },
  {
   "cell_type": "code",
   "execution_count": 1,
   "metadata": {},
   "outputs": [],
   "source": [
    "import os\n",
    "import sys\n",
    "import glob\n",
    "import importlib\n",
    "from tqdm import tqdm\n",
    "\n",
    "# Import relevant libraries\n",
    "import numpy as np\n",
    "import matplotlib.pyplot as plt\n",
    "import xarray as xr\n",
    "\n",
    "# # Optional dask stuff\n",
    "# import dask_gateway\n",
    "# import pathlib"
   ]
  },
  {
   "cell_type": "code",
   "execution_count": 2,
   "metadata": {},
   "outputs": [],
   "source": [
    "# Import the functsions\n",
    "sys.path.append(\"/home/users/benhutch/unseen_functions/\")\n",
    "\n",
    "# import the bias functions\n",
    "import bias_functions as bf"
   ]
  },
  {
   "cell_type": "code",
   "execution_count": 3,
   "metadata": {},
   "outputs": [],
   "source": [
    "# import the dictionaries\n",
    "sys.path.append(\"/home/users/benhutch/unseen_functions/\")\n",
    "\n",
    "# import the dictionaries\n",
    "import unseen_dictionaries as udicts"
   ]
  },
  {
   "cell_type": "code",
   "execution_count": 4,
   "metadata": {},
   "outputs": [],
   "source": [
    "# Set up the arguments\n",
    "# --------------------\n",
    "model = \"HadGEM3-GC31-MM\"\n",
    "variable = \"psl\"\n",
    "obs_variable = \"msl\"\n",
    "lead_time = 1 # first start november to end october period\n",
    "experiment = \"dcppA-hindcast\"\n",
    "freq = \"day\"\n",
    "engine = \"netcdf4\"\n",
    "parallel = False\n",
    "\n",
    "# Init years for testing\n",
    "init_years = [1960]\n",
    "\n",
    "# Test file for daily data\n",
    "test_file = \"/badc/cmip6/data/CMIP6/DCPP/MOHC/HadGEM3-GC31-MM/dcppA-hindcast/s1960-r1i1p1f2/day/psl/gn/files/d20200417/psl_day_HadGEM3-GC31-MM_dcppA-hindcast_s1960-r1i1p1f2_gn_19601101-19601230.nc\"\n",
    "\n",
    "# Daily obs fpath - single var - t2m\n",
    "obs_fpath = \"/gws/nopw/j04/canari/users/benhutch/ERA5/ERA5_msl_daily_1960_2020_daymean.nc\""
   ]
  },
  {
   "cell_type": "code",
   "execution_count": 5,
   "metadata": {},
   "outputs": [
    {
     "name": "stdout",
     "output_type": "stream",
     "text": [
      "Model path: /badc/cmip6/data/CMIP6/DCPP/MOHC/HadGEM3-GC31-MM/dcppA-hindcast\n",
      "Model path root: badc\n",
      "Loading data from BADC\n",
      "Unique variants: ['r7i1p1f2', 'r8i1p1f2', 'r1i1p1f2', 'r9i1p1f2', 'r4i1p1f2', 'r2i1p1f2', 'r10i1p1f2', 'r5i1p1f2', 'r3i1p1f2', 'r6i1p1f2']\n",
      "Shape of agg_files: 120\n"
     ]
    },
    {
     "name": "stderr",
     "output_type": "stream",
     "text": [
      "Loading data:   0%|          | 0/1 [00:00<?, ?it/s]"
     ]
    },
    {
     "name": "stderr",
     "output_type": "stream",
     "text": [
      "Loading data: 100%|██████████| 1/1 [00:07<00:00,  7.85s/it]"
     ]
    },
    {
     "name": "stdout",
     "output_type": "stream",
     "text": [
      "Converting the lead times to days assuming datetime360 day frequency.\n",
      "First date: 1960-11-01 00:00:00\n",
      "Last date: 1971-03-30 00:00:00\n",
      "bounds: time_bnds\n",
      "units: days since 1850-01-01\n",
      "calendar: 360_day\n",
      "axis: T\n",
      "long_name: time\n",
      "standard_name: time\n",
      "First value of time: 39900.5\n",
      "Lead time is 1\n",
      "First day: 1960-11-01 00:00:00\n",
      "Last day: 1961-10-30 00:00:00\n",
      "ds: <xarray.Dataset>\n",
      "Dimensions:    (lead: 360, init: 1, member: 10, bnds: 2, lat: 324, lon: 432)\n",
      "Coordinates:\n",
      "  * lead       (lead) int64 2 3 4 5 6 7 8 9 ... 354 355 356 357 358 359 360 361\n",
      "  * lat        (lat) float64 -89.72 -89.17 -88.61 -88.06 ... 88.61 89.17 89.72\n",
      "  * lon        (lon) float64 0.4167 1.25 2.083 2.917 ... 357.1 357.9 358.7 359.6\n",
      "Dimensions without coordinates: init, member, bnds\n",
      "Data variables:\n",
      "    time_bnds  (init, member, lead, bnds) object dask.array<chunksize=(1, 1, 9, 2), meta=np.ndarray>\n",
      "    lat_bnds   (init, member, lat, bnds) float64 dask.array<chunksize=(1, 1, 324, 2), meta=np.ndarray>\n",
      "    lon_bnds   (init, member, lon, bnds) float64 dask.array<chunksize=(1, 1, 432, 2), meta=np.ndarray>\n",
      "    psl        (init, member, lead, lat, lon) float32 dask.array<chunksize=(1, 1, 9, 324, 432), meta=np.ndarray>\n",
      "Attributes: (12/47)\n",
      "    Conventions:            CF-1.7 CMIP-6.2\n",
      "    activity_id:            DCPP\n",
      "    branch_method:          no parent\n",
      "    branch_time_in_child:   0.0\n",
      "    branch_time_in_parent:  0.0\n",
      "    creation_date:          2020-05-27T14:52:10Z\n",
      "    ...                     ...\n",
      "    license:                CMIP6 model data produced by Met Office Hadley Ce...\n",
      "    cmor_version:           3.4.0\n",
      "    first_month:            1960-11-01 12:00:00\n",
      "    time_axis_type:         Datetime360Day\n",
      "    first_day:              1960-11-01 00:00:00\n",
      "    last_day:               1961-10-30 00:00:00\n",
      "CPU times: user 1.57 s, sys: 143 ms, total: 1.71 s\n",
      "Wall time: 7.94 s\n"
     ]
    },
    {
     "name": "stderr",
     "output_type": "stream",
     "text": [
      "\n"
     ]
    }
   ],
   "source": [
    "%%time\n",
    "\n",
    "# Load the dcpp daily data\n",
    "ds = bf.load_dcpp_data_lead(\n",
    "    model=model,\n",
    "    variable=variable,\n",
    "    lead_time=lead_time,\n",
    "    init_years=init_years,\n",
    "    experiment=experiment,\n",
    "    frequency=freq,\n",
    "    engine=engine,\n",
    "    parallel=parallel,\n",
    ")"
   ]
  },
  {
   "cell_type": "code",
   "execution_count": 6,
   "metadata": {},
   "outputs": [
    {
     "name": "stdout",
     "output_type": "stream",
     "text": [
      "Lat res: <xarray.DataArray 'lat' ()>\n",
      "array(0.5555556)\n",
      "Lon res: <xarray.DataArray 'lon' ()>\n",
      "array(0.83333329)\n",
      "CPU times: user 6.1 s, sys: 313 ms, total: 6.41 s\n",
      "Wall time: 6.73 s\n"
     ]
    }
   ],
   "source": [
    "%%time\n",
    "\n",
    "# Regrid the data\n",
    "ds = bf.regrid_ds(\n",
    "    ds=ds,\n",
    "    variable=variable,\n",
    ")"
   ]
  },
  {
   "cell_type": "code",
   "execution_count": 7,
   "metadata": {},
   "outputs": [
    {
     "name": "stdout",
     "output_type": "stream",
     "text": [
      "CPU times: user 5.32 ms, sys: 0 ns, total: 5.32 ms\n",
      "Wall time: 4.68 ms\n"
     ]
    }
   ],
   "source": [
    "%%time\n",
    "\n",
    "# Select the gridbox\n",
    "ds = bf.select_gridbox(\n",
    "    ds=ds,\n",
    "    grid=udicts.eu_grid,\n",
    "    calc_mean=False,\n",
    ")"
   ]
  },
  {
   "cell_type": "code",
   "execution_count": 8,
   "metadata": {},
   "outputs": [
    {
     "name": "stdout",
     "output_type": "stream",
     "text": [
      "CPU times: user 3.29 s, sys: 38.4 ms, total: 3.33 s\n",
      "Wall time: 3.52 s\n"
     ]
    }
   ],
   "source": [
    "%%time\n",
    "\n",
    "# Load th test file\n",
    "test_ds = xr.open_dataset(test_file)\n",
    "\n",
    "# Load the daily observations\n",
    "obs = bf.load_and_rg_obs(\n",
    "    model_ds=test_ds,\n",
    "    obs_variable=\"msl\",\n",
    "    obs_path=obs_fpath,\n",
    "    init_years=init_years,\n",
    "    lead_time=lead_time,\n",
    "    rg_algo=\"bilinear\",\n",
    "    grid_bounds=[-180.0, 180.0, -90.0, 90.0],\n",
    "    periodic=True,\n",
    "    parallel=False,\n",
    ")"
   ]
  },
  {
   "cell_type": "code",
   "execution_count": 9,
   "metadata": {},
   "outputs": [],
   "source": [
    "# select the gridbox for the obs\n",
    "obs = bf.select_gridbox(\n",
    "    ds=obs,\n",
    "    grid=udicts.eu_grid,\n",
    "    calc_mean=False,\n",
    ")"
   ]
  },
  {
   "cell_type": "code",
   "execution_count": 10,
   "metadata": {},
   "outputs": [
    {
     "data": {
      "text/plain": [
       "nan"
      ]
     },
     "execution_count": 10,
     "metadata": {},
     "output_type": "execute_result"
    }
   ],
   "source": [
    "obs.values.mean()"
   ]
  },
  {
   "cell_type": "code",
   "execution_count": 11,
   "metadata": {},
   "outputs": [
    {
     "data": {
      "text/plain": [
       "nan"
      ]
     },
     "execution_count": 11,
     "metadata": {},
     "output_type": "execute_result"
    }
   ],
   "source": [
    "ds.values.mean()"
   ]
  },
  {
   "cell_type": "code",
   "execution_count": 14,
   "metadata": {},
   "outputs": [
    {
     "data": {
      "text/plain": [
       "<module 'bias_functions' from '/home/users/benhutch/unseen_functions/bias_functions.py'>"
      ]
     },
     "execution_count": 14,
     "metadata": {},
     "output_type": "execute_result"
    }
   ],
   "source": [
    "# reload the functions\n",
    "importlib.reload(bf)"
   ]
  },
  {
   "cell_type": "code",
   "execution_count": 15,
   "metadata": {},
   "outputs": [
    {
     "name": "stdout",
     "output_type": "stream",
     "text": [
      "Leads to select: [ 1  2  3  4  5  6  7  8  9 10 11 12 13 14 15 16 17 18 19 20 21 22 23 24\n",
      " 25 26 27 28 29 30]\n",
      "Obs month: <xarray.DataArray (time: 30, y: 324, x: 432)>\n",
      "dask.array<getitem, shape=(30, 324, 432), dtype=float32, chunksize=(10, 324, 432), chunktype=numpy.ndarray>\n",
      "Coordinates:\n",
      "  * time     (time) datetime64[ns] 1960-11-01T11:00:00 ... 1960-11-30T11:00:00\n",
      "    lon      (x) float64 -179.6 -178.8 -177.9 -177.1 ... 177.1 177.9 178.7 179.6\n",
      "    lat      (y) float64 -89.72 -89.17 -88.61 -88.06 ... 88.06 88.61 89.17 89.72\n",
      "Dimensions without coordinates: y, x\n",
      "Attributes:\n",
      "    regrid_method:  bilinear\n",
      "Model month: <xarray.DataArray (init: 1, member: 10, lead: 30, y: 324, x: 432)>\n",
      "dask.array<getitem, shape=(1, 10, 30, 324, 432), dtype=float32, chunksize=(1, 1, 10, 324, 432), chunktype=numpy.ndarray>\n",
      "Coordinates:\n",
      "  * lead     (lead) int64 1 2 3 4 5 6 7 8 9 10 ... 21 22 23 24 25 26 27 28 29 30\n",
      "  * member   (member) <U9 'r7i1p1f2' 'r8i1p1f2' ... 'r3i1p1f2' 'r6i1p1f2'\n",
      "  * init     (init) int64 1960\n",
      "    lon      (y, x) float64 -179.6 -178.8 -177.9 -177.1 ... 177.9 178.7 179.6\n",
      "    lat      (y, x) float64 -89.72 -89.72 -89.72 -89.72 ... 89.72 89.72 89.72\n",
      "Dimensions without coordinates: y, x\n",
      "Attributes:\n",
      "    regrid_method:  bilinear\n",
      "Shape of model_ds_month_np: (1, 10, 30, 324, 432)\n",
      "Shape of obs_month_np: (30, 324, 432)\n",
      "Shape of bc_model_data_month: (1, 10, 30, 324, 432)\n"
     ]
    },
    {
     "name": "stderr",
     "output_type": "stream",
     "text": [
      "Calculating bias coefficients lon: 432it [00:03, 119.86it/s]"
     ]
    },
    {
     "name": "stdout",
     "output_type": "stream",
     "text": [
      "Shape of bc_model_data_month: (1, 10, 30, 324, 432)\n",
      "BC Model Data Month: [[[[[nan nan nan ... nan nan nan]\n",
      "    [nan nan nan ... nan nan nan]\n",
      "    [nan nan nan ... nan nan nan]\n",
      "    ...\n",
      "    [nan nan nan ... nan nan nan]\n",
      "    [nan nan nan ... nan nan nan]\n",
      "    [nan nan nan ... nan nan nan]]\n",
      "\n",
      "   [[nan nan nan ... nan nan nan]\n",
      "    [nan nan nan ... nan nan nan]\n",
      "    [nan nan nan ... nan nan nan]\n",
      "    ...\n",
      "    [nan nan nan ... nan nan nan]\n",
      "    [nan nan nan ... nan nan nan]\n",
      "    [nan nan nan ... nan nan nan]]\n",
      "\n",
      "   [[nan nan nan ... nan nan nan]\n",
      "    [nan nan nan ... nan nan nan]\n",
      "    [nan nan nan ... nan nan nan]\n",
      "    ...\n",
      "    [nan nan nan ... nan nan nan]\n",
      "    [nan nan nan ... nan nan nan]\n",
      "    [nan nan nan ... nan nan nan]]\n",
      "\n",
      "   ...\n",
      "\n",
      "   [[nan nan nan ... nan nan nan]\n",
      "    [nan nan nan ... nan nan nan]\n",
      "    [nan nan nan ... nan nan nan]\n",
      "    ...\n",
      "    [nan nan nan ... nan nan nan]\n",
      "    [nan nan nan ... nan nan nan]\n",
      "    [nan nan nan ... nan nan nan]]\n",
      "\n",
      "   [[nan nan nan ... nan nan nan]\n",
      "    [nan nan nan ... nan nan nan]\n",
      "    [nan nan nan ... nan nan nan]\n",
      "    ...\n",
      "    [nan nan nan ... nan nan nan]\n",
      "    [nan nan nan ... nan nan nan]\n",
      "    [nan nan nan ... nan nan nan]]\n",
      "\n",
      "   [[nan nan nan ... nan nan nan]\n",
      "    [nan nan nan ... nan nan nan]\n",
      "    [nan nan nan ... nan nan nan]\n",
      "    ...\n",
      "    [nan nan nan ... nan nan nan]\n",
      "    [nan nan nan ... nan nan nan]\n",
      "    [nan nan nan ... nan nan nan]]]\n",
      "\n",
      "\n",
      "  [[[nan nan nan ... nan nan nan]\n",
      "    [nan nan nan ... nan nan nan]\n",
      "    [nan nan nan ... nan nan nan]\n",
      "    ...\n",
      "    [nan nan nan ... nan nan nan]\n",
      "    [nan nan nan ... nan nan nan]\n",
      "    [nan nan nan ... nan nan nan]]\n",
      "\n",
      "   [[nan nan nan ... nan nan nan]\n",
      "    [nan nan nan ... nan nan nan]\n",
      "    [nan nan nan ... nan nan nan]\n",
      "    ...\n",
      "    [nan nan nan ... nan nan nan]\n",
      "    [nan nan nan ... nan nan nan]\n",
      "    [nan nan nan ... nan nan nan]]\n",
      "\n",
      "   [[nan nan nan ... nan nan nan]\n",
      "    [nan nan nan ... nan nan nan]\n",
      "    [nan nan nan ... nan nan nan]\n",
      "    ...\n",
      "    [nan nan nan ... nan nan nan]\n",
      "    [nan nan nan ... nan nan nan]\n",
      "    [nan nan nan ... nan nan nan]]\n",
      "\n",
      "   ...\n",
      "\n",
      "   [[nan nan nan ... nan nan nan]\n",
      "    [nan nan nan ... nan nan nan]\n",
      "    [nan nan nan ... nan nan nan]\n",
      "    ...\n",
      "    [nan nan nan ... nan nan nan]\n",
      "    [nan nan nan ... nan nan nan]\n",
      "    [nan nan nan ... nan nan nan]]\n",
      "\n",
      "   [[nan nan nan ... nan nan nan]\n",
      "    [nan nan nan ... nan nan nan]\n",
      "    [nan nan nan ... nan nan nan]\n",
      "    ...\n",
      "    [nan nan nan ... nan nan nan]\n",
      "    [nan nan nan ... nan nan nan]\n",
      "    [nan nan nan ... nan nan nan]]\n",
      "\n",
      "   [[nan nan nan ... nan nan nan]\n",
      "    [nan nan nan ... nan nan nan]\n",
      "    [nan nan nan ... nan nan nan]\n",
      "    ...\n",
      "    [nan nan nan ... nan nan nan]\n",
      "    [nan nan nan ... nan nan nan]\n",
      "    [nan nan nan ... nan nan nan]]]\n",
      "\n",
      "\n",
      "  [[[nan nan nan ... nan nan nan]\n",
      "    [nan nan nan ... nan nan nan]\n",
      "    [nan nan nan ... nan nan nan]\n",
      "    ...\n",
      "    [nan nan nan ... nan nan nan]\n",
      "    [nan nan nan ... nan nan nan]\n",
      "    [nan nan nan ... nan nan nan]]\n",
      "\n",
      "   [[nan nan nan ... nan nan nan]\n",
      "    [nan nan nan ... nan nan nan]\n",
      "    [nan nan nan ... nan nan nan]\n",
      "    ...\n",
      "    [nan nan nan ... nan nan nan]\n",
      "    [nan nan nan ... nan nan nan]\n",
      "    [nan nan nan ... nan nan nan]]\n",
      "\n",
      "   [[nan nan nan ... nan nan nan]\n",
      "    [nan nan nan ... nan nan nan]\n",
      "    [nan nan nan ... nan nan nan]\n",
      "    ...\n",
      "    [nan nan nan ... nan nan nan]\n",
      "    [nan nan nan ... nan nan nan]\n",
      "    [nan nan nan ... nan nan nan]]\n",
      "\n",
      "   ...\n",
      "\n",
      "   [[nan nan nan ... nan nan nan]\n",
      "    [nan nan nan ... nan nan nan]\n",
      "    [nan nan nan ... nan nan nan]\n",
      "    ...\n",
      "    [nan nan nan ... nan nan nan]\n",
      "    [nan nan nan ... nan nan nan]\n",
      "    [nan nan nan ... nan nan nan]]\n",
      "\n",
      "   [[nan nan nan ... nan nan nan]\n",
      "    [nan nan nan ... nan nan nan]\n",
      "    [nan nan nan ... nan nan nan]\n",
      "    ...\n",
      "    [nan nan nan ... nan nan nan]\n",
      "    [nan nan nan ... nan nan nan]\n",
      "    [nan nan nan ... nan nan nan]]\n",
      "\n",
      "   [[nan nan nan ... nan nan nan]\n",
      "    [nan nan nan ... nan nan nan]\n",
      "    [nan nan nan ... nan nan nan]\n",
      "    ...\n",
      "    [nan nan nan ... nan nan nan]\n",
      "    [nan nan nan ... nan nan nan]\n",
      "    [nan nan nan ... nan nan nan]]]\n",
      "\n",
      "\n",
      "  ...\n",
      "\n",
      "\n",
      "  [[[nan nan nan ... nan nan nan]\n",
      "    [nan nan nan ... nan nan nan]\n",
      "    [nan nan nan ... nan nan nan]\n",
      "    ...\n",
      "    [nan nan nan ... nan nan nan]\n",
      "    [nan nan nan ... nan nan nan]\n",
      "    [nan nan nan ... nan nan nan]]\n",
      "\n",
      "   [[nan nan nan ... nan nan nan]\n",
      "    [nan nan nan ... nan nan nan]\n",
      "    [nan nan nan ... nan nan nan]\n",
      "    ...\n",
      "    [nan nan nan ... nan nan nan]\n",
      "    [nan nan nan ... nan nan nan]\n",
      "    [nan nan nan ... nan nan nan]]\n",
      "\n",
      "   [[nan nan nan ... nan nan nan]\n",
      "    [nan nan nan ... nan nan nan]\n",
      "    [nan nan nan ... nan nan nan]\n",
      "    ...\n",
      "    [nan nan nan ... nan nan nan]\n",
      "    [nan nan nan ... nan nan nan]\n",
      "    [nan nan nan ... nan nan nan]]\n",
      "\n",
      "   ...\n",
      "\n",
      "   [[nan nan nan ... nan nan nan]\n",
      "    [nan nan nan ... nan nan nan]\n",
      "    [nan nan nan ... nan nan nan]\n",
      "    ...\n",
      "    [nan nan nan ... nan nan nan]\n",
      "    [nan nan nan ... nan nan nan]\n",
      "    [nan nan nan ... nan nan nan]]\n",
      "\n",
      "   [[nan nan nan ... nan nan nan]\n",
      "    [nan nan nan ... nan nan nan]\n",
      "    [nan nan nan ... nan nan nan]\n",
      "    ...\n",
      "    [nan nan nan ... nan nan nan]\n",
      "    [nan nan nan ... nan nan nan]\n",
      "    [nan nan nan ... nan nan nan]]\n",
      "\n",
      "   [[nan nan nan ... nan nan nan]\n",
      "    [nan nan nan ... nan nan nan]\n",
      "    [nan nan nan ... nan nan nan]\n",
      "    ...\n",
      "    [nan nan nan ... nan nan nan]\n",
      "    [nan nan nan ... nan nan nan]\n",
      "    [nan nan nan ... nan nan nan]]]\n",
      "\n",
      "\n",
      "  [[[nan nan nan ... nan nan nan]\n",
      "    [nan nan nan ... nan nan nan]\n",
      "    [nan nan nan ... nan nan nan]\n",
      "    ...\n",
      "    [nan nan nan ... nan nan nan]\n",
      "    [nan nan nan ... nan nan nan]\n",
      "    [nan nan nan ... nan nan nan]]\n",
      "\n",
      "   [[nan nan nan ... nan nan nan]\n",
      "    [nan nan nan ... nan nan nan]\n",
      "    [nan nan nan ... nan nan nan]\n",
      "    ...\n",
      "    [nan nan nan ... nan nan nan]\n",
      "    [nan nan nan ... nan nan nan]\n",
      "    [nan nan nan ... nan nan nan]]\n",
      "\n",
      "   [[nan nan nan ... nan nan nan]\n",
      "    [nan nan nan ... nan nan nan]\n",
      "    [nan nan nan ... nan nan nan]\n",
      "    ...\n",
      "    [nan nan nan ... nan nan nan]\n",
      "    [nan nan nan ... nan nan nan]\n",
      "    [nan nan nan ... nan nan nan]]\n",
      "\n",
      "   ...\n",
      "\n",
      "   [[nan nan nan ... nan nan nan]\n",
      "    [nan nan nan ... nan nan nan]\n",
      "    [nan nan nan ... nan nan nan]\n",
      "    ...\n",
      "    [nan nan nan ... nan nan nan]\n",
      "    [nan nan nan ... nan nan nan]\n",
      "    [nan nan nan ... nan nan nan]]\n",
      "\n",
      "   [[nan nan nan ... nan nan nan]\n",
      "    [nan nan nan ... nan nan nan]\n",
      "    [nan nan nan ... nan nan nan]\n",
      "    ...\n",
      "    [nan nan nan ... nan nan nan]\n",
      "    [nan nan nan ... nan nan nan]\n",
      "    [nan nan nan ... nan nan nan]]\n",
      "\n",
      "   [[nan nan nan ... nan nan nan]\n",
      "    [nan nan nan ... nan nan nan]\n",
      "    [nan nan nan ... nan nan nan]\n",
      "    ...\n",
      "    [nan nan nan ... nan nan nan]\n",
      "    [nan nan nan ... nan nan nan]\n",
      "    [nan nan nan ... nan nan nan]]]\n",
      "\n",
      "\n",
      "  [[[nan nan nan ... nan nan nan]\n",
      "    [nan nan nan ... nan nan nan]\n",
      "    [nan nan nan ... nan nan nan]\n",
      "    ...\n",
      "    [nan nan nan ... nan nan nan]\n",
      "    [nan nan nan ... nan nan nan]\n",
      "    [nan nan nan ... nan nan nan]]\n",
      "\n",
      "   [[nan nan nan ... nan nan nan]\n",
      "    [nan nan nan ... nan nan nan]\n",
      "    [nan nan nan ... nan nan nan]\n",
      "    ...\n",
      "    [nan nan nan ... nan nan nan]\n",
      "    [nan nan nan ... nan nan nan]\n",
      "    [nan nan nan ... nan nan nan]]\n",
      "\n",
      "   [[nan nan nan ... nan nan nan]\n",
      "    [nan nan nan ... nan nan nan]\n",
      "    [nan nan nan ... nan nan nan]\n",
      "    ...\n",
      "    [nan nan nan ... nan nan nan]\n",
      "    [nan nan nan ... nan nan nan]\n",
      "    [nan nan nan ... nan nan nan]]\n",
      "\n",
      "   ...\n",
      "\n",
      "   [[nan nan nan ... nan nan nan]\n",
      "    [nan nan nan ... nan nan nan]\n",
      "    [nan nan nan ... nan nan nan]\n",
      "    ...\n",
      "    [nan nan nan ... nan nan nan]\n",
      "    [nan nan nan ... nan nan nan]\n",
      "    [nan nan nan ... nan nan nan]]\n",
      "\n",
      "   [[nan nan nan ... nan nan nan]\n",
      "    [nan nan nan ... nan nan nan]\n",
      "    [nan nan nan ... nan nan nan]\n",
      "    ...\n",
      "    [nan nan nan ... nan nan nan]\n",
      "    [nan nan nan ... nan nan nan]\n",
      "    [nan nan nan ... nan nan nan]]\n",
      "\n",
      "   [[nan nan nan ... nan nan nan]\n",
      "    [nan nan nan ... nan nan nan]\n",
      "    [nan nan nan ... nan nan nan]\n",
      "    ...\n",
      "    [nan nan nan ... nan nan nan]\n",
      "    [nan nan nan ... nan nan nan]\n",
      "    [nan nan nan ... nan nan nan]]]]]\n",
      "File /work/scratch-nopw2/benhutch/test_nc/psl_bias_correction_HadGEM3-GC31-MM_lead1_month11_init1960-1960.nc already exists.\n",
      "CPU times: user 6.23 s, sys: 228 ms, total: 6.46 s\n",
      "Wall time: 4.67 s\n"
     ]
    },
    {
     "name": "stderr",
     "output_type": "stream",
     "text": [
      "\n"
     ]
    }
   ],
   "source": [
    "%%time\n",
    "\n",
    "# test the calculate and save bias coeffs function\n",
    "bc_data = bf.calc_and_save_bias_coeffs(\n",
    "    model_ds=ds,\n",
    "    obs_ds=obs,\n",
    "    lead_time=lead_time,\n",
    "    month=11, # test with the first month for now\n",
    "    init_years=init_years,\n",
    "    variable=variable,\n",
    "    model_name=model,\n",
    "    save_flag=True,\n",
    ")\n"
   ]
  },
  {
   "cell_type": "markdown",
   "metadata": {},
   "source": [
    "#### Verifying bias correction ####\n",
    "\n",
    "Now that we have applied this simple bias correction for a given model, variable, lead time and month, we want to check whether it has actually done anything. We can do this by comparing the spatial fields for the model - obs for the mean and standard deviation."
   ]
  },
  {
   "cell_type": "code",
   "execution_count": 19,
   "metadata": {},
   "outputs": [
    {
     "data": {
      "text/plain": [
       "<module 'bias_functions' from '/home/users/benhutch/unseen_functions/bias_functions.py'>"
      ]
     },
     "execution_count": 19,
     "metadata": {},
     "output_type": "execute_result"
    }
   ],
   "source": [
    "importlib.reload(bf)"
   ]
  },
  {
   "cell_type": "code",
   "execution_count": 20,
   "metadata": {},
   "outputs": [
    {
     "name": "stdout",
     "output_type": "stream",
     "text": [
      "Leads to select: [ 1  2  3  4  5  6  7  8  9 10 11 12 13 14 15 16 17 18 19 20 21 22 23 24\n",
      " 25 26 27 28 29 30]\n",
      "Obs month: <xarray.DataArray (time: 30, y: 324, x: 432)>\n",
      "dask.array<getitem, shape=(30, 324, 432), dtype=float32, chunksize=(10, 324, 432), chunktype=numpy.ndarray>\n",
      "Coordinates:\n",
      "  * time     (time) datetime64[ns] 1960-11-01T11:00:00 ... 1960-11-30T11:00:00\n",
      "    lon      (x) float64 -179.6 -178.8 -177.9 -177.1 ... 177.1 177.9 178.7 179.6\n",
      "    lat      (y) float64 -89.72 -89.17 -88.61 -88.06 ... 88.06 88.61 89.17 89.72\n",
      "Dimensions without coordinates: y, x\n",
      "Attributes:\n",
      "    regrid_method:  bilinear\n",
      "Model month: <xarray.DataArray (init: 1, member: 10, lead: 30, y: 324, x: 432)>\n",
      "dask.array<getitem, shape=(1, 10, 30, 324, 432), dtype=float32, chunksize=(1, 1, 10, 324, 432), chunktype=numpy.ndarray>\n",
      "Coordinates:\n",
      "  * lead     (lead) int64 1 2 3 4 5 6 7 8 9 10 ... 21 22 23 24 25 26 27 28 29 30\n",
      "  * member   (member) <U9 'r1i1p1f2' 'r7i1p1f2' ... 'r4i1p1f2' 'r3i1p1f2'\n",
      "  * init     (init) int64 1960\n",
      "    lon      (y, x) float64 -179.6 -178.8 -177.9 -177.1 ... 177.9 178.7 179.6\n",
      "    lat      (y, x) float64 -89.72 -89.72 -89.72 -89.72 ... 89.72 89.72 89.72\n",
      "Dimensions without coordinates: y, x\n",
      "Attributes:\n",
      "    regrid_method:  bilinear\n",
      "Min obs_month_np: nan, Max obs_month_np: nan\n",
      "Mean obs_month_np: 101043.65625\n",
      "Min model_month_np: nan, Max model_month_np: nan\n",
      "Mean model_month_np: 101444.8984375\n",
      "Shape of model_month_np: (1, 10, 30, 324, 432)\n",
      "Shape of obs_month_np: (30, 324, 432)\n"
     ]
    },
    {
     "name": "stderr",
     "output_type": "stream",
     "text": [
      "/home/users/benhutch/.local/lib/python3.10/site-packages/numpy/lib/nanfunctions.py:1879: RuntimeWarning: Degrees of freedom <= 0 for slice.\n",
      "  var = nanvar(a, axis=axis, dtype=dtype, out=out, ddof=ddof,\n"
     ]
    },
    {
     "name": "stdout",
     "output_type": "stream",
     "text": [
      "Shape of bias: (324, 432)\n",
      "Shape of bc_bias: (324, 432)\n",
      "Min bias: nan, Max bias: nan\n",
      "Min bc_bias: nan, Max bc_bias: nan\n"
     ]
    },
    {
     "data": {
      "image/png": "[encoded data removed]",
      "text/plain": [
       "<Figure size 864x432 with 3 Axes>"
      ]
     },
     "metadata": {
      "needs_background": "light"
     },
     "output_type": "display_data"
    }
   ],
   "source": [
    "bf.verify_bc_plot(\n",
    "    model_ds=ds,\n",
    "    obs_ds=obs,\n",
    "    bc_model_data=bc_data,\n",
    "    lead_time=lead_time,\n",
    "    month=11,\n",
    "    init_years=init_years,\n",
    "    variable=\"psl\",\n",
    "    model_name=model,\n",
    "    mean_or_std=\"std\",\n",
    "    std_clevs=(-1000, 1100, 100),\n",
    "    std_ticks=(-1000, 1100, 200),\n",
    ")"
   ]
  }
 ],
 "metadata": {
  "kernelspec": {
   "display_name": "Python 3",
   "language": "python",
   "name": "python3"
  },
  "language_info": {
   "codemirror_mode": {
    "name": "ipython",
    "version": 3
   },
   "file_extension": ".py",
   "mimetype": "text/x-python",
   "name": "python",
   "nbconvert_exporter": "python",
   "pygments_lexer": "ipython3",
   "version": "3.10.5"
  }
 },
 "nbformat": 4,
 "nbformat_minor": 2
}
