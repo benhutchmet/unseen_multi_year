{
 "cells": [
  {
   "cell_type": "markdown",
   "metadata": {},
   "source": [
    "## Bias correction testing ##\n",
    "\n",
    "Now that we have established that there are biases in the HadGEM3-GC31-MM ensemble when compared to ERA5 on monthly timescales, for temperature, solar irradiance, and 10m wind speeds, we can now go about testing the bias correction which is applied to the daily data. Utilizing methods from Dawkins et al. (2021) and Luo et al., (2018).\n",
    "\n",
    "* Dawkins et al. (2021) - https://catalogue.ceda.ac.uk/uuid/7beeed0bc7fa41feb10be22ee9d10f00?jump=related-docs-anchor\n",
    "\n",
    "* Luo et al. (2018) - https://www.mdpi.com/2073-4441/10/8/1046"
   ]
  },
  {
   "cell_type": "code",
   "execution_count": null,
   "metadata": {},
   "outputs": [],
   "source": [
    "import os\n",
    "import sys\n",
    "import glob\n",
    "import importlib\n",
    "from tqdm import tqdm\n",
    "\n",
    "# Import relevant libraries\n",
    "import numpy as np\n",
    "import matplotlib.pyplot as plt\n",
    "import xarray as xr\n",
    "\n",
    "# # Optional dask stuff\n",
    "# import dask_gateway\n",
    "# import pathlib"
   ]
  }
 ],
 "metadata": {
  "language_info": {
   "name": "python"
  }
 },
 "nbformat": 4,
 "nbformat_minor": 2
}
