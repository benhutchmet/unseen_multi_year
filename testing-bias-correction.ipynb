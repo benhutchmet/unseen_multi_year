{
 "cells": [
  {
   "cell_type": "markdown",
   "metadata": {},
   "source": [
    "## Bias correction testing ##\n",
    "\n",
    "Now that we have established that there are biases in the HadGEM3-GC31-MM ensemble when compared to ERA5 on monthly timescales, for temperature, solar irradiance, and 10m wind speeds, we can now go about testing the bias correction which is applied to the daily data. Utilizing methods from Dawkins et al. (2021) and Luo et al., (2018).\n",
    "\n",
    "* Dawkins et al. (2021) - https://catalogue.ceda.ac.uk/uuid/7beeed0bc7fa41feb10be22ee9d10f00?jump=related-docs-anchor\n",
    "\n",
    "* Luo et al. (2018) - https://www.mdpi.com/2073-4441/10/8/1046"
   ]
  },
  {
   "cell_type": "code",
   "execution_count": null,
   "metadata": {},
   "outputs": [],
   "source": [
    "import os\n",
    "import sys\n",
    "import glob\n",
    "import importlib\n",
    "from tqdm import tqdm\n",
    "\n",
    "# Import relevant libraries\n",
    "import numpy as np\n",
    "import matplotlib.pyplot as plt\n",
    "import xarray as xr\n",
    "\n",
    "# # Optional dask stuff\n",
    "# import dask_gateway\n",
    "# import pathlib"
   ]
  },
  {
   "cell_type": "code",
   "execution_count": null,
   "metadata": {},
   "outputs": [],
   "source": [
    "# Import the functsions\n",
    "sys.path.append(\"/home/users/benhutch/unseen_functions/\")\n",
    "\n",
    "# import the bias functions\n",
    "import bias_functions as bf"
   ]
  },
  {
   "cell_type": "code",
   "execution_count": null,
   "metadata": {},
   "outputs": [],
   "source": [
    "# import the dictionaries\n",
    "sys.path.append(\"/home/users/benhutch/unseen_functions/\")\n",
    "\n",
    "# import the dictionaries\n",
    "import unseen_dictionaries as udicts"
   ]
  },
  {
   "cell_type": "code",
   "execution_count": null,
   "metadata": {},
   "outputs": [],
   "source": [
    "# Set up the arguments\n",
    "# --------------------\n",
    "model = \"HadGEM3-GC31-MM\"\n",
    "variable = \"tas\"\n",
    "obs_variable = \"t2m\"\n",
    "lead_time = 1 # first start november to end october period\n",
    "experiment = \"dcppA-hindcast\"\n",
    "freq = \"day\"\n",
    "engine = \"netcdf4\"\n",
    "parallel = False\n",
    "\n",
    "# Init years for testing\n",
    "init_years = [1960]\n",
    "\n",
    "# Test file for daily data\n",
    "test_file = \"/badc/cmip6/data/CMIP6/DCPP/MOHC/HadGEM3-GC31-MM/dcppA-hindcast/s1960-r1i1p1f2/day/tas/gn/files/d20200417/tas_day_HadGEM3-GC31-MM_dcppA-hindcast_s1960-r1i1p1f2_gn_19601101-19601230.nc\"\n",
    "\n",
    "# Daily obs fpath - single var - t2m\n",
    "obs_fpath = \"/home/users/benhutch/ERA5/ERA5_t2m_daily_1950_2020.nc\""
   ]
  },
  {
   "cell_type": "code",
   "execution_count": null,
   "metadata": {},
   "outputs": [],
   "source": [
    "%%time\n",
    "\n",
    "# Load the dcpp daily data\n",
    "ds = bf.load_dcpp_data_lead(\n",
    "    model=model,\n",
    "    variable=variable,\n",
    "    lead_time=lead_time,\n",
    "    init_years=init_years,\n",
    "    experiment=experiment,\n",
    "    frequency=freq,\n",
    "    engine=engine,\n",
    "    parallel=parallel,\n",
    ")"
   ]
  },
  {
   "cell_type": "code",
   "execution_count": null,
   "metadata": {},
   "outputs": [],
   "source": [
    "%%time\n",
    "\n",
    "# Regrid the data\n",
    "ds = bf.regrid_ds(\n",
    "    ds=ds,\n",
    "    variable=variable,\n",
    ")"
   ]
  },
  {
   "cell_type": "code",
   "execution_count": null,
   "metadata": {},
   "outputs": [],
   "source": [
    "%%time\n",
    "\n",
    "# Select the gridbox\n",
    "ds = bf.select_gridbox(\n",
    "    ds=ds,\n",
    "    grid=dicts.eu_grid,\n",
    "    calc_mean=False,\n",
    ")"
   ]
  },
  {
   "cell_type": "code",
   "execution_count": null,
   "metadata": {},
   "outputs": [],
   "source": [
    "%%time\n",
    "\n",
    "# Load th test file\n",
    "test_ds = xr.open_dataset(test_file)\n",
    "\n",
    "# Load the daily observations\n",
    "obs = bf.load_and_rg_obs(\n",
    "    model_ds=test_ds,\n",
    "    obs_variable=obs_variable,\n",
    "    obs_path=obs_fpath,\n",
    "    init_years=init_years,\n",
    "    lead_time=lead_time,\n",
    "    rg_algo=\"bilinear\",\n",
    "    grid_bounds=[-180.0, 180.0, -90.0, 90.0],\n",
    "    periodic=True,\n",
    "    parallel=False,\n",
    ")"
   ]
  },
  {
   "cell_type": "code",
   "execution_count": null,
   "metadata": {},
   "outputs": [],
   "source": []
  }
 ],
 "metadata": {
  "kernelspec": {
   "display_name": "Python 3",
   "language": "python",
   "name": "python3"
  },
  "language_info": {
   "codemirror_mode": {
    "name": "ipython",
    "version": 3
   },
   "file_extension": ".py",
   "mimetype": "text/x-python",
   "name": "python",
   "nbconvert_exporter": "python",
   "pygments_lexer": "ipython3",
   "version": "3.10.5"
  }
 },
 "nbformat": 4,
 "nbformat_minor": 2
}
