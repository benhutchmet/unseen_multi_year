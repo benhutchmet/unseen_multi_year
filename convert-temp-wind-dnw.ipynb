{
 "cells": [
  {
   "cell_type": "markdown",
   "metadata": {},
   "source": [
    "### Full DnW Conversion ###\n",
    "\n",
    "Converting both temperature to demand and wind speed to wind power generation, then taking the difference to calculate demand net wind. All in the same notebook."
   ]
  },
  {
   "cell_type": "markdown",
   "metadata": {},
   "source": [
    "Wind speed -> Wind power generation conversion first"
   ]
  },
  {
   "cell_type": "code",
   "execution_count": 1,
   "metadata": {},
   "outputs": [
    {
     "name": "stderr",
     "output_type": "stream",
     "text": [
      "/home/users/benhutch/.conda/envs/bens-conda-env2/lib/python3.11/site-packages/pyproj/network.py:59: UserWarning: pyproj unable to set PROJ database path.\n",
      "  _set_context_ca_bundle_path(ca_bundle_path)\n"
     ]
    }
   ],
   "source": [
    "# Local imports\n",
    "import os\n",
    "import sys\n",
    "import time\n",
    "import argparse\n",
    "\n",
    "# Third-party imports\n",
    "import numpy as np\n",
    "import xarray as xr\n",
    "import matplotlib.pyplot as plt\n",
    "import pandas as pd\n",
    "import shapely.geometry\n",
    "import cartopy.io.shapereader as shpreader\n",
    "import iris\n",
    "\n",
    "# Specific imports\n",
    "from tqdm import tqdm\n",
    "from datetime import datetime, timedelta\n",
    "\n",
    "from scipy.optimize import curve_fit\n",
    "from sklearn.metrics import mean_squared_error, r2_score"
   ]
  },
  {
   "cell_type": "code",
   "execution_count": 2,
   "metadata": {},
   "outputs": [],
   "source": [
    "# Load my specific functions\n",
    "sys.path.append(\"/home/users/benhutch/unseen_functions\")\n",
    "from functions import plot_distributions_fidelity, plot_cdfs, \\\n",
    "    plot_qq, plot_rp_extremes, estimate_period, sigmoid"
   ]
  },
  {
   "cell_type": "code",
   "execution_count": 3,
   "metadata": {},
   "outputs": [],
   "source": [
    "# Set up the output directory for the dfs\n",
    "output_dir_dfs = \"/gws/nopw/j04/canari/users/benhutch/unseen/saved_dfs\"\n",
    "\n",
    "# Load the model data\n",
    "df_model_sfcWind = pd.read_csv(f\"{output_dir_dfs}/HadGEM3-GC31-MM_dcppA-hindcast_sfcWind_United_Kingdom_1960-2018_day.csv\")\n",
    "\n",
    "# set up the df obs sfcwing\n",
    "df_obs_sfcWind = pd.read_csv(\"/gws/nopw/j04/canari/users/benhutch/unseen/saved_dfs/ERA5_sfcWind_United_Kingdom_1960-2018_daily_2024-12-11.csv\")\n",
    "\n",
    "# load the clearheads data for wind generation\n",
    "df_ch = pd.read_csv(\"/home/users/benhutch/unseen_multi_year/dfs/UK_clearheads_data_daily_1960_2018_ONDJFM.csv\")"
   ]
  },
  {
   "cell_type": "code",
   "execution_count": 4,
   "metadata": {},
   "outputs": [],
   "source": [
    "# Clean the obs data\n",
    "df_obs_sfcWind[\"time\"] = pd.to_datetime(df_obs_sfcWind[\"time\"],\n",
    "                                    origin='1952-01-01', unit='D')\n",
    "\n",
    "# subset the data to O, N, D, J, F, M\n",
    "df_obs_sfcWind = df_obs_sfcWind[\n",
    "    df_obs_sfcWind['time'].dt.month.isin([10, 11, 12, 1, 2, 3])\n",
    "]"
   ]
  },
  {
   "cell_type": "code",
   "execution_count": 5,
   "metadata": {},
   "outputs": [],
   "source": [
    "# subset the model to the correct years\n",
    "winter_years = np.arange(1, 10 + 1)\n",
    "\n",
    "# set up a new df to append to\n",
    "df_model_ondjfm= pd.DataFrame()\n",
    "\n",
    "# Loop over the winter years\n",
    "for i, wyear in enumerate(winter_years):\n",
    "    # Set up the leads to extract\n",
    "    leads = np.arange(331 + (i * 360), 331 + 180 + (i * 360))\n",
    "\n",
    "    # Extract the data\n",
    "    df_model_leads_this = df_model_sfcWind[df_model_sfcWind[\"lead\"].isin(leads)]\n",
    "\n",
    "    # include a new column\n",
    "\n",
    "    # Append to the new df\n",
    "    df_model_ondjfm = pd.concat([df_model_ondjfm, df_model_leads_this])"
   ]
  },
  {
   "cell_type": "code",
   "execution_count": 6,
   "metadata": {},
   "outputs": [
    {
     "data": {
      "text/html": [
       "<div>\n",
       "<style scoped>\n",
       "    .dataframe tbody tr th:only-of-type {\n",
       "        vertical-align: middle;\n",
       "    }\n",
       "\n",
       "    .dataframe tbody tr th {\n",
       "        vertical-align: top;\n",
       "    }\n",
       "\n",
       "    .dataframe thead th {\n",
       "        text-align: right;\n",
       "    }\n",
       "</style>\n",
       "<table border=\"1\" class=\"dataframe\">\n",
       "  <thead>\n",
       "    <tr style=\"text-align: right;\">\n",
       "      <th></th>\n",
       "      <th>date</th>\n",
       "      <th>solar_power</th>\n",
       "      <th>100m_wind_speed</th>\n",
       "      <th>10m_wind_speed</th>\n",
       "      <th>solar_irradiance</th>\n",
       "      <th>ofs_cfs</th>\n",
       "      <th>ons_cfs</th>\n",
       "      <th>t2m_no_detrend</th>\n",
       "      <th>t2m_2020_detrend</th>\n",
       "      <th>United_Kingdom_demand</th>\n",
       "      <th>United_Kingdom_wd_demand</th>\n",
       "      <th>wind_gen</th>\n",
       "      <th>demand_net_wind</th>\n",
       "      <th>wd_demand_net_wind</th>\n",
       "    </tr>\n",
       "  </thead>\n",
       "  <tbody>\n",
       "    <tr>\n",
       "      <th>0</th>\n",
       "      <td>1960-01-01</td>\n",
       "      <td>0.017302</td>\n",
       "      <td>7.625868</td>\n",
       "      <td>5.137020</td>\n",
       "      <td>47.696808</td>\n",
       "      <td>0.766016</td>\n",
       "      <td>0.298726</td>\n",
       "      <td>6.577980</td>\n",
       "      <td>7.835584</td>\n",
       "      <td>40.766836</td>\n",
       "      <td>41.666578</td>\n",
       "      <td>15.744187</td>\n",
       "      <td>25.022648</td>\n",
       "      <td>25.922391</td>\n",
       "    </tr>\n",
       "    <tr>\n",
       "      <th>1</th>\n",
       "      <td>1960-01-02</td>\n",
       "      <td>0.016300</td>\n",
       "      <td>4.930154</td>\n",
       "      <td>3.186221</td>\n",
       "      <td>44.535210</td>\n",
       "      <td>0.161353</td>\n",
       "      <td>0.101100</td>\n",
       "      <td>3.956466</td>\n",
       "      <td>5.214012</td>\n",
       "      <td>40.019199</td>\n",
       "      <td>43.863111</td>\n",
       "      <td>3.883881</td>\n",
       "      <td>36.135318</td>\n",
       "      <td>39.979230</td>\n",
       "    </tr>\n",
       "    <tr>\n",
       "      <th>2</th>\n",
       "      <td>1960-01-03</td>\n",
       "      <td>0.014511</td>\n",
       "      <td>7.249626</td>\n",
       "      <td>4.753627</td>\n",
       "      <td>39.765705</td>\n",
       "      <td>0.298246</td>\n",
       "      <td>0.266276</td>\n",
       "      <td>5.730921</td>\n",
       "      <td>6.988410</td>\n",
       "      <td>37.949476</td>\n",
       "      <td>42.640292</td>\n",
       "      <td>8.359369</td>\n",
       "      <td>29.590107</td>\n",
       "      <td>34.280923</td>\n",
       "    </tr>\n",
       "    <tr>\n",
       "      <th>3</th>\n",
       "      <td>1960-01-04</td>\n",
       "      <td>0.016632</td>\n",
       "      <td>9.558028</td>\n",
       "      <td>6.228839</td>\n",
       "      <td>46.044937</td>\n",
       "      <td>0.526643</td>\n",
       "      <td>0.363619</td>\n",
       "      <td>7.894082</td>\n",
       "      <td>9.151514</td>\n",
       "      <td>39.775870</td>\n",
       "      <td>40.584140</td>\n",
       "      <td>13.176714</td>\n",
       "      <td>26.599156</td>\n",
       "      <td>27.407426</td>\n",
       "    </tr>\n",
       "    <tr>\n",
       "      <th>4</th>\n",
       "      <td>1960-01-05</td>\n",
       "      <td>0.026247</td>\n",
       "      <td>8.874397</td>\n",
       "      <td>6.005377</td>\n",
       "      <td>71.949350</td>\n",
       "      <td>0.798906</td>\n",
       "      <td>0.376032</td>\n",
       "      <td>5.362875</td>\n",
       "      <td>6.620249</td>\n",
       "      <td>42.761398</td>\n",
       "      <td>42.761398</td>\n",
       "      <td>17.378747</td>\n",
       "      <td>25.382651</td>\n",
       "      <td>25.382651</td>\n",
       "    </tr>\n",
       "  </tbody>\n",
       "</table>\n",
       "</div>"
      ],
      "text/plain": [
       "         date  solar_power  100m_wind_speed  10m_wind_speed  solar_irradiance  \\\n",
       "0  1960-01-01     0.017302         7.625868        5.137020         47.696808   \n",
       "1  1960-01-02     0.016300         4.930154        3.186221         44.535210   \n",
       "2  1960-01-03     0.014511         7.249626        4.753627         39.765705   \n",
       "3  1960-01-04     0.016632         9.558028        6.228839         46.044937   \n",
       "4  1960-01-05     0.026247         8.874397        6.005377         71.949350   \n",
       "\n",
       "    ofs_cfs   ons_cfs  t2m_no_detrend  t2m_2020_detrend  \\\n",
       "0  0.766016  0.298726        6.577980          7.835584   \n",
       "1  0.161353  0.101100        3.956466          5.214012   \n",
       "2  0.298246  0.266276        5.730921          6.988410   \n",
       "3  0.526643  0.363619        7.894082          9.151514   \n",
       "4  0.798906  0.376032        5.362875          6.620249   \n",
       "\n",
       "   United_Kingdom_demand  United_Kingdom_wd_demand   wind_gen  \\\n",
       "0              40.766836                 41.666578  15.744187   \n",
       "1              40.019199                 43.863111   3.883881   \n",
       "2              37.949476                 42.640292   8.359369   \n",
       "3              39.775870                 40.584140  13.176714   \n",
       "4              42.761398                 42.761398  17.378747   \n",
       "\n",
       "   demand_net_wind  wd_demand_net_wind  \n",
       "0        25.022648           25.922391  \n",
       "1        36.135318           39.979230  \n",
       "2        29.590107           34.280923  \n",
       "3        26.599156           27.407426  \n",
       "4        25.382651           25.382651  "
      ]
     },
     "execution_count": 6,
     "metadata": {},
     "output_type": "execute_result"
    }
   ],
   "source": [
    "df_ch.head()"
   ]
  },
  {
   "cell_type": "code",
   "execution_count": 7,
   "metadata": {},
   "outputs": [
    {
     "data": {
      "text/html": [
       "<div>\n",
       "<style scoped>\n",
       "    .dataframe tbody tr th:only-of-type {\n",
       "        vertical-align: middle;\n",
       "    }\n",
       "\n",
       "    .dataframe tbody tr th {\n",
       "        vertical-align: top;\n",
       "    }\n",
       "\n",
       "    .dataframe thead th {\n",
       "        text-align: right;\n",
       "    }\n",
       "</style>\n",
       "<table border=\"1\" class=\"dataframe\">\n",
       "  <thead>\n",
       "    <tr style=\"text-align: right;\">\n",
       "      <th></th>\n",
       "      <th>time</th>\n",
       "      <th>data</th>\n",
       "    </tr>\n",
       "  </thead>\n",
       "  <tbody>\n",
       "    <tr>\n",
       "      <th>21545</th>\n",
       "      <td>2018-12-27</td>\n",
       "      <td>2.477261</td>\n",
       "    </tr>\n",
       "    <tr>\n",
       "      <th>21546</th>\n",
       "      <td>2018-12-28</td>\n",
       "      <td>3.448565</td>\n",
       "    </tr>\n",
       "    <tr>\n",
       "      <th>21547</th>\n",
       "      <td>2018-12-29</td>\n",
       "      <td>5.573635</td>\n",
       "    </tr>\n",
       "    <tr>\n",
       "      <th>21548</th>\n",
       "      <td>2018-12-30</td>\n",
       "      <td>4.381348</td>\n",
       "    </tr>\n",
       "    <tr>\n",
       "      <th>21549</th>\n",
       "      <td>2018-12-31</td>\n",
       "      <td>5.464558</td>\n",
       "    </tr>\n",
       "  </tbody>\n",
       "</table>\n",
       "</div>"
      ],
      "text/plain": [
       "            time      data\n",
       "21545 2018-12-27  2.477261\n",
       "21546 2018-12-28  3.448565\n",
       "21547 2018-12-29  5.573635\n",
       "21548 2018-12-30  4.381348\n",
       "21549 2018-12-31  5.464558"
      ]
     },
     "execution_count": 7,
     "metadata": {},
     "output_type": "execute_result"
    }
   ],
   "source": [
    "df_obs_sfcWind.tail()"
   ]
  },
  {
   "cell_type": "code",
   "execution_count": 8,
   "metadata": {},
   "outputs": [
    {
     "data": {
      "text/html": [
       "<div>\n",
       "<style scoped>\n",
       "    .dataframe tbody tr th:only-of-type {\n",
       "        vertical-align: middle;\n",
       "    }\n",
       "\n",
       "    .dataframe tbody tr th {\n",
       "        vertical-align: top;\n",
       "    }\n",
       "\n",
       "    .dataframe thead th {\n",
       "        text-align: right;\n",
       "    }\n",
       "</style>\n",
       "<table border=\"1\" class=\"dataframe\">\n",
       "  <thead>\n",
       "    <tr style=\"text-align: right;\">\n",
       "      <th></th>\n",
       "      <th>init_year</th>\n",
       "      <th>member</th>\n",
       "      <th>lead</th>\n",
       "      <th>data</th>\n",
       "    </tr>\n",
       "  </thead>\n",
       "  <tbody>\n",
       "    <tr>\n",
       "      <th>0</th>\n",
       "      <td>1960</td>\n",
       "      <td>1</td>\n",
       "      <td>1</td>\n",
       "      <td>8.429288</td>\n",
       "    </tr>\n",
       "    <tr>\n",
       "      <th>1</th>\n",
       "      <td>1960</td>\n",
       "      <td>1</td>\n",
       "      <td>2</td>\n",
       "      <td>9.267500</td>\n",
       "    </tr>\n",
       "    <tr>\n",
       "      <th>2</th>\n",
       "      <td>1960</td>\n",
       "      <td>1</td>\n",
       "      <td>3</td>\n",
       "      <td>7.539931</td>\n",
       "    </tr>\n",
       "    <tr>\n",
       "      <th>3</th>\n",
       "      <td>1960</td>\n",
       "      <td>1</td>\n",
       "      <td>4</td>\n",
       "      <td>7.504783</td>\n",
       "    </tr>\n",
       "    <tr>\n",
       "      <th>4</th>\n",
       "      <td>1960</td>\n",
       "      <td>1</td>\n",
       "      <td>5</td>\n",
       "      <td>5.574239</td>\n",
       "    </tr>\n",
       "  </tbody>\n",
       "</table>\n",
       "</div>"
      ],
      "text/plain": [
       "   init_year  member  lead      data\n",
       "0       1960       1     1  8.429288\n",
       "1       1960       1     2  9.267500\n",
       "2       1960       1     3  7.539931\n",
       "3       1960       1     4  7.504783\n",
       "4       1960       1     5  5.574239"
      ]
     },
     "execution_count": 8,
     "metadata": {},
     "output_type": "execute_result"
    }
   ],
   "source": [
    "df_model_sfcWind.head()"
   ]
  },
  {
   "cell_type": "code",
   "execution_count": 9,
   "metadata": {},
   "outputs": [
    {
     "name": "stderr",
     "output_type": "stream",
     "text": [
      "Calculating bootstrap statistics:   0%|          | 1/1000 [00:00<01:49,  9.12it/s]"
     ]
    },
    {
     "name": "stderr",
     "output_type": "stream",
     "text": [
      "Calculating bootstrap statistics: 100%|██████████| 1000/1000 [01:53<00:00,  8.80it/s]\n"
     ]
    },
    {
     "data": {
      "image/png": "[encoded data removed]",
      "text/plain": [
       "<Figure size 1200x600 with 5 Axes>"
      ]
     },
     "metadata": {},
     "output_type": "display_data"
    }
   ],
   "source": [
    "# Plot the distribution of 10m wind speed\n",
    "plot_distributions_fidelity(\n",
    "    obs_df=df_obs_sfcWind,\n",
    "    model_df=df_model_ondjfm,\n",
    "    obs_val_name=\"data\",\n",
    "    model_val_name=\"data\",\n",
    "    obs_time_name=\"time\",\n",
    "    model_time_name=\"init_year\",\n",
    "    model_member_name=\"member\",\n",
    "    model_lead_name=\"lead\",\n",
    "    title=\"Distribution ONDJFM UK 10m Wind Speed (GW)\",\n",
    "    nboot=1000,\n",
    "    figsize=(12, 6),\n",
    "    fname_prefix=\"UK_10m_wind_speed_ONDJFM_fidelity\",\n",
    "    save_dir=\"/gws/nopw/j04/canari/users/benhutch/plots/unseen\",\n",
    ")"
   ]
  },
  {
   "cell_type": "markdown",
   "metadata": {},
   "source": [
    "Now fit the sigmoid"
   ]
  }
 ],
 "metadata": {
  "kernelspec": {
   "display_name": "bens-conda-env2",
   "language": "python",
   "name": "python3"
  },
  "language_info": {
   "codemirror_mode": {
    "name": "ipython",
    "version": 3
   },
   "file_extension": ".py",
   "mimetype": "text/x-python",
   "name": "python",
   "nbconvert_exporter": "python",
   "pygments_lexer": "ipython3",
   "version": "3.11.10"
  }
 },
 "nbformat": 4,
 "nbformat_minor": 2
}
