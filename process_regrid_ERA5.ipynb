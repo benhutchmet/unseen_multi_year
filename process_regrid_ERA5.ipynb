{
 "cells": [
  {
   "cell_type": "markdown",
   "metadata": {},
   "source": [
    "### ERA5 regrid + spatial avg. ###\n",
    "\n",
    "Regridding daily ERA5 data to the same resolution as HadGEM3-GC31-MM and then applying the UK landmask to get the spatial mean."
   ]
  },
  {
   "cell_type": "code",
   "execution_count": 1,
   "metadata": {},
   "outputs": [
    {
     "name": "stderr",
     "output_type": "stream",
     "text": [
      "/home/users/benhutch/.conda/envs/bens-conda-env2/lib/python3.11/site-packages/pyproj/network.py:59: UserWarning: pyproj unable to set PROJ database path.\n",
      "  _set_context_ca_bundle_path(ca_bundle_path)\n"
     ]
    }
   ],
   "source": [
    "# Local imports\n",
    "import os\n",
    "import sys\n",
    "import time\n",
    "import argparse\n",
    "\n",
    "# Third-party imports\n",
    "import numpy as np\n",
    "import xarray as xr\n",
    "import matplotlib.pyplot as plt\n",
    "import pandas as pd\n",
    "import shapely.geometry\n",
    "import cartopy.io.shapereader as shpreader\n",
    "import iris\n",
    "\n",
    "# Specific imports\n",
    "from tqdm import tqdm\n",
    "from datetime import datetime, timedelta"
   ]
  },
  {
   "cell_type": "code",
   "execution_count": 21,
   "metadata": {},
   "outputs": [],
   "source": [
    "# Load my specific functions\n",
    "sys.path.append(\"/home/users/benhutch/unseen_functions\")\n",
    "import functions as funcs\n",
    "import bias_adjust as ba"
   ]
  },
  {
   "cell_type": "code",
   "execution_count": 2,
   "metadata": {},
   "outputs": [],
   "source": [
    "# hardcode the data path\n",
    "era5_dir = \"/gws/nopw/j04/canari/users/benhutch/ERA5\"\n",
    "\n",
    "# set up the filename of the temp file to load\n",
    "temp_fname = \"ERA5_t2m_daily_1950_2020.nc\"\n",
    "\n",
    "# set up the path to the temp model file for the grid\n",
    "hadgem_fpath = \"/badc/cmip6/data/CMIP6/DCPP/MOHC/HadGEM3-GC31-MM/dcppA-hindcast/s1960-r1i1p1f2/day/sfcWind/gn/files/d20200417/sfcWind_day_HadGEM3-GC31-MM_dcppA-hindcast_s1960-r1i1p1f2_gn_19601101-19601230.nc\""
   ]
  },
  {
   "cell_type": "code",
   "execution_count": 3,
   "metadata": {},
   "outputs": [],
   "source": [
    "# load the era5 data using iris\n",
    "era5_cube = iris.load_cube(os.path.join(era5_dir, temp_fname))"
   ]
  },
  {
   "cell_type": "code",
   "execution_count": 4,
   "metadata": {},
   "outputs": [
    {
     "name": "stderr",
     "output_type": "stream",
     "text": [
      "/home/users/benhutch/.conda/envs/bens-conda-env2/lib/python3.11/site-packages/iris/fileformats/cf.py:880: IrisCfMissingVarWarning: Missing CF-netCDF measure variable 'areacella', referenced by netCDF variable 'sfcWind'\n",
      "  warnings.warn(\n"
     ]
    }
   ],
   "source": [
    "# load the hadgem data using iris\n",
    "hadgem_cube = iris.load_cube(hadgem_fpath)"
   ]
  },
  {
   "cell_type": "code",
   "execution_count": 5,
   "metadata": {},
   "outputs": [
    {
     "data": {
      "text/html": [
       "\n",
       "<style>\n",
       "  a.iris {\n",
       "      text-decoration: none !important;\n",
       "  }\n",
       "  table.iris {\n",
       "      white-space: pre;\n",
       "      border: 1px solid;\n",
       "      border-color: #9c9c9c;\n",
       "      font-family: monaco, monospace;\n",
       "  }\n",
       "  th.iris {\n",
       "      background: #303f3f;\n",
       "      color: #e0e0e0;\n",
       "      border-left: 1px solid;\n",
       "      border-color: #9c9c9c;\n",
       "      font-size: 1.05em;\n",
       "      min-width: 50px;\n",
       "      max-width: 125px;\n",
       "  }\n",
       "  tr.iris :first-child {\n",
       "      border-right: 1px solid #9c9c9c !important;\n",
       "  }\n",
       "  td.iris-title {\n",
       "      background: #d5dcdf;\n",
       "      border-top: 1px solid #9c9c9c;\n",
       "      font-weight: bold;\n",
       "  }\n",
       "  .iris-word-cell {\n",
       "      text-align: left !important;\n",
       "      white-space: pre;\n",
       "  }\n",
       "  .iris-subheading-cell {\n",
       "      padding-left: 2em !important;\n",
       "  }\n",
       "  .iris-inclusion-cell {\n",
       "      padding-right: 1em !important;\n",
       "  }\n",
       "  .iris-panel-body {\n",
       "      padding-top: 0px;\n",
       "  }\n",
       "  .iris-panel-title {\n",
       "      padding-left: 3em;\n",
       "  }\n",
       "  .iris-panel-title {\n",
       "      margin-top: 7px;\n",
       "  }\n",
       "</style>\n",
       "<table class=\"iris\" id=\"140110920073488\">\n",
       "    <tr class=\"iris\">\n",
       "<th class=\"iris iris-word-cell\">2 Metre Temperature (K)</th>\n",
       "<th class=\"iris iris-word-cell\">time</th>\n",
       "<th class=\"iris iris-word-cell\">latitude</th>\n",
       "<th class=\"iris iris-word-cell\">longitude</th>\n",
       "</tr>\n",
       "    <tr class=\"iris\">\n",
       "<td class=\"iris-word-cell iris-subheading-cell\">Shape</td>\n",
       "<td class=\"iris iris-inclusion-cell\">25933</td>\n",
       "<td class=\"iris iris-inclusion-cell\">214</td>\n",
       "<td class=\"iris iris-inclusion-cell\">304</td>\n",
       "</tr>\n",
       "    <tr class=\"iris\">\n",
       "    <td class=\"iris-title iris-word-cell\">Dimension coordinates</td>\n",
       "    <td class=\"iris-title\"></td>\n",
       "    <td class=\"iris-title\"></td>\n",
       "    <td class=\"iris-title\"></td>\n",
       "</tr>\n",
       "<tr class=\"iris\">\n",
       "    <td class=\"iris-word-cell iris-subheading-cell\">\ttime</td>\n",
       "    <td class=\"iris-inclusion-cell\">x</td>\n",
       "    <td class=\"iris-inclusion-cell\">-</td>\n",
       "    <td class=\"iris-inclusion-cell\">-</td>\n",
       "</tr>\n",
       "<tr class=\"iris\">\n",
       "    <td class=\"iris-word-cell iris-subheading-cell\">\tlatitude</td>\n",
       "    <td class=\"iris-inclusion-cell\">-</td>\n",
       "    <td class=\"iris-inclusion-cell\">x</td>\n",
       "    <td class=\"iris-inclusion-cell\">-</td>\n",
       "</tr>\n",
       "<tr class=\"iris\">\n",
       "    <td class=\"iris-word-cell iris-subheading-cell\">\tlongitude</td>\n",
       "    <td class=\"iris-inclusion-cell\">-</td>\n",
       "    <td class=\"iris-inclusion-cell\">-</td>\n",
       "    <td class=\"iris-inclusion-cell\">x</td>\n",
       "</tr>\n",
       "<tr class=\"iris\">\n",
       "    <td class=\"iris-title iris-word-cell\">Attributes</td>\n",
       "    <td class=\"iris-title\"></td>\n",
       "    <td class=\"iris-title\"></td>\n",
       "    <td class=\"iris-title\"></td>\n",
       "</tr>\n",
       "<tr class=\"iris\">\n",
       "    <td class=\"iris-word-cell iris-subheading-cell\">\tConventions</td>\n",
       "    <td class=\"iris-word-cell\" colspan=\"3\">&#x27;CF-1.6&#x27;</td>\n",
       "</tr>\n",
       "<tr class=\"iris\">\n",
       "    <td class=\"iris-word-cell iris-subheading-cell\">\thistory</td>\n",
       "    <td class=\"iris-word-cell\" colspan=\"3\">&#x27;2021-02-05 11:50:14 GMT by grib_to_netcdf-2.16.0: /opt/ecmwf/eccodes/bin/grib_to_netcdf ...&#x27;</td>\n",
       "</tr>\n",
       "</table>\n",
       "        "
      ],
      "text/plain": [
       "<iris 'Cube' of 2 metre temperature / (K) (time: 25933; latitude: 214; longitude: 304)>"
      ]
     },
     "execution_count": 5,
     "metadata": {},
     "output_type": "execute_result"
    }
   ],
   "source": [
    "era5_cube"
   ]
  },
  {
   "cell_type": "code",
   "execution_count": 6,
   "metadata": {},
   "outputs": [
    {
     "name": "stdout",
     "output_type": "stream",
     "text": [
      "ERA5 min lon:  -45.0\n",
      "ERA5 max lon:  40.219\n",
      "ERA5 min lat:  29.929733\n",
      "ERA5 max lat:  89.784874\n"
     ]
    }
   ],
   "source": [
    "# print the min and max lon and lat of the ERA5 data\n",
    "print(\"ERA5 min lon: \", era5_cube.coord('longitude').points.min())\n",
    "print(\"ERA5 max lon: \", era5_cube.coord('longitude').points.max())\n",
    "\n",
    "print(\"ERA5 min lat: \", era5_cube.coord('latitude').points.min())\n",
    "print(\"ERA5 max lat: \", era5_cube.coord('latitude').points.max())"
   ]
  },
  {
   "cell_type": "code",
   "execution_count": 7,
   "metadata": {},
   "outputs": [
    {
     "name": "stdout",
     "output_type": "stream",
     "text": [
      "HadGEM min lon:  0.4166666567325592\n",
      "HadGEM max lon:  359.58331298828125\n",
      "HadGEM min lat:  -89.72222137451172\n",
      "HadGEM max lat:  89.72223663330078\n"
     ]
    }
   ],
   "source": [
    "# print the min and max lon and lat of the hadgem data\n",
    "print(\"HadGEM min lon: \", hadgem_cube.coord('longitude').points.min())\n",
    "print(\"HadGEM max lon: \", hadgem_cube.coord('longitude').points.max())\n",
    "\n",
    "print(\"HadGEM min lat: \", hadgem_cube.coord('latitude').points.min())\n",
    "print(\"HadGEM max lat: \", hadgem_cube.coord('latitude').points.max())"
   ]
  },
  {
   "cell_type": "code",
   "execution_count": 8,
   "metadata": {},
   "outputs": [
    {
     "name": "stdout",
     "output_type": "stream",
     "text": [
      "ERA5 lon res:  0.28125083\n",
      "ERA5 lat res:  -0.28101006\n"
     ]
    }
   ],
   "source": [
    "# calculate the resolution of the ERA5 data\n",
    "lon_res = np.diff(era5_cube.coord('longitude').points).mean()\n",
    "lat_res = np.diff(era5_cube.coord('latitude').points).mean()\n",
    "\n",
    "# print the resolution of the ERA5 data and units\n",
    "print(\"ERA5 lon res: \", lon_res)\n",
    "print(\"ERA5 lat res: \", lat_res)"
   ]
  },
  {
   "cell_type": "code",
   "execution_count": 9,
   "metadata": {},
   "outputs": [
    {
     "name": "stdout",
     "output_type": "stream",
     "text": [
      "HadGEM lon res:  0.8333332861520851\n",
      "HadGEM lat res:  0.5555555975474071\n"
     ]
    }
   ],
   "source": [
    "# calculate the resolution of the HadGEM data\n",
    "lon_res = np.diff(hadgem_cube.coord('longitude').points).mean()\n",
    "lat_res = np.diff(hadgem_cube.coord('latitude').points).mean()\n",
    "\n",
    "# print the resolution of the HadGEM data and units\n",
    "print(\"HadGEM lon res: \", lon_res)\n",
    "print(\"HadGEM lat res: \", lat_res)"
   ]
  },
  {
   "cell_type": "code",
   "execution_count": 10,
   "metadata": {},
   "outputs": [],
   "source": [
    "# ensure that hadgem is in -180 to 180\n",
    "hadgem_cube = hadgem_cube.intersection(longitude=(-180, 180), latitude=(0, 90))"
   ]
  },
  {
   "cell_type": "code",
   "execution_count": 11,
   "metadata": {},
   "outputs": [],
   "source": [
    "# Europe grid to subset to\n",
    "eu_grid = {\n",
    "    \"lon1\": -40,  # degrees east\n",
    "    \"lon2\": 30,\n",
    "    \"lat1\": 30,  # degrees north\n",
    "    \"lat2\": 80,\n",
    "}"
   ]
  },
  {
   "cell_type": "code",
   "execution_count": 24,
   "metadata": {},
   "outputs": [
    {
     "name": "stdout",
     "output_type": "stream",
     "text": [
      "ERA5 min lon:  -45.0\n",
      "ERA5 max lon:  40.219\n",
      "ERA5 min lat:  29.929733\n",
      "ERA5 max lat:  89.784874\n",
      "HadGEM min lon:  -179.5833282470703\n",
      "HadGEM max lon:  179.5833282470703\n",
      "HadGEM min lat:  -0.27777099609375\n",
      "HadGEM max lat:  89.72223663330078\n"
     ]
    }
   ],
   "source": [
    "# print the min and max lon of era5cube\n",
    "print(\"ERA5 min lon: \", era5_cube.coord('longitude').points.min())\n",
    "print(\"ERA5 max lon: \", era5_cube.coord('longitude').points.max())\n",
    "\n",
    "# print the min and max lat of era5cube\n",
    "print(\"ERA5 min lat: \", era5_cube.coord('latitude').points.min())\n",
    "print(\"ERA5 max lat: \", era5_cube.coord('latitude').points.max())\n",
    "\n",
    "# print the min and max lon of hadgemcube\n",
    "print(\"HadGEM min lon: \", hadgem_cube.coord('longitude').points.min())\n",
    "print(\"HadGEM max lon: \", hadgem_cube.coord('longitude').points.max())\n",
    "\n",
    "# print the min and max lat of hadgemcube\n",
    "print(\"HadGEM min lat: \", hadgem_cube.coord('latitude').points.min())\n",
    "print(\"HadGEM max lat: \", hadgem_cube.coord('latitude').points.max())"
   ]
  },
  {
   "cell_type": "code",
   "execution_count": 25,
   "metadata": {},
   "outputs": [
    {
     "data": {
      "text/plain": [
       "{'lon1': -40, 'lon2': 30, 'lat1': 30, 'lat2': 80}"
      ]
     },
     "execution_count": 25,
     "metadata": {},
     "output_type": "execute_result"
    }
   ],
   "source": [
    "eu_grid"
   ]
  },
  {
   "cell_type": "code",
   "execution_count": 12,
   "metadata": {},
   "outputs": [],
   "source": [
    "# subset the ERA5 data to the EU grid\n",
    "era5_cube_eu = era5_cube.intersection(\n",
    "    longitude=(eu_grid[\"lon1\"], eu_grid[\"lon2\"]),\n",
    "    latitude=(eu_grid[\"lat1\"], eu_grid[\"lat2\"]),\n",
    ")\n",
    "\n",
    "# subset the HadGEM data to the EU grid\n",
    "hadgem_cube_eu = hadgem_cube.intersection(\n",
    "    longitude=(eu_grid[\"lon1\"], eu_grid[\"lon2\"]),\n",
    "    latitude=(eu_grid[\"lat1\"], eu_grid[\"lat2\"]),\n",
    ")"
   ]
  },
  {
   "cell_type": "code",
   "execution_count": 13,
   "metadata": {},
   "outputs": [],
   "source": [
    "# regrid the ERA5 data to the HadGEM grid\n",
    "era5_cube_eu_regrid = era5_cube_eu.regrid(hadgem_cube_eu, iris.analysis.Linear())"
   ]
  },
  {
   "cell_type": "code",
   "execution_count": 14,
   "metadata": {},
   "outputs": [
    {
     "data": {
      "text/html": [
       "\n",
       "<style>\n",
       "  a.iris {\n",
       "      text-decoration: none !important;\n",
       "  }\n",
       "  table.iris {\n",
       "      white-space: pre;\n",
       "      border: 1px solid;\n",
       "      border-color: #9c9c9c;\n",
       "      font-family: monaco, monospace;\n",
       "  }\n",
       "  th.iris {\n",
       "      background: #303f3f;\n",
       "      color: #e0e0e0;\n",
       "      border-left: 1px solid;\n",
       "      border-color: #9c9c9c;\n",
       "      font-size: 1.05em;\n",
       "      min-width: 50px;\n",
       "      max-width: 125px;\n",
       "  }\n",
       "  tr.iris :first-child {\n",
       "      border-right: 1px solid #9c9c9c !important;\n",
       "  }\n",
       "  td.iris-title {\n",
       "      background: #d5dcdf;\n",
       "      border-top: 1px solid #9c9c9c;\n",
       "      font-weight: bold;\n",
       "  }\n",
       "  .iris-word-cell {\n",
       "      text-align: left !important;\n",
       "      white-space: pre;\n",
       "  }\n",
       "  .iris-subheading-cell {\n",
       "      padding-left: 2em !important;\n",
       "  }\n",
       "  .iris-inclusion-cell {\n",
       "      padding-right: 1em !important;\n",
       "  }\n",
       "  .iris-panel-body {\n",
       "      padding-top: 0px;\n",
       "  }\n",
       "  .iris-panel-title {\n",
       "      padding-left: 3em;\n",
       "  }\n",
       "  .iris-panel-title {\n",
       "      margin-top: 7px;\n",
       "  }\n",
       "</style>\n",
       "<table class=\"iris\" id=\"140108630699920\">\n",
       "    <tr class=\"iris\">\n",
       "<th class=\"iris iris-word-cell\">2 Metre Temperature (K)</th>\n",
       "<th class=\"iris iris-word-cell\">time</th>\n",
       "<th class=\"iris iris-word-cell\">latitude</th>\n",
       "<th class=\"iris iris-word-cell\">longitude</th>\n",
       "</tr>\n",
       "    <tr class=\"iris\">\n",
       "<td class=\"iris-word-cell iris-subheading-cell\">Shape</td>\n",
       "<td class=\"iris iris-inclusion-cell\">25933</td>\n",
       "<td class=\"iris iris-inclusion-cell\">91</td>\n",
       "<td class=\"iris iris-inclusion-cell\">85</td>\n",
       "</tr>\n",
       "    <tr class=\"iris\">\n",
       "    <td class=\"iris-title iris-word-cell\">Dimension coordinates</td>\n",
       "    <td class=\"iris-title\"></td>\n",
       "    <td class=\"iris-title\"></td>\n",
       "    <td class=\"iris-title\"></td>\n",
       "</tr>\n",
       "<tr class=\"iris\">\n",
       "    <td class=\"iris-word-cell iris-subheading-cell\">\ttime</td>\n",
       "    <td class=\"iris-inclusion-cell\">x</td>\n",
       "    <td class=\"iris-inclusion-cell\">-</td>\n",
       "    <td class=\"iris-inclusion-cell\">-</td>\n",
       "</tr>\n",
       "<tr class=\"iris\">\n",
       "    <td class=\"iris-word-cell iris-subheading-cell\">\tlatitude</td>\n",
       "    <td class=\"iris-inclusion-cell\">-</td>\n",
       "    <td class=\"iris-inclusion-cell\">x</td>\n",
       "    <td class=\"iris-inclusion-cell\">-</td>\n",
       "</tr>\n",
       "<tr class=\"iris\">\n",
       "    <td class=\"iris-word-cell iris-subheading-cell\">\tlongitude</td>\n",
       "    <td class=\"iris-inclusion-cell\">-</td>\n",
       "    <td class=\"iris-inclusion-cell\">-</td>\n",
       "    <td class=\"iris-inclusion-cell\">x</td>\n",
       "</tr>\n",
       "<tr class=\"iris\">\n",
       "    <td class=\"iris-title iris-word-cell\">Attributes</td>\n",
       "    <td class=\"iris-title\"></td>\n",
       "    <td class=\"iris-title\"></td>\n",
       "    <td class=\"iris-title\"></td>\n",
       "</tr>\n",
       "<tr class=\"iris\">\n",
       "    <td class=\"iris-word-cell iris-subheading-cell\">\tConventions</td>\n",
       "    <td class=\"iris-word-cell\" colspan=\"3\">&#x27;CF-1.6&#x27;</td>\n",
       "</tr>\n",
       "<tr class=\"iris\">\n",
       "    <td class=\"iris-word-cell iris-subheading-cell\">\thistory</td>\n",
       "    <td class=\"iris-word-cell\" colspan=\"3\">&#x27;2021-02-05 11:50:14 GMT by grib_to_netcdf-2.16.0: /opt/ecmwf/eccodes/bin/grib_to_netcdf ...&#x27;</td>\n",
       "</tr>\n",
       "</table>\n",
       "        "
      ],
      "text/plain": [
       "<iris 'Cube' of 2 metre temperature / (K) (time: 25933; latitude: 91; longitude: 85)>"
      ]
     },
     "execution_count": 14,
     "metadata": {},
     "output_type": "execute_result"
    }
   ],
   "source": [
    "era5_cube_eu_regrid"
   ]
  },
  {
   "cell_type": "code",
   "execution_count": 15,
   "metadata": {},
   "outputs": [
    {
     "name": "stdout",
     "output_type": "stream",
     "text": [
      "ERA5 min lon:  -39.583343505859375\n",
      "ERA5 max lon:  30.41666603088379\n",
      "ERA5 min lat:  29.72222900390625\n",
      "ERA5 max lat:  79.72223663330078\n"
     ]
    }
   ],
   "source": [
    "# print the min and max lon and lat of the ERA5 data\n",
    "print(\"ERA5 min lon: \", era5_cube_eu_regrid.coord('longitude').points.min())\n",
    "print(\"ERA5 max lon: \", era5_cube_eu_regrid.coord('longitude').points.max())\n",
    "\n",
    "print(\"ERA5 min lat: \", era5_cube_eu_regrid.coord('latitude').points.min())\n",
    "print(\"ERA5 max lat: \", era5_cube_eu_regrid.coord('latitude').points.max())"
   ]
  },
  {
   "cell_type": "code",
   "execution_count": 16,
   "metadata": {},
   "outputs": [
    {
     "name": "stdout",
     "output_type": "stream",
     "text": [
      "ERA5 lon res:  0.8333334468659901\n",
      "ERA5 lat res:  0.5555556403266059\n",
      "HadGEM lon res:  0.8333333097311847\n",
      "HadGEM lat res:  0.5555556026505836\n"
     ]
    }
   ],
   "source": [
    "# print the resolution of the ERA5 data and units\n",
    "lon_res = np.diff(era5_cube_eu_regrid.coord('longitude').points).mean()\n",
    "lat_res = np.diff(era5_cube_eu_regrid.coord('latitude').points).mean()\n",
    "\n",
    "print(\"ERA5 lon res: \", lon_res)\n",
    "print(\"ERA5 lat res: \", lat_res)\n",
    "\n",
    "# print the hadgem resoltuion\n",
    "# calculate the resolution of the HadGEM data\n",
    "lon_res = np.diff(hadgem_cube.coord('longitude').points).mean()\n",
    "lat_res = np.diff(hadgem_cube.coord('latitude').points).mean()\n",
    "\n",
    "# print the resolution of the HadGEM data and units\n",
    "print(\"HadGEM lon res: \", lon_res)\n",
    "print(\"HadGEM lat res: \", lat_res)"
   ]
  },
  {
   "cell_type": "code",
   "execution_count": 17,
   "metadata": {},
   "outputs": [],
   "source": [
    "# Hardcoded variables\n",
    "model = \"CESM1-1-CAM5-CMIP5\" # Try the canadian model\n",
    "experiment = \"dcppA-hindcast\"\n",
    "freq = \"Amon\" # go back to using monthly data\n",
    "\n",
    "# Set up the arguments\n",
    "variable = \"tas\" # Obs Tas already regridded to HadGEM grid \n",
    "country = \"United Kingdom\"\n",
    "season = \"ONDJFM\"\n",
    "model_season = \"ONDJFM\"\n",
    "first_year = 1960\n",
    "last_year = 2017\n",
    "model_fcst_year = 1\n",
    "lead_year = \"1-9\" # only 1-9 for CanESM5 and MPI-ESM1-2-HR\n",
    "detrend = False # True for temperature, false for wind speeds\n",
    "bias_correct = \"None\" # No bias correction for tas months\n",
    "percentile = 10\n",
    "\n",
    "# Save directory\n",
    "save_dir = \"/gws/nopw/j04/canari/users/benhutch/plots/unseen\"\n",
    "\n",
    "# list of valid bias corrections\n",
    "valid_bias_corrections = [\n",
    "    \"None\",\n",
    "    \"linear_scaling\",\n",
    "    \"variance_scaling\",\n",
    "    \"quantile_mapping\",\n",
    "    \"quantile_delta_mapping\",\n",
    "    \"scaled_distribution_mapping\",\n",
    "]\n",
    "\n",
    "# Set up the output directory for the dfs\n",
    "output_dir_dfs = \"/gws/nopw/j04/canari/users/benhutch/unseen/saved_dfs\""
   ]
  },
  {
   "cell_type": "code",
   "execution_count": 19,
   "metadata": {},
   "outputs": [],
   "source": [
    "# if the bias correction is not in the valid bias corrections\n",
    "if bias_correct not in valid_bias_corrections:\n",
    "    raise ValueError(f\"Bias correction {bias_correct} not recognised\")\n",
    "\n",
    "# set up the obs variable depending on the variable\n",
    "if variable == \"tas\":\n",
    "    obs_var = \"t2m\"\n",
    "elif variable == \"sfcWind\":\n",
    "    obs_var = \"si10\"\n",
    "else:\n",
    "    raise ValueError(\"Variable not recognised\")\n",
    "\n",
    "# Set up the months depending on the season\n",
    "if season == \"DJF\":\n",
    "    months = [12, 1, 2]\n",
    "elif season == \"D\":\n",
    "    months = [12]\n",
    "elif season == \"NDJ\":\n",
    "    months = [11, 12, 1]\n",
    "elif season == \"OND\":\n",
    "    months = [10, 11, 12]\n",
    "elif season == \"JFM\":\n",
    "    months = [1, 2, 3]\n",
    "elif season == \"MAM\":\n",
    "    months = [3, 4, 5]\n",
    "elif season == \"JJA\":\n",
    "    months = [6, 7, 8]\n",
    "elif season == \"SON\":\n",
    "    months = [9, 10, 11]\n",
    "elif season == \"ONDJFM\":\n",
    "    months = [10, 11, 12, 1, 2, 3]\n",
    "elif season == \"NDJFM\":\n",
    "    months = [11, 12, 1, 2, 3]\n",
    "else:\n",
    "    raise ValueError(\"Season not recognised\")\n",
    "\n",
    "# Depending on the model forecast year\n",
    "# set the leads to extract from the model\n",
    "if model in [\"MPI-ESM1-2-HR\", \"HadGEM3-GC31-MM\", \"CanESM5\", \"BCC-CSM2-MR\", \"CMCC-CM2-SR5\", \"CESM1-1-CAM5-CMIP5\"]:\n",
    "    if model_fcst_year == 0 and season == \"NDJFM\":\n",
    "        lead_months = [1, 2, 3, 4, 5]\n",
    "    elif model_fcst_year == 1 and season == \"ONDJFM\":\n",
    "        lead_months = [12, 13, 14, 15, 16, 17]\n",
    "    elif model_fcst_year == 1 and season in [\"OND\", \"NDJ\", \"DJF\", \"JFM\", \"D\"]:\n",
    "        lead_months = [12, 13, 14, 15, 16, 17] # include all then subset later\n",
    "    else:\n",
    "        raise ValueError(\"Model forecast year and season not recognised\")\n",
    "elif model == \"CanESM5\":\n",
    "    if model_fcst_year == 1 and season == \"ONDJFM\":\n",
    "        lead_months = [10, 11, 12, 13, 14, 15]\n",
    "    elif model_fcst_year == 1 and season in [\"OND\", \"NDJ\", \"DJF\", \"JFM\", \"D\"]:\n",
    "        lead_months = [10, 11, 12, 13, 14, 15]\n",
    "else:\n",
    "    raise ValueError(\"Model not recognised\")"
   ]
  },
  {
   "cell_type": "code",
   "execution_count": 22,
   "metadata": {},
   "outputs": [
    {
     "name": "stdout",
     "output_type": "stream",
     "text": [
      "Found Country United Kingdom\n"
     ]
    }
   ],
   "source": [
    "# create the mask\n",
    "MASK_MATRIX = funcs.create_masked_matrix(\n",
    "    country=country,\n",
    "    cube=era5_cube_eu_regrid,\n",
    ")"
   ]
  },
  {
   "cell_type": "code",
   "execution_count": 23,
   "metadata": {},
   "outputs": [
    {
     "ename": "KeyboardInterrupt",
     "evalue": "",
     "output_type": "error",
     "traceback": [
      "\u001b[0;31m---------------------------------------------------------------------------\u001b[0m",
      "\u001b[0;31mKeyboardInterrupt\u001b[0m                         Traceback (most recent call last)",
      "File \u001b[0;32m<timed exec>:2\u001b[0m\n",
      "File \u001b[0;32m~/.conda/envs/bens-conda-env2/lib/python3.11/site-packages/iris/cube.py:2870\u001b[0m, in \u001b[0;36mCube.data\u001b[0;34m(self)\u001b[0m\n\u001b[1;32m   2837\u001b[0m \u001b[38;5;129m@property\u001b[39m\n\u001b[1;32m   2838\u001b[0m \u001b[38;5;28;01mdef\u001b[39;00m \u001b[38;5;21mdata\u001b[39m(\u001b[38;5;28mself\u001b[39m) \u001b[38;5;241m-\u001b[39m\u001b[38;5;241m>\u001b[39m np\u001b[38;5;241m.\u001b[39mndarray:\n\u001b[1;32m   2839\u001b[0m \u001b[38;5;250m    \u001b[39m\u001b[38;5;124;03m\"\"\"The :class:`numpy.ndarray` representing the multi-dimensional data of the cube.\u001b[39;00m\n\u001b[1;32m   2840\u001b[0m \n\u001b[1;32m   2841\u001b[0m \u001b[38;5;124;03m    Notes\u001b[39;00m\n\u001b[0;32m   (...)\u001b[0m\n\u001b[1;32m   2868\u001b[0m \n\u001b[1;32m   2869\u001b[0m \u001b[38;5;124;03m    \"\"\"\u001b[39;00m\n\u001b[0;32m-> 2870\u001b[0m     \u001b[38;5;28;01mreturn\u001b[39;00m \u001b[38;5;28;43mself\u001b[39;49m\u001b[38;5;241;43m.\u001b[39;49m\u001b[43m_data_manager\u001b[49m\u001b[38;5;241;43m.\u001b[39;49m\u001b[43mdata\u001b[49m\n",
      "File \u001b[0;32m~/.conda/envs/bens-conda-env2/lib/python3.11/site-packages/iris/_data_manager.py:184\u001b[0m, in \u001b[0;36mDataManager.data\u001b[0;34m(self)\u001b[0m\n\u001b[1;32m    181\u001b[0m \u001b[38;5;28;01mif\u001b[39;00m \u001b[38;5;28mself\u001b[39m\u001b[38;5;241m.\u001b[39mhas_lazy_data():\n\u001b[1;32m    182\u001b[0m     \u001b[38;5;28;01mtry\u001b[39;00m:\n\u001b[1;32m    183\u001b[0m         \u001b[38;5;66;03m# Realise the lazy data.\u001b[39;00m\n\u001b[0;32m--> 184\u001b[0m         result \u001b[38;5;241m=\u001b[39m \u001b[43mas_concrete_data\u001b[49m\u001b[43m(\u001b[49m\u001b[38;5;28;43mself\u001b[39;49m\u001b[38;5;241;43m.\u001b[39;49m\u001b[43m_lazy_array\u001b[49m\u001b[43m)\u001b[49m\n\u001b[1;32m    185\u001b[0m         \u001b[38;5;66;03m# Assign the realised result.\u001b[39;00m\n\u001b[1;32m    186\u001b[0m         \u001b[38;5;28mself\u001b[39m\u001b[38;5;241m.\u001b[39m_real_array \u001b[38;5;241m=\u001b[39m result\n",
      "File \u001b[0;32m~/.conda/envs/bens-conda-env2/lib/python3.11/site-packages/iris/_lazy_data.py:352\u001b[0m, in \u001b[0;36mas_concrete_data\u001b[0;34m(data)\u001b[0m\n\u001b[1;32m    333\u001b[0m \u001b[38;5;250m\u001b[39m\u001b[38;5;124;03m\"\"\"Return the actual content of a lazy array, as a numpy array.\u001b[39;00m\n\u001b[1;32m    334\u001b[0m \n\u001b[1;32m    335\u001b[0m \u001b[38;5;124;03mReturn the actual content of a lazy array, as a numpy array.\u001b[39;00m\n\u001b[0;32m   (...)\u001b[0m\n\u001b[1;32m    349\u001b[0m \n\u001b[1;32m    350\u001b[0m \u001b[38;5;124;03m\"\"\"\u001b[39;00m\n\u001b[1;32m    351\u001b[0m \u001b[38;5;28;01mif\u001b[39;00m is_lazy_data(data):\n\u001b[0;32m--> 352\u001b[0m     (data,) \u001b[38;5;241m=\u001b[39m \u001b[43m_co_realise_lazy_arrays\u001b[49m\u001b[43m(\u001b[49m\u001b[43m[\u001b[49m\u001b[43mdata\u001b[49m\u001b[43m]\u001b[49m\u001b[43m)\u001b[49m\n\u001b[1;32m    354\u001b[0m \u001b[38;5;28;01mreturn\u001b[39;00m data\n",
      "File \u001b[0;32m~/.conda/envs/bens-conda-env2/lib/python3.11/site-packages/iris/_lazy_data.py:313\u001b[0m, in \u001b[0;36m_co_realise_lazy_arrays\u001b[0;34m(arrays)\u001b[0m\n\u001b[1;32m    299\u001b[0m \u001b[38;5;28;01mdef\u001b[39;00m \u001b[38;5;21m_co_realise_lazy_arrays\u001b[39m(arrays):\n\u001b[1;32m    300\u001b[0m \u001b[38;5;250m    \u001b[39m\u001b[38;5;124;03m\"\"\"Compute multiple lazy arrays and return a list of real values.\u001b[39;00m\n\u001b[1;32m    301\u001b[0m \n\u001b[1;32m    302\u001b[0m \u001b[38;5;124;03m    All the arrays are computed together, so they can share results for common\u001b[39;00m\n\u001b[0;32m   (...)\u001b[0m\n\u001b[1;32m    311\u001b[0m \n\u001b[1;32m    312\u001b[0m \u001b[38;5;124;03m    \"\"\"\u001b[39;00m\n\u001b[0;32m--> 313\u001b[0m     computed_arrays \u001b[38;5;241m=\u001b[39m \u001b[43mda\u001b[49m\u001b[38;5;241;43m.\u001b[39;49m\u001b[43mcompute\u001b[49m\u001b[43m(\u001b[49m\u001b[38;5;241;43m*\u001b[39;49m\u001b[43marrays\u001b[49m\u001b[43m)\u001b[49m\n\u001b[1;32m    314\u001b[0m     results \u001b[38;5;241m=\u001b[39m []\n\u001b[1;32m    315\u001b[0m     \u001b[38;5;28;01mfor\u001b[39;00m lazy_in, real_out \u001b[38;5;129;01min\u001b[39;00m \u001b[38;5;28mzip\u001b[39m(arrays, computed_arrays):\n\u001b[1;32m    316\u001b[0m         \u001b[38;5;66;03m# Ensure we always have arrays.\u001b[39;00m\n\u001b[1;32m    317\u001b[0m         \u001b[38;5;66;03m# Note : in some cases dask (and numpy) will return a scalar\u001b[39;00m\n\u001b[1;32m    318\u001b[0m         \u001b[38;5;66;03m# numpy.int/numpy.float object rather than an ndarray.\u001b[39;00m\n\u001b[1;32m    319\u001b[0m         \u001b[38;5;66;03m# Recorded in https://github.com/dask/dask/issues/2111.\u001b[39;00m\n",
      "File \u001b[0;32m~/.conda/envs/bens-conda-env2/lib/python3.11/site-packages/dask/base.py:660\u001b[0m, in \u001b[0;36mcompute\u001b[0;34m(traverse, optimize_graph, scheduler, get, *args, **kwargs)\u001b[0m\n\u001b[1;32m    657\u001b[0m     postcomputes\u001b[38;5;241m.\u001b[39mappend(x\u001b[38;5;241m.\u001b[39m__dask_postcompute__())\n\u001b[1;32m    659\u001b[0m \u001b[38;5;28;01mwith\u001b[39;00m shorten_traceback():\n\u001b[0;32m--> 660\u001b[0m     results \u001b[38;5;241m=\u001b[39m \u001b[43mschedule\u001b[49m\u001b[43m(\u001b[49m\u001b[43mdsk\u001b[49m\u001b[43m,\u001b[49m\u001b[43m \u001b[49m\u001b[43mkeys\u001b[49m\u001b[43m,\u001b[49m\u001b[43m \u001b[49m\u001b[38;5;241;43m*\u001b[39;49m\u001b[38;5;241;43m*\u001b[39;49m\u001b[43mkwargs\u001b[49m\u001b[43m)\u001b[49m\n\u001b[1;32m    662\u001b[0m \u001b[38;5;28;01mreturn\u001b[39;00m repack([f(r, \u001b[38;5;241m*\u001b[39ma) \u001b[38;5;28;01mfor\u001b[39;00m r, (f, a) \u001b[38;5;129;01min\u001b[39;00m \u001b[38;5;28mzip\u001b[39m(results, postcomputes)])\n",
      "File \u001b[0;32m~/.conda/envs/bens-conda-env2/lib/python3.11/queue.py:171\u001b[0m, in \u001b[0;36mQueue.get\u001b[0;34m(self, block, timeout)\u001b[0m\n\u001b[1;32m    169\u001b[0m \u001b[38;5;28;01melif\u001b[39;00m timeout \u001b[38;5;129;01mis\u001b[39;00m \u001b[38;5;28;01mNone\u001b[39;00m:\n\u001b[1;32m    170\u001b[0m     \u001b[38;5;28;01mwhile\u001b[39;00m \u001b[38;5;129;01mnot\u001b[39;00m \u001b[38;5;28mself\u001b[39m\u001b[38;5;241m.\u001b[39m_qsize():\n\u001b[0;32m--> 171\u001b[0m         \u001b[38;5;28;43mself\u001b[39;49m\u001b[38;5;241;43m.\u001b[39;49m\u001b[43mnot_empty\u001b[49m\u001b[38;5;241;43m.\u001b[39;49m\u001b[43mwait\u001b[49m\u001b[43m(\u001b[49m\u001b[43m)\u001b[49m\n\u001b[1;32m    172\u001b[0m \u001b[38;5;28;01melif\u001b[39;00m timeout \u001b[38;5;241m<\u001b[39m \u001b[38;5;241m0\u001b[39m:\n\u001b[1;32m    173\u001b[0m     \u001b[38;5;28;01mraise\u001b[39;00m \u001b[38;5;167;01mValueError\u001b[39;00m(\u001b[38;5;124m\"\u001b[39m\u001b[38;5;124m'\u001b[39m\u001b[38;5;124mtimeout\u001b[39m\u001b[38;5;124m'\u001b[39m\u001b[38;5;124m must be a non-negative number\u001b[39m\u001b[38;5;124m\"\u001b[39m)\n",
      "File \u001b[0;32m~/.conda/envs/bens-conda-env2/lib/python3.11/threading.py:327\u001b[0m, in \u001b[0;36mCondition.wait\u001b[0;34m(self, timeout)\u001b[0m\n\u001b[1;32m    325\u001b[0m \u001b[38;5;28;01mtry\u001b[39;00m:    \u001b[38;5;66;03m# restore state no matter what (e.g., KeyboardInterrupt)\u001b[39;00m\n\u001b[1;32m    326\u001b[0m     \u001b[38;5;28;01mif\u001b[39;00m timeout \u001b[38;5;129;01mis\u001b[39;00m \u001b[38;5;28;01mNone\u001b[39;00m:\n\u001b[0;32m--> 327\u001b[0m         \u001b[43mwaiter\u001b[49m\u001b[38;5;241;43m.\u001b[39;49m\u001b[43macquire\u001b[49m\u001b[43m(\u001b[49m\u001b[43m)\u001b[49m\n\u001b[1;32m    328\u001b[0m         gotit \u001b[38;5;241m=\u001b[39m \u001b[38;5;28;01mTrue\u001b[39;00m\n\u001b[1;32m    329\u001b[0m     \u001b[38;5;28;01melse\u001b[39;00m:\n",
      "\u001b[0;31mKeyboardInterrupt\u001b[0m: "
     ]
    }
   ],
   "source": [
    "%%time\n",
    "\n",
    "# apply the mask to the observed data\n",
    "obs_values = era5_cube_eu_regrid.data * MASK_MATRIX"
   ]
  }
 ],
 "metadata": {
  "kernelspec": {
   "display_name": "bens-conda-env2",
   "language": "python",
   "name": "python3"
  },
  "language_info": {
   "codemirror_mode": {
    "name": "ipython",
    "version": 3
   },
   "file_extension": ".py",
   "mimetype": "text/x-python",
   "name": "python",
   "nbconvert_exporter": "python",
   "pygments_lexer": "ipython3",
   "version": "3.11.10"
  }
 },
 "nbformat": 4,
 "nbformat_minor": 2
}
